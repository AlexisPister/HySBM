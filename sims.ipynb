{
 "cells": [
  {
   "cell_type": "code",
   "execution_count": 184,
   "id": "0dd6974a-79aa-402f-b474-1c8faa46fe44",
   "metadata": {
    "tags": []
   },
   "outputs": [],
   "source": [
    "import json\n",
    "import math\n",
    "import networkx as nx\n",
    "import pandas as pd\n",
    "import altair as alt\n",
    "import numpy as np\n",
    "from scipy import stats\n",
    "from scipy.optimize import curve_fit\n",
    "import distfit\n",
    "import os\n",
    "\n",
    "from generator_v2 import Generator"
   ]
  },
  {
   "cell_type": "code",
   "execution_count": 4,
   "id": "24e2f49c-26d3-492e-b1d9-6594e8c2d340",
   "metadata": {
    "tags": []
   },
   "outputs": [
    {
     "data": {
      "text/plain": [
       "DataTransformerRegistry.enable('vegafusion')"
      ]
     },
     "execution_count": 4,
     "metadata": {},
     "output_type": "execute_result"
    }
   ],
   "source": [
    "alt.data_transformers.enable(\"vegafusion\")"
   ]
  },
  {
   "cell_type": "code",
   "execution_count": 5,
   "id": "2bb64ce8-04a7-4fde-8248-5939dbdeb088",
   "metadata": {
    "tags": []
   },
   "outputs": [],
   "source": [
    "COLOR = \"#99d8c9\""
   ]
  },
  {
   "cell_type": "code",
   "execution_count": 6,
   "id": "5a227afe-303a-43da-8583-e377e99a6efe",
   "metadata": {
    "tags": []
   },
   "outputs": [
    {
     "data": {
      "text/plain": [
       "'5.1.2'"
      ]
     },
     "execution_count": 6,
     "metadata": {},
     "output_type": "execute_result"
    }
   ],
   "source": [
    "alt.__version__"
   ]
  },
  {
   "cell_type": "code",
   "execution_count": 7,
   "id": "32fc2e17-c502-408d-af71-a9a850e9cfca",
   "metadata": {},
   "outputs": [],
   "source": [
    "# define the theme by returning the dictionary of configurations\n",
    "\n",
    "font = \"monospace\"\n",
    "# Axes\n",
    "axisColor = \"#000000\"\n",
    "gridColor = \"#DEDDDD\"\n",
    "# Colors\n",
    "main_palette = [\"#1696d2\", \n",
    "                \"#d2d2d2\",\n",
    "                \"#000000\", \n",
    "                \"#fdbf11\", \n",
    "                \"#ec008b\", \n",
    "                \"#55b748\", \n",
    "                \"#5c5859\", \n",
    "                \"#db2b27\", \n",
    "               ]\n",
    "sequential_palette = [\"black\", \n",
    "                      \"#a2d4ec\", \n",
    "                      \"#73bfe2\", \n",
    "                      \"#46abdb\", \n",
    "                      \"#1696d2\", \n",
    "                      \"#12719e\", \n",
    "                     ]\n",
    "\n",
    "\n",
    "# markColor = \"#8856a7\"\n",
    "# markColor = \"#6a51a3\"\n",
    "markColor = \"#9ebcda\"\n",
    "\n",
    "# Define custom color schemes for ordinal and categorical data\n",
    "categorical_color_scheme = ['red', 'green', 'blue', 'purple', 'orange']\n",
    "ordinal_color_scheme = [\"#fcfbfd\",\n",
    "\"#efedf5\",\n",
    "\"#dadaeb\",\n",
    "\"#bcbddc\",\n",
    "\"#9e9ac8\",\n",
    "\"#807dba\",\n",
    "\"#6a51a3\",\n",
    "\"#4a1486\"]\n",
    "\n",
    "\n",
    "def simple_theme():\n",
    "    return {\n",
    "        'config': {\n",
    "            'view': {\n",
    "                'height': 300,\n",
    "                'width': 300,\n",
    "            },\n",
    "            \"title\": {\n",
    "                    \"fontSize\": 18,\n",
    "                    \"font\": font,\n",
    "                    \"anchor\": \"start\", # equivalent of left-aligned.\n",
    "                    \"fontColor\": \"#000000\"\n",
    "                },\n",
    "            \"facet\": {\n",
    "                \"labelFontSize\": 16,\n",
    "                \"titleFontSize\": 20  # Adjust the fontsize as needed\n",
    "            },\n",
    "            \"axisX\": {\n",
    "                    \"labelFont\": font,\n",
    "                    \"labelFontSize\": 16,\n",
    "                    \"titleFontSize\": 20,\n",
    "                    \"grid\": False,\n",
    "                },\n",
    "                \"axisY\": {\n",
    "                    \"domain\": False,\n",
    "                    \"grid\": False,\n",
    "                    \"labelFont\": font,\n",
    "                    \"labelFontSize\": 16,\n",
    "                    \"titleFontSize\": 20,\n",
    "                },\n",
    "            'mark': {\n",
    "                'color': markColor,\n",
    "                'fill': markColor\n",
    "            },\n",
    "            \"line\": {\n",
    "                \"fill\": None,\n",
    "               \"stroke\": \"black\",\n",
    "           },\n",
    "            # \"range\": {\n",
    "            #         \"category\": categorical_color_scheme,\n",
    "            #         \"ordinal\": ordinal_color_scheme,\n",
    "            #         \"diverging\": sequential_palette,\n",
    "            #     },\n",
    "            \"scale\": {\"color\": {\"scheme\": \"blue\"}},\n",
    "            \"legend\": {\n",
    "\n",
    "                \"titleFontSize\": 20,\n",
    "                \"labelFontSize\": 16\n",
    "            }            \n",
    "        }\n",
    "    }"
   ]
  },
  {
   "cell_type": "code",
   "execution_count": 8,
   "id": "e3c371ce-4db1-4277-8cc3-b7b8fcaab7c2",
   "metadata": {},
   "outputs": [
    {
     "data": {
      "text/plain": [
       "ThemeRegistry.enable('theme')"
      ]
     },
     "execution_count": 8,
     "metadata": {},
     "output_type": "execute_result"
    }
   ],
   "source": [
    "# alt.themes.register(\"theme\", theme)\n",
    "alt.themes.register(\"theme\", simple_theme)\n",
    "alt.themes.enable(\"theme\")"
   ]
  },
  {
   "cell_type": "code",
   "execution_count": 9,
   "id": "e167c12f-3e17-4364-849b-c66661297eb2",
   "metadata": {},
   "outputs": [],
   "source": [
    "# Set the ggplot2 theme\n",
    "#alt.themes.enable(\"ggplot2\")"
   ]
  },
  {
   "cell_type": "code",
   "execution_count": 10,
   "id": "2ea0d304-4929-4e6d-b125-7d81bb5d235c",
   "metadata": {},
   "outputs": [
    {
     "data": {
      "text/plain": [
       "ThemeRegistry(active='theme', registered=['dark', 'default', 'excel', 'fivethirtyeight', 'ggplot2', 'googlecharts', 'latimes', 'none', 'opaque', 'powerbi', 'quartz', 'theme', 'urbaninstitute', 'vox'])"
      ]
     },
     "execution_count": 10,
     "metadata": {},
     "output_type": "execute_result"
    }
   ],
   "source": [
    "alt.themes"
   ]
  },
  {
   "cell_type": "code",
   "execution_count": 11,
   "id": "600173db-fff0-4485-8e98-d81cf3eb39c3",
   "metadata": {
    "tags": []
   },
   "outputs": [],
   "source": [
    "# Essayer avec 1000 pour voir max(n1, n2) / n1 + n2\"\n",
    "N = 1000\n",
    "# N_edges = N // 2\n",
    "# Tester plusierus valeurs d'aretes (50, 100, 200), pour la fraction des hyperaretes\n",
    "N_edges = 200\n",
    "\n",
    "# Last value is the one used for most simulations\n",
    "# N_EDGES = [50, 100, 200, 500, 300]\n",
    "# N_EDGES = [300]\n",
    "# N_EDGES = [100, 200, 300, 500]\n",
    "Ns = [200, 300, 500, 700, 1000, 2000]\n",
    "\n",
    "\n",
    "N_coms = 4\n",
    "sampling_strat = \"weighted\"\n",
    "# sampling_strat = \"max\"\n",
    "p = 30/N\n",
    "q = 3/N"
   ]
  },
  {
   "cell_type": "code",
   "execution_count": 12,
   "id": "f04fce51-9ee6-405f-818f-4abdc6587d18",
   "metadata": {},
   "outputs": [],
   "source": [
    "community_array = [0 for x in range(N//2)]  + [1 for x in range(N//2)]"
   ]
  },
  {
   "cell_type": "code",
   "execution_count": 13,
   "id": "bf7c6f67-9fc3-4668-895a-e1ee613a7815",
   "metadata": {},
   "outputs": [
    {
     "data": {
      "text/plain": [
       "1000"
      ]
     },
     "execution_count": 13,
     "metadata": {},
     "output_type": "execute_result"
    }
   ],
   "source": [
    "len(community_array)"
   ]
  },
  {
   "cell_type": "markdown",
   "id": "dc6363fe-ac54-4a23-a955-64a9382f4119",
   "metadata": {
    "tags": []
   },
   "source": [
    "# Node Degree Multi Simulation"
   ]
  },
  {
   "cell_type": "code",
   "execution_count": 16,
   "id": "6200de54-af55-4767-85df-83bda437c47c",
   "metadata": {},
   "outputs": [],
   "source": [
    "N_sim = 20"
   ]
  },
  {
   "cell_type": "code",
   "execution_count": 17,
   "id": "4218c4e8-f9c2-419e-ab70-117505d87d85",
   "metadata": {
    "scrolled": true,
    "tags": []
   },
   "outputs": [
    {
     "ename": "KeyboardInterrupt",
     "evalue": "",
     "output_type": "error",
     "traceback": [
      "\u001b[0;31m---------------------------------------------------------------------------\u001b[0m",
      "\u001b[0;31mKeyboardInterrupt\u001b[0m                         Traceback (most recent call last)",
      "Cell \u001b[0;32mIn[17], line 4\u001b[0m\n\u001b[1;32m      2\u001b[0m \u001b[38;5;28;01mfor\u001b[39;00m i \u001b[38;5;129;01min\u001b[39;00m \u001b[38;5;28mrange\u001b[39m(N_sim):\n\u001b[1;32m      3\u001b[0m     gen \u001b[38;5;241m=\u001b[39m Generator(N, N \u001b[38;5;241m/\u001b[39m\u001b[38;5;241m/\u001b[39m \u001b[38;5;241m2\u001b[39m, N_coms, \u001b[38;5;241m20\u001b[39m\u001b[38;5;241m/\u001b[39mN, \u001b[38;5;241m3\u001b[39m\u001b[38;5;241m/\u001b[39mN, community_array, sampling_strat)\n\u001b[0;32m----> 4\u001b[0m     \u001b[43mgen\u001b[49m\u001b[38;5;241;43m.\u001b[39;49m\u001b[43mrun\u001b[49m\u001b[43m(\u001b[49m\u001b[43m)\u001b[49m\n\u001b[1;32m      5\u001b[0m     degrees \u001b[38;5;241m=\u001b[39m \u001b[38;5;28mdict\u001b[39m(gen\u001b[38;5;241m.\u001b[39mdegrees())\u001b[38;5;241m.\u001b[39mvalues()\n\u001b[1;32m      6\u001b[0m     degrees_df \u001b[38;5;241m=\u001b[39m pd\u001b[38;5;241m.\u001b[39mDataFrame(degrees, columns\u001b[38;5;241m=\u001b[39m[\u001b[38;5;124m\"\u001b[39m\u001b[38;5;124mdegree\u001b[39m\u001b[38;5;124m\"\u001b[39m])\n",
      "File \u001b[0;32m~/Projets/hypergraph-SBM/generator_v2.py:111\u001b[0m, in \u001b[0;36mGenerator.run\u001b[0;34m(self)\u001b[0m\n\u001b[1;32m    100\u001b[0m hyperedge \u001b[38;5;241m=\u001b[39m []\n\u001b[1;32m    101\u001b[0m \u001b[38;5;28;01mfor\u001b[39;00m node \u001b[38;5;129;01min\u001b[39;00m nodes:\n\u001b[1;32m    102\u001b[0m     \u001b[38;5;66;03m# self.run_fixed_proba(node, hyperedge, nodes)\u001b[39;00m\n\u001b[1;32m    103\u001b[0m \n\u001b[0;32m   (...)\u001b[0m\n\u001b[1;32m    108\u001b[0m     \u001b[38;5;66;03m#     hyperedge.append(node)\u001b[39;00m\n\u001b[1;32m    109\u001b[0m     \u001b[38;5;66;03m#     continue\u001b[39;00m\n\u001b[0;32m--> 111\u001b[0m     \u001b[38;5;28mself\u001b[39m\u001b[38;5;241m.\u001b[39madd_node_in_hyperedge(node, hyperedge)\n\u001b[1;32m    113\u001b[0m hid \u001b[38;5;241m=\u001b[39m \u001b[38;5;28mself\u001b[39m\u001b[38;5;241m.\u001b[39mcreate_hyperedge()\n\u001b[1;32m    114\u001b[0m \u001b[38;5;28;01mfor\u001b[39;00m n \u001b[38;5;129;01min\u001b[39;00m hyperedge:\n",
      "\u001b[0;31mKeyboardInterrupt\u001b[0m: "
     ]
    }
   ],
   "source": [
    "df_sim = pd.DataFrame(columns=[\"count\", \"simNumber\"], dtype=int)\n",
    "for i in range(N_sim):\n",
    "    gen = Generator(N, N // 2, N_coms, 20/N, 3/N, community_array, sampling_strat)\n",
    "    gen.run()\n",
    "    degrees = dict(gen.degrees()).values()\n",
    "    degrees_df = pd.DataFrame(degrees, columns=[\"degree\"])\n",
    "\n",
    "    countdf = degrees_df.groupby(['degree'])['degree'].count()\n",
    "    countdf = countdf.to_frame().rename(columns={\"degree\": \"count\"})\n",
    "    countdf[\"simNumber\"] = i\n",
    "    \n",
    "    df_sim = pd.concat([df_sim, countdf])"
   ]
  },
  {
   "cell_type": "code",
   "execution_count": null,
   "id": "0bc81b3f-6891-43ee-bbb6-4afa87e3d1e6",
   "metadata": {
    "tags": []
   },
   "outputs": [],
   "source": [
    "df_sim = df_sim.reset_index(names=\"degree\")\n",
    "# df_sim.rename(columns={}"
   ]
  },
  {
   "cell_type": "code",
   "execution_count": null,
   "id": "80c92f85-c0b1-4b3d-97b3-1ef24d673564",
   "metadata": {
    "tags": []
   },
   "outputs": [],
   "source": [
    "df_sim"
   ]
  },
  {
   "cell_type": "code",
   "execution_count": null,
   "id": "36720d31-24e5-44b7-b37f-0213c33eccd3",
   "metadata": {},
   "outputs": [],
   "source": [
    "bars = alt.Chart(df_sim).mark_bar(color=COLOR).encode(\n",
    "    alt.X(\"degree:Q\", scale=alt.Scale(domain=[0, 18])),\n",
    "    alt.Y(\"mean(count):Q\"),\n",
    ")"
   ]
  },
  {
   "cell_type": "code",
   "execution_count": null,
   "id": "55662947-c864-4a9e-b274-3453601ac0e0",
   "metadata": {},
   "outputs": [],
   "source": [
    "error = alt.Chart(df_sim).mark_errorbar(extent=\"ci\", rule=True).encode(\n",
    "    x=alt.X(\"degree:Q\", scale=alt.Scale(domain=[0, 18])),\n",
    "    y=alt.Y(\n",
    "        \"count:Q\",\n",
    "        scale=alt.Scale(zero=False),\n",
    "        title=\"Absolute Frequency\"\n",
    "    ),\n",
    ")"
   ]
  },
  {
   "cell_type": "code",
   "execution_count": null,
   "id": "b1c2aee7-901a-4c93-9fc1-75f553b518bd",
   "metadata": {},
   "outputs": [],
   "source": [
    "bars + error"
   ]
  },
  {
   "cell_type": "markdown",
   "id": "0121f300-0d8a-4b5e-abba-0c257ecf8000",
   "metadata": {
    "tags": []
   },
   "source": [
    "# Hyperedge Size"
   ]
  },
  {
   "cell_type": "markdown",
   "id": "56b6d95c-2d72-4744-a8d9-aea68f0c0dc0",
   "metadata": {
    "tags": []
   },
   "source": [
    "## Hyperedge Sim"
   ]
  },
  {
   "cell_type": "code",
   "execution_count": null,
   "id": "d52e1106-d174-4b7a-84d5-9c52327938d2",
   "metadata": {},
   "outputs": [],
   "source": [
    "df_sim = pd.DataFrame(columns=[\"count\", \"simNumber\"], dtype=int)\n",
    "for i in range(N_sim):\n",
    "    gen = Generator(N, N_edges, N_coms, p, q, community_array, sampling_strat)\n",
    "    gen.run()\n",
    "    hsizes = dict(gen.hyperedge_sizes()).values()\n",
    "    hsizes_df = pd.DataFrame(hsizes, columns=[\"hsize\"])\n",
    "\n",
    "    countdf = hsizes_df.groupby(['hsize'])['hsize'].count()\n",
    "    countdf = countdf.to_frame().rename(columns={\"hsize\": \"count\"})\n",
    "    countdf[\"simNumber\"] = i\n",
    "    \n",
    "    df_sim = pd.concat([df_sim, countdf])"
   ]
  },
  {
   "cell_type": "code",
   "execution_count": null,
   "id": "bda2bf55-5fc7-4b59-9372-2631a378a5f0",
   "metadata": {},
   "outputs": [],
   "source": [
    "df_sim = df_sim.reset_index(names=\"hsize\")"
   ]
  },
  {
   "cell_type": "code",
   "execution_count": null,
   "id": "884e67fa-e42d-4e68-9183-9a6426ed7aee",
   "metadata": {},
   "outputs": [],
   "source": [
    "df_sim.head()"
   ]
  },
  {
   "cell_type": "code",
   "execution_count": null,
   "id": "edd8cc06-adfc-4d02-acd8-ab5d8dba1073",
   "metadata": {},
   "outputs": [],
   "source": [
    "bars = alt.Chart(df_sim).mark_bar(color=COLOR).encode(\n",
    "    alt.X(\"hsize:Q\", scale=alt.Scale(domain=[0, 25]), title=\"Hyperedge Size\"),\n",
    "    alt.Y(\"mean(count):Q\"),\n",
    ")\n",
    "\n",
    "error = alt.Chart(df_sim).mark_errorbar(extent=\"ci\", rule=True).encode(\n",
    "    x=alt.X(\"hsize:Q\", scale=alt.Scale(domain=[0, 25])),\n",
    "    y=alt.Y(\n",
    "        \"count:Q\",\n",
    "        scale=alt.Scale(zero=False),\n",
    "        title=\"Absolute Frequency\"\n",
    "    ),\n",
    ")"
   ]
  },
  {
   "cell_type": "code",
   "execution_count": null,
   "id": "4ead9432-7487-43ef-9f04-ecfea155625a",
   "metadata": {},
   "outputs": [],
   "source": [
    "bars + error"
   ]
  },
  {
   "cell_type": "markdown",
   "id": "837e2f3f-71b2-4a26-923a-b67b091b6afc",
   "metadata": {},
   "source": [
    "# Fraction Dist"
   ]
  },
  {
   "cell_type": "code",
   "execution_count": 65,
   "id": "45d82bbc-e047-49fd-9821-414bd4c94f8a",
   "metadata": {},
   "outputs": [],
   "source": [
    "# Faire pareil sur 100/1000 réseaux\n",
    "# Accumuler la liste des degrées/hsize\n",
    "# Une value de p/q => plusieurs simulations => faire le fit la dessus"
   ]
  },
  {
   "cell_type": "code",
   "execution_count": 66,
   "id": "a618dba0-c59f-4193-ad68-7ab13a538a60",
   "metadata": {},
   "outputs": [],
   "source": [
    "p_init = 30 / N\n",
    "q_init = 30 / N"
   ]
  },
  {
   "cell_type": "code",
   "execution_count": 67,
   "id": "afe99831-cabe-49e1-820e-64e6915df881",
   "metadata": {},
   "outputs": [
    {
     "data": {
      "text/plain": [
       "0.03"
      ]
     },
     "execution_count": 67,
     "metadata": {},
     "output_type": "execute_result"
    }
   ],
   "source": [
    "q_init"
   ]
  },
  {
   "cell_type": "code",
   "execution_count": 68,
   "id": "3806ea8d-1473-4a54-8776-bb137dc97956",
   "metadata": {},
   "outputs": [],
   "source": [
    "def fit_function(x, n, p):\n",
    "    return stats.binom.pmf(x, n, p)"
   ]
  },
  {
   "cell_type": "code",
   "execution_count": 69,
   "id": "ab3d6ebc-e965-45a1-82cd-ea3d786816e5",
   "metadata": {},
   "outputs": [],
   "source": [
    "qs = np.arange(0, 1.01, 0.10)\n",
    "# qs = np.append(qs, [0.95, 0.99])\n",
    "qs = np.append(qs, [0.01, 0.05])"
   ]
  },
  {
   "cell_type": "code",
   "execution_count": 70,
   "id": "7bbdcfd9-1338-4eb3-8a97-c5192e171233",
   "metadata": {},
   "outputs": [
    {
     "data": {
      "text/plain": [
       "array([0.  , 0.1 , 0.2 , 0.3 , 0.4 , 0.5 , 0.6 , 0.7 , 0.8 , 0.9 , 1.  ,\n",
       "       0.01, 0.05])"
      ]
     },
     "execution_count": 70,
     "metadata": {},
     "output_type": "execute_result"
    }
   ],
   "source": [
    "qs"
   ]
  },
  {
   "cell_type": "code",
   "execution_count": 71,
   "id": "887edae0-c72e-4b60-a959-e67f89839af8",
   "metadata": {},
   "outputs": [],
   "source": [
    "fits_N = 1000\n",
    "fits_strat = \"weighted\""
   ]
  },
  {
   "cell_type": "markdown",
   "id": "7ca22866-ddb9-4e1c-8a61-1eb93b802515",
   "metadata": {},
   "source": [
    "## SIMULATIONS HERE"
   ]
  },
  {
   "cell_type": "code",
   "execution_count": null,
   "id": "cfb6896c-a3e1-41d1-aed5-998f5b5dc869",
   "metadata": {
    "tags": []
   },
   "outputs": [],
   "source": [
    "p = p_init\n",
    "q = q_init\n",
    "\n",
    "df_degrees = pd.DataFrame(columns=[\"degree\"], dtype=int)\n",
    "df_hsizes = pd.DataFrame(columns=[\"hsize\"], dtype=int)\n",
    "\n",
    "df_sim = pd.DataFrame(columns=[\"sim\", \"type\", \"count\"], dtype=int)\n",
    "df_fraction = pd.DataFrame(columns=[\"sim\", \"count\", \"fraction0\"], dtype=int)\n",
    "df_fraction2 = pd.DataFrame(columns=[\"sim\", \"value\"])\n",
    "\n",
    "# df_peff = pd.DataFrame(columns=[\"peff\", \"p\", \"q\", \"q_frac\"], dtype=int)\n",
    "\n",
    "df_fits = pd.DataFrame(columns=[\"peff\", \"Neff\", \"p_hsize_eff\", \"n_eff_hsize\", \"p\", \"q\", \"q_frac\"], dtype=int)\n",
    "\n",
    "# Same as df_fits but other format so easier altair plots \n",
    "df_fits2 = pd.DataFrame()\n",
    "\n",
    "increment = 0.05\n",
    "N_sim = int(1 / increment) + 1\n",
    "q_frac_order = []\n",
    "\n",
    "# Prendre 100 configs\n",
    "# N_graphs = 5\n",
    "# N_graphs = 50\n",
    "N_graphs = 100\n",
    "# N_graphs = 3\n",
    "\n",
    "q_to_degreefit = {}\n",
    "q_to_hsizefit = {}\n",
    "\n",
    "# for i in range(N_sim):\n",
    "for q_frac in qs:\n",
    "    # q = round(q_init - (p * increment * i), 4)\n",
    "    q = round(p * q_frac,  4)\n",
    "    print(p, q)\n",
    "    \n",
    "    # q_frac = f\"{round(1 - (increment * (i)), 3)}p\"\n",
    "    q_frac_order.append(q_frac) \n",
    "\n",
    "    for strat in [\"weighted\", \"max\", \"min\", \"frequent\"]:\n",
    "        for n in Ns:\n",
    "        # for n in [2000]:\n",
    "            all_degrees = []\n",
    "            all_hsizes = []  \n",
    "    \n",
    "            community_array = []\n",
    "            for i in range(N_coms):\n",
    "                community_array += [i for x in range(n // N_coms)]\n",
    "            \n",
    "            for n_graph in range(N_graphs):\n",
    "                # gen = Generator(N, N_edges, N_coms, p, q, community_array, sampling_strat)\n",
    "                gen = Generator(n, N_edges, N_coms, p, q, community_array, strat)\n",
    "                gen.run()\n",
    "                \n",
    "                # comp = gen.hyperedges_types()\n",
    "                # n_pure = comp.count(\"pure\")\n",
    "                # n_mixed = comp.count(\"mixed\")\n",
    "                # df = pd.DataFrame({\"sim\": [i, i], \"q\": [q_frac, q_frac], \"type\": [\"pure\", \"mixed\"], \"count\": [n_pure, n_mixed]})\n",
    "                # df_sim = pd.concat([df_sim, df])\n",
    "            \n",
    "            #     For fraction distribution of mixed edges\n",
    "                # comp = gen.mixed_he_fraction_to_count()\n",
    "                # for fraction, count in comp.items():\n",
    "                #     df = pd.DataFrame({\"sim\": [i], \"q\": [q_frac], \"count\": [count], \"fraction0\": fraction})\n",
    "                #     df_fraction = pd.concat([df_fraction, df])\n",
    "                    \n",
    "                #     For com distrib of hyperedges\n",
    "                comp = gen.hyperedges_nmax()\n",
    "                ginis = gen.ginis()\n",
    "                \n",
    "                # for fraction in comp:\n",
    "                df = pd.DataFrame({\"q\": [q] * len(comp), \"value\": comp, \"gini\": ginis, \"N_nodes\": [n] * len(comp), \"strat\": [strat] * len(comp)})\n",
    "                df_fraction2 = pd.concat([df_fraction2, df])\n",
    "                \n",
    "                # for peffectif computation\n",
    "                if n == fits_N and strat == fits_strat:\n",
    "                    degrees = dict(gen.degrees()).values()\n",
    "                    hsizes = dict(gen.hyperedge_sizes()).values()\n",
    "                    \n",
    "                    all_degrees = all_degrees + list(degrees)\n",
    "                    all_hsizes = all_hsizes + list(hsizes)\n",
    "        \n",
    "\n",
    "            # DO THE DISTRIBUTIONS AND FIT ONLY FOR THOSE VALUES\n",
    "            if n == fits_N and strat == fits_strat:\n",
    "                df = pd.DataFrame({\"degree\": all_degrees, \"q\": q_frac, \"q / p\": q / p, \"N_nodes\": n})\n",
    "                df_degrees = pd.concat([df_degrees, df])\n",
    "                                      \n",
    "                df = pd.DataFrame({\"hsize\": all_hsizes, \"q\": q_frac, \"q / p\": q / p, \"N_nodes\": n})\n",
    "                df_hsizes = pd.concat([df_hsizes, df])\n",
    "    \n",
    "                # Distrib of degree\n",
    "                # Bounds of n and p effectif\n",
    "                bounds = [(0, N_edges), (0, p)]\n",
    "                \n",
    "                dist = stats.binom\n",
    "                res = stats.fit(dist, all_degrees, bounds)\n",
    "                \n",
    "                peff = res.params[1]\n",
    "                neff = res.params[0]\n",
    "                \n",
    "                bounds2 = [(N_edges, N_edges), (0, p)]\n",
    "                res = stats.fit(dist, all_degrees, bounds2)\n",
    "                peffNfixed = res.params[1]\n",
    "                neffNfixed = res.params[0]\n",
    "                \n",
    "                bounds3 = [(0, N_edges), (p, p)]\n",
    "                res = stats.fit(dist, all_degrees, bounds3)\n",
    "                peffpfixed = res.params[1]\n",
    "                neffpfixed = res.params[0]\n",
    "                \n",
    "                df_notfixed = pd.DataFrame({\"p\": [p], \"q\": [q], \"q_frac\": [q_frac], \"peff\": [peff], \"Neff\": [neff], \"bounds\": [\"not fixed\"], \"measure\": [\"degree\"]})\n",
    "                df_pfixed = pd.DataFrame({\"p\": [p], \"q\": [q], \"q_frac\": [q_frac], \"peff\": [peffNfixed], \"Neff\": [neffNfixed], \"bounds\": [\"n Fixed\"], \"measure\": [\"degree\"]})\n",
    "                df_nfixed = pd.DataFrame({\"p\": [p], \"q\": [q], \"q_frac\": [q_frac], \"peff\": [peffpfixed], \"Neff\": [neffpfixed], \"bounds\": [\"p Fixed\"], \"measure\": [\"degree\"]})\n",
    "                df_fits2 = pd.concat([df_fits2, df_notfixed, df_pfixed, df_nfixed])\n",
    "                \n",
    "                q_to_degreefit[q] = res\n",
    "                # print(res.nllf(), res.success)\n",
    "                # print(neff, peff)\n",
    "                \n",
    "                # mean = np.mean(all_degrees)\n",
    "                # variance = np.var(all_degrees)\n",
    "                \n",
    "                # pForm = 1 - (variance / mean)\n",
    "                # NForm = mean / (1 -  (variance / mean))\n",
    "                # print(\"compute\", NForm, pForm)\n",
    "                \n",
    "                # Distrib of hsizes\n",
    "                dist = stats.binom\n",
    "                \n",
    "                # bounds = [(N / N_coms, N), (q, p)]\n",
    "                bounds = [(N / N_coms, N), (0, p)]\n",
    "                res = stats.fit(dist, all_hsizes, bounds)\n",
    "                peffhsize = res.params[1]\n",
    "                neff_hsize = res.params[0]\n",
    "                q_to_hsizefit[q] = res\n",
    "                \n",
    "                bounds = [(N / N_coms, N), (p, p)]\n",
    "                res = stats.fit(dist, all_hsizes, bounds)\n",
    "                peff_hsize_pfixed = res.params[1]\n",
    "                neff_hsize_pfixed = res.params[0]\n",
    "                \n",
    "                bounds = [(N, N), (0, p)]\n",
    "                res = stats.fit(dist, all_hsizes, bounds)\n",
    "                peff_hsize_nfixed = res.params[1]\n",
    "                neff_hsize_nfixed = res.params[0]\n",
    "                \n",
    "                df = pd.DataFrame({\"p\": [p], \"q\": [q], \"q_frac\": [q_frac], \"peff\": [peff], \"Neff\": [neff], \"peffpfixed\": [peffpfixed], \"Neffpfixed\": [neffpfixed], \"peffnfixed\": [peffNfixed], \"Neffnfixed\": [neffNfixed], \"p_hsize_eff\": [peffhsize], \"n_eff_hsize\": [neff_hsize]})\n",
    "                df_fits = pd.concat([df_fits, df])\n",
    "                # df_peff = pd.concat([df_peff, df])\n",
    "                \n",
    "                df_notfixed = pd.DataFrame({\"p\": [p], \"q\": [q], \"q_frac\": [q_frac], \"peff\": [peffhsize], \"Neff\": [neff_hsize], \"bounds\": [\"not fixed\"], \"measure\": [\"hsize\"]})\n",
    "                df_pfixed = pd.DataFrame({\"p\": [p], \"q\": [q], \"q_frac\": [q_frac], \"peff\": [peff_hsize_nfixed], \"Neff\": [neff_hsize_nfixed], \"bounds\": [\"n Fixed\"], \"measure\": [\"hsize\"]})\n",
    "                df_nfixed = pd.DataFrame({\"p\": [p], \"q\": [q], \"q_frac\": [q_frac], \"peff\": [peff_hsize_pfixed], \"Neff\": [neff_hsize_pfixed], \"bounds\": [\"p Fixed\"], \"measure\": [\"hsize\"]})\n",
    "                df_fits2 = pd.concat([df_fits2, df_notfixed, df_pfixed, df_nfixed])"
   ]
  },
  {
   "cell_type": "code",
   "execution_count": 72,
   "id": "b8370c2f-794a-4b84-8db3-e915867de0e6",
   "metadata": {},
   "outputs": [],
   "source": [
    "fn = \"he_distrib.csv\"\n",
    "if not os.path.exists(fn):\n",
    "    df_fraction2.to_csv(fn, sep=',', index=False, encoding='utf-8')\n",
    "else:\n",
    "    df_fraction2 = pd.read_csv(fn)"
   ]
  },
  {
   "cell_type": "code",
   "execution_count": 73,
   "id": "f6d14bc0-3f10-4e92-90d0-6aead3389f45",
   "metadata": {},
   "outputs": [],
   "source": [
    "df_fraction2[\"q / p\"] = df_fraction2[\"q\"] / p\n",
    "df_fraction2[\"N / E\"] = df_fraction2[\"N_nodes\"] / N_edges"
   ]
  },
  {
   "cell_type": "code",
   "execution_count": 74,
   "id": "4b5d5850-a95f-488f-ae36-5f5b1814b6c3",
   "metadata": {},
   "outputs": [],
   "source": [
    "df_fraction2 = df_fraction2.drop([\"sim\"], axis=1)\n",
    "df_fraction2 = df_fraction2.drop(\"value\", axis=1)\n",
    "df_fraction2 = df_fraction2.drop(\"N_nodes\", axis=1)"
   ]
  },
  {
   "cell_type": "code",
   "execution_count": 75,
   "id": "54d461e2-4791-47d2-903d-fb8b63d01122",
   "metadata": {},
   "outputs": [],
   "source": [
    "fn = f\"hsize_distrib_{fits_N}_{fits_strat}.csv\"\n",
    "if not os.path.exists(fn):\n",
    "    df_hsizes.to_csv(fn, sep=',', index=False, encoding='utf-8')\n",
    "else:\n",
    "    df_hsizes = pd.read_csv(fn)"
   ]
  },
  {
   "cell_type": "code",
   "execution_count": 76,
   "id": "d4f3a3dc-03f8-4859-b10f-5087ad8b5704",
   "metadata": {},
   "outputs": [],
   "source": [
    "fn = f\"degree_distrib_{fits_N}_{fits_strat}.csv\"\n",
    "if not os.path.exists(fn):\n",
    "    df_degrees.to_csv(fn, sep=',', index=False, encoding='utf-8')\n",
    "else:\n",
    "    df_degrees = pd.read_csv(fn)"
   ]
  },
  {
   "cell_type": "code",
   "execution_count": 77,
   "id": "ff2818c5-30e4-4f74-b6f5-fab133fcf716",
   "metadata": {},
   "outputs": [],
   "source": [
    "fn = f\"fits1_{fits_N}_{fits_strat}.csv\"\n",
    "if not os.path.exists(fn):\n",
    "    df_fits.to_csv(fn, sep=',', index=False, encoding='utf-8')\n",
    "else:\n",
    "    df_fits = pd.read_csv(fn)"
   ]
  },
  {
   "cell_type": "code",
   "execution_count": 78,
   "id": "12722b2b-e25b-4fda-952a-7e42dea25ae4",
   "metadata": {},
   "outputs": [],
   "source": [
    "fn = f\"fits2_{fits_N}_{fits_strat}.csv\"\n",
    "if not os.path.exists(fn):\n",
    "    df_fits2.to_csv(fn, sep=',', index=False, encoding='utf-8')\n",
    "else:\n",
    "    df_fits2 = pd.read_csv(fn)"
   ]
  },
  {
   "cell_type": "markdown",
   "id": "8cb8a4fe-e2e9-40bb-99db-d82619e277d8",
   "metadata": {},
   "source": [
    "## Group by"
   ]
  },
  {
   "cell_type": "code",
   "execution_count": 79,
   "id": "696565d4-bd18-4362-9c00-fd4d4c7a8d50",
   "metadata": {
    "tags": []
   },
   "outputs": [],
   "source": [
    "df_degrees = df_degrees[df_degrees[\"N_nodes\"] == 1000]"
   ]
  },
  {
   "cell_type": "code",
   "execution_count": 80,
   "id": "c306f22a-b38e-4402-8012-30ebf0acfbb1",
   "metadata": {},
   "outputs": [
    {
     "data": {
      "text/html": [
       "<div>\n",
       "<style scoped>\n",
       "    .dataframe tbody tr th:only-of-type {\n",
       "        vertical-align: middle;\n",
       "    }\n",
       "\n",
       "    .dataframe tbody tr th {\n",
       "        vertical-align: top;\n",
       "    }\n",
       "\n",
       "    .dataframe thead th {\n",
       "        text-align: right;\n",
       "    }\n",
       "</style>\n",
       "<table border=\"1\" class=\"dataframe\">\n",
       "  <thead>\n",
       "    <tr style=\"text-align: right;\">\n",
       "      <th></th>\n",
       "      <th>degree</th>\n",
       "      <th>q</th>\n",
       "      <th>q / p</th>\n",
       "      <th>N_nodes</th>\n",
       "    </tr>\n",
       "  </thead>\n",
       "  <tbody>\n",
       "    <tr>\n",
       "      <th>0</th>\n",
       "      <td>7</td>\n",
       "      <td>0.0</td>\n",
       "      <td>0.0</td>\n",
       "      <td>1000.0</td>\n",
       "    </tr>\n",
       "    <tr>\n",
       "      <th>1</th>\n",
       "      <td>0</td>\n",
       "      <td>0.0</td>\n",
       "      <td>0.0</td>\n",
       "      <td>1000.0</td>\n",
       "    </tr>\n",
       "    <tr>\n",
       "      <th>2</th>\n",
       "      <td>3</td>\n",
       "      <td>0.0</td>\n",
       "      <td>0.0</td>\n",
       "      <td>1000.0</td>\n",
       "    </tr>\n",
       "    <tr>\n",
       "      <th>3</th>\n",
       "      <td>2</td>\n",
       "      <td>0.0</td>\n",
       "      <td>0.0</td>\n",
       "      <td>1000.0</td>\n",
       "    </tr>\n",
       "    <tr>\n",
       "      <th>4</th>\n",
       "      <td>0</td>\n",
       "      <td>0.0</td>\n",
       "      <td>0.0</td>\n",
       "      <td>1000.0</td>\n",
       "    </tr>\n",
       "  </tbody>\n",
       "</table>\n",
       "</div>"
      ],
      "text/plain": [
       "   degree    q  q / p  N_nodes\n",
       "0       7  0.0    0.0   1000.0\n",
       "1       0  0.0    0.0   1000.0\n",
       "2       3  0.0    0.0   1000.0\n",
       "3       2  0.0    0.0   1000.0\n",
       "4       0  0.0    0.0   1000.0"
      ]
     },
     "execution_count": 80,
     "metadata": {},
     "output_type": "execute_result"
    }
   ],
   "source": [
    "df_degrees.head()"
   ]
  },
  {
   "cell_type": "code",
   "execution_count": 81,
   "id": "6a12296a-e375-44f8-aa77-2b6a88a644c6",
   "metadata": {},
   "outputs": [
    {
     "data": {
      "text/plain": [
       "0     0.00\n",
       "1     0.10\n",
       "2     0.20\n",
       "3     0.30\n",
       "4     0.40\n",
       "5     0.50\n",
       "6     0.60\n",
       "7     0.70\n",
       "8     0.80\n",
       "9     0.90\n",
       "10    1.00\n",
       "11    0.01\n",
       "12    0.05\n",
       "Name: q_frac, dtype: float64"
      ]
     },
     "execution_count": 81,
     "metadata": {},
     "output_type": "execute_result"
    }
   ],
   "source": [
    "df_fits = df_fits.round({'q_frac': 3})\n",
    "df_fits.q_frac"
   ]
  },
  {
   "cell_type": "code",
   "execution_count": 82,
   "id": "44b2dab8-db42-4ea7-b0bc-71d87bd91def",
   "metadata": {},
   "outputs": [],
   "source": [
    "grouped = df_degrees.groupby('q / p')['degree'].value_counts(normalize=True).reset_index(name='Percentage')"
   ]
  },
  {
   "cell_type": "code",
   "execution_count": 83,
   "id": "5f559a06-4d5b-4951-88ac-cd486f60103b",
   "metadata": {
    "tags": []
   },
   "outputs": [],
   "source": [
    "grouped = grouped.round({'q / p': 2})"
   ]
  },
  {
   "cell_type": "code",
   "execution_count": 84,
   "id": "9400966d-2cfc-49a0-822e-1d4ffa7988bb",
   "metadata": {},
   "outputs": [],
   "source": [
    "grouped['binomial'] = 0  # Initialize the column\n",
    "\n",
    "for q in qs:\n",
    "    q = round(q, 3)\n",
    "    # print(q)\n",
    "    df = df_degrees[df_degrees[\"q\"] == f\"{q}p\"]\n",
    "    # fit = q_to_degreefit[round(q * p, 3)]\n",
    "    \n",
    "    # Calculate the binomial PDF values for a range of x values\n",
    "    x_values = range(19)  # Assuming a range from 0 to 10\n",
    "    # binomial_pmf = [stats.binom.pmf(x, fit.params[0], fit.params[1]) for x in x_values]\n",
    "    # fit_values = df_fits[df_fits[\"q_frac\"] == f\"{q}p\"]\n",
    "    # binomial_pmf2 = [stats.binom.pmf(x, fit_values.Neffpfixed[0], fit_values.peffpfixed[0]) for x in x_values]\n",
    "    # binomial_pmf3 = [stats.binom.pmf(x, fit_values.Neffnfixed[0], fit_values.peffnfixed[0]) for x in x_values]\n",
    "\n",
    "    # fit_values = df_fits[df_fits[\"q_frac\"] == f\"{q}p\"]\n",
    "    fit_values = df_fits[df_fits[\"q_frac\"] == q]\n",
    "    # print(fit_values.Neffpfixed)\n",
    "    # print(fit_values.Neffpfixed.iloc[0])\n",
    "    for x in x_values:\n",
    "        binom_pdf = stats.binom.pmf(x, fit_values.Neffpfixed.iloc[0], fit_values.peffpfixed.iloc[0])\n",
    "        # grouped.loc[(grouped['degree'] == x) & (grouped['q'] == f\"{q}p\"), 'binomial'] = binom_pdf\n",
    "        grouped.loc[(grouped['degree'] == x) & (grouped['q / p'] == q), 'binomial'] = binom_pdf        "
   ]
  },
  {
   "cell_type": "code",
   "execution_count": 85,
   "id": "6a3b8b00-5b6a-4c1f-8e19-d856042be275",
   "metadata": {},
   "outputs": [
    {
     "data": {
      "text/html": [
       "<div>\n",
       "<style scoped>\n",
       "    .dataframe tbody tr th:only-of-type {\n",
       "        vertical-align: middle;\n",
       "    }\n",
       "\n",
       "    .dataframe tbody tr th {\n",
       "        vertical-align: top;\n",
       "    }\n",
       "\n",
       "    .dataframe thead th {\n",
       "        text-align: right;\n",
       "    }\n",
       "</style>\n",
       "<table border=\"1\" class=\"dataframe\">\n",
       "  <thead>\n",
       "    <tr style=\"text-align: right;\">\n",
       "      <th></th>\n",
       "      <th>q / p</th>\n",
       "      <th>degree</th>\n",
       "      <th>Percentage</th>\n",
       "      <th>binomial</th>\n",
       "    </tr>\n",
       "  </thead>\n",
       "  <tbody>\n",
       "    <tr>\n",
       "      <th>0</th>\n",
       "      <td>0.0</td>\n",
       "      <td>1</td>\n",
       "      <td>0.31566</td>\n",
       "      <td>0.318535</td>\n",
       "    </tr>\n",
       "    <tr>\n",
       "      <th>1</th>\n",
       "      <td>0.0</td>\n",
       "      <td>2</td>\n",
       "      <td>0.26100</td>\n",
       "      <td>0.265993</td>\n",
       "    </tr>\n",
       "    <tr>\n",
       "      <th>2</th>\n",
       "      <td>0.0</td>\n",
       "      <td>0</td>\n",
       "      <td>0.19388</td>\n",
       "      <td>0.187260</td>\n",
       "    </tr>\n",
       "    <tr>\n",
       "      <th>3</th>\n",
       "      <td>0.0</td>\n",
       "      <td>3</td>\n",
       "      <td>0.14599</td>\n",
       "      <td>0.145337</td>\n",
       "    </tr>\n",
       "    <tr>\n",
       "      <th>4</th>\n",
       "      <td>0.0</td>\n",
       "      <td>4</td>\n",
       "      <td>0.05832</td>\n",
       "      <td>0.058434</td>\n",
       "    </tr>\n",
       "    <tr>\n",
       "      <th>...</th>\n",
       "      <td>...</td>\n",
       "      <td>...</td>\n",
       "      <td>...</td>\n",
       "      <td>...</td>\n",
       "    </tr>\n",
       "    <tr>\n",
       "      <th>190</th>\n",
       "      <td>1.0</td>\n",
       "      <td>15</td>\n",
       "      <td>0.00064</td>\n",
       "      <td>0.000750</td>\n",
       "    </tr>\n",
       "    <tr>\n",
       "      <th>191</th>\n",
       "      <td>1.0</td>\n",
       "      <td>16</td>\n",
       "      <td>0.00024</td>\n",
       "      <td>0.000268</td>\n",
       "    </tr>\n",
       "    <tr>\n",
       "      <th>192</th>\n",
       "      <td>1.0</td>\n",
       "      <td>17</td>\n",
       "      <td>0.00005</td>\n",
       "      <td>0.000090</td>\n",
       "    </tr>\n",
       "    <tr>\n",
       "      <th>193</th>\n",
       "      <td>1.0</td>\n",
       "      <td>18</td>\n",
       "      <td>0.00003</td>\n",
       "      <td>0.000028</td>\n",
       "    </tr>\n",
       "    <tr>\n",
       "      <th>194</th>\n",
       "      <td>1.0</td>\n",
       "      <td>19</td>\n",
       "      <td>0.00002</td>\n",
       "      <td>0.000000</td>\n",
       "    </tr>\n",
       "  </tbody>\n",
       "</table>\n",
       "<p>195 rows × 4 columns</p>\n",
       "</div>"
      ],
      "text/plain": [
       "     q / p  degree  Percentage  binomial\n",
       "0      0.0       1     0.31566  0.318535\n",
       "1      0.0       2     0.26100  0.265993\n",
       "2      0.0       0     0.19388  0.187260\n",
       "3      0.0       3     0.14599  0.145337\n",
       "4      0.0       4     0.05832  0.058434\n",
       "..     ...     ...         ...       ...\n",
       "190    1.0      15     0.00064  0.000750\n",
       "191    1.0      16     0.00024  0.000268\n",
       "192    1.0      17     0.00005  0.000090\n",
       "193    1.0      18     0.00003  0.000028\n",
       "194    1.0      19     0.00002  0.000000\n",
       "\n",
       "[195 rows x 4 columns]"
      ]
     },
     "execution_count": 85,
     "metadata": {},
     "output_type": "execute_result"
    }
   ],
   "source": [
    "grouped"
   ]
  },
  {
   "cell_type": "code",
   "execution_count": 86,
   "id": "f2d797ad-ae27-45b2-afdb-846e02d878a7",
   "metadata": {
    "tags": []
   },
   "outputs": [],
   "source": [
    "# grouped_selp_deg = grouped[grouped.q.isin([\"0.0p\", \"0.3p\", \"0.7p\", \"1.0p\"])]\n",
    "grouped_selp_deg = grouped[grouped[\"q / p\"].isin([0, 0.3, 0.7, 1])]"
   ]
  },
  {
   "cell_type": "code",
   "execution_count": 87,
   "id": "d0d3a3e9-3ba9-4dd3-93c3-628652669088",
   "metadata": {
    "tags": []
   },
   "outputs": [
    {
     "data": {
      "text/html": [
       "<div>\n",
       "<style scoped>\n",
       "    .dataframe tbody tr th:only-of-type {\n",
       "        vertical-align: middle;\n",
       "    }\n",
       "\n",
       "    .dataframe tbody tr th {\n",
       "        vertical-align: top;\n",
       "    }\n",
       "\n",
       "    .dataframe thead th {\n",
       "        text-align: right;\n",
       "    }\n",
       "</style>\n",
       "<table border=\"1\" class=\"dataframe\">\n",
       "  <thead>\n",
       "    <tr style=\"text-align: right;\">\n",
       "      <th></th>\n",
       "      <th>q / p</th>\n",
       "      <th>degree</th>\n",
       "      <th>Percentage</th>\n",
       "      <th>binomial</th>\n",
       "    </tr>\n",
       "  </thead>\n",
       "  <tbody>\n",
       "    <tr>\n",
       "      <th>0</th>\n",
       "      <td>0.0</td>\n",
       "      <td>1</td>\n",
       "      <td>0.31566</td>\n",
       "      <td>0.318535</td>\n",
       "    </tr>\n",
       "    <tr>\n",
       "      <th>1</th>\n",
       "      <td>0.0</td>\n",
       "      <td>2</td>\n",
       "      <td>0.26100</td>\n",
       "      <td>0.265993</td>\n",
       "    </tr>\n",
       "    <tr>\n",
       "      <th>2</th>\n",
       "      <td>0.0</td>\n",
       "      <td>0</td>\n",
       "      <td>0.19388</td>\n",
       "      <td>0.187260</td>\n",
       "    </tr>\n",
       "    <tr>\n",
       "      <th>3</th>\n",
       "      <td>0.0</td>\n",
       "      <td>3</td>\n",
       "      <td>0.14599</td>\n",
       "      <td>0.145337</td>\n",
       "    </tr>\n",
       "    <tr>\n",
       "      <th>4</th>\n",
       "      <td>0.0</td>\n",
       "      <td>4</td>\n",
       "      <td>0.05832</td>\n",
       "      <td>0.058434</td>\n",
       "    </tr>\n",
       "    <tr>\n",
       "      <th>...</th>\n",
       "      <td>...</td>\n",
       "      <td>...</td>\n",
       "      <td>...</td>\n",
       "      <td>...</td>\n",
       "    </tr>\n",
       "    <tr>\n",
       "      <th>190</th>\n",
       "      <td>1.0</td>\n",
       "      <td>15</td>\n",
       "      <td>0.00064</td>\n",
       "      <td>0.000750</td>\n",
       "    </tr>\n",
       "    <tr>\n",
       "      <th>191</th>\n",
       "      <td>1.0</td>\n",
       "      <td>16</td>\n",
       "      <td>0.00024</td>\n",
       "      <td>0.000268</td>\n",
       "    </tr>\n",
       "    <tr>\n",
       "      <th>192</th>\n",
       "      <td>1.0</td>\n",
       "      <td>17</td>\n",
       "      <td>0.00005</td>\n",
       "      <td>0.000090</td>\n",
       "    </tr>\n",
       "    <tr>\n",
       "      <th>193</th>\n",
       "      <td>1.0</td>\n",
       "      <td>18</td>\n",
       "      <td>0.00003</td>\n",
       "      <td>0.000028</td>\n",
       "    </tr>\n",
       "    <tr>\n",
       "      <th>194</th>\n",
       "      <td>1.0</td>\n",
       "      <td>19</td>\n",
       "      <td>0.00002</td>\n",
       "      <td>0.000000</td>\n",
       "    </tr>\n",
       "  </tbody>\n",
       "</table>\n",
       "<p>63 rows × 4 columns</p>\n",
       "</div>"
      ],
      "text/plain": [
       "     q / p  degree  Percentage  binomial\n",
       "0      0.0       1     0.31566  0.318535\n",
       "1      0.0       2     0.26100  0.265993\n",
       "2      0.0       0     0.19388  0.187260\n",
       "3      0.0       3     0.14599  0.145337\n",
       "4      0.0       4     0.05832  0.058434\n",
       "..     ...     ...         ...       ...\n",
       "190    1.0      15     0.00064  0.000750\n",
       "191    1.0      16     0.00024  0.000268\n",
       "192    1.0      17     0.00005  0.000090\n",
       "193    1.0      18     0.00003  0.000028\n",
       "194    1.0      19     0.00002  0.000000\n",
       "\n",
       "[63 rows x 4 columns]"
      ]
     },
     "execution_count": 87,
     "metadata": {},
     "output_type": "execute_result"
    }
   ],
   "source": [
    "grouped_selp_deg"
   ]
  },
  {
   "cell_type": "code",
   "execution_count": 152,
   "id": "5a06e1f5-95ba-4441-b47e-eeacdc48f295",
   "metadata": {},
   "outputs": [],
   "source": [
    "pdf = alt.Chart(grouped_selp_deg).mark_line(width=1, opacity=0.7, fill=None, color=\"black\").encode(\n",
    "# pdf = alt.Chart(grouped_selp_deg).mark_line(width=1, opacity=0.7, color=\"darkgrey\", fill=None).encode(\n",
    "        x=alt.X('degree:Q', title=\"k\", axis=alt.Axis(labelExpr=\"datum.value % 4 ? null : datum.label\"), scale=alt.Scale(domainMin=0)),\n",
    "        y=alt.Y('binomial:Q', title=\"P(k)\"),\n",
    "        # color=\"q\"\n",
    "        # facet=alt.Facet(\"q:O\")    \n",
    ")"
   ]
  },
  {
   "cell_type": "code",
   "execution_count": 153,
   "id": "9aa3b46b-a166-4749-b453-304ba68fd593",
   "metadata": {},
   "outputs": [],
   "source": [
    "# distrib = alt.Chart(grouped_selp_deg).mark_bar(width=5,  opacity=0.7, color=\"black\").encode(\n",
    "distrib = alt.Chart(grouped_selp_deg).mark_bar(width=5,  opacity=0.7).encode(\n",
    "        x=alt.X('degree:Q', title=\"k\", axis=alt.Axis(tickMinStep=1), scale=alt.Scale(domainMin=0)),\n",
    "        y=alt.Y('Percentage:Q'),\n",
    "        # facet=alt.Facet(\"q:O\")\n",
    "        # color=\"q\"\n",
    "    )"
   ]
  },
  {
   "cell_type": "code",
   "execution_count": 154,
   "id": "7d75d6bf-d363-4ee5-90b0-e32fe1932ff7",
   "metadata": {},
   "outputs": [
    {
     "data": {
      "text/html": [
       "\n",
       "<style>\n",
       "  #altair-viz-c3246af171024b8ebd48f3288df8d1ef.vega-embed {\n",
       "    width: 100%;\n",
       "    display: flex;\n",
       "  }\n",
       "\n",
       "  #altair-viz-c3246af171024b8ebd48f3288df8d1ef.vega-embed details,\n",
       "  #altair-viz-c3246af171024b8ebd48f3288df8d1ef.vega-embed details summary {\n",
       "    position: relative;\n",
       "  }\n",
       "</style>\n",
       "<div id=\"altair-viz-c3246af171024b8ebd48f3288df8d1ef\"></div>\n",
       "<script type=\"text/javascript\">\n",
       "  var VEGA_DEBUG = (typeof VEGA_DEBUG == \"undefined\") ? {} : VEGA_DEBUG;\n",
       "  (function(spec, embedOpt){\n",
       "    let outputDiv = document.currentScript.previousElementSibling;\n",
       "    if (outputDiv.id !== \"altair-viz-c3246af171024b8ebd48f3288df8d1ef\") {\n",
       "      outputDiv = document.getElementById(\"altair-viz-c3246af171024b8ebd48f3288df8d1ef\");\n",
       "    }\n",
       "    const paths = {\n",
       "      \"vega\": \"https://cdn.jsdelivr.net/npm/vega@5?noext\",\n",
       "      \"vega-lib\": \"https://cdn.jsdelivr.net/npm/vega-lib?noext\",\n",
       "      \"vega-lite\": \"https://cdn.jsdelivr.net/npm/vega-lite@5.15.1?noext\",\n",
       "      \"vega-embed\": \"https://cdn.jsdelivr.net/npm/vega-embed@6?noext\",\n",
       "    };\n",
       "\n",
       "    function maybeLoadScript(lib, version) {\n",
       "      var key = `${lib.replace(\"-\", \"\")}_version`;\n",
       "      return (VEGA_DEBUG[key] == version) ?\n",
       "        Promise.resolve(paths[lib]) :\n",
       "        new Promise(function(resolve, reject) {\n",
       "          var s = document.createElement('script');\n",
       "          document.getElementsByTagName(\"head\")[0].appendChild(s);\n",
       "          s.async = true;\n",
       "          s.onload = () => {\n",
       "            VEGA_DEBUG[key] = version;\n",
       "            return resolve(paths[lib]);\n",
       "          };\n",
       "          s.onerror = () => reject(`Error loading script: ${paths[lib]}`);\n",
       "          s.src = paths[lib];\n",
       "        });\n",
       "    }\n",
       "\n",
       "    function showError(err) {\n",
       "      outputDiv.innerHTML = `<div class=\"error\" style=\"color:red;\">${err}</div>`;\n",
       "      throw err;\n",
       "    }\n",
       "\n",
       "    function displayChart(vegaEmbed) {\n",
       "      vegaEmbed(outputDiv, spec, embedOpt)\n",
       "        .catch(err => showError(`Javascript Error: ${err.message}<br>This usually means there's a typo in your chart specification. See the javascript console for the full traceback.`));\n",
       "    }\n",
       "\n",
       "    if(typeof define === \"function\" && define.amd) {\n",
       "      requirejs.config({paths});\n",
       "      require([\"vega-embed\"], displayChart, err => showError(`Error loading script: ${err.message}`));\n",
       "    } else {\n",
       "      maybeLoadScript(\"vega\", \"5\")\n",
       "        .then(() => maybeLoadScript(\"vega-lite\", \"5.15.1\"))\n",
       "        .then(() => maybeLoadScript(\"vega-embed\", \"6\"))\n",
       "        .catch(showError)\n",
       "        .then(() => displayChart(vegaEmbed));\n",
       "    }\n",
       "  })({\"$schema\": \"https://vega.github.io/schema/vega/v5.json\", \"data\": [{\"name\": \"source_0\", \"values\": [{\"q / p\": 0.0, \"degree\": 1, \"Percentage\": 0.31566, \"binomial\": 0.3185353196932685}, {\"q / p\": 0.0, \"degree\": 2, \"Percentage\": 0.261, \"binomial\": 0.26599341129025506}, {\"q / p\": 0.0, \"degree\": 0, \"Percentage\": 0.19388, \"binomial\": 0.18726015763786089}, {\"q / p\": 0.0, \"degree\": 3, \"Percentage\": 0.14599, \"binomial\": 0.14533660616890223}, {\"q / p\": 0.0, \"degree\": 4, \"Percentage\": 0.05832, \"binomial\": 0.05843430557306376}, {\"q / p\": 0.0, \"degree\": 5, \"Percentage\": 0.01855, \"binomial\": 0.01843391495397684}, {\"q / p\": 0.0, \"degree\": 6, \"Percentage\": 0.00514, \"binomial\": 0.004751009008756911}, {\"q / p\": 0.0, \"degree\": 7, \"Percentage\": 0.00121, \"binomial\": 0.0010285689606587128}, {\"q / p\": 0.0, \"degree\": 8, \"Percentage\": 0.00018, \"binomial\": 0.00019086846692635925}, {\"q / p\": 0.0, \"degree\": 9, \"Percentage\": 4e-05, \"binomial\": 3.0827553077453195e-05}, {\"q / p\": 0.0, \"degree\": 10, \"Percentage\": 2e-05, \"binomial\": 4.385775592462434e-06}, {\"q / p\": 0.0, \"degree\": 11, \"Percentage\": 1e-05, \"binomial\": 5.549013167595365e-07}, {\"q / p\": 0.3, \"degree\": 2, \"Percentage\": 0.22718, \"binomial\": 0.22977184594157984}, {\"q / p\": 0.3, \"degree\": 3, \"Percentage\": 0.22624, \"binomial\": 0.22740306402465624}, {\"q / p\": 0.3, \"degree\": 4, \"Percentage\": 0.16712, \"binomial\": 0.16703575579130675}, {\"q / p\": 0.3, \"degree\": 1, \"Percentage\": 0.15319, \"binomial\": 0.15318123062771993}, {\"q / p\": 0.3, \"degree\": 5, \"Percentage\": 0.09668, \"binomial\": 0.09712182089308967}, {\"q / p\": 0.3, \"degree\": 0, \"Percentage\": 0.05221, \"binomial\": 0.050539385615268086}, {\"q / p\": 0.3, \"degree\": 6, \"Percentage\": 0.04823, \"binomial\": 0.046558398675553385}, {\"q / p\": 0.3, \"degree\": 7, \"Percentage\": 0.01909, \"binomial\": 0.01892506337916454}, {\"q / p\": 0.3, \"degree\": 8, \"Percentage\": 0.00705, \"binomial\": 0.00665791533828855}, {\"q / p\": 0.3, \"degree\": 9, \"Percentage\": 0.00218, \"binomial\": 0.002059149073697487}, {\"q / p\": 0.3, \"degree\": 10, \"Percentage\": 0.00059, \"binomial\": 0.0005667967037909597}, {\"q / p\": 0.3, \"degree\": 11, \"Percentage\": 0.0002, \"binomial\": 0.00014023835970085636}, {\"q / p\": 0.3, \"degree\": 12, \"Percentage\": 3e-05, \"binomial\": 3.144519921127436e-05}, {\"q / p\": 0.3, \"degree\": 13, \"Percentage\": 1e-05, \"binomial\": 6.433672796596971e-06}, {\"q / p\": 0.7, \"degree\": 4, \"Percentage\": 0.1852, \"binomial\": 0.18760561553009444}, {\"q / p\": 0.7, \"degree\": 5, \"Percentage\": 0.17601, \"binomial\": 0.1763879601685015}, {\"q / p\": 0.7, \"degree\": 3, \"Percentage\": 0.15907, \"binomial\": 0.15858601051345694}, {\"q / p\": 0.7, \"degree\": 6, \"Percentage\": 0.13708, \"binomial\": 0.13729165971878193}, {\"q / p\": 0.7, \"degree\": 2, \"Percentage\": 0.0995, \"binomial\": 0.0998885910376969}, {\"q / p\": 0.7, \"degree\": 7, \"Percentage\": 0.09255, \"binomial\": 0.09098858155147552}, {\"q / p\": 0.7, \"degree\": 8, \"Percentage\": 0.05199, \"binomial\": 0.052412237053491725}, {\"q / p\": 0.7, \"degree\": 1, \"Percentage\": 0.04243, \"binomial\": 0.041673949809275704}, {\"q / p\": 0.7, \"degree\": 9, \"Percentage\": 0.02701, \"binomial\": 0.026656395477377217}, {\"q / p\": 0.7, \"degree\": 10, \"Percentage\": 0.01221, \"binomial\": 0.012119041655178709}, {\"q / p\": 0.7, \"degree\": 0, \"Percentage\": 0.00866, \"binomial\": 0.008637549426281485}, {\"q / p\": 0.7, \"degree\": 11, \"Percentage\": 0.00534, \"binomial\": 0.004974826846268311}, {\"q / p\": 0.7, \"degree\": 12, \"Percentage\": 0.00187, \"binomial\": 0.0018591492080126406}, {\"q / p\": 0.7, \"degree\": 13, \"Percentage\": 0.00073, \"binomial\": 0.0006369170958457267}, {\"q / p\": 0.7, \"degree\": 14, \"Percentage\": 0.00025, \"binomial\": 0.000201205768864371}, {\"q / p\": 0.7, \"degree\": 15, \"Percentage\": 8e-05, \"binomial\": 5.890973026544474e-05}, {\"q / p\": 0.7, \"degree\": 16, \"Percentage\": 2e-05, \"binomial\": 1.6055938081367934e-05}, {\"q / p\": 1.0, \"degree\": 6, \"Percentage\": 0.16296, \"binomial\": 0.1630859886630945}, {\"q / p\": 1.0, \"degree\": 5, \"Percentage\": 0.1607, \"binomial\": 0.16224965025969404}, {\"q / p\": 1.0, \"degree\": 7, \"Percentage\": 0.13834, \"binomial\": 0.13978799028265237}, {\"q / p\": 1.0, \"degree\": 4, \"Percentage\": 0.1342, \"binomial\": 0.13382836798631226}, {\"q / p\": 1.0, \"degree\": 8, \"Percentage\": 0.10511, \"binomial\": 0.10430057522378312}, {\"q / p\": 1.0, \"degree\": 3, \"Percentage\": 0.08936, \"binomial\": 0.08786024835649596}, {\"q / p\": 1.0, \"degree\": 9, \"Percentage\": 0.07011, \"binomial\": 0.06881687437445477}, {\"q / p\": 1.0, \"degree\": 2, \"Percentage\": 0.04421, \"binomial\": 0.04304264692212176}, {\"q / p\": 1.0, \"degree\": 10, \"Percentage\": 0.03943, \"binomial\": 0.040651617542848045}, {\"q / p\": 1.0, \"degree\": 11, \"Percentage\": 0.02146, \"binomial\": 0.021716421742664853}, {\"q / p\": 1.0, \"degree\": 1, \"Percentage\": 0.01368, \"binomial\": 0.013987057793788314}, {\"q / p\": 1.0, \"degree\": 12, \"Percentage\": 0.01053, \"binomial\": 0.010578360075679548}, {\"q / p\": 1.0, \"degree\": 13, \"Percentage\": 0.00428, \"binomial\": 0.004731320446219868}, {\"q / p\": 1.0, \"degree\": 0, \"Percentage\": 0.00244, \"binomial\": 0.002261241009995781}, {\"q / p\": 1.0, \"degree\": 14, \"Percentage\": 0.00221, \"binomial\": 0.001954544013497312}, {\"q / p\": 1.0, \"degree\": 15, \"Percentage\": 0.00064, \"binomial\": 0.0007495777041453605}, {\"q / p\": 1.0, \"degree\": 16, \"Percentage\": 0.00024, \"binomial\": 0.000268051305283939}, {\"q / p\": 1.0, \"degree\": 17, \"Percentage\": 5e-05, \"binomial\": 8.97297274207005e-05}, {\"q / p\": 1.0, \"degree\": 18, \"Percentage\": 3e-05, \"binomial\": 2.8213986457024436e-05}, {\"q / p\": 1.0, \"degree\": 19, \"Percentage\": 2e-05, \"binomial\": 0.0}]}, {\"name\": \"facet_domain\", \"values\": [{\"q / p\": 0.0, \"count\": 12}, {\"q / p\": 0.3, \"count\": 14}, {\"q / p\": 0.7, \"count\": 17}, {\"q / p\": 1.0, \"count\": 20}]}, {\"name\": \"facet_domain_row\", \"values\": [{\"data\": 0.0}, {\"data\": 1.0}]}, {\"name\": \"facet_domain_column\", \"transform\": [{\"type\": \"sequence\", \"start\": 0.0, \"stop\": {\"signal\": \"min(length(data(\\\"facet_domain\\\")), 2)\"}}]}, {\"name\": \"data_2\", \"values\": [{\"Percentage_end\": 0.31566, \"Percentage_start\": 0.0, \"degree\": 1}, {\"Percentage_end\": 0.261, \"Percentage_start\": 0.0, \"degree\": 2}, {\"Percentage_end\": 0.19388, \"Percentage_start\": 0.0, \"degree\": 0}, {\"Percentage_end\": 0.14599, \"Percentage_start\": 0.0, \"degree\": 3}, {\"Percentage_end\": 0.05832, \"Percentage_start\": 0.0, \"degree\": 4}, {\"Percentage_end\": 0.01855, \"Percentage_start\": 0.0, \"degree\": 5}, {\"Percentage_end\": 0.00514, \"Percentage_start\": 0.0, \"degree\": 6}, {\"Percentage_end\": 0.00121, \"Percentage_start\": 0.0, \"degree\": 7}, {\"Percentage_end\": 0.00018, \"Percentage_start\": 0.0, \"degree\": 8}, {\"Percentage_end\": 4e-05, \"Percentage_start\": 0.0, \"degree\": 9}, {\"Percentage_end\": 2e-05, \"Percentage_start\": 0.0, \"degree\": 10}, {\"Percentage_end\": 1e-05, \"Percentage_start\": 0.0, \"degree\": 11}, {\"Percentage_end\": 0.22718, \"Percentage_start\": 0.0, \"degree\": 2}, {\"Percentage_end\": 0.22624, \"Percentage_start\": 0.0, \"degree\": 3}, {\"Percentage_end\": 0.16712, \"Percentage_start\": 0.0, \"degree\": 4}, {\"Percentage_end\": 0.15319, \"Percentage_start\": 0.0, \"degree\": 1}, {\"Percentage_end\": 0.09668, \"Percentage_start\": 0.0, \"degree\": 5}, {\"Percentage_end\": 0.05221, \"Percentage_start\": 0.0, \"degree\": 0}, {\"Percentage_end\": 0.04823, \"Percentage_start\": 0.0, \"degree\": 6}, {\"Percentage_end\": 0.01909, \"Percentage_start\": 0.0, \"degree\": 7}, {\"Percentage_end\": 0.00705, \"Percentage_start\": 0.0, \"degree\": 8}, {\"Percentage_end\": 0.00218, \"Percentage_start\": 0.0, \"degree\": 9}, {\"Percentage_end\": 0.00059, \"Percentage_start\": 0.0, \"degree\": 10}, {\"Percentage_end\": 0.0002, \"Percentage_start\": 0.0, \"degree\": 11}, {\"Percentage_end\": 3e-05, \"Percentage_start\": 0.0, \"degree\": 12}, {\"Percentage_end\": 1e-05, \"Percentage_start\": 0.0, \"degree\": 13}, {\"Percentage_end\": 0.1852, \"Percentage_start\": 0.0, \"degree\": 4}, {\"Percentage_end\": 0.17601, \"Percentage_start\": 0.0, \"degree\": 5}, {\"Percentage_end\": 0.15907, \"Percentage_start\": 0.0, \"degree\": 3}, {\"Percentage_end\": 0.13708, \"Percentage_start\": 0.0, \"degree\": 6}, {\"Percentage_end\": 0.0995, \"Percentage_start\": 0.0, \"degree\": 2}, {\"Percentage_end\": 0.09255, \"Percentage_start\": 0.0, \"degree\": 7}, {\"Percentage_end\": 0.05199, \"Percentage_start\": 0.0, \"degree\": 8}, {\"Percentage_end\": 0.04243, \"Percentage_start\": 0.0, \"degree\": 1}, {\"Percentage_end\": 0.02701, \"Percentage_start\": 0.0, \"degree\": 9}, {\"Percentage_end\": 0.01221, \"Percentage_start\": 0.0, \"degree\": 10}, {\"Percentage_end\": 0.00866, \"Percentage_start\": 0.0, \"degree\": 0}, {\"Percentage_end\": 0.00534, \"Percentage_start\": 0.0, \"degree\": 11}, {\"Percentage_end\": 0.00187, \"Percentage_start\": 0.0, \"degree\": 12}, {\"Percentage_end\": 0.00073, \"Percentage_start\": 0.0, \"degree\": 13}, {\"Percentage_end\": 0.00025, \"Percentage_start\": 0.0, \"degree\": 14}, {\"Percentage_end\": 8e-05, \"Percentage_start\": 0.0, \"degree\": 15}, {\"Percentage_end\": 2e-05, \"Percentage_start\": 0.0, \"degree\": 16}, {\"Percentage_end\": 0.16296, \"Percentage_start\": 0.0, \"degree\": 6}, {\"Percentage_end\": 0.1607, \"Percentage_start\": 0.0, \"degree\": 5}, {\"Percentage_end\": 0.13834, \"Percentage_start\": 0.0, \"degree\": 7}, {\"Percentage_end\": 0.1342, \"Percentage_start\": 0.0, \"degree\": 4}, {\"Percentage_end\": 0.10511, \"Percentage_start\": 0.0, \"degree\": 8}, {\"Percentage_end\": 0.08936, \"Percentage_start\": 0.0, \"degree\": 3}, {\"Percentage_end\": 0.07011, \"Percentage_start\": 0.0, \"degree\": 9}, {\"Percentage_end\": 0.04421, \"Percentage_start\": 0.0, \"degree\": 2}, {\"Percentage_end\": 0.03943, \"Percentage_start\": 0.0, \"degree\": 10}, {\"Percentage_end\": 0.02146, \"Percentage_start\": 0.0, \"degree\": 11}, {\"Percentage_end\": 0.01368, \"Percentage_start\": 0.0, \"degree\": 1}, {\"Percentage_end\": 0.01053, \"Percentage_start\": 0.0, \"degree\": 12}, {\"Percentage_end\": 0.00428, \"Percentage_start\": 0.0, \"degree\": 13}, {\"Percentage_end\": 0.00244, \"Percentage_start\": 0.0, \"degree\": 0}, {\"Percentage_end\": 0.00221, \"Percentage_start\": 0.0, \"degree\": 14}, {\"Percentage_end\": 0.00064, \"Percentage_start\": 0.0, \"degree\": 15}, {\"Percentage_end\": 0.00024, \"Percentage_start\": 0.0, \"degree\": 16}, {\"Percentage_end\": 5e-05, \"Percentage_start\": 0.0, \"degree\": 17}, {\"Percentage_end\": 3e-05, \"Percentage_start\": 0.0, \"degree\": 18}, {\"Percentage_end\": 2e-05, \"Percentage_start\": 0.0, \"degree\": 19}]}], \"signals\": [{\"name\": \"child_width\", \"value\": 300}, {\"name\": \"child_height\", \"value\": 300}], \"marks\": [{\"type\": \"group\", \"name\": \"facet-title\", \"title\": {\"text\": \"q / p\", \"style\": \"guide-title\", \"offset\": 10, \"fontSize\": 20}, \"role\": \"column-title\"}, {\"type\": \"group\", \"name\": \"row_header\", \"from\": {\"data\": \"facet_domain_row\"}, \"encode\": {\"update\": {\"height\": {\"signal\": \"child_height\"}}}, \"axes\": [{\"scale\": \"y\", \"grid\": false, \"title\": \"P(k)\", \"labelOverlap\": true, \"tickCount\": {\"signal\": \"ceil(child_height/40)\"}, \"zindex\": 0, \"orient\": \"left\"}], \"role\": \"row-header\"}, {\"type\": \"group\", \"name\": \"column_footer\", \"from\": {\"data\": \"facet_domain_column\"}, \"encode\": {\"update\": {\"width\": {\"signal\": \"child_width\"}}}, \"axes\": [{\"scale\": \"x\", \"labelFlush\": true, \"grid\": false, \"orient\": \"bottom\", \"labelOverlap\": true, \"tickCount\": {\"signal\": \"ceil(child_width/40)\"}, \"zindex\": 0, \"title\": \"k\", \"encode\": {\"labels\": {\"update\": {\"text\": {\"signal\": \"datum.value % 4 ? null : datum.label\"}}}}}], \"role\": \"column-footer\"}, {\"type\": \"group\", \"name\": \"cell\", \"from\": {\"facet\": {\"data\": \"source_0\", \"name\": \"facet\", \"groupby\": [\"q / p\"]}}, \"sort\": {\"field\": [\"datum[\\\"q / p\\\"]\"], \"order\": [\"ascending\"]}, \"encode\": {\"update\": {\"height\": {\"signal\": \"child_height\"}, \"width\": {\"signal\": \"child_width\"}}}, \"data\": [{\"name\": \"data_0\", \"source\": \"facet\", \"transform\": [{\"type\": \"stack\", \"field\": \"Percentage\", \"groupby\": [\"degree\"], \"sort\": {\"field\": [], \"order\": []}, \"as\": [\"Percentage_start\", \"Percentage_end\"], \"offset\": \"zero\"}, {\"type\": \"filter\", \"expr\": \"isValid(datum[\\\"degree\\\"]) && isFinite(+datum[\\\"degree\\\"]) && isValid(datum[\\\"Percentage\\\"]) && isFinite(+datum[\\\"Percentage\\\"])\"}, {\"type\": \"project\", \"fields\": [\"Percentage\", \"Percentage_end\", \"Percentage_start\", \"degree\"]}]}], \"marks\": [{\"type\": \"line\", \"name\": \"child_layer_0_marks\", \"from\": {\"data\": \"facet\"}, \"sort\": {\"field\": \"datum[\\\"degree\\\"]\"}, \"encode\": {\"update\": {\"stroke\": {\"value\": \"black\"}, \"description\": {\"signal\": \"\\\"k: \\\" + (format(datum[\\\"degree\\\"], \\\"\\\")) + \\\"; P(k): \\\" + (format(datum[\\\"binomial\\\"], \\\"\\\"))\"}, \"fill\": {}, \"x\": {\"field\": \"degree\", \"scale\": \"x\"}, \"y\": {\"field\": \"binomial\", \"scale\": \"y\"}, \"defined\": {\"signal\": \"isValid(datum[\\\"degree\\\"]) && isFinite(+datum[\\\"degree\\\"]) && isValid(datum[\\\"binomial\\\"]) && isFinite(+datum[\\\"binomial\\\"])\"}, \"opacity\": {\"value\": 0.7}}}, \"style\": [\"line\"]}, {\"type\": \"rect\", \"name\": \"child_layer_1_marks\", \"from\": {\"data\": \"data_0\"}, \"encode\": {\"update\": {\"description\": {\"signal\": \"\\\"k: \\\" + (format(datum[\\\"degree\\\"], \\\"\\\")) + \\\"; Percentage: \\\" + (format(datum[\\\"Percentage\\\"], \\\"\\\"))\"}, \"y\": {\"field\": \"Percentage_end\", \"scale\": \"y\"}, \"ariaRoleDescription\": {\"value\": \"bar\"}, \"opacity\": {\"value\": 0.7}, \"width\": {\"value\": 5}, \"fill\": {\"value\": \"#9ebcda\"}, \"xc\": {\"field\": \"degree\", \"scale\": \"x\"}, \"y2\": {\"field\": \"Percentage_start\", \"scale\": \"y\"}}}, \"style\": [\"bar\"]}], \"title\": {\"text\": {\"signal\": \"format(parent[\\\"q / p\\\"], \\\"\\\")\"}, \"offset\": 10, \"style\": \"guide-label\", \"fontSize\": 18, \"frame\": \"group\"}, \"style\": \"cell\"}], \"scales\": [{\"name\": \"x\", \"type\": \"linear\", \"domain\": {\"fields\": [{\"data\": \"source_0\", \"field\": \"degree\"}, {\"data\": \"data_2\", \"field\": \"degree\"}]}, \"range\": [0, {\"signal\": \"child_width\"}], \"zero\": false, \"domainMin\": 0, \"padding\": 5}, {\"name\": \"y\", \"type\": \"linear\", \"domain\": {\"fields\": [{\"data\": \"source_0\", \"field\": \"binomial\"}, {\"data\": \"data_2\", \"field\": \"Percentage_start\"}, {\"data\": \"data_2\", \"field\": \"Percentage_end\"}]}, \"range\": [{\"signal\": \"child_height\"}, 0], \"nice\": true, \"zero\": true}], \"padding\": 5, \"config\": {\"mark\": {\"fill\": \"#9ebcda\"}, \"axisX\": {\"labelFont\": \"monospace\", \"labelFontSize\": 16, \"titleFontSize\": 20, \"grid\": false}, \"axisY\": {\"domain\": false, \"grid\": false, \"labelFont\": \"monospace\", \"labelFontSize\": 16, \"titleFontSize\": 20, \"titleAngle\": 0, \"titleX\": -80}, \"legend\": {\"titleFontSize\": 20, \"labelFontSize\": 16}, \"style\": {\"cell\": {\"height\": 300, \"width\": 300}, \"line\": {\"fill\": null, \"stroke\": \"black\"}, \"group-title\": {\"fontSize\": 18, \"font\": \"monospace\", \"fontColor\": \"#000000\"}}}, \"layout\": {\"padding\": 20, \"bounds\": \"full\", \"align\": \"all\", \"columns\": 2}, \"background\": \"white\"}, {\"mode\": \"vega\"});\n",
       "</script>"
      ],
      "text/plain": [
       "alt.FacetChart(...)"
      ]
     },
     "execution_count": 154,
     "metadata": {},
     "output_type": "execute_result"
    }
   ],
   "source": [
    "# alt.layer(pdf, distrib, data=grouped_selp_deg).facet(column='q')\n",
    "alt.layer(pdf, distrib, data=grouped_selp_deg).facet(\n",
    "    facet=alt.Facet(\n",
    "        'q / p',\n",
    "        header=alt.Header(labelFontSize=18, titleFontSize=20)\n",
    "    ),\n",
    "    columns=2\n",
    ").configure_axisY(\n",
    "    titleAngle=0,\n",
    "    titleX=-80,\n",
    ")\n",
    "\n",
    "\n",
    "# alt.hconcat(freq_table, background + data_plot, spacing=100).properties(padding=100)"
   ]
  },
  {
   "cell_type": "markdown",
   "id": "f56dc04d-140d-4c11-bcbe-3b02175f2df9",
   "metadata": {
    "tags": []
   },
   "source": [
    "## Hsize"
   ]
  },
  {
   "cell_type": "markdown",
   "id": "11cd6d09-098c-4d93-b231-9dc047935f10",
   "metadata": {
    "tags": []
   },
   "source": [
    "### Group by"
   ]
  },
  {
   "cell_type": "code",
   "execution_count": 91,
   "id": "ef81a5c3-397c-45ef-a8d2-605dc677f705",
   "metadata": {},
   "outputs": [],
   "source": [
    "df_hsizes = df_hsizes[df_hsizes[\"N_nodes\"] == 1000]"
   ]
  },
  {
   "cell_type": "code",
   "execution_count": 92,
   "id": "19bd18c3-3b90-4ff3-a1bd-78970876ac32",
   "metadata": {},
   "outputs": [],
   "source": [
    "df_fits2 = df_fits2.round({'q_frac': 3})"
   ]
  },
  {
   "cell_type": "code",
   "execution_count": 93,
   "id": "0f258c57-17ee-46ec-9ab2-b6e410fe4d69",
   "metadata": {
    "tags": []
   },
   "outputs": [
    {
     "data": {
      "text/html": [
       "<div>\n",
       "<style scoped>\n",
       "    .dataframe tbody tr th:only-of-type {\n",
       "        vertical-align: middle;\n",
       "    }\n",
       "\n",
       "    .dataframe tbody tr th {\n",
       "        vertical-align: top;\n",
       "    }\n",
       "\n",
       "    .dataframe thead th {\n",
       "        text-align: right;\n",
       "    }\n",
       "</style>\n",
       "<table border=\"1\" class=\"dataframe\">\n",
       "  <thead>\n",
       "    <tr style=\"text-align: right;\">\n",
       "      <th></th>\n",
       "      <th>q / p</th>\n",
       "      <th>hsize</th>\n",
       "      <th>Percentage</th>\n",
       "    </tr>\n",
       "  </thead>\n",
       "  <tbody>\n",
       "    <tr>\n",
       "      <th>0</th>\n",
       "      <td>0.0</td>\n",
       "      <td>8</td>\n",
       "      <td>0.15430</td>\n",
       "    </tr>\n",
       "    <tr>\n",
       "      <th>1</th>\n",
       "      <td>0.0</td>\n",
       "      <td>7</td>\n",
       "      <td>0.14835</td>\n",
       "    </tr>\n",
       "    <tr>\n",
       "      <th>2</th>\n",
       "      <td>0.0</td>\n",
       "      <td>9</td>\n",
       "      <td>0.12910</td>\n",
       "    </tr>\n",
       "    <tr>\n",
       "      <th>3</th>\n",
       "      <td>0.0</td>\n",
       "      <td>6</td>\n",
       "      <td>0.12165</td>\n",
       "    </tr>\n",
       "    <tr>\n",
       "      <th>4</th>\n",
       "      <td>0.0</td>\n",
       "      <td>10</td>\n",
       "      <td>0.10630</td>\n",
       "    </tr>\n",
       "    <tr>\n",
       "      <th>...</th>\n",
       "      <td>...</td>\n",
       "      <td>...</td>\n",
       "      <td>...</td>\n",
       "    </tr>\n",
       "    <tr>\n",
       "      <th>405</th>\n",
       "      <td>1.0</td>\n",
       "      <td>11</td>\n",
       "      <td>0.00010</td>\n",
       "    </tr>\n",
       "    <tr>\n",
       "      <th>406</th>\n",
       "      <td>1.0</td>\n",
       "      <td>12</td>\n",
       "      <td>0.00010</td>\n",
       "    </tr>\n",
       "    <tr>\n",
       "      <th>407</th>\n",
       "      <td>1.0</td>\n",
       "      <td>52</td>\n",
       "      <td>0.00005</td>\n",
       "    </tr>\n",
       "    <tr>\n",
       "      <th>408</th>\n",
       "      <td>1.0</td>\n",
       "      <td>54</td>\n",
       "      <td>0.00005</td>\n",
       "    </tr>\n",
       "    <tr>\n",
       "      <th>409</th>\n",
       "      <td>1.0</td>\n",
       "      <td>59</td>\n",
       "      <td>0.00005</td>\n",
       "    </tr>\n",
       "  </tbody>\n",
       "</table>\n",
       "<p>410 rows × 3 columns</p>\n",
       "</div>"
      ],
      "text/plain": [
       "     q / p  hsize  Percentage\n",
       "0      0.0      8     0.15430\n",
       "1      0.0      7     0.14835\n",
       "2      0.0      9     0.12910\n",
       "3      0.0      6     0.12165\n",
       "4      0.0     10     0.10630\n",
       "..     ...    ...         ...\n",
       "405    1.0     11     0.00010\n",
       "406    1.0     12     0.00010\n",
       "407    1.0     52     0.00005\n",
       "408    1.0     54     0.00005\n",
       "409    1.0     59     0.00005\n",
       "\n",
       "[410 rows x 3 columns]"
      ]
     },
     "execution_count": 93,
     "metadata": {},
     "output_type": "execute_result"
    }
   ],
   "source": [
    "grouped = df_hsizes.groupby('q / p')['hsize'].value_counts(normalize=True).reset_index(name='Percentage')\n",
    "grouped"
   ]
  },
  {
   "cell_type": "code",
   "execution_count": 94,
   "id": "66b2b63b-50c0-471b-899d-1e7c199094e5",
   "metadata": {
    "tags": []
   },
   "outputs": [],
   "source": [
    "grouped = grouped.round({'q / p': 2})"
   ]
  },
  {
   "cell_type": "code",
   "execution_count": 95,
   "id": "c16c0b2d-ff4b-45bc-91e7-defd95d1ba48",
   "metadata": {
    "tags": []
   },
   "outputs": [],
   "source": [
    "grouped['binomial'] = 0  # Initialize the column\n",
    "\n",
    "for q in qs:\n",
    "    q = round(q, 2)\n",
    "    # df = df_hsizes[df_hsizes[\"q\"] == f\"{q}p\"]\n",
    "    df = df_hsizes[df_hsizes[\"q\"] == q]\n",
    "    \n",
    "    # fit_values = df_fits2[(df_fits2[\"q_frac\"] == f\"{q}p\") & (df_fits2[\"measure\"] == \"hsize\") & (df_fits2[\"bounds\"] == \"p Fixed\")]\n",
    "    fit_values = df_fits2[(df_fits2[\"q_frac\"] == q) & (df_fits2[\"measure\"] == \"hsize\") & (df_fits2[\"bounds\"] == \"p Fixed\")]\n",
    "    \n",
    "    x_values = range(60)  # Assuming a range from 0 to 10\n",
    "    for x in x_values:\n",
    "        binom_pdf = stats.binom.pmf(x, fit_values.Neff, fit_values.peff)\n",
    "        grouped.loc[(grouped['hsize'] == x) & (grouped['q / p'] == q), 'binomial'] = binom_pdf"
   ]
  },
  {
   "cell_type": "code",
   "execution_count": 96,
   "id": "022cfedf-6338-4795-b2d3-f8891b27c9ae",
   "metadata": {
    "tags": []
   },
   "outputs": [],
   "source": [
    "# grouped_selp = grouped[grouped.q.isin([\"0.0p\", \"0.3p\", \"0.7p\", \"1.0p\"])]\n",
    "grouped_selp = grouped[grouped[\"q / p\"].isin([0, 0.3, 0.7, 1])]"
   ]
  },
  {
   "cell_type": "code",
   "execution_count": 97,
   "id": "310ecfe6-38ed-4afd-8382-fd5cef9d016f",
   "metadata": {},
   "outputs": [
    {
     "data": {
      "text/html": [
       "<div>\n",
       "<style scoped>\n",
       "    .dataframe tbody tr th:only-of-type {\n",
       "        vertical-align: middle;\n",
       "    }\n",
       "\n",
       "    .dataframe tbody tr th {\n",
       "        vertical-align: top;\n",
       "    }\n",
       "\n",
       "    .dataframe thead th {\n",
       "        text-align: right;\n",
       "    }\n",
       "</style>\n",
       "<table border=\"1\" class=\"dataframe\">\n",
       "  <thead>\n",
       "    <tr style=\"text-align: right;\">\n",
       "      <th></th>\n",
       "      <th>q / p</th>\n",
       "      <th>hsize</th>\n",
       "      <th>Percentage</th>\n",
       "      <th>binomial</th>\n",
       "    </tr>\n",
       "  </thead>\n",
       "  <tbody>\n",
       "    <tr>\n",
       "      <th>0</th>\n",
       "      <td>0.0</td>\n",
       "      <td>8</td>\n",
       "      <td>0.15430</td>\n",
       "      <td>1.412357e-01</td>\n",
       "    </tr>\n",
       "    <tr>\n",
       "      <th>1</th>\n",
       "      <td>0.0</td>\n",
       "      <td>7</td>\n",
       "      <td>0.14835</td>\n",
       "      <td>1.368275e-01</td>\n",
       "    </tr>\n",
       "    <tr>\n",
       "      <th>2</th>\n",
       "      <td>0.0</td>\n",
       "      <td>9</td>\n",
       "      <td>0.12910</td>\n",
       "      <td>1.291020e-01</td>\n",
       "    </tr>\n",
       "    <tr>\n",
       "      <th>3</th>\n",
       "      <td>0.0</td>\n",
       "      <td>6</td>\n",
       "      <td>0.12165</td>\n",
       "      <td>1.155546e-01</td>\n",
       "    </tr>\n",
       "    <tr>\n",
       "      <th>4</th>\n",
       "      <td>0.0</td>\n",
       "      <td>10</td>\n",
       "      <td>0.10630</td>\n",
       "      <td>1.058104e-01</td>\n",
       "    </tr>\n",
       "    <tr>\n",
       "      <th>...</th>\n",
       "      <td>...</td>\n",
       "      <td>...</td>\n",
       "      <td>...</td>\n",
       "      <td>...</td>\n",
       "    </tr>\n",
       "    <tr>\n",
       "      <th>405</th>\n",
       "      <td>1.0</td>\n",
       "      <td>11</td>\n",
       "      <td>0.00010</td>\n",
       "      <td>3.678851e-05</td>\n",
       "    </tr>\n",
       "    <tr>\n",
       "      <th>406</th>\n",
       "      <td>1.0</td>\n",
       "      <td>12</td>\n",
       "      <td>0.00010</td>\n",
       "      <td>9.348833e-05</td>\n",
       "    </tr>\n",
       "    <tr>\n",
       "      <th>407</th>\n",
       "      <td>1.0</td>\n",
       "      <td>52</td>\n",
       "      <td>0.00005</td>\n",
       "      <td>5.588254e-05</td>\n",
       "    </tr>\n",
       "    <tr>\n",
       "      <th>408</th>\n",
       "      <td>1.0</td>\n",
       "      <td>54</td>\n",
       "      <td>0.00005</td>\n",
       "      <td>1.666132e-05</td>\n",
       "    </tr>\n",
       "    <tr>\n",
       "      <th>409</th>\n",
       "      <td>1.0</td>\n",
       "      <td>59</td>\n",
       "      <td>0.00005</td>\n",
       "      <td>5.790247e-07</td>\n",
       "    </tr>\n",
       "  </tbody>\n",
       "</table>\n",
       "<p>132 rows × 4 columns</p>\n",
       "</div>"
      ],
      "text/plain": [
       "     q / p  hsize  Percentage      binomial\n",
       "0      0.0      8     0.15430  1.412357e-01\n",
       "1      0.0      7     0.14835  1.368275e-01\n",
       "2      0.0      9     0.12910  1.291020e-01\n",
       "3      0.0      6     0.12165  1.155546e-01\n",
       "4      0.0     10     0.10630  1.058104e-01\n",
       "..     ...    ...         ...           ...\n",
       "405    1.0     11     0.00010  3.678851e-05\n",
       "406    1.0     12     0.00010  9.348833e-05\n",
       "407    1.0     52     0.00005  5.588254e-05\n",
       "408    1.0     54     0.00005  1.666132e-05\n",
       "409    1.0     59     0.00005  5.790247e-07\n",
       "\n",
       "[132 rows x 4 columns]"
      ]
     },
     "execution_count": 97,
     "metadata": {},
     "output_type": "execute_result"
    }
   ],
   "source": [
    "grouped_selp"
   ]
  },
  {
   "cell_type": "code",
   "execution_count": 149,
   "id": "ed6325e4-d289-46bc-9459-a497e21d1cdc",
   "metadata": {
    "tags": []
   },
   "outputs": [],
   "source": [
    "# pdf = alt.Chart(grouped_selp).mark_line(width=1, opacity=0.7, color=\"darkgrey\").encode(\n",
    "pdf = alt.Chart(grouped_selp).mark_line(width=1, opacity=0.7, color=\"black\", fill=None).encode(\n",
    "        # x=alt.X('hsize:O', title=\"Hyperedge Size\", axis=alt.Axis(tickMinStep=10), scale=alt.Scale(domain=list(range(3, 51)), padding=0.1, paddingInner=0.1)),\n",
    "        x=alt.X('hsize:Q', title=\"m\", axis=alt.Axis(tickMinStep=5)),\n",
    "        y=alt.Y('binomial:Q', title=\"P(m)\"),\n",
    "        # color=\"q\"\n",
    "        # facet=alt.Facet(\"q:O\")    \n",
    ")"
   ]
  },
  {
   "cell_type": "code",
   "execution_count": 150,
   "id": "2ed6085b-0b78-4d87-bd5c-c688b9491bd3",
   "metadata": {
    "tags": []
   },
   "outputs": [],
   "source": [
    "# distrib = alt.Chart(grouped_selp).mark_bar(width=5,  opacity=0.7, color=\"black\").encode(\n",
    "distrib = alt.Chart(grouped_selp).mark_bar(width=5,  opacity=0.7).encode(\n",
    "        # x=alt.X('hsize:O', title=\"Hyperedge Size\", axis=alt.Axis(tickMinStep=10), scale=alt.Scale(domain=list(range(3, 51)), padding=0.1, paddingInner=0.1)),\n",
    "        x=alt.X('hsize:Q', title=\"m\", axis=alt.Axis(tickMinStep=5)),\n",
    "        y=alt.Y('Percentage:Q'),\n",
    "        # facet=alt.Facet(\"q:O\")\n",
    "        # color=\"q\"\n",
    "    )"
   ]
  },
  {
   "cell_type": "code",
   "execution_count": 151,
   "id": "97af04aa-8c09-4da5-ad14-892cefd876ed",
   "metadata": {
    "tags": []
   },
   "outputs": [
    {
     "data": {
      "text/html": [
       "\n",
       "<style>\n",
       "  #altair-viz-a5a84aefa44a4ccaba2e8db637640549.vega-embed {\n",
       "    width: 100%;\n",
       "    display: flex;\n",
       "  }\n",
       "\n",
       "  #altair-viz-a5a84aefa44a4ccaba2e8db637640549.vega-embed details,\n",
       "  #altair-viz-a5a84aefa44a4ccaba2e8db637640549.vega-embed details summary {\n",
       "    position: relative;\n",
       "  }\n",
       "</style>\n",
       "<div id=\"altair-viz-a5a84aefa44a4ccaba2e8db637640549\"></div>\n",
       "<script type=\"text/javascript\">\n",
       "  var VEGA_DEBUG = (typeof VEGA_DEBUG == \"undefined\") ? {} : VEGA_DEBUG;\n",
       "  (function(spec, embedOpt){\n",
       "    let outputDiv = document.currentScript.previousElementSibling;\n",
       "    if (outputDiv.id !== \"altair-viz-a5a84aefa44a4ccaba2e8db637640549\") {\n",
       "      outputDiv = document.getElementById(\"altair-viz-a5a84aefa44a4ccaba2e8db637640549\");\n",
       "    }\n",
       "    const paths = {\n",
       "      \"vega\": \"https://cdn.jsdelivr.net/npm/vega@5?noext\",\n",
       "      \"vega-lib\": \"https://cdn.jsdelivr.net/npm/vega-lib?noext\",\n",
       "      \"vega-lite\": \"https://cdn.jsdelivr.net/npm/vega-lite@5.15.1?noext\",\n",
       "      \"vega-embed\": \"https://cdn.jsdelivr.net/npm/vega-embed@6?noext\",\n",
       "    };\n",
       "\n",
       "    function maybeLoadScript(lib, version) {\n",
       "      var key = `${lib.replace(\"-\", \"\")}_version`;\n",
       "      return (VEGA_DEBUG[key] == version) ?\n",
       "        Promise.resolve(paths[lib]) :\n",
       "        new Promise(function(resolve, reject) {\n",
       "          var s = document.createElement('script');\n",
       "          document.getElementsByTagName(\"head\")[0].appendChild(s);\n",
       "          s.async = true;\n",
       "          s.onload = () => {\n",
       "            VEGA_DEBUG[key] = version;\n",
       "            return resolve(paths[lib]);\n",
       "          };\n",
       "          s.onerror = () => reject(`Error loading script: ${paths[lib]}`);\n",
       "          s.src = paths[lib];\n",
       "        });\n",
       "    }\n",
       "\n",
       "    function showError(err) {\n",
       "      outputDiv.innerHTML = `<div class=\"error\" style=\"color:red;\">${err}</div>`;\n",
       "      throw err;\n",
       "    }\n",
       "\n",
       "    function displayChart(vegaEmbed) {\n",
       "      vegaEmbed(outputDiv, spec, embedOpt)\n",
       "        .catch(err => showError(`Javascript Error: ${err.message}<br>This usually means there's a typo in your chart specification. See the javascript console for the full traceback.`));\n",
       "    }\n",
       "\n",
       "    if(typeof define === \"function\" && define.amd) {\n",
       "      requirejs.config({paths});\n",
       "      require([\"vega-embed\"], displayChart, err => showError(`Error loading script: ${err.message}`));\n",
       "    } else {\n",
       "      maybeLoadScript(\"vega\", \"5\")\n",
       "        .then(() => maybeLoadScript(\"vega-lite\", \"5.15.1\"))\n",
       "        .then(() => maybeLoadScript(\"vega-embed\", \"6\"))\n",
       "        .catch(showError)\n",
       "        .then(() => displayChart(vegaEmbed));\n",
       "    }\n",
       "  })({\"$schema\": \"https://vega.github.io/schema/vega/v5.json\", \"data\": [{\"name\": \"source_0\", \"values\": [{\"q / p\": 0.0, \"hsize\": 8, \"Percentage\": 0.1543, \"binomial\": 0.14123565014961414}, {\"q / p\": 0.0, \"hsize\": 7, \"Percentage\": 0.14835, \"binomial\": 0.1368275462123603}, {\"q / p\": 0.0, \"hsize\": 9, \"Percentage\": 0.1291, \"binomial\": 0.12910200322954382}, {\"q / p\": 0.0, \"hsize\": 6, \"Percentage\": 0.12165, \"binomial\": 0.11555460681367255}, {\"q / p\": 0.0, \"hsize\": 10, \"Percentage\": 0.1063, \"binomial\": 0.10581040470874957}, {\"q / p\": 0.0, \"hsize\": 5, \"Percentage\": 0.0816, \"binomial\": 0.08333677963513934}, {\"q / p\": 0.0, \"hsize\": 11, \"Percentage\": 0.0807, \"binomial\": 0.07853968184567045}, {\"q / p\": 0.0, \"hsize\": 12, \"Percentage\": 0.0513, \"binomial\": 0.05323694929229718}, {\"q / p\": 0.0, \"hsize\": 4, \"Percentage\": 0.04365, \"binomial\": 0.04989918286795375}, {\"q / p\": 0.0, \"hsize\": 13, \"Percentage\": 0.03045, \"binomial\": 0.03318337997124941}, {\"q / p\": 0.0, \"hsize\": 3, \"Percentage\": 0.0166, \"binomial\": 0.02381412417314397}, {\"q / p\": 0.0, \"hsize\": 14, \"Percentage\": 0.01515, \"binomial\": 0.01913297976250981}, {\"q / p\": 0.0, \"hsize\": 15, \"Percentage\": 0.0077, \"binomial\": 0.010256855130417622}, {\"q / p\": 0.0, \"hsize\": 2, \"Percentage\": 0.0055, \"binomial\": 0.008492536929393264}, {\"q / p\": 0.0, \"hsize\": 16, \"Percentage\": 0.0043, \"binomial\": 0.005135036363617575}, {\"q / p\": 0.0, \"hsize\": 17, \"Percentage\": 0.0013, \"binomial\": 0.002410259639442095}, {\"q / p\": 0.0, \"hsize\": 18, \"Percentage\": 0.00085, \"binomial\": 0.0010643242737742578}, {\"q / p\": 0.0, \"hsize\": 1, \"Percentage\": 0.00065, \"binomial\": 0.0020116632042763037}, {\"q / p\": 0.0, \"hsize\": 19, \"Percentage\": 0.00035, \"binomial\": 0.00044351657203398195}, {\"q / p\": 0.0, \"hsize\": 20, \"Percentage\": 0.00015, \"binomial\": 0.00017489184412680276}, {\"q / p\": 0.0, \"hsize\": 22, \"Percentage\": 5e-05, \"binomial\": 2.32691682748003e-05}, {\"q / p\": 0.3, \"hsize\": 14, \"Percentage\": 0.1079, \"binomial\": 0.10551372023016041}, {\"q / p\": 0.3, \"hsize\": 15, \"Percentage\": 0.1055, \"binomial\": 0.10377328773151863}, {\"q / p\": 0.3, \"hsize\": 13, \"Percentage\": 0.0998, \"binomial\": 0.09992164021796232}, {\"q / p\": 0.3, \"hsize\": 16, \"Percentage\": 0.09495, \"binomial\": 0.09548212299008273}, {\"q / p\": 0.3, \"hsize\": 12, \"Percentage\": 0.09125, \"binomial\": 0.08768349917526126}, {\"q / p\": 0.3, \"hsize\": 17, \"Percentage\": 0.0845, \"binomial\": 0.08251184066759762}, {\"q / p\": 0.3, \"hsize\": 11, \"Percentage\": 0.0739, \"binomial\": 0.07087749516666962}, {\"q / p\": 0.3, \"hsize\": 18, \"Percentage\": 0.0677, \"binomial\": 0.06720036507979577}, {\"q / p\": 0.3, \"hsize\": 10, \"Percentage\": 0.05305, \"binomial\": 0.052409069537655034}, {\"q / p\": 0.3, \"hsize\": 19, \"Percentage\": 0.0508, \"binomial\": 0.051740270237780606}, {\"q / p\": 0.3, \"hsize\": 20, \"Percentage\": 0.0361, \"binomial\": 0.03776506322510182}, {\"q / p\": 0.3, \"hsize\": 9, \"Percentage\": 0.0324, \"binomial\": 0.03515684471059847}, {\"q / p\": 0.3, \"hsize\": 21, \"Percentage\": 0.0261, \"binomial\": 0.026196384063362218}, {\"q / p\": 0.3, \"hsize\": 8, \"Percentage\": 0.0197, \"binomial\": 0.021181453024397907}, {\"q / p\": 0.3, \"hsize\": 22, \"Percentage\": 0.01635, \"binomial\": 0.017308763603252383}, {\"q / p\": 0.3, \"hsize\": 7, \"Percentage\": 0.01015, \"binomial\": 0.011320115390449543}, {\"q / p\": 0.3, \"hsize\": 23, \"Percentage\": 0.0099, \"binomial\": 0.010915925768613256}, {\"q / p\": 0.3, \"hsize\": 24, \"Percentage\": 0.00635, \"binomial\": 0.006583316056328648}, {\"q / p\": 0.3, \"hsize\": 6, \"Percentage\": 0.0042, \"binomial\": 0.005282720515543121}, {\"q / p\": 0.3, \"hsize\": 25, \"Percentage\": 0.0035, \"binomial\": 0.0038033920803779092}, {\"q / p\": 0.3, \"hsize\": 26, \"Percentage\": 0.0021, \"binomial\": 0.002108303778100044}, {\"q / p\": 0.3, \"hsize\": 5, \"Percentage\": 0.0013, \"binomial\": 0.002108740288097469}, {\"q / p\": 0.3, \"hsize\": 27, \"Percentage\": 0.00095, \"binomial\": 0.0011229796756202985}, {\"q / p\": 0.3, \"hsize\": 28, \"Percentage\": 0.0007, \"binomial\": 0.0005755477571662201}, {\"q / p\": 0.3, \"hsize\": 4, \"Percentage\": 0.00055, \"binomial\": 0.0007000267212370092}, {\"q / p\": 0.3, \"hsize\": 29, \"Percentage\": 0.00015, \"binomial\": 0.0002841933290806535}, {\"q / p\": 0.3, \"hsize\": 30, \"Percentage\": 5e-05, \"binomial\": 0.00013535805983016765}, {\"q / p\": 0.3, \"hsize\": 31, \"Percentage\": 5e-05, \"binomial\": 6.225480437150716e-05}, {\"q / p\": 0.3, \"hsize\": 33, \"Percentage\": 5e-05, \"binomial\": 1.1906346373213776e-05}, {\"q / p\": 0.7, \"hsize\": 23, \"Percentage\": 0.0833, \"binomial\": 0.08383617484672165}, {\"q / p\": 0.7, \"hsize\": 22, \"Percentage\": 0.08065, \"binomial\": 0.08225088218251342}, {\"q / p\": 0.7, \"hsize\": 24, \"Percentage\": 0.0791, \"binomial\": 0.08178348499867077}, {\"q / p\": 0.7, \"hsize\": 21, \"Percentage\": 0.0785, \"binomial\": 0.07708536784254909}, {\"q / p\": 0.7, \"hsize\": 25, \"Percentage\": 0.0775, \"binomial\": 0.0764886366915402}, {\"q / p\": 0.7, \"hsize\": 26, \"Percentage\": 0.0712, \"binomial\": 0.0686941959184527}, {\"q / p\": 0.7, \"hsize\": 20, \"Percentage\": 0.0686, \"binomial\": 0.06886969048038281}, {\"q / p\": 0.7, \"hsize\": 19, \"Percentage\": 0.0622, \"binomial\": 0.05852264543668066}, {\"q / p\": 0.7, \"hsize\": 27, \"Percentage\": 0.06065, \"binomial\": 0.05933038227091985}, {\"q / p\": 0.7, \"hsize\": 28, \"Percentage\": 0.05075, \"binomial\": 0.04934732457658661}, {\"q / p\": 0.7, \"hsize\": 18, \"Percentage\": 0.0448, \"binomial\": 0.04718164284330844}, {\"q / p\": 0.7, \"hsize\": 29, \"Percentage\": 0.039, \"binomial\": 0.039576098202907486}, {\"q / p\": 0.7, \"hsize\": 17, \"Percentage\": 0.03345, \"binomial\": 0.035989143033821086}, {\"q / p\": 0.7, \"hsize\": 30, \"Percentage\": 0.03125, \"binomial\": 0.030640876031323344}, {\"q / p\": 0.7, \"hsize\": 16, \"Percentage\": 0.02535, \"binomial\": 0.0258927124183118}, {\"q / p\": 0.7, \"hsize\": 31, \"Percentage\": 0.0218, \"binomial\": 0.022927160316088484}, {\"q / p\": 0.7, \"hsize\": 15, \"Percentage\": 0.01815, \"binomial\": 0.017510017286806182}, {\"q / p\": 0.7, \"hsize\": 32, \"Percentage\": 0.0163, \"binomial\": 0.0165970777159312}, {\"q / p\": 0.7, \"hsize\": 14, \"Percentage\": 0.01165, \"binomial\": 0.011086629744257082}, {\"q / p\": 0.7, \"hsize\": 33, \"Percentage\": 0.0111, \"binomial\": 0.011635064790549723}, {\"q / p\": 0.7, \"hsize\": 34, \"Percentage\": 0.0093, \"binomial\": 0.007906058276416527}, {\"q / p\": 0.7, \"hsize\": 13, \"Percentage\": 0.00565, \"binomial\": 0.006543087002477697}, {\"q / p\": 0.7, \"hsize\": 35, \"Percentage\": 0.0043, \"binomial\": 0.0052117108755877104}, {\"q / p\": 0.7, \"hsize\": 12, \"Percentage\": 0.00355, \"binomial\": 0.0035810905859915126}, {\"q / p\": 0.7, \"hsize\": 36, \"Percentage\": 0.00335, \"binomial\": 0.0033356740569698033}, {\"q / p\": 0.7, \"hsize\": 37, \"Percentage\": 0.0024, \"binomial\": 0.002074456532503925}, {\"q / p\": 0.7, \"hsize\": 11, \"Percentage\": 0.00175, \"binomial\": 0.0018068441448175435}, {\"q / p\": 0.7, \"hsize\": 38, \"Percentage\": 0.00145, \"binomial\": 0.0012544665249460854}, {\"q / p\": 0.7, \"hsize\": 10, \"Percentage\": 0.00075, \"binomial\": 0.0008345899145109661}, {\"q / p\": 0.7, \"hsize\": 39, \"Percentage\": 0.00075, \"binomial\": 0.0007381555602775596}, {\"q / p\": 0.7, \"hsize\": 40, \"Percentage\": 0.00045, \"binomial\": 0.00042291747693221337}, {\"q / p\": 0.7, \"hsize\": 8, \"Percentage\": 0.00025, \"binomial\": 0.00013193041312395648}, {\"q / p\": 0.7, \"hsize\": 41, \"Percentage\": 0.00025, \"binomial\": 0.00023607664037956288}, {\"q / p\": 0.7, \"hsize\": 9, \"Percentage\": 0.0002, \"binomial\": 0.0003500009585281607}, {\"q / p\": 0.7, \"hsize\": 44, \"Percentage\": 0.0001, \"binomial\": 3.532640495419879e-05}, {\"q / p\": 0.7, \"hsize\": 46, \"Percentage\": 0.0001, \"binomial\": 8.830662605194491e-06}, {\"q / p\": 0.7, \"hsize\": 42, \"Percentage\": 5e-05, \"binomial\": 0.00012846880503718475}, {\"q / p\": 0.7, \"hsize\": 7, \"Percentage\": 5e-05, \"binomial\": 4.414747761284645e-05}, {\"q / p\": 1.0, \"hsize\": 29, \"Percentage\": 0.07585, \"binomial\": 0.07389450366156779}, {\"q / p\": 1.0, \"hsize\": 28, \"Percentage\": 0.0747, \"binomial\": 0.07150507010663573}, {\"q / p\": 1.0, \"hsize\": 30, \"Percentage\": 0.0741, \"binomial\": 0.07374214386020359}, {\"q / p\": 1.0, \"hsize\": 31, \"Percentage\": 0.06905, \"binomial\": 0.07114265358777878}, {\"q / p\": 1.0, \"hsize\": 27, \"Percentage\": 0.0664, \"binomial\": 0.06673806543286001}, {\"q / p\": 1.0, \"hsize\": 32, \"Percentage\": 0.0663, \"binomial\": 0.0664212017066313}, {\"q / p\": 1.0, \"hsize\": 26, \"Percentage\": 0.0598, \"binomial\": 0.060002400744476554}, {\"q / p\": 1.0, \"hsize\": 33, \"Percentage\": 0.05825, \"binomial\": 0.06007165852567848}, {\"q / p\": 1.0, \"hsize\": 25, \"Percentage\": 0.0524, \"binomial\": 0.051895080479276316}, {\"q / p\": 1.0, \"hsize\": 34, \"Percentage\": 0.0506, \"binomial\": 0.05267654228510032}, {\"q / p\": 1.0, \"hsize\": 35, \"Percentage\": 0.04355, \"binomial\": 0.044825487676481944}, {\"q / p\": 1.0, \"hsize\": 24, \"Percentage\": 0.04315, \"binomial\": 0.04311256257699388}, {\"q / p\": 1.0, \"hsize\": 36, \"Percentage\": 0.03935, \"binomial\": 0.03704649411063191}, {\"q / p\": 1.0, \"hsize\": 23, \"Percentage\": 0.03645, \"binomial\": 0.03434840714553116}, {\"q / p\": 1.0, \"hsize\": 37, \"Percentage\": 0.0311, \"binomial\": 0.02975899763749005}, {\"q / p\": 1.0, \"hsize\": 22, \"Percentage\": 0.02435, \"binomial\": 0.026198733792027345}, {\"q / p\": 1.0, \"hsize\": 38, \"Percentage\": 0.02295, \"binomial\": 0.023251739879536333}, {\"q / p\": 1.0, \"hsize\": 21, \"Percentage\": 0.01765, \"binomial\": 0.019094295735036314}, {\"q / p\": 1.0, \"hsize\": 39, \"Percentage\": 0.0171, \"binomial\": 0.017683123350099608}, {\"q / p\": 1.0, \"hsize\": 40, \"Percentage\": 0.0125, \"binomial\": 0.013098272295924094}, {\"q / p\": 1.0, \"hsize\": 20, \"Percentage\": 0.01225, \"binomial\": 0.013270242378802134}, {\"q / p\": 1.0, \"hsize\": 41, \"Percentage\": 0.00985, \"binomial\": 0.009455654956398824}, {\"q / p\": 1.0, \"hsize\": 19, \"Percentage\": 0.0088, \"binomial\": 0.008774461559262413}, {\"q / p\": 1.0, \"hsize\": 42, \"Percentage\": 0.0063, \"binomial\": 0.006656558275638699}, {\"q / p\": 1.0, \"hsize\": 18, \"Percentage\": 0.0056, \"binomial\": 0.005506071724113266}, {\"q / p\": 1.0, \"hsize\": 43, \"Percentage\": 0.0049, \"binomial\": 0.004572294284273509}, {\"q / p\": 1.0, \"hsize\": 44, \"Percentage\": 0.00365, \"binomial\": 0.003066051134393354}, {\"q / p\": 1.0, \"hsize\": 17, \"Percentage\": 0.0031, \"binomial\": 0.0032699323912591133}, {\"q / p\": 1.0, \"hsize\": 16, \"Percentage\": 0.00225, \"binomial\": 0.0018321843401924113}, {\"q / p\": 1.0, \"hsize\": 45, \"Percentage\": 0.00225, \"binomial\": 0.002008210811736688}, {\"q / p\": 1.0, \"hsize\": 46, \"Percentage\": 0.0016, \"binomial\": 0.0012853989418018632}, {\"q / p\": 1.0, \"hsize\": 47, \"Percentage\": 0.0012, \"binomial\": 0.0008043963985436961}, {\"q / p\": 1.0, \"hsize\": 15, \"Percentage\": 0.00065, \"binomial\": 0.0009652240651658547}, {\"q / p\": 1.0, \"hsize\": 14, \"Percentage\": 0.00055, \"binomial\": 0.0004762295743697293}, {\"q / p\": 1.0, \"hsize\": 48, \"Percentage\": 0.00045, \"binomial\": 0.0004923818161188854}, {\"q / p\": 1.0, \"hsize\": 13, \"Percentage\": 0.0002, \"binomial\": 0.00021907851016059922}, {\"q / p\": 1.0, \"hsize\": 51, \"Percentage\": 0.0002, \"binomial\": 9.93204858931265e-05}, {\"q / p\": 1.0, \"hsize\": 50, \"Percentage\": 0.00015, \"binomial\": 0.00017294559792794756}, {\"q / p\": 1.0, \"hsize\": 49, \"Percentage\": 0.0001, \"binomial\": 0.00029493183894182433}, {\"q / p\": 1.0, \"hsize\": 11, \"Percentage\": 0.0001, \"binomial\": 3.678850935405545e-05}, {\"q / p\": 1.0, \"hsize\": 12, \"Percentage\": 0.0001, \"binomial\": 9.348832531726456e-05}, {\"q / p\": 1.0, \"hsize\": 52, \"Percentage\": 5e-05, \"binomial\": 5.5882541428368324e-05}, {\"q / p\": 1.0, \"hsize\": 54, \"Percentage\": 5e-05, \"binomial\": 1.666131836754043e-05}, {\"q / p\": 1.0, \"hsize\": 59, \"Percentage\": 5e-05, \"binomial\": 5.790246500367505e-07}]}, {\"name\": \"facet_domain\", \"values\": [{\"q / p\": 0.0, \"count\": 21}, {\"q / p\": 0.3, \"count\": 29}, {\"q / p\": 0.7, \"count\": 38}, {\"q / p\": 1.0, \"count\": 44}]}, {\"name\": \"facet_domain_row\", \"values\": [{\"data\": 0.0}, {\"data\": 1.0}]}, {\"name\": \"facet_domain_column\", \"transform\": [{\"type\": \"sequence\", \"start\": 0.0, \"stop\": {\"signal\": \"min(length(data(\\\"facet_domain\\\")), 2)\"}}]}, {\"name\": \"data_2\", \"values\": [{\"Percentage_end\": 0.1543, \"Percentage_start\": 0.0, \"hsize\": 8}, {\"Percentage_end\": 0.14835, \"Percentage_start\": 0.0, \"hsize\": 7}, {\"Percentage_end\": 0.1291, \"Percentage_start\": 0.0, \"hsize\": 9}, {\"Percentage_end\": 0.12165, \"Percentage_start\": 0.0, \"hsize\": 6}, {\"Percentage_end\": 0.1063, \"Percentage_start\": 0.0, \"hsize\": 10}, {\"Percentage_end\": 0.0816, \"Percentage_start\": 0.0, \"hsize\": 5}, {\"Percentage_end\": 0.0807, \"Percentage_start\": 0.0, \"hsize\": 11}, {\"Percentage_end\": 0.0513, \"Percentage_start\": 0.0, \"hsize\": 12}, {\"Percentage_end\": 0.04365, \"Percentage_start\": 0.0, \"hsize\": 4}, {\"Percentage_end\": 0.03045, \"Percentage_start\": 0.0, \"hsize\": 13}, {\"Percentage_end\": 0.0166, \"Percentage_start\": 0.0, \"hsize\": 3}, {\"Percentage_end\": 0.01515, \"Percentage_start\": 0.0, \"hsize\": 14}, {\"Percentage_end\": 0.0077, \"Percentage_start\": 0.0, \"hsize\": 15}, {\"Percentage_end\": 0.0055, \"Percentage_start\": 0.0, \"hsize\": 2}, {\"Percentage_end\": 0.0043, \"Percentage_start\": 0.0, \"hsize\": 16}, {\"Percentage_end\": 0.0013, \"Percentage_start\": 0.0, \"hsize\": 17}, {\"Percentage_end\": 0.00085, \"Percentage_start\": 0.0, \"hsize\": 18}, {\"Percentage_end\": 0.00065, \"Percentage_start\": 0.0, \"hsize\": 1}, {\"Percentage_end\": 0.00035, \"Percentage_start\": 0.0, \"hsize\": 19}, {\"Percentage_end\": 0.00015, \"Percentage_start\": 0.0, \"hsize\": 20}, {\"Percentage_end\": 5e-05, \"Percentage_start\": 0.0, \"hsize\": 22}, {\"Percentage_end\": 0.1079, \"Percentage_start\": 0.0, \"hsize\": 14}, {\"Percentage_end\": 0.1055, \"Percentage_start\": 0.0, \"hsize\": 15}, {\"Percentage_end\": 0.0998, \"Percentage_start\": 0.0, \"hsize\": 13}, {\"Percentage_end\": 0.09495, \"Percentage_start\": 0.0, \"hsize\": 16}, {\"Percentage_end\": 0.09125, \"Percentage_start\": 0.0, \"hsize\": 12}, {\"Percentage_end\": 0.0845, \"Percentage_start\": 0.0, \"hsize\": 17}, {\"Percentage_end\": 0.0739, \"Percentage_start\": 0.0, \"hsize\": 11}, {\"Percentage_end\": 0.0677, \"Percentage_start\": 0.0, \"hsize\": 18}, {\"Percentage_end\": 0.05305, \"Percentage_start\": 0.0, \"hsize\": 10}, {\"Percentage_end\": 0.0508, \"Percentage_start\": 0.0, \"hsize\": 19}, {\"Percentage_end\": 0.0361, \"Percentage_start\": 0.0, \"hsize\": 20}, {\"Percentage_end\": 0.0324, \"Percentage_start\": 0.0, \"hsize\": 9}, {\"Percentage_end\": 0.0261, \"Percentage_start\": 0.0, \"hsize\": 21}, {\"Percentage_end\": 0.0197, \"Percentage_start\": 0.0, \"hsize\": 8}, {\"Percentage_end\": 0.01635, \"Percentage_start\": 0.0, \"hsize\": 22}, {\"Percentage_end\": 0.01015, \"Percentage_start\": 0.0, \"hsize\": 7}, {\"Percentage_end\": 0.0099, \"Percentage_start\": 0.0, \"hsize\": 23}, {\"Percentage_end\": 0.00635, \"Percentage_start\": 0.0, \"hsize\": 24}, {\"Percentage_end\": 0.0042, \"Percentage_start\": 0.0, \"hsize\": 6}, {\"Percentage_end\": 0.0035, \"Percentage_start\": 0.0, \"hsize\": 25}, {\"Percentage_end\": 0.0021, \"Percentage_start\": 0.0, \"hsize\": 26}, {\"Percentage_end\": 0.0013, \"Percentage_start\": 0.0, \"hsize\": 5}, {\"Percentage_end\": 0.00095, \"Percentage_start\": 0.0, \"hsize\": 27}, {\"Percentage_end\": 0.0007, \"Percentage_start\": 0.0, \"hsize\": 28}, {\"Percentage_end\": 0.00055, \"Percentage_start\": 0.0, \"hsize\": 4}, {\"Percentage_end\": 0.00015, \"Percentage_start\": 0.0, \"hsize\": 29}, {\"Percentage_end\": 5e-05, \"Percentage_start\": 0.0, \"hsize\": 30}, {\"Percentage_end\": 5e-05, \"Percentage_start\": 0.0, \"hsize\": 31}, {\"Percentage_end\": 5e-05, \"Percentage_start\": 0.0, \"hsize\": 33}, {\"Percentage_end\": 0.0833, \"Percentage_start\": 0.0, \"hsize\": 23}, {\"Percentage_end\": 0.08065, \"Percentage_start\": 0.0, \"hsize\": 22}, {\"Percentage_end\": 0.0791, \"Percentage_start\": 0.0, \"hsize\": 24}, {\"Percentage_end\": 0.0785, \"Percentage_start\": 0.0, \"hsize\": 21}, {\"Percentage_end\": 0.0775, \"Percentage_start\": 0.0, \"hsize\": 25}, {\"Percentage_end\": 0.0712, \"Percentage_start\": 0.0, \"hsize\": 26}, {\"Percentage_end\": 0.0686, \"Percentage_start\": 0.0, \"hsize\": 20}, {\"Percentage_end\": 0.0622, \"Percentage_start\": 0.0, \"hsize\": 19}, {\"Percentage_end\": 0.06065, \"Percentage_start\": 0.0, \"hsize\": 27}, {\"Percentage_end\": 0.05075, \"Percentage_start\": 0.0, \"hsize\": 28}, {\"Percentage_end\": 0.0448, \"Percentage_start\": 0.0, \"hsize\": 18}, {\"Percentage_end\": 0.039, \"Percentage_start\": 0.0, \"hsize\": 29}, {\"Percentage_end\": 0.03345, \"Percentage_start\": 0.0, \"hsize\": 17}, {\"Percentage_end\": 0.03125, \"Percentage_start\": 0.0, \"hsize\": 30}, {\"Percentage_end\": 0.02535, \"Percentage_start\": 0.0, \"hsize\": 16}, {\"Percentage_end\": 0.0218, \"Percentage_start\": 0.0, \"hsize\": 31}, {\"Percentage_end\": 0.01815, \"Percentage_start\": 0.0, \"hsize\": 15}, {\"Percentage_end\": 0.0163, \"Percentage_start\": 0.0, \"hsize\": 32}, {\"Percentage_end\": 0.01165, \"Percentage_start\": 0.0, \"hsize\": 14}, {\"Percentage_end\": 0.0111, \"Percentage_start\": 0.0, \"hsize\": 33}, {\"Percentage_end\": 0.0093, \"Percentage_start\": 0.0, \"hsize\": 34}, {\"Percentage_end\": 0.00565, \"Percentage_start\": 0.0, \"hsize\": 13}, {\"Percentage_end\": 0.0043, \"Percentage_start\": 0.0, \"hsize\": 35}, {\"Percentage_end\": 0.00355, \"Percentage_start\": 0.0, \"hsize\": 12}, {\"Percentage_end\": 0.00335, \"Percentage_start\": 0.0, \"hsize\": 36}, {\"Percentage_end\": 0.0024, \"Percentage_start\": 0.0, \"hsize\": 37}, {\"Percentage_end\": 0.00175, \"Percentage_start\": 0.0, \"hsize\": 11}, {\"Percentage_end\": 0.00145, \"Percentage_start\": 0.0, \"hsize\": 38}, {\"Percentage_end\": 0.00075, \"Percentage_start\": 0.0, \"hsize\": 10}, {\"Percentage_end\": 0.00075, \"Percentage_start\": 0.0, \"hsize\": 39}, {\"Percentage_end\": 0.00045, \"Percentage_start\": 0.0, \"hsize\": 40}, {\"Percentage_end\": 0.00025, \"Percentage_start\": 0.0, \"hsize\": 8}, {\"Percentage_end\": 0.00025, \"Percentage_start\": 0.0, \"hsize\": 41}, {\"Percentage_end\": 0.0002, \"Percentage_start\": 0.0, \"hsize\": 9}, {\"Percentage_end\": 0.0001, \"Percentage_start\": 0.0, \"hsize\": 44}, {\"Percentage_end\": 0.0001, \"Percentage_start\": 0.0, \"hsize\": 46}, {\"Percentage_end\": 5e-05, \"Percentage_start\": 0.0, \"hsize\": 42}, {\"Percentage_end\": 5e-05, \"Percentage_start\": 0.0, \"hsize\": 7}, {\"Percentage_end\": 0.07585, \"Percentage_start\": 0.0, \"hsize\": 29}, {\"Percentage_end\": 0.0747, \"Percentage_start\": 0.0, \"hsize\": 28}, {\"Percentage_end\": 0.0741, \"Percentage_start\": 0.0, \"hsize\": 30}, {\"Percentage_end\": 0.06905, \"Percentage_start\": 0.0, \"hsize\": 31}, {\"Percentage_end\": 0.0664, \"Percentage_start\": 0.0, \"hsize\": 27}, {\"Percentage_end\": 0.0663, \"Percentage_start\": 0.0, \"hsize\": 32}, {\"Percentage_end\": 0.0598, \"Percentage_start\": 0.0, \"hsize\": 26}, {\"Percentage_end\": 0.05825, \"Percentage_start\": 0.0, \"hsize\": 33}, {\"Percentage_end\": 0.0524, \"Percentage_start\": 0.0, \"hsize\": 25}, {\"Percentage_end\": 0.0506, \"Percentage_start\": 0.0, \"hsize\": 34}, {\"Percentage_end\": 0.04355, \"Percentage_start\": 0.0, \"hsize\": 35}, {\"Percentage_end\": 0.04315, \"Percentage_start\": 0.0, \"hsize\": 24}, {\"Percentage_end\": 0.03935, \"Percentage_start\": 0.0, \"hsize\": 36}, {\"Percentage_end\": 0.03645, \"Percentage_start\": 0.0, \"hsize\": 23}, {\"Percentage_end\": 0.0311, \"Percentage_start\": 0.0, \"hsize\": 37}, {\"Percentage_end\": 0.02435, \"Percentage_start\": 0.0, \"hsize\": 22}, {\"Percentage_end\": 0.02295, \"Percentage_start\": 0.0, \"hsize\": 38}, {\"Percentage_end\": 0.01765, \"Percentage_start\": 0.0, \"hsize\": 21}, {\"Percentage_end\": 0.0171, \"Percentage_start\": 0.0, \"hsize\": 39}, {\"Percentage_end\": 0.0125, \"Percentage_start\": 0.0, \"hsize\": 40}, {\"Percentage_end\": 0.01225, \"Percentage_start\": 0.0, \"hsize\": 20}, {\"Percentage_end\": 0.00985, \"Percentage_start\": 0.0, \"hsize\": 41}, {\"Percentage_end\": 0.0088, \"Percentage_start\": 0.0, \"hsize\": 19}, {\"Percentage_end\": 0.0063, \"Percentage_start\": 0.0, \"hsize\": 42}, {\"Percentage_end\": 0.0056, \"Percentage_start\": 0.0, \"hsize\": 18}, {\"Percentage_end\": 0.0049, \"Percentage_start\": 0.0, \"hsize\": 43}, {\"Percentage_end\": 0.00365, \"Percentage_start\": 0.0, \"hsize\": 44}, {\"Percentage_end\": 0.0031, \"Percentage_start\": 0.0, \"hsize\": 17}, {\"Percentage_end\": 0.00225, \"Percentage_start\": 0.0, \"hsize\": 16}, {\"Percentage_end\": 0.00225, \"Percentage_start\": 0.0, \"hsize\": 45}, {\"Percentage_end\": 0.0016, \"Percentage_start\": 0.0, \"hsize\": 46}, {\"Percentage_end\": 0.0012, \"Percentage_start\": 0.0, \"hsize\": 47}, {\"Percentage_end\": 0.00065, \"Percentage_start\": 0.0, \"hsize\": 15}, {\"Percentage_end\": 0.00055, \"Percentage_start\": 0.0, \"hsize\": 14}, {\"Percentage_end\": 0.00045, \"Percentage_start\": 0.0, \"hsize\": 48}, {\"Percentage_end\": 0.0002, \"Percentage_start\": 0.0, \"hsize\": 13}, {\"Percentage_end\": 0.0002, \"Percentage_start\": 0.0, \"hsize\": 51}, {\"Percentage_end\": 0.00015, \"Percentage_start\": 0.0, \"hsize\": 50}, {\"Percentage_end\": 0.0001, \"Percentage_start\": 0.0, \"hsize\": 49}, {\"Percentage_end\": 0.0001, \"Percentage_start\": 0.0, \"hsize\": 11}, {\"Percentage_end\": 0.0001, \"Percentage_start\": 0.0, \"hsize\": 12}, {\"Percentage_end\": 5e-05, \"Percentage_start\": 0.0, \"hsize\": 52}, {\"Percentage_end\": 5e-05, \"Percentage_start\": 0.0, \"hsize\": 54}, {\"Percentage_end\": 5e-05, \"Percentage_start\": 0.0, \"hsize\": 59}]}], \"signals\": [{\"name\": \"child_width\", \"value\": 300}, {\"name\": \"child_height\", \"value\": 300}], \"marks\": [{\"type\": \"group\", \"name\": \"facet-title\", \"title\": {\"text\": \"q / p\", \"style\": \"guide-title\", \"fontSize\": 20, \"offset\": 10}, \"role\": \"column-title\"}, {\"type\": \"group\", \"name\": \"row_header\", \"from\": {\"data\": \"facet_domain_row\"}, \"encode\": {\"update\": {\"height\": {\"signal\": \"child_height\"}}}, \"axes\": [{\"scale\": \"y\", \"grid\": false, \"labelOverlap\": true, \"zindex\": 0, \"title\": \"P(m)\", \"tickCount\": {\"signal\": \"ceil(child_height/40)\"}, \"orient\": \"left\"}], \"role\": \"row-header\"}, {\"type\": \"group\", \"name\": \"column_footer\", \"from\": {\"data\": \"facet_domain_column\"}, \"encode\": {\"update\": {\"width\": {\"signal\": \"child_width\"}}}, \"axes\": [{\"scale\": \"x\", \"orient\": \"bottom\", \"tickCount\": {\"signal\": \"ceil(child_width/40)\"}, \"labelFlush\": true, \"title\": \"m\", \"labelOverlap\": true, \"zindex\": 0, \"grid\": false}], \"role\": \"column-footer\"}, {\"type\": \"group\", \"name\": \"cell\", \"from\": {\"facet\": {\"data\": \"source_0\", \"name\": \"facet\", \"groupby\": [\"q / p\"]}}, \"sort\": {\"field\": [\"datum[\\\"q / p\\\"]\"], \"order\": [\"ascending\"]}, \"encode\": {\"update\": {\"height\": {\"signal\": \"child_height\"}, \"width\": {\"signal\": \"child_width\"}}}, \"data\": [{\"name\": \"data_0\", \"source\": \"facet\", \"transform\": [{\"type\": \"stack\", \"field\": \"Percentage\", \"groupby\": [\"hsize\"], \"sort\": {\"field\": [], \"order\": []}, \"as\": [\"Percentage_start\", \"Percentage_end\"], \"offset\": \"zero\"}, {\"type\": \"filter\", \"expr\": \"isValid(datum[\\\"hsize\\\"]) && isFinite(+datum[\\\"hsize\\\"]) && isValid(datum[\\\"Percentage\\\"]) && isFinite(+datum[\\\"Percentage\\\"])\"}, {\"type\": \"project\", \"fields\": [\"Percentage\", \"Percentage_end\", \"Percentage_start\", \"hsize\"]}]}], \"marks\": [{\"type\": \"line\", \"name\": \"child_layer_0_marks\", \"from\": {\"data\": \"facet\"}, \"sort\": {\"field\": \"datum[\\\"hsize\\\"]\"}, \"encode\": {\"update\": {\"description\": {\"signal\": \"\\\"m: \\\" + (format(datum[\\\"hsize\\\"], \\\"\\\")) + \\\"; P(m): \\\" + (format(datum[\\\"binomial\\\"], \\\"\\\"))\"}, \"y\": {\"field\": \"binomial\", \"scale\": \"y\"}, \"defined\": {\"signal\": \"isValid(datum[\\\"hsize\\\"]) && isFinite(+datum[\\\"hsize\\\"]) && isValid(datum[\\\"binomial\\\"]) && isFinite(+datum[\\\"binomial\\\"])\"}, \"opacity\": {\"value\": 0.7}, \"fill\": {}, \"stroke\": {\"value\": \"black\"}, \"x\": {\"field\": \"hsize\", \"scale\": \"x\"}}}, \"style\": [\"line\"]}, {\"type\": \"rect\", \"name\": \"child_layer_1_marks\", \"from\": {\"data\": \"data_0\"}, \"encode\": {\"update\": {\"y\": {\"field\": \"Percentage_end\", \"scale\": \"y\"}, \"width\": {\"value\": 5}, \"opacity\": {\"value\": 0.7}, \"description\": {\"signal\": \"\\\"m: \\\" + (format(datum[\\\"hsize\\\"], \\\"\\\")) + \\\"; Percentage: \\\" + (format(datum[\\\"Percentage\\\"], \\\"\\\"))\"}, \"ariaRoleDescription\": {\"value\": \"bar\"}, \"fill\": {\"value\": \"#9ebcda\"}, \"y2\": {\"field\": \"Percentage_start\", \"scale\": \"y\"}, \"xc\": {\"field\": \"hsize\", \"scale\": \"x\"}}}, \"style\": [\"bar\"]}], \"title\": {\"text\": {\"signal\": \"format(parent[\\\"q / p\\\"], \\\"\\\")\"}, \"offset\": 10, \"frame\": \"group\", \"style\": \"guide-label\", \"fontSize\": 18}, \"style\": \"cell\"}], \"scales\": [{\"name\": \"x\", \"type\": \"linear\", \"domain\": {\"fields\": [{\"data\": \"source_0\", \"field\": \"hsize\"}, {\"data\": \"data_2\", \"field\": \"hsize\"}]}, \"range\": [0, {\"signal\": \"child_width\"}], \"nice\": true, \"zero\": false, \"padding\": 5}, {\"name\": \"y\", \"type\": \"linear\", \"domain\": {\"fields\": [{\"data\": \"source_0\", \"field\": \"binomial\"}, {\"data\": \"data_2\", \"field\": \"Percentage_start\"}, {\"data\": \"data_2\", \"field\": \"Percentage_end\"}]}, \"range\": [{\"signal\": \"child_height\"}, 0], \"nice\": true, \"zero\": true}], \"padding\": 5, \"config\": {\"mark\": {\"fill\": \"#9ebcda\"}, \"axisX\": {\"labelFont\": \"monospace\", \"labelFontSize\": 16, \"titleFontSize\": 20, \"grid\": false}, \"axisY\": {\"domain\": false, \"grid\": false, \"labelFont\": \"monospace\", \"labelFontSize\": 16, \"titleFontSize\": 20, \"titleAngle\": 0, \"titleX\": -80}, \"legend\": {\"titleFontSize\": 20, \"labelFontSize\": 16}, \"style\": {\"cell\": {\"height\": 300, \"width\": 300}, \"line\": {\"fill\": null, \"stroke\": \"black\"}, \"group-title\": {\"fontSize\": 18, \"font\": \"monospace\", \"fontColor\": \"#000000\"}}}, \"layout\": {\"padding\": 20, \"bounds\": \"full\", \"align\": \"all\", \"columns\": 2}, \"background\": \"white\"}, {\"mode\": \"vega\"});\n",
       "</script>"
      ],
      "text/plain": [
       "alt.FacetChart(...)"
      ]
     },
     "execution_count": 151,
     "metadata": {},
     "output_type": "execute_result"
    }
   ],
   "source": [
    "alt.layer(pdf, distrib, data=grouped_selp).facet(\n",
    "    facet=alt.Facet('q / p', header=alt.Header(labelFontSize=18, titleFontSize=20)),  columns=2\n",
    ").configure_axisY(\n",
    "    titleAngle=0,\n",
    "    titleX=-80,\n",
    ")"
   ]
  },
  {
   "cell_type": "markdown",
   "id": "5110b2c6-19c1-4347-99f3-dc20ee9374db",
   "metadata": {},
   "source": [
    "## Hyperedge composition"
   ]
  },
  {
   "cell_type": "code",
   "execution_count": 101,
   "id": "0975639a-2686-42e9-8f87-3977c21f6e3f",
   "metadata": {},
   "outputs": [
    {
     "data": {
      "text/html": [
       "<div>\n",
       "<style scoped>\n",
       "    .dataframe tbody tr th:only-of-type {\n",
       "        vertical-align: middle;\n",
       "    }\n",
       "\n",
       "    .dataframe tbody tr th {\n",
       "        vertical-align: top;\n",
       "    }\n",
       "\n",
       "    .dataframe thead th {\n",
       "        text-align: right;\n",
       "    }\n",
       "</style>\n",
       "<table border=\"1\" class=\"dataframe\">\n",
       "  <thead>\n",
       "    <tr style=\"text-align: right;\">\n",
       "      <th></th>\n",
       "      <th>q</th>\n",
       "      <th>gini</th>\n",
       "      <th>strat</th>\n",
       "      <th>q / p</th>\n",
       "      <th>N / E</th>\n",
       "    </tr>\n",
       "  </thead>\n",
       "  <tbody>\n",
       "    <tr>\n",
       "      <th>0</th>\n",
       "      <td>0.0000</td>\n",
       "      <td>1.000000</td>\n",
       "      <td>weighted</td>\n",
       "      <td>0.00</td>\n",
       "      <td>1.0</td>\n",
       "    </tr>\n",
       "    <tr>\n",
       "      <th>1</th>\n",
       "      <td>0.0000</td>\n",
       "      <td>1.000000</td>\n",
       "      <td>weighted</td>\n",
       "      <td>0.00</td>\n",
       "      <td>1.0</td>\n",
       "    </tr>\n",
       "    <tr>\n",
       "      <th>2</th>\n",
       "      <td>0.0000</td>\n",
       "      <td>1.000000</td>\n",
       "      <td>weighted</td>\n",
       "      <td>0.00</td>\n",
       "      <td>1.0</td>\n",
       "    </tr>\n",
       "    <tr>\n",
       "      <th>3</th>\n",
       "      <td>0.0000</td>\n",
       "      <td>1.000000</td>\n",
       "      <td>weighted</td>\n",
       "      <td>0.00</td>\n",
       "      <td>1.0</td>\n",
       "    </tr>\n",
       "    <tr>\n",
       "      <th>4</th>\n",
       "      <td>0.0000</td>\n",
       "      <td>1.000000</td>\n",
       "      <td>weighted</td>\n",
       "      <td>0.00</td>\n",
       "      <td>1.0</td>\n",
       "    </tr>\n",
       "    <tr>\n",
       "      <th>...</th>\n",
       "      <td>...</td>\n",
       "      <td>...</td>\n",
       "      <td>...</td>\n",
       "      <td>...</td>\n",
       "      <td>...</td>\n",
       "    </tr>\n",
       "    <tr>\n",
       "      <th>6237590</th>\n",
       "      <td>0.0015</td>\n",
       "      <td>0.833333</td>\n",
       "      <td>frequent</td>\n",
       "      <td>0.05</td>\n",
       "      <td>10.0</td>\n",
       "    </tr>\n",
       "    <tr>\n",
       "      <th>6237591</th>\n",
       "      <td>0.0015</td>\n",
       "      <td>0.955556</td>\n",
       "      <td>frequent</td>\n",
       "      <td>0.05</td>\n",
       "      <td>10.0</td>\n",
       "    </tr>\n",
       "    <tr>\n",
       "      <th>6237592</th>\n",
       "      <td>0.0015</td>\n",
       "      <td>0.925926</td>\n",
       "      <td>frequent</td>\n",
       "      <td>0.05</td>\n",
       "      <td>10.0</td>\n",
       "    </tr>\n",
       "    <tr>\n",
       "      <th>6237593</th>\n",
       "      <td>0.0015</td>\n",
       "      <td>0.789474</td>\n",
       "      <td>frequent</td>\n",
       "      <td>0.05</td>\n",
       "      <td>10.0</td>\n",
       "    </tr>\n",
       "    <tr>\n",
       "      <th>6237594</th>\n",
       "      <td>0.0015</td>\n",
       "      <td>0.964912</td>\n",
       "      <td>frequent</td>\n",
       "      <td>0.05</td>\n",
       "      <td>10.0</td>\n",
       "    </tr>\n",
       "  </tbody>\n",
       "</table>\n",
       "<p>6237595 rows × 5 columns</p>\n",
       "</div>"
      ],
      "text/plain": [
       "              q      gini     strat  q / p  N / E\n",
       "0        0.0000  1.000000  weighted   0.00    1.0\n",
       "1        0.0000  1.000000  weighted   0.00    1.0\n",
       "2        0.0000  1.000000  weighted   0.00    1.0\n",
       "3        0.0000  1.000000  weighted   0.00    1.0\n",
       "4        0.0000  1.000000  weighted   0.00    1.0\n",
       "...         ...       ...       ...    ...    ...\n",
       "6237590  0.0015  0.833333  frequent   0.05   10.0\n",
       "6237591  0.0015  0.955556  frequent   0.05   10.0\n",
       "6237592  0.0015  0.925926  frequent   0.05   10.0\n",
       "6237593  0.0015  0.789474  frequent   0.05   10.0\n",
       "6237594  0.0015  0.964912  frequent   0.05   10.0\n",
       "\n",
       "[6237595 rows x 5 columns]"
      ]
     },
     "execution_count": 101,
     "metadata": {},
     "output_type": "execute_result"
    }
   ],
   "source": [
    "df_fraction2"
   ]
  },
  {
   "cell_type": "code",
   "execution_count": 102,
   "id": "937a3773-73f3-4cb0-9bc9-32a7ed7605f5",
   "metadata": {},
   "outputs": [],
   "source": [
    "df_fraction2['strat'] = df_fraction2['strat'].replace(['frequent'], ['majority'])"
   ]
  },
  {
   "cell_type": "code",
   "execution_count": 103,
   "id": "ec0c8793-96c8-4dd3-9199-68f991118ff9",
   "metadata": {},
   "outputs": [],
   "source": [
    "df_fraction2 = df_fraction2.round({\"q / p\": 3})"
   ]
  },
  {
   "cell_type": "code",
   "execution_count": 166,
   "id": "bdc6da00-69e1-4246-a620-97e380c3c7af",
   "metadata": {},
   "outputs": [],
   "source": [
    "# 1000 nodes\n",
    "df_fraction_1000 = df_fraction2[df_fraction2[\"N / E\"] == 5]"
   ]
  },
  {
   "cell_type": "code",
   "execution_count": 167,
   "id": "ba10a78f-f535-4ee3-a0b1-7233f8b3bafc",
   "metadata": {},
   "outputs": [],
   "source": [
    "df_test = df_fraction2[(df_fraction2[\"N / E\"].isin([10])) & (df_fraction2[\"strat\"] == \"max\")]"
   ]
  },
  {
   "cell_type": "code",
   "execution_count": 421,
   "id": "a7162f4b-c580-4318-8217-0982842084d2",
   "metadata": {
    "collapsed": true,
    "jupyter": {
     "outputs_hidden": true,
     "source_hidden": true
    },
    "tags": []
   },
   "outputs": [
    {
     "ename": "ValueError",
     "evalue": "Unable to determine data type for the field \"mean(value)\"; verify that the field name is not misspelled. If you are referencing a field from a transform, also confirm that the data type is specified correctly.",
     "output_type": "error",
     "traceback": [
      "\u001b[0;31m---------------------------------------------------------------------------\u001b[0m",
      "\u001b[0;31mValueError\u001b[0m                                Traceback (most recent call last)",
      "\u001b[0;32m~/anaconda3/envs/DS/lib/python3.11/site-packages/altair/vegalite/v5/api.py\u001b[0m in \u001b[0;36m?\u001b[0;34m(self, include, exclude)\u001b[0m\n\u001b[1;32m   2308\u001b[0m         \u001b[0;31m# see https://github.com/ipython/ipython/issues/11038\u001b[0m\u001b[0;34m\u001b[0m\u001b[0;34m\u001b[0m\u001b[0m\n\u001b[1;32m   2309\u001b[0m         \u001b[0;32mtry\u001b[0m\u001b[0;34m:\u001b[0m\u001b[0;34m\u001b[0m\u001b[0;34m\u001b[0m\u001b[0m\n\u001b[1;32m   2310\u001b[0m             \u001b[0mdct\u001b[0m \u001b[0;34m=\u001b[0m \u001b[0mself\u001b[0m\u001b[0;34m.\u001b[0m\u001b[0mto_dict\u001b[0m\u001b[0;34m(\u001b[0m\u001b[0mcontext\u001b[0m\u001b[0;34m=\u001b[0m\u001b[0;34m{\u001b[0m\u001b[0;34m\"pre_transform\"\u001b[0m\u001b[0;34m:\u001b[0m \u001b[0;32mFalse\u001b[0m\u001b[0;34m}\u001b[0m\u001b[0;34m)\u001b[0m\u001b[0;34m\u001b[0m\u001b[0;34m\u001b[0m\u001b[0m\n\u001b[1;32m   2311\u001b[0m         \u001b[0;32mexcept\u001b[0m \u001b[0mException\u001b[0m\u001b[0;34m:\u001b[0m\u001b[0;34m\u001b[0m\u001b[0;34m\u001b[0m\u001b[0m\n\u001b[0;32m-> 2312\u001b[0;31m             \u001b[0mutils\u001b[0m\u001b[0;34m.\u001b[0m\u001b[0mdisplay_traceback\u001b[0m\u001b[0;34m(\u001b[0m\u001b[0min_ipython\u001b[0m\u001b[0;34m=\u001b[0m\u001b[0;32mTrue\u001b[0m\u001b[0;34m)\u001b[0m\u001b[0;34m\u001b[0m\u001b[0;34m\u001b[0m\u001b[0m\n\u001b[0m\u001b[1;32m   2313\u001b[0m             \u001b[0;32mreturn\u001b[0m \u001b[0;34m{\u001b[0m\u001b[0;34m}\u001b[0m\u001b[0;34m\u001b[0m\u001b[0;34m\u001b[0m\u001b[0m\n\u001b[1;32m   2314\u001b[0m         \u001b[0;32melse\u001b[0m\u001b[0;34m:\u001b[0m\u001b[0;34m\u001b[0m\u001b[0;34m\u001b[0m\u001b[0m\n\u001b[1;32m   2315\u001b[0m             \u001b[0;32mreturn\u001b[0m \u001b[0mrenderers\u001b[0m\u001b[0;34m.\u001b[0m\u001b[0mget\u001b[0m\u001b[0;34m(\u001b[0m\u001b[0;34m)\u001b[0m\u001b[0;34m(\u001b[0m\u001b[0mdct\u001b[0m\u001b[0;34m)\u001b[0m\u001b[0;34m\u001b[0m\u001b[0;34m\u001b[0m\u001b[0m\n",
      "\u001b[0;32m~/anaconda3/envs/DS/lib/python3.11/site-packages/altair/vegalite/v5/api.py\u001b[0m in \u001b[0;36m?\u001b[0;34m(self, validate, format, ignore, context)\u001b[0m\n\u001b[1;32m    917\u001b[0m \u001b[0;34m\u001b[0m\u001b[0m\n\u001b[1;32m    918\u001b[0m         \u001b[0;31m# TopLevelMixin instance does not necessarily have to_dict defined\u001b[0m\u001b[0;34m\u001b[0m\u001b[0;34m\u001b[0m\u001b[0m\n\u001b[1;32m    919\u001b[0m         \u001b[0;31m# but due to how Altair is set up this should hold.\u001b[0m\u001b[0;34m\u001b[0m\u001b[0;34m\u001b[0m\u001b[0m\n\u001b[1;32m    920\u001b[0m         \u001b[0;31m# Too complex to type hint right now\u001b[0m\u001b[0;34m\u001b[0m\u001b[0;34m\u001b[0m\u001b[0m\n\u001b[0;32m--> 921\u001b[0;31m         vegalite_spec = super(TopLevelMixin, copy).to_dict(  # type: ignore[misc]\n\u001b[0m\u001b[1;32m    922\u001b[0m             \u001b[0mvalidate\u001b[0m\u001b[0;34m=\u001b[0m\u001b[0mvalidate\u001b[0m\u001b[0;34m,\u001b[0m \u001b[0mignore\u001b[0m\u001b[0;34m=\u001b[0m\u001b[0mignore\u001b[0m\u001b[0;34m,\u001b[0m \u001b[0mcontext\u001b[0m\u001b[0;34m=\u001b[0m\u001b[0mdict\u001b[0m\u001b[0;34m(\u001b[0m\u001b[0mcontext\u001b[0m\u001b[0;34m,\u001b[0m \u001b[0mpre_transform\u001b[0m\u001b[0;34m=\u001b[0m\u001b[0;32mFalse\u001b[0m\u001b[0;34m)\u001b[0m\u001b[0;34m\u001b[0m\u001b[0;34m\u001b[0m\u001b[0m\n\u001b[1;32m    923\u001b[0m         )\n\u001b[1;32m    924\u001b[0m \u001b[0;34m\u001b[0m\u001b[0m\n",
      "\u001b[0;32m~/anaconda3/envs/DS/lib/python3.11/site-packages/altair/utils/schemapi.py\u001b[0m in \u001b[0;36m?\u001b[0;34m(self, validate, ignore, context)\u001b[0m\n\u001b[1;32m    961\u001b[0m                 \u001b[0mk\u001b[0m\u001b[0;34m:\u001b[0m \u001b[0mv\u001b[0m \u001b[0;32mfor\u001b[0m \u001b[0mk\u001b[0m\u001b[0;34m,\u001b[0m \u001b[0mv\u001b[0m \u001b[0;32min\u001b[0m \u001b[0mkwds\u001b[0m\u001b[0;34m.\u001b[0m\u001b[0mitems\u001b[0m\u001b[0;34m(\u001b[0m\u001b[0;34m)\u001b[0m \u001b[0;32mif\u001b[0m \u001b[0mk\u001b[0m \u001b[0;32mnot\u001b[0m \u001b[0;32min\u001b[0m \u001b[0mlist\u001b[0m\u001b[0;34m(\u001b[0m\u001b[0mignore\u001b[0m\u001b[0;34m)\u001b[0m \u001b[0;34m+\u001b[0m \u001b[0;34m[\u001b[0m\u001b[0;34m\"shorthand\"\u001b[0m\u001b[0;34m]\u001b[0m\u001b[0;34m\u001b[0m\u001b[0;34m\u001b[0m\u001b[0m\n\u001b[1;32m    962\u001b[0m             }\n\u001b[1;32m    963\u001b[0m             \u001b[0;32mif\u001b[0m \u001b[0;34m\"mark\"\u001b[0m \u001b[0;32min\u001b[0m \u001b[0mkwds\u001b[0m \u001b[0;32mand\u001b[0m \u001b[0misinstance\u001b[0m\u001b[0;34m(\u001b[0m\u001b[0mkwds\u001b[0m\u001b[0;34m[\u001b[0m\u001b[0;34m\"mark\"\u001b[0m\u001b[0;34m]\u001b[0m\u001b[0;34m,\u001b[0m \u001b[0mstr\u001b[0m\u001b[0;34m)\u001b[0m\u001b[0;34m:\u001b[0m\u001b[0;34m\u001b[0m\u001b[0;34m\u001b[0m\u001b[0m\n\u001b[1;32m    964\u001b[0m                 \u001b[0mkwds\u001b[0m\u001b[0;34m[\u001b[0m\u001b[0;34m\"mark\"\u001b[0m\u001b[0;34m]\u001b[0m \u001b[0;34m=\u001b[0m \u001b[0;34m{\u001b[0m\u001b[0;34m\"type\"\u001b[0m\u001b[0;34m:\u001b[0m \u001b[0mkwds\u001b[0m\u001b[0;34m[\u001b[0m\u001b[0;34m\"mark\"\u001b[0m\u001b[0;34m]\u001b[0m\u001b[0;34m}\u001b[0m\u001b[0;34m\u001b[0m\u001b[0;34m\u001b[0m\u001b[0m\n\u001b[0;32m--> 965\u001b[0;31m             result = _todict(\n\u001b[0m\u001b[1;32m    966\u001b[0m                 \u001b[0mkwds\u001b[0m\u001b[0;34m,\u001b[0m\u001b[0;34m\u001b[0m\u001b[0;34m\u001b[0m\u001b[0m\n\u001b[1;32m    967\u001b[0m                 \u001b[0mcontext\u001b[0m\u001b[0;34m=\u001b[0m\u001b[0mcontext\u001b[0m\u001b[0;34m,\u001b[0m\u001b[0;34m\u001b[0m\u001b[0;34m\u001b[0m\u001b[0m\n\u001b[1;32m    968\u001b[0m             )\n",
      "\u001b[0;32m~/anaconda3/envs/DS/lib/python3.11/site-packages/altair/utils/schemapi.py\u001b[0m in \u001b[0;36m?\u001b[0;34m(obj, context)\u001b[0m\n\u001b[1;32m    473\u001b[0m         \u001b[0;32mreturn\u001b[0m \u001b[0mobj\u001b[0m\u001b[0;34m.\u001b[0m\u001b[0mto_dict\u001b[0m\u001b[0;34m(\u001b[0m\u001b[0mvalidate\u001b[0m\u001b[0;34m=\u001b[0m\u001b[0;32mFalse\u001b[0m\u001b[0;34m,\u001b[0m \u001b[0mcontext\u001b[0m\u001b[0;34m=\u001b[0m\u001b[0mcontext\u001b[0m\u001b[0;34m)\u001b[0m\u001b[0;34m\u001b[0m\u001b[0;34m\u001b[0m\u001b[0m\n\u001b[1;32m    474\u001b[0m     \u001b[0;32melif\u001b[0m \u001b[0misinstance\u001b[0m\u001b[0;34m(\u001b[0m\u001b[0mobj\u001b[0m\u001b[0;34m,\u001b[0m \u001b[0;34m(\u001b[0m\u001b[0mlist\u001b[0m\u001b[0;34m,\u001b[0m \u001b[0mtuple\u001b[0m\u001b[0;34m,\u001b[0m \u001b[0mnp\u001b[0m\u001b[0;34m.\u001b[0m\u001b[0mndarray\u001b[0m\u001b[0;34m)\u001b[0m\u001b[0;34m)\u001b[0m\u001b[0;34m:\u001b[0m\u001b[0;34m\u001b[0m\u001b[0;34m\u001b[0m\u001b[0m\n\u001b[1;32m    475\u001b[0m         \u001b[0;32mreturn\u001b[0m \u001b[0;34m[\u001b[0m\u001b[0m_todict\u001b[0m\u001b[0;34m(\u001b[0m\u001b[0mv\u001b[0m\u001b[0;34m,\u001b[0m \u001b[0mcontext\u001b[0m\u001b[0;34m)\u001b[0m \u001b[0;32mfor\u001b[0m \u001b[0mv\u001b[0m \u001b[0;32min\u001b[0m \u001b[0mobj\u001b[0m\u001b[0;34m]\u001b[0m\u001b[0;34m\u001b[0m\u001b[0;34m\u001b[0m\u001b[0m\n\u001b[1;32m    476\u001b[0m     \u001b[0;32melif\u001b[0m \u001b[0misinstance\u001b[0m\u001b[0;34m(\u001b[0m\u001b[0mobj\u001b[0m\u001b[0;34m,\u001b[0m \u001b[0mdict\u001b[0m\u001b[0;34m)\u001b[0m\u001b[0;34m:\u001b[0m\u001b[0;34m\u001b[0m\u001b[0;34m\u001b[0m\u001b[0m\n\u001b[0;32m--> 477\u001b[0;31m         \u001b[0;32mreturn\u001b[0m \u001b[0;34m{\u001b[0m\u001b[0mk\u001b[0m\u001b[0;34m:\u001b[0m \u001b[0m_todict\u001b[0m\u001b[0;34m(\u001b[0m\u001b[0mv\u001b[0m\u001b[0;34m,\u001b[0m \u001b[0mcontext\u001b[0m\u001b[0;34m)\u001b[0m \u001b[0;32mfor\u001b[0m \u001b[0mk\u001b[0m\u001b[0;34m,\u001b[0m \u001b[0mv\u001b[0m \u001b[0;32min\u001b[0m \u001b[0mobj\u001b[0m\u001b[0;34m.\u001b[0m\u001b[0mitems\u001b[0m\u001b[0;34m(\u001b[0m\u001b[0;34m)\u001b[0m \u001b[0;32mif\u001b[0m \u001b[0mv\u001b[0m \u001b[0;32mis\u001b[0m \u001b[0;32mnot\u001b[0m \u001b[0mUndefined\u001b[0m\u001b[0;34m}\u001b[0m\u001b[0;34m\u001b[0m\u001b[0;34m\u001b[0m\u001b[0m\n\u001b[0m\u001b[1;32m    478\u001b[0m     \u001b[0;32melif\u001b[0m \u001b[0mhasattr\u001b[0m\u001b[0;34m(\u001b[0m\u001b[0mobj\u001b[0m\u001b[0;34m,\u001b[0m \u001b[0;34m\"to_dict\"\u001b[0m\u001b[0;34m)\u001b[0m\u001b[0;34m:\u001b[0m\u001b[0;34m\u001b[0m\u001b[0;34m\u001b[0m\u001b[0m\n\u001b[1;32m    479\u001b[0m         \u001b[0;32mreturn\u001b[0m \u001b[0mobj\u001b[0m\u001b[0;34m.\u001b[0m\u001b[0mto_dict\u001b[0m\u001b[0;34m(\u001b[0m\u001b[0;34m)\u001b[0m\u001b[0;34m\u001b[0m\u001b[0;34m\u001b[0m\u001b[0m\n\u001b[1;32m    480\u001b[0m     \u001b[0;32melif\u001b[0m \u001b[0misinstance\u001b[0m\u001b[0;34m(\u001b[0m\u001b[0mobj\u001b[0m\u001b[0;34m,\u001b[0m \u001b[0mnp\u001b[0m\u001b[0;34m.\u001b[0m\u001b[0mnumber\u001b[0m\u001b[0;34m)\u001b[0m\u001b[0;34m:\u001b[0m\u001b[0;34m\u001b[0m\u001b[0;34m\u001b[0m\u001b[0m\n",
      "\u001b[0;32m~/anaconda3/envs/DS/lib/python3.11/site-packages/altair/utils/schemapi.py\u001b[0m in \u001b[0;36m?\u001b[0;34m(.0)\u001b[0m\n\u001b[0;32m--> 477\u001b[0;31m \u001b[0;32mdef\u001b[0m \u001b[0m_todict\u001b[0m\u001b[0;34m(\u001b[0m\u001b[0mobj\u001b[0m\u001b[0;34m:\u001b[0m \u001b[0mAny\u001b[0m\u001b[0;34m,\u001b[0m \u001b[0mcontext\u001b[0m\u001b[0;34m:\u001b[0m \u001b[0mOptional\u001b[0m\u001b[0;34m[\u001b[0m\u001b[0mDict\u001b[0m\u001b[0;34m[\u001b[0m\u001b[0mstr\u001b[0m\u001b[0;34m,\u001b[0m \u001b[0mAny\u001b[0m\u001b[0;34m]\u001b[0m\u001b[0;34m]\u001b[0m\u001b[0;34m)\u001b[0m \u001b[0;34m->\u001b[0m \u001b[0mAny\u001b[0m\u001b[0;34m:\u001b[0m\u001b[0;34m\u001b[0m\u001b[0;34m\u001b[0m\u001b[0m\n\u001b[0m\u001b[1;32m    478\u001b[0m     \u001b[0;34m\"\"\"Convert an object to a dict representation.\"\"\"\u001b[0m\u001b[0;34m\u001b[0m\u001b[0;34m\u001b[0m\u001b[0m\n\u001b[1;32m    479\u001b[0m     \u001b[0;32mif\u001b[0m \u001b[0misinstance\u001b[0m\u001b[0;34m(\u001b[0m\u001b[0mobj\u001b[0m\u001b[0;34m,\u001b[0m \u001b[0mSchemaBase\u001b[0m\u001b[0;34m)\u001b[0m\u001b[0;34m:\u001b[0m\u001b[0;34m\u001b[0m\u001b[0;34m\u001b[0m\u001b[0m\n\u001b[1;32m    480\u001b[0m         \u001b[0;32mreturn\u001b[0m \u001b[0mobj\u001b[0m\u001b[0;34m.\u001b[0m\u001b[0mto_dict\u001b[0m\u001b[0;34m(\u001b[0m\u001b[0mvalidate\u001b[0m\u001b[0;34m=\u001b[0m\u001b[0;32mFalse\u001b[0m\u001b[0;34m,\u001b[0m \u001b[0mcontext\u001b[0m\u001b[0;34m=\u001b[0m\u001b[0mcontext\u001b[0m\u001b[0;34m)\u001b[0m\u001b[0;34m\u001b[0m\u001b[0;34m\u001b[0m\u001b[0m\n",
      "\u001b[0;32m~/anaconda3/envs/DS/lib/python3.11/site-packages/altair/utils/schemapi.py\u001b[0m in \u001b[0;36m?\u001b[0;34m(obj, context)\u001b[0m\n\u001b[1;32m    471\u001b[0m     \u001b[0;34m\"\"\"Convert an object to a dict representation.\"\"\"\u001b[0m\u001b[0;34m\u001b[0m\u001b[0;34m\u001b[0m\u001b[0m\n\u001b[1;32m    472\u001b[0m     \u001b[0;32mif\u001b[0m \u001b[0misinstance\u001b[0m\u001b[0;34m(\u001b[0m\u001b[0mobj\u001b[0m\u001b[0;34m,\u001b[0m \u001b[0mSchemaBase\u001b[0m\u001b[0;34m)\u001b[0m\u001b[0;34m:\u001b[0m\u001b[0;34m\u001b[0m\u001b[0;34m\u001b[0m\u001b[0m\n\u001b[1;32m    473\u001b[0m         \u001b[0;32mreturn\u001b[0m \u001b[0mobj\u001b[0m\u001b[0;34m.\u001b[0m\u001b[0mto_dict\u001b[0m\u001b[0;34m(\u001b[0m\u001b[0mvalidate\u001b[0m\u001b[0;34m=\u001b[0m\u001b[0;32mFalse\u001b[0m\u001b[0;34m,\u001b[0m \u001b[0mcontext\u001b[0m\u001b[0;34m=\u001b[0m\u001b[0mcontext\u001b[0m\u001b[0;34m)\u001b[0m\u001b[0;34m\u001b[0m\u001b[0;34m\u001b[0m\u001b[0m\n\u001b[1;32m    474\u001b[0m     \u001b[0;32melif\u001b[0m \u001b[0misinstance\u001b[0m\u001b[0;34m(\u001b[0m\u001b[0mobj\u001b[0m\u001b[0;34m,\u001b[0m \u001b[0;34m(\u001b[0m\u001b[0mlist\u001b[0m\u001b[0;34m,\u001b[0m \u001b[0mtuple\u001b[0m\u001b[0;34m,\u001b[0m \u001b[0mnp\u001b[0m\u001b[0;34m.\u001b[0m\u001b[0mndarray\u001b[0m\u001b[0;34m)\u001b[0m\u001b[0;34m)\u001b[0m\u001b[0;34m:\u001b[0m\u001b[0;34m\u001b[0m\u001b[0;34m\u001b[0m\u001b[0m\n\u001b[0;32m--> 475\u001b[0;31m         \u001b[0;32mreturn\u001b[0m \u001b[0;34m[\u001b[0m\u001b[0m_todict\u001b[0m\u001b[0;34m(\u001b[0m\u001b[0mv\u001b[0m\u001b[0;34m,\u001b[0m \u001b[0mcontext\u001b[0m\u001b[0;34m)\u001b[0m \u001b[0;32mfor\u001b[0m \u001b[0mv\u001b[0m \u001b[0;32min\u001b[0m \u001b[0mobj\u001b[0m\u001b[0;34m]\u001b[0m\u001b[0;34m\u001b[0m\u001b[0;34m\u001b[0m\u001b[0m\n\u001b[0m\u001b[1;32m    476\u001b[0m     \u001b[0;32melif\u001b[0m \u001b[0misinstance\u001b[0m\u001b[0;34m(\u001b[0m\u001b[0mobj\u001b[0m\u001b[0;34m,\u001b[0m \u001b[0mdict\u001b[0m\u001b[0;34m)\u001b[0m\u001b[0;34m:\u001b[0m\u001b[0;34m\u001b[0m\u001b[0;34m\u001b[0m\u001b[0m\n\u001b[1;32m    477\u001b[0m         \u001b[0;32mreturn\u001b[0m \u001b[0;34m{\u001b[0m\u001b[0mk\u001b[0m\u001b[0;34m:\u001b[0m \u001b[0m_todict\u001b[0m\u001b[0;34m(\u001b[0m\u001b[0mv\u001b[0m\u001b[0;34m,\u001b[0m \u001b[0mcontext\u001b[0m\u001b[0;34m)\u001b[0m \u001b[0;32mfor\u001b[0m \u001b[0mk\u001b[0m\u001b[0;34m,\u001b[0m \u001b[0mv\u001b[0m \u001b[0;32min\u001b[0m \u001b[0mobj\u001b[0m\u001b[0;34m.\u001b[0m\u001b[0mitems\u001b[0m\u001b[0;34m(\u001b[0m\u001b[0;34m)\u001b[0m \u001b[0;32mif\u001b[0m \u001b[0mv\u001b[0m \u001b[0;32mis\u001b[0m \u001b[0;32mnot\u001b[0m \u001b[0mUndefined\u001b[0m\u001b[0;34m}\u001b[0m\u001b[0;34m\u001b[0m\u001b[0;34m\u001b[0m\u001b[0m\n\u001b[1;32m    478\u001b[0m     \u001b[0;32melif\u001b[0m \u001b[0mhasattr\u001b[0m\u001b[0;34m(\u001b[0m\u001b[0mobj\u001b[0m\u001b[0;34m,\u001b[0m \u001b[0;34m\"to_dict\"\u001b[0m\u001b[0;34m)\u001b[0m\u001b[0;34m:\u001b[0m\u001b[0;34m\u001b[0m\u001b[0;34m\u001b[0m\u001b[0m\n",
      "\u001b[0;32m~/anaconda3/envs/DS/lib/python3.11/site-packages/altair/utils/schemapi.py\u001b[0m in \u001b[0;36m?\u001b[0;34m(.0)\u001b[0m\n\u001b[0;32m--> 475\u001b[0;31m \u001b[0;32mdef\u001b[0m \u001b[0m_todict\u001b[0m\u001b[0;34m(\u001b[0m\u001b[0mobj\u001b[0m\u001b[0;34m:\u001b[0m \u001b[0mAny\u001b[0m\u001b[0;34m,\u001b[0m \u001b[0mcontext\u001b[0m\u001b[0;34m:\u001b[0m \u001b[0mOptional\u001b[0m\u001b[0;34m[\u001b[0m\u001b[0mDict\u001b[0m\u001b[0;34m[\u001b[0m\u001b[0mstr\u001b[0m\u001b[0;34m,\u001b[0m \u001b[0mAny\u001b[0m\u001b[0;34m]\u001b[0m\u001b[0;34m]\u001b[0m\u001b[0;34m)\u001b[0m \u001b[0;34m->\u001b[0m \u001b[0mAny\u001b[0m\u001b[0;34m:\u001b[0m\u001b[0;34m\u001b[0m\u001b[0;34m\u001b[0m\u001b[0m\n\u001b[0m\u001b[1;32m    476\u001b[0m     \u001b[0;34m\"\"\"Convert an object to a dict representation.\"\"\"\u001b[0m\u001b[0;34m\u001b[0m\u001b[0;34m\u001b[0m\u001b[0m\n\u001b[1;32m    477\u001b[0m     \u001b[0;32mif\u001b[0m \u001b[0misinstance\u001b[0m\u001b[0;34m(\u001b[0m\u001b[0mobj\u001b[0m\u001b[0;34m,\u001b[0m \u001b[0mSchemaBase\u001b[0m\u001b[0;34m)\u001b[0m\u001b[0;34m:\u001b[0m\u001b[0;34m\u001b[0m\u001b[0;34m\u001b[0m\u001b[0m\n\u001b[1;32m    478\u001b[0m         \u001b[0;32mreturn\u001b[0m \u001b[0mobj\u001b[0m\u001b[0;34m.\u001b[0m\u001b[0mto_dict\u001b[0m\u001b[0;34m(\u001b[0m\u001b[0mvalidate\u001b[0m\u001b[0;34m=\u001b[0m\u001b[0;32mFalse\u001b[0m\u001b[0;34m,\u001b[0m \u001b[0mcontext\u001b[0m\u001b[0;34m=\u001b[0m\u001b[0mcontext\u001b[0m\u001b[0;34m)\u001b[0m\u001b[0;34m\u001b[0m\u001b[0;34m\u001b[0m\u001b[0m\n",
      "\u001b[0;32m~/anaconda3/envs/DS/lib/python3.11/site-packages/altair/utils/schemapi.py\u001b[0m in \u001b[0;36m?\u001b[0;34m(obj, context)\u001b[0m\n\u001b[1;32m    470\u001b[0m \u001b[0;32mdef\u001b[0m \u001b[0m_todict\u001b[0m\u001b[0;34m(\u001b[0m\u001b[0mobj\u001b[0m\u001b[0;34m:\u001b[0m \u001b[0mAny\u001b[0m\u001b[0;34m,\u001b[0m \u001b[0mcontext\u001b[0m\u001b[0;34m:\u001b[0m \u001b[0mOptional\u001b[0m\u001b[0;34m[\u001b[0m\u001b[0mDict\u001b[0m\u001b[0;34m[\u001b[0m\u001b[0mstr\u001b[0m\u001b[0;34m,\u001b[0m \u001b[0mAny\u001b[0m\u001b[0;34m]\u001b[0m\u001b[0;34m]\u001b[0m\u001b[0;34m)\u001b[0m \u001b[0;34m->\u001b[0m \u001b[0mAny\u001b[0m\u001b[0;34m:\u001b[0m\u001b[0;34m\u001b[0m\u001b[0;34m\u001b[0m\u001b[0m\n\u001b[1;32m    471\u001b[0m     \u001b[0;34m\"\"\"Convert an object to a dict representation.\"\"\"\u001b[0m\u001b[0;34m\u001b[0m\u001b[0;34m\u001b[0m\u001b[0m\n\u001b[1;32m    472\u001b[0m     \u001b[0;32mif\u001b[0m \u001b[0misinstance\u001b[0m\u001b[0;34m(\u001b[0m\u001b[0mobj\u001b[0m\u001b[0;34m,\u001b[0m \u001b[0mSchemaBase\u001b[0m\u001b[0;34m)\u001b[0m\u001b[0;34m:\u001b[0m\u001b[0;34m\u001b[0m\u001b[0;34m\u001b[0m\u001b[0m\n\u001b[0;32m--> 473\u001b[0;31m         \u001b[0;32mreturn\u001b[0m \u001b[0mobj\u001b[0m\u001b[0;34m.\u001b[0m\u001b[0mto_dict\u001b[0m\u001b[0;34m(\u001b[0m\u001b[0mvalidate\u001b[0m\u001b[0;34m=\u001b[0m\u001b[0;32mFalse\u001b[0m\u001b[0;34m,\u001b[0m \u001b[0mcontext\u001b[0m\u001b[0;34m=\u001b[0m\u001b[0mcontext\u001b[0m\u001b[0;34m)\u001b[0m\u001b[0;34m\u001b[0m\u001b[0;34m\u001b[0m\u001b[0m\n\u001b[0m\u001b[1;32m    474\u001b[0m     \u001b[0;32melif\u001b[0m \u001b[0misinstance\u001b[0m\u001b[0;34m(\u001b[0m\u001b[0mobj\u001b[0m\u001b[0;34m,\u001b[0m \u001b[0;34m(\u001b[0m\u001b[0mlist\u001b[0m\u001b[0;34m,\u001b[0m \u001b[0mtuple\u001b[0m\u001b[0;34m,\u001b[0m \u001b[0mnp\u001b[0m\u001b[0;34m.\u001b[0m\u001b[0mndarray\u001b[0m\u001b[0;34m)\u001b[0m\u001b[0;34m)\u001b[0m\u001b[0;34m:\u001b[0m\u001b[0;34m\u001b[0m\u001b[0;34m\u001b[0m\u001b[0m\n\u001b[1;32m    475\u001b[0m         \u001b[0;32mreturn\u001b[0m \u001b[0;34m[\u001b[0m\u001b[0m_todict\u001b[0m\u001b[0;34m(\u001b[0m\u001b[0mv\u001b[0m\u001b[0;34m,\u001b[0m \u001b[0mcontext\u001b[0m\u001b[0;34m)\u001b[0m \u001b[0;32mfor\u001b[0m \u001b[0mv\u001b[0m \u001b[0;32min\u001b[0m \u001b[0mobj\u001b[0m\u001b[0;34m]\u001b[0m\u001b[0;34m\u001b[0m\u001b[0;34m\u001b[0m\u001b[0m\n\u001b[1;32m    476\u001b[0m     \u001b[0;32melif\u001b[0m \u001b[0misinstance\u001b[0m\u001b[0;34m(\u001b[0m\u001b[0mobj\u001b[0m\u001b[0;34m,\u001b[0m \u001b[0mdict\u001b[0m\u001b[0;34m)\u001b[0m\u001b[0;34m:\u001b[0m\u001b[0;34m\u001b[0m\u001b[0;34m\u001b[0m\u001b[0m\n",
      "\u001b[0;32m~/anaconda3/envs/DS/lib/python3.11/site-packages/altair/vegalite/v5/api.py\u001b[0m in \u001b[0;36m?\u001b[0;34m(self, validate, format, ignore, context)\u001b[0m\n\u001b[1;32m   2709\u001b[0m             \u001b[0mcopy\u001b[0m\u001b[0;34m.\u001b[0m\u001b[0mdata\u001b[0m \u001b[0;34m=\u001b[0m \u001b[0mcore\u001b[0m\u001b[0;34m.\u001b[0m\u001b[0mInlineData\u001b[0m\u001b[0;34m(\u001b[0m\u001b[0mvalues\u001b[0m\u001b[0;34m=\u001b[0m\u001b[0;34m[\u001b[0m\u001b[0;34m{\u001b[0m\u001b[0;34m}\u001b[0m\u001b[0;34m]\u001b[0m\u001b[0;34m)\u001b[0m\u001b[0;34m\u001b[0m\u001b[0;34m\u001b[0m\u001b[0m\n\u001b[1;32m   2710\u001b[0m             return super(Chart, copy).to_dict(\n\u001b[1;32m   2711\u001b[0m                 \u001b[0mvalidate\u001b[0m\u001b[0;34m=\u001b[0m\u001b[0mvalidate\u001b[0m\u001b[0;34m,\u001b[0m \u001b[0mformat\u001b[0m\u001b[0;34m=\u001b[0m\u001b[0mformat\u001b[0m\u001b[0;34m,\u001b[0m \u001b[0mignore\u001b[0m\u001b[0;34m=\u001b[0m\u001b[0mignore\u001b[0m\u001b[0;34m,\u001b[0m \u001b[0mcontext\u001b[0m\u001b[0;34m=\u001b[0m\u001b[0mcontext\u001b[0m\u001b[0;34m\u001b[0m\u001b[0;34m\u001b[0m\u001b[0m\n\u001b[1;32m   2712\u001b[0m             )\n\u001b[0;32m-> 2713\u001b[0;31m         return super().to_dict(\n\u001b[0m\u001b[1;32m   2714\u001b[0m             \u001b[0mvalidate\u001b[0m\u001b[0;34m=\u001b[0m\u001b[0mvalidate\u001b[0m\u001b[0;34m,\u001b[0m \u001b[0mformat\u001b[0m\u001b[0;34m=\u001b[0m\u001b[0mformat\u001b[0m\u001b[0;34m,\u001b[0m \u001b[0mignore\u001b[0m\u001b[0;34m=\u001b[0m\u001b[0mignore\u001b[0m\u001b[0;34m,\u001b[0m \u001b[0mcontext\u001b[0m\u001b[0;34m=\u001b[0m\u001b[0mcontext\u001b[0m\u001b[0;34m\u001b[0m\u001b[0;34m\u001b[0m\u001b[0m\n\u001b[1;32m   2715\u001b[0m         )\n",
      "\u001b[0;32m~/anaconda3/envs/DS/lib/python3.11/site-packages/altair/vegalite/v5/api.py\u001b[0m in \u001b[0;36m?\u001b[0;34m(self, validate, format, ignore, context)\u001b[0m\n\u001b[1;32m    917\u001b[0m \u001b[0;34m\u001b[0m\u001b[0m\n\u001b[1;32m    918\u001b[0m         \u001b[0;31m# TopLevelMixin instance does not necessarily have to_dict defined\u001b[0m\u001b[0;34m\u001b[0m\u001b[0;34m\u001b[0m\u001b[0m\n\u001b[1;32m    919\u001b[0m         \u001b[0;31m# but due to how Altair is set up this should hold.\u001b[0m\u001b[0;34m\u001b[0m\u001b[0;34m\u001b[0m\u001b[0m\n\u001b[1;32m    920\u001b[0m         \u001b[0;31m# Too complex to type hint right now\u001b[0m\u001b[0;34m\u001b[0m\u001b[0;34m\u001b[0m\u001b[0m\n\u001b[0;32m--> 921\u001b[0;31m         vegalite_spec = super(TopLevelMixin, copy).to_dict(  # type: ignore[misc]\n\u001b[0m\u001b[1;32m    922\u001b[0m             \u001b[0mvalidate\u001b[0m\u001b[0;34m=\u001b[0m\u001b[0mvalidate\u001b[0m\u001b[0;34m,\u001b[0m \u001b[0mignore\u001b[0m\u001b[0;34m=\u001b[0m\u001b[0mignore\u001b[0m\u001b[0;34m,\u001b[0m \u001b[0mcontext\u001b[0m\u001b[0;34m=\u001b[0m\u001b[0mdict\u001b[0m\u001b[0;34m(\u001b[0m\u001b[0mcontext\u001b[0m\u001b[0;34m,\u001b[0m \u001b[0mpre_transform\u001b[0m\u001b[0;34m=\u001b[0m\u001b[0;32mFalse\u001b[0m\u001b[0;34m)\u001b[0m\u001b[0;34m\u001b[0m\u001b[0;34m\u001b[0m\u001b[0m\n\u001b[1;32m    923\u001b[0m         )\n\u001b[1;32m    924\u001b[0m \u001b[0;34m\u001b[0m\u001b[0m\n",
      "\u001b[0;32m~/anaconda3/envs/DS/lib/python3.11/site-packages/altair/utils/schemapi.py\u001b[0m in \u001b[0;36m?\u001b[0;34m(self, validate, ignore, context)\u001b[0m\n\u001b[1;32m    961\u001b[0m                 \u001b[0mk\u001b[0m\u001b[0;34m:\u001b[0m \u001b[0mv\u001b[0m \u001b[0;32mfor\u001b[0m \u001b[0mk\u001b[0m\u001b[0;34m,\u001b[0m \u001b[0mv\u001b[0m \u001b[0;32min\u001b[0m \u001b[0mkwds\u001b[0m\u001b[0;34m.\u001b[0m\u001b[0mitems\u001b[0m\u001b[0;34m(\u001b[0m\u001b[0;34m)\u001b[0m \u001b[0;32mif\u001b[0m \u001b[0mk\u001b[0m \u001b[0;32mnot\u001b[0m \u001b[0;32min\u001b[0m \u001b[0mlist\u001b[0m\u001b[0;34m(\u001b[0m\u001b[0mignore\u001b[0m\u001b[0;34m)\u001b[0m \u001b[0;34m+\u001b[0m \u001b[0;34m[\u001b[0m\u001b[0;34m\"shorthand\"\u001b[0m\u001b[0;34m]\u001b[0m\u001b[0;34m\u001b[0m\u001b[0;34m\u001b[0m\u001b[0m\n\u001b[1;32m    962\u001b[0m             }\n\u001b[1;32m    963\u001b[0m             \u001b[0;32mif\u001b[0m \u001b[0;34m\"mark\"\u001b[0m \u001b[0;32min\u001b[0m \u001b[0mkwds\u001b[0m \u001b[0;32mand\u001b[0m \u001b[0misinstance\u001b[0m\u001b[0;34m(\u001b[0m\u001b[0mkwds\u001b[0m\u001b[0;34m[\u001b[0m\u001b[0;34m\"mark\"\u001b[0m\u001b[0;34m]\u001b[0m\u001b[0;34m,\u001b[0m \u001b[0mstr\u001b[0m\u001b[0;34m)\u001b[0m\u001b[0;34m:\u001b[0m\u001b[0;34m\u001b[0m\u001b[0;34m\u001b[0m\u001b[0m\n\u001b[1;32m    964\u001b[0m                 \u001b[0mkwds\u001b[0m\u001b[0;34m[\u001b[0m\u001b[0;34m\"mark\"\u001b[0m\u001b[0;34m]\u001b[0m \u001b[0;34m=\u001b[0m \u001b[0;34m{\u001b[0m\u001b[0;34m\"type\"\u001b[0m\u001b[0;34m:\u001b[0m \u001b[0mkwds\u001b[0m\u001b[0;34m[\u001b[0m\u001b[0;34m\"mark\"\u001b[0m\u001b[0;34m]\u001b[0m\u001b[0;34m}\u001b[0m\u001b[0;34m\u001b[0m\u001b[0;34m\u001b[0m\u001b[0m\n\u001b[0;32m--> 965\u001b[0;31m             result = _todict(\n\u001b[0m\u001b[1;32m    966\u001b[0m                 \u001b[0mkwds\u001b[0m\u001b[0;34m,\u001b[0m\u001b[0;34m\u001b[0m\u001b[0;34m\u001b[0m\u001b[0m\n\u001b[1;32m    967\u001b[0m                 \u001b[0mcontext\u001b[0m\u001b[0;34m=\u001b[0m\u001b[0mcontext\u001b[0m\u001b[0;34m,\u001b[0m\u001b[0;34m\u001b[0m\u001b[0;34m\u001b[0m\u001b[0m\n\u001b[1;32m    968\u001b[0m             )\n",
      "\u001b[0;32m~/anaconda3/envs/DS/lib/python3.11/site-packages/altair/utils/schemapi.py\u001b[0m in \u001b[0;36m?\u001b[0;34m(obj, context)\u001b[0m\n\u001b[1;32m    473\u001b[0m         \u001b[0;32mreturn\u001b[0m \u001b[0mobj\u001b[0m\u001b[0;34m.\u001b[0m\u001b[0mto_dict\u001b[0m\u001b[0;34m(\u001b[0m\u001b[0mvalidate\u001b[0m\u001b[0;34m=\u001b[0m\u001b[0;32mFalse\u001b[0m\u001b[0;34m,\u001b[0m \u001b[0mcontext\u001b[0m\u001b[0;34m=\u001b[0m\u001b[0mcontext\u001b[0m\u001b[0;34m)\u001b[0m\u001b[0;34m\u001b[0m\u001b[0;34m\u001b[0m\u001b[0m\n\u001b[1;32m    474\u001b[0m     \u001b[0;32melif\u001b[0m \u001b[0misinstance\u001b[0m\u001b[0;34m(\u001b[0m\u001b[0mobj\u001b[0m\u001b[0;34m,\u001b[0m \u001b[0;34m(\u001b[0m\u001b[0mlist\u001b[0m\u001b[0;34m,\u001b[0m \u001b[0mtuple\u001b[0m\u001b[0;34m,\u001b[0m \u001b[0mnp\u001b[0m\u001b[0;34m.\u001b[0m\u001b[0mndarray\u001b[0m\u001b[0;34m)\u001b[0m\u001b[0;34m)\u001b[0m\u001b[0;34m:\u001b[0m\u001b[0;34m\u001b[0m\u001b[0;34m\u001b[0m\u001b[0m\n\u001b[1;32m    475\u001b[0m         \u001b[0;32mreturn\u001b[0m \u001b[0;34m[\u001b[0m\u001b[0m_todict\u001b[0m\u001b[0;34m(\u001b[0m\u001b[0mv\u001b[0m\u001b[0;34m,\u001b[0m \u001b[0mcontext\u001b[0m\u001b[0;34m)\u001b[0m \u001b[0;32mfor\u001b[0m \u001b[0mv\u001b[0m \u001b[0;32min\u001b[0m \u001b[0mobj\u001b[0m\u001b[0;34m]\u001b[0m\u001b[0;34m\u001b[0m\u001b[0;34m\u001b[0m\u001b[0m\n\u001b[1;32m    476\u001b[0m     \u001b[0;32melif\u001b[0m \u001b[0misinstance\u001b[0m\u001b[0;34m(\u001b[0m\u001b[0mobj\u001b[0m\u001b[0;34m,\u001b[0m \u001b[0mdict\u001b[0m\u001b[0;34m)\u001b[0m\u001b[0;34m:\u001b[0m\u001b[0;34m\u001b[0m\u001b[0;34m\u001b[0m\u001b[0m\n\u001b[0;32m--> 477\u001b[0;31m         \u001b[0;32mreturn\u001b[0m \u001b[0;34m{\u001b[0m\u001b[0mk\u001b[0m\u001b[0;34m:\u001b[0m \u001b[0m_todict\u001b[0m\u001b[0;34m(\u001b[0m\u001b[0mv\u001b[0m\u001b[0;34m,\u001b[0m \u001b[0mcontext\u001b[0m\u001b[0;34m)\u001b[0m \u001b[0;32mfor\u001b[0m \u001b[0mk\u001b[0m\u001b[0;34m,\u001b[0m \u001b[0mv\u001b[0m \u001b[0;32min\u001b[0m \u001b[0mobj\u001b[0m\u001b[0;34m.\u001b[0m\u001b[0mitems\u001b[0m\u001b[0;34m(\u001b[0m\u001b[0;34m)\u001b[0m \u001b[0;32mif\u001b[0m \u001b[0mv\u001b[0m \u001b[0;32mis\u001b[0m \u001b[0;32mnot\u001b[0m \u001b[0mUndefined\u001b[0m\u001b[0;34m}\u001b[0m\u001b[0;34m\u001b[0m\u001b[0;34m\u001b[0m\u001b[0m\n\u001b[0m\u001b[1;32m    478\u001b[0m     \u001b[0;32melif\u001b[0m \u001b[0mhasattr\u001b[0m\u001b[0;34m(\u001b[0m\u001b[0mobj\u001b[0m\u001b[0;34m,\u001b[0m \u001b[0;34m\"to_dict\"\u001b[0m\u001b[0;34m)\u001b[0m\u001b[0;34m:\u001b[0m\u001b[0;34m\u001b[0m\u001b[0;34m\u001b[0m\u001b[0m\n\u001b[1;32m    479\u001b[0m         \u001b[0;32mreturn\u001b[0m \u001b[0mobj\u001b[0m\u001b[0;34m.\u001b[0m\u001b[0mto_dict\u001b[0m\u001b[0;34m(\u001b[0m\u001b[0;34m)\u001b[0m\u001b[0;34m\u001b[0m\u001b[0;34m\u001b[0m\u001b[0m\n\u001b[1;32m    480\u001b[0m     \u001b[0;32melif\u001b[0m \u001b[0misinstance\u001b[0m\u001b[0;34m(\u001b[0m\u001b[0mobj\u001b[0m\u001b[0;34m,\u001b[0m \u001b[0mnp\u001b[0m\u001b[0;34m.\u001b[0m\u001b[0mnumber\u001b[0m\u001b[0;34m)\u001b[0m\u001b[0;34m:\u001b[0m\u001b[0;34m\u001b[0m\u001b[0;34m\u001b[0m\u001b[0m\n",
      "\u001b[0;32m~/anaconda3/envs/DS/lib/python3.11/site-packages/altair/utils/schemapi.py\u001b[0m in \u001b[0;36m?\u001b[0;34m(.0)\u001b[0m\n\u001b[0;32m--> 477\u001b[0;31m \u001b[0;32mdef\u001b[0m \u001b[0m_todict\u001b[0m\u001b[0;34m(\u001b[0m\u001b[0mobj\u001b[0m\u001b[0;34m:\u001b[0m \u001b[0mAny\u001b[0m\u001b[0;34m,\u001b[0m \u001b[0mcontext\u001b[0m\u001b[0;34m:\u001b[0m \u001b[0mOptional\u001b[0m\u001b[0;34m[\u001b[0m\u001b[0mDict\u001b[0m\u001b[0;34m[\u001b[0m\u001b[0mstr\u001b[0m\u001b[0;34m,\u001b[0m \u001b[0mAny\u001b[0m\u001b[0;34m]\u001b[0m\u001b[0;34m]\u001b[0m\u001b[0;34m)\u001b[0m \u001b[0;34m->\u001b[0m \u001b[0mAny\u001b[0m\u001b[0;34m:\u001b[0m\u001b[0;34m\u001b[0m\u001b[0;34m\u001b[0m\u001b[0m\n\u001b[0m\u001b[1;32m    478\u001b[0m     \u001b[0;34m\"\"\"Convert an object to a dict representation.\"\"\"\u001b[0m\u001b[0;34m\u001b[0m\u001b[0;34m\u001b[0m\u001b[0m\n\u001b[1;32m    479\u001b[0m     \u001b[0;32mif\u001b[0m \u001b[0misinstance\u001b[0m\u001b[0;34m(\u001b[0m\u001b[0mobj\u001b[0m\u001b[0;34m,\u001b[0m \u001b[0mSchemaBase\u001b[0m\u001b[0;34m)\u001b[0m\u001b[0;34m:\u001b[0m\u001b[0;34m\u001b[0m\u001b[0;34m\u001b[0m\u001b[0m\n\u001b[1;32m    480\u001b[0m         \u001b[0;32mreturn\u001b[0m \u001b[0mobj\u001b[0m\u001b[0;34m.\u001b[0m\u001b[0mto_dict\u001b[0m\u001b[0;34m(\u001b[0m\u001b[0mvalidate\u001b[0m\u001b[0;34m=\u001b[0m\u001b[0;32mFalse\u001b[0m\u001b[0;34m,\u001b[0m \u001b[0mcontext\u001b[0m\u001b[0;34m=\u001b[0m\u001b[0mcontext\u001b[0m\u001b[0;34m)\u001b[0m\u001b[0;34m\u001b[0m\u001b[0;34m\u001b[0m\u001b[0m\n",
      "\u001b[0;32m~/anaconda3/envs/DS/lib/python3.11/site-packages/altair/utils/schemapi.py\u001b[0m in \u001b[0;36m?\u001b[0;34m(obj, context)\u001b[0m\n\u001b[1;32m    470\u001b[0m \u001b[0;32mdef\u001b[0m \u001b[0m_todict\u001b[0m\u001b[0;34m(\u001b[0m\u001b[0mobj\u001b[0m\u001b[0;34m:\u001b[0m \u001b[0mAny\u001b[0m\u001b[0;34m,\u001b[0m \u001b[0mcontext\u001b[0m\u001b[0;34m:\u001b[0m \u001b[0mOptional\u001b[0m\u001b[0;34m[\u001b[0m\u001b[0mDict\u001b[0m\u001b[0;34m[\u001b[0m\u001b[0mstr\u001b[0m\u001b[0;34m,\u001b[0m \u001b[0mAny\u001b[0m\u001b[0;34m]\u001b[0m\u001b[0;34m]\u001b[0m\u001b[0;34m)\u001b[0m \u001b[0;34m->\u001b[0m \u001b[0mAny\u001b[0m\u001b[0;34m:\u001b[0m\u001b[0;34m\u001b[0m\u001b[0;34m\u001b[0m\u001b[0m\n\u001b[1;32m    471\u001b[0m     \u001b[0;34m\"\"\"Convert an object to a dict representation.\"\"\"\u001b[0m\u001b[0;34m\u001b[0m\u001b[0;34m\u001b[0m\u001b[0m\n\u001b[1;32m    472\u001b[0m     \u001b[0;32mif\u001b[0m \u001b[0misinstance\u001b[0m\u001b[0;34m(\u001b[0m\u001b[0mobj\u001b[0m\u001b[0;34m,\u001b[0m \u001b[0mSchemaBase\u001b[0m\u001b[0;34m)\u001b[0m\u001b[0;34m:\u001b[0m\u001b[0;34m\u001b[0m\u001b[0;34m\u001b[0m\u001b[0m\n\u001b[0;32m--> 473\u001b[0;31m         \u001b[0;32mreturn\u001b[0m \u001b[0mobj\u001b[0m\u001b[0;34m.\u001b[0m\u001b[0mto_dict\u001b[0m\u001b[0;34m(\u001b[0m\u001b[0mvalidate\u001b[0m\u001b[0;34m=\u001b[0m\u001b[0;32mFalse\u001b[0m\u001b[0;34m,\u001b[0m \u001b[0mcontext\u001b[0m\u001b[0;34m=\u001b[0m\u001b[0mcontext\u001b[0m\u001b[0;34m)\u001b[0m\u001b[0;34m\u001b[0m\u001b[0;34m\u001b[0m\u001b[0m\n\u001b[0m\u001b[1;32m    474\u001b[0m     \u001b[0;32melif\u001b[0m \u001b[0misinstance\u001b[0m\u001b[0;34m(\u001b[0m\u001b[0mobj\u001b[0m\u001b[0;34m,\u001b[0m \u001b[0;34m(\u001b[0m\u001b[0mlist\u001b[0m\u001b[0;34m,\u001b[0m \u001b[0mtuple\u001b[0m\u001b[0;34m,\u001b[0m \u001b[0mnp\u001b[0m\u001b[0;34m.\u001b[0m\u001b[0mndarray\u001b[0m\u001b[0;34m)\u001b[0m\u001b[0;34m)\u001b[0m\u001b[0;34m:\u001b[0m\u001b[0;34m\u001b[0m\u001b[0;34m\u001b[0m\u001b[0m\n\u001b[1;32m    475\u001b[0m         \u001b[0;32mreturn\u001b[0m \u001b[0;34m[\u001b[0m\u001b[0m_todict\u001b[0m\u001b[0;34m(\u001b[0m\u001b[0mv\u001b[0m\u001b[0;34m,\u001b[0m \u001b[0mcontext\u001b[0m\u001b[0;34m)\u001b[0m \u001b[0;32mfor\u001b[0m \u001b[0mv\u001b[0m \u001b[0;32min\u001b[0m \u001b[0mobj\u001b[0m\u001b[0;34m]\u001b[0m\u001b[0;34m\u001b[0m\u001b[0;34m\u001b[0m\u001b[0m\n\u001b[1;32m    476\u001b[0m     \u001b[0;32melif\u001b[0m \u001b[0misinstance\u001b[0m\u001b[0;34m(\u001b[0m\u001b[0mobj\u001b[0m\u001b[0;34m,\u001b[0m \u001b[0mdict\u001b[0m\u001b[0;34m)\u001b[0m\u001b[0;34m:\u001b[0m\u001b[0;34m\u001b[0m\u001b[0;34m\u001b[0m\u001b[0m\n",
      "\u001b[0;32m~/anaconda3/envs/DS/lib/python3.11/site-packages/altair/utils/schemapi.py\u001b[0m in \u001b[0;36m?\u001b[0;34m(self, validate, ignore, context)\u001b[0m\n\u001b[1;32m    961\u001b[0m                 \u001b[0mk\u001b[0m\u001b[0;34m:\u001b[0m \u001b[0mv\u001b[0m \u001b[0;32mfor\u001b[0m \u001b[0mk\u001b[0m\u001b[0;34m,\u001b[0m \u001b[0mv\u001b[0m \u001b[0;32min\u001b[0m \u001b[0mkwds\u001b[0m\u001b[0;34m.\u001b[0m\u001b[0mitems\u001b[0m\u001b[0;34m(\u001b[0m\u001b[0;34m)\u001b[0m \u001b[0;32mif\u001b[0m \u001b[0mk\u001b[0m \u001b[0;32mnot\u001b[0m \u001b[0;32min\u001b[0m \u001b[0mlist\u001b[0m\u001b[0;34m(\u001b[0m\u001b[0mignore\u001b[0m\u001b[0;34m)\u001b[0m \u001b[0;34m+\u001b[0m \u001b[0;34m[\u001b[0m\u001b[0;34m\"shorthand\"\u001b[0m\u001b[0;34m]\u001b[0m\u001b[0;34m\u001b[0m\u001b[0;34m\u001b[0m\u001b[0m\n\u001b[1;32m    962\u001b[0m             }\n\u001b[1;32m    963\u001b[0m             \u001b[0;32mif\u001b[0m \u001b[0;34m\"mark\"\u001b[0m \u001b[0;32min\u001b[0m \u001b[0mkwds\u001b[0m \u001b[0;32mand\u001b[0m \u001b[0misinstance\u001b[0m\u001b[0;34m(\u001b[0m\u001b[0mkwds\u001b[0m\u001b[0;34m[\u001b[0m\u001b[0;34m\"mark\"\u001b[0m\u001b[0;34m]\u001b[0m\u001b[0;34m,\u001b[0m \u001b[0mstr\u001b[0m\u001b[0;34m)\u001b[0m\u001b[0;34m:\u001b[0m\u001b[0;34m\u001b[0m\u001b[0;34m\u001b[0m\u001b[0m\n\u001b[1;32m    964\u001b[0m                 \u001b[0mkwds\u001b[0m\u001b[0;34m[\u001b[0m\u001b[0;34m\"mark\"\u001b[0m\u001b[0;34m]\u001b[0m \u001b[0;34m=\u001b[0m \u001b[0;34m{\u001b[0m\u001b[0;34m\"type\"\u001b[0m\u001b[0;34m:\u001b[0m \u001b[0mkwds\u001b[0m\u001b[0;34m[\u001b[0m\u001b[0;34m\"mark\"\u001b[0m\u001b[0;34m]\u001b[0m\u001b[0;34m}\u001b[0m\u001b[0;34m\u001b[0m\u001b[0;34m\u001b[0m\u001b[0m\n\u001b[0;32m--> 965\u001b[0;31m             result = _todict(\n\u001b[0m\u001b[1;32m    966\u001b[0m                 \u001b[0mkwds\u001b[0m\u001b[0;34m,\u001b[0m\u001b[0;34m\u001b[0m\u001b[0;34m\u001b[0m\u001b[0m\n\u001b[1;32m    967\u001b[0m                 \u001b[0mcontext\u001b[0m\u001b[0;34m=\u001b[0m\u001b[0mcontext\u001b[0m\u001b[0;34m,\u001b[0m\u001b[0;34m\u001b[0m\u001b[0;34m\u001b[0m\u001b[0m\n\u001b[1;32m    968\u001b[0m             )\n",
      "\u001b[0;32m~/anaconda3/envs/DS/lib/python3.11/site-packages/altair/utils/schemapi.py\u001b[0m in \u001b[0;36m?\u001b[0;34m(obj, context)\u001b[0m\n\u001b[1;32m    473\u001b[0m         \u001b[0;32mreturn\u001b[0m \u001b[0mobj\u001b[0m\u001b[0;34m.\u001b[0m\u001b[0mto_dict\u001b[0m\u001b[0;34m(\u001b[0m\u001b[0mvalidate\u001b[0m\u001b[0;34m=\u001b[0m\u001b[0;32mFalse\u001b[0m\u001b[0;34m,\u001b[0m \u001b[0mcontext\u001b[0m\u001b[0;34m=\u001b[0m\u001b[0mcontext\u001b[0m\u001b[0;34m)\u001b[0m\u001b[0;34m\u001b[0m\u001b[0;34m\u001b[0m\u001b[0m\n\u001b[1;32m    474\u001b[0m     \u001b[0;32melif\u001b[0m \u001b[0misinstance\u001b[0m\u001b[0;34m(\u001b[0m\u001b[0mobj\u001b[0m\u001b[0;34m,\u001b[0m \u001b[0;34m(\u001b[0m\u001b[0mlist\u001b[0m\u001b[0;34m,\u001b[0m \u001b[0mtuple\u001b[0m\u001b[0;34m,\u001b[0m \u001b[0mnp\u001b[0m\u001b[0;34m.\u001b[0m\u001b[0mndarray\u001b[0m\u001b[0;34m)\u001b[0m\u001b[0;34m)\u001b[0m\u001b[0;34m:\u001b[0m\u001b[0;34m\u001b[0m\u001b[0;34m\u001b[0m\u001b[0m\n\u001b[1;32m    475\u001b[0m         \u001b[0;32mreturn\u001b[0m \u001b[0;34m[\u001b[0m\u001b[0m_todict\u001b[0m\u001b[0;34m(\u001b[0m\u001b[0mv\u001b[0m\u001b[0;34m,\u001b[0m \u001b[0mcontext\u001b[0m\u001b[0;34m)\u001b[0m \u001b[0;32mfor\u001b[0m \u001b[0mv\u001b[0m \u001b[0;32min\u001b[0m \u001b[0mobj\u001b[0m\u001b[0;34m]\u001b[0m\u001b[0;34m\u001b[0m\u001b[0;34m\u001b[0m\u001b[0m\n\u001b[1;32m    476\u001b[0m     \u001b[0;32melif\u001b[0m \u001b[0misinstance\u001b[0m\u001b[0;34m(\u001b[0m\u001b[0mobj\u001b[0m\u001b[0;34m,\u001b[0m \u001b[0mdict\u001b[0m\u001b[0;34m)\u001b[0m\u001b[0;34m:\u001b[0m\u001b[0;34m\u001b[0m\u001b[0;34m\u001b[0m\u001b[0m\n\u001b[0;32m--> 477\u001b[0;31m         \u001b[0;32mreturn\u001b[0m \u001b[0;34m{\u001b[0m\u001b[0mk\u001b[0m\u001b[0;34m:\u001b[0m \u001b[0m_todict\u001b[0m\u001b[0;34m(\u001b[0m\u001b[0mv\u001b[0m\u001b[0;34m,\u001b[0m \u001b[0mcontext\u001b[0m\u001b[0;34m)\u001b[0m \u001b[0;32mfor\u001b[0m \u001b[0mk\u001b[0m\u001b[0;34m,\u001b[0m \u001b[0mv\u001b[0m \u001b[0;32min\u001b[0m \u001b[0mobj\u001b[0m\u001b[0;34m.\u001b[0m\u001b[0mitems\u001b[0m\u001b[0;34m(\u001b[0m\u001b[0;34m)\u001b[0m \u001b[0;32mif\u001b[0m \u001b[0mv\u001b[0m \u001b[0;32mis\u001b[0m \u001b[0;32mnot\u001b[0m \u001b[0mUndefined\u001b[0m\u001b[0;34m}\u001b[0m\u001b[0;34m\u001b[0m\u001b[0;34m\u001b[0m\u001b[0m\n\u001b[0m\u001b[1;32m    478\u001b[0m     \u001b[0;32melif\u001b[0m \u001b[0mhasattr\u001b[0m\u001b[0;34m(\u001b[0m\u001b[0mobj\u001b[0m\u001b[0;34m,\u001b[0m \u001b[0;34m\"to_dict\"\u001b[0m\u001b[0;34m)\u001b[0m\u001b[0;34m:\u001b[0m\u001b[0;34m\u001b[0m\u001b[0;34m\u001b[0m\u001b[0m\n\u001b[1;32m    479\u001b[0m         \u001b[0;32mreturn\u001b[0m \u001b[0mobj\u001b[0m\u001b[0;34m.\u001b[0m\u001b[0mto_dict\u001b[0m\u001b[0;34m(\u001b[0m\u001b[0;34m)\u001b[0m\u001b[0;34m\u001b[0m\u001b[0;34m\u001b[0m\u001b[0m\n\u001b[1;32m    480\u001b[0m     \u001b[0;32melif\u001b[0m \u001b[0misinstance\u001b[0m\u001b[0;34m(\u001b[0m\u001b[0mobj\u001b[0m\u001b[0;34m,\u001b[0m \u001b[0mnp\u001b[0m\u001b[0;34m.\u001b[0m\u001b[0mnumber\u001b[0m\u001b[0;34m)\u001b[0m\u001b[0;34m:\u001b[0m\u001b[0;34m\u001b[0m\u001b[0;34m\u001b[0m\u001b[0m\n",
      "\u001b[0;32m~/anaconda3/envs/DS/lib/python3.11/site-packages/altair/utils/schemapi.py\u001b[0m in \u001b[0;36m?\u001b[0;34m(.0)\u001b[0m\n\u001b[0;32m--> 477\u001b[0;31m \u001b[0;32mdef\u001b[0m \u001b[0m_todict\u001b[0m\u001b[0;34m(\u001b[0m\u001b[0mobj\u001b[0m\u001b[0;34m:\u001b[0m \u001b[0mAny\u001b[0m\u001b[0;34m,\u001b[0m \u001b[0mcontext\u001b[0m\u001b[0;34m:\u001b[0m \u001b[0mOptional\u001b[0m\u001b[0;34m[\u001b[0m\u001b[0mDict\u001b[0m\u001b[0;34m[\u001b[0m\u001b[0mstr\u001b[0m\u001b[0;34m,\u001b[0m \u001b[0mAny\u001b[0m\u001b[0;34m]\u001b[0m\u001b[0;34m]\u001b[0m\u001b[0;34m)\u001b[0m \u001b[0;34m->\u001b[0m \u001b[0mAny\u001b[0m\u001b[0;34m:\u001b[0m\u001b[0;34m\u001b[0m\u001b[0;34m\u001b[0m\u001b[0m\n\u001b[0m\u001b[1;32m    478\u001b[0m     \u001b[0;34m\"\"\"Convert an object to a dict representation.\"\"\"\u001b[0m\u001b[0;34m\u001b[0m\u001b[0;34m\u001b[0m\u001b[0m\n\u001b[1;32m    479\u001b[0m     \u001b[0;32mif\u001b[0m \u001b[0misinstance\u001b[0m\u001b[0;34m(\u001b[0m\u001b[0mobj\u001b[0m\u001b[0;34m,\u001b[0m \u001b[0mSchemaBase\u001b[0m\u001b[0;34m)\u001b[0m\u001b[0;34m:\u001b[0m\u001b[0;34m\u001b[0m\u001b[0;34m\u001b[0m\u001b[0m\n\u001b[1;32m    480\u001b[0m         \u001b[0;32mreturn\u001b[0m \u001b[0mobj\u001b[0m\u001b[0;34m.\u001b[0m\u001b[0mto_dict\u001b[0m\u001b[0;34m(\u001b[0m\u001b[0mvalidate\u001b[0m\u001b[0;34m=\u001b[0m\u001b[0;32mFalse\u001b[0m\u001b[0;34m,\u001b[0m \u001b[0mcontext\u001b[0m\u001b[0;34m=\u001b[0m\u001b[0mcontext\u001b[0m\u001b[0;34m)\u001b[0m\u001b[0;34m\u001b[0m\u001b[0;34m\u001b[0m\u001b[0m\n",
      "\u001b[0;32m~/anaconda3/envs/DS/lib/python3.11/site-packages/altair/utils/schemapi.py\u001b[0m in \u001b[0;36m?\u001b[0;34m(obj, context)\u001b[0m\n\u001b[1;32m    470\u001b[0m \u001b[0;32mdef\u001b[0m \u001b[0m_todict\u001b[0m\u001b[0;34m(\u001b[0m\u001b[0mobj\u001b[0m\u001b[0;34m:\u001b[0m \u001b[0mAny\u001b[0m\u001b[0;34m,\u001b[0m \u001b[0mcontext\u001b[0m\u001b[0;34m:\u001b[0m \u001b[0mOptional\u001b[0m\u001b[0;34m[\u001b[0m\u001b[0mDict\u001b[0m\u001b[0;34m[\u001b[0m\u001b[0mstr\u001b[0m\u001b[0;34m,\u001b[0m \u001b[0mAny\u001b[0m\u001b[0;34m]\u001b[0m\u001b[0;34m]\u001b[0m\u001b[0;34m)\u001b[0m \u001b[0;34m->\u001b[0m \u001b[0mAny\u001b[0m\u001b[0;34m:\u001b[0m\u001b[0;34m\u001b[0m\u001b[0;34m\u001b[0m\u001b[0m\n\u001b[1;32m    471\u001b[0m     \u001b[0;34m\"\"\"Convert an object to a dict representation.\"\"\"\u001b[0m\u001b[0;34m\u001b[0m\u001b[0;34m\u001b[0m\u001b[0m\n\u001b[1;32m    472\u001b[0m     \u001b[0;32mif\u001b[0m \u001b[0misinstance\u001b[0m\u001b[0;34m(\u001b[0m\u001b[0mobj\u001b[0m\u001b[0;34m,\u001b[0m \u001b[0mSchemaBase\u001b[0m\u001b[0;34m)\u001b[0m\u001b[0;34m:\u001b[0m\u001b[0;34m\u001b[0m\u001b[0;34m\u001b[0m\u001b[0m\n\u001b[0;32m--> 473\u001b[0;31m         \u001b[0;32mreturn\u001b[0m \u001b[0mobj\u001b[0m\u001b[0;34m.\u001b[0m\u001b[0mto_dict\u001b[0m\u001b[0;34m(\u001b[0m\u001b[0mvalidate\u001b[0m\u001b[0;34m=\u001b[0m\u001b[0;32mFalse\u001b[0m\u001b[0;34m,\u001b[0m \u001b[0mcontext\u001b[0m\u001b[0;34m=\u001b[0m\u001b[0mcontext\u001b[0m\u001b[0;34m)\u001b[0m\u001b[0;34m\u001b[0m\u001b[0;34m\u001b[0m\u001b[0m\n\u001b[0m\u001b[1;32m    474\u001b[0m     \u001b[0;32melif\u001b[0m \u001b[0misinstance\u001b[0m\u001b[0;34m(\u001b[0m\u001b[0mobj\u001b[0m\u001b[0;34m,\u001b[0m \u001b[0;34m(\u001b[0m\u001b[0mlist\u001b[0m\u001b[0;34m,\u001b[0m \u001b[0mtuple\u001b[0m\u001b[0;34m,\u001b[0m \u001b[0mnp\u001b[0m\u001b[0;34m.\u001b[0m\u001b[0mndarray\u001b[0m\u001b[0;34m)\u001b[0m\u001b[0;34m)\u001b[0m\u001b[0;34m:\u001b[0m\u001b[0;34m\u001b[0m\u001b[0;34m\u001b[0m\u001b[0m\n\u001b[1;32m    475\u001b[0m         \u001b[0;32mreturn\u001b[0m \u001b[0;34m[\u001b[0m\u001b[0m_todict\u001b[0m\u001b[0;34m(\u001b[0m\u001b[0mv\u001b[0m\u001b[0;34m,\u001b[0m \u001b[0mcontext\u001b[0m\u001b[0;34m)\u001b[0m \u001b[0;32mfor\u001b[0m \u001b[0mv\u001b[0m \u001b[0;32min\u001b[0m \u001b[0mobj\u001b[0m\u001b[0;34m]\u001b[0m\u001b[0;34m\u001b[0m\u001b[0;34m\u001b[0m\u001b[0m\n\u001b[1;32m    476\u001b[0m     \u001b[0;32melif\u001b[0m \u001b[0misinstance\u001b[0m\u001b[0;34m(\u001b[0m\u001b[0mobj\u001b[0m\u001b[0;34m,\u001b[0m \u001b[0mdict\u001b[0m\u001b[0;34m)\u001b[0m\u001b[0;34m:\u001b[0m\u001b[0;34m\u001b[0m\u001b[0;34m\u001b[0m\u001b[0m\n",
      "\u001b[0;32m~/anaconda3/envs/DS/lib/python3.11/site-packages/altair/vegalite/v5/schema/channels.py\u001b[0m in \u001b[0;36m?\u001b[0;34m(self, validate, ignore, context)\u001b[0m\n\u001b[1;32m     40\u001b[0m                 \u001b[0;31m# We still parse it out of the shorthand, but drop it here.\u001b[0m\u001b[0;34m\u001b[0m\u001b[0;34m\u001b[0m\u001b[0m\n\u001b[1;32m     41\u001b[0m                 \u001b[0mparsed\u001b[0m\u001b[0;34m.\u001b[0m\u001b[0mpop\u001b[0m\u001b[0;34m(\u001b[0m\u001b[0;34m'type'\u001b[0m\u001b[0;34m,\u001b[0m \u001b[0;32mNone\u001b[0m\u001b[0;34m)\u001b[0m\u001b[0;34m\u001b[0m\u001b[0;34m\u001b[0m\u001b[0m\n\u001b[1;32m     42\u001b[0m             \u001b[0;32melif\u001b[0m \u001b[0;32mnot\u001b[0m \u001b[0;34m(\u001b[0m\u001b[0mtype_in_shorthand\u001b[0m \u001b[0;32mor\u001b[0m \u001b[0mtype_defined_explicitly\u001b[0m\u001b[0;34m)\u001b[0m\u001b[0;34m:\u001b[0m\u001b[0;34m\u001b[0m\u001b[0;34m\u001b[0m\u001b[0m\n\u001b[1;32m     43\u001b[0m                 \u001b[0;32mif\u001b[0m \u001b[0misinstance\u001b[0m\u001b[0;34m(\u001b[0m\u001b[0mcontext\u001b[0m\u001b[0;34m.\u001b[0m\u001b[0mget\u001b[0m\u001b[0;34m(\u001b[0m\u001b[0;34m'data'\u001b[0m\u001b[0;34m,\u001b[0m \u001b[0;32mNone\u001b[0m\u001b[0;34m)\u001b[0m\u001b[0;34m,\u001b[0m \u001b[0mpd\u001b[0m\u001b[0;34m.\u001b[0m\u001b[0mDataFrame\u001b[0m\u001b[0;34m)\u001b[0m\u001b[0;34m:\u001b[0m\u001b[0;34m\u001b[0m\u001b[0;34m\u001b[0m\u001b[0m\n\u001b[0;32m---> 44\u001b[0;31m                     raise ValueError(\n\u001b[0m\u001b[1;32m     45\u001b[0m                         \u001b[0;34m'Unable to determine data type for the field \"{}\";'\u001b[0m\u001b[0;34m\u001b[0m\u001b[0;34m\u001b[0m\u001b[0m\n\u001b[1;32m     46\u001b[0m                         \u001b[0;34m\" verify that the field name is not misspelled.\"\u001b[0m\u001b[0;34m\u001b[0m\u001b[0;34m\u001b[0m\u001b[0m\n\u001b[1;32m     47\u001b[0m                         \u001b[0;34m\" If you are referencing a field from a transform,\"\u001b[0m\u001b[0;34m\u001b[0m\u001b[0;34m\u001b[0m\u001b[0m\n",
      "\u001b[0;31mValueError\u001b[0m: Unable to determine data type for the field \"mean(value)\"; verify that the field name is not misspelled. If you are referencing a field from a transform, also confirm that the data type is specified correctly."
     ]
    },
    {
     "data": {
      "text/plain": [
       "alt.LayerChart(...)"
      ]
     },
     "execution_count": 421,
     "metadata": {},
     "output_type": "execute_result"
    }
   ],
   "source": [
    "# Calculer la variance a la place, tester avec plusieurs valeurs de N, en faisant varié E, N = 200, 500, 1000\n",
    "\n",
    "error = alt.Chart(df_fraction_1000).mark_errorband(extent=\"stdev\").encode(\n",
    "    x=\"q / p\",\n",
    "    y=alt.Y(\n",
    "        \"value:Q\",\n",
    "        # scale=alt.Scale(zero=False),\n",
    "        # title=\"max(n1, n2) / n1 + n2\",\n",
    "        title=\"c\"\n",
    "    ),\n",
    ")\n",
    "\n",
    "mean_line = alt.Chart(df_fraction_1000).mark_line().encode(\n",
    "    x=\"q / p\",\n",
    "    y=alt.Y(\n",
    "        \"mean(value)\",\n",
    "        # title=\"Hyperedge Purity\"\n",
    "        # title=\"max(n1, n2) / n1 + n2\"\n",
    "        title=\"c\"\n",
    "    ),\n",
    ")\n",
    "\n",
    "error + mean_line"
   ]
  },
  {
   "cell_type": "code",
   "execution_count": null,
   "id": "265fad11-0f69-4d00-b720-1b480489887e",
   "metadata": {},
   "outputs": [],
   "source": [
    "error = alt.Chart(df_fraction_1000).mark_errorband(extent=\"stdev\").encode(\n",
    "    x=\"q / p\",\n",
    "    y=alt.Y(\n",
    "        \"gini:Q\",\n",
    "        title=\"gini\"\n",
    "    ),\n",
    ")\n",
    "\n",
    "mean_line = alt.Chart(df_fraction_1000).mark_line().encode(\n",
    "    x=\"q / p\",\n",
    "    y=alt.Y(\n",
    "        \"mean(gini)\",\n",
    "        title=\"gini\"\n",
    "    ),\n",
    ")\n",
    "\n",
    "error + mean_line"
   ]
  },
  {
   "cell_type": "code",
   "execution_count": null,
   "id": "81422f08-2634-466b-aa8c-33f99275caf3",
   "metadata": {},
   "outputs": [],
   "source": [
    "error = alt.Chart(df_test).mark_errorband(extent=\"stdev\").encode(\n",
    "    x=\"q / p\",\n",
    "    y=alt.Y(\n",
    "        \"gini:Q\",\n",
    "        # scale=alt.Scale(zero=False),\n",
    "        # title=\"max(n1, n2) / n1 + n2\",\n",
    "        title=\"gini\"\n",
    "    ),\n",
    ")\n",
    "\n",
    "mean_line = alt.Chart(df_test).mark_line().encode(\n",
    "    x=\"q / p\",\n",
    "    y=alt.Y(\n",
    "        \"mean(gini)\",\n",
    "        # title=\"Hyperedge Purity\"\n",
    "        # title=\"max(n1, n2) / n1 + n2\"\n",
    "        title=\"gini\"\n",
    "    ),\n",
    ")\n",
    "\n",
    "error + mean_line"
   ]
  },
  {
   "cell_type": "code",
   "execution_count": null,
   "id": "a4dd7839-f762-48a4-960d-daa78c3600e2",
   "metadata": {},
   "outputs": [],
   "source": [
    "# alt.layer(pdf, distrib, data=grouped_selp_deg).facet(column='q')\n",
    "alt.layer(error, mean_line, data=df_fraction_1000).facet(column='strat')"
   ]
  },
  {
   "cell_type": "code",
   "execution_count": null,
   "id": "41d8ff32-d31a-4876-a349-b34de4844ba6",
   "metadata": {
    "tags": []
   },
   "outputs": [],
   "source": [
    "alt.Chart(df_fraction2).mark_line().encode(\n",
    "    x=\"q / p\",\n",
    "    y=alt.Y(\n",
    "        \"mean(gini)\",\n",
    "        # title=\"Hyperedge Purity\"\n",
    "        # title=\"max(n1, n2) / n1 + n2\"\n",
    "        title=\"mean(Gini*)\"\n",
    "    ),\n",
    "    # color=alt.Color(\"N / E:N\", scale=alt.Scale(scheme=\"category10\"))\n",
    "    # color=alt.Color(\"N / E:N\", scale=alt.Scale()),\n",
    "    strokeDash=\"N / E\"\n",
    ").facet(column='strat')"
   ]
  },
  {
   "cell_type": "code",
   "execution_count": null,
   "id": "13e7ea09-47ff-4be3-a15b-d9769a616f1f",
   "metadata": {},
   "outputs": [],
   "source": [
    "# frequent => mettre majority\n",
    "# Augmenter la taille des labels, axis, \n",
    "\n",
    "gini_strat = alt.Chart(df_fraction_1000).mark_line(color=markColor, opacity=1, size=3).encode(\n",
    "    x=\"q / p\",\n",
    "    y=alt.Y(\n",
    "        \"mean(gini)\",\n",
    "        # title=\"Hyperedge Purity\"\n",
    "        # title=\"max(n1, n2) / n1 + n2\"\n",
    "        # title=\"normalized gini\",\n",
    "        title=\"Ḡ\"\n",
    "    ),\n",
    "    # color=alt.Color(\"N / E:N\", scale=alt.Scale(scheme=\"category10\"))\n",
    "    # color=alt.Color(\"N / E:N\", scale=alt.Scale()),\n",
    "    strokeDash=alt.StrokeDash(\"strat\", scale=alt.Scale(range=[[1,0], [4, 1], [8, 2], [4, 8]]), legend=alt.Legend(title=\"Strategy\", orient=\"top-right\", symbolSize=750, symbolStrokeWidth=3)),\n",
    ").configure_legend(\n",
    "titleFontSize=20,\n",
    "labelFontSize=16,\n",
    ").properties(height=330).configure_axisY(\n",
    "    titleAngle=0,\n",
    "    titleX=-60,\n",
    ")\n",
    "\n",
    "gini_strat"
   ]
  },
  {
   "cell_type": "code",
   "execution_count": null,
   "id": "0a4d6200-e29b-43e7-bd3e-16ba2c4ade7c",
   "metadata": {},
   "outputs": [],
   "source": [
    "# mettre la legende à l'interieur\n",
    "# Utiliser couleur et stroke?\n",
    "gini_size = alt.Chart(df_fraction2[df_fraction2.strat == \"weighted\"]).mark_line().encode(\n",
    "    x=\"q / p\",\n",
    "    y=alt.Y(\n",
    "        \"mean(gini)\",\n",
    "        # title=\"Hyperedge Purity\"\n",
    "        # title=\"max(n1, n2) / n1 + n2\"\n",
    "        # title=\"normalized gini\",\n",
    "        title=\"Ḡ\"\n",
    "    ),\n",
    "    # color=alt.Color(\"N / E:N\", scale=alt.Scale(scheme=\"category10\"))\n",
    "    color=alt.Color(\"N / E:O\", scale=alt.Scale(scheme=\"blues\"), legend=alt.Legend(orient=\"top-right\")),\n",
    "    # strokeDash=\"strat\"\n",
    ").configure_legend(\n",
    "titleFontSize=20,\n",
    "labelFontSize=16,\n",
    ").properties(height=330).configure_axisY(\n",
    "    titleAngle=0,\n",
    "    titleX=-60,\n",
    ")\n",
    "\n",
    "\n",
    "gini_size"
   ]
  },
  {
   "cell_type": "code",
   "execution_count": 52,
   "id": "1f237ed4-d729-4dbb-b616-d96a7681790e",
   "metadata": {},
   "outputs": [],
   "source": [
    "# Weird legend position\n",
    "# alt.hconcat(gini_strat, gini_size)"
   ]
  },
  {
   "cell_type": "markdown",
   "id": "f5218740-f561-4f78-9935-e15eaebd9fa1",
   "metadata": {
    "tags": []
   },
   "source": [
    "## Normalize "
   ]
  },
  {
   "cell_type": "code",
   "execution_count": 110,
   "id": "58f301f5-0c85-4e3e-b109-4c88049fc33f",
   "metadata": {},
   "outputs": [],
   "source": [
    "df_fraction2_var = (df_fraction2\n",
    "    # .groupby('q / p')\n",
    "    .groupby(['q / p', \"N / E\", \"strat\"])\n",
    "    # ['value']\n",
    "    ['gini']\n",
    "    .agg(['mean', 'std'])\n",
    "    .assign(stdNorm = lambda df: df['std'] / df['mean'])\n",
    "    .reset_index())"
   ]
  },
  {
   "cell_type": "code",
   "execution_count": 111,
   "id": "0557bf31-e10a-47e0-a1a4-88df11d0c6fb",
   "metadata": {
    "tags": []
   },
   "outputs": [
    {
     "data": {
      "text/html": [
       "<div>\n",
       "<style scoped>\n",
       "    .dataframe tbody tr th:only-of-type {\n",
       "        vertical-align: middle;\n",
       "    }\n",
       "\n",
       "    .dataframe tbody tr th {\n",
       "        vertical-align: top;\n",
       "    }\n",
       "\n",
       "    .dataframe thead th {\n",
       "        text-align: right;\n",
       "    }\n",
       "</style>\n",
       "<table border=\"1\" class=\"dataframe\">\n",
       "  <thead>\n",
       "    <tr style=\"text-align: right;\">\n",
       "      <th></th>\n",
       "      <th>q / p</th>\n",
       "      <th>N / E</th>\n",
       "      <th>strat</th>\n",
       "      <th>mean</th>\n",
       "      <th>std</th>\n",
       "      <th>stdNorm</th>\n",
       "    </tr>\n",
       "  </thead>\n",
       "  <tbody>\n",
       "    <tr>\n",
       "      <th>21</th>\n",
       "      <td>0.00</td>\n",
       "      <td>10.0</td>\n",
       "      <td>max</td>\n",
       "      <td>1.000000</td>\n",
       "      <td>0.000000</td>\n",
       "      <td>0.000000</td>\n",
       "    </tr>\n",
       "    <tr>\n",
       "      <th>45</th>\n",
       "      <td>0.01</td>\n",
       "      <td>10.0</td>\n",
       "      <td>max</td>\n",
       "      <td>0.913132</td>\n",
       "      <td>0.138607</td>\n",
       "      <td>0.151793</td>\n",
       "    </tr>\n",
       "    <tr>\n",
       "      <th>69</th>\n",
       "      <td>0.05</td>\n",
       "      <td>10.0</td>\n",
       "      <td>max</td>\n",
       "      <td>0.648382</td>\n",
       "      <td>0.220581</td>\n",
       "      <td>0.340203</td>\n",
       "    </tr>\n",
       "    <tr>\n",
       "      <th>93</th>\n",
       "      <td>0.10</td>\n",
       "      <td>10.0</td>\n",
       "      <td>max</td>\n",
       "      <td>0.450826</td>\n",
       "      <td>0.205899</td>\n",
       "      <td>0.456715</td>\n",
       "    </tr>\n",
       "    <tr>\n",
       "      <th>117</th>\n",
       "      <td>0.20</td>\n",
       "      <td>10.0</td>\n",
       "      <td>max</td>\n",
       "      <td>0.273107</td>\n",
       "      <td>0.145933</td>\n",
       "      <td>0.534344</td>\n",
       "    </tr>\n",
       "    <tr>\n",
       "      <th>141</th>\n",
       "      <td>0.30</td>\n",
       "      <td>10.0</td>\n",
       "      <td>max</td>\n",
       "      <td>0.205392</td>\n",
       "      <td>0.104034</td>\n",
       "      <td>0.506515</td>\n",
       "    </tr>\n",
       "    <tr>\n",
       "      <th>165</th>\n",
       "      <td>0.40</td>\n",
       "      <td>10.0</td>\n",
       "      <td>max</td>\n",
       "      <td>0.177851</td>\n",
       "      <td>0.084242</td>\n",
       "      <td>0.473667</td>\n",
       "    </tr>\n",
       "    <tr>\n",
       "      <th>189</th>\n",
       "      <td>0.50</td>\n",
       "      <td>10.0</td>\n",
       "      <td>max</td>\n",
       "      <td>0.164607</td>\n",
       "      <td>0.074527</td>\n",
       "      <td>0.452755</td>\n",
       "    </tr>\n",
       "    <tr>\n",
       "      <th>213</th>\n",
       "      <td>0.60</td>\n",
       "      <td>10.0</td>\n",
       "      <td>max</td>\n",
       "      <td>0.157176</td>\n",
       "      <td>0.069064</td>\n",
       "      <td>0.439408</td>\n",
       "    </tr>\n",
       "    <tr>\n",
       "      <th>237</th>\n",
       "      <td>0.70</td>\n",
       "      <td>10.0</td>\n",
       "      <td>max</td>\n",
       "      <td>0.150743</td>\n",
       "      <td>0.066062</td>\n",
       "      <td>0.438243</td>\n",
       "    </tr>\n",
       "    <tr>\n",
       "      <th>261</th>\n",
       "      <td>0.80</td>\n",
       "      <td>10.0</td>\n",
       "      <td>max</td>\n",
       "      <td>0.148389</td>\n",
       "      <td>0.064198</td>\n",
       "      <td>0.432630</td>\n",
       "    </tr>\n",
       "    <tr>\n",
       "      <th>285</th>\n",
       "      <td>0.90</td>\n",
       "      <td>10.0</td>\n",
       "      <td>max</td>\n",
       "      <td>0.146223</td>\n",
       "      <td>0.063070</td>\n",
       "      <td>0.431323</td>\n",
       "    </tr>\n",
       "    <tr>\n",
       "      <th>309</th>\n",
       "      <td>1.00</td>\n",
       "      <td>10.0</td>\n",
       "      <td>max</td>\n",
       "      <td>0.143669</td>\n",
       "      <td>0.061664</td>\n",
       "      <td>0.429209</td>\n",
       "    </tr>\n",
       "  </tbody>\n",
       "</table>\n",
       "</div>"
      ],
      "text/plain": [
       "     q / p  N / E strat      mean       std   stdNorm\n",
       "21    0.00   10.0   max  1.000000  0.000000  0.000000\n",
       "45    0.01   10.0   max  0.913132  0.138607  0.151793\n",
       "69    0.05   10.0   max  0.648382  0.220581  0.340203\n",
       "93    0.10   10.0   max  0.450826  0.205899  0.456715\n",
       "117   0.20   10.0   max  0.273107  0.145933  0.534344\n",
       "141   0.30   10.0   max  0.205392  0.104034  0.506515\n",
       "165   0.40   10.0   max  0.177851  0.084242  0.473667\n",
       "189   0.50   10.0   max  0.164607  0.074527  0.452755\n",
       "213   0.60   10.0   max  0.157176  0.069064  0.439408\n",
       "237   0.70   10.0   max  0.150743  0.066062  0.438243\n",
       "261   0.80   10.0   max  0.148389  0.064198  0.432630\n",
       "285   0.90   10.0   max  0.146223  0.063070  0.431323\n",
       "309   1.00   10.0   max  0.143669  0.061664  0.429209"
      ]
     },
     "execution_count": 111,
     "metadata": {},
     "output_type": "execute_result"
    }
   ],
   "source": [
    "df_fraction2_var[(df_fraction2_var.strat == \"max\") & (df_fraction2_var[\"N / E\"] == 10)]"
   ]
  },
  {
   "cell_type": "code",
   "execution_count": 112,
   "id": "1a4907ad-8bac-46d2-8c62-397f83381317",
   "metadata": {},
   "outputs": [
    {
     "data": {
      "text/html": [
       "\n",
       "<style>\n",
       "  #altair-viz-bf0186b593714dc88df14e9d3c4f731e.vega-embed {\n",
       "    width: 100%;\n",
       "    display: flex;\n",
       "  }\n",
       "\n",
       "  #altair-viz-bf0186b593714dc88df14e9d3c4f731e.vega-embed details,\n",
       "  #altair-viz-bf0186b593714dc88df14e9d3c4f731e.vega-embed details summary {\n",
       "    position: relative;\n",
       "  }\n",
       "</style>\n",
       "<div id=\"altair-viz-bf0186b593714dc88df14e9d3c4f731e\"></div>\n",
       "<script type=\"text/javascript\">\n",
       "  var VEGA_DEBUG = (typeof VEGA_DEBUG == \"undefined\") ? {} : VEGA_DEBUG;\n",
       "  (function(spec, embedOpt){\n",
       "    let outputDiv = document.currentScript.previousElementSibling;\n",
       "    if (outputDiv.id !== \"altair-viz-bf0186b593714dc88df14e9d3c4f731e\") {\n",
       "      outputDiv = document.getElementById(\"altair-viz-bf0186b593714dc88df14e9d3c4f731e\");\n",
       "    }\n",
       "    const paths = {\n",
       "      \"vega\": \"https://cdn.jsdelivr.net/npm/vega@5?noext\",\n",
       "      \"vega-lib\": \"https://cdn.jsdelivr.net/npm/vega-lib?noext\",\n",
       "      \"vega-lite\": \"https://cdn.jsdelivr.net/npm/vega-lite@5.15.1?noext\",\n",
       "      \"vega-embed\": \"https://cdn.jsdelivr.net/npm/vega-embed@6?noext\",\n",
       "    };\n",
       "\n",
       "    function maybeLoadScript(lib, version) {\n",
       "      var key = `${lib.replace(\"-\", \"\")}_version`;\n",
       "      return (VEGA_DEBUG[key] == version) ?\n",
       "        Promise.resolve(paths[lib]) :\n",
       "        new Promise(function(resolve, reject) {\n",
       "          var s = document.createElement('script');\n",
       "          document.getElementsByTagName(\"head\")[0].appendChild(s);\n",
       "          s.async = true;\n",
       "          s.onload = () => {\n",
       "            VEGA_DEBUG[key] = version;\n",
       "            return resolve(paths[lib]);\n",
       "          };\n",
       "          s.onerror = () => reject(`Error loading script: ${paths[lib]}`);\n",
       "          s.src = paths[lib];\n",
       "        });\n",
       "    }\n",
       "\n",
       "    function showError(err) {\n",
       "      outputDiv.innerHTML = `<div class=\"error\" style=\"color:red;\">${err}</div>`;\n",
       "      throw err;\n",
       "    }\n",
       "\n",
       "    function displayChart(vegaEmbed) {\n",
       "      vegaEmbed(outputDiv, spec, embedOpt)\n",
       "        .catch(err => showError(`Javascript Error: ${err.message}<br>This usually means there's a typo in your chart specification. See the javascript console for the full traceback.`));\n",
       "    }\n",
       "\n",
       "    if(typeof define === \"function\" && define.amd) {\n",
       "      requirejs.config({paths});\n",
       "      require([\"vega-embed\"], displayChart, err => showError(`Error loading script: ${err.message}`));\n",
       "    } else {\n",
       "      maybeLoadScript(\"vega\", \"5\")\n",
       "        .then(() => maybeLoadScript(\"vega-lite\", \"5.15.1\"))\n",
       "        .then(() => maybeLoadScript(\"vega-embed\", \"6\"))\n",
       "        .catch(showError)\n",
       "        .then(() => displayChart(vegaEmbed));\n",
       "    }\n",
       "  })({\"$schema\": \"https://vega.github.io/schema/vega/v5.json\", \"data\": [{\"name\": \"source_0\", \"values\": [{\"q / p\": 0.0, \"N / E\": 1.0, \"strat\": \"majority\", \"mean\": 1.0, \"std\": 0.0, \"stdNorm\": 0.0}, {\"q / p\": 0.0, \"N / E\": 1.0, \"strat\": \"max\", \"mean\": 1.0, \"std\": 0.0, \"stdNorm\": 0.0}, {\"q / p\": 0.0, \"N / E\": 1.0, \"strat\": \"min\", \"mean\": 1.0, \"std\": 0.0, \"stdNorm\": 0.0}, {\"q / p\": 0.0, \"N / E\": 1.0, \"strat\": \"weighted\", \"mean\": 1.0, \"std\": 0.0, \"stdNorm\": 0.0}, {\"q / p\": 0.0, \"N / E\": 1.5, \"strat\": \"majority\", \"mean\": 1.0, \"std\": 0.0, \"stdNorm\": 0.0}, {\"q / p\": 0.0, \"N / E\": 1.5, \"strat\": \"max\", \"mean\": 1.0, \"std\": 0.0, \"stdNorm\": 0.0}, {\"q / p\": 0.0, \"N / E\": 1.5, \"strat\": \"min\", \"mean\": 1.0, \"std\": 0.0, \"stdNorm\": 0.0}, {\"q / p\": 0.0, \"N / E\": 1.5, \"strat\": \"weighted\", \"mean\": 1.0, \"std\": 0.0, \"stdNorm\": 0.0}, {\"q / p\": 0.0, \"N / E\": 2.5, \"strat\": \"majority\", \"mean\": 1.0, \"std\": 0.0, \"stdNorm\": 0.0}, {\"q / p\": 0.0, \"N / E\": 2.5, \"strat\": \"max\", \"mean\": 1.0, \"std\": 0.0, \"stdNorm\": 0.0}, {\"q / p\": 0.0, \"N / E\": 2.5, \"strat\": \"min\", \"mean\": 1.0, \"std\": 0.0, \"stdNorm\": 0.0}, {\"q / p\": 0.0, \"N / E\": 2.5, \"strat\": \"weighted\", \"mean\": 1.0, \"std\": 0.0, \"stdNorm\": 0.0}, {\"q / p\": 0.0, \"N / E\": 3.5, \"strat\": \"majority\", \"mean\": 1.0, \"std\": 0.0, \"stdNorm\": 0.0}, {\"q / p\": 0.0, \"N / E\": 3.5, \"strat\": \"max\", \"mean\": 1.0, \"std\": 0.0, \"stdNorm\": 0.0}, {\"q / p\": 0.0, \"N / E\": 3.5, \"strat\": \"min\", \"mean\": 1.0, \"std\": 0.0, \"stdNorm\": 0.0}, {\"q / p\": 0.0, \"N / E\": 3.5, \"strat\": \"weighted\", \"mean\": 1.0, \"std\": 0.0, \"stdNorm\": 0.0}, {\"q / p\": 0.0, \"N / E\": 5.0, \"strat\": \"majority\", \"mean\": 1.0, \"std\": 0.0, \"stdNorm\": 0.0}, {\"q / p\": 0.0, \"N / E\": 5.0, \"strat\": \"max\", \"mean\": 1.0, \"std\": 0.0, \"stdNorm\": 0.0}, {\"q / p\": 0.0, \"N / E\": 5.0, \"strat\": \"min\", \"mean\": 1.0, \"std\": 0.0, \"stdNorm\": 0.0}, {\"q / p\": 0.0, \"N / E\": 5.0, \"strat\": \"weighted\", \"mean\": 1.0, \"std\": 0.0, \"stdNorm\": 0.0}, {\"q / p\": 0.0, \"N / E\": 10.0, \"strat\": \"majority\", \"mean\": 1.0, \"std\": 0.0, \"stdNorm\": 0.0}, {\"q / p\": 0.0, \"N / E\": 10.0, \"strat\": \"max\", \"mean\": 1.0, \"std\": 0.0, \"stdNorm\": 0.0}, {\"q / p\": 0.0, \"N / E\": 10.0, \"strat\": \"min\", \"mean\": 1.0, \"std\": 0.0, \"stdNorm\": 0.0}, {\"q / p\": 0.0, \"N / E\": 10.0, \"strat\": \"weighted\", \"mean\": 1.0, \"std\": 0.0, \"stdNorm\": 0.0}, {\"q / p\": 0.01, \"N / E\": 1.0, \"strat\": \"majority\", \"mean\": 0.9914427129439406, \"std\": 0.04615434400153989, \"stdNorm\": 0.04655270889478978}, {\"q / p\": 0.01, \"N / E\": 1.0, \"strat\": \"max\", \"mean\": 0.9908400769581486, \"std\": 0.0488358854446714, \"stdNorm\": 0.04928735381253068}, {\"q / p\": 0.01, \"N / E\": 1.0, \"strat\": \"min\", \"mean\": 0.9890572583377473, \"std\": 0.05671223512291844, \"stdNorm\": 0.05733968852140218}, {\"q / p\": 0.01, \"N / E\": 1.0, \"strat\": \"weighted\", \"mean\": 0.9911493068475636, \"std\": 0.048443191674799546, \"stdNorm\": 0.048875776172287624}, {\"q / p\": 0.01, \"N / E\": 1.5, \"strat\": \"majority\", \"mean\": 0.988106481403311, \"std\": 0.05046917923128965, \"stdNorm\": 0.05107666044211471}, {\"q / p\": 0.01, \"N / E\": 1.5, \"strat\": \"max\", \"mean\": 0.9864780675805676, \"std\": 0.05814395634341627, \"stdNorm\": 0.058940951911906084}, {\"q / p\": 0.01, \"N / E\": 1.5, \"strat\": \"min\", \"mean\": 0.9852585221853686, \"std\": 0.0631019423912557, \"stdNorm\": 0.06404607620271217}, {\"q / p\": 0.01, \"N / E\": 1.5, \"strat\": \"weighted\", \"mean\": 0.9875241465295969, \"std\": 0.05525978377387136, \"stdNorm\": 0.0559579064148131}, {\"q / p\": 0.01, \"N / E\": 2.5, \"strat\": \"majority\", \"mean\": 0.9859727377252376, \"std\": 0.04789751996502567, \"stdNorm\": 0.04857894963255398}, {\"q / p\": 0.01, \"N / E\": 2.5, \"strat\": \"max\", \"mean\": 0.977606522921523, \"std\": 0.0730254561463701, \"stdNorm\": 0.07469820877231625}, {\"q / p\": 0.01, \"N / E\": 2.5, \"strat\": \"min\", \"mean\": 0.9767385277685278, \"std\": 0.0755195843109371, \"stdNorm\": 0.07731811755544274}, {\"q / p\": 0.01, \"N / E\": 2.5, \"strat\": \"weighted\", \"mean\": 0.9809681194731195, \"std\": 0.06312848928994425, \"stdNorm\": 0.06435325270697963}, {\"q / p\": 0.01, \"N / E\": 3.5, \"strat\": \"majority\", \"mean\": 0.9837103613053613, \"std\": 0.04605769533755562, \"stdNorm\": 0.04682038245123098}, {\"q / p\": 0.01, \"N / E\": 3.5, \"strat\": \"max\", \"mean\": 0.9685200736718849, \"std\": 0.08573216313691367, \"stdNorm\": 0.08851872611362933}, {\"q / p\": 0.01, \"N / E\": 3.5, \"strat\": \"min\", \"mean\": 0.9719545307470308, \"std\": 0.08122477603250397, \"stdNorm\": 0.08356849365173054}, {\"q / p\": 0.01, \"N / E\": 3.5, \"strat\": \"weighted\", \"mean\": 0.9777140774884158, \"std\": 0.06526436838784341, \"stdNorm\": 0.0667519982482984}, {\"q / p\": 0.01, \"N / E\": 5.0, \"strat\": \"majority\", \"mean\": 0.9818589542708467, \"std\": 0.04355617602882145, \"stdNorm\": 0.0443609296827846}, {\"q / p\": 0.01, \"N / E\": 5.0, \"strat\": \"max\", \"mean\": 0.955887186887596, \"std\": 0.10173843123247556, \"stdNorm\": 0.10643351289574207}, {\"q / p\": 0.01, \"N / E\": 5.0, \"strat\": \"min\", \"mean\": 0.9656707559857869, \"std\": 0.08736470712981033, \"stdNorm\": 0.09047049068046563}, {\"q / p\": 0.01, \"N / E\": 5.0, \"strat\": \"weighted\", \"mean\": 0.9711602499524326, \"std\": 0.0711191468241163, \"stdNorm\": 0.07323111384305496}, {\"q / p\": 0.01, \"N / E\": 10.0, \"strat\": \"majority\", \"mean\": 0.9795893449671778, \"std\": 0.034817339865119576, \"stdNorm\": 0.035542791521774024}, {\"q / p\": 0.01, \"N / E\": 10.0, \"strat\": \"max\", \"mean\": 0.9131316237877072, \"std\": 0.1386073076866502, \"stdNorm\": 0.1517933494754036}, {\"q / p\": 0.01, \"N / E\": 10.0, \"strat\": \"min\", \"mean\": 0.9470660007637917, \"std\": 0.10528623141473377, \"stdNorm\": 0.11117095464288901}, {\"q / p\": 0.01, \"N / E\": 10.0, \"strat\": \"weighted\", \"mean\": 0.9594680270527368, \"std\": 0.07886599393092372, \"stdNorm\": 0.08219762587939669}, {\"q / p\": 0.05, \"N / E\": 1.0, \"strat\": \"majority\", \"mean\": 0.9571051381139584, \"std\": 0.10331817837366732, \"stdNorm\": 0.10794861949781495}, {\"q / p\": 0.05, \"N / E\": 1.0, \"strat\": \"max\", \"mean\": 0.9559336851483501, \"std\": 0.10456154055417577, \"stdNorm\": 0.10938158386786946}, {\"q / p\": 0.05, \"N / E\": 1.0, \"strat\": \"min\", \"mean\": 0.9484738127466358, \"std\": 0.1210841375932806, \"stdNorm\": 0.12766207771476512}, {\"q / p\": 0.05, \"N / E\": 1.0, \"strat\": \"weighted\", \"mean\": 0.9558756743633009, \"std\": 0.1059502542389898, \"stdNorm\": 0.11084104039948729}, {\"q / p\": 0.05, \"N / E\": 1.5, \"strat\": \"majority\", \"mean\": 0.9441162863851267, \"std\": 0.10942834398475255, \"stdNorm\": 0.11590557811870457}, {\"q / p\": 0.05, \"N / E\": 1.5, \"strat\": \"max\", \"mean\": 0.9349556251076326, \"std\": 0.12296113319631921, \"stdNorm\": 0.1315154750602884}, {\"q / p\": 0.05, \"N / E\": 1.5, \"strat\": \"min\", \"mean\": 0.9292701889236542, \"std\": 0.13752196738616393, \"stdNorm\": 0.14798921672657067}, {\"q / p\": 0.05, \"N / E\": 1.5, \"strat\": \"weighted\", \"mean\": 0.93632575998076, \"std\": 0.12177953042560684, \"stdNorm\": 0.13006107022849528}, {\"q / p\": 0.05, \"N / E\": 2.5, \"strat\": \"majority\", \"mean\": 0.9268297431272431, \"std\": 0.11179552097059114, \"stdNorm\": 0.1206214213555325}, {\"q / p\": 0.05, \"N / E\": 2.5, \"strat\": \"max\", \"mean\": 0.8924570839153967, \"std\": 0.15092645566518964, \"stdNorm\": 0.1691134043141252}, {\"q / p\": 0.05, \"N / E\": 2.5, \"strat\": \"min\", \"mean\": 0.8928555543530543, \"std\": 0.16031380519992974, \"stdNorm\": 0.1795517812689086}, {\"q / p\": 0.05, \"N / E\": 2.5, \"strat\": \"weighted\", \"mean\": 0.9106333680208679, \"std\": 0.13305850970465719, \"stdNorm\": 0.14611644419953657}, {\"q / p\": 0.05, \"N / E\": 3.5, \"strat\": \"majority\", \"mean\": 0.9155287716395804, \"std\": 0.1095447815444404, \"stdNorm\": 0.11965192677479863}, {\"q / p\": 0.05, \"N / E\": 3.5, \"strat\": \"max\", \"mean\": 0.8555949305779537, \"std\": 0.16909565799060597, \"stdNorm\": 0.19763517985827941}, {\"q / p\": 0.05, \"N / E\": 3.5, \"strat\": \"min\", \"mean\": 0.8638198076460576, \"std\": 0.17804513832296737, \"stdNorm\": 0.20611374819957795}, {\"q / p\": 0.05, \"N / E\": 3.5, \"strat\": \"weighted\", \"mean\": 0.8865312800162799, \"std\": 0.14286977198389597, \"stdNorm\": 0.16115592896087363}, {\"q / p\": 0.05, \"N / E\": 5.0, \"strat\": \"majority\", \"mean\": 0.905914700063065, \"std\": 0.10294898174024746, \"stdNorm\": 0.11364092196879098}, {\"q / p\": 0.05, \"N / E\": 5.0, \"strat\": \"max\", \"mean\": 0.8033591875188293, \"std\": 0.18984724361338073, \"stdNorm\": 0.23631676411111072}, {\"q / p\": 0.05, \"N / E\": 5.0, \"strat\": \"min\", \"mean\": 0.8258184681937429, \"std\": 0.1948493365878659, \"stdNorm\": 0.23594693518303936}, {\"q / p\": 0.05, \"N / E\": 5.0, \"strat\": \"weighted\", \"mean\": 0.8597324324284956, \"std\": 0.1508192427584539, \"stdNorm\": 0.1754257918739126}, {\"q / p\": 0.05, \"N / E\": 10.0, \"strat\": \"majority\", \"mean\": 0.8861549906410355, \"std\": 0.08803561237774028, \"stdNorm\": 0.09934561482755541}, {\"q / p\": 0.05, \"N / E\": 10.0, \"strat\": \"max\", \"mean\": 0.6483816432162708, \"std\": 0.22058115436555314, \"stdNorm\": 0.3402026517459213}, {\"q / p\": 0.05, \"N / E\": 10.0, \"strat\": \"min\", \"mean\": 0.735339606914833, \"std\": 0.2172680891872885, \"stdNorm\": 0.295466322151273}, {\"q / p\": 0.05, \"N / E\": 10.0, \"strat\": \"weighted\", \"mean\": 0.7980584744513499, \"std\": 0.16181697048057478, \"stdNorm\": 0.2027633007616652}, {\"q / p\": 0.1, \"N / E\": 1.0, \"strat\": \"majority\", \"mean\": 0.9184043324633065, \"std\": 0.13937670526440707, \"stdNorm\": 0.15175963389738872}, {\"q / p\": 0.1, \"N / E\": 1.0, \"strat\": \"max\", \"mean\": 0.9124012414236395, \"std\": 0.14375060486606148, \"stdNorm\": 0.1575519610667827}, {\"q / p\": 0.1, \"N / E\": 1.0, \"strat\": \"min\", \"mean\": 0.9027178058027095, \"std\": 0.16364095337482196, \"stdNorm\": 0.18127586752242036}, {\"q / p\": 0.1, \"N / E\": 1.0, \"strat\": \"weighted\", \"mean\": 0.9140527732782631, \"std\": 0.14593844650344573, \"stdNorm\": 0.15966085413212572}, {\"q / p\": 0.1, \"N / E\": 1.5, \"strat\": \"majority\", \"mean\": 0.8905985272608596, \"std\": 0.14870468914873652, \"stdNorm\": 0.16697163154546782}, {\"q / p\": 0.1, \"N / E\": 1.5, \"strat\": \"max\", \"mean\": 0.8744842654439496, \"std\": 0.1631682094520804, \"stdNorm\": 0.1865879306235942}, {\"q / p\": 0.1, \"N / E\": 1.5, \"strat\": \"min\", \"mean\": 0.8582479123956197, \"std\": 0.18799565566938362, \"stdNorm\": 0.21904586420097782}, {\"q / p\": 0.1, \"N / E\": 1.5, \"strat\": \"weighted\", \"mean\": 0.8803982960090765, \"std\": 0.1606913748875199, \"stdNorm\": 0.18252122433215526}, {\"q / p\": 0.1, \"N / E\": 2.5, \"strat\": \"majority\", \"mean\": 0.8537687796381178, \"std\": 0.15553495302271297, \"stdNorm\": 0.18217456146456737}, {\"q / p\": 0.1, \"N / E\": 2.5, \"strat\": \"max\", \"mean\": 0.8037015713420094, \"std\": 0.18903565086872287, \"stdNorm\": 0.23520627258831142}, {\"q / p\": 0.1, \"N / E\": 2.5, \"strat\": \"min\", \"mean\": 0.795410403022903, \"std\": 0.21093151111432554, \"stdNorm\": 0.2651857585878871}, {\"q / p\": 0.1, \"N / E\": 2.5, \"strat\": \"weighted\", \"mean\": 0.8263845007307508, \"std\": 0.17817393639088536, \"stdNorm\": 0.2156065805122563}, {\"q / p\": 0.1, \"N / E\": 3.5, \"strat\": \"majority\", \"mean\": 0.8353909591661062, \"std\": 0.1502118399693009, \"stdNorm\": 0.17981022935565827}, {\"q / p\": 0.1, \"N / E\": 3.5, \"strat\": \"max\", \"mean\": 0.737083955704924, \"std\": 0.20557656212623526, \"stdNorm\": 0.2789052190528666}, {\"q / p\": 0.1, \"N / E\": 3.5, \"strat\": \"min\", \"mean\": 0.7451908263033263, \"std\": 0.22377425965133657, \"stdNorm\": 0.3002912163605331}, {\"q / p\": 0.1, \"N / E\": 3.5, \"strat\": \"weighted\", \"mean\": 0.7874471602693546, \"std\": 0.18495650899829127, \"stdNorm\": 0.23488116832502762}, {\"q / p\": 0.1, \"N / E\": 5.0, \"strat\": \"majority\", \"mean\": 0.8095832918838514, \"std\": 0.1413611155449432, \"stdNorm\": 0.17460972448678436}, {\"q / p\": 0.1, \"N / E\": 5.0, \"strat\": \"max\", \"mean\": 0.6536382115179541, \"std\": 0.21776011470393467, \"stdNorm\": 0.3331508330858243}, {\"q / p\": 0.1, \"N / E\": 5.0, \"strat\": \"min\", \"mean\": 0.6799009916091533, \"std\": 0.23458143791975092, \"stdNorm\": 0.34502293836129894}, {\"q / p\": 0.1, \"N / E\": 5.0, \"strat\": \"weighted\", \"mean\": 0.7406964245171628, \"std\": 0.18745116729107106, \"stdNorm\": 0.2530742164892516}, {\"q / p\": 0.1, \"N / E\": 10.0, \"strat\": \"majority\", \"mean\": 0.7743683210190744, \"std\": 0.11267924320136571, \"stdNorm\": 0.14551117361448748}, {\"q / p\": 0.1, \"N / E\": 10.0, \"strat\": \"max\", \"mean\": 0.4508258670902509, \"std\": 0.2058987268173614, \"stdNorm\": 0.4567145362494085}, {\"q / p\": 0.1, \"N / E\": 10.0, \"strat\": \"min\", \"mean\": 0.5401236727534832, \"std\": 0.21812314341999792, \"stdNorm\": 0.40383925834621043}, {\"q / p\": 0.1, \"N / E\": 10.0, \"strat\": \"weighted\", \"mean\": 0.6401380150421204, \"std\": 0.1833245318549148, \"stdNorm\": 0.28638282299615064}, {\"q / p\": 0.2, \"N / E\": 1.0, \"strat\": \"majority\", \"mean\": 0.8432312105617382, \"std\": 0.18692445114081066, \"stdNorm\": 0.22167639053147303}, {\"q / p\": 0.2, \"N / E\": 1.0, \"strat\": \"max\", \"mean\": 0.838089804201305, \"std\": 0.18538844622968756, \"stdNorm\": 0.22120355754281218}, {\"q / p\": 0.2, \"N / E\": 1.0, \"strat\": \"min\", \"mean\": 0.8182576013119317, \"std\": 0.21040589199253948, \"stdNorm\": 0.25713893968744167}, {\"q / p\": 0.2, \"N / E\": 1.0, \"strat\": \"weighted\", \"mean\": 0.8335344472152291, \"std\": 0.19267063482078695, \"stdNorm\": 0.23114897706325624}, {\"q / p\": 0.2, \"N / E\": 1.5, \"strat\": \"majority\", \"mean\": 0.791848768811465, \"std\": 0.19438760869512822, \"stdNorm\": 0.24548577500082072}, {\"q / p\": 0.2, \"N / E\": 1.5, \"strat\": \"max\", \"mean\": 0.7692192434916708, \"std\": 0.20282798329292342, \"stdNorm\": 0.263680329124683}, {\"q / p\": 0.2, \"N / E\": 1.5, \"strat\": \"min\", \"mean\": 0.7489491257779672, \"std\": 0.22883170043700538, \"stdNorm\": 0.3055370419176437}, {\"q / p\": 0.2, \"N / E\": 1.5, \"strat\": \"weighted\", \"mean\": 0.775227754930255, \"std\": 0.2048853574843309, \"stdNorm\": 0.2642905342092194}, {\"q / p\": 0.2, \"N / E\": 2.5, \"strat\": \"majority\", \"mean\": 0.7284636542641225, \"std\": 0.18936574748115947, \"stdNorm\": 0.25995222462053025}, {\"q / p\": 0.2, \"N / E\": 2.5, \"strat\": \"max\", \"mean\": 0.6581626030487376, \"std\": 0.2144032188508398, \"stdNorm\": 0.3257602572034361}, {\"q / p\": 0.2, \"N / E\": 2.5, \"strat\": \"min\", \"mean\": 0.644632646057646, \"std\": 0.23731976267813268, \"stdNorm\": 0.3681472915302996}, {\"q / p\": 0.2, \"N / E\": 2.5, \"strat\": \"weighted\", \"mean\": 0.6869314967385556, \"std\": 0.20828755435089832, \"stdNorm\": 0.30321444764116273}, {\"q / p\": 0.2, \"N / E\": 3.5, \"strat\": \"majority\", \"mean\": 0.6917762481875136, \"std\": 0.17749207448943433, \"stdNorm\": 0.2565743980867686}, {\"q / p\": 0.2, \"N / E\": 3.5, \"strat\": \"max\", \"mean\": 0.5681968808686325, \"std\": 0.2164477417051994, \"stdNorm\": 0.38093792661146664}, {\"q / p\": 0.2, \"N / E\": 3.5, \"strat\": \"min\", \"mean\": 0.5703451882975412, \"std\": 0.23085595593034197, \"stdNorm\": 0.4047653257484967}, {\"q / p\": 0.2, \"N / E\": 3.5, \"strat\": \"weighted\", \"mean\": 0.6272849696614016, \"std\": 0.20428118031086254, \"stdNorm\": 0.32565929392685794}, {\"q / p\": 0.2, \"N / E\": 5.0, \"strat\": \"majority\", \"mean\": 0.6554936006211968, \"std\": 0.16061012800609678, \"stdNorm\": 0.24502165673912013}, {\"q / p\": 0.2, \"N / E\": 5.0, \"strat\": \"max\", \"mean\": 0.46085534774170944, \"std\": 0.20279512300305327, \"stdNorm\": 0.4400407286077792}, {\"q / p\": 0.2, \"N / E\": 5.0, \"strat\": \"min\", \"mean\": 0.4940607457410437, \"std\": 0.21090361429131224, \"stdNorm\": 0.4268779013701586}, {\"q / p\": 0.2, \"N / E\": 5.0, \"strat\": \"weighted\", \"mean\": 0.5601041377705392, \"std\": 0.19293409905948355, \"stdNorm\": 0.34446112079701124}, {\"q / p\": 0.2, \"N / E\": 10.0, \"strat\": \"majority\", \"mean\": 0.6036681733855804, \"std\": 0.12301024329803899, \"stdNorm\": 0.20377129144999462}, {\"q / p\": 0.2, \"N / E\": 10.0, \"strat\": \"max\", \"mean\": 0.2731070397718102, \"std\": 0.14593318864432372, \"stdNorm\": 0.534344295065611}, {\"q / p\": 0.2, \"N / E\": 10.0, \"strat\": \"min\", \"mean\": 0.352915940173464, \"std\": 0.15874750832011772, \"stdNorm\": 0.44981677008437393}, {\"q / p\": 0.2, \"N / E\": 10.0, \"strat\": \"weighted\", \"mean\": 0.44222946375184174, \"std\": 0.16345928930888728, \"stdNorm\": 0.3696255060034012}, {\"q / p\": 0.3, \"N / E\": 1.0, \"strat\": \"majority\", \"mean\": 0.7758013466808256, \"std\": 0.21074733378824867, \"stdNorm\": 0.2716511574643512}, {\"q / p\": 0.3, \"N / E\": 1.0, \"strat\": \"max\", \"mean\": 0.7711551662260828, \"std\": 0.20849797910055753, \"stdNorm\": 0.2703709813952427}, {\"q / p\": 0.3, \"N / E\": 1.0, \"strat\": \"min\", \"mean\": 0.7517541570669076, \"std\": 0.23202774698340986, \"stdNorm\": 0.3086484388575971}, {\"q / p\": 0.3, \"N / E\": 1.0, \"strat\": \"weighted\", \"mean\": 0.7681581190505733, \"std\": 0.21782249858021027, \"stdNorm\": 0.28356466354796084}, {\"q / p\": 0.3, \"N / E\": 1.5, \"strat\": \"majority\", \"mean\": 0.7071775257834562, \"std\": 0.21566170872465365, \"stdNorm\": 0.30496120261419496}, {\"q / p\": 0.3, \"N / E\": 1.5, \"strat\": \"max\", \"mean\": 0.6827982155700046, \"std\": 0.21643151043600972, \"stdNorm\": 0.3169772642937141}, {\"q / p\": 0.3, \"N / E\": 1.5, \"strat\": \"min\", \"mean\": 0.6606977308802309, \"std\": 0.2395286924894402, \"stdNorm\": 0.36253899672142387}, {\"q / p\": 0.3, \"N / E\": 1.5, \"strat\": \"weighted\", \"mean\": 0.6861743135559208, \"std\": 0.22537825012828142, \"stdNorm\": 0.32845626202519435}, {\"q / p\": 0.3, \"N / E\": 2.5, \"strat\": \"majority\", \"mean\": 0.6262514906156508, \"std\": 0.1971493845225763, \"stdNorm\": 0.3148086471279519}, {\"q / p\": 0.3, \"N / E\": 2.5, \"strat\": \"max\", \"mean\": 0.5528705993137426, \"std\": 0.21369867795984532, \"stdNorm\": 0.3865256684386933}, {\"q / p\": 0.3, \"N / E\": 2.5, \"strat\": \"min\", \"mean\": 0.5413773852998853, \"std\": 0.22558284597836115, \"stdNorm\": 0.4166831716722042}, {\"q / p\": 0.3, \"N / E\": 2.5, \"strat\": \"weighted\", \"mean\": 0.579768627065086, \"std\": 0.21292513926017606, \"stdNorm\": 0.36725881553482653}, {\"q / p\": 0.3, \"N / E\": 3.5, \"strat\": \"majority\", \"mean\": 0.5812931560958037, \"std\": 0.1786234795401791, \"stdNorm\": 0.30728639700471533}, {\"q / p\": 0.3, \"N / E\": 3.5, \"strat\": \"max\", \"mean\": 0.4556909504856739, \"std\": 0.200554904250322, \"stdNorm\": 0.4401116678673809}, {\"q / p\": 0.3, \"N / E\": 3.5, \"strat\": \"min\", \"mean\": 0.466540007727051, \"std\": 0.20468333174044215, \"stdNorm\": 0.43872621500917885}, {\"q / p\": 0.3, \"N / E\": 3.5, \"strat\": \"weighted\", \"mean\": 0.514669666104879, \"std\": 0.19451707855118303, \"stdNorm\": 0.37794548884787876}, {\"q / p\": 0.3, \"N / E\": 5.0, \"strat\": \"majority\", \"mean\": 0.5402151896300555, \"std\": 0.1556288545151254, \"stdNorm\": 0.28808678005093025}, {\"q / p\": 0.3, \"N / E\": 5.0, \"strat\": \"max\", \"mean\": 0.3579732572569495, \"std\": 0.17408045698518318, \"stdNorm\": 0.48629458613504756}, {\"q / p\": 0.3, \"N / E\": 5.0, \"strat\": \"min\", \"mean\": 0.39263780818159566, \"std\": 0.17596897348795326, \"stdNorm\": 0.4481712403166414}, {\"q / p\": 0.3, \"N / E\": 5.0, \"strat\": \"weighted\", \"mean\": 0.44532213180005564, \"std\": 0.17547881477944405, \"stdNorm\": 0.3940491663195216}, {\"q / p\": 0.3, \"N / E\": 10.0, \"strat\": \"majority\", \"mean\": 0.4790526330625944, \"std\": 0.11739108760251357, \"stdNorm\": 0.24504841326521823}, {\"q / p\": 0.3, \"N / E\": 10.0, \"strat\": \"max\", \"mean\": 0.2053916922256864, \"std\": 0.10403395553005831, \"stdNorm\": 0.5065149150032066}, {\"q / p\": 0.3, \"N / E\": 10.0, \"strat\": \"min\", \"mean\": 0.2749536529124393, \"std\": 0.12193639389136243, \"stdNorm\": 0.4434798105053503}, {\"q / p\": 0.3, \"N / E\": 10.0, \"strat\": \"weighted\", \"mean\": 0.3330955652777486, \"std\": 0.1345423226421393, \"stdNorm\": 0.40391508223759287}, {\"q / p\": 0.4, \"N / E\": 1.0, \"strat\": \"majority\", \"mean\": 0.7153016027972183, \"std\": 0.22632057763263866, \"stdNorm\": 0.3163988123996956}, {\"q / p\": 0.4, \"N / E\": 1.0, \"strat\": \"max\", \"mean\": 0.709260063200291, \"std\": 0.22211137069498807, \"stdNorm\": 0.3131592799583093}, {\"q / p\": 0.4, \"N / E\": 1.0, \"strat\": \"min\", \"mean\": 0.6843525552698485, \"std\": 0.24333672594291317, \"stdNorm\": 0.3555721741215134}, {\"q / p\": 0.4, \"N / E\": 1.0, \"strat\": \"weighted\", \"mean\": 0.705521891544932, \"std\": 0.23095672426298386, \"stdNorm\": 0.3273558581679745}, {\"q / p\": 0.4, \"N / E\": 1.5, \"strat\": \"majority\", \"mean\": 0.6350881825581826, \"std\": 0.22069019694817085, \"stdNorm\": 0.34749536050129964}, {\"q / p\": 0.4, \"N / E\": 1.5, \"strat\": \"max\", \"mean\": 0.6128043790479577, \"std\": 0.22106053951422724, \"stdNorm\": 0.3607359005130856}, {\"q / p\": 0.4, \"N / E\": 1.5, \"strat\": \"min\", \"mean\": 0.5897835101155433, \"std\": 0.24036781476694608, \"stdNorm\": 0.4075526199772118}, {\"q / p\": 0.4, \"N / E\": 1.5, \"strat\": \"weighted\", \"mean\": 0.6117955967096383, \"std\": 0.22560910104538584, \"stdNorm\": 0.3687654868043472}, {\"q / p\": 0.4, \"N / E\": 2.5, \"strat\": \"majority\", \"mean\": 0.5477205644609089, \"std\": 0.19162228340687518, \"stdNorm\": 0.3498540968522488}, {\"q / p\": 0.4, \"N / E\": 2.5, \"strat\": \"max\", \"mean\": 0.4774686081210222, \"std\": 0.20191186412221326, \"stdNorm\": 0.42287987249422565}, {\"q / p\": 0.4, \"N / E\": 2.5, \"strat\": \"min\", \"mean\": 0.4702897476543065, \"std\": 0.20739972019804578, \"stdNorm\": 0.4410041282688094}, {\"q / p\": 0.4, \"N / E\": 2.5, \"strat\": \"weighted\", \"mean\": 0.505158056305866, \"std\": 0.20229239550746766, \"stdNorm\": 0.4004536659017124}, {\"q / p\": 0.4, \"N / E\": 3.5, \"strat\": \"majority\", \"mean\": 0.49703633177621526, \"std\": 0.16966403561240526, \"stdNorm\": 0.34135137567527857}, {\"q / p\": 0.4, \"N / E\": 3.5, \"strat\": \"max\", \"mean\": 0.38470147273782573, \"std\": 0.17806515878015725, \"stdNorm\": 0.4628658099822476}, {\"q / p\": 0.4, \"N / E\": 3.5, \"strat\": \"min\", \"mean\": 0.4001978271595417, \"std\": 0.1804078898542672, \"stdNorm\": 0.4507967750218352}, {\"q / p\": 0.4, \"N / E\": 3.5, \"strat\": \"weighted\", \"mean\": 0.43456684454496997, \"std\": 0.1773852703939228, \"stdNorm\": 0.4081886886231758}, {\"q / p\": 0.4, \"N / E\": 5.0, \"strat\": \"majority\", \"mean\": 0.4520260834256701, \"std\": 0.14595861111849362, \"stdNorm\": 0.32289864782215527}, {\"q / p\": 0.4, \"N / E\": 5.0, \"strat\": \"max\", \"mean\": 0.29862768608607854, \"std\": 0.1461991693886941, \"stdNorm\": 0.48957004390595127}, {\"q / p\": 0.4, \"N / E\": 5.0, \"strat\": \"min\", \"mean\": 0.33436756816524066, \"std\": 0.14998436859290548, \"stdNorm\": 0.44856135245385076}, {\"q / p\": 0.4, \"N / E\": 5.0, \"strat\": \"weighted\", \"mean\": 0.3711787911680962, \"std\": 0.153548549554456, \"stdNorm\": 0.41367813357880745}, {\"q / p\": 0.4, \"N / E\": 10.0, \"strat\": \"majority\", \"mean\": 0.3914800993747207, \"std\": 0.10947592602751592, \"stdNorm\": 0.2796462098644935}, {\"q / p\": 0.4, \"N / E\": 10.0, \"strat\": \"max\", \"mean\": 0.17785121869935414, \"std\": 0.08424225567545224, \"stdNorm\": 0.47366701387556004}, {\"q / p\": 0.4, \"N / E\": 10.0, \"strat\": \"min\", \"mean\": 0.23299536426867304, \"std\": 0.1023976914403908, \"stdNorm\": 0.4394838144604171}, {\"q / p\": 0.4, \"N / E\": 10.0, \"strat\": \"weighted\", \"mean\": 0.26850451229643907, \"std\": 0.11276111942263141, \"stdNorm\": 0.4199598675576033}, {\"q / p\": 0.5, \"N / E\": 1.0, \"strat\": \"majority\", \"mean\": 0.6620455027640806, \"std\": 0.2321024277965306, \"stdNorm\": 0.35058379949337126}, {\"q / p\": 0.5, \"N / E\": 1.0, \"strat\": \"max\", \"mean\": 0.6576434748861939, \"std\": 0.22806047877191238, \"stdNorm\": 0.3467843709866939}, {\"q / p\": 0.5, \"N / E\": 1.0, \"strat\": \"min\", \"mean\": 0.6362143757737964, \"std\": 0.2455231646487608, \"stdNorm\": 0.3859126325936018}, {\"q / p\": 0.5, \"N / E\": 1.0, \"strat\": \"weighted\", \"mean\": 0.6543474703183003, \"std\": 0.23721983261225435, \"stdNorm\": 0.36252884495276083}, {\"q / p\": 0.5, \"N / E\": 1.5, \"strat\": \"majority\", \"mean\": 0.575824732295703, \"std\": 0.2176183561645918, \"stdNorm\": 0.37792464261996717}, {\"q / p\": 0.5, \"N / E\": 1.5, \"strat\": \"max\", \"mean\": 0.5555763865203825, \"std\": 0.2183987794402383, \"stdNorm\": 0.39310306330347583}, {\"q / p\": 0.5, \"N / E\": 1.5, \"strat\": \"min\", \"mean\": 0.5359730447089183, \"std\": 0.2296077876916973, \"stdNorm\": 0.42839428206020147}, {\"q / p\": 0.5, \"N / E\": 1.5, \"strat\": \"weighted\", \"mean\": 0.5572480294859975, \"std\": 0.22314003758517603, \"stdNorm\": 0.400432169838266}, {\"q / p\": 0.5, \"N / E\": 2.5, \"strat\": \"majority\", \"mean\": 0.47983388936260163, \"std\": 0.18135678798517285, \"stdNorm\": 0.37795743903391715}, {\"q / p\": 0.5, \"N / E\": 2.5, \"strat\": \"max\", \"mean\": 0.4190899867362025, \"std\": 0.18612855841743406, \"stdNorm\": 0.44412552031359614}, {\"q / p\": 0.5, \"N / E\": 2.5, \"strat\": \"min\", \"mean\": 0.4185756600004742, \"std\": 0.1898704376303108, \"stdNorm\": 0.45361079435458745}, {\"q / p\": 0.5, \"N / E\": 2.5, \"strat\": \"weighted\", \"mean\": 0.4464741440368658, \"std\": 0.18785714806454026, \"stdNorm\": 0.4207570596720349}, {\"q / p\": 0.5, \"N / E\": 3.5, \"strat\": \"majority\", \"mean\": 0.4312386930616413, \"std\": 0.15868959017604808, \"stdNorm\": 0.3679855094852654}, {\"q / p\": 0.5, \"N / E\": 3.5, \"strat\": \"max\", \"mean\": 0.33836859301213007, \"std\": 0.15943908321912106, \"stdNorm\": 0.47119941540616145}, {\"q / p\": 0.5, \"N / E\": 3.5, \"strat\": \"min\", \"mean\": 0.3543429685541945, \"std\": 0.15847553762734753, \"stdNorm\": 0.4472377094823308}, {\"q / p\": 0.5, \"N / E\": 3.5, \"strat\": \"weighted\", \"mean\": 0.38348296773602697, \"std\": 0.16429928677818814, \"stdNorm\": 0.42843959341444504}, {\"q / p\": 0.5, \"N / E\": 5.0, \"strat\": \"majority\", \"mean\": 0.3858535898139152, \"std\": 0.13383426992912273, \"stdNorm\": 0.3468524680401877}, {\"q / p\": 0.5, \"N / E\": 5.0, \"strat\": \"max\", \"mean\": 0.2607284101464682, \"std\": 0.1250422457120722, \"stdNorm\": 0.479588111022607}, {\"q / p\": 0.5, \"N / E\": 5.0, \"strat\": \"min\", \"mean\": 0.2948833862766643, \"std\": 0.13085340695776976, \"stdNorm\": 0.44374628428541235}, {\"q / p\": 0.5, \"N / E\": 5.0, \"strat\": \"weighted\", \"mean\": 0.3218116320649262, \"std\": 0.13718715941019408, \"stdNorm\": 0.4262964596087573}, {\"q / p\": 0.5, \"N / E\": 10.0, \"strat\": \"majority\", \"mean\": 0.31945151979746056, \"std\": 0.10069624421479562, \"stdNorm\": 0.3152160436695975}, {\"q / p\": 0.5, \"N / E\": 10.0, \"strat\": \"max\", \"mean\": 0.16460697866677645, \"std\": 0.07452660510385445, \"stdNorm\": 0.45275483279917933}, {\"q / p\": 0.5, \"N / E\": 10.0, \"strat\": \"min\", \"mean\": 0.20776515507252497, \"std\": 0.08973241753437233, \"stdNorm\": 0.4318934881214767}, {\"q / p\": 0.5, \"N / E\": 10.0, \"strat\": \"weighted\", \"mean\": 0.23024809211370062, \"std\": 0.0969534663465766, \"stdNorm\": 0.4210826046658369}, {\"q / p\": 0.6, \"N / E\": 1.0, \"strat\": \"majority\", \"mean\": 0.6145660178520616, \"std\": 0.23560809495148327, \"stdNorm\": 0.38337312527455575}, {\"q / p\": 0.6, \"N / E\": 1.0, \"strat\": \"max\", \"mean\": 0.608079625409, \"std\": 0.2324045995244348, \"stdNorm\": 0.38219435385311146}, {\"q / p\": 0.6, \"N / E\": 1.0, \"strat\": \"min\", \"mean\": 0.5920356641604448, \"std\": 0.24665996108933844, \"stdNorm\": 0.4166302404081053}, {\"q / p\": 0.6, \"N / E\": 1.0, \"strat\": \"weighted\", \"mean\": 0.6059377295570539, \"std\": 0.2370150207376227, \"stdNorm\": 0.3911540892343556}, {\"q / p\": 0.6, \"N / E\": 1.5, \"strat\": \"majority\", \"mean\": 0.5252036522875719, \"std\": 0.21208127038900706, \"stdNorm\": 0.4038076838675206}, {\"q / p\": 0.6, \"N / E\": 1.5, \"strat\": \"max\", \"mean\": 0.5060924778039544, \"std\": 0.21225304171834167, \"stdNorm\": 0.4193957646621303}, {\"q / p\": 0.6, \"N / E\": 1.5, \"strat\": \"min\", \"mean\": 0.49280836724708915, \"std\": 0.21962986002924972, \"stdNorm\": 0.44566990868304296}, {\"q / p\": 0.6, \"N / E\": 1.5, \"strat\": \"weighted\", \"mean\": 0.5068391541624895, \"std\": 0.21454031940897902, \"stdNorm\": 0.423290737597985}, {\"q / p\": 0.6, \"N / E\": 2.5, \"strat\": \"majority\", \"mean\": 0.42752461385324886, \"std\": 0.17107539282932444, \"stdNorm\": 0.4001533181620448}, {\"q / p\": 0.6, \"N / E\": 2.5, \"strat\": \"max\", \"mean\": 0.3801002556999749, \"std\": 0.17300136329775756, \"stdNorm\": 0.4551466638168036}, {\"q / p\": 0.6, \"N / E\": 2.5, \"strat\": \"min\", \"mean\": 0.381992465391218, \"std\": 0.17320067978753542, \"stdNorm\": 0.45341386409324}, {\"q / p\": 0.6, \"N / E\": 2.5, \"strat\": \"weighted\", \"mean\": 0.39838883858199703, \"std\": 0.17135102121664936, \"stdNorm\": 0.43010999461367094}, {\"q / p\": 0.6, \"N / E\": 3.5, \"strat\": \"majority\", \"mean\": 0.37664816104661375, \"std\": 0.1459356794669717, \"stdNorm\": 0.38745889283370427}, {\"q / p\": 0.6, \"N / E\": 3.5, \"strat\": \"max\", \"mean\": 0.30377072678897954, \"std\": 0.14273737799749636, \"stdNorm\": 0.46988523056947407}, {\"q / p\": 0.6, \"N / E\": 3.5, \"strat\": \"min\", \"mean\": 0.32013121198828104, \"std\": 0.14347492652214844, \"stdNorm\": 0.4481753766871085}, {\"q / p\": 0.6, \"N / E\": 3.5, \"strat\": \"weighted\", \"mean\": 0.33907536124912724, \"std\": 0.14648905510373403, \"stdNorm\": 0.43202506535443846}, {\"q / p\": 0.6, \"N / E\": 5.0, \"strat\": \"majority\", \"mean\": 0.3348125406512331, \"std\": 0.12350989778095571, \"stdNorm\": 0.3688926870562273}, {\"q / p\": 0.6, \"N / E\": 5.0, \"strat\": \"max\", \"mean\": 0.2418309858462158, \"std\": 0.1120090350985192, \"stdNorm\": 0.4631707335045458}, {\"q / p\": 0.6, \"N / E\": 5.0, \"strat\": \"min\", \"mean\": 0.26787877120592074, \"std\": 0.11839046075925223, \"stdNorm\": 0.44195536744583785}, {\"q / p\": 0.6, \"N / E\": 5.0, \"strat\": \"weighted\", \"mean\": 0.28351625129053315, \"std\": 0.12248827408788208, \"stdNorm\": 0.4320326384478126}, {\"q / p\": 0.6, \"N / E\": 10.0, \"strat\": \"majority\", \"mean\": 0.26779224037329796, \"std\": 0.09059864734710503, \"stdNorm\": 0.3383169251686009}, {\"q / p\": 0.6, \"N / E\": 10.0, \"strat\": \"max\", \"mean\": 0.15717574314884844, \"std\": 0.06906423149908439, \"stdNorm\": 0.43940769813112474}, {\"q / p\": 0.6, \"N / E\": 10.0, \"strat\": \"min\", \"mean\": 0.18785127120405712, \"std\": 0.0819619692530186, \"stdNorm\": 0.4363130934790737}, {\"q / p\": 0.6, \"N / E\": 10.0, \"strat\": \"weighted\", \"mean\": 0.20201756656192593, \"std\": 0.08689980817793944, \"stdNorm\": 0.4301596621366162}, {\"q / p\": 0.7, \"N / E\": 1.0, \"strat\": \"majority\", \"mean\": 0.5746498746097805, \"std\": 0.2337047395461444, \"stdNorm\": 0.4066906648241123}, {\"q / p\": 0.7, \"N / E\": 1.0, \"strat\": \"max\", \"mean\": 0.5700965539221463, \"std\": 0.23136870179134678, \"stdNorm\": 0.405841256537297}, {\"q / p\": 0.7, \"N / E\": 1.0, \"strat\": \"min\", \"mean\": 0.5574737979784165, \"std\": 0.23816283014513426, \"stdNorm\": 0.4272179804840893}, {\"q / p\": 0.7, \"N / E\": 1.0, \"strat\": \"weighted\", \"mean\": 0.5641922086203648, \"std\": 0.23434689788884255, \"stdNorm\": 0.4153671289823333}, {\"q / p\": 0.7, \"N / E\": 1.5, \"strat\": \"majority\", \"mean\": 0.47732130282098933, \"std\": 0.20102264387704866, \"stdNorm\": 0.42114743819099676}, {\"q / p\": 0.7, \"N / E\": 1.5, \"strat\": \"max\", \"mean\": 0.46387736541438884, \"std\": 0.20228509136588255, \"stdNorm\": 0.43607450254697844}, {\"q / p\": 0.7, \"N / E\": 1.5, \"strat\": \"min\", \"mean\": 0.45720410703734377, \"std\": 0.20728191200753251, \"stdNorm\": 0.45336843833426466}, {\"q / p\": 0.7, \"N / E\": 1.5, \"strat\": \"weighted\", \"mean\": 0.46758928563309754, \"std\": 0.20594297785830645, \"stdNorm\": 0.44043562199990904}, {\"q / p\": 0.7, \"N / E\": 2.5, \"strat\": \"majority\", \"mean\": 0.3841408184971652, \"std\": 0.15822175689703324, \"stdNorm\": 0.4118847809926267}, {\"q / p\": 0.7, \"N / E\": 2.5, \"strat\": \"max\", \"mean\": 0.34442238056128727, \"std\": 0.16010349388687445, \"stdNorm\": 0.46484637155681374}, {\"q / p\": 0.7, \"N / E\": 2.5, \"strat\": \"min\", \"mean\": 0.35248511175570935, \"std\": 0.15932516585582446, \"stdNorm\": 0.4520053770845367}, {\"q / p\": 0.7, \"N / E\": 2.5, \"strat\": \"weighted\", \"mean\": 0.3637012820562003, \"std\": 0.16043250051125263, \"stdNorm\": 0.44111062684255836}, {\"q / p\": 0.7, \"N / E\": 3.5, \"strat\": \"majority\", \"mean\": 0.3334708305757342, \"std\": 0.13438444808124933, \"stdNorm\": 0.4029871153924794}, {\"q / p\": 0.7, \"N / E\": 3.5, \"strat\": \"max\", \"mean\": 0.28143628533549914, \"std\": 0.13100368923749806, \"stdNorm\": 0.4654825836737045}, {\"q / p\": 0.7, \"N / E\": 3.5, \"strat\": \"min\", \"mean\": 0.2964959322129697, \"std\": 0.13246704074907598, \"stdNorm\": 0.4467752382313508}, {\"q / p\": 0.7, \"N / E\": 3.5, \"strat\": \"weighted\", \"mean\": 0.30830939667294466, \"std\": 0.13548526172850892, \"stdNorm\": 0.4394457748955086}, {\"q / p\": 0.7, \"N / E\": 5.0, \"strat\": \"majority\", \"mean\": 0.29018993383495345, \"std\": 0.11446340156843039, \"stdNorm\": 0.39444304651012413}, {\"q / p\": 0.7, \"N / E\": 5.0, \"strat\": \"max\", \"mean\": 0.2259991194597964, \"std\": 0.10211440545473523, \"stdNorm\": 0.4518354128937243}, {\"q / p\": 0.7, \"N / E\": 5.0, \"strat\": \"min\", \"mean\": 0.2454499609886985, \"std\": 0.10784469213496922, \"stdNorm\": 0.43937547066847904}, {\"q / p\": 0.7, \"N / E\": 5.0, \"strat\": \"weighted\", \"mean\": 0.25786505419136063, \"std\": 0.11234322082682265, \"stdNorm\": 0.43566671404591795}, {\"q / p\": 0.7, \"N / E\": 10.0, \"strat\": \"majority\", \"mean\": 0.22607509369499354, \"std\": 0.08231171556041755, \"stdNorm\": 0.36409015347558543}, {\"q / p\": 0.7, \"N / E\": 10.0, \"strat\": \"max\", \"mean\": 0.15074285860320646, \"std\": 0.06606203831982589, \"stdNorm\": 0.43824323707246376}, {\"q / p\": 0.7, \"N / E\": 10.0, \"strat\": \"min\", \"mean\": 0.17358769133571406, \"std\": 0.07511132205611155, \"stdNorm\": 0.4326995853113123}, {\"q / p\": 0.7, \"N / E\": 10.0, \"strat\": \"weighted\", \"mean\": 0.1817058671268418, \"std\": 0.07837392613533635, \"stdNorm\": 0.43132303526900734}, {\"q / p\": 0.8, \"N / E\": 1.0, \"strat\": \"majority\", \"mean\": 0.5385122888004804, \"std\": 0.228864794853335, \"stdNorm\": 0.4249945630082543}, {\"q / p\": 0.8, \"N / E\": 1.0, \"strat\": \"max\", \"mean\": 0.5329683245612149, \"std\": 0.22694141374384416, \"stdNorm\": 0.4258065691440138}, {\"q / p\": 0.8, \"N / E\": 1.0, \"strat\": \"min\", \"mean\": 0.5286957098542403, \"std\": 0.23191834464264066, \"stdNorm\": 0.4386612948052478}, {\"q / p\": 0.8, \"N / E\": 1.0, \"strat\": \"weighted\", \"mean\": 0.5332113165919671, \"std\": 0.22917447927419815, \"stdNorm\": 0.4298004789901541}, {\"q / p\": 0.8, \"N / E\": 1.5, \"strat\": \"majority\", \"mean\": 0.4434621922674421, \"std\": 0.19493989780385057, \"stdNorm\": 0.439586285376695}, {\"q / p\": 0.8, \"N / E\": 1.5, \"strat\": \"max\", \"mean\": 0.43247591743122016, \"std\": 0.1953909411088525, \"stdNorm\": 0.45179611912130796}, {\"q / p\": 0.8, \"N / E\": 1.5, \"strat\": \"min\", \"mean\": 0.42822071770593223, \"std\": 0.19671253077570527, \"stdNorm\": 0.45937182075060584}, {\"q / p\": 0.8, \"N / E\": 1.5, \"strat\": \"weighted\", \"mean\": 0.43775844511925893, \"std\": 0.19602781306969663, \"stdNorm\": 0.44779904363990647}, {\"q / p\": 0.8, \"N / E\": 2.5, \"strat\": \"majority\", \"mean\": 0.34883026458254723, \"std\": 0.14983231220916166, \"stdNorm\": 0.4295278461244446}, {\"q / p\": 0.8, \"N / E\": 2.5, \"strat\": \"max\", \"mean\": 0.3234958753435433, \"std\": 0.1488418459746325, \"stdNorm\": 0.4601043083364409}, {\"q / p\": 0.8, \"N / E\": 2.5, \"strat\": \"min\", \"mean\": 0.32823323266872373, \"std\": 0.14662540460293025, \"stdNorm\": 0.44671102743248126}, {\"q / p\": 0.8, \"N / E\": 2.5, \"strat\": \"weighted\", \"mean\": 0.33605485064715906, \"std\": 0.15008276798421122, \"stdNorm\": 0.4466019987367797}, {\"q / p\": 0.8, \"N / E\": 3.5, \"strat\": \"majority\", \"mean\": 0.29900702553093805, \"std\": 0.12489216089494591, \"stdNorm\": 0.4176897204110122}, {\"q / p\": 0.8, \"N / E\": 3.5, \"strat\": \"max\", \"mean\": 0.2654945218383598, \"std\": 0.12032595314489596, \"stdNorm\": 0.453214447935591}, {\"q / p\": 0.8, \"N / E\": 3.5, \"strat\": \"min\", \"mean\": 0.27514643835848335, \"std\": 0.12222220294278738, \"stdNorm\": 0.4442078322800104}, {\"q / p\": 0.8, \"N / E\": 3.5, \"strat\": \"weighted\", \"mean\": 0.2811914593412492, \"std\": 0.12388204276708348, \"stdNorm\": 0.4405611858102075}, {\"q / p\": 0.8, \"N / E\": 5.0, \"strat\": \"majority\", \"mean\": 0.2556614385995832, \"std\": 0.10475805387436032, \"stdNorm\": 0.40975304859499107}, {\"q / p\": 0.8, \"N / E\": 5.0, \"strat\": \"max\", \"mean\": 0.21670452636268647, \"std\": 0.09697631012039458, \"stdNorm\": 0.44750477411851863}, {\"q / p\": 0.8, \"N / E\": 5.0, \"strat\": \"min\", \"mean\": 0.2299151476290519, \"std\": 0.10091867507280287, \"stdNorm\": 0.43893878290971233}, {\"q / p\": 0.8, \"N / E\": 5.0, \"strat\": \"weighted\", \"mean\": 0.23683559016801792, \"std\": 0.1032635531901732, \"stdNorm\": 0.43601366296727234}, {\"q / p\": 0.8, \"N / E\": 10.0, \"strat\": \"majority\", \"mean\": 0.1906788248528538, \"std\": 0.07502653740558188, \"stdNorm\": 0.39347073521918124}, {\"q / p\": 0.8, \"N / E\": 10.0, \"strat\": \"max\", \"mean\": 0.14838901893419776, \"std\": 0.06419759118074705, \"stdNorm\": 0.43263033640794607}, {\"q / p\": 0.8, \"N / E\": 10.0, \"strat\": \"min\", \"mean\": 0.16148990480030187, \"std\": 0.06970221974383732, \"stdNorm\": 0.4316196720162227}, {\"q / p\": 0.8, \"N / E\": 10.0, \"strat\": \"weighted\", \"mean\": 0.1658093969175977, \"std\": 0.07096257670877541, \"stdNorm\": 0.42797680968613433}, {\"q / p\": 0.9, \"N / E\": 1.0, \"strat\": \"majority\", \"mean\": 0.5035987532594037, \"std\": 0.22373712912585572, \"stdNorm\": 0.4442765747090893}, {\"q / p\": 0.9, \"N / E\": 1.0, \"strat\": \"max\", \"mean\": 0.5025611292099504, \"std\": 0.2228653453277814, \"stdNorm\": 0.44345917814642}, {\"q / p\": 0.9, \"N / E\": 1.0, \"strat\": \"min\", \"mean\": 0.5018478903736765, \"std\": 0.22534838470670313, \"stdNorm\": 0.4490372262776844}, {\"q / p\": 0.9, \"N / E\": 1.0, \"strat\": \"weighted\", \"mean\": 0.502761287028801, \"std\": 0.2247209829989967, \"stdNorm\": 0.446973521623043}, {\"q / p\": 0.9, \"N / E\": 1.5, \"strat\": \"majority\", \"mean\": 0.41184774747004904, \"std\": 0.186141221720274, \"stdNorm\": 0.45196610364807405}, {\"q / p\": 0.9, \"N / E\": 1.5, \"strat\": \"max\", \"mean\": 0.405463094643201, \"std\": 0.18553413338158725, \"stdNorm\": 0.4575857478344691}, {\"q / p\": 0.9, \"N / E\": 1.5, \"strat\": \"min\", \"mean\": 0.40309956224893745, \"std\": 0.18693947425673738, \"stdNorm\": 0.4637550912081898}, {\"q / p\": 0.9, \"N / E\": 1.5, \"strat\": \"weighted\", \"mean\": 0.40659198840706656, \"std\": 0.18502739549696479, \"stdNorm\": 0.4550689653818792}, {\"q / p\": 0.9, \"N / E\": 2.5, \"strat\": \"majority\", \"mean\": 0.3166744644832286, \"std\": 0.13997816126869903, \"stdNorm\": 0.4420254140071733}, {\"q / p\": 0.9, \"N / E\": 2.5, \"strat\": \"max\", \"mean\": 0.3073155999040237, \"std\": 0.138893563749932, \"stdNorm\": 0.45195741378995796}, {\"q / p\": 0.9, \"N / E\": 2.5, \"strat\": \"min\", \"mean\": 0.30936360985660805, \"std\": 0.13815375279026176, \"stdNorm\": 0.4465740261251053}, {\"q / p\": 0.9, \"N / E\": 2.5, \"strat\": \"weighted\", \"mean\": 0.31154875994836967, \"std\": 0.13979540088919157, \"stdNorm\": 0.44871114528704487}, {\"q / p\": 0.9, \"N / E\": 3.5, \"strat\": \"majority\", \"mean\": 0.2718360059542879, \"std\": 0.11709319383476222, \"stdNorm\": 0.43074939033077414}, {\"q / p\": 0.9, \"N / E\": 3.5, \"strat\": \"max\", \"mean\": 0.25444828631397565, \"std\": 0.11348192078741386, \"stdNorm\": 0.4459920812647298}, {\"q / p\": 0.9, \"N / E\": 3.5, \"strat\": \"min\", \"mean\": 0.25860197429526205, \"std\": 0.11397913956474788, \"stdNorm\": 0.4407512350799409}, {\"q / p\": 0.9, \"N / E\": 3.5, \"strat\": \"weighted\", \"mean\": 0.26230144511259934, \"std\": 0.11581899180262403, \"stdNorm\": 0.44154919448844776}, {\"q / p\": 0.9, \"N / E\": 5.0, \"strat\": \"majority\", \"mean\": 0.2276885462248064, \"std\": 0.09713405296418963, \"stdNorm\": 0.42660930720812423}, {\"q / p\": 0.9, \"N / E\": 5.0, \"strat\": \"max\", \"mean\": 0.2092182957199263, \"std\": 0.09149948155609698, \"stdNorm\": 0.43733977108094}, {\"q / p\": 0.9, \"N / E\": 5.0, \"strat\": \"min\", \"mean\": 0.21568840686683197, \"std\": 0.09392258588988227, \"stdNorm\": 0.4354549567787894}, {\"q / p\": 0.9, \"N / E\": 5.0, \"strat\": \"weighted\", \"mean\": 0.21798910303168295, \"std\": 0.09517724295824653, \"stdNorm\": 0.43661468226883476}, {\"q / p\": 0.9, \"N / E\": 10.0, \"strat\": \"majority\", \"mean\": 0.16507800512173407, \"std\": 0.06766327569942068, \"stdNorm\": 0.4098866814481039}, {\"q / p\": 0.9, \"N / E\": 10.0, \"strat\": \"max\", \"mean\": 0.14622340886130983, \"std\": 0.0630695592193627, \"stdNorm\": 0.4313232724534757}, {\"q / p\": 0.9, \"N / E\": 10.0, \"strat\": \"min\", \"mean\": 0.15223168981298058, \"std\": 0.06570805576812629, \"stdNorm\": 0.43163191480597657}, {\"q / p\": 0.9, \"N / E\": 10.0, \"strat\": \"weighted\", \"mean\": 0.15471520935178296, \"std\": 0.06657502173320969, \"stdNorm\": 0.43030689750634055}, {\"q / p\": 1.0, \"N / E\": 1.0, \"strat\": \"majority\", \"mean\": 0.4758426021835648, \"std\": 0.21708588384134367, \"stdNorm\": 0.4562136362847119}, {\"q / p\": 1.0, \"N / E\": 1.0, \"strat\": \"max\", \"mean\": 0.4771206348846567, \"std\": 0.21962744651953284, \"stdNorm\": 0.46031848229039074}, {\"q / p\": 1.0, \"N / E\": 1.0, \"strat\": \"min\", \"mean\": 0.4753110320225299, \"std\": 0.21824925979092155, \"stdNorm\": 0.45917145844949897}, {\"q / p\": 1.0, \"N / E\": 1.0, \"strat\": \"weighted\", \"mean\": 0.47678097695756244, \"std\": 0.21909621014765437, \"stdNorm\": 0.4595321976681041}, {\"q / p\": 1.0, \"N / E\": 1.5, \"strat\": \"majority\", \"mean\": 0.38079327926155876, \"std\": 0.17710464657048522, \"stdNorm\": 0.4650939399821598}, {\"q / p\": 1.0, \"N / E\": 1.5, \"strat\": \"max\", \"mean\": 0.3845563373715615, \"std\": 0.17760461335879632, \"stdNorm\": 0.4618428981634316}, {\"q / p\": 1.0, \"N / E\": 1.5, \"strat\": \"min\", \"mean\": 0.38263857305304017, \"std\": 0.17562715589830144, \"stdNorm\": 0.4589896792082082}, {\"q / p\": 1.0, \"N / E\": 1.5, \"strat\": \"weighted\", \"mean\": 0.382631542527385, \"std\": 0.1765857743194489, \"stdNorm\": 0.46150344311149055}, {\"q / p\": 1.0, \"N / E\": 2.5, \"strat\": \"majority\", \"mean\": 0.29231236026594853, \"std\": 0.13181359947187926, \"stdNorm\": 0.45093406023595445}, {\"q / p\": 1.0, \"N / E\": 2.5, \"strat\": \"max\", \"mean\": 0.2928088570954913, \"std\": 0.13162428826990358, \"stdNorm\": 0.449522905746591}, {\"q / p\": 1.0, \"N / E\": 2.5, \"strat\": \"min\", \"mean\": 0.29147068466949805, \"std\": 0.12974778394402894, \"stdNorm\": 0.44514865737235787}, {\"q / p\": 1.0, \"N / E\": 2.5, \"strat\": \"weighted\", \"mean\": 0.291941990374577, \"std\": 0.1303825807002339, \"stdNorm\": 0.44660441114670124}, {\"q / p\": 1.0, \"N / E\": 3.5, \"strat\": \"majority\", \"mean\": 0.24507406661937525, \"std\": 0.1079791656324676, \"stdNorm\": 0.44059808988345606}, {\"q / p\": 1.0, \"N / E\": 3.5, \"strat\": \"max\", \"mean\": 0.246486421279269, \"std\": 0.10713269565364655, \"stdNorm\": 0.4346393407702782}, {\"q / p\": 1.0, \"N / E\": 3.5, \"strat\": \"min\", \"mean\": 0.244577804635773, \"std\": 0.10837411928489808, \"stdNorm\": 0.4431069264289521}, {\"q / p\": 1.0, \"N / E\": 3.5, \"strat\": \"weighted\", \"mean\": 0.24526353228240014, \"std\": 0.10792416681007282, \"stdNorm\": 0.44003348482238813}, {\"q / p\": 1.0, \"N / E\": 5.0, \"strat\": \"majority\", \"mean\": 0.205152921421163, \"std\": 0.0886784379024609, \"stdNorm\": 0.4322553014997576}, {\"q / p\": 1.0, \"N / E\": 5.0, \"strat\": \"max\", \"mean\": 0.20479721155776512, \"std\": 0.08943632635486895, \"stdNorm\": 0.4367067582345599}, {\"q / p\": 1.0, \"N / E\": 5.0, \"strat\": \"min\", \"mean\": 0.20412471982803318, \"std\": 0.08970475820393568, \"stdNorm\": 0.43946053314614864}, {\"q / p\": 1.0, \"N / E\": 5.0, \"strat\": \"weighted\", \"mean\": 0.20527351651256473, \"std\": 0.08887037561000821, \"stdNorm\": 0.43293639198979905}, {\"q / p\": 1.0, \"N / E\": 10.0, \"strat\": \"majority\", \"mean\": 0.14466666645434473, \"std\": 0.062185627979139506, \"stdNorm\": 0.42985457191525617}, {\"q / p\": 1.0, \"N / E\": 10.0, \"strat\": \"max\", \"mean\": 0.14366875574685367, \"std\": 0.06166394666149336, \"stdNorm\": 0.4292091647967362}, {\"q / p\": 1.0, \"N / E\": 10.0, \"strat\": \"min\", \"mean\": 0.1444105247911556, \"std\": 0.06206354617930539, \"stdNorm\": 0.4297716268884196}, {\"q / p\": 1.0, \"N / E\": 10.0, \"strat\": \"weighted\", \"mean\": 0.14398832599152214, \"std\": 0.06145361279538099, \"stdNorm\": 0.42679580009145535}]}, {\"name\": \"facet_domain\"}, {\"name\": \"facet_domain_row\", \"values\": [{\"data\": 0.0}]}, {\"name\": \"facet_domain_column\", \"values\": [{\"data\": 0.0}, {\"data\": 1.0}, {\"data\": 2.0}, {\"data\": 3.0}]}, {\"name\": \"source_0_x_domain_q / p\", \"values\": [{\"min\": 0.0, \"max\": 1.0}]}, {\"name\": \"source_0_y_domain_stdNorm\", \"values\": [{\"min\": 0.0, \"max\": 0.534344295065611}]}, {\"name\": \"source_0_color_domain_N / E\", \"values\": [{\"N / E\": 1.0}, {\"N / E\": 1.5}, {\"N / E\": 2.5}, {\"N / E\": 3.5}, {\"N / E\": 5.0}, {\"N / E\": 10.0}]}], \"signals\": [{\"name\": \"child_width\", \"value\": 300}, {\"name\": \"child_height\", \"value\": 300}], \"marks\": [{\"type\": \"group\", \"name\": \"facet-title\", \"title\": {\"text\": \"Strategy\", \"fontSize\": 20, \"style\": \"guide-title\", \"offset\": 10}, \"role\": \"column-title\"}, {\"type\": \"group\", \"name\": \"row_header\", \"from\": {\"data\": \"facet_domain_row\"}, \"encode\": {\"update\": {\"height\": {\"signal\": \"child_height\"}}}, \"axes\": [{\"scale\": \"y\", \"orient\": \"left\", \"tickCount\": {\"signal\": \"ceil(child_height/40)\"}, \"title\": \"\\u03b4\", \"labelOverlap\": true, \"zindex\": 0, \"grid\": false}], \"role\": \"row-header\"}, {\"type\": \"group\", \"name\": \"column_footer\", \"from\": {\"data\": \"facet_domain_column\"}, \"encode\": {\"update\": {\"width\": {\"signal\": \"child_width\"}}}, \"axes\": [{\"scale\": \"x\", \"tickCount\": {\"signal\": \"ceil(child_width/40)\"}, \"grid\": false, \"labelFlush\": true, \"orient\": \"bottom\", \"zindex\": 0, \"title\": \"q / p\", \"labelOverlap\": true}], \"role\": \"column-footer\"}, {\"type\": \"group\", \"name\": \"cell\", \"from\": {\"facet\": {\"data\": \"source_0\", \"name\": \"facet\", \"groupby\": [\"strat\"]}}, \"sort\": {\"field\": [\"datum[\\\"strat\\\"]\"], \"order\": [\"ascending\"]}, \"encode\": {\"update\": {\"width\": {\"signal\": \"child_width\"}, \"height\": {\"signal\": \"child_height\"}}}, \"marks\": [{\"type\": \"group\", \"name\": \"child_pathgroup\", \"from\": {\"facet\": {\"data\": \"facet\", \"name\": \"faceted_path_child_main\", \"groupby\": [\"N / E\"]}}, \"encode\": {\"update\": {\"height\": {\"field\": {\"signal\": null, \"datum\": null, \"group\": \"height\", \"parent\": null}}, \"width\": {\"field\": {\"signal\": null, \"datum\": null, \"group\": \"width\", \"parent\": null}}}}, \"marks\": [{\"type\": \"line\", \"name\": \"child_marks\", \"from\": {\"data\": \"faceted_path_child_main\"}, \"sort\": {\"field\": \"datum[\\\"q / p\\\"]\"}, \"encode\": {\"update\": {\"y\": {\"field\": \"stdNorm\", \"scale\": \"y\"}, \"description\": {\"signal\": \"\\\"q / p: \\\" + (format(datum[\\\"q / p\\\"], \\\"\\\")) + \\\"; \\u03b4: \\\" + (format(datum[\\\"stdNorm\\\"], \\\"\\\")) + \\\"; N / E: \\\" + (isValid(datum[\\\"N / E\\\"]) ? datum[\\\"N / E\\\"] : \\\"\\\"+datum[\\\"N / E\\\"])\"}, \"x\": {\"field\": \"q / p\", \"scale\": \"x\"}, \"stroke\": {\"field\": \"N / E\", \"scale\": \"color\"}, \"defined\": {\"signal\": \"isValid(datum[\\\"q / p\\\"]) && isFinite(+datum[\\\"q / p\\\"]) && isValid(datum[\\\"stdNorm\\\"]) && isFinite(+datum[\\\"stdNorm\\\"])\"}}}, \"style\": [\"line\"]}]}], \"title\": {\"text\": {\"signal\": \"isValid(parent[\\\"strat\\\"]) ? parent[\\\"strat\\\"] : \\\"\\\"+parent[\\\"strat\\\"]\"}, \"fontSize\": 18, \"offset\": 10, \"style\": \"guide-label\", \"frame\": \"group\"}, \"style\": \"cell\"}], \"scales\": [{\"name\": \"x\", \"type\": \"linear\", \"domain\": [{\"signal\": \"(data(\\\"source_0_x_domain_q / p\\\")[0] || {}).min\"}, {\"signal\": \"(data(\\\"source_0_x_domain_q / p\\\")[0] || {}).max\"}], \"range\": [0, {\"signal\": \"child_width\"}], \"zero\": false, \"nice\": true}, {\"name\": \"y\", \"type\": \"linear\", \"domain\": [{\"signal\": \"(data(\\\"source_0_y_domain_stdNorm\\\")[0] || {}).min\"}, {\"signal\": \"(data(\\\"source_0_y_domain_stdNorm\\\")[0] || {}).max\"}], \"range\": [{\"signal\": \"child_height\"}, 0], \"zero\": true, \"nice\": true}, {\"name\": \"color\", \"type\": \"ordinal\", \"domain\": {\"data\": \"source_0_color_domain_N / E\", \"field\": \"N / E\", \"sort\": true}, \"range\": {\"scheme\": \"blues\"}, \"interpolate\": \"hcl\"}], \"padding\": 5, \"layout\": {\"padding\": 20, \"bounds\": \"full\", \"align\": \"all\"}, \"background\": \"white\", \"config\": {\"mark\": {\"fill\": \"#9ebcda\"}, \"axisX\": {\"labelFont\": \"monospace\", \"labelFontSize\": 16, \"titleFontSize\": 20, \"grid\": false}, \"axisY\": {\"domain\": false, \"grid\": false, \"labelFont\": \"monospace\", \"labelFontSize\": 16, \"titleFontSize\": 20, \"titleAngle\": 0, \"titleX\": -60}, \"legend\": {\"titleFontSize\": 20, \"labelFontSize\": 16}, \"style\": {\"cell\": {\"height\": 300, \"width\": 300}, \"line\": {\"fill\": null, \"stroke\": \"black\"}, \"group-title\": {\"fontSize\": 18, \"font\": \"monospace\", \"fontColor\": \"#000000\"}}}, \"legends\": [{\"stroke\": \"color\", \"symbolType\": \"stroke\", \"title\": \"N / E\", \"encode\": {\"symbols\": {\"update\": {\"fill\": {\"value\": null}}}}}]}, {\"mode\": \"vega\"});\n",
       "</script>"
      ],
      "text/plain": [
       "alt.FacetChart(...)"
      ]
     },
     "execution_count": 112,
     "metadata": {},
     "output_type": "execute_result"
    }
   ],
   "source": [
    "# Figure 6. Essayer en couleurs. Enlever le strat. Double colones\n",
    "# Pour le max de strat max: metrre plus de point\n",
    "# Tracer en fct de E / N en faisant varier N\n",
    "alt.Chart(df_fraction2_var).mark_line().encode(\n",
    "    x=\"q / p\",\n",
    "    y=alt.Y(\n",
    "        \"stdNorm\",\n",
    "        # \"std\",\n",
    "        title=\"δ\"\n",
    "    ),\n",
    "    color=alt.Color(\"N / E:O\", scale=alt.Scale(scheme=\"blues\")),\n",
    "    # strokeDash=alt.StrokeDash(\"N / E:O\", legend=alt.Legend(symbolSize=750))\n",
    ").facet(\n",
    "    facet=alt.Facet(\"strat\", header=alt.Header(title=\"Strategy\", labelFontSize=18, titleFontSize=20))\n",
    "       ).configure_axisY(\n",
    "    titleAngle=0,\n",
    "    titleX=-60,\n",
    ")"
   ]
  },
  {
   "cell_type": "code",
   "execution_count": 159,
   "id": "266c3081-ebe3-4b9b-adfa-ec676c9e3aef",
   "metadata": {},
   "outputs": [
    {
     "data": {
      "text/html": [
       "\n",
       "<style>\n",
       "  #altair-viz-2936dc082211411a9e49e6c4352ba406.vega-embed {\n",
       "    width: 100%;\n",
       "    display: flex;\n",
       "  }\n",
       "\n",
       "  #altair-viz-2936dc082211411a9e49e6c4352ba406.vega-embed details,\n",
       "  #altair-viz-2936dc082211411a9e49e6c4352ba406.vega-embed details summary {\n",
       "    position: relative;\n",
       "  }\n",
       "</style>\n",
       "<div id=\"altair-viz-2936dc082211411a9e49e6c4352ba406\"></div>\n",
       "<script type=\"text/javascript\">\n",
       "  var VEGA_DEBUG = (typeof VEGA_DEBUG == \"undefined\") ? {} : VEGA_DEBUG;\n",
       "  (function(spec, embedOpt){\n",
       "    let outputDiv = document.currentScript.previousElementSibling;\n",
       "    if (outputDiv.id !== \"altair-viz-2936dc082211411a9e49e6c4352ba406\") {\n",
       "      outputDiv = document.getElementById(\"altair-viz-2936dc082211411a9e49e6c4352ba406\");\n",
       "    }\n",
       "    const paths = {\n",
       "      \"vega\": \"https://cdn.jsdelivr.net/npm/vega@5?noext\",\n",
       "      \"vega-lib\": \"https://cdn.jsdelivr.net/npm/vega-lib?noext\",\n",
       "      \"vega-lite\": \"https://cdn.jsdelivr.net/npm/vega-lite@5.15.1?noext\",\n",
       "      \"vega-embed\": \"https://cdn.jsdelivr.net/npm/vega-embed@6?noext\",\n",
       "    };\n",
       "\n",
       "    function maybeLoadScript(lib, version) {\n",
       "      var key = `${lib.replace(\"-\", \"\")}_version`;\n",
       "      return (VEGA_DEBUG[key] == version) ?\n",
       "        Promise.resolve(paths[lib]) :\n",
       "        new Promise(function(resolve, reject) {\n",
       "          var s = document.createElement('script');\n",
       "          document.getElementsByTagName(\"head\")[0].appendChild(s);\n",
       "          s.async = true;\n",
       "          s.onload = () => {\n",
       "            VEGA_DEBUG[key] = version;\n",
       "            return resolve(paths[lib]);\n",
       "          };\n",
       "          s.onerror = () => reject(`Error loading script: ${paths[lib]}`);\n",
       "          s.src = paths[lib];\n",
       "        });\n",
       "    }\n",
       "\n",
       "    function showError(err) {\n",
       "      outputDiv.innerHTML = `<div class=\"error\" style=\"color:red;\">${err}</div>`;\n",
       "      throw err;\n",
       "    }\n",
       "\n",
       "    function displayChart(vegaEmbed) {\n",
       "      vegaEmbed(outputDiv, spec, embedOpt)\n",
       "        .catch(err => showError(`Javascript Error: ${err.message}<br>This usually means there's a typo in your chart specification. See the javascript console for the full traceback.`));\n",
       "    }\n",
       "\n",
       "    if(typeof define === \"function\" && define.amd) {\n",
       "      requirejs.config({paths});\n",
       "      require([\"vega-embed\"], displayChart, err => showError(`Error loading script: ${err.message}`));\n",
       "    } else {\n",
       "      maybeLoadScript(\"vega\", \"5\")\n",
       "        .then(() => maybeLoadScript(\"vega-lite\", \"5.15.1\"))\n",
       "        .then(() => maybeLoadScript(\"vega-embed\", \"6\"))\n",
       "        .catch(showError)\n",
       "        .then(() => displayChart(vegaEmbed));\n",
       "    }\n",
       "  })({\"$schema\": \"https://vega.github.io/schema/vega/v5.json\", \"data\": [{\"name\": \"source_0\", \"values\": [{\"q / p\": 0.0, \"N / E\": 1.0, \"strat\": \"majority\", \"mean\": 1.0, \"std\": 0.0, \"stdNorm\": 0.0}, {\"q / p\": 0.0, \"N / E\": 1.0, \"strat\": \"max\", \"mean\": 1.0, \"std\": 0.0, \"stdNorm\": 0.0}, {\"q / p\": 0.0, \"N / E\": 1.0, \"strat\": \"min\", \"mean\": 1.0, \"std\": 0.0, \"stdNorm\": 0.0}, {\"q / p\": 0.0, \"N / E\": 1.0, \"strat\": \"weighted\", \"mean\": 1.0, \"std\": 0.0, \"stdNorm\": 0.0}, {\"q / p\": 0.0, \"N / E\": 1.5, \"strat\": \"majority\", \"mean\": 1.0, \"std\": 0.0, \"stdNorm\": 0.0}, {\"q / p\": 0.0, \"N / E\": 1.5, \"strat\": \"max\", \"mean\": 1.0, \"std\": 0.0, \"stdNorm\": 0.0}, {\"q / p\": 0.0, \"N / E\": 1.5, \"strat\": \"min\", \"mean\": 1.0, \"std\": 0.0, \"stdNorm\": 0.0}, {\"q / p\": 0.0, \"N / E\": 1.5, \"strat\": \"weighted\", \"mean\": 1.0, \"std\": 0.0, \"stdNorm\": 0.0}, {\"q / p\": 0.0, \"N / E\": 2.5, \"strat\": \"majority\", \"mean\": 1.0, \"std\": 0.0, \"stdNorm\": 0.0}, {\"q / p\": 0.0, \"N / E\": 2.5, \"strat\": \"max\", \"mean\": 1.0, \"std\": 0.0, \"stdNorm\": 0.0}, {\"q / p\": 0.0, \"N / E\": 2.5, \"strat\": \"min\", \"mean\": 1.0, \"std\": 0.0, \"stdNorm\": 0.0}, {\"q / p\": 0.0, \"N / E\": 2.5, \"strat\": \"weighted\", \"mean\": 1.0, \"std\": 0.0, \"stdNorm\": 0.0}, {\"q / p\": 0.0, \"N / E\": 3.5, \"strat\": \"majority\", \"mean\": 1.0, \"std\": 0.0, \"stdNorm\": 0.0}, {\"q / p\": 0.0, \"N / E\": 3.5, \"strat\": \"max\", \"mean\": 1.0, \"std\": 0.0, \"stdNorm\": 0.0}, {\"q / p\": 0.0, \"N / E\": 3.5, \"strat\": \"min\", \"mean\": 1.0, \"std\": 0.0, \"stdNorm\": 0.0}, {\"q / p\": 0.0, \"N / E\": 3.5, \"strat\": \"weighted\", \"mean\": 1.0, \"std\": 0.0, \"stdNorm\": 0.0}, {\"q / p\": 0.0, \"N / E\": 5.0, \"strat\": \"majority\", \"mean\": 1.0, \"std\": 0.0, \"stdNorm\": 0.0}, {\"q / p\": 0.0, \"N / E\": 5.0, \"strat\": \"max\", \"mean\": 1.0, \"std\": 0.0, \"stdNorm\": 0.0}, {\"q / p\": 0.0, \"N / E\": 5.0, \"strat\": \"min\", \"mean\": 1.0, \"std\": 0.0, \"stdNorm\": 0.0}, {\"q / p\": 0.0, \"N / E\": 5.0, \"strat\": \"weighted\", \"mean\": 1.0, \"std\": 0.0, \"stdNorm\": 0.0}, {\"q / p\": 0.0, \"N / E\": 10.0, \"strat\": \"majority\", \"mean\": 1.0, \"std\": 0.0, \"stdNorm\": 0.0}, {\"q / p\": 0.0, \"N / E\": 10.0, \"strat\": \"max\", \"mean\": 1.0, \"std\": 0.0, \"stdNorm\": 0.0}, {\"q / p\": 0.0, \"N / E\": 10.0, \"strat\": \"min\", \"mean\": 1.0, \"std\": 0.0, \"stdNorm\": 0.0}, {\"q / p\": 0.0, \"N / E\": 10.0, \"strat\": \"weighted\", \"mean\": 1.0, \"std\": 0.0, \"stdNorm\": 0.0}, {\"q / p\": 0.01, \"N / E\": 1.0, \"strat\": \"majority\", \"mean\": 0.9914427129439406, \"std\": 0.04615434400153989, \"stdNorm\": 0.04655270889478978}, {\"q / p\": 0.01, \"N / E\": 1.0, \"strat\": \"max\", \"mean\": 0.9908400769581486, \"std\": 0.0488358854446714, \"stdNorm\": 0.04928735381253068}, {\"q / p\": 0.01, \"N / E\": 1.0, \"strat\": \"min\", \"mean\": 0.9890572583377473, \"std\": 0.05671223512291844, \"stdNorm\": 0.05733968852140218}, {\"q / p\": 0.01, \"N / E\": 1.0, \"strat\": \"weighted\", \"mean\": 0.9911493068475636, \"std\": 0.048443191674799546, \"stdNorm\": 0.048875776172287624}, {\"q / p\": 0.01, \"N / E\": 1.5, \"strat\": \"majority\", \"mean\": 0.988106481403311, \"std\": 0.05046917923128965, \"stdNorm\": 0.05107666044211471}, {\"q / p\": 0.01, \"N / E\": 1.5, \"strat\": \"max\", \"mean\": 0.9864780675805676, \"std\": 0.05814395634341627, \"stdNorm\": 0.058940951911906084}, {\"q / p\": 0.01, \"N / E\": 1.5, \"strat\": \"min\", \"mean\": 0.9852585221853686, \"std\": 0.0631019423912557, \"stdNorm\": 0.06404607620271217}, {\"q / p\": 0.01, \"N / E\": 1.5, \"strat\": \"weighted\", \"mean\": 0.9875241465295969, \"std\": 0.05525978377387136, \"stdNorm\": 0.0559579064148131}, {\"q / p\": 0.01, \"N / E\": 2.5, \"strat\": \"majority\", \"mean\": 0.9859727377252376, \"std\": 0.04789751996502567, \"stdNorm\": 0.04857894963255398}, {\"q / p\": 0.01, \"N / E\": 2.5, \"strat\": \"max\", \"mean\": 0.977606522921523, \"std\": 0.0730254561463701, \"stdNorm\": 0.07469820877231625}, {\"q / p\": 0.01, \"N / E\": 2.5, \"strat\": \"min\", \"mean\": 0.9767385277685278, \"std\": 0.0755195843109371, \"stdNorm\": 0.07731811755544274}, {\"q / p\": 0.01, \"N / E\": 2.5, \"strat\": \"weighted\", \"mean\": 0.9809681194731195, \"std\": 0.06312848928994425, \"stdNorm\": 0.06435325270697963}, {\"q / p\": 0.01, \"N / E\": 3.5, \"strat\": \"majority\", \"mean\": 0.9837103613053613, \"std\": 0.04605769533755562, \"stdNorm\": 0.04682038245123098}, {\"q / p\": 0.01, \"N / E\": 3.5, \"strat\": \"max\", \"mean\": 0.9685200736718849, \"std\": 0.08573216313691367, \"stdNorm\": 0.08851872611362933}, {\"q / p\": 0.01, \"N / E\": 3.5, \"strat\": \"min\", \"mean\": 0.9719545307470308, \"std\": 0.08122477603250397, \"stdNorm\": 0.08356849365173054}, {\"q / p\": 0.01, \"N / E\": 3.5, \"strat\": \"weighted\", \"mean\": 0.9777140774884158, \"std\": 0.06526436838784341, \"stdNorm\": 0.0667519982482984}, {\"q / p\": 0.01, \"N / E\": 5.0, \"strat\": \"majority\", \"mean\": 0.9818589542708467, \"std\": 0.04355617602882145, \"stdNorm\": 0.0443609296827846}, {\"q / p\": 0.01, \"N / E\": 5.0, \"strat\": \"max\", \"mean\": 0.955887186887596, \"std\": 0.10173843123247556, \"stdNorm\": 0.10643351289574207}, {\"q / p\": 0.01, \"N / E\": 5.0, \"strat\": \"min\", \"mean\": 0.9656707559857869, \"std\": 0.08736470712981033, \"stdNorm\": 0.09047049068046563}, {\"q / p\": 0.01, \"N / E\": 5.0, \"strat\": \"weighted\", \"mean\": 0.9711602499524326, \"std\": 0.0711191468241163, \"stdNorm\": 0.07323111384305496}, {\"q / p\": 0.01, \"N / E\": 10.0, \"strat\": \"majority\", \"mean\": 0.9795893449671778, \"std\": 0.034817339865119576, \"stdNorm\": 0.035542791521774024}, {\"q / p\": 0.01, \"N / E\": 10.0, \"strat\": \"max\", \"mean\": 0.9131316237877072, \"std\": 0.1386073076866502, \"stdNorm\": 0.1517933494754036}, {\"q / p\": 0.01, \"N / E\": 10.0, \"strat\": \"min\", \"mean\": 0.9470660007637917, \"std\": 0.10528623141473377, \"stdNorm\": 0.11117095464288901}, {\"q / p\": 0.01, \"N / E\": 10.0, \"strat\": \"weighted\", \"mean\": 0.9594680270527368, \"std\": 0.07886599393092372, \"stdNorm\": 0.08219762587939669}, {\"q / p\": 0.05, \"N / E\": 1.0, \"strat\": \"majority\", \"mean\": 0.9571051381139584, \"std\": 0.10331817837366732, \"stdNorm\": 0.10794861949781495}, {\"q / p\": 0.05, \"N / E\": 1.0, \"strat\": \"max\", \"mean\": 0.9559336851483501, \"std\": 0.10456154055417577, \"stdNorm\": 0.10938158386786946}, {\"q / p\": 0.05, \"N / E\": 1.0, \"strat\": \"min\", \"mean\": 0.9484738127466358, \"std\": 0.1210841375932806, \"stdNorm\": 0.12766207771476512}, {\"q / p\": 0.05, \"N / E\": 1.0, \"strat\": \"weighted\", \"mean\": 0.9558756743633009, \"std\": 0.1059502542389898, \"stdNorm\": 0.11084104039948729}, {\"q / p\": 0.05, \"N / E\": 1.5, \"strat\": \"majority\", \"mean\": 0.9441162863851267, \"std\": 0.10942834398475255, \"stdNorm\": 0.11590557811870457}, {\"q / p\": 0.05, \"N / E\": 1.5, \"strat\": \"max\", \"mean\": 0.9349556251076326, \"std\": 0.12296113319631921, \"stdNorm\": 0.1315154750602884}, {\"q / p\": 0.05, \"N / E\": 1.5, \"strat\": \"min\", \"mean\": 0.9292701889236542, \"std\": 0.13752196738616393, \"stdNorm\": 0.14798921672657067}, {\"q / p\": 0.05, \"N / E\": 1.5, \"strat\": \"weighted\", \"mean\": 0.93632575998076, \"std\": 0.12177953042560684, \"stdNorm\": 0.13006107022849528}, {\"q / p\": 0.05, \"N / E\": 2.5, \"strat\": \"majority\", \"mean\": 0.9268297431272431, \"std\": 0.11179552097059114, \"stdNorm\": 0.1206214213555325}, {\"q / p\": 0.05, \"N / E\": 2.5, \"strat\": \"max\", \"mean\": 0.8924570839153967, \"std\": 0.15092645566518964, \"stdNorm\": 0.1691134043141252}, {\"q / p\": 0.05, \"N / E\": 2.5, \"strat\": \"min\", \"mean\": 0.8928555543530543, \"std\": 0.16031380519992974, \"stdNorm\": 0.1795517812689086}, {\"q / p\": 0.05, \"N / E\": 2.5, \"strat\": \"weighted\", \"mean\": 0.9106333680208679, \"std\": 0.13305850970465719, \"stdNorm\": 0.14611644419953657}, {\"q / p\": 0.05, \"N / E\": 3.5, \"strat\": \"majority\", \"mean\": 0.9155287716395804, \"std\": 0.1095447815444404, \"stdNorm\": 0.11965192677479863}, {\"q / p\": 0.05, \"N / E\": 3.5, \"strat\": \"max\", \"mean\": 0.8555949305779537, \"std\": 0.16909565799060597, \"stdNorm\": 0.19763517985827941}, {\"q / p\": 0.05, \"N / E\": 3.5, \"strat\": \"min\", \"mean\": 0.8638198076460576, \"std\": 0.17804513832296737, \"stdNorm\": 0.20611374819957795}, {\"q / p\": 0.05, \"N / E\": 3.5, \"strat\": \"weighted\", \"mean\": 0.8865312800162799, \"std\": 0.14286977198389597, \"stdNorm\": 0.16115592896087363}, {\"q / p\": 0.05, \"N / E\": 5.0, \"strat\": \"majority\", \"mean\": 0.905914700063065, \"std\": 0.10294898174024746, \"stdNorm\": 0.11364092196879098}, {\"q / p\": 0.05, \"N / E\": 5.0, \"strat\": \"max\", \"mean\": 0.8033591875188293, \"std\": 0.18984724361338073, \"stdNorm\": 0.23631676411111072}, {\"q / p\": 0.05, \"N / E\": 5.0, \"strat\": \"min\", \"mean\": 0.8258184681937429, \"std\": 0.1948493365878659, \"stdNorm\": 0.23594693518303936}, {\"q / p\": 0.05, \"N / E\": 5.0, \"strat\": \"weighted\", \"mean\": 0.8597324324284956, \"std\": 0.1508192427584539, \"stdNorm\": 0.1754257918739126}, {\"q / p\": 0.05, \"N / E\": 10.0, \"strat\": \"majority\", \"mean\": 0.8861549906410355, \"std\": 0.08803561237774028, \"stdNorm\": 0.09934561482755541}, {\"q / p\": 0.05, \"N / E\": 10.0, \"strat\": \"max\", \"mean\": 0.6483816432162708, \"std\": 0.22058115436555314, \"stdNorm\": 0.3402026517459213}, {\"q / p\": 0.05, \"N / E\": 10.0, \"strat\": \"min\", \"mean\": 0.735339606914833, \"std\": 0.2172680891872885, \"stdNorm\": 0.295466322151273}, {\"q / p\": 0.05, \"N / E\": 10.0, \"strat\": \"weighted\", \"mean\": 0.7980584744513499, \"std\": 0.16181697048057478, \"stdNorm\": 0.2027633007616652}, {\"q / p\": 0.1, \"N / E\": 1.0, \"strat\": \"majority\", \"mean\": 0.9184043324633065, \"std\": 0.13937670526440707, \"stdNorm\": 0.15175963389738872}, {\"q / p\": 0.1, \"N / E\": 1.0, \"strat\": \"max\", \"mean\": 0.9124012414236395, \"std\": 0.14375060486606148, \"stdNorm\": 0.1575519610667827}, {\"q / p\": 0.1, \"N / E\": 1.0, \"strat\": \"min\", \"mean\": 0.9027178058027095, \"std\": 0.16364095337482196, \"stdNorm\": 0.18127586752242036}, {\"q / p\": 0.1, \"N / E\": 1.0, \"strat\": \"weighted\", \"mean\": 0.9140527732782631, \"std\": 0.14593844650344573, \"stdNorm\": 0.15966085413212572}, {\"q / p\": 0.1, \"N / E\": 1.5, \"strat\": \"majority\", \"mean\": 0.8905985272608596, \"std\": 0.14870468914873652, \"stdNorm\": 0.16697163154546782}, {\"q / p\": 0.1, \"N / E\": 1.5, \"strat\": \"max\", \"mean\": 0.8744842654439496, \"std\": 0.1631682094520804, \"stdNorm\": 0.1865879306235942}, {\"q / p\": 0.1, \"N / E\": 1.5, \"strat\": \"min\", \"mean\": 0.8582479123956197, \"std\": 0.18799565566938362, \"stdNorm\": 0.21904586420097782}, {\"q / p\": 0.1, \"N / E\": 1.5, \"strat\": \"weighted\", \"mean\": 0.8803982960090765, \"std\": 0.1606913748875199, \"stdNorm\": 0.18252122433215526}, {\"q / p\": 0.1, \"N / E\": 2.5, \"strat\": \"majority\", \"mean\": 0.8537687796381178, \"std\": 0.15553495302271297, \"stdNorm\": 0.18217456146456737}, {\"q / p\": 0.1, \"N / E\": 2.5, \"strat\": \"max\", \"mean\": 0.8037015713420094, \"std\": 0.18903565086872287, \"stdNorm\": 0.23520627258831142}, {\"q / p\": 0.1, \"N / E\": 2.5, \"strat\": \"min\", \"mean\": 0.795410403022903, \"std\": 0.21093151111432554, \"stdNorm\": 0.2651857585878871}, {\"q / p\": 0.1, \"N / E\": 2.5, \"strat\": \"weighted\", \"mean\": 0.8263845007307508, \"std\": 0.17817393639088536, \"stdNorm\": 0.2156065805122563}, {\"q / p\": 0.1, \"N / E\": 3.5, \"strat\": \"majority\", \"mean\": 0.8353909591661062, \"std\": 0.1502118399693009, \"stdNorm\": 0.17981022935565827}, {\"q / p\": 0.1, \"N / E\": 3.5, \"strat\": \"max\", \"mean\": 0.737083955704924, \"std\": 0.20557656212623526, \"stdNorm\": 0.2789052190528666}, {\"q / p\": 0.1, \"N / E\": 3.5, \"strat\": \"min\", \"mean\": 0.7451908263033263, \"std\": 0.22377425965133657, \"stdNorm\": 0.3002912163605331}, {\"q / p\": 0.1, \"N / E\": 3.5, \"strat\": \"weighted\", \"mean\": 0.7874471602693546, \"std\": 0.18495650899829127, \"stdNorm\": 0.23488116832502762}, {\"q / p\": 0.1, \"N / E\": 5.0, \"strat\": \"majority\", \"mean\": 0.8095832918838514, \"std\": 0.1413611155449432, \"stdNorm\": 0.17460972448678436}, {\"q / p\": 0.1, \"N / E\": 5.0, \"strat\": \"max\", \"mean\": 0.6536382115179541, \"std\": 0.21776011470393467, \"stdNorm\": 0.3331508330858243}, {\"q / p\": 0.1, \"N / E\": 5.0, \"strat\": \"min\", \"mean\": 0.6799009916091533, \"std\": 0.23458143791975092, \"stdNorm\": 0.34502293836129894}, {\"q / p\": 0.1, \"N / E\": 5.0, \"strat\": \"weighted\", \"mean\": 0.7406964245171628, \"std\": 0.18745116729107106, \"stdNorm\": 0.2530742164892516}, {\"q / p\": 0.1, \"N / E\": 10.0, \"strat\": \"majority\", \"mean\": 0.7743683210190744, \"std\": 0.11267924320136571, \"stdNorm\": 0.14551117361448748}, {\"q / p\": 0.1, \"N / E\": 10.0, \"strat\": \"max\", \"mean\": 0.4508258670902509, \"std\": 0.2058987268173614, \"stdNorm\": 0.4567145362494085}, {\"q / p\": 0.1, \"N / E\": 10.0, \"strat\": \"min\", \"mean\": 0.5401236727534832, \"std\": 0.21812314341999792, \"stdNorm\": 0.40383925834621043}, {\"q / p\": 0.1, \"N / E\": 10.0, \"strat\": \"weighted\", \"mean\": 0.6401380150421204, \"std\": 0.1833245318549148, \"stdNorm\": 0.28638282299615064}, {\"q / p\": 0.2, \"N / E\": 1.0, \"strat\": \"majority\", \"mean\": 0.8432312105617382, \"std\": 0.18692445114081066, \"stdNorm\": 0.22167639053147303}, {\"q / p\": 0.2, \"N / E\": 1.0, \"strat\": \"max\", \"mean\": 0.838089804201305, \"std\": 0.18538844622968756, \"stdNorm\": 0.22120355754281218}, {\"q / p\": 0.2, \"N / E\": 1.0, \"strat\": \"min\", \"mean\": 0.8182576013119317, \"std\": 0.21040589199253948, \"stdNorm\": 0.25713893968744167}, {\"q / p\": 0.2, \"N / E\": 1.0, \"strat\": \"weighted\", \"mean\": 0.8335344472152291, \"std\": 0.19267063482078695, \"stdNorm\": 0.23114897706325624}, {\"q / p\": 0.2, \"N / E\": 1.5, \"strat\": \"majority\", \"mean\": 0.791848768811465, \"std\": 0.19438760869512822, \"stdNorm\": 0.24548577500082072}, {\"q / p\": 0.2, \"N / E\": 1.5, \"strat\": \"max\", \"mean\": 0.7692192434916708, \"std\": 0.20282798329292342, \"stdNorm\": 0.263680329124683}, {\"q / p\": 0.2, \"N / E\": 1.5, \"strat\": \"min\", \"mean\": 0.7489491257779672, \"std\": 0.22883170043700538, \"stdNorm\": 0.3055370419176437}, {\"q / p\": 0.2, \"N / E\": 1.5, \"strat\": \"weighted\", \"mean\": 0.775227754930255, \"std\": 0.2048853574843309, \"stdNorm\": 0.2642905342092194}, {\"q / p\": 0.2, \"N / E\": 2.5, \"strat\": \"majority\", \"mean\": 0.7284636542641225, \"std\": 0.18936574748115947, \"stdNorm\": 0.25995222462053025}, {\"q / p\": 0.2, \"N / E\": 2.5, \"strat\": \"max\", \"mean\": 0.6581626030487376, \"std\": 0.2144032188508398, \"stdNorm\": 0.3257602572034361}, {\"q / p\": 0.2, \"N / E\": 2.5, \"strat\": \"min\", \"mean\": 0.644632646057646, \"std\": 0.23731976267813268, \"stdNorm\": 0.3681472915302996}, {\"q / p\": 0.2, \"N / E\": 2.5, \"strat\": \"weighted\", \"mean\": 0.6869314967385556, \"std\": 0.20828755435089832, \"stdNorm\": 0.30321444764116273}, {\"q / p\": 0.2, \"N / E\": 3.5, \"strat\": \"majority\", \"mean\": 0.6917762481875136, \"std\": 0.17749207448943433, \"stdNorm\": 0.2565743980867686}, {\"q / p\": 0.2, \"N / E\": 3.5, \"strat\": \"max\", \"mean\": 0.5681968808686325, \"std\": 0.2164477417051994, \"stdNorm\": 0.38093792661146664}, {\"q / p\": 0.2, \"N / E\": 3.5, \"strat\": \"min\", \"mean\": 0.5703451882975412, \"std\": 0.23085595593034197, \"stdNorm\": 0.4047653257484967}, {\"q / p\": 0.2, \"N / E\": 3.5, \"strat\": \"weighted\", \"mean\": 0.6272849696614016, \"std\": 0.20428118031086254, \"stdNorm\": 0.32565929392685794}, {\"q / p\": 0.2, \"N / E\": 5.0, \"strat\": \"majority\", \"mean\": 0.6554936006211968, \"std\": 0.16061012800609678, \"stdNorm\": 0.24502165673912013}, {\"q / p\": 0.2, \"N / E\": 5.0, \"strat\": \"max\", \"mean\": 0.46085534774170944, \"std\": 0.20279512300305327, \"stdNorm\": 0.4400407286077792}, {\"q / p\": 0.2, \"N / E\": 5.0, \"strat\": \"min\", \"mean\": 0.4940607457410437, \"std\": 0.21090361429131224, \"stdNorm\": 0.4268779013701586}, {\"q / p\": 0.2, \"N / E\": 5.0, \"strat\": \"weighted\", \"mean\": 0.5601041377705392, \"std\": 0.19293409905948355, \"stdNorm\": 0.34446112079701124}, {\"q / p\": 0.2, \"N / E\": 10.0, \"strat\": \"majority\", \"mean\": 0.6036681733855804, \"std\": 0.12301024329803899, \"stdNorm\": 0.20377129144999462}, {\"q / p\": 0.2, \"N / E\": 10.0, \"strat\": \"max\", \"mean\": 0.2731070397718102, \"std\": 0.14593318864432372, \"stdNorm\": 0.534344295065611}, {\"q / p\": 0.2, \"N / E\": 10.0, \"strat\": \"min\", \"mean\": 0.352915940173464, \"std\": 0.15874750832011772, \"stdNorm\": 0.44981677008437393}, {\"q / p\": 0.2, \"N / E\": 10.0, \"strat\": \"weighted\", \"mean\": 0.44222946375184174, \"std\": 0.16345928930888728, \"stdNorm\": 0.3696255060034012}, {\"q / p\": 0.3, \"N / E\": 1.0, \"strat\": \"majority\", \"mean\": 0.7758013466808256, \"std\": 0.21074733378824867, \"stdNorm\": 0.2716511574643512}, {\"q / p\": 0.3, \"N / E\": 1.0, \"strat\": \"max\", \"mean\": 0.7711551662260828, \"std\": 0.20849797910055753, \"stdNorm\": 0.2703709813952427}, {\"q / p\": 0.3, \"N / E\": 1.0, \"strat\": \"min\", \"mean\": 0.7517541570669076, \"std\": 0.23202774698340986, \"stdNorm\": 0.3086484388575971}, {\"q / p\": 0.3, \"N / E\": 1.0, \"strat\": \"weighted\", \"mean\": 0.7681581190505733, \"std\": 0.21782249858021027, \"stdNorm\": 0.28356466354796084}, {\"q / p\": 0.3, \"N / E\": 1.5, \"strat\": \"majority\", \"mean\": 0.7071775257834562, \"std\": 0.21566170872465365, \"stdNorm\": 0.30496120261419496}, {\"q / p\": 0.3, \"N / E\": 1.5, \"strat\": \"max\", \"mean\": 0.6827982155700046, \"std\": 0.21643151043600972, \"stdNorm\": 0.3169772642937141}, {\"q / p\": 0.3, \"N / E\": 1.5, \"strat\": \"min\", \"mean\": 0.6606977308802309, \"std\": 0.2395286924894402, \"stdNorm\": 0.36253899672142387}, {\"q / p\": 0.3, \"N / E\": 1.5, \"strat\": \"weighted\", \"mean\": 0.6861743135559208, \"std\": 0.22537825012828142, \"stdNorm\": 0.32845626202519435}, {\"q / p\": 0.3, \"N / E\": 2.5, \"strat\": \"majority\", \"mean\": 0.6262514906156508, \"std\": 0.1971493845225763, \"stdNorm\": 0.3148086471279519}, {\"q / p\": 0.3, \"N / E\": 2.5, \"strat\": \"max\", \"mean\": 0.5528705993137426, \"std\": 0.21369867795984532, \"stdNorm\": 0.3865256684386933}, {\"q / p\": 0.3, \"N / E\": 2.5, \"strat\": \"min\", \"mean\": 0.5413773852998853, \"std\": 0.22558284597836115, \"stdNorm\": 0.4166831716722042}, {\"q / p\": 0.3, \"N / E\": 2.5, \"strat\": \"weighted\", \"mean\": 0.579768627065086, \"std\": 0.21292513926017606, \"stdNorm\": 0.36725881553482653}, {\"q / p\": 0.3, \"N / E\": 3.5, \"strat\": \"majority\", \"mean\": 0.5812931560958037, \"std\": 0.1786234795401791, \"stdNorm\": 0.30728639700471533}, {\"q / p\": 0.3, \"N / E\": 3.5, \"strat\": \"max\", \"mean\": 0.4556909504856739, \"std\": 0.200554904250322, \"stdNorm\": 0.4401116678673809}, {\"q / p\": 0.3, \"N / E\": 3.5, \"strat\": \"min\", \"mean\": 0.466540007727051, \"std\": 0.20468333174044215, \"stdNorm\": 0.43872621500917885}, {\"q / p\": 0.3, \"N / E\": 3.5, \"strat\": \"weighted\", \"mean\": 0.514669666104879, \"std\": 0.19451707855118303, \"stdNorm\": 0.37794548884787876}, {\"q / p\": 0.3, \"N / E\": 5.0, \"strat\": \"majority\", \"mean\": 0.5402151896300555, \"std\": 0.1556288545151254, \"stdNorm\": 0.28808678005093025}, {\"q / p\": 0.3, \"N / E\": 5.0, \"strat\": \"max\", \"mean\": 0.3579732572569495, \"std\": 0.17408045698518318, \"stdNorm\": 0.48629458613504756}, {\"q / p\": 0.3, \"N / E\": 5.0, \"strat\": \"min\", \"mean\": 0.39263780818159566, \"std\": 0.17596897348795326, \"stdNorm\": 0.4481712403166414}, {\"q / p\": 0.3, \"N / E\": 5.0, \"strat\": \"weighted\", \"mean\": 0.44532213180005564, \"std\": 0.17547881477944405, \"stdNorm\": 0.3940491663195216}, {\"q / p\": 0.3, \"N / E\": 10.0, \"strat\": \"majority\", \"mean\": 0.4790526330625944, \"std\": 0.11739108760251357, \"stdNorm\": 0.24504841326521823}, {\"q / p\": 0.3, \"N / E\": 10.0, \"strat\": \"max\", \"mean\": 0.2053916922256864, \"std\": 0.10403395553005831, \"stdNorm\": 0.5065149150032066}, {\"q / p\": 0.3, \"N / E\": 10.0, \"strat\": \"min\", \"mean\": 0.2749536529124393, \"std\": 0.12193639389136243, \"stdNorm\": 0.4434798105053503}, {\"q / p\": 0.3, \"N / E\": 10.0, \"strat\": \"weighted\", \"mean\": 0.3330955652777486, \"std\": 0.1345423226421393, \"stdNorm\": 0.40391508223759287}, {\"q / p\": 0.4, \"N / E\": 1.0, \"strat\": \"majority\", \"mean\": 0.7153016027972183, \"std\": 0.22632057763263866, \"stdNorm\": 0.3163988123996956}, {\"q / p\": 0.4, \"N / E\": 1.0, \"strat\": \"max\", \"mean\": 0.709260063200291, \"std\": 0.22211137069498807, \"stdNorm\": 0.3131592799583093}, {\"q / p\": 0.4, \"N / E\": 1.0, \"strat\": \"min\", \"mean\": 0.6843525552698485, \"std\": 0.24333672594291317, \"stdNorm\": 0.3555721741215134}, {\"q / p\": 0.4, \"N / E\": 1.0, \"strat\": \"weighted\", \"mean\": 0.705521891544932, \"std\": 0.23095672426298386, \"stdNorm\": 0.3273558581679745}, {\"q / p\": 0.4, \"N / E\": 1.5, \"strat\": \"majority\", \"mean\": 0.6350881825581826, \"std\": 0.22069019694817085, \"stdNorm\": 0.34749536050129964}, {\"q / p\": 0.4, \"N / E\": 1.5, \"strat\": \"max\", \"mean\": 0.6128043790479577, \"std\": 0.22106053951422724, \"stdNorm\": 0.3607359005130856}, {\"q / p\": 0.4, \"N / E\": 1.5, \"strat\": \"min\", \"mean\": 0.5897835101155433, \"std\": 0.24036781476694608, \"stdNorm\": 0.4075526199772118}, {\"q / p\": 0.4, \"N / E\": 1.5, \"strat\": \"weighted\", \"mean\": 0.6117955967096383, \"std\": 0.22560910104538584, \"stdNorm\": 0.3687654868043472}, {\"q / p\": 0.4, \"N / E\": 2.5, \"strat\": \"majority\", \"mean\": 0.5477205644609089, \"std\": 0.19162228340687518, \"stdNorm\": 0.3498540968522488}, {\"q / p\": 0.4, \"N / E\": 2.5, \"strat\": \"max\", \"mean\": 0.4774686081210222, \"std\": 0.20191186412221326, \"stdNorm\": 0.42287987249422565}, {\"q / p\": 0.4, \"N / E\": 2.5, \"strat\": \"min\", \"mean\": 0.4702897476543065, \"std\": 0.20739972019804578, \"stdNorm\": 0.4410041282688094}, {\"q / p\": 0.4, \"N / E\": 2.5, \"strat\": \"weighted\", \"mean\": 0.505158056305866, \"std\": 0.20229239550746766, \"stdNorm\": 0.4004536659017124}, {\"q / p\": 0.4, \"N / E\": 3.5, \"strat\": \"majority\", \"mean\": 0.49703633177621526, \"std\": 0.16966403561240526, \"stdNorm\": 0.34135137567527857}, {\"q / p\": 0.4, \"N / E\": 3.5, \"strat\": \"max\", \"mean\": 0.38470147273782573, \"std\": 0.17806515878015725, \"stdNorm\": 0.4628658099822476}, {\"q / p\": 0.4, \"N / E\": 3.5, \"strat\": \"min\", \"mean\": 0.4001978271595417, \"std\": 0.1804078898542672, \"stdNorm\": 0.4507967750218352}, {\"q / p\": 0.4, \"N / E\": 3.5, \"strat\": \"weighted\", \"mean\": 0.43456684454496997, \"std\": 0.1773852703939228, \"stdNorm\": 0.4081886886231758}, {\"q / p\": 0.4, \"N / E\": 5.0, \"strat\": \"majority\", \"mean\": 0.4520260834256701, \"std\": 0.14595861111849362, \"stdNorm\": 0.32289864782215527}, {\"q / p\": 0.4, \"N / E\": 5.0, \"strat\": \"max\", \"mean\": 0.29862768608607854, \"std\": 0.1461991693886941, \"stdNorm\": 0.48957004390595127}, {\"q / p\": 0.4, \"N / E\": 5.0, \"strat\": \"min\", \"mean\": 0.33436756816524066, \"std\": 0.14998436859290548, \"stdNorm\": 0.44856135245385076}, {\"q / p\": 0.4, \"N / E\": 5.0, \"strat\": \"weighted\", \"mean\": 0.3711787911680962, \"std\": 0.153548549554456, \"stdNorm\": 0.41367813357880745}, {\"q / p\": 0.4, \"N / E\": 10.0, \"strat\": \"majority\", \"mean\": 0.3914800993747207, \"std\": 0.10947592602751592, \"stdNorm\": 0.2796462098644935}, {\"q / p\": 0.4, \"N / E\": 10.0, \"strat\": \"max\", \"mean\": 0.17785121869935414, \"std\": 0.08424225567545224, \"stdNorm\": 0.47366701387556004}, {\"q / p\": 0.4, \"N / E\": 10.0, \"strat\": \"min\", \"mean\": 0.23299536426867304, \"std\": 0.1023976914403908, \"stdNorm\": 0.4394838144604171}, {\"q / p\": 0.4, \"N / E\": 10.0, \"strat\": \"weighted\", \"mean\": 0.26850451229643907, \"std\": 0.11276111942263141, \"stdNorm\": 0.4199598675576033}, {\"q / p\": 0.5, \"N / E\": 1.0, \"strat\": \"majority\", \"mean\": 0.6620455027640806, \"std\": 0.2321024277965306, \"stdNorm\": 0.35058379949337126}, {\"q / p\": 0.5, \"N / E\": 1.0, \"strat\": \"max\", \"mean\": 0.6576434748861939, \"std\": 0.22806047877191238, \"stdNorm\": 0.3467843709866939}, {\"q / p\": 0.5, \"N / E\": 1.0, \"strat\": \"min\", \"mean\": 0.6362143757737964, \"std\": 0.2455231646487608, \"stdNorm\": 0.3859126325936018}, {\"q / p\": 0.5, \"N / E\": 1.0, \"strat\": \"weighted\", \"mean\": 0.6543474703183003, \"std\": 0.23721983261225435, \"stdNorm\": 0.36252884495276083}, {\"q / p\": 0.5, \"N / E\": 1.5, \"strat\": \"majority\", \"mean\": 0.575824732295703, \"std\": 0.2176183561645918, \"stdNorm\": 0.37792464261996717}, {\"q / p\": 0.5, \"N / E\": 1.5, \"strat\": \"max\", \"mean\": 0.5555763865203825, \"std\": 0.2183987794402383, \"stdNorm\": 0.39310306330347583}, {\"q / p\": 0.5, \"N / E\": 1.5, \"strat\": \"min\", \"mean\": 0.5359730447089183, \"std\": 0.2296077876916973, \"stdNorm\": 0.42839428206020147}, {\"q / p\": 0.5, \"N / E\": 1.5, \"strat\": \"weighted\", \"mean\": 0.5572480294859975, \"std\": 0.22314003758517603, \"stdNorm\": 0.400432169838266}, {\"q / p\": 0.5, \"N / E\": 2.5, \"strat\": \"majority\", \"mean\": 0.47983388936260163, \"std\": 0.18135678798517285, \"stdNorm\": 0.37795743903391715}, {\"q / p\": 0.5, \"N / E\": 2.5, \"strat\": \"max\", \"mean\": 0.4190899867362025, \"std\": 0.18612855841743406, \"stdNorm\": 0.44412552031359614}, {\"q / p\": 0.5, \"N / E\": 2.5, \"strat\": \"min\", \"mean\": 0.4185756600004742, \"std\": 0.1898704376303108, \"stdNorm\": 0.45361079435458745}, {\"q / p\": 0.5, \"N / E\": 2.5, \"strat\": \"weighted\", \"mean\": 0.4464741440368658, \"std\": 0.18785714806454026, \"stdNorm\": 0.4207570596720349}, {\"q / p\": 0.5, \"N / E\": 3.5, \"strat\": \"majority\", \"mean\": 0.4312386930616413, \"std\": 0.15868959017604808, \"stdNorm\": 0.3679855094852654}, {\"q / p\": 0.5, \"N / E\": 3.5, \"strat\": \"max\", \"mean\": 0.33836859301213007, \"std\": 0.15943908321912106, \"stdNorm\": 0.47119941540616145}, {\"q / p\": 0.5, \"N / E\": 3.5, \"strat\": \"min\", \"mean\": 0.3543429685541945, \"std\": 0.15847553762734753, \"stdNorm\": 0.4472377094823308}, {\"q / p\": 0.5, \"N / E\": 3.5, \"strat\": \"weighted\", \"mean\": 0.38348296773602697, \"std\": 0.16429928677818814, \"stdNorm\": 0.42843959341444504}, {\"q / p\": 0.5, \"N / E\": 5.0, \"strat\": \"majority\", \"mean\": 0.3858535898139152, \"std\": 0.13383426992912273, \"stdNorm\": 0.3468524680401877}, {\"q / p\": 0.5, \"N / E\": 5.0, \"strat\": \"max\", \"mean\": 0.2607284101464682, \"std\": 0.1250422457120722, \"stdNorm\": 0.479588111022607}, {\"q / p\": 0.5, \"N / E\": 5.0, \"strat\": \"min\", \"mean\": 0.2948833862766643, \"std\": 0.13085340695776976, \"stdNorm\": 0.44374628428541235}, {\"q / p\": 0.5, \"N / E\": 5.0, \"strat\": \"weighted\", \"mean\": 0.3218116320649262, \"std\": 0.13718715941019408, \"stdNorm\": 0.4262964596087573}, {\"q / p\": 0.5, \"N / E\": 10.0, \"strat\": \"majority\", \"mean\": 0.31945151979746056, \"std\": 0.10069624421479562, \"stdNorm\": 0.3152160436695975}, {\"q / p\": 0.5, \"N / E\": 10.0, \"strat\": \"max\", \"mean\": 0.16460697866677645, \"std\": 0.07452660510385445, \"stdNorm\": 0.45275483279917933}, {\"q / p\": 0.5, \"N / E\": 10.0, \"strat\": \"min\", \"mean\": 0.20776515507252497, \"std\": 0.08973241753437233, \"stdNorm\": 0.4318934881214767}, {\"q / p\": 0.5, \"N / E\": 10.0, \"strat\": \"weighted\", \"mean\": 0.23024809211370062, \"std\": 0.0969534663465766, \"stdNorm\": 0.4210826046658369}, {\"q / p\": 0.6, \"N / E\": 1.0, \"strat\": \"majority\", \"mean\": 0.6145660178520616, \"std\": 0.23560809495148327, \"stdNorm\": 0.38337312527455575}, {\"q / p\": 0.6, \"N / E\": 1.0, \"strat\": \"max\", \"mean\": 0.608079625409, \"std\": 0.2324045995244348, \"stdNorm\": 0.38219435385311146}, {\"q / p\": 0.6, \"N / E\": 1.0, \"strat\": \"min\", \"mean\": 0.5920356641604448, \"std\": 0.24665996108933844, \"stdNorm\": 0.4166302404081053}, {\"q / p\": 0.6, \"N / E\": 1.0, \"strat\": \"weighted\", \"mean\": 0.6059377295570539, \"std\": 0.2370150207376227, \"stdNorm\": 0.3911540892343556}, {\"q / p\": 0.6, \"N / E\": 1.5, \"strat\": \"majority\", \"mean\": 0.5252036522875719, \"std\": 0.21208127038900706, \"stdNorm\": 0.4038076838675206}, {\"q / p\": 0.6, \"N / E\": 1.5, \"strat\": \"max\", \"mean\": 0.5060924778039544, \"std\": 0.21225304171834167, \"stdNorm\": 0.4193957646621303}, {\"q / p\": 0.6, \"N / E\": 1.5, \"strat\": \"min\", \"mean\": 0.49280836724708915, \"std\": 0.21962986002924972, \"stdNorm\": 0.44566990868304296}, {\"q / p\": 0.6, \"N / E\": 1.5, \"strat\": \"weighted\", \"mean\": 0.5068391541624895, \"std\": 0.21454031940897902, \"stdNorm\": 0.423290737597985}, {\"q / p\": 0.6, \"N / E\": 2.5, \"strat\": \"majority\", \"mean\": 0.42752461385324886, \"std\": 0.17107539282932444, \"stdNorm\": 0.4001533181620448}, {\"q / p\": 0.6, \"N / E\": 2.5, \"strat\": \"max\", \"mean\": 0.3801002556999749, \"std\": 0.17300136329775756, \"stdNorm\": 0.4551466638168036}, {\"q / p\": 0.6, \"N / E\": 2.5, \"strat\": \"min\", \"mean\": 0.381992465391218, \"std\": 0.17320067978753542, \"stdNorm\": 0.45341386409324}, {\"q / p\": 0.6, \"N / E\": 2.5, \"strat\": \"weighted\", \"mean\": 0.39838883858199703, \"std\": 0.17135102121664936, \"stdNorm\": 0.43010999461367094}, {\"q / p\": 0.6, \"N / E\": 3.5, \"strat\": \"majority\", \"mean\": 0.37664816104661375, \"std\": 0.1459356794669717, \"stdNorm\": 0.38745889283370427}, {\"q / p\": 0.6, \"N / E\": 3.5, \"strat\": \"max\", \"mean\": 0.30377072678897954, \"std\": 0.14273737799749636, \"stdNorm\": 0.46988523056947407}, {\"q / p\": 0.6, \"N / E\": 3.5, \"strat\": \"min\", \"mean\": 0.32013121198828104, \"std\": 0.14347492652214844, \"stdNorm\": 0.4481753766871085}, {\"q / p\": 0.6, \"N / E\": 3.5, \"strat\": \"weighted\", \"mean\": 0.33907536124912724, \"std\": 0.14648905510373403, \"stdNorm\": 0.43202506535443846}, {\"q / p\": 0.6, \"N / E\": 5.0, \"strat\": \"majority\", \"mean\": 0.3348125406512331, \"std\": 0.12350989778095571, \"stdNorm\": 0.3688926870562273}, {\"q / p\": 0.6, \"N / E\": 5.0, \"strat\": \"max\", \"mean\": 0.2418309858462158, \"std\": 0.1120090350985192, \"stdNorm\": 0.4631707335045458}, {\"q / p\": 0.6, \"N / E\": 5.0, \"strat\": \"min\", \"mean\": 0.26787877120592074, \"std\": 0.11839046075925223, \"stdNorm\": 0.44195536744583785}, {\"q / p\": 0.6, \"N / E\": 5.0, \"strat\": \"weighted\", \"mean\": 0.28351625129053315, \"std\": 0.12248827408788208, \"stdNorm\": 0.4320326384478126}, {\"q / p\": 0.6, \"N / E\": 10.0, \"strat\": \"majority\", \"mean\": 0.26779224037329796, \"std\": 0.09059864734710503, \"stdNorm\": 0.3383169251686009}, {\"q / p\": 0.6, \"N / E\": 10.0, \"strat\": \"max\", \"mean\": 0.15717574314884844, \"std\": 0.06906423149908439, \"stdNorm\": 0.43940769813112474}, {\"q / p\": 0.6, \"N / E\": 10.0, \"strat\": \"min\", \"mean\": 0.18785127120405712, \"std\": 0.0819619692530186, \"stdNorm\": 0.4363130934790737}, {\"q / p\": 0.6, \"N / E\": 10.0, \"strat\": \"weighted\", \"mean\": 0.20201756656192593, \"std\": 0.08689980817793944, \"stdNorm\": 0.4301596621366162}, {\"q / p\": 0.7, \"N / E\": 1.0, \"strat\": \"majority\", \"mean\": 0.5746498746097805, \"std\": 0.2337047395461444, \"stdNorm\": 0.4066906648241123}, {\"q / p\": 0.7, \"N / E\": 1.0, \"strat\": \"max\", \"mean\": 0.5700965539221463, \"std\": 0.23136870179134678, \"stdNorm\": 0.405841256537297}, {\"q / p\": 0.7, \"N / E\": 1.0, \"strat\": \"min\", \"mean\": 0.5574737979784165, \"std\": 0.23816283014513426, \"stdNorm\": 0.4272179804840893}, {\"q / p\": 0.7, \"N / E\": 1.0, \"strat\": \"weighted\", \"mean\": 0.5641922086203648, \"std\": 0.23434689788884255, \"stdNorm\": 0.4153671289823333}, {\"q / p\": 0.7, \"N / E\": 1.5, \"strat\": \"majority\", \"mean\": 0.47732130282098933, \"std\": 0.20102264387704866, \"stdNorm\": 0.42114743819099676}, {\"q / p\": 0.7, \"N / E\": 1.5, \"strat\": \"max\", \"mean\": 0.46387736541438884, \"std\": 0.20228509136588255, \"stdNorm\": 0.43607450254697844}, {\"q / p\": 0.7, \"N / E\": 1.5, \"strat\": \"min\", \"mean\": 0.45720410703734377, \"std\": 0.20728191200753251, \"stdNorm\": 0.45336843833426466}, {\"q / p\": 0.7, \"N / E\": 1.5, \"strat\": \"weighted\", \"mean\": 0.46758928563309754, \"std\": 0.20594297785830645, \"stdNorm\": 0.44043562199990904}, {\"q / p\": 0.7, \"N / E\": 2.5, \"strat\": \"majority\", \"mean\": 0.3841408184971652, \"std\": 0.15822175689703324, \"stdNorm\": 0.4118847809926267}, {\"q / p\": 0.7, \"N / E\": 2.5, \"strat\": \"max\", \"mean\": 0.34442238056128727, \"std\": 0.16010349388687445, \"stdNorm\": 0.46484637155681374}, {\"q / p\": 0.7, \"N / E\": 2.5, \"strat\": \"min\", \"mean\": 0.35248511175570935, \"std\": 0.15932516585582446, \"stdNorm\": 0.4520053770845367}, {\"q / p\": 0.7, \"N / E\": 2.5, \"strat\": \"weighted\", \"mean\": 0.3637012820562003, \"std\": 0.16043250051125263, \"stdNorm\": 0.44111062684255836}, {\"q / p\": 0.7, \"N / E\": 3.5, \"strat\": \"majority\", \"mean\": 0.3334708305757342, \"std\": 0.13438444808124933, \"stdNorm\": 0.4029871153924794}, {\"q / p\": 0.7, \"N / E\": 3.5, \"strat\": \"max\", \"mean\": 0.28143628533549914, \"std\": 0.13100368923749806, \"stdNorm\": 0.4654825836737045}, {\"q / p\": 0.7, \"N / E\": 3.5, \"strat\": \"min\", \"mean\": 0.2964959322129697, \"std\": 0.13246704074907598, \"stdNorm\": 0.4467752382313508}, {\"q / p\": 0.7, \"N / E\": 3.5, \"strat\": \"weighted\", \"mean\": 0.30830939667294466, \"std\": 0.13548526172850892, \"stdNorm\": 0.4394457748955086}, {\"q / p\": 0.7, \"N / E\": 5.0, \"strat\": \"majority\", \"mean\": 0.29018993383495345, \"std\": 0.11446340156843039, \"stdNorm\": 0.39444304651012413}, {\"q / p\": 0.7, \"N / E\": 5.0, \"strat\": \"max\", \"mean\": 0.2259991194597964, \"std\": 0.10211440545473523, \"stdNorm\": 0.4518354128937243}, {\"q / p\": 0.7, \"N / E\": 5.0, \"strat\": \"min\", \"mean\": 0.2454499609886985, \"std\": 0.10784469213496922, \"stdNorm\": 0.43937547066847904}, {\"q / p\": 0.7, \"N / E\": 5.0, \"strat\": \"weighted\", \"mean\": 0.25786505419136063, \"std\": 0.11234322082682265, \"stdNorm\": 0.43566671404591795}, {\"q / p\": 0.7, \"N / E\": 10.0, \"strat\": \"majority\", \"mean\": 0.22607509369499354, \"std\": 0.08231171556041755, \"stdNorm\": 0.36409015347558543}, {\"q / p\": 0.7, \"N / E\": 10.0, \"strat\": \"max\", \"mean\": 0.15074285860320646, \"std\": 0.06606203831982589, \"stdNorm\": 0.43824323707246376}, {\"q / p\": 0.7, \"N / E\": 10.0, \"strat\": \"min\", \"mean\": 0.17358769133571406, \"std\": 0.07511132205611155, \"stdNorm\": 0.4326995853113123}, {\"q / p\": 0.7, \"N / E\": 10.0, \"strat\": \"weighted\", \"mean\": 0.1817058671268418, \"std\": 0.07837392613533635, \"stdNorm\": 0.43132303526900734}, {\"q / p\": 0.8, \"N / E\": 1.0, \"strat\": \"majority\", \"mean\": 0.5385122888004804, \"std\": 0.228864794853335, \"stdNorm\": 0.4249945630082543}, {\"q / p\": 0.8, \"N / E\": 1.0, \"strat\": \"max\", \"mean\": 0.5329683245612149, \"std\": 0.22694141374384416, \"stdNorm\": 0.4258065691440138}, {\"q / p\": 0.8, \"N / E\": 1.0, \"strat\": \"min\", \"mean\": 0.5286957098542403, \"std\": 0.23191834464264066, \"stdNorm\": 0.4386612948052478}, {\"q / p\": 0.8, \"N / E\": 1.0, \"strat\": \"weighted\", \"mean\": 0.5332113165919671, \"std\": 0.22917447927419815, \"stdNorm\": 0.4298004789901541}, {\"q / p\": 0.8, \"N / E\": 1.5, \"strat\": \"majority\", \"mean\": 0.4434621922674421, \"std\": 0.19493989780385057, \"stdNorm\": 0.439586285376695}, {\"q / p\": 0.8, \"N / E\": 1.5, \"strat\": \"max\", \"mean\": 0.43247591743122016, \"std\": 0.1953909411088525, \"stdNorm\": 0.45179611912130796}, {\"q / p\": 0.8, \"N / E\": 1.5, \"strat\": \"min\", \"mean\": 0.42822071770593223, \"std\": 0.19671253077570527, \"stdNorm\": 0.45937182075060584}, {\"q / p\": 0.8, \"N / E\": 1.5, \"strat\": \"weighted\", \"mean\": 0.43775844511925893, \"std\": 0.19602781306969663, \"stdNorm\": 0.44779904363990647}, {\"q / p\": 0.8, \"N / E\": 2.5, \"strat\": \"majority\", \"mean\": 0.34883026458254723, \"std\": 0.14983231220916166, \"stdNorm\": 0.4295278461244446}, {\"q / p\": 0.8, \"N / E\": 2.5, \"strat\": \"max\", \"mean\": 0.3234958753435433, \"std\": 0.1488418459746325, \"stdNorm\": 0.4601043083364409}, {\"q / p\": 0.8, \"N / E\": 2.5, \"strat\": \"min\", \"mean\": 0.32823323266872373, \"std\": 0.14662540460293025, \"stdNorm\": 0.44671102743248126}, {\"q / p\": 0.8, \"N / E\": 2.5, \"strat\": \"weighted\", \"mean\": 0.33605485064715906, \"std\": 0.15008276798421122, \"stdNorm\": 0.4466019987367797}, {\"q / p\": 0.8, \"N / E\": 3.5, \"strat\": \"majority\", \"mean\": 0.29900702553093805, \"std\": 0.12489216089494591, \"stdNorm\": 0.4176897204110122}, {\"q / p\": 0.8, \"N / E\": 3.5, \"strat\": \"max\", \"mean\": 0.2654945218383598, \"std\": 0.12032595314489596, \"stdNorm\": 0.453214447935591}, {\"q / p\": 0.8, \"N / E\": 3.5, \"strat\": \"min\", \"mean\": 0.27514643835848335, \"std\": 0.12222220294278738, \"stdNorm\": 0.4442078322800104}, {\"q / p\": 0.8, \"N / E\": 3.5, \"strat\": \"weighted\", \"mean\": 0.2811914593412492, \"std\": 0.12388204276708348, \"stdNorm\": 0.4405611858102075}, {\"q / p\": 0.8, \"N / E\": 5.0, \"strat\": \"majority\", \"mean\": 0.2556614385995832, \"std\": 0.10475805387436032, \"stdNorm\": 0.40975304859499107}, {\"q / p\": 0.8, \"N / E\": 5.0, \"strat\": \"max\", \"mean\": 0.21670452636268647, \"std\": 0.09697631012039458, \"stdNorm\": 0.44750477411851863}, {\"q / p\": 0.8, \"N / E\": 5.0, \"strat\": \"min\", \"mean\": 0.2299151476290519, \"std\": 0.10091867507280287, \"stdNorm\": 0.43893878290971233}, {\"q / p\": 0.8, \"N / E\": 5.0, \"strat\": \"weighted\", \"mean\": 0.23683559016801792, \"std\": 0.1032635531901732, \"stdNorm\": 0.43601366296727234}, {\"q / p\": 0.8, \"N / E\": 10.0, \"strat\": \"majority\", \"mean\": 0.1906788248528538, \"std\": 0.07502653740558188, \"stdNorm\": 0.39347073521918124}, {\"q / p\": 0.8, \"N / E\": 10.0, \"strat\": \"max\", \"mean\": 0.14838901893419776, \"std\": 0.06419759118074705, \"stdNorm\": 0.43263033640794607}, {\"q / p\": 0.8, \"N / E\": 10.0, \"strat\": \"min\", \"mean\": 0.16148990480030187, \"std\": 0.06970221974383732, \"stdNorm\": 0.4316196720162227}, {\"q / p\": 0.8, \"N / E\": 10.0, \"strat\": \"weighted\", \"mean\": 0.1658093969175977, \"std\": 0.07096257670877541, \"stdNorm\": 0.42797680968613433}, {\"q / p\": 0.9, \"N / E\": 1.0, \"strat\": \"majority\", \"mean\": 0.5035987532594037, \"std\": 0.22373712912585572, \"stdNorm\": 0.4442765747090893}, {\"q / p\": 0.9, \"N / E\": 1.0, \"strat\": \"max\", \"mean\": 0.5025611292099504, \"std\": 0.2228653453277814, \"stdNorm\": 0.44345917814642}, {\"q / p\": 0.9, \"N / E\": 1.0, \"strat\": \"min\", \"mean\": 0.5018478903736765, \"std\": 0.22534838470670313, \"stdNorm\": 0.4490372262776844}, {\"q / p\": 0.9, \"N / E\": 1.0, \"strat\": \"weighted\", \"mean\": 0.502761287028801, \"std\": 0.2247209829989967, \"stdNorm\": 0.446973521623043}, {\"q / p\": 0.9, \"N / E\": 1.5, \"strat\": \"majority\", \"mean\": 0.41184774747004904, \"std\": 0.186141221720274, \"stdNorm\": 0.45196610364807405}, {\"q / p\": 0.9, \"N / E\": 1.5, \"strat\": \"max\", \"mean\": 0.405463094643201, \"std\": 0.18553413338158725, \"stdNorm\": 0.4575857478344691}, {\"q / p\": 0.9, \"N / E\": 1.5, \"strat\": \"min\", \"mean\": 0.40309956224893745, \"std\": 0.18693947425673738, \"stdNorm\": 0.4637550912081898}, {\"q / p\": 0.9, \"N / E\": 1.5, \"strat\": \"weighted\", \"mean\": 0.40659198840706656, \"std\": 0.18502739549696479, \"stdNorm\": 0.4550689653818792}, {\"q / p\": 0.9, \"N / E\": 2.5, \"strat\": \"majority\", \"mean\": 0.3166744644832286, \"std\": 0.13997816126869903, \"stdNorm\": 0.4420254140071733}, {\"q / p\": 0.9, \"N / E\": 2.5, \"strat\": \"max\", \"mean\": 0.3073155999040237, \"std\": 0.138893563749932, \"stdNorm\": 0.45195741378995796}, {\"q / p\": 0.9, \"N / E\": 2.5, \"strat\": \"min\", \"mean\": 0.30936360985660805, \"std\": 0.13815375279026176, \"stdNorm\": 0.4465740261251053}, {\"q / p\": 0.9, \"N / E\": 2.5, \"strat\": \"weighted\", \"mean\": 0.31154875994836967, \"std\": 0.13979540088919157, \"stdNorm\": 0.44871114528704487}, {\"q / p\": 0.9, \"N / E\": 3.5, \"strat\": \"majority\", \"mean\": 0.2718360059542879, \"std\": 0.11709319383476222, \"stdNorm\": 0.43074939033077414}, {\"q / p\": 0.9, \"N / E\": 3.5, \"strat\": \"max\", \"mean\": 0.25444828631397565, \"std\": 0.11348192078741386, \"stdNorm\": 0.4459920812647298}, {\"q / p\": 0.9, \"N / E\": 3.5, \"strat\": \"min\", \"mean\": 0.25860197429526205, \"std\": 0.11397913956474788, \"stdNorm\": 0.4407512350799409}, {\"q / p\": 0.9, \"N / E\": 3.5, \"strat\": \"weighted\", \"mean\": 0.26230144511259934, \"std\": 0.11581899180262403, \"stdNorm\": 0.44154919448844776}, {\"q / p\": 0.9, \"N / E\": 5.0, \"strat\": \"majority\", \"mean\": 0.2276885462248064, \"std\": 0.09713405296418963, \"stdNorm\": 0.42660930720812423}, {\"q / p\": 0.9, \"N / E\": 5.0, \"strat\": \"max\", \"mean\": 0.2092182957199263, \"std\": 0.09149948155609698, \"stdNorm\": 0.43733977108094}, {\"q / p\": 0.9, \"N / E\": 5.0, \"strat\": \"min\", \"mean\": 0.21568840686683197, \"std\": 0.09392258588988227, \"stdNorm\": 0.4354549567787894}, {\"q / p\": 0.9, \"N / E\": 5.0, \"strat\": \"weighted\", \"mean\": 0.21798910303168295, \"std\": 0.09517724295824653, \"stdNorm\": 0.43661468226883476}, {\"q / p\": 0.9, \"N / E\": 10.0, \"strat\": \"majority\", \"mean\": 0.16507800512173407, \"std\": 0.06766327569942068, \"stdNorm\": 0.4098866814481039}, {\"q / p\": 0.9, \"N / E\": 10.0, \"strat\": \"max\", \"mean\": 0.14622340886130983, \"std\": 0.0630695592193627, \"stdNorm\": 0.4313232724534757}, {\"q / p\": 0.9, \"N / E\": 10.0, \"strat\": \"min\", \"mean\": 0.15223168981298058, \"std\": 0.06570805576812629, \"stdNorm\": 0.43163191480597657}, {\"q / p\": 0.9, \"N / E\": 10.0, \"strat\": \"weighted\", \"mean\": 0.15471520935178296, \"std\": 0.06657502173320969, \"stdNorm\": 0.43030689750634055}, {\"q / p\": 1.0, \"N / E\": 1.0, \"strat\": \"majority\", \"mean\": 0.4758426021835648, \"std\": 0.21708588384134367, \"stdNorm\": 0.4562136362847119}, {\"q / p\": 1.0, \"N / E\": 1.0, \"strat\": \"max\", \"mean\": 0.4771206348846567, \"std\": 0.21962744651953284, \"stdNorm\": 0.46031848229039074}, {\"q / p\": 1.0, \"N / E\": 1.0, \"strat\": \"min\", \"mean\": 0.4753110320225299, \"std\": 0.21824925979092155, \"stdNorm\": 0.45917145844949897}, {\"q / p\": 1.0, \"N / E\": 1.0, \"strat\": \"weighted\", \"mean\": 0.47678097695756244, \"std\": 0.21909621014765437, \"stdNorm\": 0.4595321976681041}, {\"q / p\": 1.0, \"N / E\": 1.5, \"strat\": \"majority\", \"mean\": 0.38079327926155876, \"std\": 0.17710464657048522, \"stdNorm\": 0.4650939399821598}, {\"q / p\": 1.0, \"N / E\": 1.5, \"strat\": \"max\", \"mean\": 0.3845563373715615, \"std\": 0.17760461335879632, \"stdNorm\": 0.4618428981634316}, {\"q / p\": 1.0, \"N / E\": 1.5, \"strat\": \"min\", \"mean\": 0.38263857305304017, \"std\": 0.17562715589830144, \"stdNorm\": 0.4589896792082082}, {\"q / p\": 1.0, \"N / E\": 1.5, \"strat\": \"weighted\", \"mean\": 0.382631542527385, \"std\": 0.1765857743194489, \"stdNorm\": 0.46150344311149055}, {\"q / p\": 1.0, \"N / E\": 2.5, \"strat\": \"majority\", \"mean\": 0.29231236026594853, \"std\": 0.13181359947187926, \"stdNorm\": 0.45093406023595445}, {\"q / p\": 1.0, \"N / E\": 2.5, \"strat\": \"max\", \"mean\": 0.2928088570954913, \"std\": 0.13162428826990358, \"stdNorm\": 0.449522905746591}, {\"q / p\": 1.0, \"N / E\": 2.5, \"strat\": \"min\", \"mean\": 0.29147068466949805, \"std\": 0.12974778394402894, \"stdNorm\": 0.44514865737235787}, {\"q / p\": 1.0, \"N / E\": 2.5, \"strat\": \"weighted\", \"mean\": 0.291941990374577, \"std\": 0.1303825807002339, \"stdNorm\": 0.44660441114670124}, {\"q / p\": 1.0, \"N / E\": 3.5, \"strat\": \"majority\", \"mean\": 0.24507406661937525, \"std\": 0.1079791656324676, \"stdNorm\": 0.44059808988345606}, {\"q / p\": 1.0, \"N / E\": 3.5, \"strat\": \"max\", \"mean\": 0.246486421279269, \"std\": 0.10713269565364655, \"stdNorm\": 0.4346393407702782}, {\"q / p\": 1.0, \"N / E\": 3.5, \"strat\": \"min\", \"mean\": 0.244577804635773, \"std\": 0.10837411928489808, \"stdNorm\": 0.4431069264289521}, {\"q / p\": 1.0, \"N / E\": 3.5, \"strat\": \"weighted\", \"mean\": 0.24526353228240014, \"std\": 0.10792416681007282, \"stdNorm\": 0.44003348482238813}, {\"q / p\": 1.0, \"N / E\": 5.0, \"strat\": \"majority\", \"mean\": 0.205152921421163, \"std\": 0.0886784379024609, \"stdNorm\": 0.4322553014997576}, {\"q / p\": 1.0, \"N / E\": 5.0, \"strat\": \"max\", \"mean\": 0.20479721155776512, \"std\": 0.08943632635486895, \"stdNorm\": 0.4367067582345599}, {\"q / p\": 1.0, \"N / E\": 5.0, \"strat\": \"min\", \"mean\": 0.20412471982803318, \"std\": 0.08970475820393568, \"stdNorm\": 0.43946053314614864}, {\"q / p\": 1.0, \"N / E\": 5.0, \"strat\": \"weighted\", \"mean\": 0.20527351651256473, \"std\": 0.08887037561000821, \"stdNorm\": 0.43293639198979905}, {\"q / p\": 1.0, \"N / E\": 10.0, \"strat\": \"majority\", \"mean\": 0.14466666645434473, \"std\": 0.062185627979139506, \"stdNorm\": 0.42985457191525617}, {\"q / p\": 1.0, \"N / E\": 10.0, \"strat\": \"max\", \"mean\": 0.14366875574685367, \"std\": 0.06166394666149336, \"stdNorm\": 0.4292091647967362}, {\"q / p\": 1.0, \"N / E\": 10.0, \"strat\": \"min\", \"mean\": 0.1444105247911556, \"std\": 0.06206354617930539, \"stdNorm\": 0.4297716268884196}, {\"q / p\": 1.0, \"N / E\": 10.0, \"strat\": \"weighted\", \"mean\": 0.14398832599152214, \"std\": 0.06145361279538099, \"stdNorm\": 0.42679580009145535}]}, {\"name\": \"facet_domain\"}, {\"name\": \"facet_domain_row\", \"values\": [{\"data\": 0.0}]}, {\"name\": \"facet_domain_column\", \"values\": [{\"data\": 0.0}, {\"data\": 1.0}, {\"data\": 2.0}, {\"data\": 3.0}]}, {\"name\": \"source_0_x_domain_q / p\", \"values\": [{\"min\": 0.0, \"max\": 1.0}]}, {\"name\": \"source_0_y_domain_std\", \"values\": [{\"min\": 0.0, \"max\": 0.24665996108933844}]}, {\"name\": \"source_0_color_domain_N / E\", \"values\": [{\"N / E\": 1.0}, {\"N / E\": 1.5}, {\"N / E\": 2.5}, {\"N / E\": 3.5}, {\"N / E\": 5.0}, {\"N / E\": 10.0}]}], \"signals\": [{\"name\": \"child_width\", \"value\": 300}, {\"name\": \"child_height\", \"value\": 300}], \"marks\": [{\"type\": \"group\", \"name\": \"facet-title\", \"title\": {\"text\": \"Strategy\", \"offset\": 10, \"fontSize\": 20, \"style\": \"guide-title\"}, \"role\": \"column-title\"}, {\"type\": \"group\", \"name\": \"row_header\", \"from\": {\"data\": \"facet_domain_row\"}, \"encode\": {\"update\": {\"height\": {\"signal\": \"child_height\"}}}, \"axes\": [{\"scale\": \"y\", \"zindex\": 0, \"orient\": \"left\", \"labelOverlap\": true, \"title\": \"\\u03c3\", \"tickCount\": {\"signal\": \"ceil(child_height/40)\"}, \"grid\": false}], \"role\": \"row-header\"}, {\"type\": \"group\", \"name\": \"column_footer\", \"from\": {\"data\": \"facet_domain_column\"}, \"encode\": {\"update\": {\"width\": {\"signal\": \"child_width\"}}}, \"axes\": [{\"scale\": \"x\", \"labelFlush\": true, \"grid\": false, \"title\": \"q / p\", \"orient\": \"bottom\", \"tickCount\": {\"signal\": \"ceil(child_width/40)\"}, \"zindex\": 0, \"labelOverlap\": true}], \"role\": \"column-footer\"}, {\"type\": \"group\", \"name\": \"cell\", \"from\": {\"facet\": {\"data\": \"source_0\", \"name\": \"facet\", \"groupby\": [\"strat\"]}}, \"sort\": {\"field\": [\"datum[\\\"strat\\\"]\"], \"order\": [\"ascending\"]}, \"encode\": {\"update\": {\"height\": {\"signal\": \"child_height\"}, \"width\": {\"signal\": \"child_width\"}}}, \"marks\": [{\"type\": \"group\", \"name\": \"child_pathgroup\", \"from\": {\"facet\": {\"data\": \"facet\", \"name\": \"faceted_path_child_main\", \"groupby\": [\"N / E\"]}}, \"encode\": {\"update\": {\"height\": {\"field\": {\"signal\": null, \"datum\": null, \"group\": \"height\", \"parent\": null}}, \"width\": {\"field\": {\"signal\": null, \"datum\": null, \"group\": \"width\", \"parent\": null}}}}, \"marks\": [{\"type\": \"line\", \"name\": \"child_marks\", \"from\": {\"data\": \"faceted_path_child_main\"}, \"sort\": {\"field\": \"datum[\\\"q / p\\\"]\"}, \"encode\": {\"update\": {\"y\": {\"field\": \"std\", \"scale\": \"y\"}, \"x\": {\"field\": \"q / p\", \"scale\": \"x\"}, \"description\": {\"signal\": \"\\\"q / p: \\\" + (format(datum[\\\"q / p\\\"], \\\"\\\")) + \\\"; \\u03c3: \\\" + (format(datum[\\\"std\\\"], \\\"\\\")) + \\\"; N / E: \\\" + (isValid(datum[\\\"N / E\\\"]) ? datum[\\\"N / E\\\"] : \\\"\\\"+datum[\\\"N / E\\\"])\"}, \"stroke\": {\"field\": \"N / E\", \"scale\": \"color\"}, \"defined\": {\"signal\": \"isValid(datum[\\\"q / p\\\"]) && isFinite(+datum[\\\"q / p\\\"]) && isValid(datum[\\\"std\\\"]) && isFinite(+datum[\\\"std\\\"])\"}}}, \"style\": [\"line\"]}]}], \"title\": {\"text\": {\"signal\": \"isValid(parent[\\\"strat\\\"]) ? parent[\\\"strat\\\"] : \\\"\\\"+parent[\\\"strat\\\"]\"}, \"frame\": \"group\", \"offset\": 10, \"style\": \"guide-label\", \"fontSize\": 18}, \"style\": \"cell\"}], \"scales\": [{\"name\": \"x\", \"type\": \"linear\", \"domain\": [{\"signal\": \"(data(\\\"source_0_x_domain_q / p\\\")[0] || {}).min\"}, {\"signal\": \"(data(\\\"source_0_x_domain_q / p\\\")[0] || {}).max\"}], \"range\": [0, {\"signal\": \"child_width\"}], \"zero\": false, \"nice\": true}, {\"name\": \"y\", \"type\": \"linear\", \"domain\": [{\"signal\": \"(data(\\\"source_0_y_domain_std\\\")[0] || {}).min\"}, {\"signal\": \"(data(\\\"source_0_y_domain_std\\\")[0] || {}).max\"}], \"range\": [{\"signal\": \"child_height\"}, 0], \"zero\": true, \"nice\": true}, {\"name\": \"color\", \"type\": \"ordinal\", \"domain\": {\"data\": \"source_0_color_domain_N / E\", \"field\": \"N / E\", \"sort\": true}, \"range\": {\"scheme\": \"blues\"}, \"interpolate\": \"hcl\"}], \"config\": {\"mark\": {\"fill\": \"#9ebcda\"}, \"axisX\": {\"labelFont\": \"monospace\", \"labelFontSize\": 16, \"titleFontSize\": 20, \"grid\": false}, \"axisY\": {\"domain\": false, \"grid\": false, \"labelFont\": \"monospace\", \"labelFontSize\": 16, \"titleFontSize\": 20, \"titleAngle\": 0, \"titleX\": -60}, \"legend\": {\"titleFontSize\": 20, \"labelFontSize\": 16}, \"style\": {\"cell\": {\"height\": 300, \"width\": 300}, \"line\": {\"fill\": null, \"stroke\": \"black\"}, \"group-title\": {\"fontSize\": 18, \"font\": \"monospace\", \"fontColor\": \"#000000\"}}}, \"background\": \"white\", \"layout\": {\"padding\": 20, \"bounds\": \"full\", \"align\": \"all\"}, \"padding\": 5, \"legends\": [{\"stroke\": \"color\", \"symbolType\": \"stroke\", \"title\": \"N / E\", \"encode\": {\"symbols\": {\"update\": {\"fill\": {\"value\": null}}}}}]}, {\"mode\": \"vega\"});\n",
       "</script>"
      ],
      "text/plain": [
       "alt.FacetChart(...)"
      ]
     },
     "execution_count": 159,
     "metadata": {},
     "output_type": "execute_result"
    }
   ],
   "source": [
    "alt.Chart(df_fraction2_var).mark_line().encode(\n",
    "    x=\"q / p\",\n",
    "    y=alt.Y(\n",
    "        \"std\",\n",
    "        # \"std\",\n",
    "        title=\"σ\"\n",
    "    ),\n",
    "    color=alt.Color(\"N / E:O\", scale=alt.Scale(scheme=\"blues\")),\n",
    "    # strokeDash=alt.StrokeDash(\"N / E:O\", legend=alt.Legend(symbolSize=750))\n",
    ").facet(\n",
    "    facet=alt.Facet(\"strat\", header=alt.Header(title=\"Strategy\", labelFontSize=18, titleFontSize=20))\n",
    "       ).configure_axisY(\n",
    "    titleAngle=0,\n",
    "    titleX=-60,\n",
    ")"
   ]
  },
  {
   "cell_type": "code",
   "execution_count": 300,
   "id": "fc44da6c-9e58-44f5-98c5-fd1219884060",
   "metadata": {},
   "outputs": [
    {
     "data": {
      "text/html": [
       "\n",
       "<style>\n",
       "  #altair-viz-7421062710124fe5994e028308c1790e.vega-embed {\n",
       "    width: 100%;\n",
       "    display: flex;\n",
       "  }\n",
       "\n",
       "  #altair-viz-7421062710124fe5994e028308c1790e.vega-embed details,\n",
       "  #altair-viz-7421062710124fe5994e028308c1790e.vega-embed details summary {\n",
       "    position: relative;\n",
       "  }\n",
       "</style>\n",
       "<div id=\"altair-viz-7421062710124fe5994e028308c1790e\"></div>\n",
       "<script type=\"text/javascript\">\n",
       "  var VEGA_DEBUG = (typeof VEGA_DEBUG == \"undefined\") ? {} : VEGA_DEBUG;\n",
       "  (function(spec, embedOpt){\n",
       "    let outputDiv = document.currentScript.previousElementSibling;\n",
       "    if (outputDiv.id !== \"altair-viz-7421062710124fe5994e028308c1790e\") {\n",
       "      outputDiv = document.getElementById(\"altair-viz-7421062710124fe5994e028308c1790e\");\n",
       "    }\n",
       "    const paths = {\n",
       "      \"vega\": \"https://cdn.jsdelivr.net/npm/vega@5?noext\",\n",
       "      \"vega-lib\": \"https://cdn.jsdelivr.net/npm/vega-lib?noext\",\n",
       "      \"vega-lite\": \"https://cdn.jsdelivr.net/npm/vega-lite@5.15.1?noext\",\n",
       "      \"vega-embed\": \"https://cdn.jsdelivr.net/npm/vega-embed@6?noext\",\n",
       "    };\n",
       "\n",
       "    function maybeLoadScript(lib, version) {\n",
       "      var key = `${lib.replace(\"-\", \"\")}_version`;\n",
       "      return (VEGA_DEBUG[key] == version) ?\n",
       "        Promise.resolve(paths[lib]) :\n",
       "        new Promise(function(resolve, reject) {\n",
       "          var s = document.createElement('script');\n",
       "          document.getElementsByTagName(\"head\")[0].appendChild(s);\n",
       "          s.async = true;\n",
       "          s.onload = () => {\n",
       "            VEGA_DEBUG[key] = version;\n",
       "            return resolve(paths[lib]);\n",
       "          };\n",
       "          s.onerror = () => reject(`Error loading script: ${paths[lib]}`);\n",
       "          s.src = paths[lib];\n",
       "        });\n",
       "    }\n",
       "\n",
       "    function showError(err) {\n",
       "      outputDiv.innerHTML = `<div class=\"error\" style=\"color:red;\">${err}</div>`;\n",
       "      throw err;\n",
       "    }\n",
       "\n",
       "    function displayChart(vegaEmbed) {\n",
       "      vegaEmbed(outputDiv, spec, embedOpt)\n",
       "        .catch(err => showError(`Javascript Error: ${err.message}<br>This usually means there's a typo in your chart specification. See the javascript console for the full traceback.`));\n",
       "    }\n",
       "\n",
       "    if(typeof define === \"function\" && define.amd) {\n",
       "      requirejs.config({paths});\n",
       "      require([\"vega-embed\"], displayChart, err => showError(`Error loading script: ${err.message}`));\n",
       "    } else {\n",
       "      maybeLoadScript(\"vega\", \"5\")\n",
       "        .then(() => maybeLoadScript(\"vega-lite\", \"5.15.1\"))\n",
       "        .then(() => maybeLoadScript(\"vega-embed\", \"6\"))\n",
       "        .catch(showError)\n",
       "        .then(() => displayChart(vegaEmbed));\n",
       "    }\n",
       "  })({\"$schema\": \"https://vega.github.io/schema/vega/v5.json\", \"data\": [{\"name\": \"source_0\", \"values\": [{\"q / p\": 0.0, \"N / E\": 1.0, \"strat\": \"majority\", \"mean\": 1.0, \"std\": 0.0, \"stdNorm\": 0.0}, {\"q / p\": 0.0, \"N / E\": 1.0, \"strat\": \"max\", \"mean\": 1.0, \"std\": 0.0, \"stdNorm\": 0.0}, {\"q / p\": 0.0, \"N / E\": 1.0, \"strat\": \"min\", \"mean\": 1.0, \"std\": 0.0, \"stdNorm\": 0.0}, {\"q / p\": 0.0, \"N / E\": 1.0, \"strat\": \"weighted\", \"mean\": 1.0, \"std\": 0.0, \"stdNorm\": 0.0}, {\"q / p\": 0.0, \"N / E\": 1.5, \"strat\": \"majority\", \"mean\": 1.0, \"std\": 0.0, \"stdNorm\": 0.0}, {\"q / p\": 0.0, \"N / E\": 1.5, \"strat\": \"max\", \"mean\": 1.0, \"std\": 0.0, \"stdNorm\": 0.0}, {\"q / p\": 0.0, \"N / E\": 1.5, \"strat\": \"min\", \"mean\": 1.0, \"std\": 0.0, \"stdNorm\": 0.0}, {\"q / p\": 0.0, \"N / E\": 1.5, \"strat\": \"weighted\", \"mean\": 1.0, \"std\": 0.0, \"stdNorm\": 0.0}, {\"q / p\": 0.0, \"N / E\": 2.5, \"strat\": \"majority\", \"mean\": 1.0, \"std\": 0.0, \"stdNorm\": 0.0}, {\"q / p\": 0.0, \"N / E\": 2.5, \"strat\": \"max\", \"mean\": 1.0, \"std\": 0.0, \"stdNorm\": 0.0}, {\"q / p\": 0.0, \"N / E\": 2.5, \"strat\": \"min\", \"mean\": 1.0, \"std\": 0.0, \"stdNorm\": 0.0}, {\"q / p\": 0.0, \"N / E\": 2.5, \"strat\": \"weighted\", \"mean\": 1.0, \"std\": 0.0, \"stdNorm\": 0.0}, {\"q / p\": 0.0, \"N / E\": 3.5, \"strat\": \"majority\", \"mean\": 1.0, \"std\": 0.0, \"stdNorm\": 0.0}, {\"q / p\": 0.0, \"N / E\": 3.5, \"strat\": \"max\", \"mean\": 1.0, \"std\": 0.0, \"stdNorm\": 0.0}, {\"q / p\": 0.0, \"N / E\": 3.5, \"strat\": \"min\", \"mean\": 1.0, \"std\": 0.0, \"stdNorm\": 0.0}, {\"q / p\": 0.0, \"N / E\": 3.5, \"strat\": \"weighted\", \"mean\": 1.0, \"std\": 0.0, \"stdNorm\": 0.0}, {\"q / p\": 0.0, \"N / E\": 5.0, \"strat\": \"majority\", \"mean\": 1.0, \"std\": 0.0, \"stdNorm\": 0.0}, {\"q / p\": 0.0, \"N / E\": 5.0, \"strat\": \"max\", \"mean\": 1.0, \"std\": 0.0, \"stdNorm\": 0.0}, {\"q / p\": 0.0, \"N / E\": 5.0, \"strat\": \"min\", \"mean\": 1.0, \"std\": 0.0, \"stdNorm\": 0.0}, {\"q / p\": 0.0, \"N / E\": 5.0, \"strat\": \"weighted\", \"mean\": 1.0, \"std\": 0.0, \"stdNorm\": 0.0}, {\"q / p\": 0.0, \"N / E\": 10.0, \"strat\": \"majority\", \"mean\": 1.0, \"std\": 0.0, \"stdNorm\": 0.0}, {\"q / p\": 0.0, \"N / E\": 10.0, \"strat\": \"max\", \"mean\": 1.0, \"std\": 0.0, \"stdNorm\": 0.0}, {\"q / p\": 0.0, \"N / E\": 10.0, \"strat\": \"min\", \"mean\": 1.0, \"std\": 0.0, \"stdNorm\": 0.0}, {\"q / p\": 0.0, \"N / E\": 10.0, \"strat\": \"weighted\", \"mean\": 1.0, \"std\": 0.0, \"stdNorm\": 0.0}, {\"q / p\": 0.01, \"N / E\": 1.0, \"strat\": \"majority\", \"mean\": 0.9914427129439406, \"std\": 0.04615434400153989, \"stdNorm\": 0.04655270889478978}, {\"q / p\": 0.01, \"N / E\": 1.0, \"strat\": \"max\", \"mean\": 0.9908400769581486, \"std\": 0.0488358854446714, \"stdNorm\": 0.04928735381253068}, {\"q / p\": 0.01, \"N / E\": 1.0, \"strat\": \"min\", \"mean\": 0.9890572583377473, \"std\": 0.05671223512291844, \"stdNorm\": 0.05733968852140218}, {\"q / p\": 0.01, \"N / E\": 1.0, \"strat\": \"weighted\", \"mean\": 0.9911493068475636, \"std\": 0.048443191674799546, \"stdNorm\": 0.048875776172287624}, {\"q / p\": 0.01, \"N / E\": 1.5, \"strat\": \"majority\", \"mean\": 0.988106481403311, \"std\": 0.05046917923128965, \"stdNorm\": 0.05107666044211471}, {\"q / p\": 0.01, \"N / E\": 1.5, \"strat\": \"max\", \"mean\": 0.9864780675805676, \"std\": 0.05814395634341627, \"stdNorm\": 0.058940951911906084}, {\"q / p\": 0.01, \"N / E\": 1.5, \"strat\": \"min\", \"mean\": 0.9852585221853686, \"std\": 0.0631019423912557, \"stdNorm\": 0.06404607620271217}, {\"q / p\": 0.01, \"N / E\": 1.5, \"strat\": \"weighted\", \"mean\": 0.9875241465295969, \"std\": 0.05525978377387136, \"stdNorm\": 0.0559579064148131}, {\"q / p\": 0.01, \"N / E\": 2.5, \"strat\": \"majority\", \"mean\": 0.9859727377252376, \"std\": 0.04789751996502567, \"stdNorm\": 0.04857894963255398}, {\"q / p\": 0.01, \"N / E\": 2.5, \"strat\": \"max\", \"mean\": 0.977606522921523, \"std\": 0.0730254561463701, \"stdNorm\": 0.07469820877231625}, {\"q / p\": 0.01, \"N / E\": 2.5, \"strat\": \"min\", \"mean\": 0.9767385277685278, \"std\": 0.0755195843109371, \"stdNorm\": 0.07731811755544274}, {\"q / p\": 0.01, \"N / E\": 2.5, \"strat\": \"weighted\", \"mean\": 0.9809681194731195, \"std\": 0.06312848928994425, \"stdNorm\": 0.06435325270697963}, {\"q / p\": 0.01, \"N / E\": 3.5, \"strat\": \"majority\", \"mean\": 0.9837103613053613, \"std\": 0.04605769533755562, \"stdNorm\": 0.04682038245123098}, {\"q / p\": 0.01, \"N / E\": 3.5, \"strat\": \"max\", \"mean\": 0.9685200736718849, \"std\": 0.08573216313691367, \"stdNorm\": 0.08851872611362933}, {\"q / p\": 0.01, \"N / E\": 3.5, \"strat\": \"min\", \"mean\": 0.9719545307470308, \"std\": 0.08122477603250397, \"stdNorm\": 0.08356849365173054}, {\"q / p\": 0.01, \"N / E\": 3.5, \"strat\": \"weighted\", \"mean\": 0.9777140774884158, \"std\": 0.06526436838784341, \"stdNorm\": 0.0667519982482984}, {\"q / p\": 0.01, \"N / E\": 5.0, \"strat\": \"majority\", \"mean\": 0.9818589542708467, \"std\": 0.04355617602882145, \"stdNorm\": 0.0443609296827846}, {\"q / p\": 0.01, \"N / E\": 5.0, \"strat\": \"max\", \"mean\": 0.955887186887596, \"std\": 0.10173843123247556, \"stdNorm\": 0.10643351289574207}, {\"q / p\": 0.01, \"N / E\": 5.0, \"strat\": \"min\", \"mean\": 0.9656707559857869, \"std\": 0.08736470712981033, \"stdNorm\": 0.09047049068046563}, {\"q / p\": 0.01, \"N / E\": 5.0, \"strat\": \"weighted\", \"mean\": 0.9711602499524326, \"std\": 0.0711191468241163, \"stdNorm\": 0.07323111384305496}, {\"q / p\": 0.01, \"N / E\": 10.0, \"strat\": \"majority\", \"mean\": 0.9795893449671778, \"std\": 0.034817339865119576, \"stdNorm\": 0.035542791521774024}, {\"q / p\": 0.01, \"N / E\": 10.0, \"strat\": \"max\", \"mean\": 0.9131316237877072, \"std\": 0.1386073076866502, \"stdNorm\": 0.1517933494754036}, {\"q / p\": 0.01, \"N / E\": 10.0, \"strat\": \"min\", \"mean\": 0.9470660007637917, \"std\": 0.10528623141473377, \"stdNorm\": 0.11117095464288901}, {\"q / p\": 0.01, \"N / E\": 10.0, \"strat\": \"weighted\", \"mean\": 0.9594680270527368, \"std\": 0.07886599393092372, \"stdNorm\": 0.08219762587939669}, {\"q / p\": 0.05, \"N / E\": 1.0, \"strat\": \"majority\", \"mean\": 0.9571051381139584, \"std\": 0.10331817837366732, \"stdNorm\": 0.10794861949781495}, {\"q / p\": 0.05, \"N / E\": 1.0, \"strat\": \"max\", \"mean\": 0.9559336851483501, \"std\": 0.10456154055417577, \"stdNorm\": 0.10938158386786946}, {\"q / p\": 0.05, \"N / E\": 1.0, \"strat\": \"min\", \"mean\": 0.9484738127466358, \"std\": 0.1210841375932806, \"stdNorm\": 0.12766207771476512}, {\"q / p\": 0.05, \"N / E\": 1.0, \"strat\": \"weighted\", \"mean\": 0.9558756743633009, \"std\": 0.1059502542389898, \"stdNorm\": 0.11084104039948729}, {\"q / p\": 0.05, \"N / E\": 1.5, \"strat\": \"majority\", \"mean\": 0.9441162863851267, \"std\": 0.10942834398475255, \"stdNorm\": 0.11590557811870457}, {\"q / p\": 0.05, \"N / E\": 1.5, \"strat\": \"max\", \"mean\": 0.9349556251076326, \"std\": 0.12296113319631921, \"stdNorm\": 0.1315154750602884}, {\"q / p\": 0.05, \"N / E\": 1.5, \"strat\": \"min\", \"mean\": 0.9292701889236542, \"std\": 0.13752196738616393, \"stdNorm\": 0.14798921672657067}, {\"q / p\": 0.05, \"N / E\": 1.5, \"strat\": \"weighted\", \"mean\": 0.93632575998076, \"std\": 0.12177953042560684, \"stdNorm\": 0.13006107022849528}, {\"q / p\": 0.05, \"N / E\": 2.5, \"strat\": \"majority\", \"mean\": 0.9268297431272431, \"std\": 0.11179552097059114, \"stdNorm\": 0.1206214213555325}, {\"q / p\": 0.05, \"N / E\": 2.5, \"strat\": \"max\", \"mean\": 0.8924570839153967, \"std\": 0.15092645566518964, \"stdNorm\": 0.1691134043141252}, {\"q / p\": 0.05, \"N / E\": 2.5, \"strat\": \"min\", \"mean\": 0.8928555543530543, \"std\": 0.16031380519992974, \"stdNorm\": 0.1795517812689086}, {\"q / p\": 0.05, \"N / E\": 2.5, \"strat\": \"weighted\", \"mean\": 0.9106333680208679, \"std\": 0.13305850970465719, \"stdNorm\": 0.14611644419953657}, {\"q / p\": 0.05, \"N / E\": 3.5, \"strat\": \"majority\", \"mean\": 0.9155287716395804, \"std\": 0.1095447815444404, \"stdNorm\": 0.11965192677479863}, {\"q / p\": 0.05, \"N / E\": 3.5, \"strat\": \"max\", \"mean\": 0.8555949305779537, \"std\": 0.16909565799060597, \"stdNorm\": 0.19763517985827941}, {\"q / p\": 0.05, \"N / E\": 3.5, \"strat\": \"min\", \"mean\": 0.8638198076460576, \"std\": 0.17804513832296737, \"stdNorm\": 0.20611374819957795}, {\"q / p\": 0.05, \"N / E\": 3.5, \"strat\": \"weighted\", \"mean\": 0.8865312800162799, \"std\": 0.14286977198389597, \"stdNorm\": 0.16115592896087363}, {\"q / p\": 0.05, \"N / E\": 5.0, \"strat\": \"majority\", \"mean\": 0.905914700063065, \"std\": 0.10294898174024746, \"stdNorm\": 0.11364092196879098}, {\"q / p\": 0.05, \"N / E\": 5.0, \"strat\": \"max\", \"mean\": 0.8033591875188293, \"std\": 0.18984724361338073, \"stdNorm\": 0.23631676411111072}, {\"q / p\": 0.05, \"N / E\": 5.0, \"strat\": \"min\", \"mean\": 0.8258184681937429, \"std\": 0.1948493365878659, \"stdNorm\": 0.23594693518303936}, {\"q / p\": 0.05, \"N / E\": 5.0, \"strat\": \"weighted\", \"mean\": 0.8597324324284956, \"std\": 0.1508192427584539, \"stdNorm\": 0.1754257918739126}, {\"q / p\": 0.05, \"N / E\": 10.0, \"strat\": \"majority\", \"mean\": 0.8861549906410355, \"std\": 0.08803561237774028, \"stdNorm\": 0.09934561482755541}, {\"q / p\": 0.05, \"N / E\": 10.0, \"strat\": \"max\", \"mean\": 0.6483816432162708, \"std\": 0.22058115436555314, \"stdNorm\": 0.3402026517459213}, {\"q / p\": 0.05, \"N / E\": 10.0, \"strat\": \"min\", \"mean\": 0.735339606914833, \"std\": 0.2172680891872885, \"stdNorm\": 0.295466322151273}, {\"q / p\": 0.05, \"N / E\": 10.0, \"strat\": \"weighted\", \"mean\": 0.7980584744513499, \"std\": 0.16181697048057478, \"stdNorm\": 0.2027633007616652}, {\"q / p\": 0.1, \"N / E\": 1.0, \"strat\": \"majority\", \"mean\": 0.9184043324633065, \"std\": 0.13937670526440707, \"stdNorm\": 0.15175963389738872}, {\"q / p\": 0.1, \"N / E\": 1.0, \"strat\": \"max\", \"mean\": 0.9124012414236395, \"std\": 0.14375060486606148, \"stdNorm\": 0.1575519610667827}, {\"q / p\": 0.1, \"N / E\": 1.0, \"strat\": \"min\", \"mean\": 0.9027178058027095, \"std\": 0.16364095337482196, \"stdNorm\": 0.18127586752242036}, {\"q / p\": 0.1, \"N / E\": 1.0, \"strat\": \"weighted\", \"mean\": 0.9140527732782631, \"std\": 0.14593844650344573, \"stdNorm\": 0.15966085413212572}, {\"q / p\": 0.1, \"N / E\": 1.5, \"strat\": \"majority\", \"mean\": 0.8905985272608596, \"std\": 0.14870468914873652, \"stdNorm\": 0.16697163154546782}, {\"q / p\": 0.1, \"N / E\": 1.5, \"strat\": \"max\", \"mean\": 0.8744842654439496, \"std\": 0.1631682094520804, \"stdNorm\": 0.1865879306235942}, {\"q / p\": 0.1, \"N / E\": 1.5, \"strat\": \"min\", \"mean\": 0.8582479123956197, \"std\": 0.18799565566938362, \"stdNorm\": 0.21904586420097782}, {\"q / p\": 0.1, \"N / E\": 1.5, \"strat\": \"weighted\", \"mean\": 0.8803982960090765, \"std\": 0.1606913748875199, \"stdNorm\": 0.18252122433215526}, {\"q / p\": 0.1, \"N / E\": 2.5, \"strat\": \"majority\", \"mean\": 0.8537687796381178, \"std\": 0.15553495302271297, \"stdNorm\": 0.18217456146456737}, {\"q / p\": 0.1, \"N / E\": 2.5, \"strat\": \"max\", \"mean\": 0.8037015713420094, \"std\": 0.18903565086872287, \"stdNorm\": 0.23520627258831142}, {\"q / p\": 0.1, \"N / E\": 2.5, \"strat\": \"min\", \"mean\": 0.795410403022903, \"std\": 0.21093151111432554, \"stdNorm\": 0.2651857585878871}, {\"q / p\": 0.1, \"N / E\": 2.5, \"strat\": \"weighted\", \"mean\": 0.8263845007307508, \"std\": 0.17817393639088536, \"stdNorm\": 0.2156065805122563}, {\"q / p\": 0.1, \"N / E\": 3.5, \"strat\": \"majority\", \"mean\": 0.8353909591661062, \"std\": 0.1502118399693009, \"stdNorm\": 0.17981022935565827}, {\"q / p\": 0.1, \"N / E\": 3.5, \"strat\": \"max\", \"mean\": 0.737083955704924, \"std\": 0.20557656212623526, \"stdNorm\": 0.2789052190528666}, {\"q / p\": 0.1, \"N / E\": 3.5, \"strat\": \"min\", \"mean\": 0.7451908263033263, \"std\": 0.22377425965133657, \"stdNorm\": 0.3002912163605331}, {\"q / p\": 0.1, \"N / E\": 3.5, \"strat\": \"weighted\", \"mean\": 0.7874471602693546, \"std\": 0.18495650899829127, \"stdNorm\": 0.23488116832502762}, {\"q / p\": 0.1, \"N / E\": 5.0, \"strat\": \"majority\", \"mean\": 0.8095832918838514, \"std\": 0.1413611155449432, \"stdNorm\": 0.17460972448678436}, {\"q / p\": 0.1, \"N / E\": 5.0, \"strat\": \"max\", \"mean\": 0.6536382115179541, \"std\": 0.21776011470393467, \"stdNorm\": 0.3331508330858243}, {\"q / p\": 0.1, \"N / E\": 5.0, \"strat\": \"min\", \"mean\": 0.6799009916091533, \"std\": 0.23458143791975092, \"stdNorm\": 0.34502293836129894}, {\"q / p\": 0.1, \"N / E\": 5.0, \"strat\": \"weighted\", \"mean\": 0.7406964245171628, \"std\": 0.18745116729107106, \"stdNorm\": 0.2530742164892516}, {\"q / p\": 0.1, \"N / E\": 10.0, \"strat\": \"majority\", \"mean\": 0.7743683210190744, \"std\": 0.11267924320136571, \"stdNorm\": 0.14551117361448748}, {\"q / p\": 0.1, \"N / E\": 10.0, \"strat\": \"max\", \"mean\": 0.4508258670902509, \"std\": 0.2058987268173614, \"stdNorm\": 0.4567145362494085}, {\"q / p\": 0.1, \"N / E\": 10.0, \"strat\": \"min\", \"mean\": 0.5401236727534832, \"std\": 0.21812314341999792, \"stdNorm\": 0.40383925834621043}, {\"q / p\": 0.1, \"N / E\": 10.0, \"strat\": \"weighted\", \"mean\": 0.6401380150421204, \"std\": 0.1833245318549148, \"stdNorm\": 0.28638282299615064}, {\"q / p\": 0.2, \"N / E\": 1.0, \"strat\": \"majority\", \"mean\": 0.8432312105617382, \"std\": 0.18692445114081066, \"stdNorm\": 0.22167639053147303}, {\"q / p\": 0.2, \"N / E\": 1.0, \"strat\": \"max\", \"mean\": 0.838089804201305, \"std\": 0.18538844622968756, \"stdNorm\": 0.22120355754281218}, {\"q / p\": 0.2, \"N / E\": 1.0, \"strat\": \"min\", \"mean\": 0.8182576013119317, \"std\": 0.21040589199253948, \"stdNorm\": 0.25713893968744167}, {\"q / p\": 0.2, \"N / E\": 1.0, \"strat\": \"weighted\", \"mean\": 0.8335344472152291, \"std\": 0.19267063482078695, \"stdNorm\": 0.23114897706325624}, {\"q / p\": 0.2, \"N / E\": 1.5, \"strat\": \"majority\", \"mean\": 0.791848768811465, \"std\": 0.19438760869512822, \"stdNorm\": 0.24548577500082072}, {\"q / p\": 0.2, \"N / E\": 1.5, \"strat\": \"max\", \"mean\": 0.7692192434916708, \"std\": 0.20282798329292342, \"stdNorm\": 0.263680329124683}, {\"q / p\": 0.2, \"N / E\": 1.5, \"strat\": \"min\", \"mean\": 0.7489491257779672, \"std\": 0.22883170043700538, \"stdNorm\": 0.3055370419176437}, {\"q / p\": 0.2, \"N / E\": 1.5, \"strat\": \"weighted\", \"mean\": 0.775227754930255, \"std\": 0.2048853574843309, \"stdNorm\": 0.2642905342092194}, {\"q / p\": 0.2, \"N / E\": 2.5, \"strat\": \"majority\", \"mean\": 0.7284636542641225, \"std\": 0.18936574748115947, \"stdNorm\": 0.25995222462053025}, {\"q / p\": 0.2, \"N / E\": 2.5, \"strat\": \"max\", \"mean\": 0.6581626030487376, \"std\": 0.2144032188508398, \"stdNorm\": 0.3257602572034361}, {\"q / p\": 0.2, \"N / E\": 2.5, \"strat\": \"min\", \"mean\": 0.644632646057646, \"std\": 0.23731976267813268, \"stdNorm\": 0.3681472915302996}, {\"q / p\": 0.2, \"N / E\": 2.5, \"strat\": \"weighted\", \"mean\": 0.6869314967385556, \"std\": 0.20828755435089832, \"stdNorm\": 0.30321444764116273}, {\"q / p\": 0.2, \"N / E\": 3.5, \"strat\": \"majority\", \"mean\": 0.6917762481875136, \"std\": 0.17749207448943433, \"stdNorm\": 0.2565743980867686}, {\"q / p\": 0.2, \"N / E\": 3.5, \"strat\": \"max\", \"mean\": 0.5681968808686325, \"std\": 0.2164477417051994, \"stdNorm\": 0.38093792661146664}, {\"q / p\": 0.2, \"N / E\": 3.5, \"strat\": \"min\", \"mean\": 0.5703451882975412, \"std\": 0.23085595593034197, \"stdNorm\": 0.4047653257484967}, {\"q / p\": 0.2, \"N / E\": 3.5, \"strat\": \"weighted\", \"mean\": 0.6272849696614016, \"std\": 0.20428118031086254, \"stdNorm\": 0.32565929392685794}, {\"q / p\": 0.2, \"N / E\": 5.0, \"strat\": \"majority\", \"mean\": 0.6554936006211968, \"std\": 0.16061012800609678, \"stdNorm\": 0.24502165673912013}, {\"q / p\": 0.2, \"N / E\": 5.0, \"strat\": \"max\", \"mean\": 0.46085534774170944, \"std\": 0.20279512300305327, \"stdNorm\": 0.4400407286077792}, {\"q / p\": 0.2, \"N / E\": 5.0, \"strat\": \"min\", \"mean\": 0.4940607457410437, \"std\": 0.21090361429131224, \"stdNorm\": 0.4268779013701586}, {\"q / p\": 0.2, \"N / E\": 5.0, \"strat\": \"weighted\", \"mean\": 0.5601041377705392, \"std\": 0.19293409905948355, \"stdNorm\": 0.34446112079701124}, {\"q / p\": 0.2, \"N / E\": 10.0, \"strat\": \"majority\", \"mean\": 0.6036681733855804, \"std\": 0.12301024329803899, \"stdNorm\": 0.20377129144999462}, {\"q / p\": 0.2, \"N / E\": 10.0, \"strat\": \"max\", \"mean\": 0.2731070397718102, \"std\": 0.14593318864432372, \"stdNorm\": 0.534344295065611}, {\"q / p\": 0.2, \"N / E\": 10.0, \"strat\": \"min\", \"mean\": 0.352915940173464, \"std\": 0.15874750832011772, \"stdNorm\": 0.44981677008437393}, {\"q / p\": 0.2, \"N / E\": 10.0, \"strat\": \"weighted\", \"mean\": 0.44222946375184174, \"std\": 0.16345928930888728, \"stdNorm\": 0.3696255060034012}, {\"q / p\": 0.3, \"N / E\": 1.0, \"strat\": \"majority\", \"mean\": 0.7758013466808256, \"std\": 0.21074733378824867, \"stdNorm\": 0.2716511574643512}, {\"q / p\": 0.3, \"N / E\": 1.0, \"strat\": \"max\", \"mean\": 0.7711551662260828, \"std\": 0.20849797910055753, \"stdNorm\": 0.2703709813952427}, {\"q / p\": 0.3, \"N / E\": 1.0, \"strat\": \"min\", \"mean\": 0.7517541570669076, \"std\": 0.23202774698340986, \"stdNorm\": 0.3086484388575971}, {\"q / p\": 0.3, \"N / E\": 1.0, \"strat\": \"weighted\", \"mean\": 0.7681581190505733, \"std\": 0.21782249858021027, \"stdNorm\": 0.28356466354796084}, {\"q / p\": 0.3, \"N / E\": 1.5, \"strat\": \"majority\", \"mean\": 0.7071775257834562, \"std\": 0.21566170872465365, \"stdNorm\": 0.30496120261419496}, {\"q / p\": 0.3, \"N / E\": 1.5, \"strat\": \"max\", \"mean\": 0.6827982155700046, \"std\": 0.21643151043600972, \"stdNorm\": 0.3169772642937141}, {\"q / p\": 0.3, \"N / E\": 1.5, \"strat\": \"min\", \"mean\": 0.6606977308802309, \"std\": 0.2395286924894402, \"stdNorm\": 0.36253899672142387}, {\"q / p\": 0.3, \"N / E\": 1.5, \"strat\": \"weighted\", \"mean\": 0.6861743135559208, \"std\": 0.22537825012828142, \"stdNorm\": 0.32845626202519435}, {\"q / p\": 0.3, \"N / E\": 2.5, \"strat\": \"majority\", \"mean\": 0.6262514906156508, \"std\": 0.1971493845225763, \"stdNorm\": 0.3148086471279519}, {\"q / p\": 0.3, \"N / E\": 2.5, \"strat\": \"max\", \"mean\": 0.5528705993137426, \"std\": 0.21369867795984532, \"stdNorm\": 0.3865256684386933}, {\"q / p\": 0.3, \"N / E\": 2.5, \"strat\": \"min\", \"mean\": 0.5413773852998853, \"std\": 0.22558284597836115, \"stdNorm\": 0.4166831716722042}, {\"q / p\": 0.3, \"N / E\": 2.5, \"strat\": \"weighted\", \"mean\": 0.579768627065086, \"std\": 0.21292513926017606, \"stdNorm\": 0.36725881553482653}, {\"q / p\": 0.3, \"N / E\": 3.5, \"strat\": \"majority\", \"mean\": 0.5812931560958037, \"std\": 0.1786234795401791, \"stdNorm\": 0.30728639700471533}, {\"q / p\": 0.3, \"N / E\": 3.5, \"strat\": \"max\", \"mean\": 0.4556909504856739, \"std\": 0.200554904250322, \"stdNorm\": 0.4401116678673809}, {\"q / p\": 0.3, \"N / E\": 3.5, \"strat\": \"min\", \"mean\": 0.466540007727051, \"std\": 0.20468333174044215, \"stdNorm\": 0.43872621500917885}, {\"q / p\": 0.3, \"N / E\": 3.5, \"strat\": \"weighted\", \"mean\": 0.514669666104879, \"std\": 0.19451707855118303, \"stdNorm\": 0.37794548884787876}, {\"q / p\": 0.3, \"N / E\": 5.0, \"strat\": \"majority\", \"mean\": 0.5402151896300555, \"std\": 0.1556288545151254, \"stdNorm\": 0.28808678005093025}, {\"q / p\": 0.3, \"N / E\": 5.0, \"strat\": \"max\", \"mean\": 0.3579732572569495, \"std\": 0.17408045698518318, \"stdNorm\": 0.48629458613504756}, {\"q / p\": 0.3, \"N / E\": 5.0, \"strat\": \"min\", \"mean\": 0.39263780818159566, \"std\": 0.17596897348795326, \"stdNorm\": 0.4481712403166414}, {\"q / p\": 0.3, \"N / E\": 5.0, \"strat\": \"weighted\", \"mean\": 0.44532213180005564, \"std\": 0.17547881477944405, \"stdNorm\": 0.3940491663195216}, {\"q / p\": 0.3, \"N / E\": 10.0, \"strat\": \"majority\", \"mean\": 0.4790526330625944, \"std\": 0.11739108760251357, \"stdNorm\": 0.24504841326521823}, {\"q / p\": 0.3, \"N / E\": 10.0, \"strat\": \"max\", \"mean\": 0.2053916922256864, \"std\": 0.10403395553005831, \"stdNorm\": 0.5065149150032066}, {\"q / p\": 0.3, \"N / E\": 10.0, \"strat\": \"min\", \"mean\": 0.2749536529124393, \"std\": 0.12193639389136243, \"stdNorm\": 0.4434798105053503}, {\"q / p\": 0.3, \"N / E\": 10.0, \"strat\": \"weighted\", \"mean\": 0.3330955652777486, \"std\": 0.1345423226421393, \"stdNorm\": 0.40391508223759287}, {\"q / p\": 0.4, \"N / E\": 1.0, \"strat\": \"majority\", \"mean\": 0.7153016027972183, \"std\": 0.22632057763263866, \"stdNorm\": 0.3163988123996956}, {\"q / p\": 0.4, \"N / E\": 1.0, \"strat\": \"max\", \"mean\": 0.709260063200291, \"std\": 0.22211137069498807, \"stdNorm\": 0.3131592799583093}, {\"q / p\": 0.4, \"N / E\": 1.0, \"strat\": \"min\", \"mean\": 0.6843525552698485, \"std\": 0.24333672594291317, \"stdNorm\": 0.3555721741215134}, {\"q / p\": 0.4, \"N / E\": 1.0, \"strat\": \"weighted\", \"mean\": 0.705521891544932, \"std\": 0.23095672426298386, \"stdNorm\": 0.3273558581679745}, {\"q / p\": 0.4, \"N / E\": 1.5, \"strat\": \"majority\", \"mean\": 0.6350881825581826, \"std\": 0.22069019694817085, \"stdNorm\": 0.34749536050129964}, {\"q / p\": 0.4, \"N / E\": 1.5, \"strat\": \"max\", \"mean\": 0.6128043790479577, \"std\": 0.22106053951422724, \"stdNorm\": 0.3607359005130856}, {\"q / p\": 0.4, \"N / E\": 1.5, \"strat\": \"min\", \"mean\": 0.5897835101155433, \"std\": 0.24036781476694608, \"stdNorm\": 0.4075526199772118}, {\"q / p\": 0.4, \"N / E\": 1.5, \"strat\": \"weighted\", \"mean\": 0.6117955967096383, \"std\": 0.22560910104538584, \"stdNorm\": 0.3687654868043472}, {\"q / p\": 0.4, \"N / E\": 2.5, \"strat\": \"majority\", \"mean\": 0.5477205644609089, \"std\": 0.19162228340687518, \"stdNorm\": 0.3498540968522488}, {\"q / p\": 0.4, \"N / E\": 2.5, \"strat\": \"max\", \"mean\": 0.4774686081210222, \"std\": 0.20191186412221326, \"stdNorm\": 0.42287987249422565}, {\"q / p\": 0.4, \"N / E\": 2.5, \"strat\": \"min\", \"mean\": 0.4702897476543065, \"std\": 0.20739972019804578, \"stdNorm\": 0.4410041282688094}, {\"q / p\": 0.4, \"N / E\": 2.5, \"strat\": \"weighted\", \"mean\": 0.505158056305866, \"std\": 0.20229239550746766, \"stdNorm\": 0.4004536659017124}, {\"q / p\": 0.4, \"N / E\": 3.5, \"strat\": \"majority\", \"mean\": 0.49703633177621526, \"std\": 0.16966403561240526, \"stdNorm\": 0.34135137567527857}, {\"q / p\": 0.4, \"N / E\": 3.5, \"strat\": \"max\", \"mean\": 0.38470147273782573, \"std\": 0.17806515878015725, \"stdNorm\": 0.4628658099822476}, {\"q / p\": 0.4, \"N / E\": 3.5, \"strat\": \"min\", \"mean\": 0.4001978271595417, \"std\": 0.1804078898542672, \"stdNorm\": 0.4507967750218352}, {\"q / p\": 0.4, \"N / E\": 3.5, \"strat\": \"weighted\", \"mean\": 0.43456684454496997, \"std\": 0.1773852703939228, \"stdNorm\": 0.4081886886231758}, {\"q / p\": 0.4, \"N / E\": 5.0, \"strat\": \"majority\", \"mean\": 0.4520260834256701, \"std\": 0.14595861111849362, \"stdNorm\": 0.32289864782215527}, {\"q / p\": 0.4, \"N / E\": 5.0, \"strat\": \"max\", \"mean\": 0.29862768608607854, \"std\": 0.1461991693886941, \"stdNorm\": 0.48957004390595127}, {\"q / p\": 0.4, \"N / E\": 5.0, \"strat\": \"min\", \"mean\": 0.33436756816524066, \"std\": 0.14998436859290548, \"stdNorm\": 0.44856135245385076}, {\"q / p\": 0.4, \"N / E\": 5.0, \"strat\": \"weighted\", \"mean\": 0.3711787911680962, \"std\": 0.153548549554456, \"stdNorm\": 0.41367813357880745}, {\"q / p\": 0.4, \"N / E\": 10.0, \"strat\": \"majority\", \"mean\": 0.3914800993747207, \"std\": 0.10947592602751592, \"stdNorm\": 0.2796462098644935}, {\"q / p\": 0.4, \"N / E\": 10.0, \"strat\": \"max\", \"mean\": 0.17785121869935414, \"std\": 0.08424225567545224, \"stdNorm\": 0.47366701387556004}, {\"q / p\": 0.4, \"N / E\": 10.0, \"strat\": \"min\", \"mean\": 0.23299536426867304, \"std\": 0.1023976914403908, \"stdNorm\": 0.4394838144604171}, {\"q / p\": 0.4, \"N / E\": 10.0, \"strat\": \"weighted\", \"mean\": 0.26850451229643907, \"std\": 0.11276111942263141, \"stdNorm\": 0.4199598675576033}, {\"q / p\": 0.5, \"N / E\": 1.0, \"strat\": \"majority\", \"mean\": 0.6620455027640806, \"std\": 0.2321024277965306, \"stdNorm\": 0.35058379949337126}, {\"q / p\": 0.5, \"N / E\": 1.0, \"strat\": \"max\", \"mean\": 0.6576434748861939, \"std\": 0.22806047877191238, \"stdNorm\": 0.3467843709866939}, {\"q / p\": 0.5, \"N / E\": 1.0, \"strat\": \"min\", \"mean\": 0.6362143757737964, \"std\": 0.2455231646487608, \"stdNorm\": 0.3859126325936018}, {\"q / p\": 0.5, \"N / E\": 1.0, \"strat\": \"weighted\", \"mean\": 0.6543474703183003, \"std\": 0.23721983261225435, \"stdNorm\": 0.36252884495276083}, {\"q / p\": 0.5, \"N / E\": 1.5, \"strat\": \"majority\", \"mean\": 0.575824732295703, \"std\": 0.2176183561645918, \"stdNorm\": 0.37792464261996717}, {\"q / p\": 0.5, \"N / E\": 1.5, \"strat\": \"max\", \"mean\": 0.5555763865203825, \"std\": 0.2183987794402383, \"stdNorm\": 0.39310306330347583}, {\"q / p\": 0.5, \"N / E\": 1.5, \"strat\": \"min\", \"mean\": 0.5359730447089183, \"std\": 0.2296077876916973, \"stdNorm\": 0.42839428206020147}, {\"q / p\": 0.5, \"N / E\": 1.5, \"strat\": \"weighted\", \"mean\": 0.5572480294859975, \"std\": 0.22314003758517603, \"stdNorm\": 0.400432169838266}, {\"q / p\": 0.5, \"N / E\": 2.5, \"strat\": \"majority\", \"mean\": 0.47983388936260163, \"std\": 0.18135678798517285, \"stdNorm\": 0.37795743903391715}, {\"q / p\": 0.5, \"N / E\": 2.5, \"strat\": \"max\", \"mean\": 0.4190899867362025, \"std\": 0.18612855841743406, \"stdNorm\": 0.44412552031359614}, {\"q / p\": 0.5, \"N / E\": 2.5, \"strat\": \"min\", \"mean\": 0.4185756600004742, \"std\": 0.1898704376303108, \"stdNorm\": 0.45361079435458745}, {\"q / p\": 0.5, \"N / E\": 2.5, \"strat\": \"weighted\", \"mean\": 0.4464741440368658, \"std\": 0.18785714806454026, \"stdNorm\": 0.4207570596720349}, {\"q / p\": 0.5, \"N / E\": 3.5, \"strat\": \"majority\", \"mean\": 0.4312386930616413, \"std\": 0.15868959017604808, \"stdNorm\": 0.3679855094852654}, {\"q / p\": 0.5, \"N / E\": 3.5, \"strat\": \"max\", \"mean\": 0.33836859301213007, \"std\": 0.15943908321912106, \"stdNorm\": 0.47119941540616145}, {\"q / p\": 0.5, \"N / E\": 3.5, \"strat\": \"min\", \"mean\": 0.3543429685541945, \"std\": 0.15847553762734753, \"stdNorm\": 0.4472377094823308}, {\"q / p\": 0.5, \"N / E\": 3.5, \"strat\": \"weighted\", \"mean\": 0.38348296773602697, \"std\": 0.16429928677818814, \"stdNorm\": 0.42843959341444504}, {\"q / p\": 0.5, \"N / E\": 5.0, \"strat\": \"majority\", \"mean\": 0.3858535898139152, \"std\": 0.13383426992912273, \"stdNorm\": 0.3468524680401877}, {\"q / p\": 0.5, \"N / E\": 5.0, \"strat\": \"max\", \"mean\": 0.2607284101464682, \"std\": 0.1250422457120722, \"stdNorm\": 0.479588111022607}, {\"q / p\": 0.5, \"N / E\": 5.0, \"strat\": \"min\", \"mean\": 0.2948833862766643, \"std\": 0.13085340695776976, \"stdNorm\": 0.44374628428541235}, {\"q / p\": 0.5, \"N / E\": 5.0, \"strat\": \"weighted\", \"mean\": 0.3218116320649262, \"std\": 0.13718715941019408, \"stdNorm\": 0.4262964596087573}, {\"q / p\": 0.5, \"N / E\": 10.0, \"strat\": \"majority\", \"mean\": 0.31945151979746056, \"std\": 0.10069624421479562, \"stdNorm\": 0.3152160436695975}, {\"q / p\": 0.5, \"N / E\": 10.0, \"strat\": \"max\", \"mean\": 0.16460697866677645, \"std\": 0.07452660510385445, \"stdNorm\": 0.45275483279917933}, {\"q / p\": 0.5, \"N / E\": 10.0, \"strat\": \"min\", \"mean\": 0.20776515507252497, \"std\": 0.08973241753437233, \"stdNorm\": 0.4318934881214767}, {\"q / p\": 0.5, \"N / E\": 10.0, \"strat\": \"weighted\", \"mean\": 0.23024809211370062, \"std\": 0.0969534663465766, \"stdNorm\": 0.4210826046658369}, {\"q / p\": 0.6, \"N / E\": 1.0, \"strat\": \"majority\", \"mean\": 0.6145660178520616, \"std\": 0.23560809495148327, \"stdNorm\": 0.38337312527455575}, {\"q / p\": 0.6, \"N / E\": 1.0, \"strat\": \"max\", \"mean\": 0.608079625409, \"std\": 0.2324045995244348, \"stdNorm\": 0.38219435385311146}, {\"q / p\": 0.6, \"N / E\": 1.0, \"strat\": \"min\", \"mean\": 0.5920356641604448, \"std\": 0.24665996108933844, \"stdNorm\": 0.4166302404081053}, {\"q / p\": 0.6, \"N / E\": 1.0, \"strat\": \"weighted\", \"mean\": 0.6059377295570539, \"std\": 0.2370150207376227, \"stdNorm\": 0.3911540892343556}, {\"q / p\": 0.6, \"N / E\": 1.5, \"strat\": \"majority\", \"mean\": 0.5252036522875719, \"std\": 0.21208127038900706, \"stdNorm\": 0.4038076838675206}, {\"q / p\": 0.6, \"N / E\": 1.5, \"strat\": \"max\", \"mean\": 0.5060924778039544, \"std\": 0.21225304171834167, \"stdNorm\": 0.4193957646621303}, {\"q / p\": 0.6, \"N / E\": 1.5, \"strat\": \"min\", \"mean\": 0.49280836724708915, \"std\": 0.21962986002924972, \"stdNorm\": 0.44566990868304296}, {\"q / p\": 0.6, \"N / E\": 1.5, \"strat\": \"weighted\", \"mean\": 0.5068391541624895, \"std\": 0.21454031940897902, \"stdNorm\": 0.423290737597985}, {\"q / p\": 0.6, \"N / E\": 2.5, \"strat\": \"majority\", \"mean\": 0.42752461385324886, \"std\": 0.17107539282932444, \"stdNorm\": 0.4001533181620448}, {\"q / p\": 0.6, \"N / E\": 2.5, \"strat\": \"max\", \"mean\": 0.3801002556999749, \"std\": 0.17300136329775756, \"stdNorm\": 0.4551466638168036}, {\"q / p\": 0.6, \"N / E\": 2.5, \"strat\": \"min\", \"mean\": 0.381992465391218, \"std\": 0.17320067978753542, \"stdNorm\": 0.45341386409324}, {\"q / p\": 0.6, \"N / E\": 2.5, \"strat\": \"weighted\", \"mean\": 0.39838883858199703, \"std\": 0.17135102121664936, \"stdNorm\": 0.43010999461367094}, {\"q / p\": 0.6, \"N / E\": 3.5, \"strat\": \"majority\", \"mean\": 0.37664816104661375, \"std\": 0.1459356794669717, \"stdNorm\": 0.38745889283370427}, {\"q / p\": 0.6, \"N / E\": 3.5, \"strat\": \"max\", \"mean\": 0.30377072678897954, \"std\": 0.14273737799749636, \"stdNorm\": 0.46988523056947407}, {\"q / p\": 0.6, \"N / E\": 3.5, \"strat\": \"min\", \"mean\": 0.32013121198828104, \"std\": 0.14347492652214844, \"stdNorm\": 0.4481753766871085}, {\"q / p\": 0.6, \"N / E\": 3.5, \"strat\": \"weighted\", \"mean\": 0.33907536124912724, \"std\": 0.14648905510373403, \"stdNorm\": 0.43202506535443846}, {\"q / p\": 0.6, \"N / E\": 5.0, \"strat\": \"majority\", \"mean\": 0.3348125406512331, \"std\": 0.12350989778095571, \"stdNorm\": 0.3688926870562273}, {\"q / p\": 0.6, \"N / E\": 5.0, \"strat\": \"max\", \"mean\": 0.2418309858462158, \"std\": 0.1120090350985192, \"stdNorm\": 0.4631707335045458}, {\"q / p\": 0.6, \"N / E\": 5.0, \"strat\": \"min\", \"mean\": 0.26787877120592074, \"std\": 0.11839046075925223, \"stdNorm\": 0.44195536744583785}, {\"q / p\": 0.6, \"N / E\": 5.0, \"strat\": \"weighted\", \"mean\": 0.28351625129053315, \"std\": 0.12248827408788208, \"stdNorm\": 0.4320326384478126}, {\"q / p\": 0.6, \"N / E\": 10.0, \"strat\": \"majority\", \"mean\": 0.26779224037329796, \"std\": 0.09059864734710503, \"stdNorm\": 0.3383169251686009}, {\"q / p\": 0.6, \"N / E\": 10.0, \"strat\": \"max\", \"mean\": 0.15717574314884844, \"std\": 0.06906423149908439, \"stdNorm\": 0.43940769813112474}, {\"q / p\": 0.6, \"N / E\": 10.0, \"strat\": \"min\", \"mean\": 0.18785127120405712, \"std\": 0.0819619692530186, \"stdNorm\": 0.4363130934790737}, {\"q / p\": 0.6, \"N / E\": 10.0, \"strat\": \"weighted\", \"mean\": 0.20201756656192593, \"std\": 0.08689980817793944, \"stdNorm\": 0.4301596621366162}, {\"q / p\": 0.7, \"N / E\": 1.0, \"strat\": \"majority\", \"mean\": 0.5746498746097805, \"std\": 0.2337047395461444, \"stdNorm\": 0.4066906648241123}, {\"q / p\": 0.7, \"N / E\": 1.0, \"strat\": \"max\", \"mean\": 0.5700965539221463, \"std\": 0.23136870179134678, \"stdNorm\": 0.405841256537297}, {\"q / p\": 0.7, \"N / E\": 1.0, \"strat\": \"min\", \"mean\": 0.5574737979784165, \"std\": 0.23816283014513426, \"stdNorm\": 0.4272179804840893}, {\"q / p\": 0.7, \"N / E\": 1.0, \"strat\": \"weighted\", \"mean\": 0.5641922086203648, \"std\": 0.23434689788884255, \"stdNorm\": 0.4153671289823333}, {\"q / p\": 0.7, \"N / E\": 1.5, \"strat\": \"majority\", \"mean\": 0.47732130282098933, \"std\": 0.20102264387704866, \"stdNorm\": 0.42114743819099676}, {\"q / p\": 0.7, \"N / E\": 1.5, \"strat\": \"max\", \"mean\": 0.46387736541438884, \"std\": 0.20228509136588255, \"stdNorm\": 0.43607450254697844}, {\"q / p\": 0.7, \"N / E\": 1.5, \"strat\": \"min\", \"mean\": 0.45720410703734377, \"std\": 0.20728191200753251, \"stdNorm\": 0.45336843833426466}, {\"q / p\": 0.7, \"N / E\": 1.5, \"strat\": \"weighted\", \"mean\": 0.46758928563309754, \"std\": 0.20594297785830645, \"stdNorm\": 0.44043562199990904}, {\"q / p\": 0.7, \"N / E\": 2.5, \"strat\": \"majority\", \"mean\": 0.3841408184971652, \"std\": 0.15822175689703324, \"stdNorm\": 0.4118847809926267}, {\"q / p\": 0.7, \"N / E\": 2.5, \"strat\": \"max\", \"mean\": 0.34442238056128727, \"std\": 0.16010349388687445, \"stdNorm\": 0.46484637155681374}, {\"q / p\": 0.7, \"N / E\": 2.5, \"strat\": \"min\", \"mean\": 0.35248511175570935, \"std\": 0.15932516585582446, \"stdNorm\": 0.4520053770845367}, {\"q / p\": 0.7, \"N / E\": 2.5, \"strat\": \"weighted\", \"mean\": 0.3637012820562003, \"std\": 0.16043250051125263, \"stdNorm\": 0.44111062684255836}, {\"q / p\": 0.7, \"N / E\": 3.5, \"strat\": \"majority\", \"mean\": 0.3334708305757342, \"std\": 0.13438444808124933, \"stdNorm\": 0.4029871153924794}, {\"q / p\": 0.7, \"N / E\": 3.5, \"strat\": \"max\", \"mean\": 0.28143628533549914, \"std\": 0.13100368923749806, \"stdNorm\": 0.4654825836737045}, {\"q / p\": 0.7, \"N / E\": 3.5, \"strat\": \"min\", \"mean\": 0.2964959322129697, \"std\": 0.13246704074907598, \"stdNorm\": 0.4467752382313508}, {\"q / p\": 0.7, \"N / E\": 3.5, \"strat\": \"weighted\", \"mean\": 0.30830939667294466, \"std\": 0.13548526172850892, \"stdNorm\": 0.4394457748955086}, {\"q / p\": 0.7, \"N / E\": 5.0, \"strat\": \"majority\", \"mean\": 0.29018993383495345, \"std\": 0.11446340156843039, \"stdNorm\": 0.39444304651012413}, {\"q / p\": 0.7, \"N / E\": 5.0, \"strat\": \"max\", \"mean\": 0.2259991194597964, \"std\": 0.10211440545473523, \"stdNorm\": 0.4518354128937243}, {\"q / p\": 0.7, \"N / E\": 5.0, \"strat\": \"min\", \"mean\": 0.2454499609886985, \"std\": 0.10784469213496922, \"stdNorm\": 0.43937547066847904}, {\"q / p\": 0.7, \"N / E\": 5.0, \"strat\": \"weighted\", \"mean\": 0.25786505419136063, \"std\": 0.11234322082682265, \"stdNorm\": 0.43566671404591795}, {\"q / p\": 0.7, \"N / E\": 10.0, \"strat\": \"majority\", \"mean\": 0.22607509369499354, \"std\": 0.08231171556041755, \"stdNorm\": 0.36409015347558543}, {\"q / p\": 0.7, \"N / E\": 10.0, \"strat\": \"max\", \"mean\": 0.15074285860320646, \"std\": 0.06606203831982589, \"stdNorm\": 0.43824323707246376}, {\"q / p\": 0.7, \"N / E\": 10.0, \"strat\": \"min\", \"mean\": 0.17358769133571406, \"std\": 0.07511132205611155, \"stdNorm\": 0.4326995853113123}, {\"q / p\": 0.7, \"N / E\": 10.0, \"strat\": \"weighted\", \"mean\": 0.1817058671268418, \"std\": 0.07837392613533635, \"stdNorm\": 0.43132303526900734}, {\"q / p\": 0.8, \"N / E\": 1.0, \"strat\": \"majority\", \"mean\": 0.5385122888004804, \"std\": 0.228864794853335, \"stdNorm\": 0.4249945630082543}, {\"q / p\": 0.8, \"N / E\": 1.0, \"strat\": \"max\", \"mean\": 0.5329683245612149, \"std\": 0.22694141374384416, \"stdNorm\": 0.4258065691440138}, {\"q / p\": 0.8, \"N / E\": 1.0, \"strat\": \"min\", \"mean\": 0.5286957098542403, \"std\": 0.23191834464264066, \"stdNorm\": 0.4386612948052478}, {\"q / p\": 0.8, \"N / E\": 1.0, \"strat\": \"weighted\", \"mean\": 0.5332113165919671, \"std\": 0.22917447927419815, \"stdNorm\": 0.4298004789901541}, {\"q / p\": 0.8, \"N / E\": 1.5, \"strat\": \"majority\", \"mean\": 0.4434621922674421, \"std\": 0.19493989780385057, \"stdNorm\": 0.439586285376695}, {\"q / p\": 0.8, \"N / E\": 1.5, \"strat\": \"max\", \"mean\": 0.43247591743122016, \"std\": 0.1953909411088525, \"stdNorm\": 0.45179611912130796}, {\"q / p\": 0.8, \"N / E\": 1.5, \"strat\": \"min\", \"mean\": 0.42822071770593223, \"std\": 0.19671253077570527, \"stdNorm\": 0.45937182075060584}, {\"q / p\": 0.8, \"N / E\": 1.5, \"strat\": \"weighted\", \"mean\": 0.43775844511925893, \"std\": 0.19602781306969663, \"stdNorm\": 0.44779904363990647}, {\"q / p\": 0.8, \"N / E\": 2.5, \"strat\": \"majority\", \"mean\": 0.34883026458254723, \"std\": 0.14983231220916166, \"stdNorm\": 0.4295278461244446}, {\"q / p\": 0.8, \"N / E\": 2.5, \"strat\": \"max\", \"mean\": 0.3234958753435433, \"std\": 0.1488418459746325, \"stdNorm\": 0.4601043083364409}, {\"q / p\": 0.8, \"N / E\": 2.5, \"strat\": \"min\", \"mean\": 0.32823323266872373, \"std\": 0.14662540460293025, \"stdNorm\": 0.44671102743248126}, {\"q / p\": 0.8, \"N / E\": 2.5, \"strat\": \"weighted\", \"mean\": 0.33605485064715906, \"std\": 0.15008276798421122, \"stdNorm\": 0.4466019987367797}, {\"q / p\": 0.8, \"N / E\": 3.5, \"strat\": \"majority\", \"mean\": 0.29900702553093805, \"std\": 0.12489216089494591, \"stdNorm\": 0.4176897204110122}, {\"q / p\": 0.8, \"N / E\": 3.5, \"strat\": \"max\", \"mean\": 0.2654945218383598, \"std\": 0.12032595314489596, \"stdNorm\": 0.453214447935591}, {\"q / p\": 0.8, \"N / E\": 3.5, \"strat\": \"min\", \"mean\": 0.27514643835848335, \"std\": 0.12222220294278738, \"stdNorm\": 0.4442078322800104}, {\"q / p\": 0.8, \"N / E\": 3.5, \"strat\": \"weighted\", \"mean\": 0.2811914593412492, \"std\": 0.12388204276708348, \"stdNorm\": 0.4405611858102075}, {\"q / p\": 0.8, \"N / E\": 5.0, \"strat\": \"majority\", \"mean\": 0.2556614385995832, \"std\": 0.10475805387436032, \"stdNorm\": 0.40975304859499107}, {\"q / p\": 0.8, \"N / E\": 5.0, \"strat\": \"max\", \"mean\": 0.21670452636268647, \"std\": 0.09697631012039458, \"stdNorm\": 0.44750477411851863}, {\"q / p\": 0.8, \"N / E\": 5.0, \"strat\": \"min\", \"mean\": 0.2299151476290519, \"std\": 0.10091867507280287, \"stdNorm\": 0.43893878290971233}, {\"q / p\": 0.8, \"N / E\": 5.0, \"strat\": \"weighted\", \"mean\": 0.23683559016801792, \"std\": 0.1032635531901732, \"stdNorm\": 0.43601366296727234}, {\"q / p\": 0.8, \"N / E\": 10.0, \"strat\": \"majority\", \"mean\": 0.1906788248528538, \"std\": 0.07502653740558188, \"stdNorm\": 0.39347073521918124}, {\"q / p\": 0.8, \"N / E\": 10.0, \"strat\": \"max\", \"mean\": 0.14838901893419776, \"std\": 0.06419759118074705, \"stdNorm\": 0.43263033640794607}, {\"q / p\": 0.8, \"N / E\": 10.0, \"strat\": \"min\", \"mean\": 0.16148990480030187, \"std\": 0.06970221974383732, \"stdNorm\": 0.4316196720162227}, {\"q / p\": 0.8, \"N / E\": 10.0, \"strat\": \"weighted\", \"mean\": 0.1658093969175977, \"std\": 0.07096257670877541, \"stdNorm\": 0.42797680968613433}, {\"q / p\": 0.9, \"N / E\": 1.0, \"strat\": \"majority\", \"mean\": 0.5035987532594037, \"std\": 0.22373712912585572, \"stdNorm\": 0.4442765747090893}, {\"q / p\": 0.9, \"N / E\": 1.0, \"strat\": \"max\", \"mean\": 0.5025611292099504, \"std\": 0.2228653453277814, \"stdNorm\": 0.44345917814642}, {\"q / p\": 0.9, \"N / E\": 1.0, \"strat\": \"min\", \"mean\": 0.5018478903736765, \"std\": 0.22534838470670313, \"stdNorm\": 0.4490372262776844}, {\"q / p\": 0.9, \"N / E\": 1.0, \"strat\": \"weighted\", \"mean\": 0.502761287028801, \"std\": 0.2247209829989967, \"stdNorm\": 0.446973521623043}, {\"q / p\": 0.9, \"N / E\": 1.5, \"strat\": \"majority\", \"mean\": 0.41184774747004904, \"std\": 0.186141221720274, \"stdNorm\": 0.45196610364807405}, {\"q / p\": 0.9, \"N / E\": 1.5, \"strat\": \"max\", \"mean\": 0.405463094643201, \"std\": 0.18553413338158725, \"stdNorm\": 0.4575857478344691}, {\"q / p\": 0.9, \"N / E\": 1.5, \"strat\": \"min\", \"mean\": 0.40309956224893745, \"std\": 0.18693947425673738, \"stdNorm\": 0.4637550912081898}, {\"q / p\": 0.9, \"N / E\": 1.5, \"strat\": \"weighted\", \"mean\": 0.40659198840706656, \"std\": 0.18502739549696479, \"stdNorm\": 0.4550689653818792}, {\"q / p\": 0.9, \"N / E\": 2.5, \"strat\": \"majority\", \"mean\": 0.3166744644832286, \"std\": 0.13997816126869903, \"stdNorm\": 0.4420254140071733}, {\"q / p\": 0.9, \"N / E\": 2.5, \"strat\": \"max\", \"mean\": 0.3073155999040237, \"std\": 0.138893563749932, \"stdNorm\": 0.45195741378995796}, {\"q / p\": 0.9, \"N / E\": 2.5, \"strat\": \"min\", \"mean\": 0.30936360985660805, \"std\": 0.13815375279026176, \"stdNorm\": 0.4465740261251053}, {\"q / p\": 0.9, \"N / E\": 2.5, \"strat\": \"weighted\", \"mean\": 0.31154875994836967, \"std\": 0.13979540088919157, \"stdNorm\": 0.44871114528704487}, {\"q / p\": 0.9, \"N / E\": 3.5, \"strat\": \"majority\", \"mean\": 0.2718360059542879, \"std\": 0.11709319383476222, \"stdNorm\": 0.43074939033077414}, {\"q / p\": 0.9, \"N / E\": 3.5, \"strat\": \"max\", \"mean\": 0.25444828631397565, \"std\": 0.11348192078741386, \"stdNorm\": 0.4459920812647298}, {\"q / p\": 0.9, \"N / E\": 3.5, \"strat\": \"min\", \"mean\": 0.25860197429526205, \"std\": 0.11397913956474788, \"stdNorm\": 0.4407512350799409}, {\"q / p\": 0.9, \"N / E\": 3.5, \"strat\": \"weighted\", \"mean\": 0.26230144511259934, \"std\": 0.11581899180262403, \"stdNorm\": 0.44154919448844776}, {\"q / p\": 0.9, \"N / E\": 5.0, \"strat\": \"majority\", \"mean\": 0.2276885462248064, \"std\": 0.09713405296418963, \"stdNorm\": 0.42660930720812423}, {\"q / p\": 0.9, \"N / E\": 5.0, \"strat\": \"max\", \"mean\": 0.2092182957199263, \"std\": 0.09149948155609698, \"stdNorm\": 0.43733977108094}, {\"q / p\": 0.9, \"N / E\": 5.0, \"strat\": \"min\", \"mean\": 0.21568840686683197, \"std\": 0.09392258588988227, \"stdNorm\": 0.4354549567787894}, {\"q / p\": 0.9, \"N / E\": 5.0, \"strat\": \"weighted\", \"mean\": 0.21798910303168295, \"std\": 0.09517724295824653, \"stdNorm\": 0.43661468226883476}, {\"q / p\": 0.9, \"N / E\": 10.0, \"strat\": \"majority\", \"mean\": 0.16507800512173407, \"std\": 0.06766327569942068, \"stdNorm\": 0.4098866814481039}, {\"q / p\": 0.9, \"N / E\": 10.0, \"strat\": \"max\", \"mean\": 0.14622340886130983, \"std\": 0.0630695592193627, \"stdNorm\": 0.4313232724534757}, {\"q / p\": 0.9, \"N / E\": 10.0, \"strat\": \"min\", \"mean\": 0.15223168981298058, \"std\": 0.06570805576812629, \"stdNorm\": 0.43163191480597657}, {\"q / p\": 0.9, \"N / E\": 10.0, \"strat\": \"weighted\", \"mean\": 0.15471520935178296, \"std\": 0.06657502173320969, \"stdNorm\": 0.43030689750634055}, {\"q / p\": 1.0, \"N / E\": 1.0, \"strat\": \"majority\", \"mean\": 0.4758426021835648, \"std\": 0.21708588384134367, \"stdNorm\": 0.4562136362847119}, {\"q / p\": 1.0, \"N / E\": 1.0, \"strat\": \"max\", \"mean\": 0.4771206348846567, \"std\": 0.21962744651953284, \"stdNorm\": 0.46031848229039074}, {\"q / p\": 1.0, \"N / E\": 1.0, \"strat\": \"min\", \"mean\": 0.4753110320225299, \"std\": 0.21824925979092155, \"stdNorm\": 0.45917145844949897}, {\"q / p\": 1.0, \"N / E\": 1.0, \"strat\": \"weighted\", \"mean\": 0.47678097695756244, \"std\": 0.21909621014765437, \"stdNorm\": 0.4595321976681041}, {\"q / p\": 1.0, \"N / E\": 1.5, \"strat\": \"majority\", \"mean\": 0.38079327926155876, \"std\": 0.17710464657048522, \"stdNorm\": 0.4650939399821598}, {\"q / p\": 1.0, \"N / E\": 1.5, \"strat\": \"max\", \"mean\": 0.3845563373715615, \"std\": 0.17760461335879632, \"stdNorm\": 0.4618428981634316}, {\"q / p\": 1.0, \"N / E\": 1.5, \"strat\": \"min\", \"mean\": 0.38263857305304017, \"std\": 0.17562715589830144, \"stdNorm\": 0.4589896792082082}, {\"q / p\": 1.0, \"N / E\": 1.5, \"strat\": \"weighted\", \"mean\": 0.382631542527385, \"std\": 0.1765857743194489, \"stdNorm\": 0.46150344311149055}, {\"q / p\": 1.0, \"N / E\": 2.5, \"strat\": \"majority\", \"mean\": 0.29231236026594853, \"std\": 0.13181359947187926, \"stdNorm\": 0.45093406023595445}, {\"q / p\": 1.0, \"N / E\": 2.5, \"strat\": \"max\", \"mean\": 0.2928088570954913, \"std\": 0.13162428826990358, \"stdNorm\": 0.449522905746591}, {\"q / p\": 1.0, \"N / E\": 2.5, \"strat\": \"min\", \"mean\": 0.29147068466949805, \"std\": 0.12974778394402894, \"stdNorm\": 0.44514865737235787}, {\"q / p\": 1.0, \"N / E\": 2.5, \"strat\": \"weighted\", \"mean\": 0.291941990374577, \"std\": 0.1303825807002339, \"stdNorm\": 0.44660441114670124}, {\"q / p\": 1.0, \"N / E\": 3.5, \"strat\": \"majority\", \"mean\": 0.24507406661937525, \"std\": 0.1079791656324676, \"stdNorm\": 0.44059808988345606}, {\"q / p\": 1.0, \"N / E\": 3.5, \"strat\": \"max\", \"mean\": 0.246486421279269, \"std\": 0.10713269565364655, \"stdNorm\": 0.4346393407702782}, {\"q / p\": 1.0, \"N / E\": 3.5, \"strat\": \"min\", \"mean\": 0.244577804635773, \"std\": 0.10837411928489808, \"stdNorm\": 0.4431069264289521}, {\"q / p\": 1.0, \"N / E\": 3.5, \"strat\": \"weighted\", \"mean\": 0.24526353228240014, \"std\": 0.10792416681007282, \"stdNorm\": 0.44003348482238813}, {\"q / p\": 1.0, \"N / E\": 5.0, \"strat\": \"majority\", \"mean\": 0.205152921421163, \"std\": 0.0886784379024609, \"stdNorm\": 0.4322553014997576}, {\"q / p\": 1.0, \"N / E\": 5.0, \"strat\": \"max\", \"mean\": 0.20479721155776512, \"std\": 0.08943632635486895, \"stdNorm\": 0.4367067582345599}, {\"q / p\": 1.0, \"N / E\": 5.0, \"strat\": \"min\", \"mean\": 0.20412471982803318, \"std\": 0.08970475820393568, \"stdNorm\": 0.43946053314614864}, {\"q / p\": 1.0, \"N / E\": 5.0, \"strat\": \"weighted\", \"mean\": 0.20527351651256473, \"std\": 0.08887037561000821, \"stdNorm\": 0.43293639198979905}, {\"q / p\": 1.0, \"N / E\": 10.0, \"strat\": \"majority\", \"mean\": 0.14466666645434473, \"std\": 0.062185627979139506, \"stdNorm\": 0.42985457191525617}, {\"q / p\": 1.0, \"N / E\": 10.0, \"strat\": \"max\", \"mean\": 0.14366875574685367, \"std\": 0.06166394666149336, \"stdNorm\": 0.4292091647967362}, {\"q / p\": 1.0, \"N / E\": 10.0, \"strat\": \"min\", \"mean\": 0.1444105247911556, \"std\": 0.06206354617930539, \"stdNorm\": 0.4297716268884196}, {\"q / p\": 1.0, \"N / E\": 10.0, \"strat\": \"weighted\", \"mean\": 0.14398832599152214, \"std\": 0.06145361279538099, \"stdNorm\": 0.42679580009145535}]}, {\"name\": \"facet_domain\"}, {\"name\": \"facet_domain_row\", \"values\": [{\"data\": 0.0}]}, {\"name\": \"facet_domain_column\", \"values\": [{\"data\": 0.0}, {\"data\": 1.0}, {\"data\": 2.0}, {\"data\": 3.0}]}, {\"name\": \"source_0_x_domain_q / p\", \"values\": [{\"min\": 0.0, \"max\": 1.0}]}, {\"name\": \"source_0_y_domain_mean\", \"values\": [{\"min\": 0.14366875574685367, \"max\": 1.0}]}, {\"name\": \"source_0_color_domain_N / E\", \"values\": [{\"N / E\": 1.0}, {\"N / E\": 1.5}, {\"N / E\": 2.5}, {\"N / E\": 3.5}, {\"N / E\": 5.0}, {\"N / E\": 10.0}]}], \"signals\": [{\"name\": \"child_width\", \"value\": 300}, {\"name\": \"child_height\", \"value\": 300}], \"marks\": [{\"type\": \"group\", \"name\": \"facet-title\", \"title\": {\"text\": \"Strategy\", \"offset\": 10, \"fontSize\": 20, \"style\": \"guide-title\"}, \"role\": \"column-title\"}, {\"type\": \"group\", \"name\": \"row_header\", \"from\": {\"data\": \"facet_domain_row\"}, \"encode\": {\"update\": {\"height\": {\"signal\": \"child_height\"}}}, \"axes\": [{\"scale\": \"y\", \"tickCount\": {\"signal\": \"ceil(child_height/40)\"}, \"title\": \"mean\", \"zindex\": 0, \"orient\": \"left\", \"grid\": false, \"labelOverlap\": true}], \"role\": \"row-header\"}, {\"type\": \"group\", \"name\": \"column_footer\", \"from\": {\"data\": \"facet_domain_column\"}, \"encode\": {\"update\": {\"width\": {\"signal\": \"child_width\"}}}, \"axes\": [{\"scale\": \"x\", \"tickCount\": {\"signal\": \"ceil(child_width/40)\"}, \"zindex\": 0, \"title\": \"q / p\", \"orient\": \"bottom\", \"labelFlush\": true, \"grid\": false, \"labelOverlap\": true}], \"role\": \"column-footer\"}, {\"type\": \"group\", \"name\": \"cell\", \"from\": {\"facet\": {\"data\": \"source_0\", \"name\": \"facet\", \"groupby\": [\"strat\"]}}, \"sort\": {\"field\": [\"datum[\\\"strat\\\"]\"], \"order\": [\"ascending\"]}, \"encode\": {\"update\": {\"height\": {\"signal\": \"child_height\"}, \"width\": {\"signal\": \"child_width\"}}}, \"marks\": [{\"type\": \"group\", \"name\": \"child_pathgroup\", \"from\": {\"facet\": {\"data\": \"facet\", \"name\": \"faceted_path_child_main\", \"groupby\": [\"N / E\"]}}, \"encode\": {\"update\": {\"width\": {\"field\": {\"signal\": null, \"datum\": null, \"group\": \"width\", \"parent\": null}}, \"height\": {\"field\": {\"signal\": null, \"datum\": null, \"group\": \"height\", \"parent\": null}}}}, \"marks\": [{\"type\": \"line\", \"name\": \"child_marks\", \"from\": {\"data\": \"faceted_path_child_main\"}, \"sort\": {\"field\": \"datum[\\\"q / p\\\"]\"}, \"encode\": {\"update\": {\"y\": {\"field\": \"mean\", \"scale\": \"y\"}, \"defined\": {\"signal\": \"isValid(datum[\\\"q / p\\\"]) && isFinite(+datum[\\\"q / p\\\"]) && isValid(datum[\\\"mean\\\"]) && isFinite(+datum[\\\"mean\\\"])\"}, \"x\": {\"field\": \"q / p\", \"scale\": \"x\"}, \"stroke\": {\"field\": \"N / E\", \"scale\": \"color\"}, \"description\": {\"signal\": \"\\\"q / p: \\\" + (format(datum[\\\"q / p\\\"], \\\"\\\")) + \\\"; mean: \\\" + (format(datum[\\\"mean\\\"], \\\"\\\")) + \\\"; N / E: \\\" + (isValid(datum[\\\"N / E\\\"]) ? datum[\\\"N / E\\\"] : \\\"\\\"+datum[\\\"N / E\\\"])\"}}}, \"style\": [\"line\"]}]}], \"title\": {\"text\": {\"signal\": \"isValid(parent[\\\"strat\\\"]) ? parent[\\\"strat\\\"] : \\\"\\\"+parent[\\\"strat\\\"]\"}, \"style\": \"guide-label\", \"fontSize\": 18, \"offset\": 10, \"frame\": \"group\"}, \"style\": \"cell\"}], \"scales\": [{\"name\": \"x\", \"type\": \"linear\", \"domain\": [{\"signal\": \"(data(\\\"source_0_x_domain_q / p\\\")[0] || {}).min\"}, {\"signal\": \"(data(\\\"source_0_x_domain_q / p\\\")[0] || {}).max\"}], \"range\": [0, {\"signal\": \"child_width\"}], \"zero\": false, \"nice\": true}, {\"name\": \"y\", \"type\": \"linear\", \"domain\": [{\"signal\": \"(data(\\\"source_0_y_domain_mean\\\")[0] || {}).min\"}, {\"signal\": \"(data(\\\"source_0_y_domain_mean\\\")[0] || {}).max\"}], \"range\": [{\"signal\": \"child_height\"}, 0], \"nice\": true, \"zero\": true}, {\"name\": \"color\", \"type\": \"ordinal\", \"domain\": {\"data\": \"source_0_color_domain_N / E\", \"field\": \"N / E\", \"sort\": true}, \"range\": {\"scheme\": \"blues\"}, \"interpolate\": \"hcl\"}], \"layout\": {\"padding\": 20, \"bounds\": \"full\", \"align\": \"all\"}, \"config\": {\"mark\": {\"fill\": \"#9ebcda\"}, \"axisX\": {\"labelFont\": \"monospace\", \"labelFontSize\": 16, \"titleFontSize\": 20, \"grid\": false}, \"axisY\": {\"domain\": false, \"grid\": false, \"labelFont\": \"monospace\", \"labelFontSize\": 16, \"titleFontSize\": 20, \"titleAngle\": 0, \"titleX\": -60}, \"legend\": {\"titleFontSize\": 20, \"labelFontSize\": 16}, \"style\": {\"cell\": {\"height\": 300, \"width\": 300}, \"line\": {\"fill\": null, \"stroke\": \"black\"}, \"group-title\": {\"fontSize\": 18, \"font\": \"monospace\", \"fontColor\": \"#000000\"}}}, \"legends\": [{\"stroke\": \"color\", \"symbolType\": \"stroke\", \"title\": \"N / E\", \"encode\": {\"symbols\": {\"update\": {\"fill\": {\"value\": null}}}}}], \"padding\": 5, \"background\": \"white\"}, {\"mode\": \"vega\"});\n",
       "</script>"
      ],
      "text/plain": [
       "alt.FacetChart(...)"
      ]
     },
     "execution_count": 300,
     "metadata": {},
     "output_type": "execute_result"
    }
   ],
   "source": [
    "alt.Chart(df_fraction2_var).mark_line().encode(\n",
    "    x=\"q / p\",\n",
    "    y=alt.Y(\n",
    "        \"mean\",\n",
    "        # \"std\",\n",
    "        title=\"mean\"\n",
    "    ),\n",
    "    color=alt.Color(\"N / E:O\", scale=alt.Scale(scheme=\"blues\")),\n",
    "    # strokeDash=alt.StrokeDash(\"N / E:O\", legend=alt.Legend(symbolSize=750))\n",
    ").facet(\n",
    "    facet=alt.Facet(\"strat\", header=alt.Header(title=\"Strategy\", labelFontSize=18, titleFontSize=20))\n",
    "       ).configure_axisY(\n",
    "    titleAngle=0,\n",
    "    titleX=-60,\n",
    ")"
   ]
  },
  {
   "cell_type": "code",
   "execution_count": 79,
   "id": "78f822c0-2b31-402f-9d5a-ec73f105e87b",
   "metadata": {},
   "outputs": [],
   "source": [
    "# df_fraction2_max = (df_fraction2_var\n",
    "#     .groupby([\"N / E\", \"strat\"])\n",
    "#     ['stdNorm']\n",
    "#     .agg(['max'])\n",
    "#     # .assign(max = lambda df: df['std'] / df['mean'])\n",
    "#     .reset_index())"
   ]
  },
  {
   "cell_type": "code",
   "execution_count": 80,
   "id": "a0330601-4771-4ada-9df8-fb2eba7da698",
   "metadata": {},
   "outputs": [],
   "source": [
    "# # Tracer en fct de E / N en faisant varier N\n",
    "# alt.Chart(df_fraction2_max).mark_line().encode(\n",
    "#     x=\"N / E\",\n",
    "#     y=alt.Y(\n",
    "#         \"max\",\n",
    "#         # title=\"Hyperedge Purity\"\n",
    "#         # title=\"max(n1, n2) / n1 + n2\"\n",
    "#         title=\"gini*\",\n",
    "#     )\n",
    "# ).facet(\"strat\")"
   ]
  },
  {
   "cell_type": "code",
   "execution_count": 505,
   "id": "672a557c-fafa-4cbe-b35f-25554388a506",
   "metadata": {},
   "outputs": [],
   "source": [
    "# Pour quelques valeurs de q /p, tracer la distribution de la valeur\n",
    "# Tracer la variance de la quantite vs q/p"
   ]
  },
  {
   "cell_type": "code",
   "execution_count": 506,
   "id": "1250b9ba-5eb6-4498-98f1-122a520d477e",
   "metadata": {},
   "outputs": [
    {
     "data": {
      "text/html": [
       "<div>\n",
       "<style scoped>\n",
       "    .dataframe tbody tr th:only-of-type {\n",
       "        vertical-align: middle;\n",
       "    }\n",
       "\n",
       "    .dataframe tbody tr th {\n",
       "        vertical-align: top;\n",
       "    }\n",
       "\n",
       "    .dataframe thead th {\n",
       "        text-align: right;\n",
       "    }\n",
       "</style>\n",
       "<table border=\"1\" class=\"dataframe\">\n",
       "  <thead>\n",
       "    <tr style=\"text-align: right;\">\n",
       "      <th></th>\n",
       "      <th>q</th>\n",
       "      <th>gini</th>\n",
       "      <th>strat</th>\n",
       "      <th>q / p</th>\n",
       "      <th>N / E</th>\n",
       "    </tr>\n",
       "  </thead>\n",
       "  <tbody>\n",
       "    <tr>\n",
       "      <th>0</th>\n",
       "      <td>0.0000</td>\n",
       "      <td>1.000000</td>\n",
       "      <td>weighted</td>\n",
       "      <td>0.00</td>\n",
       "      <td>1.0</td>\n",
       "    </tr>\n",
       "    <tr>\n",
       "      <th>1</th>\n",
       "      <td>0.0000</td>\n",
       "      <td>1.000000</td>\n",
       "      <td>weighted</td>\n",
       "      <td>0.00</td>\n",
       "      <td>1.0</td>\n",
       "    </tr>\n",
       "    <tr>\n",
       "      <th>2</th>\n",
       "      <td>0.0000</td>\n",
       "      <td>1.000000</td>\n",
       "      <td>weighted</td>\n",
       "      <td>0.00</td>\n",
       "      <td>1.0</td>\n",
       "    </tr>\n",
       "    <tr>\n",
       "      <th>3</th>\n",
       "      <td>0.0000</td>\n",
       "      <td>1.000000</td>\n",
       "      <td>weighted</td>\n",
       "      <td>0.00</td>\n",
       "      <td>1.0</td>\n",
       "    </tr>\n",
       "    <tr>\n",
       "      <th>4</th>\n",
       "      <td>0.0000</td>\n",
       "      <td>1.000000</td>\n",
       "      <td>weighted</td>\n",
       "      <td>0.00</td>\n",
       "      <td>1.0</td>\n",
       "    </tr>\n",
       "    <tr>\n",
       "      <th>...</th>\n",
       "      <td>...</td>\n",
       "      <td>...</td>\n",
       "      <td>...</td>\n",
       "      <td>...</td>\n",
       "      <td>...</td>\n",
       "    </tr>\n",
       "    <tr>\n",
       "      <th>6237590</th>\n",
       "      <td>0.0015</td>\n",
       "      <td>0.833333</td>\n",
       "      <td>frequent</td>\n",
       "      <td>0.05</td>\n",
       "      <td>10.0</td>\n",
       "    </tr>\n",
       "    <tr>\n",
       "      <th>6237591</th>\n",
       "      <td>0.0015</td>\n",
       "      <td>0.955556</td>\n",
       "      <td>frequent</td>\n",
       "      <td>0.05</td>\n",
       "      <td>10.0</td>\n",
       "    </tr>\n",
       "    <tr>\n",
       "      <th>6237592</th>\n",
       "      <td>0.0015</td>\n",
       "      <td>0.925926</td>\n",
       "      <td>frequent</td>\n",
       "      <td>0.05</td>\n",
       "      <td>10.0</td>\n",
       "    </tr>\n",
       "    <tr>\n",
       "      <th>6237593</th>\n",
       "      <td>0.0015</td>\n",
       "      <td>0.789474</td>\n",
       "      <td>frequent</td>\n",
       "      <td>0.05</td>\n",
       "      <td>10.0</td>\n",
       "    </tr>\n",
       "    <tr>\n",
       "      <th>6237594</th>\n",
       "      <td>0.0015</td>\n",
       "      <td>0.964912</td>\n",
       "      <td>frequent</td>\n",
       "      <td>0.05</td>\n",
       "      <td>10.0</td>\n",
       "    </tr>\n",
       "  </tbody>\n",
       "</table>\n",
       "<p>6237595 rows × 5 columns</p>\n",
       "</div>"
      ],
      "text/plain": [
       "              q      gini     strat  q / p  N / E\n",
       "0        0.0000  1.000000  weighted   0.00    1.0\n",
       "1        0.0000  1.000000  weighted   0.00    1.0\n",
       "2        0.0000  1.000000  weighted   0.00    1.0\n",
       "3        0.0000  1.000000  weighted   0.00    1.0\n",
       "4        0.0000  1.000000  weighted   0.00    1.0\n",
       "...         ...       ...       ...    ...    ...\n",
       "6237590  0.0015  0.833333  frequent   0.05   10.0\n",
       "6237591  0.0015  0.955556  frequent   0.05   10.0\n",
       "6237592  0.0015  0.925926  frequent   0.05   10.0\n",
       "6237593  0.0015  0.789474  frequent   0.05   10.0\n",
       "6237594  0.0015  0.964912  frequent   0.05   10.0\n",
       "\n",
       "[6237595 rows x 5 columns]"
      ]
     },
     "execution_count": 506,
     "metadata": {},
     "output_type": "execute_result"
    }
   ],
   "source": [
    "df_fraction2"
   ]
  },
  {
   "cell_type": "code",
   "execution_count": 101,
   "id": "c21f5b6f-6db2-45e0-b1e9-fe6992c7bdff",
   "metadata": {},
   "outputs": [
    {
     "data": {
      "text/html": [
       "<div>\n",
       "<style scoped>\n",
       "    .dataframe tbody tr th:only-of-type {\n",
       "        vertical-align: middle;\n",
       "    }\n",
       "\n",
       "    .dataframe tbody tr th {\n",
       "        vertical-align: top;\n",
       "    }\n",
       "\n",
       "    .dataframe thead th {\n",
       "        text-align: right;\n",
       "    }\n",
       "</style>\n",
       "<table border=\"1\" class=\"dataframe\">\n",
       "  <thead>\n",
       "    <tr style=\"text-align: right;\">\n",
       "      <th></th>\n",
       "      <th>q</th>\n",
       "      <th>gini</th>\n",
       "      <th>strat</th>\n",
       "      <th>q / p</th>\n",
       "      <th>N / E</th>\n",
       "    </tr>\n",
       "  </thead>\n",
       "  <tbody>\n",
       "    <tr>\n",
       "      <th>799614</th>\n",
       "      <td>0.006</td>\n",
       "      <td>0.833333</td>\n",
       "      <td>weighted</td>\n",
       "      <td>0.2</td>\n",
       "      <td>1.0</td>\n",
       "    </tr>\n",
       "    <tr>\n",
       "      <th>799615</th>\n",
       "      <td>0.006</td>\n",
       "      <td>1.000000</td>\n",
       "      <td>weighted</td>\n",
       "      <td>0.2</td>\n",
       "      <td>1.0</td>\n",
       "    </tr>\n",
       "    <tr>\n",
       "      <th>799616</th>\n",
       "      <td>0.006</td>\n",
       "      <td>1.000000</td>\n",
       "      <td>weighted</td>\n",
       "      <td>0.2</td>\n",
       "      <td>1.0</td>\n",
       "    </tr>\n",
       "    <tr>\n",
       "      <th>799617</th>\n",
       "      <td>0.006</td>\n",
       "      <td>0.866667</td>\n",
       "      <td>weighted</td>\n",
       "      <td>0.2</td>\n",
       "      <td>1.0</td>\n",
       "    </tr>\n",
       "    <tr>\n",
       "      <th>799618</th>\n",
       "      <td>0.006</td>\n",
       "      <td>0.833333</td>\n",
       "      <td>weighted</td>\n",
       "      <td>0.2</td>\n",
       "      <td>1.0</td>\n",
       "    </tr>\n",
       "    <tr>\n",
       "      <th>...</th>\n",
       "      <td>...</td>\n",
       "      <td>...</td>\n",
       "      <td>...</td>\n",
       "      <td>...</td>\n",
       "      <td>...</td>\n",
       "    </tr>\n",
       "    <tr>\n",
       "      <th>1119436</th>\n",
       "      <td>0.006</td>\n",
       "      <td>1.000000</td>\n",
       "      <td>majority</td>\n",
       "      <td>0.2</td>\n",
       "      <td>1.0</td>\n",
       "    </tr>\n",
       "    <tr>\n",
       "      <th>1119437</th>\n",
       "      <td>0.006</td>\n",
       "      <td>1.000000</td>\n",
       "      <td>majority</td>\n",
       "      <td>0.2</td>\n",
       "      <td>1.0</td>\n",
       "    </tr>\n",
       "    <tr>\n",
       "      <th>1119438</th>\n",
       "      <td>0.006</td>\n",
       "      <td>0.833333</td>\n",
       "      <td>majority</td>\n",
       "      <td>0.2</td>\n",
       "      <td>1.0</td>\n",
       "    </tr>\n",
       "    <tr>\n",
       "      <th>1119439</th>\n",
       "      <td>0.006</td>\n",
       "      <td>0.666667</td>\n",
       "      <td>majority</td>\n",
       "      <td>0.2</td>\n",
       "      <td>1.0</td>\n",
       "    </tr>\n",
       "    <tr>\n",
       "      <th>1119440</th>\n",
       "      <td>0.006</td>\n",
       "      <td>1.000000</td>\n",
       "      <td>majority</td>\n",
       "      <td>0.2</td>\n",
       "      <td>1.0</td>\n",
       "    </tr>\n",
       "  </tbody>\n",
       "</table>\n",
       "<p>79830 rows × 5 columns</p>\n",
       "</div>"
      ],
      "text/plain": [
       "             q      gini     strat  q / p  N / E\n",
       "799614   0.006  0.833333  weighted    0.2    1.0\n",
       "799615   0.006  1.000000  weighted    0.2    1.0\n",
       "799616   0.006  1.000000  weighted    0.2    1.0\n",
       "799617   0.006  0.866667  weighted    0.2    1.0\n",
       "799618   0.006  0.833333  weighted    0.2    1.0\n",
       "...        ...       ...       ...    ...    ...\n",
       "1119436  0.006  1.000000  majority    0.2    1.0\n",
       "1119437  0.006  1.000000  majority    0.2    1.0\n",
       "1119438  0.006  0.833333  majority    0.2    1.0\n",
       "1119439  0.006  0.666667  majority    0.2    1.0\n",
       "1119440  0.006  1.000000  majority    0.2    1.0\n",
       "\n",
       "[79830 rows x 5 columns]"
      ]
     },
     "execution_count": 101,
     "metadata": {},
     "output_type": "execute_result"
    }
   ],
   "source": [
    "df_fraction2[(df_fraction2[\"q / p\"].isin([0.2])) & (df_fraction2[\"N / E\"].isin([1]))]"
   ]
  },
  {
   "cell_type": "code",
   "execution_count": null,
   "id": "1ad2ff52-e33a-4887-85ed-29d74cee1977",
   "metadata": {
    "tags": []
   },
   "outputs": [],
   "source": [
    "alt.Chart(df_fraction2[(df_fraction2[\"q / p\"].isin([0.2])) & (df_fraction2[\"N / E\"].isin([10, 1, 2.5]))]).transform_density(\n",
    "    'gini',\n",
    "    groupby=['N / E', \"strat\"],\n",
    "    as_=['value', 'density'],\n",
    ").mark_line().encode(\n",
    "    x=alt.X(\"value:Q\", title=\"G\"),\n",
    "    y=alt.Y('density:Q', title=\"P(G)\"),\n",
    "    color=alt.Color(\"N / E:O\", scale=alt.Scale(scheme=\"blues\"))\n",
    ").facet(facet=alt.Facet(\"strat\", header=alt.Header(title=\"Strategy\", labelFontSize=18, titleFontSize=20))\n",
    "       ).configure_axisY(\n",
    "    titleAngle=0,\n",
    "    titleX=-60,\n",
    ")"
   ]
  },
  {
   "cell_type": "code",
   "execution_count": null,
   "id": "82b21d51-9a21-4aef-a6dd-cb96edaf77a2",
   "metadata": {
    "tags": []
   },
   "outputs": [],
   "source": [
    "alt.Chart(df_fraction2[(df_fraction2[\"q / p\"].isin([0.05, 0.1, 0.2, 0.3, 0.4])) & (df_fraction2[\"N / E\"].isin([10])) & (df_fraction2[\"strat\"] == \"max\")]).transform_density(\n",
    "    'gini',\n",
    "    groupby=['q / p'],\n",
    "    as_=['value', 'density'],\n",
    ").mark_line().encode(\n",
    "    x=alt.X(\"value:Q\", title=\"G\"),\n",
    "    y=alt.Y('density:Q', title=\"P(G)\"),\n",
    "    color=alt.Color(\"q / p:N\", scale=alt.Scale(scheme=\"purples\",  domainMax=1, domainMin=0.1))\n",
    ").configure_axisY(\n",
    "    titleAngle=0,\n",
    "    titleX=-60,\n",
    ")"
   ]
  },
  {
   "cell_type": "code",
   "execution_count": 162,
   "id": "e18ea678-775f-483f-9aaa-ea9d398e3f52",
   "metadata": {},
   "outputs": [],
   "source": [
    "# gini_plot = alt.Chart(df_fraction2[(df_fraction2.N_nodes == 1000) & (~df_fraction2[\"q / p\"].isin([0, 0.01]))]).transform_density(\n",
    "# gini_plot = alt.Chart(df_fraction2[(df_fraction2[\"N / E\"] == 5) & (~df_fraction2[\"q / p\"].isin([0, 0.01]))]).transform_density(\n",
    "gini_plot = alt.Chart(df_fraction2[(df_fraction2[\"N / E\"] == 10) & (~df_fraction2[\"q / p\"].isin([0, 0.01]))]).transform_density(\n",
    "    'gini',\n",
    "    groupby=['q / p', \"strat\"],\n",
    "    as_=['gini', 'density'],\n",
    "    # counts=True\n",
    ").mark_line().encode(\n",
    "    x=alt.X(\"gini:Q\", title=\"G\"),\n",
    "    y=alt.Y('density:Q', title=\"P(G)\", scale=alt.Scale(domainMax=8)),\n",
    "    color=alt.Color(\"q / p:N\",  scale=alt.Scale(scheme=\"purples\"))\n",
    ")"
   ]
  },
  {
   "cell_type": "code",
   "execution_count": null,
   "id": "86878a9b-bda8-41cb-beae-4a666bb05c86",
   "metadata": {
    "scrolled": true
   },
   "outputs": [],
   "source": [
    "gini_plot.facet(facet=alt.Facet(\"strat\", header=alt.Header(title=\"Strategy\", labelFontSize=18, titleFontSize=20))).configure_axisY(\n",
    "    titleAngle=0,\n",
    "    titleX=-60,\n",
    ")"
   ]
  },
  {
   "cell_type": "code",
   "execution_count": 244,
   "id": "1f2ee357-a5f7-4052-b51b-326fa094c614",
   "metadata": {},
   "outputs": [],
   "source": [
    "gini_plot = alt.Chart(df_fraction2[\"q / p\"].isin([0.2])).transform_density(\n",
    "    'gini',\n",
    "    groupby=['q / p', \"strat\"],\n",
    "    as_=['gini', 'density'],\n",
    "    counts=True\n",
    ").mark_line().encode(\n",
    "    x=alt.X(\"gini:Q\", title=\"gini\"),\n",
    "    y='density:Q',\n",
    "    color=alt.Color(\"strat\",  scale=alt.Scale(scheme=\"greys\"))\n",
    ")"
   ]
  },
  {
   "cell_type": "markdown",
   "id": "b22d82b6-bcf1-4353-b9e6-f45dab3ead67",
   "metadata": {},
   "source": [
    "# Distrib effectives"
   ]
  },
  {
   "cell_type": "code",
   "execution_count": null,
   "id": "c600c620-e040-4919-b7f6-5ca4248ddb5c",
   "metadata": {},
   "outputs": [],
   "source": [
    "df_fits"
   ]
  },
  {
   "cell_type": "markdown",
   "id": "57817257-8c32-4f33-a0ec-575438f34a49",
   "metadata": {},
   "source": [
    "## Degree distrib fit"
   ]
  },
  {
   "cell_type": "code",
   "execution_count": null,
   "id": "f58a39ba-f89c-4906-bf0d-1bd5a99c5f79",
   "metadata": {},
   "outputs": [],
   "source": [
    "points = alt.Chart(df_fits).mark_point().encode(\n",
    "    x=alt.X('q', sort=q_frac_order),\n",
    "    # x=alt.X('q', sort=q_frac_order, axis=alt.Axis(labelExpr=q_frac_order)),\n",
    "    y=alt.Y('peff', title=\"p_eff\"),\n",
    ").properties(\n",
    "    width=800,\n",
    "    height=300\n",
    ")"
   ]
  },
  {
   "cell_type": "code",
   "execution_count": null,
   "id": "45b375da-2f25-4294-a2d1-fd1d798ce088",
   "metadata": {},
   "outputs": [],
   "source": [
    "regresssion = points.transform_regression('q', 'peff', method=\"poly\").mark_line(color=\"black\")"
   ]
  },
  {
   "cell_type": "code",
   "execution_count": null,
   "id": "64c4a344-3d48-4a7a-ba48-d56835f494e3",
   "metadata": {},
   "outputs": [],
   "source": [
    "line = alt.Chart(pd.DataFrame({'y': [p]})).mark_rule().encode(y='y')"
   ]
  },
  {
   "cell_type": "code",
   "execution_count": null,
   "id": "33eb8ac3-10c4-4301-9c59-fb6fef6d595e",
   "metadata": {
    "tags": []
   },
   "outputs": [],
   "source": [
    "# points + regresssion + line\n",
    "# Pour plusieurs valeur de N\n",
    "points + line"
   ]
  },
  {
   "cell_type": "markdown",
   "id": "440aefaa-a6b8-4a78-858a-43e54dc3a582",
   "metadata": {},
   "source": [
    "### Normalize"
   ]
  },
  {
   "cell_type": "code",
   "execution_count": 173,
   "id": "9256a438-99ed-494a-9f3d-1afc584650b0",
   "metadata": {},
   "outputs": [],
   "source": [
    "df_fits[\"peff / p\"] = df_fits[\"peff\"] / df_fits[\"p\"] \n",
    "df_fits[\"p_h_eff / p\"] = df_fits[\"p_hsize_eff\"] / df_fits[\"p\"] \n",
    "df_fits[\"q / p\"] = df_fits[\"q\"] / df_fits[\"p\"] \n",
    "\n",
    "df_fits[\"Neff / Nedges\"] = df_fits[\"Neff\"] / N_edges\n",
    "df_fits[\"NeffHsize / N\"] = df_fits[\"n_eff_hsize\"] / N"
   ]
  },
  {
   "cell_type": "code",
   "execution_count": 174,
   "id": "3230d458-65bd-4590-a784-1379e5cd0433",
   "metadata": {
    "tags": []
   },
   "outputs": [],
   "source": [
    "df_fits2[\"q / p\"] = df_fits2[\"q\"] / df_fits2[\"p\"] \n",
    "df_fits2[\"peff / p\"] = df_fits2[\"peff\"] / df_fits2[\"p\"] \n",
    "df_fits2[\"neff / Nedges\"] = df_fits2[\"Neff\"] / N_edges\n",
    "df_fits2[\"neff / N\"] = df_fits2[\"Neff\"] / N"
   ]
  },
  {
   "cell_type": "markdown",
   "id": "ae9604e6-a285-415a-a8bc-0ea8e3d46260",
   "metadata": {
    "jp-MarkdownHeadingCollapsed": true,
    "tags": []
   },
   "source": [
    "## Old"
   ]
  },
  {
   "cell_type": "code",
   "execution_count": null,
   "id": "a7298dd6-7a46-4819-934a-800ed6dcfe1b",
   "metadata": {},
   "outputs": [],
   "source": [
    "points = alt.Chart(df_fits).mark_point().encode(\n",
    "    x=alt.X('q / p', sort=q_frac_order),\n",
    "    # x=alt.X('q', sort=q_frac_order, axis=alt.Axis(labelExpr=q_frac_order)),\n",
    "    y=alt.Y('peff / p'),\n",
    ").properties(\n",
    "    width=800,\n",
    "    height=300\n",
    ")\n",
    "\n",
    "points"
   ]
  },
  {
   "cell_type": "code",
   "execution_count": null,
   "id": "3aad3714-8bac-430c-b420-c51d475e21a3",
   "metadata": {
    "tags": []
   },
   "outputs": [],
   "source": [
    "points_Neff = alt.Chart(df_fits).mark_point().encode(\n",
    "    x=alt.X('q / p', sort=q_frac_order),\n",
    "    # x=alt.X('q', sort=q_frac_order, axis=alt.Axis(labelExpr=q_frac_order)),\n",
    "    y=alt.Y('Neff / Nedges'),\n",
    ").properties(\n",
    "    width=800,\n",
    "    height=300\n",
    ")\n",
    "\n",
    "points_Neff"
   ]
  },
  {
   "cell_type": "code",
   "execution_count": null,
   "id": "9a1cbece-85de-46da-98fc-8cdaac1a1e9d",
   "metadata": {},
   "outputs": [],
   "source": [
    "alt.Chart(df_fits).mark_line().encode(\n",
    "    x=alt.X('peff / p', sort=q_frac_order),\n",
    "    # x=alt.X('q', sort=q_frac_order, axis=alt.Axis(labelExpr=q_frac_order)),\n",
    "    y=alt.Y('Neff / Nedges'),\n",
    ").properties(\n",
    "    width=800,\n",
    "    height=300\n",
    ")"
   ]
  },
  {
   "cell_type": "code",
   "execution_count": null,
   "id": "2c5e4ec8-5b85-41be-91d1-acb2648f2655",
   "metadata": {},
   "outputs": [],
   "source": [
    "alt.Chart(df_fits).mark_point().encode(\n",
    "    x=alt.X('q / p', sort=q_frac_order),\n",
    "    # x=alt.X('q', sort=q_frac_order, axis=alt.Axis(labelExpr=q_frac_order)),\n",
    "    y=alt.Y('Neffpfixed'),\n",
    ").properties(\n",
    "    width=800,\n",
    "    height=300\n",
    ")"
   ]
  },
  {
   "cell_type": "code",
   "execution_count": null,
   "id": "ade90860-de3f-4747-bf19-ca73e5bb2cf1",
   "metadata": {},
   "outputs": [],
   "source": [
    "# Fitter par une droite (rouge)\n",
    "# Point plus grand,\n",
    "\n",
    "alt.Chart(df_fits2[df_fits2.measure == \"degree\"]).mark_point().encode(\n",
    "    x=alt.X('q / p', sort=q_frac_order),\n",
    "    # x=alt.X('q', sort=q_frac_order, axis=alt.Axis(labelExpr=q_frac_order)),\n",
    "    y=alt.Y('neff / Nedges'),\n",
    "    color=\"bounds\"\n",
    ").properties(\n",
    "    width=800,\n",
    "    height=300\n",
    ")"
   ]
  },
  {
   "cell_type": "code",
   "execution_count": null,
   "id": "8c582207-e222-4d77-b412-dc5bb8422c18",
   "metadata": {
    "tags": []
   },
   "outputs": [],
   "source": [
    "alt.Chart(df_fits2[df_fits2.measure == \"degree\"]).mark_point().encode(\n",
    "    x=alt.X('q / p', sort=q_frac_order),\n",
    "    # x=alt.X('q', sort=q_frac_order, axis=alt.Axis(labelExpr=q_frac_order)),\n",
    "    y=alt.Y('peff / p'),\n",
    "    color=\"bounds\"\n",
    ").properties(\n",
    "    width=800,\n",
    "    height=300\n",
    ")"
   ]
  },
  {
   "cell_type": "code",
   "execution_count": null,
   "id": "a9d0ad25-1598-4c29-b5c1-376020fab053",
   "metadata": {
    "tags": []
   },
   "outputs": [],
   "source": [
    "df_fits2"
   ]
  },
  {
   "cell_type": "markdown",
   "id": "1448e8c1-fb97-4997-8d0e-2374b9d4b90c",
   "metadata": {
    "jp-MarkdownHeadingCollapsed": true,
    "tags": []
   },
   "source": [
    "## Hsize fits"
   ]
  },
  {
   "cell_type": "code",
   "execution_count": null,
   "id": "14e162d3-66e2-469b-9b7a-60652d6d2a35",
   "metadata": {
    "tags": []
   },
   "outputs": [],
   "source": [
    "points = alt.Chart(df_fits).mark_point().encode(\n",
    "    x=alt.X('q / p', sort=q_frac_order),\n",
    "    # x=alt.X('q', sort=q_frac_order, axis=alt.Axis(labelExpr=q_frac_order)),\n",
    "    y=alt.Y('p_h_eff / p'),\n",
    ").properties(\n",
    "    width=800,\n",
    "    height=300\n",
    ")\n",
    "\n",
    "points"
   ]
  },
  {
   "cell_type": "code",
   "execution_count": null,
   "id": "7f8d7ad9-dc53-4166-8145-0ec2ab6e13c2",
   "metadata": {
    "tags": []
   },
   "outputs": [],
   "source": [
    "points_Neff = alt.Chart(df_fits).mark_point().encode(\n",
    "    x=alt.X('q / p', sort=q_frac_order),\n",
    "    # x=alt.X('q', sort=q_frac_order, axis=alt.Axis(labelExpr=q_frac_order)),\n",
    "    y=alt.Y(\"NeffHsize / N\"),\n",
    ").properties(\n",
    "    width=800,\n",
    "    height=300\n",
    ")\n",
    "\n",
    "points_Neff"
   ]
  },
  {
   "cell_type": "markdown",
   "id": "0a53c6e4-d9d5-4a0b-8c68-b88173573eac",
   "metadata": {},
   "source": [
    "## Several bounds"
   ]
  },
  {
   "cell_type": "code",
   "execution_count": 111,
   "id": "c72fd7cc-0bf4-4258-bb6f-15f7fa4494c0",
   "metadata": {
    "tags": []
   },
   "outputs": [],
   "source": [
    "chart = alt.Chart(df_fits2[df_fits2.measure == \"hsize\"]).mark_point().encode(\n",
    "    x=alt.X('q / p'),\n",
    "    # x=alt.X('q / p', sort=q_frac_order),\n",
    "    # x=alt.X('q', sort=q_frac_order, axis=alt.Axis(labelExpr=q_frac_order)),\n",
    "    y=alt.Y('neff / N'),\n",
    "    # color=\"bounds\"\n",
    ").properties(\n",
    "    width=800,\n",
    "    height=300\n",
    ")\n",
    "\n",
    "# chart"
   ]
  },
  {
   "cell_type": "code",
   "execution_count": 444,
   "id": "f781bd77-b804-47e1-b9d9-c3df2a4137a3",
   "metadata": {},
   "outputs": [
    {
     "data": {
      "text/html": [
       "\n",
       "<style>\n",
       "  #altair-viz-48e7c51fa94f46d88e7885633c7a512b.vega-embed {\n",
       "    width: 100%;\n",
       "    display: flex;\n",
       "  }\n",
       "\n",
       "  #altair-viz-48e7c51fa94f46d88e7885633c7a512b.vega-embed details,\n",
       "  #altair-viz-48e7c51fa94f46d88e7885633c7a512b.vega-embed details summary {\n",
       "    position: relative;\n",
       "  }\n",
       "</style>\n",
       "<div id=\"altair-viz-48e7c51fa94f46d88e7885633c7a512b\"></div>\n",
       "<script type=\"text/javascript\">\n",
       "  var VEGA_DEBUG = (typeof VEGA_DEBUG == \"undefined\") ? {} : VEGA_DEBUG;\n",
       "  (function(spec, embedOpt){\n",
       "    let outputDiv = document.currentScript.previousElementSibling;\n",
       "    if (outputDiv.id !== \"altair-viz-48e7c51fa94f46d88e7885633c7a512b\") {\n",
       "      outputDiv = document.getElementById(\"altair-viz-48e7c51fa94f46d88e7885633c7a512b\");\n",
       "    }\n",
       "    const paths = {\n",
       "      \"vega\": \"https://cdn.jsdelivr.net/npm/vega@5?noext\",\n",
       "      \"vega-lib\": \"https://cdn.jsdelivr.net/npm/vega-lib?noext\",\n",
       "      \"vega-lite\": \"https://cdn.jsdelivr.net/npm/vega-lite@5.15.1?noext\",\n",
       "      \"vega-embed\": \"https://cdn.jsdelivr.net/npm/vega-embed@6?noext\",\n",
       "    };\n",
       "\n",
       "    function maybeLoadScript(lib, version) {\n",
       "      var key = `${lib.replace(\"-\", \"\")}_version`;\n",
       "      return (VEGA_DEBUG[key] == version) ?\n",
       "        Promise.resolve(paths[lib]) :\n",
       "        new Promise(function(resolve, reject) {\n",
       "          var s = document.createElement('script');\n",
       "          document.getElementsByTagName(\"head\")[0].appendChild(s);\n",
       "          s.async = true;\n",
       "          s.onload = () => {\n",
       "            VEGA_DEBUG[key] = version;\n",
       "            return resolve(paths[lib]);\n",
       "          };\n",
       "          s.onerror = () => reject(`Error loading script: ${paths[lib]}`);\n",
       "          s.src = paths[lib];\n",
       "        });\n",
       "    }\n",
       "\n",
       "    function showError(err) {\n",
       "      outputDiv.innerHTML = `<div class=\"error\" style=\"color:red;\">${err}</div>`;\n",
       "      throw err;\n",
       "    }\n",
       "\n",
       "    function displayChart(vegaEmbed) {\n",
       "      vegaEmbed(outputDiv, spec, embedOpt)\n",
       "        .catch(err => showError(`Javascript Error: ${err.message}<br>This usually means there's a typo in your chart specification. See the javascript console for the full traceback.`));\n",
       "    }\n",
       "\n",
       "    if(typeof define === \"function\" && define.amd) {\n",
       "      requirejs.config({paths});\n",
       "      require([\"vega-embed\"], displayChart, err => showError(`Error loading script: ${err.message}`));\n",
       "    } else {\n",
       "      maybeLoadScript(\"vega\", \"5\")\n",
       "        .then(() => maybeLoadScript(\"vega-lite\", \"5.15.1\"))\n",
       "        .then(() => maybeLoadScript(\"vega-embed\", \"6\"))\n",
       "        .catch(showError)\n",
       "        .then(() => displayChart(vegaEmbed));\n",
       "    }\n",
       "  })({\"$schema\": \"https://vega.github.io/schema/vega/v5.json\", \"data\": [{\"name\": \"source_0\", \"values\": [{\"p\": 0.03, \"q\": 0.0, \"q_frac\": 0.0, \"peff\": 0.0284269846202321, \"Neff\": 289.0, \"bounds\": \"not fixed\", \"measure\": \"hsize\", \"q / p\": 0.0, \"peff / p\": 0.9475661540077367, \"neff / Nedges\": 1.445, \"neff / N\": 0.289}, {\"p\": 0.03, \"q\": 0.0, \"q_frac\": 0.0, \"peff\": 0.0082153950031351, \"Neff\": 1000.0, \"bounds\": \"n Fixed\", \"measure\": \"hsize\", \"q / p\": 0.0, \"peff / p\": 0.27384650010450334, \"neff / Nedges\": 5.0, \"neff / N\": 1.0}, {\"p\": 0.03, \"q\": 0.0, \"q_frac\": 0.0, \"peff\": 0.03, \"Neff\": 274.0, \"bounds\": \"p Fixed\", \"measure\": \"hsize\", \"q / p\": 0.0, \"peff / p\": 1.0, \"neff / Nedges\": 1.37, \"neff / N\": 0.274}, {\"p\": 0.03, \"q\": 0.003, \"q_frac\": 0.1, \"peff\": 0.0298584484307439, \"Neff\": 349.0, \"bounds\": \"not fixed\", \"measure\": \"hsize\", \"q / p\": 0.1, \"peff / p\": 0.9952816143581301, \"neff / Nedges\": 1.745, \"neff / N\": 0.349}, {\"p\": 0.03, \"q\": 0.003, \"q_frac\": 0.1, \"peff\": 0.0104205949993316, \"Neff\": 1000.0, \"bounds\": \"n Fixed\", \"measure\": \"hsize\", \"q / p\": 0.1, \"peff / p\": 0.3473531666443867, \"neff / Nedges\": 5.0, \"neff / N\": 1.0}, {\"p\": 0.03, \"q\": 0.003, \"q_frac\": 0.1, \"peff\": 0.03, \"Neff\": 346.0, \"bounds\": \"p Fixed\", \"measure\": \"hsize\", \"q / p\": 0.1, \"peff / p\": 1.0, \"neff / Nedges\": 1.73, \"neff / N\": 0.346}, {\"p\": 0.03, \"q\": 0.006, \"q_frac\": 0.2, \"peff\": 0.0290586603371834, \"Neff\": 433.0, \"bounds\": \"not fixed\", \"measure\": \"hsize\", \"q / p\": 0.2, \"peff / p\": 0.9686220112394467, \"neff / Nedges\": 2.165, \"neff / N\": 0.433}, {\"p\": 0.03, \"q\": 0.006, \"q_frac\": 0.2, \"peff\": 0.012582394992012, \"Neff\": 1000.0, \"bounds\": \"n Fixed\", \"measure\": \"hsize\", \"q / p\": 0.2, \"peff / p\": 0.41941316640040005, \"neff / Nedges\": 5.0, \"neff / N\": 1.0}, {\"p\": 0.03, \"q\": 0.006, \"q_frac\": 0.2, \"peff\": 0.03, \"Neff\": 419.0, \"bounds\": \"p Fixed\", \"measure\": \"hsize\", \"q / p\": 0.2, \"peff / p\": 1.0, \"neff / Nedges\": 2.095, \"neff / N\": 0.419}, {\"p\": 0.03, \"q\": 0.009, \"q_frac\": 0.3, \"peff\": 0.0218205135291015, \"Neff\": 675.0, \"bounds\": \"not fixed\", \"measure\": \"hsize\", \"q / p\": 0.3, \"peff / p\": 0.72735045097005, \"neff / Nedges\": 3.375, \"neff / N\": 0.675}, {\"p\": 0.03, \"q\": 0.009, \"q_frac\": 0.3, \"peff\": 0.0147288450009192, \"Neff\": 1000.0, \"bounds\": \"n Fixed\", \"measure\": \"hsize\", \"q / p\": 0.3, \"peff / p\": 0.49096150003064, \"neff / Nedges\": 5.0, \"neff / N\": 1.0}, {\"p\": 0.03, \"q\": 0.009, \"q_frac\": 0.3, \"peff\": 0.03, \"Neff\": 491.0, \"bounds\": \"p Fixed\", \"measure\": \"hsize\", \"q / p\": 0.3, \"peff / p\": 1.0, \"neff / Nedges\": 2.455, \"neff / N\": 0.491}, {\"p\": 0.03, \"q\": 0.012, \"q_frac\": 0.4, \"peff\": 0.026165942614802, \"Neff\": 649.0, \"bounds\": \"not fixed\", \"measure\": \"hsize\", \"q / p\": 0.4, \"peff / p\": 0.8721980871600666, \"neff / Nedges\": 3.245, \"neff / N\": 0.649}, {\"p\": 0.03, \"q\": 0.012, \"q_frac\": 0.4, \"peff\": 0.0169816949819084, \"Neff\": 1000.0, \"bounds\": \"n Fixed\", \"measure\": \"hsize\", \"q / p\": 0.4, \"peff / p\": 0.5660564993969467, \"neff / Nedges\": 5.0, \"neff / N\": 1.0}, {\"p\": 0.03, \"q\": 0.012, \"q_frac\": 0.4, \"peff\": 0.03, \"Neff\": 566.0, \"bounds\": \"p Fixed\", \"measure\": \"hsize\", \"q / p\": 0.4, \"peff / p\": 1.0, \"neff / Nedges\": 2.83, \"neff / N\": 0.566}, {\"p\": 0.03, \"q\": 0.015, \"q_frac\": 0.5, \"peff\": 0.0265430005466368, \"Neff\": 722.0, \"bounds\": \"not fixed\", \"measure\": \"hsize\", \"q / p\": 0.5, \"peff / p\": 0.8847666848878933, \"neff / Nedges\": 3.61, \"neff / N\": 0.722}, {\"p\": 0.03, \"q\": 0.015, \"q_frac\": 0.5, \"peff\": 0.01916404503582, \"Neff\": 1000.0, \"bounds\": \"n Fixed\", \"measure\": \"hsize\", \"q / p\": 0.5, \"peff / p\": 0.638801501194, \"neff / Nedges\": 5.0, \"neff / N\": 1.0}, {\"p\": 0.03, \"q\": 0.015, \"q_frac\": 0.5, \"peff\": 0.03, \"Neff\": 639.0, \"bounds\": \"p Fixed\", \"measure\": \"hsize\", \"q / p\": 0.5, \"peff / p\": 1.0, \"neff / Nedges\": 3.195, \"neff / N\": 0.639}, {\"p\": 0.03, \"q\": 0.018, \"q_frac\": 0.6000000000000001, \"peff\": 0.0278766616784016, \"Neff\": 765.0, \"bounds\": \"not fixed\", \"measure\": \"hsize\", \"q / p\": 0.6, \"peff / p\": 0.92922205594672, \"neff / Nedges\": 3.825, \"neff / N\": 0.765}, {\"p\": 0.03, \"q\": 0.018, \"q_frac\": 0.6000000000000001, \"peff\": 0.0212829021678422, \"Neff\": 1000.0, \"bounds\": \"n Fixed\", \"measure\": \"hsize\", \"q / p\": 0.6, \"peff / p\": 0.7094300722614068, \"neff / Nedges\": 5.0, \"neff / N\": 1.0}, {\"p\": 0.03, \"q\": 0.018, \"q_frac\": 0.6000000000000001, \"peff\": 0.03, \"Neff\": 711.0, \"bounds\": \"p Fixed\", \"measure\": \"hsize\", \"q / p\": 0.6, \"peff / p\": 1.0, \"neff / Nedges\": 3.555, \"neff / N\": 0.711}, {\"p\": 0.03, \"q\": 0.021, \"q_frac\": 0.7000000000000001, \"peff\": 0.0236220716846247, \"Neff\": 992.0, \"bounds\": \"not fixed\", \"measure\": \"hsize\", \"q / p\": 0.7000000000000001, \"peff / p\": 0.78740238948749, \"neff / Nedges\": 4.96, \"neff / N\": 0.992}, {\"p\": 0.03, \"q\": 0.021, \"q_frac\": 0.7000000000000001, \"peff\": 0.0234330950478775, \"Neff\": 1000.0, \"bounds\": \"n Fixed\", \"measure\": \"hsize\", \"q / p\": 0.7000000000000001, \"peff / p\": 0.7811031682625834, \"neff / Nedges\": 5.0, \"neff / N\": 1.0}, {\"p\": 0.03, \"q\": 0.021, \"q_frac\": 0.7000000000000001, \"peff\": 0.03, \"Neff\": 780.0, \"bounds\": \"p Fixed\", \"measure\": \"hsize\", \"q / p\": 0.7000000000000001, \"peff / p\": 1.0, \"neff / Nedges\": 3.9, \"neff / N\": 0.78}, {\"p\": 0.03, \"q\": 0.024, \"q_frac\": 0.8, \"peff\": 0.0299797609526958, \"Neff\": 855.0, \"bounds\": \"not fixed\", \"measure\": \"hsize\", \"q / p\": 0.8, \"peff / p\": 0.99932536508986, \"neff / Nedges\": 4.275, \"neff / N\": 0.855}, {\"p\": 0.03, \"q\": 0.024, \"q_frac\": 0.8, \"peff\": 0.0256326950200791, \"Neff\": 1000.0, \"bounds\": \"n Fixed\", \"measure\": \"hsize\", \"q / p\": 0.8, \"peff / p\": 0.85442316733597, \"neff / Nedges\": 5.0, \"neff / N\": 1.0}, {\"p\": 0.03, \"q\": 0.024, \"q_frac\": 0.8, \"peff\": 0.03, \"Neff\": 854.0, \"bounds\": \"p Fixed\", \"measure\": \"hsize\", \"q / p\": 0.8, \"peff / p\": 1.0, \"neff / Nedges\": 4.27, \"neff / N\": 0.854}, {\"p\": 0.03, \"q\": 0.027, \"q_frac\": 0.9, \"peff\": 0.0290826491410657, \"Neff\": 957.0, \"bounds\": \"not fixed\", \"measure\": \"hsize\", \"q / p\": 0.9, \"peff / p\": 0.9694216380355234, \"neff / Nedges\": 4.785, \"neff / N\": 0.957}, {\"p\": 0.03, \"q\": 0.027, \"q_frac\": 0.9, \"peff\": 0.0278320947720745, \"Neff\": 1000.0, \"bounds\": \"n Fixed\", \"measure\": \"hsize\", \"q / p\": 0.9, \"peff / p\": 0.9277364924024833, \"neff / Nedges\": 5.0, \"neff / N\": 1.0}, {\"p\": 0.03, \"q\": 0.027, \"q_frac\": 0.9, \"peff\": 0.03, \"Neff\": 928.0, \"bounds\": \"p Fixed\", \"measure\": \"hsize\", \"q / p\": 0.9, \"peff / p\": 1.0, \"neff / Nedges\": 4.64, \"neff / N\": 0.928}, {\"p\": 0.03, \"q\": 0.03, \"q_frac\": 1.0, \"peff\": 0.0299649616949834, \"Neff\": 999.0, \"bounds\": \"not fixed\", \"measure\": \"hsize\", \"q / p\": 1.0, \"peff / p\": 0.9988320564994466, \"neff / Nedges\": 4.995, \"neff / N\": 0.999}, {\"p\": 0.03, \"q\": 0.03, \"q_frac\": 1.0, \"peff\": 0.0299350121308329, \"Neff\": 1000.0, \"bounds\": \"n Fixed\", \"measure\": \"hsize\", \"q / p\": 1.0, \"peff / p\": 0.9978337376944301, \"neff / Nedges\": 5.0, \"neff / N\": 1.0}, {\"p\": 0.03, \"q\": 0.03, \"q_frac\": 1.0, \"peff\": 0.03, \"Neff\": 997.0, \"bounds\": \"p Fixed\", \"measure\": \"hsize\", \"q / p\": 1.0, \"peff / p\": 1.0, \"neff / Nedges\": 4.985, \"neff / N\": 0.997}, {\"p\": 0.03, \"q\": 0.0003, \"q_frac\": 0.01, \"peff\": 0.0298089738892891, \"Neff\": 284.0, \"bounds\": \"not fixed\", \"measure\": \"hsize\", \"q / p\": 0.01, \"peff / p\": 0.9936324629763034, \"neff / Nedges\": 1.42, \"neff / N\": 0.284}, {\"p\": 0.03, \"q\": 0.0003, \"q_frac\": 0.01, \"peff\": 0.0084657454060917, \"Neff\": 1000.0, \"bounds\": \"n Fixed\", \"measure\": \"hsize\", \"q / p\": 0.01, \"peff / p\": 0.28219151353639005, \"neff / Nedges\": 5.0, \"neff / N\": 1.0}, {\"p\": 0.03, \"q\": 0.0003, \"q_frac\": 0.01, \"peff\": 0.03, \"Neff\": 283.0, \"bounds\": \"p Fixed\", \"measure\": \"hsize\", \"q / p\": 0.01, \"peff / p\": 1.0, \"neff / Nedges\": 1.415, \"neff / N\": 0.283}, {\"p\": 0.03, \"q\": 0.0015, \"q_frac\": 0.05, \"peff\": 0.0120309962069021, \"Neff\": 775.0, \"bounds\": \"not fixed\", \"measure\": \"hsize\", \"q / p\": 0.05, \"peff / p\": 0.40103320689673666, \"neff / Nedges\": 3.875, \"neff / N\": 0.775}, {\"p\": 0.03, \"q\": 0.0015, \"q_frac\": 0.05, \"peff\": 0.0093292949867462, \"Neff\": 1000.0, \"bounds\": \"n Fixed\", \"measure\": \"hsize\", \"q / p\": 0.05, \"peff / p\": 0.3109764995582067, \"neff / Nedges\": 5.0, \"neff / N\": 1.0}, {\"p\": 0.03, \"q\": 0.0015, \"q_frac\": 0.05, \"peff\": 0.03, \"Neff\": 311.0, \"bounds\": \"p Fixed\", \"measure\": \"hsize\", \"q / p\": 0.05, \"peff / p\": 1.0, \"neff / Nedges\": 1.555, \"neff / N\": 0.311}]}, {\"name\": \"data_0\", \"values\": [{\"neff / N\": 0.289, \"q / p\": 0.0}, {\"neff / N\": 1.0, \"q / p\": 0.0}, {\"neff / N\": 0.274, \"q / p\": 0.0}, {\"neff / N\": 0.349, \"q / p\": 0.1}, {\"neff / N\": 1.0, \"q / p\": 0.1}, {\"neff / N\": 0.346, \"q / p\": 0.1}, {\"neff / N\": 0.433, \"q / p\": 0.2}, {\"neff / N\": 1.0, \"q / p\": 0.2}, {\"neff / N\": 0.419, \"q / p\": 0.2}, {\"neff / N\": 0.675, \"q / p\": 0.3}, {\"neff / N\": 1.0, \"q / p\": 0.3}, {\"neff / N\": 0.491, \"q / p\": 0.3}, {\"neff / N\": 0.649, \"q / p\": 0.4}, {\"neff / N\": 1.0, \"q / p\": 0.4}, {\"neff / N\": 0.566, \"q / p\": 0.4}, {\"neff / N\": 0.722, \"q / p\": 0.5}, {\"neff / N\": 1.0, \"q / p\": 0.5}, {\"neff / N\": 0.639, \"q / p\": 0.5}, {\"neff / N\": 0.765, \"q / p\": 0.6}, {\"neff / N\": 1.0, \"q / p\": 0.6}, {\"neff / N\": 0.711, \"q / p\": 0.6}, {\"neff / N\": 0.992, \"q / p\": 0.7000000000000001}, {\"neff / N\": 1.0, \"q / p\": 0.7000000000000001}, {\"neff / N\": 0.78, \"q / p\": 0.7000000000000001}, {\"neff / N\": 0.855, \"q / p\": 0.8}, {\"neff / N\": 1.0, \"q / p\": 0.8}, {\"neff / N\": 0.854, \"q / p\": 0.8}, {\"neff / N\": 0.957, \"q / p\": 0.9}, {\"neff / N\": 1.0, \"q / p\": 0.9}, {\"neff / N\": 0.928, \"q / p\": 0.9}, {\"neff / N\": 0.999, \"q / p\": 1.0}, {\"neff / N\": 1.0, \"q / p\": 1.0}, {\"neff / N\": 0.997, \"q / p\": 1.0}, {\"neff / N\": 0.284, \"q / p\": 0.01}, {\"neff / N\": 1.0, \"q / p\": 0.01}, {\"neff / N\": 0.283, \"q / p\": 0.01}, {\"neff / N\": 0.775, \"q / p\": 0.05}, {\"neff / N\": 1.0, \"q / p\": 0.05}, {\"neff / N\": 0.311, \"q / p\": 0.05}]}, {\"name\": \"data_1\", \"source\": \"source_0\", \"transform\": [{\"type\": \"regression\", \"y\": \"neff / N\", \"x\": \"q / p\", \"as\": [\"q / p\", \"neff / N\"]}, {\"type\": \"project\", \"fields\": [\"neff / N\", \"q / p\"]}]}], \"marks\": [{\"type\": \"symbol\", \"name\": \"layer_0_marks\", \"from\": {\"data\": \"data_0\"}, \"encode\": {\"update\": {\"x\": {\"field\": \"q / p\", \"scale\": \"x\"}, \"y\": {\"field\": \"neff / N\", \"scale\": \"y\"}, \"stroke\": {\"value\": \"#6a51a3\"}, \"opacity\": {\"value\": 0.7}, \"description\": {\"signal\": \"\\\"q / p: \\\" + (format(datum[\\\"q / p\\\"], \\\"\\\")) + \\\"; neff / N: \\\" + (format(datum[\\\"neff / N\\\"], \\\"\\\"))\"}, \"ariaRoleDescription\": {\"value\": \"point\"}, \"fill\": {\"value\": \"#6a51a3\"}}}, \"style\": [\"point\"]}, {\"type\": \"line\", \"name\": \"layer_1_marks\", \"from\": {\"data\": \"data_1\"}, \"sort\": {\"field\": \"datum[\\\"q / p\\\"]\"}, \"encode\": {\"update\": {\"y\": {\"field\": \"neff / N\", \"scale\": \"y\"}, \"x\": {\"field\": \"q / p\", \"scale\": \"x\"}, \"description\": {\"signal\": \"\\\"q / p: \\\" + (format(datum[\\\"q / p\\\"], \\\"\\\")) + \\\"; neff / N: \\\" + (format(datum[\\\"neff / N\\\"], \\\"\\\"))\"}, \"stroke\": {\"value\": \"black\"}, \"defined\": {\"signal\": \"isValid(datum[\\\"q / p\\\"]) && isFinite(+datum[\\\"q / p\\\"]) && isValid(datum[\\\"neff / N\\\"]) && isFinite(+datum[\\\"neff / N\\\"])\"}}}, \"style\": [\"line\"]}], \"scales\": [{\"name\": \"x\", \"type\": \"linear\", \"domain\": {\"fields\": [{\"data\": \"data_0\", \"field\": \"q / p\"}, {\"data\": \"data_1\", \"field\": \"q / p\"}]}, \"range\": [0, {\"signal\": \"width\"}], \"zero\": true, \"nice\": true}, {\"name\": \"y\", \"type\": \"linear\", \"domain\": {\"fields\": [{\"data\": \"data_0\", \"field\": \"neff / N\"}, {\"data\": \"data_1\", \"field\": \"neff / N\"}]}, \"range\": [{\"signal\": \"height\"}, 0], \"zero\": true, \"nice\": true}], \"axes\": [{\"scale\": \"x\", \"labelFlush\": true, \"tickCount\": {\"signal\": \"ceil(width/40)\"}, \"labelOverlap\": true, \"zindex\": 0, \"grid\": false, \"orient\": \"bottom\", \"title\": \"q / p\"}, {\"scale\": \"y\", \"orient\": \"left\", \"grid\": false, \"labelOverlap\": true, \"zindex\": 0, \"title\": \"neff / N\", \"tickCount\": {\"signal\": \"ceil(height/40)\"}}], \"padding\": 5, \"background\": \"white\", \"style\": \"cell\", \"height\": 300, \"config\": {\"mark\": {\"fill\": \"#6a51a3\"}, \"axisX\": {\"labelFont\": \"monospace\", \"labelFontSize\": 16, \"titleFontSize\": 20, \"grid\": false}, \"axisY\": {\"domain\": false, \"grid\": false, \"labelFont\": \"monospace\", \"labelFontSize\": 16, \"titleFontSize\": 20}, \"style\": {\"cell\": {\"height\": 300, \"width\": 300}, \"line\": {\"fill\": null, \"stroke\": \"black\"}, \"group-title\": {\"fontSize\": 18, \"font\": \"monospace\", \"fontColor\": \"#000000\"}}}, \"width\": 800}, {\"mode\": \"vega\"});\n",
       "</script>"
      ],
      "text/plain": [
       "alt.LayerChart(...)"
      ]
     },
     "execution_count": 444,
     "metadata": {},
     "output_type": "execute_result"
    }
   ],
   "source": [
    "chart + chart.transform_regression('q / p', 'neff / N').mark_line()"
   ]
  },
  {
   "cell_type": "code",
   "execution_count": 445,
   "id": "272407a8-c235-4928-93bf-b4ce59e70153",
   "metadata": {
    "tags": []
   },
   "outputs": [
    {
     "data": {
      "text/html": [
       "\n",
       "<style>\n",
       "  #altair-viz-c8d2aa8909e84ed2a2387b56d5bd01c0.vega-embed {\n",
       "    width: 100%;\n",
       "    display: flex;\n",
       "  }\n",
       "\n",
       "  #altair-viz-c8d2aa8909e84ed2a2387b56d5bd01c0.vega-embed details,\n",
       "  #altair-viz-c8d2aa8909e84ed2a2387b56d5bd01c0.vega-embed details summary {\n",
       "    position: relative;\n",
       "  }\n",
       "</style>\n",
       "<div id=\"altair-viz-c8d2aa8909e84ed2a2387b56d5bd01c0\"></div>\n",
       "<script type=\"text/javascript\">\n",
       "  var VEGA_DEBUG = (typeof VEGA_DEBUG == \"undefined\") ? {} : VEGA_DEBUG;\n",
       "  (function(spec, embedOpt){\n",
       "    let outputDiv = document.currentScript.previousElementSibling;\n",
       "    if (outputDiv.id !== \"altair-viz-c8d2aa8909e84ed2a2387b56d5bd01c0\") {\n",
       "      outputDiv = document.getElementById(\"altair-viz-c8d2aa8909e84ed2a2387b56d5bd01c0\");\n",
       "    }\n",
       "    const paths = {\n",
       "      \"vega\": \"https://cdn.jsdelivr.net/npm/vega@5?noext\",\n",
       "      \"vega-lib\": \"https://cdn.jsdelivr.net/npm/vega-lib?noext\",\n",
       "      \"vega-lite\": \"https://cdn.jsdelivr.net/npm/vega-lite@5.15.1?noext\",\n",
       "      \"vega-embed\": \"https://cdn.jsdelivr.net/npm/vega-embed@6?noext\",\n",
       "    };\n",
       "\n",
       "    function maybeLoadScript(lib, version) {\n",
       "      var key = `${lib.replace(\"-\", \"\")}_version`;\n",
       "      return (VEGA_DEBUG[key] == version) ?\n",
       "        Promise.resolve(paths[lib]) :\n",
       "        new Promise(function(resolve, reject) {\n",
       "          var s = document.createElement('script');\n",
       "          document.getElementsByTagName(\"head\")[0].appendChild(s);\n",
       "          s.async = true;\n",
       "          s.onload = () => {\n",
       "            VEGA_DEBUG[key] = version;\n",
       "            return resolve(paths[lib]);\n",
       "          };\n",
       "          s.onerror = () => reject(`Error loading script: ${paths[lib]}`);\n",
       "          s.src = paths[lib];\n",
       "        });\n",
       "    }\n",
       "\n",
       "    function showError(err) {\n",
       "      outputDiv.innerHTML = `<div class=\"error\" style=\"color:red;\">${err}</div>`;\n",
       "      throw err;\n",
       "    }\n",
       "\n",
       "    function displayChart(vegaEmbed) {\n",
       "      vegaEmbed(outputDiv, spec, embedOpt)\n",
       "        .catch(err => showError(`Javascript Error: ${err.message}<br>This usually means there's a typo in your chart specification. See the javascript console for the full traceback.`));\n",
       "    }\n",
       "\n",
       "    if(typeof define === \"function\" && define.amd) {\n",
       "      requirejs.config({paths});\n",
       "      require([\"vega-embed\"], displayChart, err => showError(`Error loading script: ${err.message}`));\n",
       "    } else {\n",
       "      maybeLoadScript(\"vega\", \"5\")\n",
       "        .then(() => maybeLoadScript(\"vega-lite\", \"5.15.1\"))\n",
       "        .then(() => maybeLoadScript(\"vega-embed\", \"6\"))\n",
       "        .catch(showError)\n",
       "        .then(() => displayChart(vegaEmbed));\n",
       "    }\n",
       "  })({\"$schema\": \"https://vega.github.io/schema/vega/v5.json\", \"data\": [{\"name\": \"source_0\", \"values\": [{\"bounds\": \"not fixed\", \"peff / p\": 0.9475661540077367, \"q / p\": 0.0}, {\"bounds\": \"n Fixed\", \"peff / p\": 0.27384650010450334, \"q / p\": 0.0}, {\"bounds\": \"p Fixed\", \"peff / p\": 1.0, \"q / p\": 0.0}, {\"bounds\": \"not fixed\", \"peff / p\": 0.9952816143581301, \"q / p\": 0.1}, {\"bounds\": \"n Fixed\", \"peff / p\": 0.3473531666443867, \"q / p\": 0.1}, {\"bounds\": \"p Fixed\", \"peff / p\": 1.0, \"q / p\": 0.1}, {\"bounds\": \"not fixed\", \"peff / p\": 0.9686220112394467, \"q / p\": 0.2}, {\"bounds\": \"n Fixed\", \"peff / p\": 0.41941316640040005, \"q / p\": 0.2}, {\"bounds\": \"p Fixed\", \"peff / p\": 1.0, \"q / p\": 0.2}, {\"bounds\": \"not fixed\", \"peff / p\": 0.72735045097005, \"q / p\": 0.3}, {\"bounds\": \"n Fixed\", \"peff / p\": 0.49096150003064, \"q / p\": 0.3}, {\"bounds\": \"p Fixed\", \"peff / p\": 1.0, \"q / p\": 0.3}, {\"bounds\": \"not fixed\", \"peff / p\": 0.8721980871600666, \"q / p\": 0.4}, {\"bounds\": \"n Fixed\", \"peff / p\": 0.5660564993969467, \"q / p\": 0.4}, {\"bounds\": \"p Fixed\", \"peff / p\": 1.0, \"q / p\": 0.4}, {\"bounds\": \"not fixed\", \"peff / p\": 0.8847666848878933, \"q / p\": 0.5}, {\"bounds\": \"n Fixed\", \"peff / p\": 0.638801501194, \"q / p\": 0.5}, {\"bounds\": \"p Fixed\", \"peff / p\": 1.0, \"q / p\": 0.5}, {\"bounds\": \"not fixed\", \"peff / p\": 0.92922205594672, \"q / p\": 0.6}, {\"bounds\": \"n Fixed\", \"peff / p\": 0.7094300722614068, \"q / p\": 0.6}, {\"bounds\": \"p Fixed\", \"peff / p\": 1.0, \"q / p\": 0.6}, {\"bounds\": \"not fixed\", \"peff / p\": 0.78740238948749, \"q / p\": 0.7000000000000001}, {\"bounds\": \"n Fixed\", \"peff / p\": 0.7811031682625834, \"q / p\": 0.7000000000000001}, {\"bounds\": \"p Fixed\", \"peff / p\": 1.0, \"q / p\": 0.7000000000000001}, {\"bounds\": \"not fixed\", \"peff / p\": 0.99932536508986, \"q / p\": 0.8}, {\"bounds\": \"n Fixed\", \"peff / p\": 0.85442316733597, \"q / p\": 0.8}, {\"bounds\": \"p Fixed\", \"peff / p\": 1.0, \"q / p\": 0.8}, {\"bounds\": \"not fixed\", \"peff / p\": 0.9694216380355234, \"q / p\": 0.9}, {\"bounds\": \"n Fixed\", \"peff / p\": 0.9277364924024833, \"q / p\": 0.9}, {\"bounds\": \"p Fixed\", \"peff / p\": 1.0, \"q / p\": 0.9}, {\"bounds\": \"not fixed\", \"peff / p\": 0.9988320564994466, \"q / p\": 1.0}, {\"bounds\": \"n Fixed\", \"peff / p\": 0.9978337376944301, \"q / p\": 1.0}, {\"bounds\": \"p Fixed\", \"peff / p\": 1.0, \"q / p\": 1.0}, {\"bounds\": \"not fixed\", \"peff / p\": 0.9936324629763034, \"q / p\": 0.01}, {\"bounds\": \"n Fixed\", \"peff / p\": 0.28219151353639005, \"q / p\": 0.01}, {\"bounds\": \"p Fixed\", \"peff / p\": 1.0, \"q / p\": 0.01}, {\"bounds\": \"not fixed\", \"peff / p\": 0.40103320689673666, \"q / p\": 0.05}, {\"bounds\": \"n Fixed\", \"peff / p\": 0.3109764995582067, \"q / p\": 0.05}, {\"bounds\": \"p Fixed\", \"peff / p\": 1.0, \"q / p\": 0.05}]}, {\"name\": \"source_0_x_domain_q / p\", \"values\": [{\"min\": 0.0, \"max\": 1.0}]}, {\"name\": \"source_0_y_domain_peff / p\", \"values\": [{\"min\": 0.27384650010450334, \"max\": 1.0}]}, {\"name\": \"source_0_color_domain_bounds\", \"values\": [{\"bounds\": \"not fixed\"}, {\"bounds\": \"n Fixed\"}, {\"bounds\": \"p Fixed\"}]}], \"marks\": [{\"type\": \"symbol\", \"name\": \"marks\", \"from\": {\"data\": \"source_0\"}, \"encode\": {\"update\": {\"fill\": {\"value\": \"#6a51a3\"}, \"x\": {\"field\": \"q / p\", \"scale\": \"x\"}, \"stroke\": {\"field\": \"bounds\", \"scale\": \"color\"}, \"ariaRoleDescription\": {\"value\": \"point\"}, \"opacity\": {\"value\": 0.7}, \"y\": {\"field\": \"peff / p\", \"scale\": \"y\"}, \"description\": {\"signal\": \"\\\"q / p: \\\" + (format(datum[\\\"q / p\\\"], \\\"\\\")) + \\\"; peff / p: \\\" + (format(datum[\\\"peff / p\\\"], \\\"\\\")) + \\\"; bounds: \\\" + (isValid(datum[\\\"bounds\\\"]) ? datum[\\\"bounds\\\"] : \\\"\\\"+datum[\\\"bounds\\\"])\"}}}, \"style\": [\"point\"]}], \"scales\": [{\"name\": \"x\", \"type\": \"linear\", \"domain\": [{\"signal\": \"(data(\\\"source_0_x_domain_q / p\\\")[0] || {}).min\"}, {\"signal\": \"(data(\\\"source_0_x_domain_q / p\\\")[0] || {}).max\"}], \"range\": [0, {\"signal\": \"width\"}], \"zero\": true, \"nice\": true}, {\"name\": \"y\", \"type\": \"linear\", \"domain\": [{\"signal\": \"(data(\\\"source_0_y_domain_peff / p\\\")[0] || {}).min\"}, {\"signal\": \"(data(\\\"source_0_y_domain_peff / p\\\")[0] || {}).max\"}], \"range\": [{\"signal\": \"height\"}, 0], \"nice\": true, \"zero\": true}, {\"name\": \"color\", \"type\": \"ordinal\", \"domain\": {\"data\": \"source_0_color_domain_bounds\", \"field\": \"bounds\", \"sort\": true}, \"range\": \"category\"}], \"axes\": [{\"scale\": \"x\", \"orient\": \"bottom\", \"grid\": false, \"title\": \"q / p\", \"labelOverlap\": true, \"labelFlush\": true, \"tickCount\": {\"signal\": \"ceil(width/40)\"}, \"zindex\": 0}, {\"scale\": \"y\", \"orient\": \"left\", \"grid\": false, \"tickCount\": {\"signal\": \"ceil(height/40)\"}, \"zindex\": 0, \"title\": \"peff / p\", \"labelOverlap\": true}], \"height\": 300, \"width\": 800, \"style\": \"cell\", \"legends\": [{\"stroke\": \"color\", \"symbolType\": \"circle\", \"title\": \"bounds\", \"encode\": {\"symbols\": {\"update\": {\"fill\": {\"value\": \"#6a51a3\"}, \"opacity\": {\"value\": 0.7}}}}}], \"config\": {\"mark\": {\"fill\": \"#6a51a3\"}, \"axisX\": {\"labelFont\": \"monospace\", \"labelFontSize\": 16, \"titleFontSize\": 20, \"grid\": false}, \"axisY\": {\"domain\": false, \"grid\": false, \"labelFont\": \"monospace\", \"labelFontSize\": 16, \"titleFontSize\": 20}, \"style\": {\"cell\": {\"height\": 300, \"width\": 300}, \"line\": {\"fill\": null, \"stroke\": \"black\"}, \"group-title\": {\"fontSize\": 18, \"font\": \"monospace\", \"fontColor\": \"#000000\"}}}, \"background\": \"white\", \"padding\": 5}, {\"mode\": \"vega\"});\n",
       "</script>"
      ],
      "text/plain": [
       "alt.Chart(...)"
      ]
     },
     "execution_count": 445,
     "metadata": {},
     "output_type": "execute_result"
    }
   ],
   "source": [
    "alt.Chart(df_fits2[df_fits2.measure == \"hsize\"]).mark_point().encode(\n",
    "    x=alt.X('q / p'),\n",
    "    # x=alt.X('q / p', sort=q_frac_order),\n",
    "    # x=alt.X('q', sort=q_frac_order, axis=alt.Axis(labelExpr=q_frac_order)),\n",
    "    y=alt.Y('peff / p'),\n",
    "    color=\"bounds\"\n",
    ").properties(\n",
    "    width=800,\n",
    "    height=300\n",
    ")"
   ]
  },
  {
   "cell_type": "code",
   "execution_count": 175,
   "id": "ccfc00b7-c4b5-49c3-b2a2-6d894d8d020d",
   "metadata": {},
   "outputs": [],
   "source": [
    "df = df_fits2[(df_fits2.measure == \"hsize\") & (df_fits2.bounds == \"p Fixed\") & (~df_fits2[\"q / p\"].isin([0.01, 0.05]))]\n",
    "chart = alt.Chart(df).mark_point(size=80, opacity=0.8, fill=markColor, stroke=\"black\").encode(\n",
    "# chart = alt.Chart(df).mark_point(size=60, opacity=0.7).encode(\n",
    "    x=alt.X('q / p', axis=alt.Axis(format='')),\n",
    "    # x=alt.X('q / p', sort=q_frac_order),\n",
    "    # x=alt.X('q', sort=q_frac_order, axis=alt.Axis(labelExpr=q_frac_order)),\n",
    "    y=alt.Y('neff / N', title=\"N* / N\", scale=alt.Scale(domain=[0, 1.1])),\n",
    ").properties(\n",
    "    width=600,\n",
    "    height=300\n",
    ")"
   ]
  },
  {
   "cell_type": "code",
   "execution_count": 176,
   "id": "a3392add-d2d6-4e8b-905b-5bfb376656f3",
   "metadata": {},
   "outputs": [
    {
     "data": {
      "text/html": [
       "\n",
       "<style>\n",
       "  #altair-viz-b8390daa24244c39a8dad871831db4be.vega-embed {\n",
       "    width: 100%;\n",
       "    display: flex;\n",
       "  }\n",
       "\n",
       "  #altair-viz-b8390daa24244c39a8dad871831db4be.vega-embed details,\n",
       "  #altair-viz-b8390daa24244c39a8dad871831db4be.vega-embed details summary {\n",
       "    position: relative;\n",
       "  }\n",
       "</style>\n",
       "<div id=\"altair-viz-b8390daa24244c39a8dad871831db4be\"></div>\n",
       "<script type=\"text/javascript\">\n",
       "  var VEGA_DEBUG = (typeof VEGA_DEBUG == \"undefined\") ? {} : VEGA_DEBUG;\n",
       "  (function(spec, embedOpt){\n",
       "    let outputDiv = document.currentScript.previousElementSibling;\n",
       "    if (outputDiv.id !== \"altair-viz-b8390daa24244c39a8dad871831db4be\") {\n",
       "      outputDiv = document.getElementById(\"altair-viz-b8390daa24244c39a8dad871831db4be\");\n",
       "    }\n",
       "    const paths = {\n",
       "      \"vega\": \"https://cdn.jsdelivr.net/npm/vega@5?noext\",\n",
       "      \"vega-lib\": \"https://cdn.jsdelivr.net/npm/vega-lib?noext\",\n",
       "      \"vega-lite\": \"https://cdn.jsdelivr.net/npm/vega-lite@5.15.1?noext\",\n",
       "      \"vega-embed\": \"https://cdn.jsdelivr.net/npm/vega-embed@6?noext\",\n",
       "    };\n",
       "\n",
       "    function maybeLoadScript(lib, version) {\n",
       "      var key = `${lib.replace(\"-\", \"\")}_version`;\n",
       "      return (VEGA_DEBUG[key] == version) ?\n",
       "        Promise.resolve(paths[lib]) :\n",
       "        new Promise(function(resolve, reject) {\n",
       "          var s = document.createElement('script');\n",
       "          document.getElementsByTagName(\"head\")[0].appendChild(s);\n",
       "          s.async = true;\n",
       "          s.onload = () => {\n",
       "            VEGA_DEBUG[key] = version;\n",
       "            return resolve(paths[lib]);\n",
       "          };\n",
       "          s.onerror = () => reject(`Error loading script: ${paths[lib]}`);\n",
       "          s.src = paths[lib];\n",
       "        });\n",
       "    }\n",
       "\n",
       "    function showError(err) {\n",
       "      outputDiv.innerHTML = `<div class=\"error\" style=\"color:red;\">${err}</div>`;\n",
       "      throw err;\n",
       "    }\n",
       "\n",
       "    function displayChart(vegaEmbed) {\n",
       "      vegaEmbed(outputDiv, spec, embedOpt)\n",
       "        .catch(err => showError(`Javascript Error: ${err.message}<br>This usually means there's a typo in your chart specification. See the javascript console for the full traceback.`));\n",
       "    }\n",
       "\n",
       "    if(typeof define === \"function\" && define.amd) {\n",
       "      requirejs.config({paths});\n",
       "      require([\"vega-embed\"], displayChart, err => showError(`Error loading script: ${err.message}`));\n",
       "    } else {\n",
       "      maybeLoadScript(\"vega\", \"5\")\n",
       "        .then(() => maybeLoadScript(\"vega-lite\", \"5.15.1\"))\n",
       "        .then(() => maybeLoadScript(\"vega-embed\", \"6\"))\n",
       "        .catch(showError)\n",
       "        .then(() => displayChart(vegaEmbed));\n",
       "    }\n",
       "  })({\"$schema\": \"https://vega.github.io/schema/vega/v5.json\", \"data\": [{\"name\": \"source_0\", \"values\": [{\"p\": 0.03, \"q\": 0.0, \"q_frac\": 0.0, \"peff\": 0.03, \"Neff\": 274.0, \"bounds\": \"p Fixed\", \"measure\": \"hsize\", \"q / p\": 0.0, \"peff / p\": 1.0, \"neff / Nedges\": 1.37, \"neff / N\": 0.274}, {\"p\": 0.03, \"q\": 0.003, \"q_frac\": 0.1, \"peff\": 0.03, \"Neff\": 346.0, \"bounds\": \"p Fixed\", \"measure\": \"hsize\", \"q / p\": 0.1, \"peff / p\": 1.0, \"neff / Nedges\": 1.73, \"neff / N\": 0.346}, {\"p\": 0.03, \"q\": 0.006, \"q_frac\": 0.2, \"peff\": 0.03, \"Neff\": 419.0, \"bounds\": \"p Fixed\", \"measure\": \"hsize\", \"q / p\": 0.2, \"peff / p\": 1.0, \"neff / Nedges\": 2.095, \"neff / N\": 0.419}, {\"p\": 0.03, \"q\": 0.009, \"q_frac\": 0.3, \"peff\": 0.03, \"Neff\": 491.0, \"bounds\": \"p Fixed\", \"measure\": \"hsize\", \"q / p\": 0.3, \"peff / p\": 1.0, \"neff / Nedges\": 2.455, \"neff / N\": 0.491}, {\"p\": 0.03, \"q\": 0.012, \"q_frac\": 0.4, \"peff\": 0.03, \"Neff\": 566.0, \"bounds\": \"p Fixed\", \"measure\": \"hsize\", \"q / p\": 0.4, \"peff / p\": 1.0, \"neff / Nedges\": 2.83, \"neff / N\": 0.566}, {\"p\": 0.03, \"q\": 0.015, \"q_frac\": 0.5, \"peff\": 0.03, \"Neff\": 639.0, \"bounds\": \"p Fixed\", \"measure\": \"hsize\", \"q / p\": 0.5, \"peff / p\": 1.0, \"neff / Nedges\": 3.195, \"neff / N\": 0.639}, {\"p\": 0.03, \"q\": 0.018, \"q_frac\": 0.6, \"peff\": 0.03, \"Neff\": 711.0, \"bounds\": \"p Fixed\", \"measure\": \"hsize\", \"q / p\": 0.6, \"peff / p\": 1.0, \"neff / Nedges\": 3.555, \"neff / N\": 0.711}, {\"p\": 0.03, \"q\": 0.021, \"q_frac\": 0.7, \"peff\": 0.03, \"Neff\": 780.0, \"bounds\": \"p Fixed\", \"measure\": \"hsize\", \"q / p\": 0.7000000000000001, \"peff / p\": 1.0, \"neff / Nedges\": 3.9, \"neff / N\": 0.78}, {\"p\": 0.03, \"q\": 0.024, \"q_frac\": 0.8, \"peff\": 0.03, \"Neff\": 854.0, \"bounds\": \"p Fixed\", \"measure\": \"hsize\", \"q / p\": 0.8, \"peff / p\": 1.0, \"neff / Nedges\": 4.27, \"neff / N\": 0.854}, {\"p\": 0.03, \"q\": 0.027, \"q_frac\": 0.9, \"peff\": 0.03, \"Neff\": 928.0, \"bounds\": \"p Fixed\", \"measure\": \"hsize\", \"q / p\": 0.9, \"peff / p\": 1.0, \"neff / Nedges\": 4.64, \"neff / N\": 0.928}, {\"p\": 0.03, \"q\": 0.03, \"q_frac\": 1.0, \"peff\": 0.03, \"Neff\": 997.0, \"bounds\": \"p Fixed\", \"measure\": \"hsize\", \"q / p\": 1.0, \"peff / p\": 1.0, \"neff / Nedges\": 4.985, \"neff / N\": 0.997}]}, {\"name\": \"data_0\", \"source\": \"source_0\", \"transform\": [{\"type\": \"regression\", \"x\": \"q / p\", \"as\": [\"q / p\", \"neff / N\"], \"y\": \"neff / N\"}, {\"type\": \"project\", \"fields\": [\"neff / N\", \"q / p\"]}]}, {\"name\": \"data_1\", \"values\": [{\"neff / N\": 0.274, \"q / p\": 0.0}, {\"neff / N\": 0.346, \"q / p\": 0.1}, {\"neff / N\": 0.419, \"q / p\": 0.2}, {\"neff / N\": 0.491, \"q / p\": 0.3}, {\"neff / N\": 0.566, \"q / p\": 0.4}, {\"neff / N\": 0.639, \"q / p\": 0.5}, {\"neff / N\": 0.711, \"q / p\": 0.6}, {\"neff / N\": 0.78, \"q / p\": 0.7000000000000001}, {\"neff / N\": 0.854, \"q / p\": 0.8}, {\"neff / N\": 0.928, \"q / p\": 0.9}, {\"neff / N\": 0.997, \"q / p\": 1.0}]}], \"marks\": [{\"type\": \"line\", \"name\": \"layer_0_marks\", \"from\": {\"data\": \"data_0\"}, \"sort\": {\"field\": \"datum[\\\"q / p\\\"]\"}, \"encode\": {\"update\": {\"y\": {\"field\": \"neff / N\", \"scale\": \"y\"}, \"description\": {\"signal\": \"\\\"q / p: \\\" + (format(datum[\\\"q / p\\\"], \\\"\\\")) + \\\"; N* / N: \\\" + (format(datum[\\\"neff / N\\\"], \\\"\\\"))\"}, \"defined\": {\"signal\": \"isValid(datum[\\\"q / p\\\"]) && isFinite(+datum[\\\"q / p\\\"]) && isValid(datum[\\\"neff / N\\\"]) && isFinite(+datum[\\\"neff / N\\\"])\"}, \"stroke\": {\"value\": \"#9ebcda\"}, \"x\": {\"field\": \"q / p\", \"scale\": \"x\"}}}, \"style\": [\"line\"]}, {\"type\": \"symbol\", \"name\": \"layer_1_marks\", \"from\": {\"data\": \"data_1\"}, \"encode\": {\"update\": {\"stroke\": {\"value\": \"black\"}, \"fill\": {\"value\": \"#9ebcda\"}, \"size\": {\"value\": 80}, \"opacity\": {\"value\": 0.8}, \"ariaRoleDescription\": {\"value\": \"point\"}, \"y\": {\"field\": \"neff / N\", \"scale\": \"y\"}, \"description\": {\"signal\": \"\\\"q / p: \\\" + (format(datum[\\\"q / p\\\"], \\\"\\\")) + \\\"; N* / N: \\\" + (format(datum[\\\"neff / N\\\"], \\\"\\\"))\"}, \"x\": {\"field\": \"q / p\", \"scale\": \"x\"}}}, \"style\": [\"point\"]}], \"scales\": [{\"name\": \"x\", \"type\": \"linear\", \"domain\": {\"fields\": [{\"data\": \"data_0\", \"field\": \"q / p\"}, {\"data\": \"data_1\", \"field\": \"q / p\"}]}, \"range\": [0, {\"signal\": \"width\"}], \"nice\": true, \"zero\": false}, {\"name\": \"y\", \"type\": \"linear\", \"domain\": [0, 1.1], \"range\": [{\"signal\": \"height\"}, 0], \"zero\": true}], \"axes\": [{\"scale\": \"x\", \"tickCount\": {\"signal\": \"ceil(width/40)\"}, \"orient\": \"bottom\", \"title\": \"q / p\", \"labelFlush\": true, \"labelOverlap\": true, \"zindex\": 0, \"grid\": false, \"format\": \"\"}, {\"scale\": \"y\", \"zindex\": 0, \"labelOverlap\": true, \"orient\": \"left\", \"grid\": false, \"title\": \"N* / N\", \"tickCount\": {\"signal\": \"ceil(height/40)\"}}], \"background\": \"white\", \"height\": 300, \"padding\": 5, \"config\": {\"mark\": {\"fill\": \"#9ebcda\"}, \"axisX\": {\"labelFont\": \"monospace\", \"labelFontSize\": 16, \"titleFontSize\": 20, \"grid\": false}, \"axisY\": {\"domain\": false, \"grid\": false, \"labelFont\": \"monospace\", \"labelFontSize\": 16, \"titleFontSize\": 20}, \"legend\": {\"titleFontSize\": 20, \"labelFontSize\": 16}, \"style\": {\"cell\": {\"height\": 300, \"width\": 300}, \"line\": {\"fill\": null, \"stroke\": \"black\"}, \"group-title\": {\"fontSize\": 18, \"font\": \"monospace\", \"fontColor\": \"#000000\"}}}, \"width\": 600, \"style\": \"cell\"}, {\"mode\": \"vega\"});\n",
       "</script>"
      ],
      "text/plain": [
       "alt.LayerChart(...)"
      ]
     },
     "execution_count": 176,
     "metadata": {},
     "output_type": "execute_result"
    }
   ],
   "source": [
    "hsize_chart = chart.transform_regression('q / p', 'neff / N').mark_line(color=markColor) + chart\n",
    "hsize_chart"
   ]
  },
  {
   "cell_type": "code",
   "execution_count": 177,
   "id": "9c41feed-e272-4839-a036-e951c3213007",
   "metadata": {},
   "outputs": [],
   "source": [
    "df = df_fits2[(df_fits2.measure == \"degree\") & (df_fits2.bounds == \"p Fixed\") & (~df_fits2[\"q / p\"].isin([0.01, 0.05]))]\n",
    "chart2 = alt.Chart(df).mark_point(size=80, opacity=0.8, fill=markColor, stroke=\"black\", shape=\"square\").encode(\n",
    "    # x=alt.X('q / p', sort=q_frac_order, axis=None),\n",
    "    x=alt.X('q / p', axis=alt.Axis(format='')),\n",
    "    # x=alt.X('q', sort=q_frac_order, axis=alt.Axis(labelExpr=q_frac_order)),\n",
    "    y=alt.Y('neff / Nedges', title=\"E* / E\", scale=alt.Scale(domain=[0, 1.1])),\n",
    ").properties(\n",
    "    width=600,\n",
    "    height=300\n",
    ")"
   ]
  },
  {
   "cell_type": "code",
   "execution_count": 178,
   "id": "e3ef9a8f-c735-4818-8b90-4924f73a4566",
   "metadata": {
    "tags": []
   },
   "outputs": [],
   "source": [
    "reg_degree = chart2.transform_regression('q / p', 'neff / Nedges', params=False).mark_line(color=markColor)"
   ]
  },
  {
   "cell_type": "code",
   "execution_count": 179,
   "id": "e7fd72ec-4ced-4158-bb8e-7a9fc4203e3a",
   "metadata": {},
   "outputs": [
    {
     "data": {
      "text/html": [
       "\n",
       "<style>\n",
       "  #altair-viz-080e8659f5524d24b2f2fbb4c836a6f3.vega-embed {\n",
       "    width: 100%;\n",
       "    display: flex;\n",
       "  }\n",
       "\n",
       "  #altair-viz-080e8659f5524d24b2f2fbb4c836a6f3.vega-embed details,\n",
       "  #altair-viz-080e8659f5524d24b2f2fbb4c836a6f3.vega-embed details summary {\n",
       "    position: relative;\n",
       "  }\n",
       "</style>\n",
       "<div id=\"altair-viz-080e8659f5524d24b2f2fbb4c836a6f3\"></div>\n",
       "<script type=\"text/javascript\">\n",
       "  var VEGA_DEBUG = (typeof VEGA_DEBUG == \"undefined\") ? {} : VEGA_DEBUG;\n",
       "  (function(spec, embedOpt){\n",
       "    let outputDiv = document.currentScript.previousElementSibling;\n",
       "    if (outputDiv.id !== \"altair-viz-080e8659f5524d24b2f2fbb4c836a6f3\") {\n",
       "      outputDiv = document.getElementById(\"altair-viz-080e8659f5524d24b2f2fbb4c836a6f3\");\n",
       "    }\n",
       "    const paths = {\n",
       "      \"vega\": \"https://cdn.jsdelivr.net/npm/vega@5?noext\",\n",
       "      \"vega-lib\": \"https://cdn.jsdelivr.net/npm/vega-lib?noext\",\n",
       "      \"vega-lite\": \"https://cdn.jsdelivr.net/npm/vega-lite@5.15.1?noext\",\n",
       "      \"vega-embed\": \"https://cdn.jsdelivr.net/npm/vega-embed@6?noext\",\n",
       "    };\n",
       "\n",
       "    function maybeLoadScript(lib, version) {\n",
       "      var key = `${lib.replace(\"-\", \"\")}_version`;\n",
       "      return (VEGA_DEBUG[key] == version) ?\n",
       "        Promise.resolve(paths[lib]) :\n",
       "        new Promise(function(resolve, reject) {\n",
       "          var s = document.createElement('script');\n",
       "          document.getElementsByTagName(\"head\")[0].appendChild(s);\n",
       "          s.async = true;\n",
       "          s.onload = () => {\n",
       "            VEGA_DEBUG[key] = version;\n",
       "            return resolve(paths[lib]);\n",
       "          };\n",
       "          s.onerror = () => reject(`Error loading script: ${paths[lib]}`);\n",
       "          s.src = paths[lib];\n",
       "        });\n",
       "    }\n",
       "\n",
       "    function showError(err) {\n",
       "      outputDiv.innerHTML = `<div class=\"error\" style=\"color:red;\">${err}</div>`;\n",
       "      throw err;\n",
       "    }\n",
       "\n",
       "    function displayChart(vegaEmbed) {\n",
       "      vegaEmbed(outputDiv, spec, embedOpt)\n",
       "        .catch(err => showError(`Javascript Error: ${err.message}<br>This usually means there's a typo in your chart specification. See the javascript console for the full traceback.`));\n",
       "    }\n",
       "\n",
       "    if(typeof define === \"function\" && define.amd) {\n",
       "      requirejs.config({paths});\n",
       "      require([\"vega-embed\"], displayChart, err => showError(`Error loading script: ${err.message}`));\n",
       "    } else {\n",
       "      maybeLoadScript(\"vega\", \"5\")\n",
       "        .then(() => maybeLoadScript(\"vega-lite\", \"5.15.1\"))\n",
       "        .then(() => maybeLoadScript(\"vega-embed\", \"6\"))\n",
       "        .catch(showError)\n",
       "        .then(() => displayChart(vegaEmbed));\n",
       "    }\n",
       "  })({\"$schema\": \"https://vega.github.io/schema/vega/v5.json\", \"data\": [{\"name\": \"source_0\", \"values\": [{\"p\": 0.03, \"q\": 0.0, \"q_frac\": 0.0, \"peff\": 0.03, \"Neff\": 55.0, \"bounds\": \"p Fixed\", \"measure\": \"degree\", \"q / p\": 0.0, \"peff / p\": 1.0, \"neff / Nedges\": 0.275, \"neff / N\": 0.055}, {\"p\": 0.03, \"q\": 0.003, \"q_frac\": 0.1, \"peff\": 0.03, \"Neff\": 69.0, \"bounds\": \"p Fixed\", \"measure\": \"degree\", \"q / p\": 0.1, \"peff / p\": 1.0, \"neff / Nedges\": 0.345, \"neff / N\": 0.069}, {\"p\": 0.03, \"q\": 0.006, \"q_frac\": 0.2, \"peff\": 0.03, \"Neff\": 84.0, \"bounds\": \"p Fixed\", \"measure\": \"degree\", \"q / p\": 0.2, \"peff / p\": 1.0, \"neff / Nedges\": 0.42, \"neff / N\": 0.084}, {\"p\": 0.03, \"q\": 0.009, \"q_frac\": 0.3, \"peff\": 0.03, \"Neff\": 98.0, \"bounds\": \"p Fixed\", \"measure\": \"degree\", \"q / p\": 0.3, \"peff / p\": 1.0, \"neff / Nedges\": 0.49, \"neff / N\": 0.098}, {\"p\": 0.03, \"q\": 0.012, \"q_frac\": 0.4, \"peff\": 0.03, \"Neff\": 113.0, \"bounds\": \"p Fixed\", \"measure\": \"degree\", \"q / p\": 0.4, \"peff / p\": 1.0, \"neff / Nedges\": 0.565, \"neff / N\": 0.113}, {\"p\": 0.03, \"q\": 0.015, \"q_frac\": 0.5, \"peff\": 0.03, \"Neff\": 128.0, \"bounds\": \"p Fixed\", \"measure\": \"degree\", \"q / p\": 0.5, \"peff / p\": 1.0, \"neff / Nedges\": 0.64, \"neff / N\": 0.128}, {\"p\": 0.03, \"q\": 0.018, \"q_frac\": 0.6, \"peff\": 0.03, \"Neff\": 142.0, \"bounds\": \"p Fixed\", \"measure\": \"degree\", \"q / p\": 0.6, \"peff / p\": 1.0, \"neff / Nedges\": 0.71, \"neff / N\": 0.142}, {\"p\": 0.03, \"q\": 0.021, \"q_frac\": 0.7, \"peff\": 0.03, \"Neff\": 156.0, \"bounds\": \"p Fixed\", \"measure\": \"degree\", \"q / p\": 0.7000000000000001, \"peff / p\": 1.0, \"neff / Nedges\": 0.78, \"neff / N\": 0.156}, {\"p\": 0.03, \"q\": 0.024, \"q_frac\": 0.8, \"peff\": 0.03, \"Neff\": 171.0, \"bounds\": \"p Fixed\", \"measure\": \"degree\", \"q / p\": 0.8, \"peff / p\": 1.0, \"neff / Nedges\": 0.855, \"neff / N\": 0.171}, {\"p\": 0.03, \"q\": 0.027, \"q_frac\": 0.9, \"peff\": 0.03, \"Neff\": 186.0, \"bounds\": \"p Fixed\", \"measure\": \"degree\", \"q / p\": 0.9, \"peff / p\": 1.0, \"neff / Nedges\": 0.93, \"neff / N\": 0.186}, {\"p\": 0.03, \"q\": 0.03, \"q_frac\": 1.0, \"peff\": 0.03, \"Neff\": 200.0, \"bounds\": \"p Fixed\", \"measure\": \"degree\", \"q / p\": 1.0, \"peff / p\": 1.0, \"neff / Nedges\": 1.0, \"neff / N\": 0.2}]}, {\"name\": \"data_0\", \"source\": \"source_0\", \"transform\": [{\"type\": \"regression\", \"y\": \"neff / Nedges\", \"params\": false, \"x\": \"q / p\", \"as\": [\"q / p\", \"neff / Nedges\"]}, {\"type\": \"project\", \"fields\": [\"neff / Nedges\", \"q / p\"]}]}, {\"name\": \"data_1\", \"values\": [{\"neff / Nedges\": 0.275, \"q / p\": 0.0}, {\"neff / Nedges\": 0.345, \"q / p\": 0.1}, {\"neff / Nedges\": 0.42, \"q / p\": 0.2}, {\"neff / Nedges\": 0.49, \"q / p\": 0.3}, {\"neff / Nedges\": 0.565, \"q / p\": 0.4}, {\"neff / Nedges\": 0.64, \"q / p\": 0.5}, {\"neff / Nedges\": 0.71, \"q / p\": 0.6}, {\"neff / Nedges\": 0.78, \"q / p\": 0.7000000000000001}, {\"neff / Nedges\": 0.855, \"q / p\": 0.8}, {\"neff / Nedges\": 0.93, \"q / p\": 0.9}, {\"neff / Nedges\": 1.0, \"q / p\": 1.0}]}], \"marks\": [{\"type\": \"line\", \"name\": \"layer_0_marks\", \"from\": {\"data\": \"data_0\"}, \"sort\": {\"field\": \"datum[\\\"q / p\\\"]\"}, \"encode\": {\"update\": {\"stroke\": {\"value\": \"#9ebcda\"}, \"description\": {\"signal\": \"\\\"q / p: \\\" + (format(datum[\\\"q / p\\\"], \\\"\\\")) + \\\"; E* / E: \\\" + (format(datum[\\\"neff / Nedges\\\"], \\\"\\\"))\"}, \"y\": {\"field\": \"neff / Nedges\", \"scale\": \"y\"}, \"defined\": {\"signal\": \"isValid(datum[\\\"q / p\\\"]) && isFinite(+datum[\\\"q / p\\\"]) && isValid(datum[\\\"neff / Nedges\\\"]) && isFinite(+datum[\\\"neff / Nedges\\\"])\"}, \"x\": {\"field\": \"q / p\", \"scale\": \"x\"}}}, \"style\": [\"line\"]}, {\"type\": \"symbol\", \"name\": \"layer_1_marks\", \"from\": {\"data\": \"data_1\"}, \"encode\": {\"update\": {\"ariaRoleDescription\": {\"value\": \"point\"}, \"opacity\": {\"value\": 0.8}, \"size\": {\"value\": 80}, \"description\": {\"signal\": \"\\\"q / p: \\\" + (format(datum[\\\"q / p\\\"], \\\"\\\")) + \\\"; E* / E: \\\" + (format(datum[\\\"neff / Nedges\\\"], \\\"\\\"))\"}, \"stroke\": {\"value\": \"black\"}, \"fill\": {\"value\": \"#9ebcda\"}, \"x\": {\"field\": \"q / p\", \"scale\": \"x\"}, \"y\": {\"field\": \"neff / Nedges\", \"scale\": \"y\"}, \"shape\": {\"value\": \"square\"}}}, \"style\": [\"point\"]}], \"scales\": [{\"name\": \"x\", \"type\": \"linear\", \"domain\": {\"fields\": [{\"data\": \"data_0\", \"field\": \"q / p\"}, {\"data\": \"data_1\", \"field\": \"q / p\"}]}, \"range\": [0, {\"signal\": \"width\"}], \"zero\": false, \"nice\": true}, {\"name\": \"y\", \"type\": \"linear\", \"domain\": [0, 1.1], \"range\": [{\"signal\": \"height\"}, 0], \"zero\": true}], \"axes\": [{\"scale\": \"x\", \"format\": \"\", \"title\": \"q / p\", \"grid\": false, \"labelFlush\": true, \"tickCount\": {\"signal\": \"ceil(width/40)\"}, \"zindex\": 0, \"labelOverlap\": true, \"orient\": \"bottom\"}, {\"scale\": \"y\", \"orient\": \"left\", \"labelOverlap\": true, \"zindex\": 0, \"title\": \"E* / E\", \"tickCount\": {\"signal\": \"ceil(height/40)\"}, \"grid\": false}], \"background\": \"white\", \"width\": 600, \"style\": \"cell\", \"padding\": 5, \"config\": {\"mark\": {\"fill\": \"#9ebcda\"}, \"axisX\": {\"labelFont\": \"monospace\", \"labelFontSize\": 16, \"titleFontSize\": 20, \"grid\": false}, \"axisY\": {\"domain\": false, \"grid\": false, \"labelFont\": \"monospace\", \"labelFontSize\": 16, \"titleFontSize\": 20}, \"legend\": {\"titleFontSize\": 20, \"labelFontSize\": 16}, \"style\": {\"cell\": {\"height\": 300, \"width\": 300}, \"line\": {\"fill\": null, \"stroke\": \"black\"}, \"group-title\": {\"fontSize\": 18, \"font\": \"monospace\", \"fontColor\": \"#000000\"}}}, \"height\": 300}, {\"mode\": \"vega\"});\n",
       "</script>"
      ],
      "text/plain": [
       "alt.LayerChart(...)"
      ]
     },
     "execution_count": 179,
     "metadata": {},
     "output_type": "execute_result"
    }
   ],
   "source": [
    "degree_chart = reg_degree + chart2 \n",
    "degree_chart"
   ]
  },
  {
   "cell_type": "code",
   "execution_count": 180,
   "id": "7dfa1dca-850b-403e-87fe-57e2605802a5",
   "metadata": {},
   "outputs": [
    {
     "data": {
      "text/html": [
       "\n",
       "<style>\n",
       "  #altair-viz-f7d8e280abab4f0682c2daa58ca84069.vega-embed {\n",
       "    width: 100%;\n",
       "    display: flex;\n",
       "  }\n",
       "\n",
       "  #altair-viz-f7d8e280abab4f0682c2daa58ca84069.vega-embed details,\n",
       "  #altair-viz-f7d8e280abab4f0682c2daa58ca84069.vega-embed details summary {\n",
       "    position: relative;\n",
       "  }\n",
       "</style>\n",
       "<div id=\"altair-viz-f7d8e280abab4f0682c2daa58ca84069\"></div>\n",
       "<script type=\"text/javascript\">\n",
       "  var VEGA_DEBUG = (typeof VEGA_DEBUG == \"undefined\") ? {} : VEGA_DEBUG;\n",
       "  (function(spec, embedOpt){\n",
       "    let outputDiv = document.currentScript.previousElementSibling;\n",
       "    if (outputDiv.id !== \"altair-viz-f7d8e280abab4f0682c2daa58ca84069\") {\n",
       "      outputDiv = document.getElementById(\"altair-viz-f7d8e280abab4f0682c2daa58ca84069\");\n",
       "    }\n",
       "    const paths = {\n",
       "      \"vega\": \"https://cdn.jsdelivr.net/npm/vega@5?noext\",\n",
       "      \"vega-lib\": \"https://cdn.jsdelivr.net/npm/vega-lib?noext\",\n",
       "      \"vega-lite\": \"https://cdn.jsdelivr.net/npm/vega-lite@5.15.1?noext\",\n",
       "      \"vega-embed\": \"https://cdn.jsdelivr.net/npm/vega-embed@6?noext\",\n",
       "    };\n",
       "\n",
       "    function maybeLoadScript(lib, version) {\n",
       "      var key = `${lib.replace(\"-\", \"\")}_version`;\n",
       "      return (VEGA_DEBUG[key] == version) ?\n",
       "        Promise.resolve(paths[lib]) :\n",
       "        new Promise(function(resolve, reject) {\n",
       "          var s = document.createElement('script');\n",
       "          document.getElementsByTagName(\"head\")[0].appendChild(s);\n",
       "          s.async = true;\n",
       "          s.onload = () => {\n",
       "            VEGA_DEBUG[key] = version;\n",
       "            return resolve(paths[lib]);\n",
       "          };\n",
       "          s.onerror = () => reject(`Error loading script: ${paths[lib]}`);\n",
       "          s.src = paths[lib];\n",
       "        });\n",
       "    }\n",
       "\n",
       "    function showError(err) {\n",
       "      outputDiv.innerHTML = `<div class=\"error\" style=\"color:red;\">${err}</div>`;\n",
       "      throw err;\n",
       "    }\n",
       "\n",
       "    function displayChart(vegaEmbed) {\n",
       "      vegaEmbed(outputDiv, spec, embedOpt)\n",
       "        .catch(err => showError(`Javascript Error: ${err.message}<br>This usually means there's a typo in your chart specification. See the javascript console for the full traceback.`));\n",
       "    }\n",
       "\n",
       "    if(typeof define === \"function\" && define.amd) {\n",
       "      requirejs.config({paths});\n",
       "      require([\"vega-embed\"], displayChart, err => showError(`Error loading script: ${err.message}`));\n",
       "    } else {\n",
       "      maybeLoadScript(\"vega\", \"5\")\n",
       "        .then(() => maybeLoadScript(\"vega-lite\", \"5.15.1\"))\n",
       "        .then(() => maybeLoadScript(\"vega-embed\", \"6\"))\n",
       "        .catch(showError)\n",
       "        .then(() => displayChart(vegaEmbed));\n",
       "    }\n",
       "  })({\"$schema\": \"https://vega.github.io/schema/vega/v5.json\", \"data\": [{\"name\": \"source_0\", \"values\": [{\"p\": 0.03, \"q\": 0.0, \"q_frac\": 0.0, \"peff\": 0.03, \"Neff\": 55.0, \"bounds\": \"p Fixed\", \"measure\": \"degree\", \"q / p\": 0.0, \"peff / p\": 1.0, \"neff / Nedges\": 0.275, \"neff / N\": 0.055}, {\"p\": 0.03, \"q\": 0.003, \"q_frac\": 0.1, \"peff\": 0.03, \"Neff\": 69.0, \"bounds\": \"p Fixed\", \"measure\": \"degree\", \"q / p\": 0.1, \"peff / p\": 1.0, \"neff / Nedges\": 0.345, \"neff / N\": 0.069}, {\"p\": 0.03, \"q\": 0.006, \"q_frac\": 0.2, \"peff\": 0.03, \"Neff\": 84.0, \"bounds\": \"p Fixed\", \"measure\": \"degree\", \"q / p\": 0.2, \"peff / p\": 1.0, \"neff / Nedges\": 0.42, \"neff / N\": 0.084}, {\"p\": 0.03, \"q\": 0.009, \"q_frac\": 0.3, \"peff\": 0.03, \"Neff\": 98.0, \"bounds\": \"p Fixed\", \"measure\": \"degree\", \"q / p\": 0.3, \"peff / p\": 1.0, \"neff / Nedges\": 0.49, \"neff / N\": 0.098}, {\"p\": 0.03, \"q\": 0.012, \"q_frac\": 0.4, \"peff\": 0.03, \"Neff\": 113.0, \"bounds\": \"p Fixed\", \"measure\": \"degree\", \"q / p\": 0.4, \"peff / p\": 1.0, \"neff / Nedges\": 0.565, \"neff / N\": 0.113}, {\"p\": 0.03, \"q\": 0.015, \"q_frac\": 0.5, \"peff\": 0.03, \"Neff\": 128.0, \"bounds\": \"p Fixed\", \"measure\": \"degree\", \"q / p\": 0.5, \"peff / p\": 1.0, \"neff / Nedges\": 0.64, \"neff / N\": 0.128}, {\"p\": 0.03, \"q\": 0.018, \"q_frac\": 0.6, \"peff\": 0.03, \"Neff\": 142.0, \"bounds\": \"p Fixed\", \"measure\": \"degree\", \"q / p\": 0.6, \"peff / p\": 1.0, \"neff / Nedges\": 0.71, \"neff / N\": 0.142}, {\"p\": 0.03, \"q\": 0.021, \"q_frac\": 0.7, \"peff\": 0.03, \"Neff\": 156.0, \"bounds\": \"p Fixed\", \"measure\": \"degree\", \"q / p\": 0.7000000000000001, \"peff / p\": 1.0, \"neff / Nedges\": 0.78, \"neff / N\": 0.156}, {\"p\": 0.03, \"q\": 0.024, \"q_frac\": 0.8, \"peff\": 0.03, \"Neff\": 171.0, \"bounds\": \"p Fixed\", \"measure\": \"degree\", \"q / p\": 0.8, \"peff / p\": 1.0, \"neff / Nedges\": 0.855, \"neff / N\": 0.171}, {\"p\": 0.03, \"q\": 0.027, \"q_frac\": 0.9, \"peff\": 0.03, \"Neff\": 186.0, \"bounds\": \"p Fixed\", \"measure\": \"degree\", \"q / p\": 0.9, \"peff / p\": 1.0, \"neff / Nedges\": 0.93, \"neff / N\": 0.186}, {\"p\": 0.03, \"q\": 0.03, \"q_frac\": 1.0, \"peff\": 0.03, \"Neff\": 200.0, \"bounds\": \"p Fixed\", \"measure\": \"degree\", \"q / p\": 1.0, \"peff / p\": 1.0, \"neff / Nedges\": 1.0, \"neff / N\": 0.2}]}, {\"name\": \"source_1\", \"values\": [{\"p\": 0.03, \"q\": 0.0, \"q_frac\": 0.0, \"peff\": 0.03, \"Neff\": 274.0, \"bounds\": \"p Fixed\", \"measure\": \"hsize\", \"q / p\": 0.0, \"peff / p\": 1.0, \"neff / Nedges\": 1.37, \"neff / N\": 0.274}, {\"p\": 0.03, \"q\": 0.003, \"q_frac\": 0.1, \"peff\": 0.03, \"Neff\": 346.0, \"bounds\": \"p Fixed\", \"measure\": \"hsize\", \"q / p\": 0.1, \"peff / p\": 1.0, \"neff / Nedges\": 1.73, \"neff / N\": 0.346}, {\"p\": 0.03, \"q\": 0.006, \"q_frac\": 0.2, \"peff\": 0.03, \"Neff\": 419.0, \"bounds\": \"p Fixed\", \"measure\": \"hsize\", \"q / p\": 0.2, \"peff / p\": 1.0, \"neff / Nedges\": 2.095, \"neff / N\": 0.419}, {\"p\": 0.03, \"q\": 0.009, \"q_frac\": 0.3, \"peff\": 0.03, \"Neff\": 491.0, \"bounds\": \"p Fixed\", \"measure\": \"hsize\", \"q / p\": 0.3, \"peff / p\": 1.0, \"neff / Nedges\": 2.455, \"neff / N\": 0.491}, {\"p\": 0.03, \"q\": 0.012, \"q_frac\": 0.4, \"peff\": 0.03, \"Neff\": 566.0, \"bounds\": \"p Fixed\", \"measure\": \"hsize\", \"q / p\": 0.4, \"peff / p\": 1.0, \"neff / Nedges\": 2.83, \"neff / N\": 0.566}, {\"p\": 0.03, \"q\": 0.015, \"q_frac\": 0.5, \"peff\": 0.03, \"Neff\": 639.0, \"bounds\": \"p Fixed\", \"measure\": \"hsize\", \"q / p\": 0.5, \"peff / p\": 1.0, \"neff / Nedges\": 3.195, \"neff / N\": 0.639}, {\"p\": 0.03, \"q\": 0.018, \"q_frac\": 0.6, \"peff\": 0.03, \"Neff\": 711.0, \"bounds\": \"p Fixed\", \"measure\": \"hsize\", \"q / p\": 0.6, \"peff / p\": 1.0, \"neff / Nedges\": 3.555, \"neff / N\": 0.711}, {\"p\": 0.03, \"q\": 0.021, \"q_frac\": 0.7, \"peff\": 0.03, \"Neff\": 780.0, \"bounds\": \"p Fixed\", \"measure\": \"hsize\", \"q / p\": 0.7000000000000001, \"peff / p\": 1.0, \"neff / Nedges\": 3.9, \"neff / N\": 0.78}, {\"p\": 0.03, \"q\": 0.024, \"q_frac\": 0.8, \"peff\": 0.03, \"Neff\": 854.0, \"bounds\": \"p Fixed\", \"measure\": \"hsize\", \"q / p\": 0.8, \"peff / p\": 1.0, \"neff / Nedges\": 4.27, \"neff / N\": 0.854}, {\"p\": 0.03, \"q\": 0.027, \"q_frac\": 0.9, \"peff\": 0.03, \"Neff\": 928.0, \"bounds\": \"p Fixed\", \"measure\": \"hsize\", \"q / p\": 0.9, \"peff / p\": 1.0, \"neff / Nedges\": 4.64, \"neff / N\": 0.928}, {\"p\": 0.03, \"q\": 0.03, \"q_frac\": 1.0, \"peff\": 0.03, \"Neff\": 997.0, \"bounds\": \"p Fixed\", \"measure\": \"hsize\", \"q / p\": 1.0, \"peff / p\": 1.0, \"neff / Nedges\": 4.985, \"neff / N\": 0.997}]}, {\"name\": \"data_0\", \"source\": \"source_0\", \"transform\": [{\"type\": \"regression\", \"as\": [\"q / p\", \"neff / Nedges\"], \"y\": \"neff / Nedges\", \"x\": \"q / p\", \"params\": false}, {\"type\": \"project\", \"fields\": [\"neff / Nedges\", \"q / p\"]}]}, {\"name\": \"data_1\", \"values\": [{\"neff / Nedges\": 0.275, \"q / p\": 0.0}, {\"neff / Nedges\": 0.345, \"q / p\": 0.1}, {\"neff / Nedges\": 0.42, \"q / p\": 0.2}, {\"neff / Nedges\": 0.49, \"q / p\": 0.3}, {\"neff / Nedges\": 0.565, \"q / p\": 0.4}, {\"neff / Nedges\": 0.64, \"q / p\": 0.5}, {\"neff / Nedges\": 0.71, \"q / p\": 0.6}, {\"neff / Nedges\": 0.78, \"q / p\": 0.7000000000000001}, {\"neff / Nedges\": 0.855, \"q / p\": 0.8}, {\"neff / Nedges\": 0.93, \"q / p\": 0.9}, {\"neff / Nedges\": 1.0, \"q / p\": 1.0}]}, {\"name\": \"data_2\", \"source\": \"source_1\", \"transform\": [{\"type\": \"regression\", \"x\": \"q / p\", \"y\": \"neff / N\", \"as\": [\"q / p\", \"neff / N\"]}, {\"type\": \"project\", \"fields\": [\"neff / N\", \"q / p\"]}]}, {\"name\": \"data_3\", \"values\": [{\"neff / N\": 0.274, \"q / p\": 0.0}, {\"neff / N\": 0.346, \"q / p\": 0.1}, {\"neff / N\": 0.419, \"q / p\": 0.2}, {\"neff / N\": 0.491, \"q / p\": 0.3}, {\"neff / N\": 0.566, \"q / p\": 0.4}, {\"neff / N\": 0.639, \"q / p\": 0.5}, {\"neff / N\": 0.711, \"q / p\": 0.6}, {\"neff / N\": 0.78, \"q / p\": 0.7000000000000001}, {\"neff / N\": 0.854, \"q / p\": 0.8}, {\"neff / N\": 0.928, \"q / p\": 0.9}, {\"neff / N\": 0.997, \"q / p\": 1.0}]}], \"signals\": [{\"name\": \"childWidth\", \"value\": 600}], \"marks\": [{\"type\": \"group\", \"name\": \"concat_0_group\", \"encode\": {\"update\": {\"width\": {\"signal\": \"childWidth\"}, \"height\": {\"signal\": \"height\"}}}, \"marks\": [{\"type\": \"line\", \"name\": \"concat_0_layer_0_marks\", \"from\": {\"data\": \"data_0\"}, \"sort\": {\"field\": \"datum[\\\"q / p\\\"]\"}, \"encode\": {\"update\": {\"description\": {\"signal\": \"\\\"q / p: \\\" + (format(datum[\\\"q / p\\\"], \\\"\\\")) + \\\"; E* / E: \\\" + (format(datum[\\\"neff / Nedges\\\"], \\\"\\\"))\"}, \"defined\": {\"signal\": \"isValid(datum[\\\"q / p\\\"]) && isFinite(+datum[\\\"q / p\\\"]) && isValid(datum[\\\"neff / Nedges\\\"]) && isFinite(+datum[\\\"neff / Nedges\\\"])\"}, \"x\": {\"field\": \"q / p\", \"scale\": \"concat_0_x\"}, \"y\": {\"field\": \"neff / Nedges\", \"scale\": \"concat_0_y\"}, \"stroke\": {\"value\": \"#9ebcda\"}}}, \"style\": [\"line\"]}, {\"type\": \"symbol\", \"name\": \"concat_0_layer_1_marks\", \"from\": {\"data\": \"data_1\"}, \"encode\": {\"update\": {\"size\": {\"value\": 80}, \"shape\": {\"value\": \"square\"}, \"ariaRoleDescription\": {\"value\": \"point\"}, \"x\": {\"field\": \"q / p\", \"scale\": \"concat_0_x\"}, \"fill\": {\"value\": \"#9ebcda\"}, \"y\": {\"field\": \"neff / Nedges\", \"scale\": \"concat_0_y\"}, \"opacity\": {\"value\": 0.8}, \"description\": {\"signal\": \"\\\"q / p: \\\" + (format(datum[\\\"q / p\\\"], \\\"\\\")) + \\\"; E* / E: \\\" + (format(datum[\\\"neff / Nedges\\\"], \\\"\\\"))\"}, \"stroke\": {\"value\": \"black\"}}}, \"style\": [\"point\"]}], \"axes\": [{\"scale\": \"concat_0_x\", \"labelFlush\": true, \"tickCount\": {\"signal\": \"ceil(childWidth/40)\"}, \"format\": \"\", \"orient\": \"bottom\", \"grid\": false, \"title\": \"q / p\", \"labelOverlap\": true, \"zindex\": 0}, {\"scale\": \"concat_0_y\", \"tickCount\": {\"signal\": \"ceil(height/40)\"}, \"orient\": \"left\", \"grid\": false, \"zindex\": 0, \"title\": \"E* / E\", \"labelOverlap\": true}], \"style\": \"cell\"}, {\"type\": \"group\", \"name\": \"concat_1_group\", \"encode\": {\"update\": {\"width\": {\"signal\": \"childWidth\"}, \"height\": {\"signal\": \"height\"}}}, \"marks\": [{\"type\": \"line\", \"name\": \"concat_1_layer_0_marks\", \"from\": {\"data\": \"data_2\"}, \"sort\": {\"field\": \"datum[\\\"q / p\\\"]\"}, \"encode\": {\"update\": {\"x\": {\"field\": \"q / p\", \"scale\": \"concat_1_x\"}, \"stroke\": {\"value\": \"#9ebcda\"}, \"description\": {\"signal\": \"\\\"q / p: \\\" + (format(datum[\\\"q / p\\\"], \\\"\\\")) + \\\"; N* / N: \\\" + (format(datum[\\\"neff / N\\\"], \\\"\\\"))\"}, \"y\": {\"field\": \"neff / N\", \"scale\": \"concat_1_y\"}, \"defined\": {\"signal\": \"isValid(datum[\\\"q / p\\\"]) && isFinite(+datum[\\\"q / p\\\"]) && isValid(datum[\\\"neff / N\\\"]) && isFinite(+datum[\\\"neff / N\\\"])\"}}}, \"style\": [\"line\"]}, {\"type\": \"symbol\", \"name\": \"concat_1_layer_1_marks\", \"from\": {\"data\": \"data_3\"}, \"encode\": {\"update\": {\"stroke\": {\"value\": \"black\"}, \"x\": {\"field\": \"q / p\", \"scale\": \"concat_1_x\"}, \"fill\": {\"value\": \"#9ebcda\"}, \"y\": {\"field\": \"neff / N\", \"scale\": \"concat_1_y\"}, \"description\": {\"signal\": \"\\\"q / p: \\\" + (format(datum[\\\"q / p\\\"], \\\"\\\")) + \\\"; N* / N: \\\" + (format(datum[\\\"neff / N\\\"], \\\"\\\"))\"}, \"ariaRoleDescription\": {\"value\": \"point\"}, \"opacity\": {\"value\": 0.8}, \"size\": {\"value\": 80}}}, \"style\": [\"point\"]}], \"axes\": [{\"scale\": \"concat_1_x\", \"labelOverlap\": true, \"orient\": \"bottom\", \"grid\": false, \"tickCount\": {\"signal\": \"ceil(childWidth/40)\"}, \"format\": \"\", \"zindex\": 0, \"title\": \"q / p\", \"labelFlush\": true}, {\"scale\": \"concat_1_y\", \"labelOverlap\": true, \"zindex\": 0, \"orient\": \"left\", \"tickCount\": {\"signal\": \"ceil(height/40)\"}, \"grid\": false, \"title\": \"N* / N\"}], \"style\": \"cell\"}], \"scales\": [{\"name\": \"concat_0_x\", \"type\": \"linear\", \"domain\": {\"fields\": [{\"data\": \"data_0\", \"field\": \"q / p\"}, {\"data\": \"data_1\", \"field\": \"q / p\"}]}, \"range\": [0, {\"signal\": \"childWidth\"}], \"nice\": true, \"zero\": false}, {\"name\": \"concat_0_y\", \"type\": \"linear\", \"domain\": [0, 1.1], \"range\": [{\"signal\": \"height\"}, 0], \"zero\": true}, {\"name\": \"concat_1_x\", \"type\": \"linear\", \"domain\": {\"fields\": [{\"data\": \"data_2\", \"field\": \"q / p\"}, {\"data\": \"data_3\", \"field\": \"q / p\"}]}, \"range\": [0, {\"signal\": \"childWidth\"}], \"zero\": false, \"nice\": true}, {\"name\": \"concat_1_y\", \"type\": \"linear\", \"domain\": [0, 1.1], \"range\": [{\"signal\": \"height\"}, 0], \"zero\": true}], \"background\": \"white\", \"height\": 300, \"config\": {\"mark\": {\"fill\": \"#9ebcda\"}, \"axisX\": {\"labelFont\": \"monospace\", \"labelFontSize\": 16, \"titleFontSize\": 20, \"grid\": false}, \"axisY\": {\"domain\": false, \"grid\": false, \"labelFont\": \"monospace\", \"labelFontSize\": 16, \"titleFontSize\": 20}, \"legend\": {\"titleFontSize\": 20, \"labelFontSize\": 16}, \"style\": {\"cell\": {\"height\": 300, \"width\": 300}, \"line\": {\"fill\": null, \"stroke\": \"black\"}, \"group-title\": {\"fontSize\": 18, \"font\": \"monospace\", \"fontColor\": \"#000000\"}}}, \"padding\": 5, \"layout\": {\"padding\": 20, \"bounds\": \"full\", \"align\": \"each\"}}, {\"mode\": \"vega\"});\n",
       "</script>"
      ],
      "text/plain": [
       "alt.HConcatChart(...)"
      ]
     },
     "execution_count": 180,
     "metadata": {},
     "output_type": "execute_result"
    }
   ],
   "source": [
    "# Faire varier l'axe en 0.10\n",
    "# appeler Neff et Eeff\n",
    "\n",
    "degree_chart | hsize_chart\n",
    "# alt.layer(degree_chart, hsize_chart)"
   ]
  },
  {
   "cell_type": "markdown",
   "id": "58c56bf6-a472-4a8d-8f1b-ac6658d3600c",
   "metadata": {},
   "source": [
    "### Regression coeffs"
   ]
  },
  {
   "cell_type": "code",
   "execution_count": 199,
   "id": "a6e509b8-7b0b-4c4d-8d89-298d75fc3eca",
   "metadata": {},
   "outputs": [],
   "source": [
    "import altair_transform"
   ]
  },
  {
   "cell_type": "code",
   "execution_count": 202,
   "id": "6fe201af-7fb7-46da-9bd0-98da2cc65f58",
   "metadata": {
    "tags": []
   },
   "outputs": [],
   "source": [
    "reg = chart2.transform_regression('q / p', 'neff / Nedges', params=True)\n",
    "# print(altair_transform.extract_data(reg))"
   ]
  },
  {
   "cell_type": "code",
   "execution_count": 209,
   "id": "0f91dcb3-c08a-4317-83a5-be5f8d8330b0",
   "metadata": {},
   "outputs": [
    {
     "data": {
      "text/html": [
       "\n",
       "<style>\n",
       "  #altair-viz-207bca11e6f24d968baecc858b03366f.vega-embed {\n",
       "    width: 100%;\n",
       "    display: flex;\n",
       "  }\n",
       "\n",
       "  #altair-viz-207bca11e6f24d968baecc858b03366f.vega-embed details,\n",
       "  #altair-viz-207bca11e6f24d968baecc858b03366f.vega-embed details summary {\n",
       "    position: relative;\n",
       "  }\n",
       "</style>\n",
       "<div id=\"altair-viz-207bca11e6f24d968baecc858b03366f\"></div>\n",
       "<script type=\"text/javascript\">\n",
       "  var VEGA_DEBUG = (typeof VEGA_DEBUG == \"undefined\") ? {} : VEGA_DEBUG;\n",
       "  (function(spec, embedOpt){\n",
       "    let outputDiv = document.currentScript.previousElementSibling;\n",
       "    if (outputDiv.id !== \"altair-viz-207bca11e6f24d968baecc858b03366f\") {\n",
       "      outputDiv = document.getElementById(\"altair-viz-207bca11e6f24d968baecc858b03366f\");\n",
       "    }\n",
       "    const paths = {\n",
       "      \"vega\": \"https://cdn.jsdelivr.net/npm/vega@5?noext\",\n",
       "      \"vega-lib\": \"https://cdn.jsdelivr.net/npm/vega-lib?noext\",\n",
       "      \"vega-lite\": \"https://cdn.jsdelivr.net/npm/vega-lite@5.15.1?noext\",\n",
       "      \"vega-embed\": \"https://cdn.jsdelivr.net/npm/vega-embed@6?noext\",\n",
       "    };\n",
       "\n",
       "    function maybeLoadScript(lib, version) {\n",
       "      var key = `${lib.replace(\"-\", \"\")}_version`;\n",
       "      return (VEGA_DEBUG[key] == version) ?\n",
       "        Promise.resolve(paths[lib]) :\n",
       "        new Promise(function(resolve, reject) {\n",
       "          var s = document.createElement('script');\n",
       "          document.getElementsByTagName(\"head\")[0].appendChild(s);\n",
       "          s.async = true;\n",
       "          s.onload = () => {\n",
       "            VEGA_DEBUG[key] = version;\n",
       "            return resolve(paths[lib]);\n",
       "          };\n",
       "          s.onerror = () => reject(`Error loading script: ${paths[lib]}`);\n",
       "          s.src = paths[lib];\n",
       "        });\n",
       "    }\n",
       "\n",
       "    function showError(err) {\n",
       "      outputDiv.innerHTML = `<div class=\"error\" style=\"color:red;\">${err}</div>`;\n",
       "      throw err;\n",
       "    }\n",
       "\n",
       "    function displayChart(vegaEmbed) {\n",
       "      vegaEmbed(outputDiv, spec, embedOpt)\n",
       "        .catch(err => showError(`Javascript Error: ${err.message}<br>This usually means there's a typo in your chart specification. See the javascript console for the full traceback.`));\n",
       "    }\n",
       "\n",
       "    if(typeof define === \"function\" && define.amd) {\n",
       "      requirejs.config({paths});\n",
       "      require([\"vega-embed\"], displayChart, err => showError(`Error loading script: ${err.message}`));\n",
       "    } else {\n",
       "      maybeLoadScript(\"vega\", \"5\")\n",
       "        .then(() => maybeLoadScript(\"vega-lite\", \"5.15.1\"))\n",
       "        .then(() => maybeLoadScript(\"vega-embed\", \"6\"))\n",
       "        .catch(showError)\n",
       "        .then(() => displayChart(vegaEmbed));\n",
       "    }\n",
       "  })({\"$schema\": \"https://vega.github.io/schema/vega/v5.json\", \"data\": [{\"name\": \"_server_source_0\", \"values\": [{\"p\": 0.03, \"q\": 0.0, \"q_frac\": 0.0, \"peff\": 0.03, \"Neff\": 55.0, \"bounds\": \"p Fixed\", \"measure\": \"degree\", \"q / p\": 0.0, \"peff / p\": 1.0, \"neff / Nedges\": 0.275, \"neff / N\": 0.055}, {\"p\": 0.03, \"q\": 0.003, \"q_frac\": 0.1, \"peff\": 0.03, \"Neff\": 69.0, \"bounds\": \"p Fixed\", \"measure\": \"degree\", \"q / p\": 0.1, \"peff / p\": 1.0, \"neff / Nedges\": 0.345, \"neff / N\": 0.069}, {\"p\": 0.03, \"q\": 0.006, \"q_frac\": 0.2, \"peff\": 0.03, \"Neff\": 84.0, \"bounds\": \"p Fixed\", \"measure\": \"degree\", \"q / p\": 0.2, \"peff / p\": 1.0, \"neff / Nedges\": 0.42, \"neff / N\": 0.084}, {\"p\": 0.03, \"q\": 0.009, \"q_frac\": 0.3, \"peff\": 0.03, \"Neff\": 98.0, \"bounds\": \"p Fixed\", \"measure\": \"degree\", \"q / p\": 0.3, \"peff / p\": 1.0, \"neff / Nedges\": 0.49, \"neff / N\": 0.098}, {\"p\": 0.03, \"q\": 0.012, \"q_frac\": 0.4, \"peff\": 0.03, \"Neff\": 113.0, \"bounds\": \"p Fixed\", \"measure\": \"degree\", \"q / p\": 0.4, \"peff / p\": 1.0, \"neff / Nedges\": 0.565, \"neff / N\": 0.113}, {\"p\": 0.03, \"q\": 0.015, \"q_frac\": 0.5, \"peff\": 0.03, \"Neff\": 128.0, \"bounds\": \"p Fixed\", \"measure\": \"degree\", \"q / p\": 0.5, \"peff / p\": 1.0, \"neff / Nedges\": 0.64, \"neff / N\": 0.128}, {\"p\": 0.03, \"q\": 0.018, \"q_frac\": 0.6, \"peff\": 0.03, \"Neff\": 142.0, \"bounds\": \"p Fixed\", \"measure\": \"degree\", \"q / p\": 0.6, \"peff / p\": 1.0, \"neff / Nedges\": 0.71, \"neff / N\": 0.142}, {\"p\": 0.03, \"q\": 0.021, \"q_frac\": 0.7, \"peff\": 0.03, \"Neff\": 156.0, \"bounds\": \"p Fixed\", \"measure\": \"degree\", \"q / p\": 0.7000000000000001, \"peff / p\": 1.0, \"neff / Nedges\": 0.78, \"neff / N\": 0.156}, {\"p\": 0.03, \"q\": 0.024, \"q_frac\": 0.8, \"peff\": 0.03, \"Neff\": 171.0, \"bounds\": \"p Fixed\", \"measure\": \"degree\", \"q / p\": 0.8, \"peff / p\": 1.0, \"neff / Nedges\": 0.855, \"neff / N\": 0.171}, {\"p\": 0.03, \"q\": 0.027, \"q_frac\": 0.9, \"peff\": 0.03, \"Neff\": 186.0, \"bounds\": \"p Fixed\", \"measure\": \"degree\", \"q / p\": 0.9, \"peff / p\": 1.0, \"neff / Nedges\": 0.93, \"neff / N\": 0.186}, {\"p\": 0.03, \"q\": 0.03, \"q_frac\": 1.0, \"peff\": 0.03, \"Neff\": 200.0, \"bounds\": \"p Fixed\", \"measure\": \"degree\", \"q / p\": 1.0, \"peff / p\": 1.0, \"neff / Nedges\": 1.0, \"neff / N\": 0.2}]}, {\"name\": \"source_0\", \"source\": \"_server_source_0\", \"transform\": [{\"type\": \"regression\", \"y\": \"neff / Nedges\", \"params\": true, \"as\": [\"q / p\", \"neff / Nedges\"], \"x\": \"q / p\"}, {\"type\": \"formula\", \"expr\": \"datum.coef[0]\", \"as\": \"intercept\"}, {\"type\": \"formula\", \"expr\": \"datum.coef[1]\", \"as\": \"slope\"}, {\"type\": \"project\", \"fields\": [\"slope\"]}]}], \"marks\": [{\"type\": \"text\", \"name\": \"marks\", \"from\": {\"data\": \"source_0\"}, \"encode\": {\"update\": {\"y\": {\"value\": 20}, \"align\": {\"value\": \"left\"}, \"text\": {\"signal\": \"isValid(datum[\\\"slope\\\"]) ? datum[\\\"slope\\\"] : \\\"\\\"+datum[\\\"slope\\\"]\"}, \"description\": {\"signal\": \"\\\"slope: \\\" + (isValid(datum[\\\"slope\\\"]) ? datum[\\\"slope\\\"] : \\\"\\\"+datum[\\\"slope\\\"])\"}, \"baseline\": {\"value\": \"middle\"}, \"fill\": {\"value\": \"black\"}, \"x\": {\"value\": 20}}}, \"style\": [\"text\"]}], \"config\": {\"mark\": {\"fill\": \"#9ebcda\"}, \"axisX\": {\"labelFont\": \"monospace\", \"labelFontSize\": 16, \"titleFontSize\": 20, \"grid\": false}, \"axisY\": {\"domain\": false, \"grid\": false, \"labelFont\": \"monospace\", \"labelFontSize\": 16, \"titleFontSize\": 20}, \"legend\": {\"titleFontSize\": 20, \"labelFontSize\": 16}, \"style\": {\"cell\": {\"height\": 300, \"width\": 300}, \"line\": {\"fill\": null, \"stroke\": \"black\"}, \"group-title\": {\"fontSize\": 18, \"font\": \"monospace\", \"fontColor\": \"#000000\"}}}, \"padding\": 5, \"style\": \"cell\", \"background\": \"white\", \"height\": 300, \"width\": 600}, {\"mode\": \"vega\"});\n",
       "</script>"
      ],
      "text/plain": [
       "alt.Chart(...)"
      ]
     },
     "execution_count": 209,
     "metadata": {},
     "output_type": "execute_result"
    }
   ],
   "source": [
    "chart2.transform_regression(\n",
    "    'q / p', 'neff / Nedges', params=True\n",
    ").transform_calculate(\n",
    "    intercept='datum.coef[0]',\n",
    "    slope='datum.coef[1]',\n",
    ").mark_text(align='left').encode(\n",
    "    x=alt.value(20),  # pixels from left\n",
    "    y=alt.value(20),  # pixels from top\n",
    "    text='slope:N'\n",
    ")"
   ]
  },
  {
   "cell_type": "code",
   "execution_count": 211,
   "id": "e5fc2a0a-d20a-45cf-b2c0-d8df3e076a68",
   "metadata": {
    "tags": []
   },
   "outputs": [],
   "source": [
    "reg2 = chart.transform_regression('q / p', 'neff / N', params=True)\n",
    "# print(altair_transform.extract_data(reg2))"
   ]
  },
  {
   "cell_type": "code",
   "execution_count": 214,
   "id": "575e4c21-6a60-4f8c-bdab-d898d4e23ae6",
   "metadata": {},
   "outputs": [
    {
     "data": {
      "text/html": [
       "\n",
       "<style>\n",
       "  #altair-viz-e96de7570cbb436dba193943eb786bec.vega-embed {\n",
       "    width: 100%;\n",
       "    display: flex;\n",
       "  }\n",
       "\n",
       "  #altair-viz-e96de7570cbb436dba193943eb786bec.vega-embed details,\n",
       "  #altair-viz-e96de7570cbb436dba193943eb786bec.vega-embed details summary {\n",
       "    position: relative;\n",
       "  }\n",
       "</style>\n",
       "<div id=\"altair-viz-e96de7570cbb436dba193943eb786bec\"></div>\n",
       "<script type=\"text/javascript\">\n",
       "  var VEGA_DEBUG = (typeof VEGA_DEBUG == \"undefined\") ? {} : VEGA_DEBUG;\n",
       "  (function(spec, embedOpt){\n",
       "    let outputDiv = document.currentScript.previousElementSibling;\n",
       "    if (outputDiv.id !== \"altair-viz-e96de7570cbb436dba193943eb786bec\") {\n",
       "      outputDiv = document.getElementById(\"altair-viz-e96de7570cbb436dba193943eb786bec\");\n",
       "    }\n",
       "    const paths = {\n",
       "      \"vega\": \"https://cdn.jsdelivr.net/npm/vega@5?noext\",\n",
       "      \"vega-lib\": \"https://cdn.jsdelivr.net/npm/vega-lib?noext\",\n",
       "      \"vega-lite\": \"https://cdn.jsdelivr.net/npm/vega-lite@5.15.1?noext\",\n",
       "      \"vega-embed\": \"https://cdn.jsdelivr.net/npm/vega-embed@6?noext\",\n",
       "    };\n",
       "\n",
       "    function maybeLoadScript(lib, version) {\n",
       "      var key = `${lib.replace(\"-\", \"\")}_version`;\n",
       "      return (VEGA_DEBUG[key] == version) ?\n",
       "        Promise.resolve(paths[lib]) :\n",
       "        new Promise(function(resolve, reject) {\n",
       "          var s = document.createElement('script');\n",
       "          document.getElementsByTagName(\"head\")[0].appendChild(s);\n",
       "          s.async = true;\n",
       "          s.onload = () => {\n",
       "            VEGA_DEBUG[key] = version;\n",
       "            return resolve(paths[lib]);\n",
       "          };\n",
       "          s.onerror = () => reject(`Error loading script: ${paths[lib]}`);\n",
       "          s.src = paths[lib];\n",
       "        });\n",
       "    }\n",
       "\n",
       "    function showError(err) {\n",
       "      outputDiv.innerHTML = `<div class=\"error\" style=\"color:red;\">${err}</div>`;\n",
       "      throw err;\n",
       "    }\n",
       "\n",
       "    function displayChart(vegaEmbed) {\n",
       "      vegaEmbed(outputDiv, spec, embedOpt)\n",
       "        .catch(err => showError(`Javascript Error: ${err.message}<br>This usually means there's a typo in your chart specification. See the javascript console for the full traceback.`));\n",
       "    }\n",
       "\n",
       "    if(typeof define === \"function\" && define.amd) {\n",
       "      requirejs.config({paths});\n",
       "      require([\"vega-embed\"], displayChart, err => showError(`Error loading script: ${err.message}`));\n",
       "    } else {\n",
       "      maybeLoadScript(\"vega\", \"5\")\n",
       "        .then(() => maybeLoadScript(\"vega-lite\", \"5.15.1\"))\n",
       "        .then(() => maybeLoadScript(\"vega-embed\", \"6\"))\n",
       "        .catch(showError)\n",
       "        .then(() => displayChart(vegaEmbed));\n",
       "    }\n",
       "  })({\"$schema\": \"https://vega.github.io/schema/vega/v5.json\", \"data\": [{\"name\": \"_server_source_0\", \"values\": [{\"p\": 0.03, \"q\": 0.0, \"q_frac\": 0.0, \"peff\": 0.03, \"Neff\": 274.0, \"bounds\": \"p Fixed\", \"measure\": \"hsize\", \"q / p\": 0.0, \"peff / p\": 1.0, \"neff / Nedges\": 1.37, \"neff / N\": 0.274}, {\"p\": 0.03, \"q\": 0.003, \"q_frac\": 0.1, \"peff\": 0.03, \"Neff\": 346.0, \"bounds\": \"p Fixed\", \"measure\": \"hsize\", \"q / p\": 0.1, \"peff / p\": 1.0, \"neff / Nedges\": 1.73, \"neff / N\": 0.346}, {\"p\": 0.03, \"q\": 0.006, \"q_frac\": 0.2, \"peff\": 0.03, \"Neff\": 419.0, \"bounds\": \"p Fixed\", \"measure\": \"hsize\", \"q / p\": 0.2, \"peff / p\": 1.0, \"neff / Nedges\": 2.095, \"neff / N\": 0.419}, {\"p\": 0.03, \"q\": 0.009, \"q_frac\": 0.3, \"peff\": 0.03, \"Neff\": 491.0, \"bounds\": \"p Fixed\", \"measure\": \"hsize\", \"q / p\": 0.3, \"peff / p\": 1.0, \"neff / Nedges\": 2.455, \"neff / N\": 0.491}, {\"p\": 0.03, \"q\": 0.012, \"q_frac\": 0.4, \"peff\": 0.03, \"Neff\": 566.0, \"bounds\": \"p Fixed\", \"measure\": \"hsize\", \"q / p\": 0.4, \"peff / p\": 1.0, \"neff / Nedges\": 2.83, \"neff / N\": 0.566}, {\"p\": 0.03, \"q\": 0.015, \"q_frac\": 0.5, \"peff\": 0.03, \"Neff\": 639.0, \"bounds\": \"p Fixed\", \"measure\": \"hsize\", \"q / p\": 0.5, \"peff / p\": 1.0, \"neff / Nedges\": 3.195, \"neff / N\": 0.639}, {\"p\": 0.03, \"q\": 0.018, \"q_frac\": 0.6, \"peff\": 0.03, \"Neff\": 711.0, \"bounds\": \"p Fixed\", \"measure\": \"hsize\", \"q / p\": 0.6, \"peff / p\": 1.0, \"neff / Nedges\": 3.555, \"neff / N\": 0.711}, {\"p\": 0.03, \"q\": 0.021, \"q_frac\": 0.7, \"peff\": 0.03, \"Neff\": 780.0, \"bounds\": \"p Fixed\", \"measure\": \"hsize\", \"q / p\": 0.7000000000000001, \"peff / p\": 1.0, \"neff / Nedges\": 3.9, \"neff / N\": 0.78}, {\"p\": 0.03, \"q\": 0.024, \"q_frac\": 0.8, \"peff\": 0.03, \"Neff\": 854.0, \"bounds\": \"p Fixed\", \"measure\": \"hsize\", \"q / p\": 0.8, \"peff / p\": 1.0, \"neff / Nedges\": 4.27, \"neff / N\": 0.854}, {\"p\": 0.03, \"q\": 0.027, \"q_frac\": 0.9, \"peff\": 0.03, \"Neff\": 928.0, \"bounds\": \"p Fixed\", \"measure\": \"hsize\", \"q / p\": 0.9, \"peff / p\": 1.0, \"neff / Nedges\": 4.64, \"neff / N\": 0.928}, {\"p\": 0.03, \"q\": 0.03, \"q_frac\": 1.0, \"peff\": 0.03, \"Neff\": 997.0, \"bounds\": \"p Fixed\", \"measure\": \"hsize\", \"q / p\": 1.0, \"peff / p\": 1.0, \"neff / Nedges\": 4.985, \"neff / N\": 0.997}]}, {\"name\": \"source_0\", \"source\": \"_server_source_0\", \"transform\": [{\"type\": \"regression\", \"x\": \"q / p\", \"y\": \"neff / N\", \"params\": true, \"as\": [\"q / p\", \"neff / N\"]}, {\"type\": \"formula\", \"expr\": \"datum.coef[0]\", \"as\": \"intercept\"}, {\"type\": \"formula\", \"expr\": \"datum.coef[1]\", \"as\": \"slope\"}, {\"type\": \"project\", \"fields\": [\"intercept\"]}]}], \"marks\": [{\"type\": \"text\", \"name\": \"marks\", \"from\": {\"data\": \"source_0\"}, \"encode\": {\"update\": {\"x\": {\"value\": 20}, \"description\": {\"signal\": \"\\\"intercept: \\\" + (isValid(datum[\\\"intercept\\\"]) ? datum[\\\"intercept\\\"] : \\\"\\\"+datum[\\\"intercept\\\"])\"}, \"align\": {\"value\": \"left\"}, \"fill\": {\"value\": \"black\"}, \"y\": {\"value\": 20}, \"text\": {\"signal\": \"isValid(datum[\\\"intercept\\\"]) ? datum[\\\"intercept\\\"] : \\\"\\\"+datum[\\\"intercept\\\"]\"}, \"baseline\": {\"value\": \"middle\"}}}, \"style\": [\"text\"]}], \"height\": 300, \"config\": {\"mark\": {\"fill\": \"#9ebcda\"}, \"axisX\": {\"labelFont\": \"monospace\", \"labelFontSize\": 16, \"titleFontSize\": 20, \"grid\": false}, \"axisY\": {\"domain\": false, \"grid\": false, \"labelFont\": \"monospace\", \"labelFontSize\": 16, \"titleFontSize\": 20}, \"legend\": {\"titleFontSize\": 20, \"labelFontSize\": 16}, \"style\": {\"cell\": {\"height\": 300, \"width\": 300}, \"line\": {\"fill\": null, \"stroke\": \"black\"}, \"group-title\": {\"fontSize\": 18, \"font\": \"monospace\", \"fontColor\": \"#000000\"}}}, \"style\": \"cell\", \"background\": \"white\", \"padding\": 5, \"width\": 600}, {\"mode\": \"vega\"});\n",
       "</script>"
      ],
      "text/plain": [
       "alt.Chart(...)"
      ]
     },
     "execution_count": 214,
     "metadata": {},
     "output_type": "execute_result"
    }
   ],
   "source": [
    "chart.transform_regression(\n",
    "    'q / p', 'neff / N', params=True\n",
    ").transform_calculate(\n",
    "    intercept='datum.coef[0]',\n",
    "    slope='datum.coef[1]',\n",
    ").mark_text(align='left').encode(\n",
    "    x=alt.value(20),  # pixels from left\n",
    "    y=alt.value(20),  # pixels from top\n",
    "    text='intercept:N'\n",
    ")"
   ]
  },
  {
   "cell_type": "code",
   "execution_count": null,
   "id": "7f8dddfb-72ac-4a7d-859c-6be658106b0f",
   "metadata": {},
   "outputs": [],
   "source": [
    "# Fixer p est plus facilement explicable: plutot parler de ca dans le papier"
   ]
  }
 ],
 "metadata": {
  "kernelspec": {
   "display_name": "Python 3 (ipykernel)",
   "language": "python",
   "name": "python3"
  },
  "language_info": {
   "codemirror_mode": {
    "name": "ipython",
    "version": 3
   },
   "file_extension": ".py",
   "mimetype": "text/x-python",
   "name": "python",
   "nbconvert_exporter": "python",
   "pygments_lexer": "ipython3",
   "version": "3.11.5"
  }
 },
 "nbformat": 4,
 "nbformat_minor": 5
}
