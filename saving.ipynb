{
 "cells": [
  {
   "cell_type": "code",
   "execution_count": null,
   "id": "0dd6974a-79aa-402f-b474-1c8faa46fe44",
   "metadata": {
    "tags": []
   },
   "outputs": [],
   "source": [
    "import json\n",
    "import math\n",
    "import networkx as nx\n",
    "import pandas as pd\n",
    "import altair as alt\n",
    "import numpy as np\n",
    "from scipy import stats\n",
    "from scipy.optimize import curve_fit\n",
    "import distfit\n",
    "import os\n",
    "\n",
    "from generator_v2 import Generator"
   ]
  },
  {
   "cell_type": "code",
   "execution_count": null,
   "id": "24e2f49c-26d3-492e-b1d9-6594e8c2d340",
   "metadata": {
    "tags": []
   },
   "outputs": [],
   "source": [
    "alt.data_transformers.enable(\"vegafusion\")"
   ]
  },
  {
   "cell_type": "code",
   "execution_count": null,
   "id": "2bb64ce8-04a7-4fde-8248-5939dbdeb088",
   "metadata": {
    "tags": []
   },
   "outputs": [],
   "source": [
    "COLOR = \"#99d8c9\""
   ]
  },
  {
   "cell_type": "code",
   "execution_count": null,
   "id": "5a227afe-303a-43da-8583-e377e99a6efe",
   "metadata": {
    "tags": []
   },
   "outputs": [],
   "source": [
    "alt.__version__"
   ]
  },
  {
   "cell_type": "code",
   "execution_count": null,
   "id": "e167c12f-3e17-4364-849b-c66661297eb2",
   "metadata": {},
   "outputs": [],
   "source": [
    "# Set the ggplot2 theme\n",
    "alt.themes.enable(\"ggplot2\")"
   ]
  },
  {
   "cell_type": "code",
   "execution_count": null,
   "id": "600173db-fff0-4485-8e98-d81cf3eb39c3",
   "metadata": {
    "tags": []
   },
   "outputs": [],
   "source": [
    "# Essayer avec 1000 pour voir max(n1, n2) / n1 + n2\"\n",
    "N = 1000\n",
    "# N_edges = N // 2\n",
    "# Tester plusierus valeurs d'aretes (50, 100, 200), pour la fraction des hyperaretes\n",
    "N_edges = 200\n",
    "\n",
    "# Last value is the one used for most simulations\n",
    "# N_EDGES = [50, 100, 200, 500, 300]\n",
    "# N_EDGES = [300]\n",
    "# N_EDGES = [100, 200, 300, 500]\n",
    "Ns = [200, 300, 500, 700, 1000]\n",
    "\n",
    "\n",
    "N_coms = 4\n",
    "sampling_strat = \"weighted\"\n",
    "# sampling_strat = \"max\"\n",
    "p = 30/N\n",
    "q = 3/N"
   ]
  },
  {
   "cell_type": "code",
   "execution_count": null,
   "id": "f04fce51-9ee6-405f-818f-4abdc6587d18",
   "metadata": {},
   "outputs": [],
   "source": [
    "community_array = [0 for x in range(N//2)]  + [1 for x in range(N//2)]"
   ]
  },
  {
   "cell_type": "code",
   "execution_count": null,
   "id": "bf7c6f67-9fc3-4668-895a-e1ee613a7815",
   "metadata": {},
   "outputs": [],
   "source": [
    "len(community_array)"
   ]
  },
  {
   "cell_type": "markdown",
   "id": "dc6363fe-ac54-4a23-a955-64a9382f4119",
   "metadata": {
    "tags": []
   },
   "source": [
    "# Node Degree Multi Simulation"
   ]
  },
  {
   "cell_type": "code",
   "execution_count": null,
   "id": "6200de54-af55-4767-85df-83bda437c47c",
   "metadata": {},
   "outputs": [],
   "source": [
    "N_sim = 20"
   ]
  },
  {
   "cell_type": "code",
   "execution_count": null,
   "id": "4218c4e8-f9c2-419e-ab70-117505d87d85",
   "metadata": {
    "tags": []
   },
   "outputs": [],
   "source": [
    "df_sim = pd.DataFrame(columns=[\"count\", \"simNumber\"], dtype=int)\n",
    "for i in range(N_sim):\n",
    "    gen = Generator(N, N // 2, N_coms, 20/N, 3/N, community_array, sampling_strat)\n",
    "    gen.run()\n",
    "    degrees = dict(gen.degrees()).values()\n",
    "    degrees_df = pd.DataFrame(degrees, columns=[\"degree\"])\n",
    "\n",
    "    countdf = degrees_df.groupby(['degree'])['degree'].count()\n",
    "    countdf = countdf.to_frame().rename(columns={\"degree\": \"count\"})\n",
    "    countdf[\"simNumber\"] = i\n",
    "    \n",
    "    df_sim = pd.concat([df_sim, countdf])"
   ]
  },
  {
   "cell_type": "code",
   "execution_count": null,
   "id": "0bc81b3f-6891-43ee-bbb6-4afa87e3d1e6",
   "metadata": {
    "tags": []
   },
   "outputs": [],
   "source": [
    "df_sim = df_sim.reset_index(names=\"degree\")\n",
    "# df_sim.rename(columns={}"
   ]
  },
  {
   "cell_type": "code",
   "execution_count": null,
   "id": "80c92f85-c0b1-4b3d-97b3-1ef24d673564",
   "metadata": {
    "tags": []
   },
   "outputs": [],
   "source": [
    "df_sim"
   ]
  },
  {
   "cell_type": "code",
   "execution_count": null,
   "id": "36720d31-24e5-44b7-b37f-0213c33eccd3",
   "metadata": {},
   "outputs": [],
   "source": [
    "bars = alt.Chart(df_sim).mark_bar(color=COLOR).encode(\n",
    "    alt.X(\"degree:Q\", scale=alt.Scale(domain=[0, 18])),\n",
    "    alt.Y(\"mean(count):Q\"),\n",
    ")"
   ]
  },
  {
   "cell_type": "code",
   "execution_count": null,
   "id": "55662947-c864-4a9e-b274-3453601ac0e0",
   "metadata": {},
   "outputs": [],
   "source": [
    "error = alt.Chart(df_sim).mark_errorbar(extent=\"ci\", rule=True).encode(\n",
    "    x=alt.X(\"degree:Q\", scale=alt.Scale(domain=[0, 18])),\n",
    "    y=alt.Y(\n",
    "        \"count:Q\",\n",
    "        scale=alt.Scale(zero=False),\n",
    "        title=\"Absolute Frequency\"\n",
    "    ),\n",
    ")"
   ]
  },
  {
   "cell_type": "code",
   "execution_count": null,
   "id": "b1c2aee7-901a-4c93-9fc1-75f553b518bd",
   "metadata": {},
   "outputs": [],
   "source": [
    "bars + error"
   ]
  },
  {
   "cell_type": "markdown",
   "id": "0121f300-0d8a-4b5e-abba-0c257ecf8000",
   "metadata": {
    "tags": []
   },
   "source": [
    "# Hyperedge Size"
   ]
  },
  {
   "cell_type": "markdown",
   "id": "56b6d95c-2d72-4744-a8d9-aea68f0c0dc0",
   "metadata": {
    "tags": []
   },
   "source": [
    "## Hyperedge Sim"
   ]
  },
  {
   "cell_type": "code",
   "execution_count": null,
   "id": "d52e1106-d174-4b7a-84d5-9c52327938d2",
   "metadata": {},
   "outputs": [],
   "source": [
    "df_sim = pd.DataFrame(columns=[\"count\", \"simNumber\"], dtype=int)\n",
    "for i in range(N_sim):\n",
    "    gen = Generator(N, N_edges, N_coms, p, q, community_array, sampling_strat)\n",
    "    gen.run()\n",
    "    hsizes = dict(gen.hyperedge_sizes()).values()\n",
    "    hsizes_df = pd.DataFrame(hsizes, columns=[\"hsize\"])\n",
    "\n",
    "    countdf = hsizes_df.groupby(['hsize'])['hsize'].count()\n",
    "    countdf = countdf.to_frame().rename(columns={\"hsize\": \"count\"})\n",
    "    countdf[\"simNumber\"] = i\n",
    "    \n",
    "    df_sim = pd.concat([df_sim, countdf])"
   ]
  },
  {
   "cell_type": "code",
   "execution_count": null,
   "id": "bda2bf55-5fc7-4b59-9372-2631a378a5f0",
   "metadata": {},
   "outputs": [],
   "source": [
    "df_sim = df_sim.reset_index(names=\"hsize\")"
   ]
  },
  {
   "cell_type": "code",
   "execution_count": null,
   "id": "884e67fa-e42d-4e68-9183-9a6426ed7aee",
   "metadata": {},
   "outputs": [],
   "source": [
    "df_sim.head()"
   ]
  },
  {
   "cell_type": "code",
   "execution_count": null,
   "id": "edd8cc06-adfc-4d02-acd8-ab5d8dba1073",
   "metadata": {},
   "outputs": [],
   "source": [
    "bars = alt.Chart(df_sim).mark_bar(color=COLOR).encode(\n",
    "    alt.X(\"hsize:Q\", scale=alt.Scale(domain=[0, 25]), title=\"Hyperedge Size\"),\n",
    "    alt.Y(\"mean(count):Q\"),\n",
    ")\n",
    "\n",
    "error = alt.Chart(df_sim).mark_errorbar(extent=\"ci\", rule=True).encode(\n",
    "    x=alt.X(\"hsize:Q\", scale=alt.Scale(domain=[0, 25])),\n",
    "    y=alt.Y(\n",
    "        \"count:Q\",\n",
    "        scale=alt.Scale(zero=False),\n",
    "        title=\"Absolute Frequency\"\n",
    "    ),\n",
    ")"
   ]
  },
  {
   "cell_type": "code",
   "execution_count": null,
   "id": "4ead9432-7487-43ef-9f04-ecfea155625a",
   "metadata": {},
   "outputs": [],
   "source": [
    "bars + error"
   ]
  },
  {
   "cell_type": "markdown",
   "id": "837e2f3f-71b2-4a26-923a-b67b091b6afc",
   "metadata": {},
   "source": [
    "# Fraction Dist"
   ]
  },
  {
   "cell_type": "code",
   "execution_count": null,
   "id": "45d82bbc-e047-49fd-9821-414bd4c94f8a",
   "metadata": {},
   "outputs": [],
   "source": [
    "# Faire pareil sur 100/1000 réseaux\n",
    "# Accumuler la liste des degrées/hsize\n",
    "# Une value de p/q => plusieurs simulations => faire le fit la dessus"
   ]
  },
  {
   "cell_type": "code",
   "execution_count": null,
   "id": "a618dba0-c59f-4193-ad68-7ab13a538a60",
   "metadata": {},
   "outputs": [],
   "source": [
    "p_init = 30 / N\n",
    "q_init = 30 / N"
   ]
  },
  {
   "cell_type": "code",
   "execution_count": null,
   "id": "afe99831-cabe-49e1-820e-64e6915df881",
   "metadata": {},
   "outputs": [],
   "source": [
    "q_init"
   ]
  },
  {
   "cell_type": "code",
   "execution_count": null,
   "id": "3806ea8d-1473-4a54-8776-bb137dc97956",
   "metadata": {},
   "outputs": [],
   "source": [
    "def fit_function(x, n, p):\n",
    "    return stats.binom.pmf(x, n, p)"
   ]
  },
  {
   "cell_type": "code",
   "execution_count": null,
   "id": "ab3d6ebc-e965-45a1-82cd-ea3d786816e5",
   "metadata": {},
   "outputs": [],
   "source": [
    "qs = np.arange(0, 1.01, 0.10)\n",
    "# qs = np.append(qs, [0.95, 0.99])\n",
    "qs = np.append(qs, [0.01, 0.05])"
   ]
  },
  {
   "cell_type": "code",
   "execution_count": null,
   "id": "7bbdcfd9-1338-4eb3-8a97-c5192e171233",
   "metadata": {},
   "outputs": [],
   "source": [
    "qs"
   ]
  },
  {
   "cell_type": "code",
   "execution_count": null,
   "id": "887edae0-c72e-4b60-a959-e67f89839af8",
   "metadata": {},
   "outputs": [],
   "source": [
    "fits_N = 1000\n",
    "fits_strat = \"weighted\""
   ]
  },
  {
   "cell_type": "code",
   "execution_count": null,
   "id": "cfb6896c-a3e1-41d1-aed5-998f5b5dc869",
   "metadata": {
    "tags": []
   },
   "outputs": [],
   "source": [
    "p = p_init\n",
    "q = q_init\n",
    "\n",
    "df_degrees = pd.DataFrame(columns=[\"degree\"], dtype=int)\n",
    "df_hsizes = pd.DataFrame(columns=[\"hsize\"], dtype=int)\n",
    "\n",
    "df_sim = pd.DataFrame(columns=[\"sim\", \"type\", \"count\"], dtype=int)\n",
    "df_fraction = pd.DataFrame(columns=[\"sim\", \"count\", \"fraction0\"], dtype=int)\n",
    "df_fraction2 = pd.DataFrame(columns=[\"sim\", \"value\"])\n",
    "\n",
    "# df_peff = pd.DataFrame(columns=[\"peff\", \"p\", \"q\", \"q_frac\"], dtype=int)\n",
    "\n",
    "df_fits = pd.DataFrame(columns=[\"peff\", \"Neff\", \"p_hsize_eff\", \"n_eff_hsize\", \"p\", \"q\", \"q_frac\"], dtype=int)\n",
    "\n",
    "# Same as df_fits but other format so easier altair plots \n",
    "df_fits2 = pd.DataFrame()\n",
    "\n",
    "increment = 0.05\n",
    "N_sim = int(1 / increment) + 1\n",
    "q_frac_order = []\n",
    "\n",
    "# Prendre 100 configs\n",
    "# N_graphs = 5\n",
    "# N_graphs = 50\n",
    "N_graphs = 100\n",
    "# N_graphs = 3\n",
    "\n",
    "q_to_degreefit = {}\n",
    "q_to_hsizefit = {}\n",
    "\n",
    "# for i in range(N_sim):\n",
    "for q_frac in qs:\n",
    "    # q = round(q_init - (p * increment * i), 4)\n",
    "    q = round(p * q_frac,  4)\n",
    "    print(p, q)\n",
    "    \n",
    "    # q_frac = f\"{round(1 - (increment * (i)), 3)}p\"\n",
    "    q_frac_order.append(q_frac) \n",
    "\n",
    "    for strat in [\"weighted\", \"max\", \"min\", \"frequent\"]:\n",
    "        # for n in Ns:\n",
    "        for n in [2000]:\n",
    "            all_degrees = []\n",
    "            all_hsizes = []  \n",
    "    \n",
    "            community_array = []\n",
    "            for i in range(N_coms):\n",
    "                community_array += [i for x in range(n // N_coms)]\n",
    "            \n",
    "            for n_graph in range(N_graphs):\n",
    "                # gen = Generator(N, N_edges, N_coms, p, q, community_array, sampling_strat)\n",
    "                gen = Generator(n, N_edges, N_coms, p, q, community_array, strat)\n",
    "                gen.run()\n",
    "                \n",
    "                # comp = gen.hyperedges_types()\n",
    "                # n_pure = comp.count(\"pure\")\n",
    "                # n_mixed = comp.count(\"mixed\")\n",
    "                # df = pd.DataFrame({\"sim\": [i, i], \"q\": [q_frac, q_frac], \"type\": [\"pure\", \"mixed\"], \"count\": [n_pure, n_mixed]})\n",
    "                # df_sim = pd.concat([df_sim, df])\n",
    "            \n",
    "            #     For fraction distribution of mixed edges\n",
    "                # comp = gen.mixed_he_fraction_to_count()\n",
    "                # for fraction, count in comp.items():\n",
    "                #     df = pd.DataFrame({\"sim\": [i], \"q\": [q_frac], \"count\": [count], \"fraction0\": fraction})\n",
    "                #     df_fraction = pd.concat([df_fraction, df])\n",
    "                    \n",
    "                #     For com distrib of hyperedges\n",
    "                comp = gen.hyperedges_nmax()\n",
    "                ginis = gen.ginis()\n",
    "                \n",
    "                # for fraction in comp:\n",
    "                df = pd.DataFrame({\"q\": [q] * len(comp), \"value\": comp, \"gini\": ginis, \"N_nodes\": [n] * len(comp), \"strat\": [strat] * len(comp)})\n",
    "                df_fraction2 = pd.concat([df_fraction2, df])\n",
    "                \n",
    "                # for peffectif computation\n",
    "                if n == fits_N and strat == fits_strat:\n",
    "                    degrees = dict(gen.degrees()).values()\n",
    "                    hsizes = dict(gen.hyperedge_sizes()).values()\n",
    "                    \n",
    "                    all_degrees = all_degrees + list(degrees)\n",
    "                    all_hsizes = all_hsizes + list(hsizes)\n",
    "        \n",
    "\n",
    "            # DO THE DISTRIBUTIONS AND FIT ONLY FOR THOSE VALUES\n",
    "            if n == fits_N and strat == fits_strat:\n",
    "                df = pd.DataFrame({\"degree\": all_degrees, \"q\": q_frac, \"q / p\": q / p, \"N_nodes\": n})\n",
    "                df_degrees = pd.concat([df_degrees, df])\n",
    "                                      \n",
    "                df = pd.DataFrame({\"hsize\": all_hsizes, \"q\": q_frac, \"q / p\": q / p, \"N_nodes\": n})\n",
    "                df_hsizes = pd.concat([df_hsizes, df])\n",
    "    \n",
    "                # Distrib of degree\n",
    "                # Bounds of n and p effectif\n",
    "                bounds = [(0, N_edges), (0, p)]\n",
    "                \n",
    "                dist = stats.binom\n",
    "                res = stats.fit(dist, all_degrees, bounds)\n",
    "                \n",
    "                peff = res.params[1]\n",
    "                neff = res.params[0]\n",
    "                \n",
    "                bounds2 = [(N_edges, N_edges), (0, p)]\n",
    "                res = stats.fit(dist, all_degrees, bounds2)\n",
    "                peffNfixed = res.params[1]\n",
    "                neffNfixed = res.params[0]\n",
    "                \n",
    "                bounds3 = [(0, N_edges), (p, p)]\n",
    "                res = stats.fit(dist, all_degrees, bounds3)\n",
    "                peffpfixed = res.params[1]\n",
    "                neffpfixed = res.params[0]\n",
    "                \n",
    "                df_notfixed = pd.DataFrame({\"p\": [p], \"q\": [q], \"q_frac\": [q_frac], \"peff\": [peff], \"Neff\": [neff], \"bounds\": [\"not fixed\"], \"measure\": [\"degree\"]})\n",
    "                df_pfixed = pd.DataFrame({\"p\": [p], \"q\": [q], \"q_frac\": [q_frac], \"peff\": [peffNfixed], \"Neff\": [neffNfixed], \"bounds\": [\"n Fixed\"], \"measure\": [\"degree\"]})\n",
    "                df_nfixed = pd.DataFrame({\"p\": [p], \"q\": [q], \"q_frac\": [q_frac], \"peff\": [peffpfixed], \"Neff\": [neffpfixed], \"bounds\": [\"p Fixed\"], \"measure\": [\"degree\"]})\n",
    "                df_fits2 = pd.concat([df_fits2, df_notfixed, df_pfixed, df_nfixed])\n",
    "                \n",
    "                q_to_degreefit[q] = res\n",
    "                # print(res.nllf(), res.success)\n",
    "                # print(neff, peff)\n",
    "                \n",
    "                # mean = np.mean(all_degrees)\n",
    "                # variance = np.var(all_degrees)\n",
    "                \n",
    "                # pForm = 1 - (variance / mean)\n",
    "                # NForm = mean / (1 -  (variance / mean))\n",
    "                # print(\"compute\", NForm, pForm)\n",
    "                \n",
    "                # Distrib of hsizes\n",
    "                dist = stats.binom\n",
    "                \n",
    "                # bounds = [(N / N_coms, N), (q, p)]\n",
    "                bounds = [(N / N_coms, N), (0, p)]\n",
    "                res = stats.fit(dist, all_hsizes, bounds)\n",
    "                peffhsize = res.params[1]\n",
    "                neff_hsize = res.params[0]\n",
    "                q_to_hsizefit[q] = res\n",
    "                \n",
    "                bounds = [(N / N_coms, N), (p, p)]\n",
    "                res = stats.fit(dist, all_hsizes, bounds)\n",
    "                peff_hsize_pfixed = res.params[1]\n",
    "                neff_hsize_pfixed = res.params[0]\n",
    "                \n",
    "                bounds = [(N, N), (0, p)]\n",
    "                res = stats.fit(dist, all_hsizes, bounds)\n",
    "                peff_hsize_nfixed = res.params[1]\n",
    "                neff_hsize_nfixed = res.params[0]\n",
    "                \n",
    "                df = pd.DataFrame({\"p\": [p], \"q\": [q], \"q_frac\": [q_frac], \"peff\": [peff], \"Neff\": [neff], \"peffpfixed\": [peffpfixed], \"Neffpfixed\": [neffpfixed], \"peffnfixed\": [peffNfixed], \"Neffnfixed\": [neffNfixed], \"p_hsize_eff\": [peffhsize], \"n_eff_hsize\": [neff_hsize]})\n",
    "                df_fits = pd.concat([df_fits, df])\n",
    "                # df_peff = pd.concat([df_peff, df])\n",
    "                \n",
    "                df_notfixed = pd.DataFrame({\"p\": [p], \"q\": [q], \"q_frac\": [q_frac], \"peff\": [peffhsize], \"Neff\": [neff_hsize], \"bounds\": [\"not fixed\"], \"measure\": [\"hsize\"]})\n",
    "                df_pfixed = pd.DataFrame({\"p\": [p], \"q\": [q], \"q_frac\": [q_frac], \"peff\": [peff_hsize_nfixed], \"Neff\": [neff_hsize_nfixed], \"bounds\": [\"n Fixed\"], \"measure\": [\"hsize\"]})\n",
    "                df_nfixed = pd.DataFrame({\"p\": [p], \"q\": [q], \"q_frac\": [q_frac], \"peff\": [peff_hsize_pfixed], \"Neff\": [neff_hsize_pfixed], \"bounds\": [\"p Fixed\"], \"measure\": [\"hsize\"]})\n",
    "                df_fits2 = pd.concat([df_fits2, df_notfixed, df_pfixed, df_nfixed])"
   ]
  },
  {
   "cell_type": "code",
   "execution_count": null,
   "id": "8a3b406a-184e-4c69-9c00-c555e6934bf7",
   "metadata": {},
   "outputs": [],
   "source": [
    "df_fraction2 = final"
   ]
  },
  {
   "cell_type": "code",
   "execution_count": null,
   "id": "b8370c2f-794a-4b84-8db3-e915867de0e6",
   "metadata": {},
   "outputs": [],
   "source": [
    "fn = \"he_distrib.csv\"\n",
    "if not os.path.exists(fn):\n",
    "    df_fraction2.to_csv(fn, sep=',', index=False, encoding='utf-8')\n",
    "else:\n",
    "    df_fraction2 = pd.read_csv(fn)"
   ]
  },
  {
   "cell_type": "code",
   "execution_count": null,
   "id": "54d461e2-4791-47d2-903d-fb8b63d01122",
   "metadata": {},
   "outputs": [],
   "source": [
    "fn = f\"hsize_distrib_{fits_N}_{fits_strat}.csv\"\n",
    "if not os.path.exists(fn):\n",
    "    df_hsizes.to_csv(fn, sep=',', index=False, encoding='utf-8')\n",
    "else:\n",
    "    df_hsizes = pd.read_csv(fn)"
   ]
  },
  {
   "cell_type": "code",
   "execution_count": null,
   "id": "d4f3a3dc-03f8-4859-b10f-5087ad8b5704",
   "metadata": {},
   "outputs": [],
   "source": [
    "fn = f\"degree_distrib_{fits_N}_{fits_strat}.csv\"\n",
    "if not os.path.exists(fn):\n",
    "    df_degrees.to_csv(fn, sep=',', index=False, encoding='utf-8')\n",
    "else:\n",
    "    df_degrees = pd.read_csv(fn)"
   ]
  },
  {
   "cell_type": "code",
   "execution_count": null,
   "id": "ff2818c5-30e4-4f74-b6f5-fab133fcf716",
   "metadata": {},
   "outputs": [],
   "source": [
    "fn = f\"fits1_{fits_N}_{fits_strat}.csv\"\n",
    "if not os.path.exists(fn):\n",
    "    df_fits.to_csv(fn, sep=',', index=False, encoding='utf-8')\n",
    "else:\n",
    "    df_fits = pd.read_csv(fn)"
   ]
  },
  {
   "cell_type": "code",
   "execution_count": null,
   "id": "12722b2b-e25b-4fda-952a-7e42dea25ae4",
   "metadata": {},
   "outputs": [],
   "source": [
    "fn = f\"fits2_{fits_N}_{fits_strat}.csv\"\n",
    "if not os.path.exists(fn):\n",
    "    df_fits2.to_csv(fn, sep=',', index=False, encoding='utf-8')\n",
    "else:\n",
    "    df_fits2 = pd.read_csv(fn)"
   ]
  },
  {
   "cell_type": "markdown",
   "id": "cff5fca3-2939-4671-a5f2-a82e261fd827",
   "metadata": {
    "jp-MarkdownHeadingCollapsed": true,
    "tags": []
   },
   "source": [
    "## Degree histograms with fit"
   ]
  },
  {
   "cell_type": "code",
   "execution_count": null,
   "id": "567ecffa-0d58-402d-aadc-4a49f6931785",
   "metadata": {
    "tags": []
   },
   "outputs": [],
   "source": [
    "df_degrees"
   ]
  },
  {
   "cell_type": "code",
   "execution_count": null,
   "id": "81fcaa43-c6c6-4cee-a408-2ca0c6c337bd",
   "metadata": {
    "scrolled": true,
    "tags": []
   },
   "outputs": [],
   "source": [
    "qs = [0.2, 0.4, 0.6, 0.8]\n",
    "for q in qs:\n",
    "    df = df_degrees[df_degrees[\"q\"] == f\"{q}p\"]   \n",
    "    fit = q_to_degreefit[q * p]\n",
    "    \n",
    "    chart = alt.Chart(df)\n",
    "\n",
    "    # Create a density plot using transform_density\n",
    "    density = chart.transform_density(\n",
    "        density='degree',\n",
    "        as_=['values', 'density'],  # Output field names\n",
    "    ).mark_line(  # You can use mark_line() for a line plot\n",
    "        opacity=0.6,  # Adjust the opacity of the area plot\n",
    "    ).encode(\n",
    "        x=alt.X('values:Q'),  # Set the X-axis label\n",
    "        y=alt.Y('density:Q', title='Density'),  # Set the Y-axis label\n",
    "    )\n",
    "    \n",
    "    \n",
    "    # Calculate the binomial PDF values for a range of x values\n",
    "    x_values = range(30)  # Assuming a range from 0 to 10\n",
    "    binomial_pmf = [stats.binom.pmf(x, fit.params[0], fit.params[1]) for x in x_values]\n",
    "\n",
    "    # Create a DataFrame for the binomial PDF\n",
    "    binomial_df = pd.DataFrame({\n",
    "        'values': x_values,\n",
    "        'binomial_pmf': binomial_pmf\n",
    "    })\n",
    "\n",
    "    # Create a line plot for the binomial PDF\n",
    "    binomial = alt.Chart(binomial_df).mark_line(color='red').encode(\n",
    "        x=alt.X('values:Q', title=\"Node Degree\"),\n",
    "        y=alt.Y('binomial_pmf:Q'),\n",
    "    )\n",
    "    \n",
    "    chart = density + binomial\n",
    "    chart.display()"
   ]
  },
  {
   "cell_type": "code",
   "execution_count": null,
   "id": "603626c8-8948-4235-aef2-af8446de17a7",
   "metadata": {},
   "outputs": [],
   "source": [
    "df_fits"
   ]
  },
  {
   "cell_type": "markdown",
   "id": "5d185dd3-34a5-4ddc-82f8-f69470c1b8e9",
   "metadata": {
    "tags": []
   },
   "source": [
    "## Normalize"
   ]
  },
  {
   "cell_type": "code",
   "execution_count": null,
   "id": "5d2b5f31-267c-428c-96c6-6bdb984feec6",
   "metadata": {
    "scrolled": true,
    "tags": []
   },
   "outputs": [],
   "source": [
    "for q in qs:\n",
    "    q = round(q, 2)\n",
    "    df = df_degrees[df_degrees[\"q\"] == f\"{q}p\"]\n",
    "\n",
    "    print(q, q*p, p)\n",
    "    \n",
    "    fit = q_to_degreefit[round(q * p, 3)]\n",
    "    \n",
    "    chart = alt.Chart(df).transform_joinaggregate(\n",
    "    total='count(*)'\n",
    "    ).transform_calculate(\n",
    "        pct='1 / datum.total'\n",
    "    ).mark_bar(opacity=0.7).encode(\n",
    "        alt.X('degree:O'),\n",
    "        alt.Y('sum(pct):Q')\n",
    "    )\n",
    "    \n",
    "    # Calculate the binomial PDF values for a range of x values\n",
    "    x_values = range(19)  # Assuming a range from 0 to 10\n",
    "    binomial_pmf = [stats.binom.pmf(x, fit.params[0], fit.params[1]) for x in x_values]\n",
    "\n",
    "    fit_values = df_fits[df_fits[\"q_frac\"] == f\"{q}p\"]\n",
    "    binomial_pmf2 = [stats.binom.pmf(x, fit_values.Neffpfixed[0], fit_values.peffpfixed[0]) for x in x_values]\n",
    "    binomial_pmf3 = [stats.binom.pmf(x, fit_values.Neffnfixed[0], fit_values.peffnfixed[0]) for x in x_values]\n",
    "\n",
    "    # Create a DataFrame for the binomial PDF\n",
    "    binomial_df = pd.DataFrame({\n",
    "        'values': x_values,\n",
    "        'binomial_pmf': binomial_pmf,\n",
    "        'binomial_pmf2': binomial_pmf2,\n",
    "        'binomial_pmf3': binomial_pmf3,\n",
    "    })\n",
    "\n",
    "    # Create a line plot for the binomial PDF\n",
    "    # binomial = alt.Chart(binomial_df).mark_bar(color='red', opacity=0.3, width=2).encode(\n",
    "    binomial = alt.Chart(binomial_df).mark_bar(color='red', opacity=0.3, width=2).encode(\n",
    "        x=alt.X('values:O', title=\"Node Degree\"),\n",
    "        y=alt.Y('binomial_pmf:Q'),\n",
    "    )\n",
    "\n",
    "    binomial2 = alt.Chart(binomial_df).mark_bar(color='green', opacity=0.3, width=2, xOffset=6).encode(\n",
    "        x=alt.X('values:O', title=\"Node Degree\", bandPosition=0.2),\n",
    "        y=alt.Y('binomial_pmf2:Q'),\n",
    "    )\n",
    "\n",
    "    # binomial3 = alt.Chart(binomial_df).mark_bar(color='purple', opacity=0.3, width=2, xOffset=-6).encode(\n",
    "    #     x=alt.X('values:O', title=\"Node Degree\", bandPosition=0.2),\n",
    "    #     y=alt.Y('binomial_pmf3:Q'),\n",
    "    # )\n",
    "    binomial3 = alt.Chart(binomial_df).mark_line(color='purple', opacity=0.3, width=2).encode(\n",
    "        x=alt.X('values:O', title=\"Node Degree\"),\n",
    "        y=alt.Y('binomial_pmf3:Q'),\n",
    "    )\n",
    "    \n",
    "    # (chart + binomial + binomial2 + binomial3).display()\n",
    "\n",
    "    # Only show the N fixed chart \n",
    "    (chart + binomial3).display()"
   ]
  },
  {
   "cell_type": "markdown",
   "id": "8cb8a4fe-e2e9-40bb-99db-d82619e277d8",
   "metadata": {},
   "source": [
    "## Group by"
   ]
  },
  {
   "cell_type": "code",
   "execution_count": null,
   "id": "696565d4-bd18-4362-9c00-fd4d4c7a8d50",
   "metadata": {
    "tags": []
   },
   "outputs": [],
   "source": [
    "df_degrees = df_degrees[df_degrees[\"N_nodes\"] == 1000]"
   ]
  },
  {
   "cell_type": "code",
   "execution_count": null,
   "id": "c306f22a-b38e-4402-8012-30ebf0acfbb1",
   "metadata": {},
   "outputs": [],
   "source": [
    "df_degrees.head()"
   ]
  },
  {
   "cell_type": "code",
   "execution_count": null,
   "id": "6a12296a-e375-44f8-aa77-2b6a88a644c6",
   "metadata": {},
   "outputs": [],
   "source": [
    "df_fits = df_fits.round({'q_frac': 3})\n",
    "df_fits.q_frac"
   ]
  },
  {
   "cell_type": "code",
   "execution_count": null,
   "id": "44b2dab8-db42-4ea7-b0bc-71d87bd91def",
   "metadata": {},
   "outputs": [],
   "source": [
    "grouped = df_degrees.groupby('q / p')['degree'].value_counts(normalize=True).reset_index(name='Percentage')"
   ]
  },
  {
   "cell_type": "code",
   "execution_count": null,
   "id": "5f559a06-4d5b-4951-88ac-cd486f60103b",
   "metadata": {
    "tags": []
   },
   "outputs": [],
   "source": [
    "grouped = grouped.round({'q / p': 2})"
   ]
  },
  {
   "cell_type": "code",
   "execution_count": null,
   "id": "9400966d-2cfc-49a0-822e-1d4ffa7988bb",
   "metadata": {},
   "outputs": [],
   "source": [
    "grouped['binomial'] = 0  # Initialize the column\n",
    "\n",
    "for q in qs:\n",
    "    q = round(q, 3)\n",
    "    # print(q)\n",
    "    df = df_degrees[df_degrees[\"q\"] == f\"{q}p\"]\n",
    "    # fit = q_to_degreefit[round(q * p, 3)]\n",
    "    \n",
    "    # Calculate the binomial PDF values for a range of x values\n",
    "    x_values = range(19)  # Assuming a range from 0 to 10\n",
    "    # binomial_pmf = [stats.binom.pmf(x, fit.params[0], fit.params[1]) for x in x_values]\n",
    "    # fit_values = df_fits[df_fits[\"q_frac\"] == f\"{q}p\"]\n",
    "    # binomial_pmf2 = [stats.binom.pmf(x, fit_values.Neffpfixed[0], fit_values.peffpfixed[0]) for x in x_values]\n",
    "    # binomial_pmf3 = [stats.binom.pmf(x, fit_values.Neffnfixed[0], fit_values.peffnfixed[0]) for x in x_values]\n",
    "\n",
    "    # fit_values = df_fits[df_fits[\"q_frac\"] == f\"{q}p\"]\n",
    "    fit_values = df_fits[df_fits[\"q_frac\"] == q]\n",
    "    # print(fit_values.Neffpfixed)\n",
    "    # print(fit_values.Neffpfixed.iloc[0])\n",
    "    for x in x_values:\n",
    "        binom_pdf = stats.binom.pmf(x, fit_values.Neffpfixed.iloc[0], fit_values.peffpfixed.iloc[0])\n",
    "        # grouped.loc[(grouped['degree'] == x) & (grouped['q'] == f\"{q}p\"), 'binomial'] = binom_pdf\n",
    "        grouped.loc[(grouped['degree'] == x) & (grouped['q / p'] == q), 'binomial'] = binom_pdf        "
   ]
  },
  {
   "cell_type": "code",
   "execution_count": null,
   "id": "6a3b8b00-5b6a-4c1f-8e19-d856042be275",
   "metadata": {},
   "outputs": [],
   "source": [
    "grouped"
   ]
  },
  {
   "cell_type": "code",
   "execution_count": null,
   "id": "f2d797ad-ae27-45b2-afdb-846e02d878a7",
   "metadata": {
    "tags": []
   },
   "outputs": [],
   "source": [
    "# grouped_selp_deg = grouped[grouped.q.isin([\"0.0p\", \"0.3p\", \"0.7p\", \"1.0p\"])]\n",
    "grouped_selp_deg = grouped[grouped[\"q / p\"].isin([0, 0.3, 0.7, 1])]"
   ]
  },
  {
   "cell_type": "code",
   "execution_count": null,
   "id": "d0d3a3e9-3ba9-4dd3-93c3-628652669088",
   "metadata": {
    "tags": []
   },
   "outputs": [],
   "source": [
    "grouped_selp_deg"
   ]
  },
  {
   "cell_type": "code",
   "execution_count": null,
   "id": "5a06e1f5-95ba-4441-b47e-eeacdc48f295",
   "metadata": {},
   "outputs": [],
   "source": [
    "pdf = alt.Chart(grouped_selp_deg).mark_line(width=1, opacity=0.7, color=\"darkgrey\").encode(\n",
    "        x=alt.X('degree:O', title=\"Node Degree\"),\n",
    "        y=alt.Y('binomial:Q', title=\"Frequency\"),\n",
    "        # color=\"q\"\n",
    "        # facet=alt.Facet(\"q:O\")    \n",
    ")"
   ]
  },
  {
   "cell_type": "code",
   "execution_count": null,
   "id": "9aa3b46b-a166-4749-b453-304ba68fd593",
   "metadata": {},
   "outputs": [],
   "source": [
    "distrib = alt.Chart(grouped_selp_deg).mark_bar(width=5,  opacity=0.7, color=\"black\").encode(\n",
    "        x=alt.X('degree:O', title=\"Node Degree\"),\n",
    "        y=alt.Y('Percentage:Q'),\n",
    "        # facet=alt.Facet(\"q:O\")\n",
    "        # color=\"q\"\n",
    "    )"
   ]
  },
  {
   "cell_type": "code",
   "execution_count": null,
   "id": "7d75d6bf-d363-4ee5-90b0-e32fe1932ff7",
   "metadata": {},
   "outputs": [],
   "source": [
    "# alt.layer(pdf, distrib, data=grouped_selp_deg).facet(column='q')\n",
    "alt.layer(pdf, distrib, data=grouped_selp_deg).facet(column='q / p')"
   ]
  },
  {
   "cell_type": "markdown",
   "id": "f56dc04d-140d-4c11-bcbe-3b02175f2df9",
   "metadata": {
    "tags": []
   },
   "source": [
    "## Hsize"
   ]
  },
  {
   "cell_type": "markdown",
   "id": "11cd6d09-098c-4d93-b231-9dc047935f10",
   "metadata": {
    "tags": []
   },
   "source": [
    "### Group by"
   ]
  },
  {
   "cell_type": "code",
   "execution_count": null,
   "id": "ef81a5c3-397c-45ef-a8d2-605dc677f705",
   "metadata": {},
   "outputs": [],
   "source": [
    "df_hsizes = df_hsizes[df_hsizes[\"N_nodes\"] == 1000]"
   ]
  },
  {
   "cell_type": "code",
   "execution_count": null,
   "id": "19bd18c3-3b90-4ff3-a1bd-78970876ac32",
   "metadata": {},
   "outputs": [],
   "source": [
    "df_fits2 = df_fits2.round({'q_frac': 3})"
   ]
  },
  {
   "cell_type": "code",
   "execution_count": null,
   "id": "0f258c57-17ee-46ec-9ab2-b6e410fe4d69",
   "metadata": {
    "tags": []
   },
   "outputs": [],
   "source": [
    "grouped = df_hsizes.groupby('q / p')['hsize'].value_counts(normalize=True).reset_index(name='Percentage')\n",
    "grouped"
   ]
  },
  {
   "cell_type": "code",
   "execution_count": null,
   "id": "66b2b63b-50c0-471b-899d-1e7c199094e5",
   "metadata": {
    "tags": []
   },
   "outputs": [],
   "source": [
    "grouped = grouped.round({'q / p': 2})"
   ]
  },
  {
   "cell_type": "code",
   "execution_count": null,
   "id": "c16c0b2d-ff4b-45bc-91e7-defd95d1ba48",
   "metadata": {
    "tags": []
   },
   "outputs": [],
   "source": [
    "grouped['binomial'] = 0  # Initialize the column\n",
    "\n",
    "for q in qs:\n",
    "    q = round(q, 2)\n",
    "    # df = df_hsizes[df_hsizes[\"q\"] == f\"{q}p\"]\n",
    "    df = df_hsizes[df_hsizes[\"q\"] == q]\n",
    "    \n",
    "    # fit_values = df_fits2[(df_fits2[\"q_frac\"] == f\"{q}p\") & (df_fits2[\"measure\"] == \"hsize\") & (df_fits2[\"bounds\"] == \"p Fixed\")]\n",
    "    fit_values = df_fits2[(df_fits2[\"q_frac\"] == q) & (df_fits2[\"measure\"] == \"hsize\") & (df_fits2[\"bounds\"] == \"p Fixed\")]\n",
    "    \n",
    "    x_values = range(60)  # Assuming a range from 0 to 10\n",
    "    for x in x_values:\n",
    "        binom_pdf = stats.binom.pmf(x, fit_values.Neff, fit_values.peff)\n",
    "        grouped.loc[(grouped['hsize'] == x) & (grouped['q / p'] == q), 'binomial'] = binom_pdf"
   ]
  },
  {
   "cell_type": "code",
   "execution_count": null,
   "id": "022cfedf-6338-4795-b2d3-f8891b27c9ae",
   "metadata": {
    "tags": []
   },
   "outputs": [],
   "source": [
    "# grouped_selp = grouped[grouped.q.isin([\"0.0p\", \"0.3p\", \"0.7p\", \"1.0p\"])]\n",
    "grouped_selp = grouped[grouped[\"q / p\"].isin([0, 0.3, 0.7, 1])]"
   ]
  },
  {
   "cell_type": "code",
   "execution_count": null,
   "id": "ed6325e4-d289-46bc-9459-a497e21d1cdc",
   "metadata": {
    "tags": []
   },
   "outputs": [],
   "source": [
    "pdf = alt.Chart(grouped_selp).mark_line(width=1, opacity=0.7, color=\"darkgrey\").encode(\n",
    "        x=alt.X('hsize:O', title=\"Hyperedge Size\", scale=alt.Scale(domain=list(range(3, 51)), padding=0.1, paddingInner=0.1, )),\n",
    "        y=alt.Y('binomial:Q', title=\"Frequency\"),\n",
    "        # color=\"q\"\n",
    "        # facet=alt.Facet(\"q:O\")    \n",
    ")"
   ]
  },
  {
   "cell_type": "code",
   "execution_count": null,
   "id": "2ed6085b-0b78-4d87-bd5c-c688b9491bd3",
   "metadata": {
    "tags": []
   },
   "outputs": [],
   "source": [
    "distrib = alt.Chart(grouped_selp).mark_bar(width=5,  opacity=0.7, color=\"black\").encode(\n",
    "        x=alt.X('hsize:O', title=\"Hyperedge Size\", scale=alt.Scale(domain=list(range(3, 51)), padding=0.1, paddingInner=0.1)),\n",
    "        y=alt.Y('Percentage:Q'),\n",
    "        # facet=alt.Facet(\"q:O\")\n",
    "        # color=\"q\"\n",
    "    )"
   ]
  },
  {
   "cell_type": "code",
   "execution_count": null,
   "id": "97af04aa-8c09-4da5-ad14-892cefd876ed",
   "metadata": {
    "tags": []
   },
   "outputs": [],
   "source": [
    "alt.layer(pdf, distrib, data=grouped_selp).facet(column='q / p')"
   ]
  },
  {
   "cell_type": "markdown",
   "id": "efc8c802-4a6d-4a2a-ac2b-7a70878187a9",
   "metadata": {},
   "source": [
    "## Distribution of types of edges"
   ]
  },
  {
   "cell_type": "code",
   "execution_count": null,
   "id": "f36fb124-8464-4ec1-80cf-2f4db7e7cee6",
   "metadata": {},
   "outputs": [],
   "source": [
    "df_fraction"
   ]
  },
  {
   "cell_type": "code",
   "execution_count": null,
   "id": "e154f7c2-75cf-4ea2-8a9a-79c728216767",
   "metadata": {},
   "outputs": [],
   "source": [
    "alt.Chart(df_sim).mark_bar().encode(\n",
    "    x=alt.X('q:O', sort=q_frac_order),\n",
    "    y=alt.Y('count', title=\"Number of hyperedges\"),\n",
    "    color=alt.Color('type', \n",
    "    scale = alt.Scale(domain=['mixed', \"pure\"], range=['#9ebcda', '#e0ecf4']))\n",
    ").properties(\n",
    "    width=800,\n",
    "    height=300\n",
    ")"
   ]
  },
  {
   "cell_type": "code",
   "execution_count": null,
   "id": "0425d7a2-4088-42e2-9f41-fbbc19cae541",
   "metadata": {
    "tags": []
   },
   "outputs": [],
   "source": [
    "alt.Chart(df_fraction).mark_bar().encode(\n",
    "    x=alt.X('q:O', sort=q_frac_order),\n",
    "    y=alt.Y('count'),\n",
    "    color=alt.Color('fraction0').scale(scheme=\"lightgreyteal\"),\n",
    "    order=alt.Order(\n",
    "      # Sort the segments of the bars by this field\n",
    "      'fraction0',\n",
    "      sort='descending'\n",
    "    )\n",
    "    # scale = alt.Scale(domain=['mixed', \"pure\"], range=['#9ebcda', '#e0ecf4']))\n",
    ").properties(\n",
    "    width=800,\n",
    "    height=300\n",
    ")"
   ]
  },
  {
   "cell_type": "markdown",
   "id": "5110b2c6-19c1-4347-99f3-dc20ee9374db",
   "metadata": {},
   "source": [
    "## Hyperedge composition"
   ]
  },
  {
   "cell_type": "code",
   "execution_count": null,
   "id": "c739a73f-b735-450e-b52c-02c27e10dfbe",
   "metadata": {
    "tags": []
   },
   "outputs": [],
   "source": [
    "df_fraction2[\"q / p\"] = df_fraction2[\"q\"] / p\n",
    "df_fraction2[\"N / E\"] = df_fraction2[\"N_nodes\"] / N_edges"
   ]
  },
  {
   "cell_type": "code",
   "execution_count": null,
   "id": "bdc6da00-69e1-4246-a620-97e380c3c7af",
   "metadata": {},
   "outputs": [],
   "source": [
    "df_fraction_1000 = df_fraction2[df_fraction2[\"N_nodes\"] == 1000]"
   ]
  },
  {
   "cell_type": "code",
   "execution_count": null,
   "id": "a7162f4b-c580-4318-8217-0982842084d2",
   "metadata": {
    "tags": []
   },
   "outputs": [],
   "source": [
    "# Calculer la variance a la place, tester avec plusieurs valeurs de N, en faisant varié E, N = 200, 500, 1000\n",
    "\n",
    "error = alt.Chart(df_fraction_1000).mark_errorband(extent=\"stdev\").encode(\n",
    "    x=\"q / p\",\n",
    "    y=alt.Y(\n",
    "        \"value:Q\",\n",
    "        # scale=alt.Scale(zero=False),\n",
    "        # title=\"max(n1, n2) / n1 + n2\",\n",
    "        title=\"c\"\n",
    "    ),\n",
    ")\n",
    "\n",
    "mean_line = alt.Chart(df_fraction_1000).mark_line().encode(\n",
    "    x=\"q / p\",\n",
    "    y=alt.Y(\n",
    "        \"mean(value)\",\n",
    "        # title=\"Hyperedge Purity\"\n",
    "        # title=\"max(n1, n2) / n1 + n2\"\n",
    "        title=\"c\"\n",
    "    ),\n",
    ")\n",
    "\n",
    "error + mean_line"
   ]
  },
  {
   "cell_type": "code",
   "execution_count": null,
   "id": "265fad11-0f69-4d00-b720-1b480489887e",
   "metadata": {},
   "outputs": [],
   "source": [
    "error = alt.Chart(df_fraction_1000).mark_errorband(extent=\"stdev\").encode(\n",
    "    x=\"q / p\",\n",
    "    y=alt.Y(\n",
    "        \"gini:Q\",\n",
    "        # scale=alt.Scale(zero=False),\n",
    "        # title=\"max(n1, n2) / n1 + n2\",\n",
    "        title=\"gini\"\n",
    "    ),\n",
    ")\n",
    "\n",
    "mean_line = alt.Chart(df_fraction_1000).mark_line().encode(\n",
    "    x=\"q / p\",\n",
    "    y=alt.Y(\n",
    "        \"mean(gini)\",\n",
    "        # title=\"Hyperedge Purity\"\n",
    "        # title=\"max(n1, n2) / n1 + n2\"\n",
    "        title=\"gini\"\n",
    "    ),\n",
    ")\n",
    "\n",
    "error + mean_line"
   ]
  },
  {
   "cell_type": "code",
   "execution_count": null,
   "id": "a4dd7839-f762-48a4-960d-daa78c3600e2",
   "metadata": {},
   "outputs": [],
   "source": [
    "# alt.layer(pdf, distrib, data=grouped_selp_deg).facet(column='q')\n",
    "alt.layer(error, mean_line, data=df_fraction_1000).facet(column='strat')"
   ]
  },
  {
   "cell_type": "code",
   "execution_count": null,
   "id": "41d8ff32-d31a-4876-a349-b34de4844ba6",
   "metadata": {
    "tags": []
   },
   "outputs": [],
   "source": [
    "alt.Chart(df_fraction2).mark_line().encode(\n",
    "    x=\"q / p\",\n",
    "    y=alt.Y(\n",
    "        \"mean(gini)\",\n",
    "        # title=\"Hyperedge Purity\"\n",
    "        # title=\"max(n1, n2) / n1 + n2\"\n",
    "        title=\"normalized gini\"\n",
    "    ),\n",
    "    # color=alt.Color(\"N / E:N\", scale=alt.Scale(scheme=\"category10\"))\n",
    "    # color=alt.Color(\"N / E:N\", scale=alt.Scale()),\n",
    "    strokeDash=\"N / E\"\n",
    ").facet(column='strat')"
   ]
  },
  {
   "cell_type": "markdown",
   "id": "f5218740-f561-4f78-9935-e15eaebd9fa1",
   "metadata": {
    "tags": []
   },
   "source": [
    "## Normalize "
   ]
  },
  {
   "cell_type": "code",
   "execution_count": null,
   "id": "58f301f5-0c85-4e3e-b109-4c88049fc33f",
   "metadata": {},
   "outputs": [],
   "source": [
    "df_fraction2_var = (df_fraction2\n",
    "    # .groupby('q / p')\n",
    "    .groupby(['q / p', \"N / E\", \"strat\"])\n",
    "    # ['value']\n",
    "    ['gini']\n",
    "    .agg(['mean', 'std'])\n",
    "    .assign(stdNorm = lambda df: df['std'] / df['mean'])\n",
    "    .reset_index())"
   ]
  },
  {
   "cell_type": "code",
   "execution_count": null,
   "id": "0557bf31-e10a-47e0-a1a4-88df11d0c6fb",
   "metadata": {
    "tags": []
   },
   "outputs": [],
   "source": [
    "df_fraction2_var"
   ]
  },
  {
   "cell_type": "code",
   "execution_count": null,
   "id": "1a4907ad-8bac-46d2-8c62-397f83381317",
   "metadata": {},
   "outputs": [],
   "source": [
    "# Tracer en fct de E / N en faisant varier N\n",
    "alt.Chart(df_fraction2_var).mark_line().encode(\n",
    "    x=\"q / p\",\n",
    "    y=alt.Y(\n",
    "        \"stdNorm\",\n",
    "        # title=\"Hyperedge Purity\"\n",
    "        # title=\"max(n1, n2) / n1 + n2\"\n",
    "        title=\"std(gini) / mean(gini)\",\n",
    "    ),\n",
    "    color=alt.Color(\"N / E\", scale=alt.Scale(scheme=\"greys\"))\n",
    ").facet(\"strat\")"
   ]
  },
  {
   "cell_type": "code",
   "execution_count": null,
   "id": "78f822c0-2b31-402f-9d5a-ec73f105e87b",
   "metadata": {},
   "outputs": [],
   "source": [
    "df_fraction2_max = (df_fraction2_var\n",
    "    .groupby([\"N / E\", \"strat\"])\n",
    "    ['stdNorm']\n",
    "    .agg(['max'])\n",
    "    # .assign(max = lambda df: df['std'] / df['mean'])\n",
    "    .reset_index())"
   ]
  },
  {
   "cell_type": "code",
   "execution_count": null,
   "id": "0aa5d55a-dff5-475e-b0b6-9ac2052d8755",
   "metadata": {},
   "outputs": [],
   "source": [
    "df_fraction2_max"
   ]
  },
  {
   "cell_type": "code",
   "execution_count": null,
   "id": "a0330601-4771-4ada-9df8-fb2eba7da698",
   "metadata": {},
   "outputs": [],
   "source": [
    "# Tracer en fct de E / N en faisant varier N\n",
    "alt.Chart(df_fraction2_max).mark_line().encode(\n",
    "    x=\"N / E\",\n",
    "    y=alt.Y(\n",
    "        \"max\",\n",
    "        # title=\"Hyperedge Purity\"\n",
    "        # title=\"max(n1, n2) / n1 + n2\"\n",
    "        title=\"gini*\",\n",
    "    )\n",
    ").facet(\"strat\")"
   ]
  },
  {
   "cell_type": "code",
   "execution_count": null,
   "id": "672a557c-fafa-4cbe-b35f-25554388a506",
   "metadata": {},
   "outputs": [],
   "source": [
    "# Pour quelques valeurs de q /p, tracer la distribution de la valeur\n",
    "# Tracer la variance de la quantite vs q/p"
   ]
  },
  {
   "cell_type": "code",
   "execution_count": null,
   "id": "1ad2ff52-e33a-4887-85ed-29d74cee1977",
   "metadata": {
    "tags": []
   },
   "outputs": [],
   "source": [
    "alt.Chart(df_fraction2[df_fraction2[\"q / p\"] == 0.1]).transform_density(\n",
    "    'value',\n",
    "    as_=['value', 'density'],\n",
    ").mark_line().encode(\n",
    "    x=\"value:Q\",\n",
    "    y='density:Q',\n",
    ")"
   ]
  },
  {
   "cell_type": "code",
   "execution_count": null,
   "id": "82b21d51-9a21-4aef-a6dd-cb96edaf77a2",
   "metadata": {
    "tags": []
   },
   "outputs": [],
   "source": [
    "# Enlever 0. Bug dans le calcul de la densite.\n",
    "# appeler la valeur de c\n",
    "alt.Chart(df_fraction2[(df_fraction2.N_nodes == 1000) & (df_fraction2[\"q / p\"] != 0)]).transform_density(\n",
    "    'value',\n",
    "    groupby=['q / p'],\n",
    "    as_=['value', 'density'],\n",
    ").mark_line().encode(\n",
    "    x=alt.X(\"value:Q\", title=\"c\"),\n",
    "    y='density:Q',\n",
    "    color=alt.Color(\"q / p\",  scale=alt.Scale(scheme=\"greys\"))\n",
    ")"
   ]
  },
  {
   "cell_type": "code",
   "execution_count": null,
   "id": "e18ea678-775f-483f-9aaa-ea9d398e3f52",
   "metadata": {},
   "outputs": [],
   "source": [
    "gini_plot = alt.Chart(df_fraction2[(df_fraction2.N_nodes == 1000) & (df_fraction2[\"q / p\"].isno([0, 0.01]))]).transform_density(\n",
    "    'gini',\n",
    "    groupby=['q / p', \"strat\"],\n",
    "    as_=['gini', 'density'],\n",
    ").mark_line().encode(\n",
    "    x=alt.X(\"gini:Q\", title=\"gini\"),\n",
    "    y='density:Q',\n",
    "    color=alt.Color(\"q / p\",  scale=alt.Scale(scheme=\"greys\"))\n",
    ")"
   ]
  },
  {
   "cell_type": "code",
   "execution_count": null,
   "id": "86878a9b-bda8-41cb-beae-4a666bb05c86",
   "metadata": {},
   "outputs": [],
   "source": [
    "gini_plot.facet(\"strat\")"
   ]
  },
  {
   "cell_type": "markdown",
   "id": "b22d82b6-bcf1-4353-b9e6-f45dab3ead67",
   "metadata": {},
   "source": [
    "# Distrib effectives"
   ]
  },
  {
   "cell_type": "code",
   "execution_count": null,
   "id": "c600c620-e040-4919-b7f6-5ca4248ddb5c",
   "metadata": {},
   "outputs": [],
   "source": [
    "df_fits"
   ]
  },
  {
   "cell_type": "markdown",
   "id": "57817257-8c32-4f33-a0ec-575438f34a49",
   "metadata": {},
   "source": [
    "## Degree distrib fit"
   ]
  },
  {
   "cell_type": "code",
   "execution_count": null,
   "id": "f58a39ba-f89c-4906-bf0d-1bd5a99c5f79",
   "metadata": {},
   "outputs": [],
   "source": [
    "points = alt.Chart(df_fits).mark_point().encode(\n",
    "    x=alt.X('q', sort=q_frac_order),\n",
    "    # x=alt.X('q', sort=q_frac_order, axis=alt.Axis(labelExpr=q_frac_order)),\n",
    "    y=alt.Y('peff', title=\"p_eff\"),\n",
    ").properties(\n",
    "    width=800,\n",
    "    height=300\n",
    ")"
   ]
  },
  {
   "cell_type": "code",
   "execution_count": null,
   "id": "45b375da-2f25-4294-a2d1-fd1d798ce088",
   "metadata": {},
   "outputs": [],
   "source": [
    "regresssion = points.transform_regression('q', 'peff', method=\"poly\").mark_line(color=\"black\")"
   ]
  },
  {
   "cell_type": "code",
   "execution_count": null,
   "id": "64c4a344-3d48-4a7a-ba48-d56835f494e3",
   "metadata": {},
   "outputs": [],
   "source": [
    "line = alt.Chart(pd.DataFrame({'y': [p]})).mark_rule().encode(y='y')"
   ]
  },
  {
   "cell_type": "code",
   "execution_count": null,
   "id": "33eb8ac3-10c4-4301-9c59-fb6fef6d595e",
   "metadata": {
    "tags": []
   },
   "outputs": [],
   "source": [
    "# points + regresssion + line\n",
    "# Pour plusieurs valeur de N\n",
    "points + line"
   ]
  },
  {
   "cell_type": "markdown",
   "id": "440aefaa-a6b8-4a78-858a-43e54dc3a582",
   "metadata": {},
   "source": [
    "### Normalize"
   ]
  },
  {
   "cell_type": "code",
   "execution_count": null,
   "id": "9256a438-99ed-494a-9f3d-1afc584650b0",
   "metadata": {},
   "outputs": [],
   "source": [
    "df_fits[\"peff / p\"] = df_fits[\"peff\"] / df_fits[\"p\"] \n",
    "df_fits[\"p_h_eff / p\"] = df_fits[\"p_hsize_eff\"] / df_fits[\"p\"] \n",
    "df_fits[\"q / p\"] = df_fits[\"q\"] / df_fits[\"p\"] \n",
    "\n",
    "df_fits[\"Neff / Nedges\"] = df_fits[\"Neff\"] / N_edges\n",
    "df_fits[\"NeffHsize / N\"] = df_fits[\"n_eff_hsize\"] / N"
   ]
  },
  {
   "cell_type": "code",
   "execution_count": null,
   "id": "3230d458-65bd-4590-a784-1379e5cd0433",
   "metadata": {
    "tags": []
   },
   "outputs": [],
   "source": [
    "df_fits2[\"q / p\"] = df_fits2[\"q\"] / df_fits2[\"p\"] \n",
    "df_fits2[\"peff / p\"] = df_fits2[\"peff\"] / df_fits2[\"p\"] \n",
    "df_fits2[\"neff / Nedges\"] = df_fits2[\"Neff\"] / N_edges\n",
    "df_fits2[\"neff / N\"] = df_fits2[\"Neff\"] / N"
   ]
  },
  {
   "cell_type": "markdown",
   "id": "ae9604e6-a285-415a-a8bc-0ea8e3d46260",
   "metadata": {
    "jp-MarkdownHeadingCollapsed": true,
    "tags": []
   },
   "source": [
    "## Old"
   ]
  },
  {
   "cell_type": "code",
   "execution_count": null,
   "id": "a7298dd6-7a46-4819-934a-800ed6dcfe1b",
   "metadata": {},
   "outputs": [],
   "source": [
    "points = alt.Chart(df_fits).mark_point().encode(\n",
    "    x=alt.X('q / p', sort=q_frac_order),\n",
    "    # x=alt.X('q', sort=q_frac_order, axis=alt.Axis(labelExpr=q_frac_order)),\n",
    "    y=alt.Y('peff / p'),\n",
    ").properties(\n",
    "    width=800,\n",
    "    height=300\n",
    ")\n",
    "\n",
    "points"
   ]
  },
  {
   "cell_type": "code",
   "execution_count": null,
   "id": "3aad3714-8bac-430c-b420-c51d475e21a3",
   "metadata": {
    "tags": []
   },
   "outputs": [],
   "source": [
    "points_Neff = alt.Chart(df_fits).mark_point().encode(\n",
    "    x=alt.X('q / p', sort=q_frac_order),\n",
    "    # x=alt.X('q', sort=q_frac_order, axis=alt.Axis(labelExpr=q_frac_order)),\n",
    "    y=alt.Y('Neff / Nedges'),\n",
    ").properties(\n",
    "    width=800,\n",
    "    height=300\n",
    ")\n",
    "\n",
    "points_Neff"
   ]
  },
  {
   "cell_type": "code",
   "execution_count": null,
   "id": "9a1cbece-85de-46da-98fc-8cdaac1a1e9d",
   "metadata": {},
   "outputs": [],
   "source": [
    "alt.Chart(df_fits).mark_line().encode(\n",
    "    x=alt.X('peff / p', sort=q_frac_order),\n",
    "    # x=alt.X('q', sort=q_frac_order, axis=alt.Axis(labelExpr=q_frac_order)),\n",
    "    y=alt.Y('Neff / Nedges'),\n",
    ").properties(\n",
    "    width=800,\n",
    "    height=300\n",
    ")"
   ]
  },
  {
   "cell_type": "code",
   "execution_count": null,
   "id": "2c5e4ec8-5b85-41be-91d1-acb2648f2655",
   "metadata": {},
   "outputs": [],
   "source": [
    "alt.Chart(df_fits).mark_point().encode(\n",
    "    x=alt.X('q / p', sort=q_frac_order),\n",
    "    # x=alt.X('q', sort=q_frac_order, axis=alt.Axis(labelExpr=q_frac_order)),\n",
    "    y=alt.Y('Neffpfixed'),\n",
    ").properties(\n",
    "    width=800,\n",
    "    height=300\n",
    ")"
   ]
  },
  {
   "cell_type": "code",
   "execution_count": null,
   "id": "ade90860-de3f-4747-bf19-ca73e5bb2cf1",
   "metadata": {},
   "outputs": [],
   "source": [
    "# Fitter par une droite (rouge)\n",
    "# Point plus grand,\n",
    "\n",
    "alt.Chart(df_fits2[df_fits2.measure == \"degree\"]).mark_point().encode(\n",
    "    x=alt.X('q / p', sort=q_frac_order),\n",
    "    # x=alt.X('q', sort=q_frac_order, axis=alt.Axis(labelExpr=q_frac_order)),\n",
    "    y=alt.Y('neff / Nedges'),\n",
    "    color=\"bounds\"\n",
    ").properties(\n",
    "    width=800,\n",
    "    height=300\n",
    ")"
   ]
  },
  {
   "cell_type": "code",
   "execution_count": null,
   "id": "92124261-8799-40ab-bf4d-d0aff908a71f",
   "metadata": {},
   "outputs": [],
   "source": []
  },
  {
   "cell_type": "code",
   "execution_count": null,
   "id": "8c582207-e222-4d77-b412-dc5bb8422c18",
   "metadata": {
    "tags": []
   },
   "outputs": [],
   "source": [
    "alt.Chart(df_fits2[df_fits2.measure == \"degree\"]).mark_point().encode(\n",
    "    x=alt.X('q / p', sort=q_frac_order),\n",
    "    # x=alt.X('q', sort=q_frac_order, axis=alt.Axis(labelExpr=q_frac_order)),\n",
    "    y=alt.Y('peff / p'),\n",
    "    color=\"bounds\"\n",
    ").properties(\n",
    "    width=800,\n",
    "    height=300\n",
    ")"
   ]
  },
  {
   "cell_type": "code",
   "execution_count": null,
   "id": "a9d0ad25-1598-4c29-b5c1-376020fab053",
   "metadata": {
    "tags": []
   },
   "outputs": [],
   "source": [
    "df_fits2"
   ]
  },
  {
   "cell_type": "markdown",
   "id": "1448e8c1-fb97-4997-8d0e-2374b9d4b90c",
   "metadata": {
    "jp-MarkdownHeadingCollapsed": true,
    "tags": []
   },
   "source": [
    "## Hsize fits"
   ]
  },
  {
   "cell_type": "code",
   "execution_count": null,
   "id": "14e162d3-66e2-469b-9b7a-60652d6d2a35",
   "metadata": {
    "tags": []
   },
   "outputs": [],
   "source": [
    "points = alt.Chart(df_fits).mark_point().encode(\n",
    "    x=alt.X('q / p', sort=q_frac_order),\n",
    "    # x=alt.X('q', sort=q_frac_order, axis=alt.Axis(labelExpr=q_frac_order)),\n",
    "    y=alt.Y('p_h_eff / p'),\n",
    ").properties(\n",
    "    width=800,\n",
    "    height=300\n",
    ")\n",
    "\n",
    "points"
   ]
  },
  {
   "cell_type": "code",
   "execution_count": null,
   "id": "7f8d7ad9-dc53-4166-8145-0ec2ab6e13c2",
   "metadata": {
    "tags": []
   },
   "outputs": [],
   "source": [
    "points_Neff = alt.Chart(df_fits).mark_point().encode(\n",
    "    x=alt.X('q / p', sort=q_frac_order),\n",
    "    # x=alt.X('q', sort=q_frac_order, axis=alt.Axis(labelExpr=q_frac_order)),\n",
    "    y=alt.Y(\"NeffHsize / N\"),\n",
    ").properties(\n",
    "    width=800,\n",
    "    height=300\n",
    ")\n",
    "\n",
    "points_Neff"
   ]
  },
  {
   "cell_type": "markdown",
   "id": "0a53c6e4-d9d5-4a0b-8c68-b88173573eac",
   "metadata": {},
   "source": [
    "## Several bounds"
   ]
  },
  {
   "cell_type": "code",
   "execution_count": null,
   "id": "c72fd7cc-0bf4-4258-bb6f-15f7fa4494c0",
   "metadata": {
    "tags": []
   },
   "outputs": [],
   "source": [
    "chart = alt.Chart(df_fits2[df_fits2.measure == \"hsize\"]).mark_point().encode(\n",
    "    x=alt.X('q / p', sort=q_frac_order),\n",
    "    # x=alt.X('q', sort=q_frac_order, axis=alt.Axis(labelExpr=q_frac_order)),\n",
    "    y=alt.Y('neff / N'),\n",
    "    # color=\"bounds\"\n",
    ").properties(\n",
    "    width=800,\n",
    "    height=300\n",
    ")\n",
    "\n",
    "# chart"
   ]
  },
  {
   "cell_type": "code",
   "execution_count": null,
   "id": "f781bd77-b804-47e1-b9d9-c3df2a4137a3",
   "metadata": {},
   "outputs": [],
   "source": [
    "chart + chart.transform_regression('q / p', 'neff / N').mark_line()"
   ]
  },
  {
   "cell_type": "code",
   "execution_count": null,
   "id": "272407a8-c235-4928-93bf-b4ce59e70153",
   "metadata": {
    "tags": []
   },
   "outputs": [],
   "source": [
    "alt.Chart(df_fits2[df_fits2.measure == \"hsize\"]).mark_point().encode(\n",
    "    x=alt.X('q / p', sort=q_frac_order),\n",
    "    # x=alt.X('q', sort=q_frac_order, axis=alt.Axis(labelExpr=q_frac_order)),\n",
    "    y=alt.Y('peff / p'),\n",
    "    color=\"bounds\"\n",
    ").properties(\n",
    "    width=800,\n",
    "    height=300\n",
    ")"
   ]
  },
  {
   "cell_type": "code",
   "execution_count": null,
   "id": "ccfc00b7-c4b5-49c3-b2a2-6d894d8d020d",
   "metadata": {},
   "outputs": [],
   "source": [
    "df = df_fits2[(df_fits2.measure == \"hsize\") & (df_fits2.bounds == \"p Fixed\")]\n",
    "chart = alt.Chart(df).mark_point(size=60, opacity=0.7, fill=\"black\", stroke=\"black\").encode(\n",
    "    x=alt.X('q / p', sort=q_frac_order),\n",
    "    # x=alt.X('q', sort=q_frac_order, axis=alt.Axis(labelExpr=q_frac_order)),\n",
    "    y=alt.Y('neff / N'),\n",
    ").properties(\n",
    "    width=600,\n",
    "    height=300\n",
    ")"
   ]
  },
  {
   "cell_type": "code",
   "execution_count": null,
   "id": "a3392add-d2d6-4e8b-905b-5bfb376656f3",
   "metadata": {},
   "outputs": [],
   "source": [
    "hsize_chart = chart + chart.transform_regression('q / p', 'neff / N').mark_line()\n",
    "hsize_chart"
   ]
  },
  {
   "cell_type": "code",
   "execution_count": null,
   "id": "9c41feed-e272-4839-a036-e951c3213007",
   "metadata": {},
   "outputs": [],
   "source": [
    "df = df_fits2[(df_fits2.measure == \"degree\") & (df_fits2.bounds == \"p Fixed\")]\n",
    "chart2 = alt.Chart(df).mark_point(size=60, opacity=0.7, fill=\"black\", stroke=\"black\").encode(\n",
    "    # x=alt.X('q / p', sort=q_frac_order, axis=None),\n",
    "    x=alt.X('q / p', sort=q_frac_order),\n",
    "    # x=alt.X('q', sort=q_frac_order, axis=alt.Axis(labelExpr=q_frac_order)),\n",
    "    y=alt.Y('neff / Nedges', title=\"Eeff / E\", scale=alt.Scale(domain=[0, 1.1])),\n",
    ").properties(\n",
    "    width=600,\n",
    "    height=300\n",
    ")"
   ]
  },
  {
   "cell_type": "code",
   "execution_count": null,
   "id": "e3ef9a8f-c735-4818-8b90-4924f73a4566",
   "metadata": {
    "tags": []
   },
   "outputs": [],
   "source": [
    "reg_degree = chart2.transform_regression('q / p', 'neff / Nedges', params=False).mark_line(stroke=\"black\")"
   ]
  },
  {
   "cell_type": "code",
   "execution_count": null,
   "id": "e7fd72ec-4ced-4158-bb8e-7a9fc4203e3a",
   "metadata": {},
   "outputs": [],
   "source": [
    "degree_chart = chart2 + reg_degree\n",
    "degree_chart"
   ]
  },
  {
   "cell_type": "code",
   "execution_count": null,
   "id": "7dfa1dca-850b-403e-87fe-57e2605802a5",
   "metadata": {},
   "outputs": [],
   "source": [
    "# Faire varier l'axe en 0.10\n",
    "# appeler Neff et Eeff\n",
    "\n",
    "degree_chart | hsize_chart\n",
    "# alt.layer(degree_chart, hsize_chart)"
   ]
  },
  {
   "cell_type": "markdown",
   "id": "58c56bf6-a472-4a8d-8f1b-ac6658d3600c",
   "metadata": {},
   "source": [
    "### Regression coeffs"
   ]
  },
  {
   "cell_type": "code",
   "execution_count": null,
   "id": "6fe201af-7fb7-46da-9bd0-98da2cc65f58",
   "metadata": {
    "tags": []
   },
   "outputs": [],
   "source": [
    "reg = chart2.transform_regression('q / p', 'neff / Nedges', params=True)\n",
    "print(altair_transform.extract_data(reg))"
   ]
  },
  {
   "cell_type": "code",
   "execution_count": null,
   "id": "e5fc2a0a-d20a-45cf-b2c0-d8df3e076a68",
   "metadata": {
    "tags": []
   },
   "outputs": [],
   "source": [
    "reg2 = chart.transform_regression('q / p', 'neff / N', params=True)\n",
    "print(altair_transform.extract_data(reg2))"
   ]
  },
  {
   "cell_type": "code",
   "execution_count": null,
   "id": "7f8dddfb-72ac-4a7d-859c-6be658106b0f",
   "metadata": {},
   "outputs": [],
   "source": [
    "# Fixer p est plus facilement explicable: plutot parler de ca dans le papier"
   ]
  }
 ],
 "metadata": {
  "kernelspec": {
   "display_name": "Python 3 (ipykernel)",
   "language": "python",
   "name": "python3"
  },
  "language_info": {
   "codemirror_mode": {
    "name": "ipython",
    "version": 3
   },
   "file_extension": ".py",
   "mimetype": "text/x-python",
   "name": "python",
   "nbconvert_exporter": "python",
   "pygments_lexer": "ipython3",
   "version": "3.11.5"
  }
 },
 "nbformat": 4,
 "nbformat_minor": 5
}
