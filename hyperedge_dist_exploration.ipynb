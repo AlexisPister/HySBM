{
 "cells": [
  {
   "cell_type": "code",
   "execution_count": 106,
   "id": "ae48b0ac-c3e4-4597-91b2-95d66466363b",
   "metadata": {},
   "outputs": [
    {
     "data": {
      "text/plain": [
       "DataTransformerRegistry.enable('vegafusion')"
      ]
     },
     "execution_count": 106,
     "metadata": {},
     "output_type": "execute_result"
    }
   ],
   "source": [
    "import json\n",
    "import math\n",
    "import networkx as nx\n",
    "import pandas as pd\n",
    "import altair as alt\n",
    "import numpy as np\n",
    "from scipy import stats\n",
    "from scipy.optimize import curve_fit\n",
    "import distfit\n",
    "import os\n",
    "\n",
    "\n",
    "from generator_v2 import Generator\n",
    "\n",
    "alt.data_transformers.enable(\"vegafusion\")"
   ]
  },
  {
   "cell_type": "code",
   "execution_count": 148,
   "id": "b3b0ec3c-b12c-4c87-93d0-90e8328f8673",
   "metadata": {},
   "outputs": [
    {
     "data": {
      "text/plain": [
       "ThemeRegistry.enable('theme')"
      ]
     },
     "execution_count": 148,
     "metadata": {},
     "output_type": "execute_result"
    }
   ],
   "source": [
    "# define the theme by returning the dictionary of configurations\n",
    "\n",
    "font = \"monospace\"\n",
    "# Axes\n",
    "axisColor = \"#000000\"\n",
    "gridColor = \"#DEDDDD\"\n",
    "# Colors\n",
    "main_palette = [\"#1696d2\", \n",
    "                \"#d2d2d2\",\n",
    "                \"#000000\", \n",
    "                \"#fdbf11\", \n",
    "                \"#ec008b\", \n",
    "                \"#55b748\", \n",
    "                \"#5c5859\", \n",
    "                \"#db2b27\", \n",
    "               ]\n",
    "sequential_palette = [\"black\", \n",
    "                      \"#a2d4ec\", \n",
    "                      \"#73bfe2\", \n",
    "                      \"#46abdb\", \n",
    "                      \"#1696d2\", \n",
    "                      \"#12719e\", \n",
    "                     ]\n",
    "\n",
    "\n",
    "# markColor = \"#8856a7\"\n",
    "# markColor = \"#6a51a3\"\n",
    "markColor = \"#9ebcda\"\n",
    "\n",
    "# Define custom color schemes for ordinal and categorical data\n",
    "categorical_color_scheme = ['red', 'green', 'blue', 'purple', 'orange']\n",
    "ordinal_color_scheme = [\"#fcfbfd\",\n",
    "\"#efedf5\",\n",
    "\"#dadaeb\",\n",
    "\"#bcbddc\",\n",
    "\"#9e9ac8\",\n",
    "\"#807dba\",\n",
    "\"#6a51a3\",\n",
    "\"#4a1486\"]\n",
    "\n",
    "\n",
    "def simple_theme():\n",
    "    return {\n",
    "        'config': {\n",
    "            'view': {\n",
    "                'height': 300,\n",
    "                'width': 300,\n",
    "            },\n",
    "            \"title\": {\n",
    "                    \"fontSize\": 18,\n",
    "                    \"font\": font,\n",
    "                    \"anchor\": \"start\", # equivalent of left-aligned.\n",
    "                    \"fontColor\": \"#000000\"\n",
    "                },\n",
    "            \"facet\": {\n",
    "                \"labelFontSize\": 16,\n",
    "                \"titleFontSize\": 20  # Adjust the fontsize as needed\n",
    "            },\n",
    "            \"axisX\": {\n",
    "                    \"labelFont\": font,\n",
    "                    \"labelFontSize\": 16,\n",
    "                    \"titleFontSize\": 20,\n",
    "                    \"grid\": False,\n",
    "                },\n",
    "                \"axisY\": {\n",
    "                    \"domain\": False,\n",
    "                    \"grid\": False,\n",
    "                    \"labelFont\": font,\n",
    "                    \"labelFontSize\": 16,\n",
    "                    \"titleFontSize\": 20,\n",
    "                },\n",
    "            'mark': {\n",
    "                'color': markColor,\n",
    "                'fill': markColor\n",
    "            },\n",
    "            \"line\": {\n",
    "                \"fill\": None,\n",
    "               \"stroke\": \"black\",\n",
    "           },\n",
    "            \"scale\": {\"color\": {\"scheme\": \"blue\"}},\n",
    "            \"legend\": {\n",
    "\n",
    "                \"titleFontSize\": 20,\n",
    "                \"labelFontSize\": 16\n",
    "            }            \n",
    "        }\n",
    "    }\n",
    "\n",
    "\n",
    "# alt.themes.register(\"theme\", theme)\n",
    "alt.themes.register(\"theme\", simple_theme)\n",
    "alt.themes.enable(\"theme\")\n",
    "#alt.themes.enable(\"ggplot2\")"
   ]
  },
  {
   "cell_type": "code",
   "execution_count": 149,
   "id": "28f1d99d-1253-4242-86be-e57e515d8bed",
   "metadata": {},
   "outputs": [],
   "source": [
    "N = 1000\n",
    "N_edges = 200\n",
    "N_coms = 4\n",
    "# p = 300 / N\n",
    "p = 0.1\n",
    "\n",
    "q = 0.1 * p\n",
    "\n",
    "# qs = [1, 0.1, 0.01, 0.001]\n",
    "qs = [0.1, 0.01]\n",
    "\n",
    "\n",
    "community_array = []\n",
    "for i in range(N_coms):\n",
    "    community_array += [i for x in range(N // N_coms)]"
   ]
  },
  {
   "cell_type": "code",
   "execution_count": 150,
   "id": "03ff8be2-4344-47a2-9014-23dcff7f61ec",
   "metadata": {},
   "outputs": [
    {
     "data": {
      "text/plain": [
       "0.1"
      ]
     },
     "execution_count": 150,
     "metadata": {},
     "output_type": "execute_result"
    }
   ],
   "source": [
    "p"
   ]
  },
  {
   "cell_type": "code",
   "execution_count": 151,
   "id": "5d8d9124-fd2e-453a-8231-0e6744e0d2e8",
   "metadata": {},
   "outputs": [
    {
     "name": "stdout",
     "output_type": "stream",
     "text": [
      "0.1\n",
      "0.01\n"
     ]
    }
   ],
   "source": [
    "all_hsizes = []\n",
    "q_to_fit = {}\n",
    "\n",
    "\n",
    "df_hsizes = pd.DataFrame(columns=[\"hsize\", \"q / p\"], dtype=int)\n",
    "\n",
    "dist = stats.binom\n",
    "\n",
    "for q_frac in qs:\n",
    "    print(q_frac)\n",
    "    q = q_frac * p\n",
    "\n",
    "    all_hsizes = []\n",
    "    for i in range(100):\n",
    "\n",
    "        gen = Generator(N, N_edges, N_coms, p, q, community_array, \"min\")\n",
    "        gen.run()\n",
    "        hsizes = dict(gen.hyperedge_sizes()).values()\n",
    "        all_hsizes = all_hsizes + list(hsizes)\n",
    "    \n",
    "        # bounds = [(N / N_coms, N), (p, p)]\n",
    "        bounds = [(0, N), (p, p)]\n",
    "        # bounds = [(0, N), (0, p)]\n",
    "\n",
    "        \n",
    "    res = stats.fit(dist, all_hsizes, bounds)\n",
    "    peff_hsize_pfixed = res.params[1]\n",
    "    neff_hsize_pfixed = res.params[0]\n",
    "\n",
    "    q_to_fit[q_frac] = res\n",
    "\n",
    "    df = pd.DataFrame({\"hsize\": all_hsizes, \"q / p\": [q_frac] * len(all_hsizes)})\n",
    "    df_hsizes = pd.concat([df_hsizes, df])\n",
    "    "
   ]
  },
  {
   "cell_type": "markdown",
   "id": "a2fca9e0-b825-47ba-ad22-38ba0df4da95",
   "metadata": {},
   "source": [
    "## Fit"
   ]
  },
  {
   "cell_type": "code",
   "execution_count": 152,
   "id": "b002d11f-d4b7-496d-bf2d-649efbc45b88",
   "metadata": {},
   "outputs": [],
   "source": [
    "grouped = df_hsizes.groupby('q / p')['hsize'].value_counts(normalize=True).reset_index(name='Percentage')"
   ]
  },
  {
   "cell_type": "code",
   "execution_count": 153,
   "id": "3f7f1459-890f-4e0e-979d-26e35f863562",
   "metadata": {},
   "outputs": [],
   "source": [
    "# Add COlumn\n",
    "grouped[\"pdf\"] = None"
   ]
  },
  {
   "cell_type": "code",
   "execution_count": 154,
   "id": "d9b291ca-83bd-49eb-82f9-d0251dbb0bff",
   "metadata": {},
   "outputs": [
    {
     "data": {
      "text/plain": [
       "2.0000000000000004"
      ]
     },
     "execution_count": 154,
     "metadata": {},
     "output_type": "execute_result"
    }
   ],
   "source": [
    "np.sum(grouped.Percentage)"
   ]
  },
  {
   "cell_type": "code",
   "execution_count": 155,
   "id": "2eb29496-90cb-4e24-9a48-415d18f1b98d",
   "metadata": {},
   "outputs": [
    {
     "data": {
      "text/html": [
       "<div>\n",
       "<style scoped>\n",
       "    .dataframe tbody tr th:only-of-type {\n",
       "        vertical-align: middle;\n",
       "    }\n",
       "\n",
       "    .dataframe tbody tr th {\n",
       "        vertical-align: top;\n",
       "    }\n",
       "\n",
       "    .dataframe thead th {\n",
       "        text-align: right;\n",
       "    }\n",
       "</style>\n",
       "<table border=\"1\" class=\"dataframe\">\n",
       "  <thead>\n",
       "    <tr style=\"text-align: right;\">\n",
       "      <th></th>\n",
       "      <th>q / p</th>\n",
       "      <th>hsize</th>\n",
       "      <th>Percentage</th>\n",
       "      <th>pdf</th>\n",
       "    </tr>\n",
       "  </thead>\n",
       "  <tbody>\n",
       "  </tbody>\n",
       "</table>\n",
       "</div>"
      ],
      "text/plain": [
       "Empty DataFrame\n",
       "Columns: [q / p, hsize, Percentage, pdf]\n",
       "Index: []"
      ]
     },
     "execution_count": 155,
     "metadata": {},
     "output_type": "execute_result"
    }
   ],
   "source": [
    "grouped[(grouped[\"hsize\"] == 74) & (grouped[\"q / p\"] == 0.001)]"
   ]
  },
  {
   "cell_type": "code",
   "execution_count": 156,
   "id": "763f2de8-ac66-472c-b01e-ca78710028d8",
   "metadata": {},
   "outputs": [
    {
     "data": {
      "text/plain": [
       "range(2, 45)"
      ]
     },
     "execution_count": 156,
     "metadata": {},
     "output_type": "execute_result"
    }
   ],
   "source": [
    "x = range(min(df_hsizes.hsize), max(df_hsizes.hsize))\n",
    "x"
   ]
  },
  {
   "cell_type": "code",
   "execution_count": 157,
   "id": "f794d473-6cf8-411e-b398-56903c8002f6",
   "metadata": {
    "scrolled": true
   },
   "outputs": [],
   "source": [
    "# Generate points for the fitted distribution\n",
    "x = range(min(df_hsizes.hsize), max(df_hsizes.hsize))\n",
    "\n",
    "\n",
    "for q_frac in qs:\n",
    "    res = q_to_fit[q_frac]\n",
    "    for i in x:\n",
    "\n",
    "        pdf_val = stats.binom.pmf(i, res.params[0], res.params[1])\n",
    "        # print(i, pdf_val)\n",
    "    \n",
    "\n",
    "        # print(grouped[((grouped[\"q / p\"] == q_frac) & (grouped[\"hsize\"] == i))])\n",
    "        grouped.loc[(grouped[\"q / p\"] == q_frac) & (grouped[\"hsize\"] == i), \"pdf\"] = pdf_val\n",
    "\n",
    "# pdf_fitted = stats.binom.pmf(x, neff_hsize_pfixed, peff_hsize_pfixed)\n",
    "\n",
    "# # Convert data to a DataFrame for Altair\n",
    "# df_data = pd.DataFrame({'value': all_hsizes})\n",
    "# df_pdf = pd.DataFrame({'x': x, 'pdf_fitted': pdf_fitted})"
   ]
  },
  {
   "cell_type": "code",
   "execution_count": 158,
   "id": "a1167ad5-727f-455e-91b4-f9a8a7d7d003",
   "metadata": {},
   "outputs": [
    {
     "data": {
      "text/html": [
       "<div>\n",
       "<style scoped>\n",
       "    .dataframe tbody tr th:only-of-type {\n",
       "        vertical-align: middle;\n",
       "    }\n",
       "\n",
       "    .dataframe tbody tr th {\n",
       "        vertical-align: top;\n",
       "    }\n",
       "\n",
       "    .dataframe thead th {\n",
       "        text-align: right;\n",
       "    }\n",
       "</style>\n",
       "<table border=\"1\" class=\"dataframe\">\n",
       "  <thead>\n",
       "    <tr style=\"text-align: right;\">\n",
       "      <th></th>\n",
       "      <th>q / p</th>\n",
       "      <th>hsize</th>\n",
       "      <th>Percentage</th>\n",
       "      <th>pdf</th>\n",
       "    </tr>\n",
       "  </thead>\n",
       "  <tbody>\n",
       "    <tr>\n",
       "      <th>0</th>\n",
       "      <td>0.01</td>\n",
       "      <td>24</td>\n",
       "      <td>0.05065</td>\n",
       "      <td>0.05042</td>\n",
       "    </tr>\n",
       "    <tr>\n",
       "      <th>1</th>\n",
       "      <td>0.01</td>\n",
       "      <td>25</td>\n",
       "      <td>0.04800</td>\n",
       "      <td>0.038319</td>\n",
       "    </tr>\n",
       "    <tr>\n",
       "      <th>2</th>\n",
       "      <td>0.01</td>\n",
       "      <td>26</td>\n",
       "      <td>0.04665</td>\n",
       "      <td>0.027839</td>\n",
       "    </tr>\n",
       "    <tr>\n",
       "      <th>3</th>\n",
       "      <td>0.01</td>\n",
       "      <td>23</td>\n",
       "      <td>0.04595</td>\n",
       "      <td>0.063318</td>\n",
       "    </tr>\n",
       "    <tr>\n",
       "      <th>4</th>\n",
       "      <td>0.01</td>\n",
       "      <td>22</td>\n",
       "      <td>0.04525</td>\n",
       "      <td>0.075762</td>\n",
       "    </tr>\n",
       "  </tbody>\n",
       "</table>\n",
       "</div>"
      ],
      "text/plain": [
       "   q / p  hsize  Percentage       pdf\n",
       "0   0.01     24     0.05065   0.05042\n",
       "1   0.01     25     0.04800  0.038319\n",
       "2   0.01     26     0.04665  0.027839\n",
       "3   0.01     23     0.04595  0.063318\n",
       "4   0.01     22     0.04525  0.075762"
      ]
     },
     "execution_count": 158,
     "metadata": {},
     "output_type": "execute_result"
    }
   ],
   "source": [
    "grouped.head()"
   ]
  },
  {
   "cell_type": "code",
   "execution_count": 159,
   "id": "a4012a79-b766-4458-8844-6309f01031cf",
   "metadata": {},
   "outputs": [],
   "source": [
    "grouped.loc[grouped[\"q / p\"] == 0.01, \"pdf\"] = None"
   ]
  },
  {
   "cell_type": "markdown",
   "id": "156d466a-ac21-4b4e-ad19-ee0c70e7998b",
   "metadata": {},
   "source": [
    "## Plot"
   ]
  },
  {
   "cell_type": "code",
   "execution_count": 160,
   "id": "1bef19d3-63fd-47a6-96aa-6be82aa820d9",
   "metadata": {},
   "outputs": [],
   "source": [
    "# distrib = alt.Chart(grouped_selp).mark_bar(width=5,  opacity=0.7, color=\"black\").encode(\n",
    "distrib = alt.Chart(grouped).mark_bar().encode(\n",
    "        x=alt.X('hsize:Q', title=\"m\", axis=alt.Axis(tickMinStep=5)),\n",
    "        y=alt.Y('Percentage:Q', title=\"P(m)\"),\n",
    "        # facet=alt.Facet(\"q / p:O\")\n",
    "        # color=\"q\"\n",
    "    )\n",
    "\n",
    "fit = alt.Chart(grouped).mark_line().encode(\n",
    "        x=alt.X('hsize:Q'),\n",
    "        y=alt.Y('pdf:Q'),\n",
    "        # facet=alt.Facet(\"q / p:O\")\n",
    "    )"
   ]
  },
  {
   "cell_type": "code",
   "execution_count": 161,
   "id": "8b867249-7216-4365-9b00-cfa9b8fd156d",
   "metadata": {},
   "outputs": [
    {
     "data": {
      "text/html": [
       "\n",
       "<style>\n",
       "  #altair-viz-e90575425cc146dfbb196944739b0a40.vega-embed {\n",
       "    width: 100%;\n",
       "    display: flex;\n",
       "  }\n",
       "\n",
       "  #altair-viz-e90575425cc146dfbb196944739b0a40.vega-embed details,\n",
       "  #altair-viz-e90575425cc146dfbb196944739b0a40.vega-embed details summary {\n",
       "    position: relative;\n",
       "  }\n",
       "</style>\n",
       "<div id=\"altair-viz-e90575425cc146dfbb196944739b0a40\"></div>\n",
       "<script type=\"text/javascript\">\n",
       "  var VEGA_DEBUG = (typeof VEGA_DEBUG == \"undefined\") ? {} : VEGA_DEBUG;\n",
       "  (function(spec, embedOpt){\n",
       "    let outputDiv = document.currentScript.previousElementSibling;\n",
       "    if (outputDiv.id !== \"altair-viz-e90575425cc146dfbb196944739b0a40\") {\n",
       "      outputDiv = document.getElementById(\"altair-viz-e90575425cc146dfbb196944739b0a40\");\n",
       "    }\n",
       "    const paths = {\n",
       "      \"vega\": \"https://cdn.jsdelivr.net/npm/vega@5?noext\",\n",
       "      \"vega-lib\": \"https://cdn.jsdelivr.net/npm/vega-lib?noext\",\n",
       "      \"vega-lite\": \"https://cdn.jsdelivr.net/npm/vega-lite@5.15.1?noext\",\n",
       "      \"vega-embed\": \"https://cdn.jsdelivr.net/npm/vega-embed@6?noext\",\n",
       "    };\n",
       "\n",
       "    function maybeLoadScript(lib, version) {\n",
       "      var key = `${lib.replace(\"-\", \"\")}_version`;\n",
       "      return (VEGA_DEBUG[key] == version) ?\n",
       "        Promise.resolve(paths[lib]) :\n",
       "        new Promise(function(resolve, reject) {\n",
       "          var s = document.createElement('script');\n",
       "          document.getElementsByTagName(\"head\")[0].appendChild(s);\n",
       "          s.async = true;\n",
       "          s.onload = () => {\n",
       "            VEGA_DEBUG[key] = version;\n",
       "            return resolve(paths[lib]);\n",
       "          };\n",
       "          s.onerror = () => reject(`Error loading script: ${paths[lib]}`);\n",
       "          s.src = paths[lib];\n",
       "        });\n",
       "    }\n",
       "\n",
       "    function showError(err) {\n",
       "      outputDiv.innerHTML = `<div class=\"error\" style=\"color:red;\">${err}</div>`;\n",
       "      throw err;\n",
       "    }\n",
       "\n",
       "    function displayChart(vegaEmbed) {\n",
       "      vegaEmbed(outputDiv, spec, embedOpt)\n",
       "        .catch(err => showError(`Javascript Error: ${err.message}<br>This usually means there's a typo in your chart specification. See the javascript console for the full traceback.`));\n",
       "    }\n",
       "\n",
       "    if(typeof define === \"function\" && define.amd) {\n",
       "      requirejs.config({paths});\n",
       "      require([\"vega-embed\"], displayChart, err => showError(`Error loading script: ${err.message}`));\n",
       "    } else {\n",
       "      maybeLoadScript(\"vega\", \"5\")\n",
       "        .then(() => maybeLoadScript(\"vega-lite\", \"5.15.1\"))\n",
       "        .then(() => maybeLoadScript(\"vega-embed\", \"6\"))\n",
       "        .catch(showError)\n",
       "        .then(() => displayChart(vegaEmbed));\n",
       "    }\n",
       "  })({\"$schema\": \"https://vega.github.io/schema/vega/v5.json\", \"data\": [{\"name\": \"source_0\", \"values\": [{\"q / p\": 0.01, \"hsize\": 24, \"Percentage\": 0.05065, \"pdf\": null}, {\"q / p\": 0.01, \"hsize\": 25, \"Percentage\": 0.048, \"pdf\": null}, {\"q / p\": 0.01, \"hsize\": 26, \"Percentage\": 0.04665, \"pdf\": null}, {\"q / p\": 0.01, \"hsize\": 23, \"Percentage\": 0.04595, \"pdf\": null}, {\"q / p\": 0.01, \"hsize\": 22, \"Percentage\": 0.04525, \"pdf\": null}, {\"q / p\": 0.01, \"hsize\": 27, \"Percentage\": 0.04505, \"pdf\": null}, {\"q / p\": 0.01, \"hsize\": 21, \"Percentage\": 0.0403, \"pdf\": null}, {\"q / p\": 0.01, \"hsize\": 28, \"Percentage\": 0.03945, \"pdf\": null}, {\"q / p\": 0.01, \"hsize\": 20, \"Percentage\": 0.0378, \"pdf\": null}, {\"q / p\": 0.01, \"hsize\": 29, \"Percentage\": 0.0347, \"pdf\": null}, {\"q / p\": 0.01, \"hsize\": 30, \"Percentage\": 0.03185, \"pdf\": null}, {\"q / p\": 0.01, \"hsize\": 19, \"Percentage\": 0.0316, \"pdf\": null}, {\"q / p\": 0.01, \"hsize\": 6, \"Percentage\": 0.02865, \"pdf\": null}, {\"q / p\": 0.01, \"hsize\": 18, \"Percentage\": 0.02785, \"pdf\": null}, {\"q / p\": 0.01, \"hsize\": 5, \"Percentage\": 0.02785, \"pdf\": null}, {\"q / p\": 0.01, \"hsize\": 4, \"Percentage\": 0.02665, \"pdf\": null}, {\"q / p\": 0.01, \"hsize\": 7, \"Percentage\": 0.0264, \"pdf\": null}, {\"q / p\": 0.01, \"hsize\": 15, \"Percentage\": 0.02635, \"pdf\": null}, {\"q / p\": 0.01, \"hsize\": 17, \"Percentage\": 0.0257, \"pdf\": null}, {\"q / p\": 0.01, \"hsize\": 11, \"Percentage\": 0.0252, \"pdf\": null}, {\"q / p\": 0.01, \"hsize\": 16, \"Percentage\": 0.02475, \"pdf\": null}, {\"q / p\": 0.01, \"hsize\": 10, \"Percentage\": 0.02445, \"pdf\": null}, {\"q / p\": 0.01, \"hsize\": 9, \"Percentage\": 0.0242, \"pdf\": null}, {\"q / p\": 0.01, \"hsize\": 8, \"Percentage\": 0.02385, \"pdf\": null}, {\"q / p\": 0.01, \"hsize\": 31, \"Percentage\": 0.02355, \"pdf\": null}, {\"q / p\": 0.01, \"hsize\": 12, \"Percentage\": 0.0231, \"pdf\": null}, {\"q / p\": 0.01, \"hsize\": 14, \"Percentage\": 0.02305, \"pdf\": null}, {\"q / p\": 0.01, \"hsize\": 13, \"Percentage\": 0.023, \"pdf\": null}, {\"q / p\": 0.01, \"hsize\": 3, \"Percentage\": 0.02295, \"pdf\": null}, {\"q / p\": 0.01, \"hsize\": 32, \"Percentage\": 0.0184, \"pdf\": null}, {\"q / p\": 0.01, \"hsize\": 33, \"Percentage\": 0.01475, \"pdf\": null}, {\"q / p\": 0.01, \"hsize\": 2, \"Percentage\": 0.01085, \"pdf\": null}, {\"q / p\": 0.01, \"hsize\": 34, \"Percentage\": 0.0095, \"pdf\": null}, {\"q / p\": 0.01, \"hsize\": 35, \"Percentage\": 0.00735, \"pdf\": null}, {\"q / p\": 0.01, \"hsize\": 36, \"Percentage\": 0.0052, \"pdf\": null}, {\"q / p\": 0.01, \"hsize\": 37, \"Percentage\": 0.0031, \"pdf\": null}, {\"q / p\": 0.01, \"hsize\": 38, \"Percentage\": 0.0022, \"pdf\": null}, {\"q / p\": 0.01, \"hsize\": 39, \"Percentage\": 0.0017, \"pdf\": null}, {\"q / p\": 0.01, \"hsize\": 40, \"Percentage\": 0.00095, \"pdf\": null}, {\"q / p\": 0.01, \"hsize\": 41, \"Percentage\": 0.0008, \"pdf\": null}, {\"q / p\": 0.01, \"hsize\": 43, \"Percentage\": 0.0002, \"pdf\": null}, {\"q / p\": 0.01, \"hsize\": 42, \"Percentage\": 0.00015, \"pdf\": null}, {\"q / p\": 0.01, \"hsize\": 45, \"Percentage\": 5e-05, \"pdf\": null}, {\"q / p\": 0.1, \"hsize\": 12, \"Percentage\": 0.10265, \"pdf\": 0.10131042548279369}, {\"q / p\": 0.1, \"hsize\": 14, \"Percentage\": 0.1014, \"pdf\": 0.1117149828142916}, {\"q / p\": 0.1, \"hsize\": 13, \"Percentage\": 0.1006, \"pdf\": 0.11083533728032109}, {\"q / p\": 0.1, \"hsize\": 15, \"Percentage\": 0.09345, \"pdf\": 0.10426731729333912}, {\"q / p\": 0.1, \"hsize\": 11, \"Percentage\": 0.0895, \"pdf\": 0.0848180306367574}, {\"q / p\": 0.1, \"hsize\": 16, \"Percentage\": 0.08105, \"pdf\": 0.09050982403935684}, {\"q / p\": 0.1, \"hsize\": 10, \"Percentage\": 0.07655, \"pdf\": 0.06459219256183832}, {\"q / p\": 0.1, \"hsize\": 17, \"Percentage\": 0.0649, \"pdf\": 0.07335436719529563}, {\"q / p\": 0.1, \"hsize\": 9, \"Percentage\": 0.05165, \"pdf\": 0.044376315500499613}, {\"q / p\": 0.1, \"hsize\": 18, \"Percentage\": 0.0496, \"pdf\": 0.055694982500131975}, {\"q / p\": 0.1, \"hsize\": 19, \"Percentage\": 0.0379, \"pdf\": 0.039735601549801665}, {\"q / p\": 0.1, \"hsize\": 8, \"Percentage\": 0.03455, \"pdf\": 0.02723092087530647}, {\"q / p\": 0.1, \"hsize\": 20, \"Percentage\": 0.0263, \"pdf\": 0.026711154375144555}, {\"q / p\": 0.1, \"hsize\": 21, \"Percentage\": 0.01865, \"pdf\": 0.016959463095329873}, {\"q / p\": 0.1, \"hsize\": 7, \"Percentage\": 0.0172, \"pdf\": 0.014741551150541914}, {\"q / p\": 0.1, \"hsize\": 22, \"Percentage\": 0.0133, \"pdf\": 0.010192808628001157}, {\"q / p\": 0.1, \"hsize\": 23, \"Percentage\": 0.01065, \"pdf\": 0.005810393324174651}, {\"q / p\": 0.1, \"hsize\": 6, \"Percentage\": 0.0072, \"pdf\": 0.006930729272269668}, {\"q / p\": 0.1, \"hsize\": 24, \"Percentage\": 0.00575, \"pdf\": 0.0031472963839279233}, {\"q / p\": 0.1, \"hsize\": 25, \"Percentage\": 0.00445, \"pdf\": 0.0016226061357139563}, {\"q / p\": 0.1, \"hsize\": 5, \"Percentage\": 0.00335, \"pdf\": 0.0027722917089078774}, {\"q / p\": 0.1, \"hsize\": 26, \"Percentage\": 0.0026, \"pdf\": 0.0007974346393466011}, {\"q / p\": 0.1, \"hsize\": 27, \"Percentage\": 0.00185, \"pdf\": 0.0003741051394465535}, {\"q / p\": 0.1, \"hsize\": 28, \"Percentage\": 0.0013, \"pdf\": 0.0001677534950692883}, {\"q / p\": 0.1, \"hsize\": 29, \"Percentage\": 0.001, \"pdf\": 7.198617412934956e-05}, {\"q / p\": 0.1, \"hsize\": 4, \"Percentage\": 0.0009, \"pdf\": 0.0009173024036827524}, {\"q / p\": 0.1, \"hsize\": 30, \"Percentage\": 0.00055, \"pdf\": 2.9594316030955018e-05}, {\"q / p\": 0.1, \"hsize\": 31, \"Percentage\": 0.00055, \"pdf\": 1.1668009904677492e-05}, {\"q / p\": 0.1, \"hsize\": 33, \"Percentage\": 0.0002, \"pdf\": 1.6058245954669876e-06}, {\"q / p\": 0.1, \"hsize\": 3, \"Percentage\": 0.00015, \"pdf\": 0.00024104296739108918}, {\"q / p\": 0.1, \"hsize\": 32, \"Percentage\": 5e-05, \"pdf\": 4.416017637534203e-06}, {\"q / p\": 0.1, \"hsize\": 34, \"Percentage\": 5e-05, \"pdf\": 5.615138291338809e-07}, {\"q / p\": 0.1, \"hsize\": 35, \"Percentage\": 5e-05, \"pdf\": 1.889538599625105e-07}, {\"q / p\": 0.1, \"hsize\": 36, \"Percentage\": 5e-05, \"pdf\": 6.123504721007471e-08}, {\"q / p\": 0.1, \"hsize\": 37, \"Percentage\": 5e-05, \"pdf\": 1.912445918873206e-08}]}, {\"name\": \"facet_domain\", \"values\": [{\"q / p\": 0.01, \"count\": 43}, {\"q / p\": 0.1, \"count\": 35}]}, {\"name\": \"facet_domain_row\", \"values\": [{\"data\": 0.0}]}, {\"name\": \"facet_domain_column\", \"transform\": [{\"type\": \"sequence\", \"start\": 0.0, \"stop\": {\"signal\": \"min(length(data(\\\"facet_domain\\\")), 2)\"}}]}, {\"name\": \"data_2\", \"values\": [{\"Percentage_end\": 0.05065, \"Percentage_start\": 0.0, \"hsize\": 24}, {\"Percentage_end\": 0.048, \"Percentage_start\": 0.0, \"hsize\": 25}, {\"Percentage_end\": 0.04665, \"Percentage_start\": 0.0, \"hsize\": 26}, {\"Percentage_end\": 0.04595, \"Percentage_start\": 0.0, \"hsize\": 23}, {\"Percentage_end\": 0.04525, \"Percentage_start\": 0.0, \"hsize\": 22}, {\"Percentage_end\": 0.04505, \"Percentage_start\": 0.0, \"hsize\": 27}, {\"Percentage_end\": 0.0403, \"Percentage_start\": 0.0, \"hsize\": 21}, {\"Percentage_end\": 0.03945, \"Percentage_start\": 0.0, \"hsize\": 28}, {\"Percentage_end\": 0.0378, \"Percentage_start\": 0.0, \"hsize\": 20}, {\"Percentage_end\": 0.0347, \"Percentage_start\": 0.0, \"hsize\": 29}, {\"Percentage_end\": 0.03185, \"Percentage_start\": 0.0, \"hsize\": 30}, {\"Percentage_end\": 0.0316, \"Percentage_start\": 0.0, \"hsize\": 19}, {\"Percentage_end\": 0.02865, \"Percentage_start\": 0.0, \"hsize\": 6}, {\"Percentage_end\": 0.02785, \"Percentage_start\": 0.0, \"hsize\": 18}, {\"Percentage_end\": 0.02785, \"Percentage_start\": 0.0, \"hsize\": 5}, {\"Percentage_end\": 0.02665, \"Percentage_start\": 0.0, \"hsize\": 4}, {\"Percentage_end\": 0.0264, \"Percentage_start\": 0.0, \"hsize\": 7}, {\"Percentage_end\": 0.02635, \"Percentage_start\": 0.0, \"hsize\": 15}, {\"Percentage_end\": 0.0257, \"Percentage_start\": 0.0, \"hsize\": 17}, {\"Percentage_end\": 0.0252, \"Percentage_start\": 0.0, \"hsize\": 11}, {\"Percentage_end\": 0.02475, \"Percentage_start\": 0.0, \"hsize\": 16}, {\"Percentage_end\": 0.02445, \"Percentage_start\": 0.0, \"hsize\": 10}, {\"Percentage_end\": 0.0242, \"Percentage_start\": 0.0, \"hsize\": 9}, {\"Percentage_end\": 0.02385, \"Percentage_start\": 0.0, \"hsize\": 8}, {\"Percentage_end\": 0.02355, \"Percentage_start\": 0.0, \"hsize\": 31}, {\"Percentage_end\": 0.0231, \"Percentage_start\": 0.0, \"hsize\": 12}, {\"Percentage_end\": 0.02305, \"Percentage_start\": 0.0, \"hsize\": 14}, {\"Percentage_end\": 0.023, \"Percentage_start\": 0.0, \"hsize\": 13}, {\"Percentage_end\": 0.02295, \"Percentage_start\": 0.0, \"hsize\": 3}, {\"Percentage_end\": 0.0184, \"Percentage_start\": 0.0, \"hsize\": 32}, {\"Percentage_end\": 0.01475, \"Percentage_start\": 0.0, \"hsize\": 33}, {\"Percentage_end\": 0.01085, \"Percentage_start\": 0.0, \"hsize\": 2}, {\"Percentage_end\": 0.0095, \"Percentage_start\": 0.0, \"hsize\": 34}, {\"Percentage_end\": 0.00735, \"Percentage_start\": 0.0, \"hsize\": 35}, {\"Percentage_end\": 0.0052, \"Percentage_start\": 0.0, \"hsize\": 36}, {\"Percentage_end\": 0.0031, \"Percentage_start\": 0.0, \"hsize\": 37}, {\"Percentage_end\": 0.0022, \"Percentage_start\": 0.0, \"hsize\": 38}, {\"Percentage_end\": 0.0017, \"Percentage_start\": 0.0, \"hsize\": 39}, {\"Percentage_end\": 0.00095, \"Percentage_start\": 0.0, \"hsize\": 40}, {\"Percentage_end\": 0.0008, \"Percentage_start\": 0.0, \"hsize\": 41}, {\"Percentage_end\": 0.0002, \"Percentage_start\": 0.0, \"hsize\": 43}, {\"Percentage_end\": 0.00015, \"Percentage_start\": 0.0, \"hsize\": 42}, {\"Percentage_end\": 5e-05, \"Percentage_start\": 0.0, \"hsize\": 45}, {\"Percentage_end\": 0.10265, \"Percentage_start\": 0.0, \"hsize\": 12}, {\"Percentage_end\": 0.1014, \"Percentage_start\": 0.0, \"hsize\": 14}, {\"Percentage_end\": 0.1006, \"Percentage_start\": 0.0, \"hsize\": 13}, {\"Percentage_end\": 0.09345, \"Percentage_start\": 0.0, \"hsize\": 15}, {\"Percentage_end\": 0.0895, \"Percentage_start\": 0.0, \"hsize\": 11}, {\"Percentage_end\": 0.08105, \"Percentage_start\": 0.0, \"hsize\": 16}, {\"Percentage_end\": 0.07655, \"Percentage_start\": 0.0, \"hsize\": 10}, {\"Percentage_end\": 0.0649, \"Percentage_start\": 0.0, \"hsize\": 17}, {\"Percentage_end\": 0.05165, \"Percentage_start\": 0.0, \"hsize\": 9}, {\"Percentage_end\": 0.0496, \"Percentage_start\": 0.0, \"hsize\": 18}, {\"Percentage_end\": 0.0379, \"Percentage_start\": 0.0, \"hsize\": 19}, {\"Percentage_end\": 0.03455, \"Percentage_start\": 0.0, \"hsize\": 8}, {\"Percentage_end\": 0.0263, \"Percentage_start\": 0.0, \"hsize\": 20}, {\"Percentage_end\": 0.01865, \"Percentage_start\": 0.0, \"hsize\": 21}, {\"Percentage_end\": 0.0172, \"Percentage_start\": 0.0, \"hsize\": 7}, {\"Percentage_end\": 0.0133, \"Percentage_start\": 0.0, \"hsize\": 22}, {\"Percentage_end\": 0.01065, \"Percentage_start\": 0.0, \"hsize\": 23}, {\"Percentage_end\": 0.0072, \"Percentage_start\": 0.0, \"hsize\": 6}, {\"Percentage_end\": 0.00575, \"Percentage_start\": 0.0, \"hsize\": 24}, {\"Percentage_end\": 0.00445, \"Percentage_start\": 0.0, \"hsize\": 25}, {\"Percentage_end\": 0.00335, \"Percentage_start\": 0.0, \"hsize\": 5}, {\"Percentage_end\": 0.0026, \"Percentage_start\": 0.0, \"hsize\": 26}, {\"Percentage_end\": 0.00185, \"Percentage_start\": 0.0, \"hsize\": 27}, {\"Percentage_end\": 0.0013, \"Percentage_start\": 0.0, \"hsize\": 28}, {\"Percentage_end\": 0.001, \"Percentage_start\": 0.0, \"hsize\": 29}, {\"Percentage_end\": 0.0009, \"Percentage_start\": 0.0, \"hsize\": 4}, {\"Percentage_end\": 0.00055, \"Percentage_start\": 0.0, \"hsize\": 30}, {\"Percentage_end\": 0.00055, \"Percentage_start\": 0.0, \"hsize\": 31}, {\"Percentage_end\": 0.0002, \"Percentage_start\": 0.0, \"hsize\": 33}, {\"Percentage_end\": 0.00015, \"Percentage_start\": 0.0, \"hsize\": 3}, {\"Percentage_end\": 5e-05, \"Percentage_start\": 0.0, \"hsize\": 32}, {\"Percentage_end\": 5e-05, \"Percentage_start\": 0.0, \"hsize\": 34}, {\"Percentage_end\": 5e-05, \"Percentage_start\": 0.0, \"hsize\": 35}, {\"Percentage_end\": 5e-05, \"Percentage_start\": 0.0, \"hsize\": 36}, {\"Percentage_end\": 5e-05, \"Percentage_start\": 0.0, \"hsize\": 37}]}], \"signals\": [{\"name\": \"child_width\", \"value\": 300}, {\"name\": \"child_height\", \"value\": 300}], \"marks\": [{\"type\": \"group\", \"name\": \"facet-title\", \"title\": {\"text\": \"q / p\", \"fontSize\": 20, \"style\": \"guide-title\", \"offset\": 10}, \"role\": \"column-title\"}, {\"type\": \"group\", \"name\": \"row_header\", \"from\": {\"data\": \"facet_domain_row\"}, \"encode\": {\"update\": {\"height\": {\"signal\": \"child_height\"}}}, \"axes\": [{\"scale\": \"y\", \"zindex\": 0, \"title\": \"P(m)\", \"tickCount\": {\"signal\": \"ceil(child_height/40)\"}, \"orient\": \"left\", \"grid\": false, \"labelOverlap\": true}], \"role\": \"row-header\"}, {\"type\": \"group\", \"name\": \"column_footer\", \"from\": {\"data\": \"facet_domain_column\"}, \"encode\": {\"update\": {\"width\": {\"signal\": \"child_width\"}}}, \"axes\": [{\"scale\": \"x\", \"title\": \"m\", \"tickCount\": {\"signal\": \"ceil(child_width/40)\"}, \"zindex\": 0, \"orient\": \"bottom\", \"labelFlush\": true, \"labelOverlap\": true, \"grid\": false}], \"role\": \"column-footer\"}, {\"type\": \"group\", \"name\": \"cell\", \"from\": {\"facet\": {\"data\": \"source_0\", \"name\": \"facet\", \"groupby\": [\"q / p\"]}}, \"sort\": {\"field\": [\"datum[\\\"q / p\\\"]\"], \"order\": [\"ascending\"]}, \"encode\": {\"update\": {\"width\": {\"signal\": \"child_width\"}, \"height\": {\"signal\": \"child_height\"}}}, \"data\": [{\"name\": \"data_0\", \"source\": \"facet\", \"transform\": [{\"type\": \"stack\", \"field\": \"Percentage\", \"groupby\": [\"hsize\"], \"sort\": {\"field\": [], \"order\": []}, \"as\": [\"Percentage_start\", \"Percentage_end\"], \"offset\": \"zero\"}, {\"type\": \"filter\", \"expr\": \"isValid(datum[\\\"hsize\\\"]) && isFinite(+datum[\\\"hsize\\\"]) && isValid(datum[\\\"Percentage\\\"]) && isFinite(+datum[\\\"Percentage\\\"])\"}, {\"type\": \"project\", \"fields\": [\"Percentage\", \"Percentage_end\", \"Percentage_start\", \"hsize\"]}]}], \"marks\": [{\"type\": \"rect\", \"name\": \"child_layer_0_marks\", \"from\": {\"data\": \"data_0\"}, \"encode\": {\"update\": {\"fill\": {\"value\": \"#9ebcda\"}, \"ariaRoleDescription\": {\"value\": \"bar\"}, \"xc\": {\"field\": \"hsize\", \"scale\": \"x\"}, \"width\": {\"value\": 5}, \"y\": {\"field\": \"Percentage_end\", \"scale\": \"y\"}, \"y2\": {\"field\": \"Percentage_start\", \"scale\": \"y\"}, \"description\": {\"signal\": \"\\\"m: \\\" + (format(datum[\\\"hsize\\\"], \\\"\\\")) + \\\"; P(m): \\\" + (format(datum[\\\"Percentage\\\"], \\\"\\\"))\"}}}, \"style\": [\"bar\"]}, {\"type\": \"line\", \"name\": \"child_layer_1_marks\", \"from\": {\"data\": \"facet\"}, \"sort\": {\"field\": \"datum[\\\"hsize\\\"]\"}, \"encode\": {\"update\": {\"description\": {\"signal\": \"\\\"hsize: \\\" + (format(datum[\\\"hsize\\\"], \\\"\\\")) + \\\"; pdf: \\\" + (format(datum[\\\"pdf\\\"], \\\"\\\"))\"}, \"y\": {\"field\": \"pdf\", \"scale\": \"y\"}, \"x\": {\"field\": \"hsize\", \"scale\": \"x\"}, \"stroke\": {\"value\": \"black\"}, \"defined\": {\"signal\": \"isValid(datum[\\\"hsize\\\"]) && isFinite(+datum[\\\"hsize\\\"]) && isValid(datum[\\\"pdf\\\"]) && isFinite(+datum[\\\"pdf\\\"])\"}}}, \"style\": [\"line\"]}], \"title\": {\"text\": {\"signal\": \"isValid(parent[\\\"q / p\\\"]) ? parent[\\\"q / p\\\"] : \\\"\\\"+parent[\\\"q / p\\\"]\"}, \"offset\": 10, \"style\": \"guide-label\", \"frame\": \"group\", \"fontSize\": 18}, \"style\": \"cell\"}], \"scales\": [{\"name\": \"x\", \"type\": \"linear\", \"domain\": {\"fields\": [{\"data\": \"data_2\", \"field\": \"hsize\"}, {\"data\": \"source_0\", \"field\": \"hsize\"}]}, \"range\": [0, {\"signal\": \"child_width\"}], \"zero\": false, \"nice\": true, \"padding\": 5}, {\"name\": \"y\", \"type\": \"linear\", \"domain\": {\"fields\": [{\"data\": \"data_2\", \"field\": \"Percentage_start\"}, {\"data\": \"data_2\", \"field\": \"Percentage_end\"}, {\"data\": \"source_0\", \"field\": \"pdf\"}]}, \"range\": [{\"signal\": \"child_height\"}, 0], \"nice\": true, \"zero\": true}], \"padding\": 5, \"config\": {\"mark\": {\"fill\": \"#9ebcda\"}, \"axisX\": {\"labelFont\": \"monospace\", \"labelFontSize\": 16, \"titleFontSize\": 20, \"grid\": false}, \"axisY\": {\"domain\": false, \"grid\": false, \"labelFont\": \"monospace\", \"labelFontSize\": 16, \"titleFontSize\": 20, \"titleAngle\": 0, \"titleX\": -80}, \"legend\": {\"titleFontSize\": 20, \"labelFontSize\": 16}, \"style\": {\"cell\": {\"height\": 300, \"width\": 300}, \"line\": {\"fill\": null, \"stroke\": \"black\"}, \"group-title\": {\"fontSize\": 18, \"font\": \"monospace\", \"fontColor\": \"#000000\"}}}, \"layout\": {\"padding\": 20, \"bounds\": \"full\", \"align\": \"all\", \"columns\": 2}, \"background\": \"white\"}, {\"mode\": \"vega\"});\n",
       "</script>"
      ],
      "text/plain": [
       "alt.FacetChart(...)"
      ]
     },
     "execution_count": 161,
     "metadata": {},
     "output_type": "execute_result"
    }
   ],
   "source": [
    "alt.layer(distrib, fit, data=grouped).facet(\n",
    "    facet=alt.Facet(\n",
    "        'q / p:O',\n",
    "        header=alt.Header(labelFontSize=18, titleFontSize=20)\n",
    "    ),\n",
    "    columns=2\n",
    ").configure_axisY(\n",
    "    titleAngle=0,\n",
    "    titleX=-80,\n",
    ")"
   ]
  },
  {
   "cell_type": "code",
   "execution_count": null,
   "id": "e599de00-3629-4a4f-ab95-61dcd8064d6c",
   "metadata": {},
   "outputs": [],
   "source": [
    "# Essayer de fit une loi gamma?\n",
    "# Simulations sur l'ordre des noeuds\n",
    "# Courbe de Complexité sur quelques points"
   ]
  },
  {
   "cell_type": "markdown",
   "id": "915c98cb-91bd-473d-80f1-f6d70da20ca6",
   "metadata": {},
   "source": [
    "# One Simulation"
   ]
  },
  {
   "cell_type": "code",
   "execution_count": 208,
   "id": "eba75d10-e56b-4fea-976e-9c25d0f5fec8",
   "metadata": {},
   "outputs": [],
   "source": [
    "all_hsizes = []\n",
    "\n",
    "dist = stats.binom\n",
    "\n",
    "p = 0.3\n",
    "q = p * 0.005\n",
    "\n",
    "N = 1000\n",
    "N_edges = 300\n",
    "\n",
    "for i in range(20):\n",
    "    gen = Generator(N, N_edges, N_coms, p, q, community_array, \"frequent\")\n",
    "    gen.run()\n",
    "    hsizes = dict(gen.hyperedge_sizes()).values()\n",
    "    all_hsizes = all_hsizes + list(hsizes)"
   ]
  },
  {
   "cell_type": "code",
   "execution_count": 209,
   "id": "2b2f24bb-324a-47d7-8fc1-bd66372f6fa3",
   "metadata": {},
   "outputs": [
    {
     "name": "stdout",
     "output_type": "stream",
     "text": [
      "0.3 0.0015\n"
     ]
    }
   ],
   "source": [
    "print(p, q)"
   ]
  },
  {
   "cell_type": "markdown",
   "id": "90c42c80-618f-4b60-ae5a-efc5b1f8a6cd",
   "metadata": {},
   "source": [
    "## fit"
   ]
  },
  {
   "cell_type": "code",
   "execution_count": 210,
   "id": "66680aaf-3078-4c0f-9f2c-a314dc522f37",
   "metadata": {},
   "outputs": [],
   "source": [
    "dist = stats.binom"
   ]
  },
  {
   "cell_type": "code",
   "execution_count": 211,
   "id": "c56949c4-1a20-4122-a744-2f572e1dc733",
   "metadata": {},
   "outputs": [
    {
     "name": "stdout",
     "output_type": "stream",
     "text": [
      "0.3 256.0\n"
     ]
    }
   ],
   "source": [
    "bounds = [(0, N), (p, p)]\n",
    "\n",
    "res = stats.fit(dist, all_hsizes, bounds)\n",
    "peff_hsize_pfixed = res.params[1]\n",
    "neff_hsize_pfixed = res.params[0]\n",
    "print(peff_hsize_pfixed, neff_hsize_pfixed)"
   ]
  },
  {
   "cell_type": "code",
   "execution_count": 212,
   "id": "88da2821-a50a-46eb-a6bf-570c429c6ab0",
   "metadata": {},
   "outputs": [],
   "source": [
    "# Step 2: Generate points for the fitted log-normal distribution\n",
    "# x = np.linspace(min(all_hsizes), max(all_hsizes), 1000)\n",
    "# x = range(100)\n",
    "x = range(max(all_hsizes))\n",
    "\n",
    "pdf_fitted = stats.binom.pmf(x, neff_hsize_pfixed, peff_hsize_pfixed)\n",
    "\n",
    "# Convert data to a DataFrame for Altair\n",
    "df_data = pd.DataFrame({'value': all_hsizes})\n",
    "df_pdf = pd.DataFrame({'x': x, 'pdf_fitted': pdf_fitted})"
   ]
  },
  {
   "cell_type": "markdown",
   "id": "e495719b-9cba-49a6-add1-b44a641e8abd",
   "metadata": {},
   "source": [
    "## Plot"
   ]
  },
  {
   "cell_type": "code",
   "execution_count": 213,
   "id": "6e9837dd-e2bc-41ac-94d7-f472e21071ad",
   "metadata": {},
   "outputs": [],
   "source": [
    "df_hsizes = pd.DataFrame(all_hsizes, columns=[\"hsize\"], dtype=int)"
   ]
  },
  {
   "cell_type": "code",
   "execution_count": 214,
   "id": "dd68868b-de51-4681-984e-39f140afa85a",
   "metadata": {},
   "outputs": [],
   "source": [
    "grouped = df_hsizes['hsize'].value_counts(normalize=True).reset_index(name='Percentage')"
   ]
  },
  {
   "cell_type": "code",
   "execution_count": 215,
   "id": "347c9cad-afeb-4e14-8688-39e820b93abf",
   "metadata": {
    "tags": []
   },
   "outputs": [],
   "source": [
    "distrib = alt.Chart(grouped).mark_bar().encode(\n",
    "        x=alt.X('hsize:Q', title=\"m\", axis=alt.Axis(tickMinStep=5)),\n",
    "        y=alt.Y('Percentage:Q'),\n",
    "        # y=\"count()\",\n",
    "    )\n",
    "\n",
    "fit = alt.Chart(df_pdf).mark_line(stroke='red').encode(\n",
    "        x=alt.X('x:Q'),\n",
    "        y=alt.Y('pdf_fitted'),\n",
    "    )"
   ]
  },
  {
   "cell_type": "code",
   "execution_count": 216,
   "id": "7fe2ccb1-a976-4926-8750-f33c78484455",
   "metadata": {},
   "outputs": [
    {
     "data": {
      "text/html": [
       "\n",
       "<style>\n",
       "  #altair-viz-70be23fc54774592b855ec36f1c6664f.vega-embed {\n",
       "    width: 100%;\n",
       "    display: flex;\n",
       "  }\n",
       "\n",
       "  #altair-viz-70be23fc54774592b855ec36f1c6664f.vega-embed details,\n",
       "  #altair-viz-70be23fc54774592b855ec36f1c6664f.vega-embed details summary {\n",
       "    position: relative;\n",
       "  }\n",
       "</style>\n",
       "<div id=\"altair-viz-70be23fc54774592b855ec36f1c6664f\"></div>\n",
       "<script type=\"text/javascript\">\n",
       "  var VEGA_DEBUG = (typeof VEGA_DEBUG == \"undefined\") ? {} : VEGA_DEBUG;\n",
       "  (function(spec, embedOpt){\n",
       "    let outputDiv = document.currentScript.previousElementSibling;\n",
       "    if (outputDiv.id !== \"altair-viz-70be23fc54774592b855ec36f1c6664f\") {\n",
       "      outputDiv = document.getElementById(\"altair-viz-70be23fc54774592b855ec36f1c6664f\");\n",
       "    }\n",
       "    const paths = {\n",
       "      \"vega\": \"https://cdn.jsdelivr.net/npm/vega@5?noext\",\n",
       "      \"vega-lib\": \"https://cdn.jsdelivr.net/npm/vega-lib?noext\",\n",
       "      \"vega-lite\": \"https://cdn.jsdelivr.net/npm/vega-lite@5.15.1?noext\",\n",
       "      \"vega-embed\": \"https://cdn.jsdelivr.net/npm/vega-embed@6?noext\",\n",
       "    };\n",
       "\n",
       "    function maybeLoadScript(lib, version) {\n",
       "      var key = `${lib.replace(\"-\", \"\")}_version`;\n",
       "      return (VEGA_DEBUG[key] == version) ?\n",
       "        Promise.resolve(paths[lib]) :\n",
       "        new Promise(function(resolve, reject) {\n",
       "          var s = document.createElement('script');\n",
       "          document.getElementsByTagName(\"head\")[0].appendChild(s);\n",
       "          s.async = true;\n",
       "          s.onload = () => {\n",
       "            VEGA_DEBUG[key] = version;\n",
       "            return resolve(paths[lib]);\n",
       "          };\n",
       "          s.onerror = () => reject(`Error loading script: ${paths[lib]}`);\n",
       "          s.src = paths[lib];\n",
       "        });\n",
       "    }\n",
       "\n",
       "    function showError(err) {\n",
       "      outputDiv.innerHTML = `<div class=\"error\" style=\"color:red;\">${err}</div>`;\n",
       "      throw err;\n",
       "    }\n",
       "\n",
       "    function displayChart(vegaEmbed) {\n",
       "      vegaEmbed(outputDiv, spec, embedOpt)\n",
       "        .catch(err => showError(`Javascript Error: ${err.message}<br>This usually means there's a typo in your chart specification. See the javascript console for the full traceback.`));\n",
       "    }\n",
       "\n",
       "    if(typeof define === \"function\" && define.amd) {\n",
       "      requirejs.config({paths});\n",
       "      require([\"vega-embed\"], displayChart, err => showError(`Error loading script: ${err.message}`));\n",
       "    } else {\n",
       "      maybeLoadScript(\"vega\", \"5\")\n",
       "        .then(() => maybeLoadScript(\"vega-lite\", \"5.15.1\"))\n",
       "        .then(() => maybeLoadScript(\"vega-embed\", \"6\"))\n",
       "        .catch(showError)\n",
       "        .then(() => displayChart(vegaEmbed));\n",
       "    }\n",
       "  })({\"$schema\": \"https://vega.github.io/schema/vega/v5.json\", \"data\": [{\"name\": \"source_1\", \"values\": [{\"pdf_fitted\": 2.213595400045996e-40, \"x\": 0}, {\"pdf_fitted\": 2.4286303817647193e-38, \"x\": 1}, {\"pdf_fitted\": 1.3270730300357453e-36, \"x\": 2}, {\"pdf_fitted\": 4.815379280415314e-35, \"x\": 3}, {\"pdf_fitted\": 1.3053117406554511e-33, \"x\": 4}, {\"pdf_fitted\": 2.8194733598157583e-32, \"x\": 5}, {\"pdf_fitted\": 5.054912952241247e-31, \"x\": 6}, {\"pdf_fitted\": 7.737111661593682e-30, \"x\": 7}, {\"pdf_fitted\": 1.0320754305733114e-28, \"x\": 8}, {\"pdf_fitted\": 1.218831937058003e-27, \"x\": 9}, {\"pdf_fitted\": 1.2902206647999358e-26, \"x\": 10}, {\"pdf_fitted\": 1.236601104704368e-25, \"x\": 11}, {\"pdf_fitted\": 1.0820259666163241e-24, \"x\": 12}, {\"pdf_fitted\": 8.70376931388061e-24, \"x\": 13}, {\"pdf_fitted\": 6.474538601856188e-23, \"x\": 14}, {\"pdf_fitted\": 4.476680976140644e-22, \"x\": 15}, {\"pdf_fitted\": 2.889857451562137e-21, \"x\": 16}, {\"pdf_fitted\": 1.7484851807771077e-20, \"x\": 17}, {\"pdf_fitted\": 9.9497132906125e-20, \"x\": 18}, {\"pdf_fitted\": 5.341425029697345e-19, \"x\": 19}, {\"pdf_fitted\": 2.712680854367752e-18, \"x\": 20}, {\"pdf_fitted\": 1.3065156767975037e-17, \"x\": 21}, {\"pdf_fitted\": 5.981126961962588e-17, \"x\": 22}, {\"pdf_fitted\": 2.6079199548433533e-16, \"x\": 23}, {\"pdf_fitted\": 1.085080981211604e-15, \"x\": 24}, {\"pdf_fitted\": 4.315522073847282e-15, \"x\": 25}, {\"pdf_fitted\": 1.6432180204264854e-14, \"x\": 26}, {\"pdf_fitted\": 5.999049915842548e-14, \"x\": 27}, {\"pdf_fitted\": 2.102728210297878e-13, \"x\": 28}, {\"pdf_fitted\": 7.085054659328885e-13, \"x\": 29}, {\"pdf_fitted\": 2.2975820109537716e-12, \"x\": 30}, {\"pdf_fitted\": 7.178620292288907e-12, \"x\": 31}, {\"pdf_fitted\": 2.16320031129244e-11, \"x\": 32}, {\"pdf_fitted\": 6.292946360123494e-11, \"x\": 33}, {\"pdf_fitted\": 1.7688996281187264e-10, \"x\": 34}, {\"pdf_fitted\": 4.808518989090165e-10, \"x\": 35}, {\"pdf_fitted\": 1.2650984483201494e-09, \"x\": 36}, {\"pdf_fitted\": 3.2238029957192143e-09, \"x\": 37}, {\"pdf_fitted\": 7.962551008223892e-09, \"x\": 38}, {\"pdf_fitted\": 1.9075122195525326e-08, \"x\": 39}, {\"pdf_fitted\": 4.434965910459749e-08, \"x\": 40}, {\"pdf_fitted\": 1.0013442195044914e-07, \"x\": 41}, {\"pdf_fitted\": 2.196826604014909e-07, \"x\": 42}, {\"pdf_fitted\": 4.685590298264411e-07, \"x\": 43}, {\"pdf_fitted\": 9.721078573347171e-07, \"x\": 44}, {\"pdf_fitted\": 1.9627320548091793e-06, \"x\": 45}, {\"pdf_fitted\": 3.8584142568142725e-06, \"x\": 46}, {\"pdf_fitted\": 7.388452832197618e-06, \"x\": 47}, {\"pdf_fitted\": 1.378738073151144e-05, \"x\": 48}, {\"pdf_fitted\": 2.5082581855577488e-05, \"x\": 49}, {\"pdf_fitted\": 4.450366666375342e-05, \"x\": 50}, {\"pdf_fitted\": 7.70399607792716e-05, \"x\": 51}, {\"pdf_fitted\": 0.00013016366999794401, \"x\": 52}, {\"pdf_fitted\": 0.00021471742867585356, \"x\": 53}, {\"pdf_fitted\": 0.0003459336350888781, \"x\": 54}, {\"pdf_fitted\": 0.0005445085269191101, \"x\": 55}, {\"pdf_fitted\": 0.0008375985758475214, \"x\": 56}, {\"pdf_fitted\": 0.0012595467305977688, \"x\": 57}, {\"pdf_fitted\": 0.0018520921137114732, \"x\": 58}, {\"pdf_fitted\": 0.0026637838148780607, \"x\": 59}, {\"pdf_fitted\": 0.003748324368078362, \"x\": 60}, {\"pdf_fitted\": 0.005161626998665358, \"x\": 61}, {\"pdf_fitted\": 0.006957492613408266, \"x\": 62}, {\"pdf_fitted\": 0.009181997054429946, \"x\": 63}, {\"pdf_fitted\": 0.011866911371685275, \"x\": 64}, {\"pdf_fitted\": 0.015022727362836578, \"x\": 65}, {\"pdf_fitted\": 0.018632083937024774, \"x\": 66}, {\"pdf_fitted\": 0.022644536981032106, \"x\": 67}, {\"pdf_fitted\": 0.02697363963917048, \"x\": 68}, {\"pdf_fitted\": 0.03149716926810012, \"x\": 69}, {\"pdf_fitted\": 0.036061044815110195, \"x\": 70}, {\"pdf_fitted\": 0.04048704830348396, \"x\": 71}, {\"pdf_fitted\": 0.044583952000860426, \"x\": 72}, {\"pdf_fitted\": 0.0481611379735317, \"x\": 73}, {\"pdf_fitted\": 0.05104336823835772, \"x\": 74}, {\"pdf_fitted\": 0.05308510296789165, \"x\": 75}, {\"pdf_fitted\": 0.054182727277378134, \"x\": 76}, {\"pdf_fitted\": 0.054283251817781444, \"x\": 77}, {\"pdf_fitted\": 0.05338847294166417, \"x\": 78}, {\"pdf_fitted\": 0.05155414927820776, \"x\": 79}, {\"pdf_fitted\": 0.048884380833443035, \"x\": 80}, {\"pdf_fitted\": 0.045521963104158646, \"x\": 81}, {\"pdf_fitted\": 0.041635941863559726, \"x\": 82}, {\"pdf_fitted\": 0.037407851381718066, \"x\": 83}, {\"pdf_fitted\": 0.03301815453590422, \"x\": 84}, {\"pdf_fitted\": 0.028634231496683486, \"x\": 85}, {\"pdf_fitted\": 0.02440093149135972, \"x\": 86}, {\"pdf_fitted\": 0.02043427760360172, \"x\": 87}, {\"pdf_fitted\": 0.016818471988678533, \"x\": 88}, {\"pdf_fitted\": 0.013605954867245596, \"x\": 89}, {\"pdf_fitted\": 0.010819973632524, \"x\": 90}, {\"pdf_fitted\": 0.008458943279429977, \"x\": 91}, {\"pdf_fitted\": 0.006501827520679874, \"x\": 92}, {\"pdf_fitted\": 0.004913823564016123, \"x\": 93}, {\"pdf_fitted\": 0.003651762496662517, \"x\": 94}, {\"pdf_fitted\": 0.0026688068772601006, \"x\": 95}, {\"pdf_fitted\": 0.0019182049430306756, \"x\": 96}, {\"pdf_fitted\": 0.0013560211673854705, \"x\": 97}, {\"pdf_fitted\": 0.00094288935399833, \"x\": 98}, {\"pdf_fitted\": 0.0006449199910464965, \"x\": 99}, {\"pdf_fitted\": 0.00043393902254699535, \"x\": 100}, {\"pdf_fitted\": 0.0002872467645714154, \"x\": 101}, {\"pdf_fitted\": 0.00018707247272508346, \"x\": 102}]}, {\"name\": \"source_0\", \"values\": [{\"Percentage\": 0.058, \"Percentage_end\": 0.058, \"Percentage_start\": 0.0, \"hsize\": 74}, {\"Percentage\": 0.05616666666666666, \"Percentage_end\": 0.05616666666666666, \"Percentage_start\": 0.0, \"hsize\": 76}, {\"Percentage\": 0.056, \"Percentage_end\": 0.056, \"Percentage_start\": 0.0, \"hsize\": 77}, {\"Percentage\": 0.052, \"Percentage_end\": 0.052, \"Percentage_start\": 0.0, \"hsize\": 75}, {\"Percentage\": 0.050833333333333335, \"Percentage_end\": 0.050833333333333335, \"Percentage_start\": 0.0, \"hsize\": 78}, {\"Percentage\": 0.050333333333333334, \"Percentage_end\": 0.050333333333333334, \"Percentage_start\": 0.0, \"hsize\": 79}, {\"Percentage\": 0.0495, \"Percentage_end\": 0.0495, \"Percentage_start\": 0.0, \"hsize\": 80}, {\"Percentage\": 0.04883333333333333, \"Percentage_end\": 0.04883333333333333, \"Percentage_start\": 0.0, \"hsize\": 73}, {\"Percentage\": 0.04833333333333333, \"Percentage_end\": 0.04833333333333333, \"Percentage_start\": 0.0, \"hsize\": 81}, {\"Percentage\": 0.04716666666666667, \"Percentage_end\": 0.04716666666666667, \"Percentage_start\": 0.0, \"hsize\": 72}, {\"Percentage\": 0.042, \"Percentage_end\": 0.042, \"Percentage_start\": 0.0, \"hsize\": 82}, {\"Percentage\": 0.04016666666666667, \"Percentage_end\": 0.04016666666666667, \"Percentage_start\": 0.0, \"hsize\": 71}, {\"Percentage\": 0.0385, \"Percentage_end\": 0.0385, \"Percentage_start\": 0.0, \"hsize\": 70}, {\"Percentage\": 0.03783333333333333, \"Percentage_end\": 0.03783333333333333, \"Percentage_start\": 0.0, \"hsize\": 83}, {\"Percentage\": 0.030666666666666665, \"Percentage_end\": 0.030666666666666665, \"Percentage_start\": 0.0, \"hsize\": 84}, {\"Percentage\": 0.029333333333333333, \"Percentage_end\": 0.029333333333333333, \"Percentage_start\": 0.0, \"hsize\": 69}, {\"Percentage\": 0.027166666666666665, \"Percentage_end\": 0.027166666666666665, \"Percentage_start\": 0.0, \"hsize\": 85}, {\"Percentage\": 0.027166666666666665, \"Percentage_end\": 0.027166666666666665, \"Percentage_start\": 0.0, \"hsize\": 68}, {\"Percentage\": 0.023, \"Percentage_end\": 0.023, \"Percentage_start\": 0.0, \"hsize\": 67}, {\"Percentage\": 0.022166666666666668, \"Percentage_end\": 0.022166666666666668, \"Percentage_start\": 0.0, \"hsize\": 87}, {\"Percentage\": 0.02033333333333333, \"Percentage_end\": 0.02033333333333333, \"Percentage_start\": 0.0, \"hsize\": 86}, {\"Percentage\": 0.018166666666666668, \"Percentage_end\": 0.018166666666666668, \"Percentage_start\": 0.0, \"hsize\": 66}, {\"Percentage\": 0.016166666666666666, \"Percentage_end\": 0.016166666666666666, \"Percentage_start\": 0.0, \"hsize\": 88}, {\"Percentage\": 0.014333333333333333, \"Percentage_end\": 0.014333333333333333, \"Percentage_start\": 0.0, \"hsize\": 64}, {\"Percentage\": 0.013333333333333334, \"Percentage_end\": 0.013333333333333334, \"Percentage_start\": 0.0, \"hsize\": 65}, {\"Percentage\": 0.011333333333333334, \"Percentage_end\": 0.011333333333333334, \"Percentage_start\": 0.0, \"hsize\": 90}, {\"Percentage\": 0.010333333333333333, \"Percentage_end\": 0.010333333333333333, \"Percentage_start\": 0.0, \"hsize\": 89}, {\"Percentage\": 0.0095, \"Percentage_end\": 0.0095, \"Percentage_start\": 0.0, \"hsize\": 63}, {\"Percentage\": 0.008, \"Percentage_end\": 0.008, \"Percentage_start\": 0.0, \"hsize\": 91}, {\"Percentage\": 0.006333333333333333, \"Percentage_end\": 0.006333333333333333, \"Percentage_start\": 0.0, \"hsize\": 62}, {\"Percentage\": 0.005666666666666667, \"Percentage_end\": 0.005666666666666667, \"Percentage_start\": 0.0, \"hsize\": 92}, {\"Percentage\": 0.004666666666666667, \"Percentage_end\": 0.004666666666666667, \"Percentage_start\": 0.0, \"hsize\": 61}, {\"Percentage\": 0.004, \"Percentage_end\": 0.004, \"Percentage_start\": 0.0, \"hsize\": 93}, {\"Percentage\": 0.0036666666666666666, \"Percentage_end\": 0.0036666666666666666, \"Percentage_start\": 0.0, \"hsize\": 95}, {\"Percentage\": 0.0036666666666666666, \"Percentage_end\": 0.0036666666666666666, \"Percentage_start\": 0.0, \"hsize\": 60}, {\"Percentage\": 0.0028333333333333335, \"Percentage_end\": 0.0028333333333333335, \"Percentage_start\": 0.0, \"hsize\": 94}, {\"Percentage\": 0.002, \"Percentage_end\": 0.002, \"Percentage_start\": 0.0, \"hsize\": 58}, {\"Percentage\": 0.002, \"Percentage_end\": 0.002, \"Percentage_start\": 0.0, \"hsize\": 59}, {\"Percentage\": 0.0016666666666666668, \"Percentage_end\": 0.0016666666666666668, \"Percentage_start\": 0.0, \"hsize\": 96}, {\"Percentage\": 0.0011666666666666668, \"Percentage_end\": 0.0011666666666666668, \"Percentage_start\": 0.0, \"hsize\": 57}, {\"Percentage\": 0.001, \"Percentage_end\": 0.001, \"Percentage_start\": 0.0, \"hsize\": 97}, {\"Percentage\": 0.0008333333333333334, \"Percentage_end\": 0.0008333333333333334, \"Percentage_start\": 0.0, \"hsize\": 98}, {\"Percentage\": 0.0008333333333333334, \"Percentage_end\": 0.0008333333333333334, \"Percentage_start\": 0.0, \"hsize\": 56}, {\"Percentage\": 0.0006666666666666666, \"Percentage_end\": 0.0006666666666666666, \"Percentage_start\": 0.0, \"hsize\": 101}, {\"Percentage\": 0.0006666666666666666, \"Percentage_end\": 0.0006666666666666666, \"Percentage_start\": 0.0, \"hsize\": 54}, {\"Percentage\": 0.0006666666666666666, \"Percentage_end\": 0.0006666666666666666, \"Percentage_start\": 0.0, \"hsize\": 100}, {\"Percentage\": 0.0003333333333333333, \"Percentage_end\": 0.0003333333333333333, \"Percentage_start\": 0.0, \"hsize\": 52}, {\"Percentage\": 0.0003333333333333333, \"Percentage_end\": 0.0003333333333333333, \"Percentage_start\": 0.0, \"hsize\": 99}, {\"Percentage\": 0.00016666666666666666, \"Percentage_end\": 0.00016666666666666666, \"Percentage_start\": 0.0, \"hsize\": 55}, {\"Percentage\": 0.00016666666666666666, \"Percentage_end\": 0.00016666666666666666, \"Percentage_start\": 0.0, \"hsize\": 103}]}], \"marks\": [{\"type\": \"rect\", \"name\": \"layer_0_marks\", \"from\": {\"data\": \"source_0\"}, \"encode\": {\"update\": {\"description\": {\"signal\": \"\\\"m: \\\" + (format(datum[\\\"hsize\\\"], \\\"\\\")) + \\\"; Percentage: \\\" + (format(datum[\\\"Percentage\\\"], \\\"\\\"))\"}, \"xc\": {\"field\": \"hsize\", \"scale\": \"x\"}, \"width\": {\"value\": 5}, \"y\": {\"field\": \"Percentage_end\", \"scale\": \"y\"}, \"fill\": {\"value\": \"#4c78a8\"}, \"ariaRoleDescription\": {\"value\": \"bar\"}, \"y2\": {\"field\": \"Percentage_start\", \"scale\": \"y\"}}}, \"style\": [\"bar\"]}, {\"type\": \"line\", \"name\": \"layer_1_marks\", \"from\": {\"data\": \"source_1\"}, \"sort\": {\"field\": \"datum[\\\"x\\\"]\"}, \"encode\": {\"update\": {\"defined\": {\"signal\": \"isValid(datum[\\\"x\\\"]) && isFinite(+datum[\\\"x\\\"]) && isValid(datum[\\\"pdf_fitted\\\"]) && isFinite(+datum[\\\"pdf_fitted\\\"])\"}, \"stroke\": {\"value\": \"red\"}, \"y\": {\"field\": \"pdf_fitted\", \"scale\": \"y\"}, \"description\": {\"signal\": \"\\\"x: \\\" + (format(datum[\\\"x\\\"], \\\"\\\")) + \\\"; pdf_fitted: \\\" + (format(datum[\\\"pdf_fitted\\\"], \\\"\\\"))\"}, \"x\": {\"field\": \"x\", \"scale\": \"x\"}}}, \"style\": [\"line\"]}], \"scales\": [{\"name\": \"x\", \"type\": \"linear\", \"domain\": {\"fields\": [{\"data\": \"source_0\", \"field\": \"hsize\"}, {\"data\": \"source_1\", \"field\": \"x\"}]}, \"range\": [0, {\"signal\": \"width\"}], \"zero\": false, \"nice\": true, \"padding\": 5}, {\"name\": \"y\", \"type\": \"linear\", \"domain\": {\"fields\": [{\"data\": \"source_0\", \"field\": \"Percentage_start\"}, {\"data\": \"source_0\", \"field\": \"Percentage_end\"}, {\"data\": \"source_1\", \"field\": \"pdf_fitted\"}]}, \"range\": [{\"signal\": \"height\"}, 0], \"zero\": true, \"nice\": true}], \"axes\": [{\"scale\": \"x\", \"gridScale\": \"y\", \"domain\": false, \"minExtent\": 0, \"orient\": \"bottom\", \"labels\": false, \"tickCount\": {\"signal\": \"ceil(width/40)\"}, \"ticks\": false, \"zindex\": 0, \"aria\": false, \"maxExtent\": 0, \"grid\": true}, {\"scale\": \"y\", \"orient\": \"left\", \"minExtent\": 0, \"gridScale\": \"x\", \"aria\": false, \"ticks\": false, \"zindex\": 0, \"domain\": false, \"labels\": false, \"maxExtent\": 0, \"grid\": true, \"tickCount\": {\"signal\": \"ceil(height/40)\"}}, {\"scale\": \"x\", \"tickCount\": {\"signal\": \"ceil(width/40)\"}, \"grid\": false, \"zindex\": 0, \"title\": \"m\", \"orient\": \"bottom\", \"labelFlush\": true, \"labelOverlap\": true}, {\"scale\": \"y\", \"title\": \"Percentage, pdf_fitted\", \"labelOverlap\": true, \"zindex\": 0, \"grid\": false, \"tickCount\": {\"signal\": \"ceil(height/40)\"}, \"orient\": \"left\"}], \"width\": 300, \"background\": \"white\", \"padding\": 5, \"height\": 300, \"style\": \"cell\"}, {\"mode\": \"vega\"});\n",
       "</script>"
      ],
      "text/plain": [
       "alt.LayerChart(...)"
      ]
     },
     "execution_count": 216,
     "metadata": {},
     "output_type": "execute_result"
    }
   ],
   "source": [
    "distrib + fit"
   ]
  },
  {
   "cell_type": "code",
   "execution_count": 197,
   "id": "df8ad3a1-2842-4d2c-896d-83ce44bcb878",
   "metadata": {},
   "outputs": [
    {
     "data": {
      "text/plain": [
       "['mixed',\n",
       " 'mixed',\n",
       " 'mixed',\n",
       " 'mixed',\n",
       " 'mixed',\n",
       " 'mixed',\n",
       " 'mixed',\n",
       " 'mixed',\n",
       " 'mixed',\n",
       " 'pure',\n",
       " 'mixed',\n",
       " 'pure',\n",
       " 'pure',\n",
       " 'mixed',\n",
       " 'mixed',\n",
       " 'pure',\n",
       " 'pure',\n",
       " 'pure',\n",
       " 'mixed',\n",
       " 'pure']"
      ]
     },
     "execution_count": 197,
     "metadata": {},
     "output_type": "execute_result"
    }
   ],
   "source": [
    "gen.hyperedges_types()[0:20]"
   ]
  },
  {
   "cell_type": "code",
   "execution_count": 198,
   "id": "1501eb2e-ee26-4bb6-8ec6-deeb9dbfc6d0",
   "metadata": {},
   "outputs": [
    {
     "name": "stdout",
     "output_type": "stream",
     "text": [
      "[[2, 2, 2, 2, 2, 2, 2, 2, 2, 2, 2, 2, 2, 2, 2, 2, 2, 2, 2, 2, 2, 2, 2, 2, 2, 2, 2, 2, 2, 2, 2, 2, 2, 2, 0, 2, 0, 2, 2, 0, 2, 3, 3, 3, 3, 2, 0, 0, 2, 3, 2, 2, 3, 2, 0, 3, 2, 3, 0, 0, 2, 0, 2, 3, 0, 3, 0, 3, 0, 2, 0, 2, 2, 2, 3, 3, 0, 2, 2, 2, 0, 3, 2, 0, 0, 2, 0, 2, 2, 0, 0, 3, 0, 3, 3, 0, 3, 2, 3, 3, 0, 0, 3, 2, 3, 3, 2, 0, 0, 3, 3, 0, 0, 0, 3, 3, 3, 2, 3, 0, 3, 2, 3, 0, 3, 2, 3, 0, 2, 0, 2, 2, 3, 3, 3, 0, 2, 2, 0, 0, 3, 3, 3, 0, 3, 3, 0, 0, 2, 2, 0, 2], [3, 3, 1, 3, 3, 3, 1, 3, 3, 3, 1, 1, 1, 1, 3, 1, 1, 1, 3, 3, 3, 1, 1, 1, 3, 1, 3, 1, 1, 1, 1, 1, 1, 1, 1, 1, 1, 1, 3, 3, 1, 3, 3, 3, 3, 3, 1, 1, 1, 1, 3, 3, 3, 3, 3, 3, 3, 1, 1, 3, 1, 3, 0, 0, 0, 0, 3, 0, 3, 0, 0, 0, 0, 1, 1, 0, 3, 0, 3, 3, 0, 1, 3, 3, 0, 1, 3, 0, 3, 0, 1, 1, 3, 1, 3, 1, 1, 0, 1, 1, 1, 1, 1, 3, 0, 1, 0, 0, 3, 0, 1, 0, 3, 0, 0, 0, 1, 3, 3, 0, 0, 3, 0, 3, 1, 3, 1, 3, 1, 1, 3, 1, 1, 3, 1, 0, 3, 0, 1, 3, 0, 1, 0, 3, 0, 2, 2, 0, 2, 3, 1, 2, 0, 0, 0, 1, 2, 3, 1, 3, 2, 3, 0, 0, 0, 1, 2, 3, 1, 2, 3, 1, 2, 3, 1, 2, 3, 1, 1, 0, 3, 3, 2, 2, 1, 3, 1, 0, 3, 1, 1, 3, 3, 0, 2, 3, 1, 0, 2, 3, 3, 3], [0, 0, 0, 0, 0, 0, 0, 0, 0, 0, 0, 0, 0, 0, 2, 2, 2, 0, 2, 2, 2, 0, 2, 0, 0, 2, 0, 0, 0, 0, 2, 2, 0, 0, 2, 3, 2, 2, 3, 2, 3, 3, 0, 2, 2, 2, 3, 0, 0, 0, 2, 0, 0, 2, 3, 3, 0, 3, 3, 3, 0, 0, 0, 0, 0, 3, 2, 3, 3, 3, 2, 0, 3, 3, 3, 0, 2, 0, 2, 2, 2, 0, 2, 3, 2, 2, 0, 3, 0, 3, 3, 3, 0, 2, 3, 2, 0, 0, 0, 2, 0, 3, 2, 0, 2, 2, 2, 3, 0, 2, 3, 2, 2, 0, 3, 3, 3, 2, 2, 3, 0, 3, 0, 2, 0, 0, 0, 2, 2, 2, 3, 0, 2, 3, 0, 2, 2, 2, 3, 0, 0, 3, 0, 0, 3, 0, 2, 0, 0, 2, 2, 2, 3, 2, 3, 2, 2, 0, 2, 0, 3, 2, 3, 3, 0, 2, 2, 2, 0, 0, 2, 2, 2, 0, 3, 0, 0, 0, 0, 3, 0, 3, 2, 0, 0, 0, 3, 3, 3, 3, 3, 3, 0, 2, 3, 0, 0, 2, 3, 0, 3], [1, 1, 1, 1, 1, 1, 1, 1, 1, 1, 1, 1, 1, 1, 1, 1, 1, 1, 1, 1, 1, 1, 1, 1, 1, 1, 1, 1, 1, 1, 1, 1, 1, 1, 1, 1, 1, 3, 3, 3, 1, 3, 3, 3, 3, 3, 3, 3, 1, 3, 3, 1, 1, 1, 3, 1, 1, 3, 3, 1, 1, 1, 3, 1, 3, 1, 1, 3, 1, 3, 3, 1, 1, 3, 3, 1, 1, 3, 3, 1, 1, 3, 3, 3, 3, 1, 1, 1, 3, 3, 1, 1, 1, 1, 3, 3, 3, 3, 1, 3, 1, 3], [3, 3, 3, 3, 3, 3, 3, 3, 3, 3, 2, 2, 2, 2, 3, 2, 2, 2, 2, 2, 3, 2, 3, 2, 3, 3, 3, 3, 2, 2, 3, 3, 2, 2, 2, 2, 3, 2, 3, 3, 0, 3, 2, 0, 2, 2, 0, 2, 0, 0, 3, 0, 0, 3, 3, 3, 0, 3, 2, 3, 0, 3, 0, 2, 2, 0, 2, 3, 2, 0, 2, 0, 2, 3, 0, 3, 2, 3, 0, 2, 3, 2, 3, 3, 2, 3, 2, 2, 2, 2, 2, 1, 3, 2, 0, 0, 3, 0, 0, 1, 3, 3, 0, 3, 2, 1, 0, 2, 3, 1, 0, 1, 1, 3, 0, 3, 2, 1, 3, 3, 3, 3, 0, 2, 0, 3, 0, 2, 3, 1, 2, 1, 2, 0, 0, 2, 3, 3, 0, 2, 1, 0, 0, 3, 2, 1, 3, 2, 1, 2, 2, 3, 3, 3, 2, 0, 2, 2, 1, 1, 0, 0, 1, 3, 0, 1, 1, 1, 2, 1, 2, 1, 1, 0, 1, 3, 2, 0, 0, 3, 0, 1, 3, 3, 0, 0, 0, 0, 1, 1, 2, 0, 0, 2, 1, 1, 3, 2, 0, 2, 1, 3, 0, 0, 2, 2, 1, 1, 0, 0, 3, 3, 3, 1, 2, 3, 0, 2, 2, 2, 3, 1, 1, 0, 0, 3, 3, 3, 2, 0, 0, 3, 2, 1, 3, 3, 3, 0, 3, 3], [1, 1, 1, 2, 1, 1, 1, 2, 1, 1, 2, 2, 2, 1, 2, 2, 1, 1, 1, 1, 1, 2, 1, 2, 1, 1, 1, 2, 2, 2, 2, 1, 2, 2, 1, 2, 1, 1, 2, 2, 2, 2, 2, 1, 2, 1, 1, 1, 2, 1, 1, 2, 2, 2, 2, 2, 2, 2, 1, 1, 1, 2, 1, 1, 2, 1, 2, 1, 2, 2, 2, 1, 2, 2, 2, 1, 1, 2, 2, 1, 2, 1, 1, 1, 1, 2, 1, 2, 2, 2, 1, 2, 2, 1, 1, 2, 2, 1, 2, 2, 1, 1, 1, 2, 1, 2, 1, 1, 1, 2, 2, 1, 1, 1, 1, 1, 1, 1, 2, 1, 2, 1, 1, 2, 2, 1, 2, 2, 2, 2, 1, 2, 2, 2, 2, 1, 2, 2, 2, 1, 1, 2, 1, 2, 2, 1, 1, 2, 1, 1, 2, 2, 2, 1, 1, 1, 2, 2, 1, 2, 1], [1, 1, 1, 1, 1, 1, 1, 1, 1, 1, 1, 1, 1, 1, 1, 1, 1, 1, 1, 1, 1, 1, 1, 1, 1, 1, 1, 1, 1, 1, 1, 1, 1, 1, 1, 1, 1, 1, 1, 1, 1, 1, 1, 1, 1, 1, 1, 1, 2, 1, 1, 2, 2, 1, 2, 1, 2, 2, 2, 2, 1, 2, 2, 2, 2, 2, 1, 2, 1, 2, 1, 1, 1, 2, 2, 2, 1, 1, 1, 2, 1, 2, 2, 1, 1, 1, 1, 2, 1, 1], [2, 2, 2, 2, 2, 2, 2, 2, 2, 2, 2, 2, 2, 2, 2, 2, 2, 2, 2, 2, 2, 2, 2, 2, 1, 1, 1, 1, 2, 2, 1, 1, 2, 2, 2, 1, 2, 1, 2, 2, 2, 2, 2, 2, 2, 1, 2, 1, 1, 1, 1, 2, 2, 1, 1, 1, 2, 1, 2, 2, 1, 2, 2, 1, 2, 2, 2, 1, 1, 1, 1, 1, 2, 1, 2, 1, 1, 2, 2, 1, 2, 1, 1, 1, 2, 2, 1, 1, 1, 2, 1, 1, 1, 1, 1, 1, 1, 2, 1, 1, 1, 2, 1, 2, 2, 2, 1, 2, 1, 1, 2, 1, 1, 1, 2, 1, 2, 2, 2, 2, 1, 1, 1, 2, 2, 2, 2], [1, 1, 1, 1, 1, 1, 1, 1, 1, 1, 1, 1, 1, 1, 1, 1, 1, 1, 1, 1, 1, 1, 1, 1, 1, 1, 1, 2, 2, 2, 2, 1, 1, 1, 2, 1, 1, 2, 1, 1, 1, 1, 1, 2, 2, 1, 2, 2, 2, 2, 2, 1, 2, 1, 1, 2, 2, 1, 1, 1, 2, 2, 2, 1, 1, 2, 1, 1, 1, 1, 1, 1, 1, 2, 2, 1, 1, 1, 1, 2, 2, 1, 1, 2, 2, 1, 1, 1, 1, 1, 2, 1, 1, 1, 1, 1, 2, 1, 2, 2, 2, 2, 2, 1, 2, 1, 2, 2, 2, 2, 1, 2, 2, 1, 2, 2, 1, 1, 1, 1, 1, 2, 1, 2, 1, 2, 2, 1], [2, 2, 2, 2, 2, 2, 2, 2, 2, 2, 2, 2, 2, 2, 2, 2, 2, 2, 2, 2, 2, 2, 2, 2, 2, 2, 2, 2, 2, 2, 2, 2, 2, 2, 2, 2, 2, 2, 2, 2, 2, 2, 2, 2, 2, 2, 2, 2, 2, 2, 2, 2, 2, 2, 2, 2, 2, 2, 2, 2, 2, 2, 2, 2, 2, 2, 2, 2, 2, 2, 2, 2, 2, 2, 2, 2], [1, 1, 1, 1, 1, 1, 1, 1, 1, 1, 1, 1, 1, 1, 1, 1, 1, 1, 1, 1, 1, 1, 1, 1, 1, 1, 1, 1, 1, 1, 1, 1, 1, 1, 1, 1, 1, 1, 1, 1, 1, 1, 1, 1, 1, 1, 1, 1, 2, 2, 2, 1, 2, 1, 1, 1, 2, 1, 2, 1, 1, 1, 2, 1, 2, 1, 1, 2, 1, 1, 1, 1, 2, 2, 1, 1, 1, 2, 1, 1, 1, 2, 1, 1, 2, 2, 2, 1, 2, 1, 2, 2, 2, 2, 2, 2, 2, 1, 1, 2, 1, 1, 2, 1, 2, 2, 2, 1, 1, 1, 1, 2, 1, 1, 2, 2, 2, 2, 1, 2, 2, 1, 1], [0, 0, 0, 0, 0, 0, 0, 0, 0, 0, 0, 0, 0, 0, 0, 0, 0, 0, 0, 0, 0, 0, 0, 0, 0, 0, 0, 0, 0, 0, 0, 0, 0, 0, 0, 0, 0, 0, 0, 0, 0, 0, 0, 0, 0, 0, 0, 0, 0, 0, 0, 0, 0, 0, 0, 0, 0, 0, 0, 0, 0, 0, 0, 0, 0, 0, 0, 0, 0, 0], [3, 3, 3, 3, 3, 3, 3, 3, 3, 3, 3, 3, 3, 3, 3, 3, 3, 3, 3, 3, 3, 3, 3, 3, 3, 3, 3, 3, 3, 3, 3, 3, 3, 3, 3, 3, 3, 3, 3, 3, 3, 3, 3, 3, 3, 3, 3, 3, 3, 3, 3, 3, 3, 3, 3, 3, 3, 3, 3, 3, 3, 3, 3], [1, 1, 1, 1, 1, 1, 1, 1, 1, 1, 1, 1, 1, 1, 1, 1, 1, 1, 1, 1, 1, 1, 1, 1, 1, 1, 1, 1, 1, 1, 1, 1, 1, 1, 1, 1, 1, 1, 1, 1, 1, 1, 1, 1, 1, 1, 1, 1, 1, 1, 1, 1, 1, 0, 1, 1, 0, 0, 1, 0, 0, 1, 0, 0, 0, 0, 1, 1, 0, 1, 1, 0, 0, 0, 0, 0, 0, 0, 1, 1, 0, 1, 1, 1, 0, 0, 1, 0, 1, 1, 0, 0, 1, 1, 0, 1, 1, 0, 0, 1, 0, 1, 1, 0, 0, 0, 0, 0, 1, 0, 1, 0, 0, 0, 0, 1, 0, 1, 1, 1], [1, 1, 1, 1, 1, 1, 1, 1, 1, 1, 1, 1, 1, 1, 1, 1, 1, 1, 1, 1, 1, 1, 1, 1, 1, 1, 1, 1, 1, 3, 3, 3, 3, 1, 1, 1, 3, 3, 1, 3, 3, 3, 3, 1, 3, 3, 3, 1, 3, 3, 3, 3, 1, 1, 3, 3, 1, 1, 1, 3, 3, 1, 1, 1, 1, 3, 1, 3, 1, 3, 1, 3, 3, 3, 3, 1, 1, 1, 3, 3, 3, 1, 1, 3, 1, 1, 3, 3, 3, 1, 3, 1, 1, 1, 1, 3, 3, 3, 3, 1, 3, 3, 1, 3, 3, 3, 3, 3, 3, 3, 1, 1, 1, 1, 3, 1, 1], [3, 3, 3, 3, 3, 3, 3, 3, 3, 3, 3, 3, 3, 3, 3, 3, 3, 3, 3, 3, 3, 3, 3, 3, 3, 3, 3, 3, 3, 3, 3, 3, 3, 3, 3, 3, 3, 3, 3, 3, 3, 3, 3, 3, 3, 3, 3, 3, 3, 3, 3, 3, 3, 3, 3, 3, 3, 3, 3, 3, 3, 3, 3, 3, 3, 3, 3, 3, 3, 3, 3, 3, 3, 3, 3, 3, 3, 3, 3, 3, 3, 3, 3, 3, 3, 3, 3], [1, 1, 1, 1, 1, 1, 1, 1, 1, 1, 1, 1, 1, 1, 1, 1, 1, 1, 1, 1, 1, 1, 1, 1, 1, 1, 1, 1, 1, 1, 1, 1, 1, 1, 1, 1, 1, 1, 1, 1, 1, 1, 1, 1, 1, 1, 1, 1, 1, 1, 1, 1, 1, 1, 1, 1, 1, 1, 1, 1, 1, 1, 1, 1, 1, 1, 1, 1, 1, 1, 1, 1, 1, 1, 1, 1, 1, 1, 1], [0, 0, 0, 0, 0, 0, 0, 0, 0, 0, 0, 0, 0, 0, 0, 0, 0, 0, 0, 0, 0, 0, 0, 0, 0, 0, 0, 0, 0, 0, 0, 0, 0, 0, 0, 0, 0, 0, 0, 0, 0, 0, 0, 0, 0, 0, 0, 0, 0, 0, 0, 0, 0, 0, 0, 0, 0, 0, 0, 0, 0, 0, 0, 0, 0, 0, 0, 0, 0, 0, 0, 0, 0, 0, 0, 0, 0], [1, 1, 1, 1, 1, 1, 1, 1, 1, 1, 1, 1, 1, 1, 1, 1, 1, 1, 1, 1, 1, 1, 1, 1, 1, 1, 1, 1, 1, 1, 1, 1, 1, 1, 1, 1, 1, 1, 1, 1, 1, 1, 1, 1, 1, 1, 0, 1, 1, 0, 0, 1, 1, 0, 0, 0, 1, 0, 0, 0, 0, 0, 1, 1, 0, 0, 1, 0, 0, 1, 1, 1, 0, 0, 1, 1, 1, 0, 0, 0, 1, 1, 1, 1, 0, 1, 1, 0, 1, 0, 0, 1, 1, 0, 1, 0, 0, 1, 1, 0, 1, 0, 0, 1, 0, 0, 1, 0, 0, 1, 1, 1], [3, 3, 3, 3, 3, 3, 3, 3, 3, 3, 3, 3, 3, 3, 3, 3, 3, 3, 3, 3, 3, 3, 3, 3, 3, 3, 3, 3, 3, 3, 3, 3, 3, 3, 3, 3, 3, 3, 3, 3, 3, 3, 3, 3, 3, 3, 3, 3, 3, 3, 3, 3, 3, 3, 3, 3, 3, 3, 3, 3, 3, 3, 3, 3, 3, 3, 3, 3, 3, 3, 3, 3, 3]]\n"
     ]
    }
   ],
   "source": [
    "print(gen.hyperedges_composition()[0:20])"
   ]
  },
  {
   "cell_type": "markdown",
   "id": "e86cf150-2131-4fa2-a9f2-4133ce4794c1",
   "metadata": {},
   "source": [
    "## LogNorm fit (not working)"
   ]
  },
  {
   "cell_type": "code",
   "execution_count": 388,
   "id": "40e319af-4e67-4974-ac95-0e487281c23f",
   "metadata": {},
   "outputs": [
    {
     "name": "stdout",
     "output_type": "stream",
     "text": [
      "Shape (sigma): 0.80215141513417\n",
      "Location (loc): 0\n",
      "Scale (exp(mu)): 25.56240338039136\n"
     ]
    }
   ],
   "source": [
    "data = list(df_hsizes.hsize)\n",
    "log_data = np.log(data)\n",
    "\n",
    "# Step 2: Estimate parameters of the log-normal distribution\n",
    "# Fit the data to a normal distribution (because log(data) is normally distributed)\n",
    "shape, loc, scale = stats.lognorm.fit(data, floc=0)  # 'floc=0' fixes location parameter to zero\n",
    "\n",
    "# Parameters of the fitted log-normal distribution\n",
    "print(f\"Shape (sigma): {shape}\")\n",
    "print(f\"Location (loc): {loc}\")\n",
    "print(f\"Scale (exp(mu)): {scale}\")"
   ]
  },
  {
   "cell_type": "code",
   "execution_count": 405,
   "id": "40099d0d-95fc-48df-8666-54753d9914bb",
   "metadata": {},
   "outputs": [],
   "source": [
    "# Step 2: Generate points for the fitted log-normal distribution\n",
    "x = np.linspace(min(data), max(data), 1000)\n",
    "pdf_fitted = stats.lognorm.pdf(x, shape, loc, scale)\n",
    "\n",
    "\n",
    "# Convert data to a DataFrame for Altair\n",
    "df_data = pd.DataFrame({'value': data})\n",
    "df_pdf = pd.DataFrame({'x': x, 'pdf_fitted': pdf_fitted})"
   ]
  },
  {
   "cell_type": "code",
   "execution_count": 434,
   "id": "bf53d668-449e-4129-afef-d8187291d3d0",
   "metadata": {},
   "outputs": [],
   "source": [
    "distrib2 = alt.Chart(df_hsizes).mark_bar().encode(\n",
    "        # x=alt.X('hsize:O', title=\"Hyperedge Size\", axis=alt.Axis(tickMinStep=10), scale=alt.Scale(domain=list(range(3, 51)), padding=0.1, paddingInner=0.1)),\n",
    "        x=alt.X('hsize:Q', title=\"m\", axis=alt.Axis(tickMinStep=5)),\n",
    "        # x=alt.X('hsize:Q', title=\"m\").bin(maxbins=40),\n",
    "        y=alt.Y('count()'),\n",
    "        # y=\"count()\",\n",
    "        # facet=alt.Facet(\"q:O\")\n",
    "        # color=\"q\"\n",
    "    )\n",
    "\n",
    "fit = alt.Chart(df_pdf).mark_line(stroke='red').encode(\n",
    "        x=alt.X('x:Q'),\n",
    "        y=alt.Y('pdf_fitted'),\n",
    "    )"
   ]
  },
  {
   "cell_type": "code",
   "execution_count": 435,
   "id": "e0185720-d348-48d8-adc3-9e627dba625a",
   "metadata": {},
   "outputs": [
    {
     "data": {
      "text/html": [
       "\n",
       "<style>\n",
       "  #altair-viz-653258be80314af586e71ea9e0e721d9.vega-embed {\n",
       "    width: 100%;\n",
       "    display: flex;\n",
       "  }\n",
       "\n",
       "  #altair-viz-653258be80314af586e71ea9e0e721d9.vega-embed details,\n",
       "  #altair-viz-653258be80314af586e71ea9e0e721d9.vega-embed details summary {\n",
       "    position: relative;\n",
       "  }\n",
       "</style>\n",
       "<div id=\"altair-viz-653258be80314af586e71ea9e0e721d9\"></div>\n",
       "<script type=\"text/javascript\">\n",
       "  var VEGA_DEBUG = (typeof VEGA_DEBUG == \"undefined\") ? {} : VEGA_DEBUG;\n",
       "  (function(spec, embedOpt){\n",
       "    let outputDiv = document.currentScript.previousElementSibling;\n",
       "    if (outputDiv.id !== \"altair-viz-653258be80314af586e71ea9e0e721d9\") {\n",
       "      outputDiv = document.getElementById(\"altair-viz-653258be80314af586e71ea9e0e721d9\");\n",
       "    }\n",
       "    const paths = {\n",
       "      \"vega\": \"https://cdn.jsdelivr.net/npm/vega@5?noext\",\n",
       "      \"vega-lib\": \"https://cdn.jsdelivr.net/npm/vega-lib?noext\",\n",
       "      \"vega-lite\": \"https://cdn.jsdelivr.net/npm/vega-lite@5.15.1?noext\",\n",
       "      \"vega-embed\": \"https://cdn.jsdelivr.net/npm/vega-embed@6?noext\",\n",
       "    };\n",
       "\n",
       "    function maybeLoadScript(lib, version) {\n",
       "      var key = `${lib.replace(\"-\", \"\")}_version`;\n",
       "      return (VEGA_DEBUG[key] == version) ?\n",
       "        Promise.resolve(paths[lib]) :\n",
       "        new Promise(function(resolve, reject) {\n",
       "          var s = document.createElement('script');\n",
       "          document.getElementsByTagName(\"head\")[0].appendChild(s);\n",
       "          s.async = true;\n",
       "          s.onload = () => {\n",
       "            VEGA_DEBUG[key] = version;\n",
       "            return resolve(paths[lib]);\n",
       "          };\n",
       "          s.onerror = () => reject(`Error loading script: ${paths[lib]}`);\n",
       "          s.src = paths[lib];\n",
       "        });\n",
       "    }\n",
       "\n",
       "    function showError(err) {\n",
       "      outputDiv.innerHTML = `<div class=\"error\" style=\"color:red;\">${err}</div>`;\n",
       "      throw err;\n",
       "    }\n",
       "\n",
       "    function displayChart(vegaEmbed) {\n",
       "      vegaEmbed(outputDiv, spec, embedOpt)\n",
       "        .catch(err => showError(`Javascript Error: ${err.message}<br>This usually means there's a typo in your chart specification. See the javascript console for the full traceback.`));\n",
       "    }\n",
       "\n",
       "    if(typeof define === \"function\" && define.amd) {\n",
       "      requirejs.config({paths});\n",
       "      require([\"vega-embed\"], displayChart, err => showError(`Error loading script: ${err.message}`));\n",
       "    } else {\n",
       "      maybeLoadScript(\"vega\", \"5\")\n",
       "        .then(() => maybeLoadScript(\"vega-lite\", \"5.15.1\"))\n",
       "        .then(() => maybeLoadScript(\"vega-embed\", \"6\"))\n",
       "        .catch(showError)\n",
       "        .then(() => displayChart(vegaEmbed));\n",
       "    }\n",
       "  })({\"$schema\": \"https://vega.github.io/schema/vega/v5.json\", \"data\": [{\"name\": \"source_1\", \"values\": [{\"pdf_fitted\": 9.799050517017269e-20, \"x\": 17.0}, {\"pdf_fitted\": 0.0, \"x\": 17.04004004004004}, {\"pdf_fitted\": 0.0, \"x\": 17.08008008008008}, {\"pdf_fitted\": 0.0, \"x\": 17.12012012012012}, {\"pdf_fitted\": 0.0, \"x\": 17.16016016016016}, {\"pdf_fitted\": 0.0, \"x\": 17.2002002002002}, {\"pdf_fitted\": 0.0, \"x\": 17.24024024024024}, {\"pdf_fitted\": 0.0, \"x\": 17.28028028028028}, {\"pdf_fitted\": 0.0, \"x\": 17.32032032032032}, {\"pdf_fitted\": 0.0, \"x\": 17.36036036036036}, {\"pdf_fitted\": 0.0, \"x\": 17.4004004004004}, {\"pdf_fitted\": 0.0, \"x\": 17.44044044044044}, {\"pdf_fitted\": 0.0, \"x\": 17.48048048048048}, {\"pdf_fitted\": 0.0, \"x\": 17.52052052052052}, {\"pdf_fitted\": 0.0, \"x\": 17.56056056056056}, {\"pdf_fitted\": 0.0, \"x\": 17.6006006006006}, {\"pdf_fitted\": 0.0, \"x\": 17.64064064064064}, {\"pdf_fitted\": 0.0, \"x\": 17.68068068068068}, {\"pdf_fitted\": 0.0, \"x\": 17.72072072072072}, {\"pdf_fitted\": 0.0, \"x\": 17.76076076076076}, {\"pdf_fitted\": 0.0, \"x\": 17.8008008008008}, {\"pdf_fitted\": 0.0, \"x\": 17.84084084084084}, {\"pdf_fitted\": 0.0, \"x\": 17.88088088088088}, {\"pdf_fitted\": 0.0, \"x\": 17.92092092092092}, {\"pdf_fitted\": 0.0, \"x\": 17.96096096096096}, {\"pdf_fitted\": 0.0, \"x\": 18.001001001001}, {\"pdf_fitted\": 0.0, \"x\": 18.04104104104104}, {\"pdf_fitted\": 0.0, \"x\": 18.08108108108108}, {\"pdf_fitted\": 0.0, \"x\": 18.12112112112112}, {\"pdf_fitted\": 0.0, \"x\": 18.16116116116116}, {\"pdf_fitted\": 0.0, \"x\": 18.2012012012012}, {\"pdf_fitted\": 0.0, \"x\": 18.24124124124124}, {\"pdf_fitted\": 0.0, \"x\": 18.28128128128128}, {\"pdf_fitted\": 0.0, \"x\": 18.32132132132132}, {\"pdf_fitted\": 0.0, \"x\": 18.36136136136136}, {\"pdf_fitted\": 0.0, \"x\": 18.4014014014014}, {\"pdf_fitted\": 0.0, \"x\": 18.44144144144144}, {\"pdf_fitted\": 0.0, \"x\": 18.48148148148148}, {\"pdf_fitted\": 0.0, \"x\": 18.52152152152152}, {\"pdf_fitted\": 0.0, \"x\": 18.56156156156156}, {\"pdf_fitted\": 0.0, \"x\": 18.6016016016016}, {\"pdf_fitted\": 0.0, \"x\": 18.64164164164164}, {\"pdf_fitted\": 0.0, \"x\": 18.68168168168168}, {\"pdf_fitted\": 0.0, \"x\": 18.72172172172172}, {\"pdf_fitted\": 0.0, \"x\": 18.76176176176176}, {\"pdf_fitted\": 0.0, \"x\": 18.8018018018018}, {\"pdf_fitted\": 0.0, \"x\": 18.84184184184184}, {\"pdf_fitted\": 0.0, \"x\": 18.88188188188188}, {\"pdf_fitted\": 0.0, \"x\": 18.92192192192192}, {\"pdf_fitted\": 0.0, \"x\": 18.96196196196196}, {\"pdf_fitted\": 0.0, \"x\": 19.002002002002}, {\"pdf_fitted\": 0.0, \"x\": 19.04204204204204}, {\"pdf_fitted\": 0.0, \"x\": 19.08208208208208}, {\"pdf_fitted\": 0.0, \"x\": 19.12212212212212}, {\"pdf_fitted\": 0.0, \"x\": 19.16216216216216}, {\"pdf_fitted\": 0.0, \"x\": 19.2022022022022}, {\"pdf_fitted\": 0.0, \"x\": 19.24224224224224}, {\"pdf_fitted\": 0.0, \"x\": 19.28228228228228}, {\"pdf_fitted\": 0.0, \"x\": 19.32232232232232}, {\"pdf_fitted\": 0.0, \"x\": 19.36236236236236}, {\"pdf_fitted\": 0.0, \"x\": 19.4024024024024}, {\"pdf_fitted\": 0.0, \"x\": 19.44244244244244}, {\"pdf_fitted\": 0.0, \"x\": 19.48248248248248}, {\"pdf_fitted\": 0.0, \"x\": 19.52252252252252}, {\"pdf_fitted\": 0.0, \"x\": 19.56256256256256}, {\"pdf_fitted\": 0.0, \"x\": 19.6026026026026}, {\"pdf_fitted\": 0.0, \"x\": 19.64264264264264}, {\"pdf_fitted\": 0.0, \"x\": 19.68268268268268}, {\"pdf_fitted\": 0.0, \"x\": 19.72272272272272}, {\"pdf_fitted\": 0.0, \"x\": 19.762762762762762}, {\"pdf_fitted\": 0.0, \"x\": 19.802802802802802}, {\"pdf_fitted\": 0.0, \"x\": 19.842842842842842}, {\"pdf_fitted\": 0.0, \"x\": 19.882882882882882}, {\"pdf_fitted\": 0.0, \"x\": 19.922922922922922}, {\"pdf_fitted\": 0.0, \"x\": 19.962962962962962}, {\"pdf_fitted\": 0.0, \"x\": 20.003003003003002}, {\"pdf_fitted\": 0.0, \"x\": 20.043043043043042}, {\"pdf_fitted\": 0.0, \"x\": 20.083083083083082}, {\"pdf_fitted\": 0.0, \"x\": 20.123123123123122}, {\"pdf_fitted\": 0.0, \"x\": 20.163163163163162}, {\"pdf_fitted\": 0.0, \"x\": 20.203203203203202}, {\"pdf_fitted\": 0.0, \"x\": 20.243243243243242}, {\"pdf_fitted\": 0.0, \"x\": 20.283283283283282}, {\"pdf_fitted\": 0.0, \"x\": 20.323323323323322}, {\"pdf_fitted\": 0.0, \"x\": 20.363363363363362}, {\"pdf_fitted\": 0.0, \"x\": 20.403403403403402}, {\"pdf_fitted\": 0.0, \"x\": 20.443443443443442}, {\"pdf_fitted\": 0.0, \"x\": 20.483483483483482}, {\"pdf_fitted\": 0.0, \"x\": 20.523523523523522}, {\"pdf_fitted\": 0.0, \"x\": 20.563563563563562}, {\"pdf_fitted\": 0.0, \"x\": 20.603603603603602}, {\"pdf_fitted\": 0.0, \"x\": 20.643643643643642}, {\"pdf_fitted\": 0.0, \"x\": 20.683683683683682}, {\"pdf_fitted\": 0.0, \"x\": 20.723723723723722}, {\"pdf_fitted\": 0.0, \"x\": 20.763763763763762}, {\"pdf_fitted\": 0.0, \"x\": 20.803803803803802}, {\"pdf_fitted\": 0.0, \"x\": 20.843843843843842}, {\"pdf_fitted\": 0.0, \"x\": 20.883883883883883}, {\"pdf_fitted\": 0.0, \"x\": 20.923923923923923}, {\"pdf_fitted\": 0.0, \"x\": 20.963963963963963}, {\"pdf_fitted\": 0.0, \"x\": 21.004004004004003}, {\"pdf_fitted\": 0.0, \"x\": 21.044044044044043}, {\"pdf_fitted\": 0.0, \"x\": 21.084084084084083}, {\"pdf_fitted\": 0.0, \"x\": 21.124124124124123}, {\"pdf_fitted\": 0.0, \"x\": 21.164164164164163}, {\"pdf_fitted\": 0.0, \"x\": 21.204204204204203}, {\"pdf_fitted\": 0.0, \"x\": 21.244244244244243}, {\"pdf_fitted\": 0.0, \"x\": 21.284284284284283}, {\"pdf_fitted\": 0.0, \"x\": 21.324324324324323}, {\"pdf_fitted\": 0.0, \"x\": 21.364364364364363}, {\"pdf_fitted\": 0.0, \"x\": 21.404404404404403}, {\"pdf_fitted\": 0.0, \"x\": 21.444444444444443}, {\"pdf_fitted\": 0.0, \"x\": 21.484484484484483}, {\"pdf_fitted\": 0.0, \"x\": 21.524524524524523}, {\"pdf_fitted\": 0.0, \"x\": 21.564564564564563}, {\"pdf_fitted\": 0.0, \"x\": 21.604604604604603}, {\"pdf_fitted\": 0.0, \"x\": 21.644644644644643}, {\"pdf_fitted\": 0.0, \"x\": 21.684684684684683}, {\"pdf_fitted\": 0.0, \"x\": 21.724724724724723}, {\"pdf_fitted\": 0.0, \"x\": 21.764764764764763}, {\"pdf_fitted\": 0.0, \"x\": 21.804804804804803}, {\"pdf_fitted\": 0.0, \"x\": 21.844844844844843}, {\"pdf_fitted\": 0.0, \"x\": 21.884884884884883}, {\"pdf_fitted\": 0.0, \"x\": 21.924924924924923}, {\"pdf_fitted\": 0.0, \"x\": 21.964964964964963}, {\"pdf_fitted\": 0.0, \"x\": 22.005005005005003}, {\"pdf_fitted\": 0.0, \"x\": 22.045045045045043}, {\"pdf_fitted\": 0.0, \"x\": 22.085085085085083}, {\"pdf_fitted\": 0.0, \"x\": 22.125125125125123}, {\"pdf_fitted\": 0.0, \"x\": 22.165165165165163}, {\"pdf_fitted\": 0.0, \"x\": 22.205205205205203}, {\"pdf_fitted\": 0.0, \"x\": 22.245245245245243}, {\"pdf_fitted\": 0.0, \"x\": 22.285285285285283}, {\"pdf_fitted\": 0.0, \"x\": 22.325325325325323}, {\"pdf_fitted\": 0.0, \"x\": 22.365365365365363}, {\"pdf_fitted\": 0.0, \"x\": 22.405405405405403}, {\"pdf_fitted\": 0.0, \"x\": 22.445445445445444}, {\"pdf_fitted\": 0.0, \"x\": 22.485485485485484}, {\"pdf_fitted\": 0.0, \"x\": 22.525525525525524}, {\"pdf_fitted\": 0.0, \"x\": 22.565565565565564}, {\"pdf_fitted\": 0.0, \"x\": 22.605605605605604}, {\"pdf_fitted\": 0.0, \"x\": 22.645645645645644}, {\"pdf_fitted\": 0.0, \"x\": 22.685685685685684}, {\"pdf_fitted\": 0.0, \"x\": 22.725725725725724}, {\"pdf_fitted\": 0.0, \"x\": 22.765765765765764}, {\"pdf_fitted\": 0.0, \"x\": 22.805805805805804}, {\"pdf_fitted\": 0.0, \"x\": 22.845845845845844}, {\"pdf_fitted\": 0.0, \"x\": 22.885885885885884}, {\"pdf_fitted\": 0.0, \"x\": 22.925925925925924}, {\"pdf_fitted\": 0.0, \"x\": 22.965965965965964}, {\"pdf_fitted\": 0.0, \"x\": 23.006006006006004}, {\"pdf_fitted\": 0.0, \"x\": 23.046046046046044}, {\"pdf_fitted\": 0.0, \"x\": 23.086086086086084}, {\"pdf_fitted\": 0.0, \"x\": 23.126126126126124}, {\"pdf_fitted\": 0.0, \"x\": 23.166166166166164}, {\"pdf_fitted\": 0.0, \"x\": 23.206206206206204}, {\"pdf_fitted\": 0.0, \"x\": 23.246246246246244}, {\"pdf_fitted\": 0.0, \"x\": 23.286286286286284}, {\"pdf_fitted\": 0.0, \"x\": 23.326326326326324}, {\"pdf_fitted\": 0.0, \"x\": 23.366366366366364}, {\"pdf_fitted\": 0.0, \"x\": 23.406406406406404}, {\"pdf_fitted\": 0.0, \"x\": 23.446446446446448}, {\"pdf_fitted\": 0.0, \"x\": 23.486486486486488}, {\"pdf_fitted\": 0.0, \"x\": 23.526526526526528}, {\"pdf_fitted\": 0.0, \"x\": 23.566566566566568}, {\"pdf_fitted\": 0.0, \"x\": 23.606606606606608}, {\"pdf_fitted\": 0.0, \"x\": 23.646646646646648}, {\"pdf_fitted\": 0.0, \"x\": 23.686686686686688}, {\"pdf_fitted\": 0.0, \"x\": 23.726726726726728}, {\"pdf_fitted\": 0.0, \"x\": 23.766766766766768}, {\"pdf_fitted\": 0.0, \"x\": 23.806806806806808}, {\"pdf_fitted\": 0.0, \"x\": 23.846846846846848}, {\"pdf_fitted\": 0.0, \"x\": 23.886886886886888}, {\"pdf_fitted\": 0.0, \"x\": 23.926926926926928}, {\"pdf_fitted\": 0.0, \"x\": 23.966966966966968}, {\"pdf_fitted\": 0.0, \"x\": 24.007007007007008}, {\"pdf_fitted\": 0.0, \"x\": 24.047047047047048}, {\"pdf_fitted\": 0.0, \"x\": 24.087087087087088}, {\"pdf_fitted\": 0.0, \"x\": 24.127127127127128}, {\"pdf_fitted\": 0.0, \"x\": 24.167167167167168}, {\"pdf_fitted\": 0.0, \"x\": 24.207207207207208}, {\"pdf_fitted\": 0.0, \"x\": 24.24724724724725}, {\"pdf_fitted\": 0.0, \"x\": 24.28728728728729}, {\"pdf_fitted\": 0.0, \"x\": 24.32732732732733}, {\"pdf_fitted\": 0.0, \"x\": 24.36736736736737}, {\"pdf_fitted\": 0.0, \"x\": 24.40740740740741}, {\"pdf_fitted\": 0.0, \"x\": 24.44744744744745}, {\"pdf_fitted\": 0.0, \"x\": 24.48748748748749}, {\"pdf_fitted\": 0.0, \"x\": 24.52752752752753}, {\"pdf_fitted\": 0.0, \"x\": 24.56756756756757}, {\"pdf_fitted\": 0.0, \"x\": 24.60760760760761}, {\"pdf_fitted\": 0.0, \"x\": 24.64764764764765}, {\"pdf_fitted\": 0.0, \"x\": 24.68768768768769}, {\"pdf_fitted\": 0.0, \"x\": 24.72772772772773}, {\"pdf_fitted\": 0.0, \"x\": 24.76776776776777}, {\"pdf_fitted\": 0.0, \"x\": 24.80780780780781}, {\"pdf_fitted\": 0.0, \"x\": 24.84784784784785}, {\"pdf_fitted\": 0.0, \"x\": 24.88788788788789}, {\"pdf_fitted\": 0.0, \"x\": 24.92792792792793}, {\"pdf_fitted\": 0.0, \"x\": 24.96796796796797}, {\"pdf_fitted\": 0.0, \"x\": 25.00800800800801}, {\"pdf_fitted\": 0.0, \"x\": 25.04804804804805}, {\"pdf_fitted\": 0.0, \"x\": 25.08808808808809}, {\"pdf_fitted\": 0.0, \"x\": 25.12812812812813}, {\"pdf_fitted\": 0.0, \"x\": 25.16816816816817}, {\"pdf_fitted\": 0.0, \"x\": 25.20820820820821}, {\"pdf_fitted\": 0.0, \"x\": 25.24824824824825}, {\"pdf_fitted\": 0.0, \"x\": 25.28828828828829}, {\"pdf_fitted\": 0.0, \"x\": 25.32832832832833}, {\"pdf_fitted\": 0.0, \"x\": 25.36836836836837}, {\"pdf_fitted\": 0.0, \"x\": 25.40840840840841}, {\"pdf_fitted\": 0.0, \"x\": 25.44844844844845}, {\"pdf_fitted\": 0.0, \"x\": 25.48848848848849}, {\"pdf_fitted\": 0.0, \"x\": 25.52852852852853}, {\"pdf_fitted\": 0.0, \"x\": 25.56856856856857}, {\"pdf_fitted\": 0.0, \"x\": 25.60860860860861}, {\"pdf_fitted\": 0.0, \"x\": 25.64864864864865}, {\"pdf_fitted\": 0.0, \"x\": 25.68868868868869}, {\"pdf_fitted\": 0.0, \"x\": 25.72872872872873}, {\"pdf_fitted\": 0.0, \"x\": 25.76876876876877}, {\"pdf_fitted\": 0.0, \"x\": 25.80880880880881}, {\"pdf_fitted\": 0.0, \"x\": 25.84884884884885}, {\"pdf_fitted\": 0.0, \"x\": 25.88888888888889}, {\"pdf_fitted\": 0.0, \"x\": 25.92892892892893}, {\"pdf_fitted\": 0.0, \"x\": 25.96896896896897}, {\"pdf_fitted\": 0.0, \"x\": 26.00900900900901}, {\"pdf_fitted\": 0.0, \"x\": 26.04904904904905}, {\"pdf_fitted\": 0.0, \"x\": 26.08908908908909}, {\"pdf_fitted\": 0.0, \"x\": 26.12912912912913}, {\"pdf_fitted\": 0.0, \"x\": 26.16916916916917}, {\"pdf_fitted\": 0.0, \"x\": 26.20920920920921}, {\"pdf_fitted\": 0.0, \"x\": 26.24924924924925}, {\"pdf_fitted\": 0.0, \"x\": 26.28928928928929}, {\"pdf_fitted\": 0.0, \"x\": 26.32932932932933}, {\"pdf_fitted\": 0.0, \"x\": 26.36936936936937}, {\"pdf_fitted\": 0.0, \"x\": 26.40940940940941}, {\"pdf_fitted\": 0.0, \"x\": 26.44944944944945}, {\"pdf_fitted\": 0.0, \"x\": 26.48948948948949}, {\"pdf_fitted\": 0.0, \"x\": 26.52952952952953}, {\"pdf_fitted\": 0.0, \"x\": 26.56956956956957}, {\"pdf_fitted\": 0.0, \"x\": 26.60960960960961}, {\"pdf_fitted\": 0.0, \"x\": 26.64964964964965}, {\"pdf_fitted\": 0.0, \"x\": 26.68968968968969}, {\"pdf_fitted\": 0.0, \"x\": 26.72972972972973}, {\"pdf_fitted\": 0.0, \"x\": 26.76976976976977}, {\"pdf_fitted\": 0.0, \"x\": 26.80980980980981}, {\"pdf_fitted\": 0.0, \"x\": 26.84984984984985}, {\"pdf_fitted\": 0.0, \"x\": 26.88988988988989}, {\"pdf_fitted\": 0.0, \"x\": 26.92992992992993}, {\"pdf_fitted\": 0.0, \"x\": 26.96996996996997}, {\"pdf_fitted\": 0.0, \"x\": 27.01001001001001}, {\"pdf_fitted\": 0.0, \"x\": 27.05005005005005}, {\"pdf_fitted\": 0.0, \"x\": 27.09009009009009}, {\"pdf_fitted\": 0.0, \"x\": 27.13013013013013}, {\"pdf_fitted\": 0.0, \"x\": 27.17017017017017}, {\"pdf_fitted\": 0.0, \"x\": 27.21021021021021}, {\"pdf_fitted\": 0.0, \"x\": 27.25025025025025}, {\"pdf_fitted\": 0.0, \"x\": 27.29029029029029}, {\"pdf_fitted\": 0.0, \"x\": 27.33033033033033}, {\"pdf_fitted\": 0.0, \"x\": 27.37037037037037}, {\"pdf_fitted\": 0.0, \"x\": 27.41041041041041}, {\"pdf_fitted\": 0.0, \"x\": 27.45045045045045}, {\"pdf_fitted\": 0.0, \"x\": 27.49049049049049}, {\"pdf_fitted\": 0.0, \"x\": 27.53053053053053}, {\"pdf_fitted\": 0.0, \"x\": 27.57057057057057}, {\"pdf_fitted\": 0.0, \"x\": 27.61061061061061}, {\"pdf_fitted\": 0.0, \"x\": 27.65065065065065}, {\"pdf_fitted\": 0.0, \"x\": 27.69069069069069}, {\"pdf_fitted\": 0.0, \"x\": 27.73073073073073}, {\"pdf_fitted\": 0.0, \"x\": 27.77077077077077}, {\"pdf_fitted\": 0.0, \"x\": 27.81081081081081}, {\"pdf_fitted\": 0.0, \"x\": 27.85085085085085}, {\"pdf_fitted\": 0.0, \"x\": 27.89089089089089}, {\"pdf_fitted\": 0.0, \"x\": 27.93093093093093}, {\"pdf_fitted\": 0.0, \"x\": 27.97097097097097}, {\"pdf_fitted\": 0.0, \"x\": 28.01101101101101}, {\"pdf_fitted\": 0.0, \"x\": 28.05105105105105}, {\"pdf_fitted\": 0.0, \"x\": 28.09109109109109}, {\"pdf_fitted\": 0.0, \"x\": 28.13113113113113}, {\"pdf_fitted\": 0.0, \"x\": 28.17117117117117}, {\"pdf_fitted\": 0.0, \"x\": 28.21121121121121}, {\"pdf_fitted\": 0.0, \"x\": 28.25125125125125}, {\"pdf_fitted\": 0.0, \"x\": 28.29129129129129}, {\"pdf_fitted\": 0.0, \"x\": 28.33133133133133}, {\"pdf_fitted\": 0.0, \"x\": 28.37137137137137}, {\"pdf_fitted\": 0.0, \"x\": 28.41141141141141}, {\"pdf_fitted\": 0.0, \"x\": 28.45145145145145}, {\"pdf_fitted\": 0.0, \"x\": 28.49149149149149}, {\"pdf_fitted\": 0.0, \"x\": 28.53153153153153}, {\"pdf_fitted\": 0.0, \"x\": 28.57157157157157}, {\"pdf_fitted\": 0.0, \"x\": 28.61161161161161}, {\"pdf_fitted\": 0.0, \"x\": 28.65165165165165}, {\"pdf_fitted\": 0.0, \"x\": 28.69169169169169}, {\"pdf_fitted\": 0.0, \"x\": 28.73173173173173}, {\"pdf_fitted\": 0.0, \"x\": 28.77177177177177}, {\"pdf_fitted\": 0.0, \"x\": 28.81181181181181}, {\"pdf_fitted\": 0.0, \"x\": 28.85185185185185}, {\"pdf_fitted\": 0.0, \"x\": 28.89189189189189}, {\"pdf_fitted\": 0.0, \"x\": 28.93193193193193}, {\"pdf_fitted\": 0.0, \"x\": 28.97197197197197}, {\"pdf_fitted\": 0.0, \"x\": 29.01201201201201}, {\"pdf_fitted\": 0.0, \"x\": 29.05205205205205}, {\"pdf_fitted\": 0.0, \"x\": 29.09209209209209}, {\"pdf_fitted\": 0.0, \"x\": 29.13213213213213}, {\"pdf_fitted\": 0.0, \"x\": 29.17217217217217}, {\"pdf_fitted\": 0.0, \"x\": 29.21221221221221}, {\"pdf_fitted\": 0.0, \"x\": 29.25225225225225}, {\"pdf_fitted\": 0.0, \"x\": 29.29229229229229}, {\"pdf_fitted\": 0.0, \"x\": 29.33233233233233}, {\"pdf_fitted\": 0.0, \"x\": 29.37237237237237}, {\"pdf_fitted\": 0.0, \"x\": 29.41241241241241}, {\"pdf_fitted\": 0.0, \"x\": 29.45245245245245}, {\"pdf_fitted\": 0.0, \"x\": 29.49249249249249}, {\"pdf_fitted\": 0.0, \"x\": 29.53253253253253}, {\"pdf_fitted\": 0.0, \"x\": 29.57257257257257}, {\"pdf_fitted\": 0.0, \"x\": 29.61261261261261}, {\"pdf_fitted\": 0.0, \"x\": 29.65265265265265}, {\"pdf_fitted\": 0.0, \"x\": 29.69269269269269}, {\"pdf_fitted\": 0.0, \"x\": 29.73273273273273}, {\"pdf_fitted\": 0.0, \"x\": 29.772772772772772}, {\"pdf_fitted\": 0.0, \"x\": 29.812812812812812}, {\"pdf_fitted\": 0.0, \"x\": 29.852852852852855}, {\"pdf_fitted\": 0.0, \"x\": 29.892892892892895}, {\"pdf_fitted\": 0.0, \"x\": 29.932932932932935}, {\"pdf_fitted\": 0.0, \"x\": 29.972972972972975}, {\"pdf_fitted\": 0.0, \"x\": 30.013013013013015}, {\"pdf_fitted\": 0.0, \"x\": 30.053053053053056}, {\"pdf_fitted\": 0.0, \"x\": 30.093093093093096}, {\"pdf_fitted\": 0.0, \"x\": 30.133133133133136}, {\"pdf_fitted\": 0.0, \"x\": 30.173173173173176}, {\"pdf_fitted\": 0.0, \"x\": 30.213213213213216}, {\"pdf_fitted\": 0.0, \"x\": 30.253253253253256}, {\"pdf_fitted\": 0.0, \"x\": 30.293293293293296}, {\"pdf_fitted\": 0.0, \"x\": 30.333333333333336}, {\"pdf_fitted\": 0.0, \"x\": 30.373373373373376}, {\"pdf_fitted\": 0.0, \"x\": 30.413413413413416}, {\"pdf_fitted\": 0.0, \"x\": 30.453453453453456}, {\"pdf_fitted\": 0.0, \"x\": 30.493493493493496}, {\"pdf_fitted\": 0.0, \"x\": 30.533533533533536}, {\"pdf_fitted\": 0.0, \"x\": 30.573573573573576}, {\"pdf_fitted\": 0.0, \"x\": 30.613613613613616}, {\"pdf_fitted\": 0.0, \"x\": 30.653653653653656}, {\"pdf_fitted\": 0.0, \"x\": 30.693693693693696}, {\"pdf_fitted\": 0.0, \"x\": 30.733733733733736}, {\"pdf_fitted\": 0.0, \"x\": 30.773773773773776}, {\"pdf_fitted\": 0.0, \"x\": 30.813813813813816}, {\"pdf_fitted\": 0.0, \"x\": 30.853853853853856}, {\"pdf_fitted\": 0.0, \"x\": 30.893893893893896}, {\"pdf_fitted\": 0.0, \"x\": 30.933933933933936}, {\"pdf_fitted\": 0.0, \"x\": 30.973973973973976}, {\"pdf_fitted\": 0.0, \"x\": 31.014014014014016}, {\"pdf_fitted\": 0.0, \"x\": 31.054054054054056}, {\"pdf_fitted\": 0.0, \"x\": 31.094094094094096}, {\"pdf_fitted\": 0.0, \"x\": 31.134134134134136}, {\"pdf_fitted\": 0.0, \"x\": 31.174174174174176}, {\"pdf_fitted\": 0.0, \"x\": 31.214214214214216}, {\"pdf_fitted\": 0.0, \"x\": 31.254254254254256}, {\"pdf_fitted\": 0.0, \"x\": 31.294294294294296}, {\"pdf_fitted\": 0.0, \"x\": 31.334334334334336}, {\"pdf_fitted\": 0.0, \"x\": 31.374374374374376}, {\"pdf_fitted\": 0.0, \"x\": 31.414414414414416}, {\"pdf_fitted\": 0.0, \"x\": 31.454454454454456}, {\"pdf_fitted\": 0.0, \"x\": 31.494494494494496}, {\"pdf_fitted\": 0.0, \"x\": 31.534534534534536}, {\"pdf_fitted\": 0.0, \"x\": 31.574574574574577}, {\"pdf_fitted\": 0.0, \"x\": 31.614614614614617}, {\"pdf_fitted\": 0.0, \"x\": 31.654654654654657}, {\"pdf_fitted\": 0.0, \"x\": 31.694694694694697}, {\"pdf_fitted\": 0.0, \"x\": 31.734734734734737}, {\"pdf_fitted\": 0.0, \"x\": 31.774774774774777}, {\"pdf_fitted\": 0.0, \"x\": 31.814814814814817}, {\"pdf_fitted\": 0.0, \"x\": 31.854854854854857}, {\"pdf_fitted\": 0.0, \"x\": 31.894894894894897}, {\"pdf_fitted\": 0.0, \"x\": 31.934934934934937}, {\"pdf_fitted\": 0.0, \"x\": 31.974974974974977}, {\"pdf_fitted\": 0.0, \"x\": 32.01501501501502}, {\"pdf_fitted\": 0.0, \"x\": 32.05505505505506}, {\"pdf_fitted\": 0.0, \"x\": 32.0950950950951}, {\"pdf_fitted\": 0.0, \"x\": 32.13513513513514}, {\"pdf_fitted\": 0.0, \"x\": 32.17517517517518}, {\"pdf_fitted\": 0.0, \"x\": 32.21521521521522}, {\"pdf_fitted\": 0.0, \"x\": 32.25525525525526}, {\"pdf_fitted\": 0.0, \"x\": 32.2952952952953}, {\"pdf_fitted\": 0.0, \"x\": 32.33533533533534}, {\"pdf_fitted\": 0.0, \"x\": 32.37537537537538}, {\"pdf_fitted\": 0.0, \"x\": 32.41541541541542}, {\"pdf_fitted\": 0.0, \"x\": 32.45545545545546}, {\"pdf_fitted\": 0.0, \"x\": 32.4954954954955}, {\"pdf_fitted\": 0.0, \"x\": 32.53553553553554}, {\"pdf_fitted\": 0.0, \"x\": 32.57557557557558}, {\"pdf_fitted\": 0.0, \"x\": 32.61561561561562}, {\"pdf_fitted\": 0.0, \"x\": 32.65565565565566}, {\"pdf_fitted\": 0.0, \"x\": 32.6956956956957}, {\"pdf_fitted\": 0.0, \"x\": 32.73573573573574}, {\"pdf_fitted\": 0.0, \"x\": 32.77577577577578}, {\"pdf_fitted\": 0.0, \"x\": 32.81581581581582}, {\"pdf_fitted\": 0.0, \"x\": 32.85585585585586}, {\"pdf_fitted\": 0.0, \"x\": 32.8958958958959}, {\"pdf_fitted\": 0.0, \"x\": 32.93593593593594}, {\"pdf_fitted\": 0.0, \"x\": 32.97597597597598}, {\"pdf_fitted\": 0.0, \"x\": 33.01601601601602}, {\"pdf_fitted\": 0.0, \"x\": 33.05605605605606}, {\"pdf_fitted\": 0.0, \"x\": 33.0960960960961}, {\"pdf_fitted\": 0.0, \"x\": 33.13613613613614}, {\"pdf_fitted\": 0.0, \"x\": 33.17617617617618}, {\"pdf_fitted\": 0.0, \"x\": 33.21621621621622}, {\"pdf_fitted\": 0.0, \"x\": 33.25625625625626}, {\"pdf_fitted\": 0.0, \"x\": 33.2962962962963}, {\"pdf_fitted\": 0.0, \"x\": 33.33633633633634}, {\"pdf_fitted\": 0.0, \"x\": 33.37637637637638}, {\"pdf_fitted\": 0.0, \"x\": 33.41641641641642}, {\"pdf_fitted\": 0.0, \"x\": 33.45645645645646}, {\"pdf_fitted\": 0.0, \"x\": 33.4964964964965}, {\"pdf_fitted\": 0.0, \"x\": 33.53653653653654}, {\"pdf_fitted\": 0.0, \"x\": 33.57657657657658}, {\"pdf_fitted\": 0.0, \"x\": 33.61661661661662}, {\"pdf_fitted\": 0.0, \"x\": 33.65665665665666}, {\"pdf_fitted\": 0.0, \"x\": 33.6966966966967}, {\"pdf_fitted\": 0.0, \"x\": 33.73673673673674}, {\"pdf_fitted\": 0.0, \"x\": 33.77677677677678}, {\"pdf_fitted\": 0.0, \"x\": 33.81681681681682}, {\"pdf_fitted\": 0.0, \"x\": 33.85685685685686}, {\"pdf_fitted\": 0.0, \"x\": 33.8968968968969}, {\"pdf_fitted\": 0.0, \"x\": 33.93693693693694}, {\"pdf_fitted\": 0.0, \"x\": 33.97697697697698}, {\"pdf_fitted\": 0.0, \"x\": 34.01701701701702}, {\"pdf_fitted\": 0.0, \"x\": 34.05705705705706}, {\"pdf_fitted\": 0.0, \"x\": 34.0970970970971}, {\"pdf_fitted\": 0.0, \"x\": 34.13713713713714}, {\"pdf_fitted\": 0.0, \"x\": 34.17717717717718}, {\"pdf_fitted\": 0.0, \"x\": 34.21721721721722}, {\"pdf_fitted\": 0.0, \"x\": 34.25725725725726}, {\"pdf_fitted\": 0.0, \"x\": 34.2972972972973}, {\"pdf_fitted\": 0.0, \"x\": 34.33733733733734}, {\"pdf_fitted\": 0.0, \"x\": 34.37737737737738}, {\"pdf_fitted\": 0.0, \"x\": 34.41741741741742}, {\"pdf_fitted\": 0.0, \"x\": 34.45745745745746}, {\"pdf_fitted\": 0.0, \"x\": 34.4974974974975}, {\"pdf_fitted\": 0.0, \"x\": 34.53753753753754}, {\"pdf_fitted\": 0.0, \"x\": 34.57757757757758}, {\"pdf_fitted\": 0.0, \"x\": 34.61761761761762}, {\"pdf_fitted\": 0.0, \"x\": 34.65765765765766}, {\"pdf_fitted\": 0.0, \"x\": 34.6976976976977}, {\"pdf_fitted\": 0.0, \"x\": 34.73773773773774}, {\"pdf_fitted\": 0.0, \"x\": 34.77777777777778}, {\"pdf_fitted\": 0.0, \"x\": 34.81781781781782}, {\"pdf_fitted\": 0.0, \"x\": 34.85785785785786}, {\"pdf_fitted\": 0.0, \"x\": 34.8978978978979}, {\"pdf_fitted\": 0.0, \"x\": 34.93793793793794}, {\"pdf_fitted\": 0.0, \"x\": 34.97797797797798}, {\"pdf_fitted\": 0.0, \"x\": 35.01801801801802}, {\"pdf_fitted\": 0.0, \"x\": 35.05805805805806}, {\"pdf_fitted\": 0.0, \"x\": 35.0980980980981}, {\"pdf_fitted\": 0.0, \"x\": 35.13813813813814}, {\"pdf_fitted\": 0.0, \"x\": 35.17817817817818}, {\"pdf_fitted\": 0.0, \"x\": 35.21821821821822}, {\"pdf_fitted\": 0.0, \"x\": 35.25825825825826}, {\"pdf_fitted\": 0.0, \"x\": 35.2982982982983}, {\"pdf_fitted\": 0.0, \"x\": 35.33833833833834}, {\"pdf_fitted\": 0.0, \"x\": 35.37837837837838}, {\"pdf_fitted\": 0.0, \"x\": 35.41841841841842}, {\"pdf_fitted\": 0.0, \"x\": 35.45845845845846}, {\"pdf_fitted\": 0.0, \"x\": 35.4984984984985}, {\"pdf_fitted\": 0.0, \"x\": 35.53853853853854}, {\"pdf_fitted\": 0.0, \"x\": 35.57857857857858}, {\"pdf_fitted\": 0.0, \"x\": 35.61861861861862}, {\"pdf_fitted\": 0.0, \"x\": 35.65865865865866}, {\"pdf_fitted\": 0.0, \"x\": 35.6986986986987}, {\"pdf_fitted\": 0.0, \"x\": 35.73873873873874}, {\"pdf_fitted\": 0.0, \"x\": 35.77877877877878}, {\"pdf_fitted\": 0.0, \"x\": 35.81881881881882}, {\"pdf_fitted\": 0.0, \"x\": 35.85885885885886}, {\"pdf_fitted\": 0.0, \"x\": 35.8988988988989}, {\"pdf_fitted\": 0.0, \"x\": 35.93893893893894}, {\"pdf_fitted\": 0.0, \"x\": 35.97897897897898}, {\"pdf_fitted\": 0.0, \"x\": 36.01901901901902}, {\"pdf_fitted\": 0.0, \"x\": 36.05905905905906}, {\"pdf_fitted\": 0.0, \"x\": 36.0990990990991}, {\"pdf_fitted\": 0.0, \"x\": 36.13913913913914}, {\"pdf_fitted\": 0.0, \"x\": 36.17917917917918}, {\"pdf_fitted\": 0.0, \"x\": 36.21921921921922}, {\"pdf_fitted\": 0.0, \"x\": 36.25925925925926}, {\"pdf_fitted\": 0.0, \"x\": 36.2992992992993}, {\"pdf_fitted\": 0.0, \"x\": 36.33933933933934}, {\"pdf_fitted\": 0.0, \"x\": 36.37937937937938}, {\"pdf_fitted\": 0.0, \"x\": 36.41941941941942}, {\"pdf_fitted\": 0.0, \"x\": 36.45945945945946}, {\"pdf_fitted\": 0.0, \"x\": 36.4994994994995}, {\"pdf_fitted\": 0.0, \"x\": 36.53953953953954}, {\"pdf_fitted\": 0.0, \"x\": 36.57957957957958}, {\"pdf_fitted\": 0.0, \"x\": 36.61961961961962}, {\"pdf_fitted\": 0.0, \"x\": 36.65965965965966}, {\"pdf_fitted\": 0.0, \"x\": 36.6996996996997}, {\"pdf_fitted\": 0.0, \"x\": 36.73973973973974}, {\"pdf_fitted\": 0.0, \"x\": 36.77977977977978}, {\"pdf_fitted\": 0.0, \"x\": 36.81981981981982}, {\"pdf_fitted\": 0.0, \"x\": 36.85985985985986}, {\"pdf_fitted\": 0.0, \"x\": 36.8998998998999}, {\"pdf_fitted\": 0.0, \"x\": 36.93993993993994}, {\"pdf_fitted\": 0.0, \"x\": 36.97997997997998}, {\"pdf_fitted\": 0.0, \"x\": 37.02002002002002}, {\"pdf_fitted\": 0.0, \"x\": 37.06006006006006}, {\"pdf_fitted\": 0.0, \"x\": 37.1001001001001}, {\"pdf_fitted\": 0.0, \"x\": 37.14014014014014}, {\"pdf_fitted\": 0.0, \"x\": 37.18018018018018}, {\"pdf_fitted\": 0.0, \"x\": 37.22022022022022}, {\"pdf_fitted\": 0.0, \"x\": 37.26026026026026}, {\"pdf_fitted\": 0.0, \"x\": 37.3003003003003}, {\"pdf_fitted\": 0.0, \"x\": 37.34034034034034}, {\"pdf_fitted\": 0.0, \"x\": 37.38038038038038}, {\"pdf_fitted\": 0.0, \"x\": 37.42042042042042}, {\"pdf_fitted\": 0.0, \"x\": 37.46046046046046}, {\"pdf_fitted\": 0.0, \"x\": 37.5005005005005}, {\"pdf_fitted\": 0.0, \"x\": 37.54054054054054}, {\"pdf_fitted\": 0.0, \"x\": 37.58058058058058}, {\"pdf_fitted\": 0.0, \"x\": 37.62062062062062}, {\"pdf_fitted\": 0.0, \"x\": 37.66066066066066}, {\"pdf_fitted\": 0.0, \"x\": 37.7007007007007}, {\"pdf_fitted\": 0.0, \"x\": 37.74074074074074}, {\"pdf_fitted\": 0.0, \"x\": 37.78078078078078}, {\"pdf_fitted\": 0.0, \"x\": 37.82082082082082}, {\"pdf_fitted\": 0.0, \"x\": 37.86086086086086}, {\"pdf_fitted\": 0.0, \"x\": 37.9009009009009}, {\"pdf_fitted\": 0.0, \"x\": 37.94094094094094}, {\"pdf_fitted\": 0.0, \"x\": 37.98098098098098}, {\"pdf_fitted\": 0.0, \"x\": 38.02102102102102}, {\"pdf_fitted\": 0.0, \"x\": 38.06106106106106}, {\"pdf_fitted\": 0.0, \"x\": 38.1011011011011}, {\"pdf_fitted\": 0.0, \"x\": 38.14114114114114}, {\"pdf_fitted\": 0.0, \"x\": 38.18118118118118}, {\"pdf_fitted\": 0.0, \"x\": 38.22122122122122}, {\"pdf_fitted\": 0.0, \"x\": 38.26126126126126}, {\"pdf_fitted\": 0.0, \"x\": 38.3013013013013}, {\"pdf_fitted\": 0.0, \"x\": 38.34134134134134}, {\"pdf_fitted\": 0.0, \"x\": 38.38138138138138}, {\"pdf_fitted\": 0.0, \"x\": 38.42142142142142}, {\"pdf_fitted\": 0.0, \"x\": 38.46146146146146}, {\"pdf_fitted\": 0.0, \"x\": 38.5015015015015}, {\"pdf_fitted\": 0.0, \"x\": 38.54154154154154}, {\"pdf_fitted\": 0.0, \"x\": 38.58158158158158}, {\"pdf_fitted\": 0.0, \"x\": 38.62162162162162}, {\"pdf_fitted\": 0.0, \"x\": 38.66166166166166}, {\"pdf_fitted\": 0.0, \"x\": 38.7017017017017}, {\"pdf_fitted\": 0.0, \"x\": 38.74174174174174}, {\"pdf_fitted\": 0.0, \"x\": 38.78178178178178}, {\"pdf_fitted\": 0.0, \"x\": 38.82182182182182}, {\"pdf_fitted\": 0.0, \"x\": 38.86186186186186}, {\"pdf_fitted\": 0.0, \"x\": 38.9019019019019}, {\"pdf_fitted\": 0.0, \"x\": 38.94194194194194}, {\"pdf_fitted\": 0.0, \"x\": 38.98198198198198}, {\"pdf_fitted\": 0.0, \"x\": 39.02202202202202}, {\"pdf_fitted\": 0.0, \"x\": 39.06206206206206}, {\"pdf_fitted\": 0.0, \"x\": 39.1021021021021}, {\"pdf_fitted\": 0.0, \"x\": 39.14214214214214}, {\"pdf_fitted\": 0.0, \"x\": 39.18218218218218}, {\"pdf_fitted\": 0.0, \"x\": 39.22222222222222}, {\"pdf_fitted\": 0.0, \"x\": 39.26226226226226}, {\"pdf_fitted\": 0.0, \"x\": 39.3023023023023}, {\"pdf_fitted\": 0.0, \"x\": 39.34234234234234}, {\"pdf_fitted\": 0.0, \"x\": 39.38238238238238}, {\"pdf_fitted\": 0.0, \"x\": 39.42242242242242}, {\"pdf_fitted\": 0.0, \"x\": 39.46246246246246}, {\"pdf_fitted\": 0.0, \"x\": 39.5025025025025}, {\"pdf_fitted\": 0.0, \"x\": 39.54254254254254}, {\"pdf_fitted\": 0.0, \"x\": 39.58258258258258}, {\"pdf_fitted\": 0.0, \"x\": 39.62262262262262}, {\"pdf_fitted\": 0.0, \"x\": 39.66266266266266}, {\"pdf_fitted\": 0.0, \"x\": 39.7027027027027}, {\"pdf_fitted\": 0.0, \"x\": 39.74274274274274}, {\"pdf_fitted\": 0.0, \"x\": 39.78278278278278}, {\"pdf_fitted\": 0.0, \"x\": 39.82282282282282}, {\"pdf_fitted\": 0.0, \"x\": 39.86286286286286}, {\"pdf_fitted\": 0.0, \"x\": 39.9029029029029}, {\"pdf_fitted\": 0.0, \"x\": 39.94294294294294}, {\"pdf_fitted\": 0.0, \"x\": 39.98298298298298}, {\"pdf_fitted\": 0.0, \"x\": 40.02302302302302}, {\"pdf_fitted\": 0.0, \"x\": 40.06306306306306}, {\"pdf_fitted\": 0.0, \"x\": 40.1031031031031}, {\"pdf_fitted\": 0.0, \"x\": 40.14314314314314}, {\"pdf_fitted\": 0.0, \"x\": 40.18318318318318}, {\"pdf_fitted\": 0.0, \"x\": 40.22322322322322}, {\"pdf_fitted\": 0.0, \"x\": 40.26326326326326}, {\"pdf_fitted\": 0.0, \"x\": 40.3033033033033}, {\"pdf_fitted\": 0.0, \"x\": 40.34334334334334}, {\"pdf_fitted\": 0.0, \"x\": 40.38338338338338}, {\"pdf_fitted\": 0.0, \"x\": 40.42342342342342}, {\"pdf_fitted\": 0.0, \"x\": 40.46346346346346}, {\"pdf_fitted\": 0.0, \"x\": 40.5035035035035}, {\"pdf_fitted\": 0.0, \"x\": 40.54354354354354}, {\"pdf_fitted\": 0.0, \"x\": 40.58358358358358}, {\"pdf_fitted\": 0.0, \"x\": 40.62362362362362}, {\"pdf_fitted\": 0.0, \"x\": 40.66366366366366}, {\"pdf_fitted\": 0.0, \"x\": 40.7037037037037}, {\"pdf_fitted\": 0.0, \"x\": 40.74374374374374}, {\"pdf_fitted\": 0.0, \"x\": 40.78378378378378}, {\"pdf_fitted\": 0.0, \"x\": 40.82382382382382}, {\"pdf_fitted\": 0.0, \"x\": 40.86386386386386}, {\"pdf_fitted\": 0.0, \"x\": 40.9039039039039}, {\"pdf_fitted\": 0.0, \"x\": 40.94394394394394}, {\"pdf_fitted\": 0.0, \"x\": 40.98398398398398}, {\"pdf_fitted\": 0.0, \"x\": 41.02402402402402}, {\"pdf_fitted\": 0.0, \"x\": 41.06406406406406}, {\"pdf_fitted\": 0.0, \"x\": 41.1041041041041}, {\"pdf_fitted\": 0.0, \"x\": 41.14414414414414}, {\"pdf_fitted\": 0.0, \"x\": 41.18418418418418}, {\"pdf_fitted\": 0.0, \"x\": 41.22422422422422}, {\"pdf_fitted\": 0.0, \"x\": 41.26426426426426}, {\"pdf_fitted\": 0.0, \"x\": 41.3043043043043}, {\"pdf_fitted\": 0.0, \"x\": 41.34434434434434}, {\"pdf_fitted\": 0.0, \"x\": 41.38438438438438}, {\"pdf_fitted\": 0.0, \"x\": 41.42442442442442}, {\"pdf_fitted\": 0.0, \"x\": 41.46446446446446}, {\"pdf_fitted\": 0.0, \"x\": 41.5045045045045}, {\"pdf_fitted\": 0.0, \"x\": 41.54454454454454}, {\"pdf_fitted\": 0.0, \"x\": 41.58458458458458}, {\"pdf_fitted\": 0.0, \"x\": 41.62462462462462}, {\"pdf_fitted\": 0.0, \"x\": 41.66466466466466}, {\"pdf_fitted\": 0.0, \"x\": 41.7047047047047}, {\"pdf_fitted\": 0.0, \"x\": 41.74474474474474}, {\"pdf_fitted\": 0.0, \"x\": 41.78478478478478}, {\"pdf_fitted\": 0.0, \"x\": 41.82482482482482}, {\"pdf_fitted\": 0.0, \"x\": 41.86486486486486}, {\"pdf_fitted\": 0.0, \"x\": 41.9049049049049}, {\"pdf_fitted\": 0.0, \"x\": 41.94494494494494}, {\"pdf_fitted\": 0.0, \"x\": 41.98498498498498}, {\"pdf_fitted\": 0.0, \"x\": 42.02502502502502}, {\"pdf_fitted\": 0.0, \"x\": 42.06506506506506}, {\"pdf_fitted\": 0.0, \"x\": 42.1051051051051}, {\"pdf_fitted\": 0.0, \"x\": 42.14514514514514}, {\"pdf_fitted\": 0.0, \"x\": 42.18518518518518}, {\"pdf_fitted\": 0.0, \"x\": 42.22522522522522}, {\"pdf_fitted\": 0.0, \"x\": 42.26526526526526}, {\"pdf_fitted\": 0.0, \"x\": 42.3053053053053}, {\"pdf_fitted\": 0.0, \"x\": 42.34534534534534}, {\"pdf_fitted\": 0.0, \"x\": 42.38538538538538}, {\"pdf_fitted\": 0.0, \"x\": 42.42542542542542}, {\"pdf_fitted\": 0.0, \"x\": 42.46546546546546}, {\"pdf_fitted\": 0.0, \"x\": 42.5055055055055}, {\"pdf_fitted\": 0.0, \"x\": 42.545545545545544}, {\"pdf_fitted\": 0.0, \"x\": 42.585585585585584}, {\"pdf_fitted\": 0.0, \"x\": 42.625625625625624}, {\"pdf_fitted\": 0.0, \"x\": 42.66566566566567}, {\"pdf_fitted\": 0.0, \"x\": 42.70570570570571}, {\"pdf_fitted\": 0.0, \"x\": 42.74574574574575}, {\"pdf_fitted\": 0.0, \"x\": 42.78578578578579}, {\"pdf_fitted\": 0.0, \"x\": 42.82582582582583}, {\"pdf_fitted\": 0.0, \"x\": 42.86586586586587}, {\"pdf_fitted\": 0.0, \"x\": 42.90590590590591}, {\"pdf_fitted\": 0.0, \"x\": 42.94594594594595}, {\"pdf_fitted\": 0.0, \"x\": 42.98598598598599}, {\"pdf_fitted\": 0.0, \"x\": 43.02602602602603}, {\"pdf_fitted\": 0.0, \"x\": 43.06606606606607}, {\"pdf_fitted\": 0.0, \"x\": 43.10610610610611}, {\"pdf_fitted\": 0.0, \"x\": 43.14614614614615}, {\"pdf_fitted\": 0.0, \"x\": 43.18618618618619}, {\"pdf_fitted\": 0.0, \"x\": 43.22622622622623}, {\"pdf_fitted\": 0.0, \"x\": 43.26626626626627}, {\"pdf_fitted\": 0.0, \"x\": 43.30630630630631}, {\"pdf_fitted\": 0.0, \"x\": 43.34634634634635}, {\"pdf_fitted\": 0.0, \"x\": 43.38638638638639}, {\"pdf_fitted\": 0.0, \"x\": 43.42642642642643}, {\"pdf_fitted\": 0.0, \"x\": 43.46646646646647}, {\"pdf_fitted\": 0.0, \"x\": 43.50650650650651}, {\"pdf_fitted\": 0.0, \"x\": 43.54654654654655}, {\"pdf_fitted\": 0.0, \"x\": 43.58658658658659}, {\"pdf_fitted\": 0.0, \"x\": 43.62662662662663}, {\"pdf_fitted\": 0.0, \"x\": 43.66666666666667}, {\"pdf_fitted\": 0.0, \"x\": 43.70670670670671}, {\"pdf_fitted\": 0.0, \"x\": 43.74674674674675}, {\"pdf_fitted\": 0.0, \"x\": 43.78678678678679}, {\"pdf_fitted\": 0.0, \"x\": 43.82682682682683}, {\"pdf_fitted\": 0.0, \"x\": 43.86686686686687}, {\"pdf_fitted\": 0.0, \"x\": 43.90690690690691}, {\"pdf_fitted\": 0.0, \"x\": 43.94694694694695}, {\"pdf_fitted\": 0.0, \"x\": 43.98698698698699}, {\"pdf_fitted\": 0.0, \"x\": 44.02702702702703}, {\"pdf_fitted\": 0.0, \"x\": 44.06706706706707}, {\"pdf_fitted\": 0.0, \"x\": 44.10710710710711}, {\"pdf_fitted\": 0.0, \"x\": 44.14714714714715}, {\"pdf_fitted\": 0.0, \"x\": 44.18718718718719}, {\"pdf_fitted\": 0.0, \"x\": 44.22722722722723}, {\"pdf_fitted\": 0.0, \"x\": 44.26726726726727}, {\"pdf_fitted\": 0.0, \"x\": 44.30730730730731}, {\"pdf_fitted\": 0.0, \"x\": 44.34734734734735}, {\"pdf_fitted\": 0.0, \"x\": 44.38738738738739}, {\"pdf_fitted\": 0.0, \"x\": 44.42742742742743}, {\"pdf_fitted\": 0.0, \"x\": 44.46746746746747}, {\"pdf_fitted\": 0.0, \"x\": 44.50750750750751}, {\"pdf_fitted\": 0.0, \"x\": 44.54754754754755}, {\"pdf_fitted\": 0.0, \"x\": 44.58758758758759}, {\"pdf_fitted\": 0.0, \"x\": 44.62762762762763}, {\"pdf_fitted\": 0.0, \"x\": 44.66766766766767}, {\"pdf_fitted\": 0.0, \"x\": 44.70770770770771}, {\"pdf_fitted\": 0.0, \"x\": 44.74774774774775}, {\"pdf_fitted\": 0.0, \"x\": 44.78778778778779}, {\"pdf_fitted\": 0.0, \"x\": 44.82782782782783}, {\"pdf_fitted\": 0.0, \"x\": 44.86786786786787}, {\"pdf_fitted\": 0.0, \"x\": 44.90790790790791}, {\"pdf_fitted\": 0.0, \"x\": 44.94794794794795}, {\"pdf_fitted\": 0.0, \"x\": 44.98798798798799}, {\"pdf_fitted\": 0.0, \"x\": 45.02802802802803}, {\"pdf_fitted\": 0.0, \"x\": 45.06806806806807}, {\"pdf_fitted\": 0.0, \"x\": 45.10810810810811}, {\"pdf_fitted\": 0.0, \"x\": 45.14814814814815}, {\"pdf_fitted\": 0.0, \"x\": 45.18818818818819}, {\"pdf_fitted\": 0.0, \"x\": 45.22822822822823}, {\"pdf_fitted\": 0.0, \"x\": 45.26826826826827}, {\"pdf_fitted\": 0.0, \"x\": 45.30830830830831}, {\"pdf_fitted\": 0.0, \"x\": 45.34834834834835}, {\"pdf_fitted\": 0.0, \"x\": 45.38838838838839}, {\"pdf_fitted\": 0.0, \"x\": 45.42842842842843}, {\"pdf_fitted\": 0.0, \"x\": 45.46846846846847}, {\"pdf_fitted\": 0.0, \"x\": 45.50850850850851}, {\"pdf_fitted\": 0.0, \"x\": 45.54854854854855}, {\"pdf_fitted\": 0.0, \"x\": 45.58858858858859}, {\"pdf_fitted\": 0.0, \"x\": 45.62862862862863}, {\"pdf_fitted\": 0.0, \"x\": 45.66866866866867}, {\"pdf_fitted\": 0.0, \"x\": 45.70870870870871}, {\"pdf_fitted\": 0.0, \"x\": 45.74874874874875}, {\"pdf_fitted\": 0.0, \"x\": 45.78878878878879}, {\"pdf_fitted\": 0.0, \"x\": 45.82882882882883}, {\"pdf_fitted\": 0.0, \"x\": 45.86886886886887}, {\"pdf_fitted\": 0.0, \"x\": 45.90890890890891}, {\"pdf_fitted\": 0.0, \"x\": 45.94894894894895}, {\"pdf_fitted\": 0.0, \"x\": 45.98898898898899}, {\"pdf_fitted\": 0.0, \"x\": 46.02902902902903}, {\"pdf_fitted\": 0.0, \"x\": 46.06906906906907}, {\"pdf_fitted\": 0.0, \"x\": 46.10910910910911}, {\"pdf_fitted\": 0.0, \"x\": 46.14914914914915}, {\"pdf_fitted\": 0.0, \"x\": 46.18918918918919}, {\"pdf_fitted\": 0.0, \"x\": 46.22922922922923}, {\"pdf_fitted\": 0.0, \"x\": 46.26926926926927}, {\"pdf_fitted\": 0.0, \"x\": 46.30930930930931}, {\"pdf_fitted\": 0.0, \"x\": 46.34934934934935}, {\"pdf_fitted\": 0.0, \"x\": 46.38938938938939}, {\"pdf_fitted\": 0.0, \"x\": 46.42942942942943}, {\"pdf_fitted\": 0.0, \"x\": 46.46946946946947}, {\"pdf_fitted\": 0.0, \"x\": 46.50950950950951}, {\"pdf_fitted\": 0.0, \"x\": 46.54954954954955}, {\"pdf_fitted\": 0.0, \"x\": 46.58958958958959}, {\"pdf_fitted\": 0.0, \"x\": 46.62962962962963}, {\"pdf_fitted\": 0.0, \"x\": 46.66966966966967}, {\"pdf_fitted\": 0.0, \"x\": 46.70970970970971}, {\"pdf_fitted\": 0.0, \"x\": 46.74974974974975}, {\"pdf_fitted\": 0.0, \"x\": 46.78978978978979}, {\"pdf_fitted\": 0.0, \"x\": 46.82982982982983}, {\"pdf_fitted\": 0.0, \"x\": 46.86986986986987}, {\"pdf_fitted\": 0.0, \"x\": 46.90990990990991}, {\"pdf_fitted\": 0.0, \"x\": 46.94994994994995}, {\"pdf_fitted\": 0.0, \"x\": 46.98998998998999}, {\"pdf_fitted\": 0.0, \"x\": 47.030030030030034}, {\"pdf_fitted\": 0.0, \"x\": 47.070070070070074}, {\"pdf_fitted\": 0.0, \"x\": 47.110110110110114}, {\"pdf_fitted\": 0.0, \"x\": 47.150150150150154}, {\"pdf_fitted\": 0.0, \"x\": 47.190190190190194}, {\"pdf_fitted\": 0.0, \"x\": 47.230230230230234}, {\"pdf_fitted\": 0.0, \"x\": 47.270270270270274}, {\"pdf_fitted\": 0.0, \"x\": 47.310310310310314}, {\"pdf_fitted\": 0.0, \"x\": 47.350350350350354}, {\"pdf_fitted\": 0.0, \"x\": 47.390390390390394}, {\"pdf_fitted\": 0.0, \"x\": 47.430430430430434}, {\"pdf_fitted\": 0.0, \"x\": 47.470470470470474}, {\"pdf_fitted\": 0.0, \"x\": 47.510510510510514}, {\"pdf_fitted\": 0.0, \"x\": 47.550550550550554}, {\"pdf_fitted\": 0.0, \"x\": 47.590590590590594}, {\"pdf_fitted\": 0.0, \"x\": 47.630630630630634}, {\"pdf_fitted\": 0.0, \"x\": 47.670670670670674}, {\"pdf_fitted\": 0.0, \"x\": 47.710710710710714}, {\"pdf_fitted\": 0.0, \"x\": 47.750750750750754}, {\"pdf_fitted\": 0.0, \"x\": 47.790790790790794}, {\"pdf_fitted\": 0.0, \"x\": 47.830830830830834}, {\"pdf_fitted\": 0.0, \"x\": 47.870870870870874}, {\"pdf_fitted\": 0.0, \"x\": 47.910910910910914}, {\"pdf_fitted\": 0.0, \"x\": 47.950950950950954}, {\"pdf_fitted\": 0.0, \"x\": 47.990990990990994}, {\"pdf_fitted\": 0.0, \"x\": 48.031031031031034}, {\"pdf_fitted\": 0.0, \"x\": 48.071071071071074}, {\"pdf_fitted\": 0.0, \"x\": 48.111111111111114}, {\"pdf_fitted\": 0.0, \"x\": 48.151151151151154}, {\"pdf_fitted\": 0.0, \"x\": 48.191191191191194}, {\"pdf_fitted\": 0.0, \"x\": 48.231231231231234}, {\"pdf_fitted\": 0.0, \"x\": 48.271271271271274}, {\"pdf_fitted\": 0.0, \"x\": 48.311311311311314}, {\"pdf_fitted\": 0.0, \"x\": 48.351351351351354}, {\"pdf_fitted\": 0.0, \"x\": 48.391391391391394}, {\"pdf_fitted\": 0.0, \"x\": 48.431431431431434}, {\"pdf_fitted\": 0.0, \"x\": 48.471471471471475}, {\"pdf_fitted\": 0.0, \"x\": 48.511511511511515}, {\"pdf_fitted\": 0.0, \"x\": 48.551551551551555}, {\"pdf_fitted\": 0.0, \"x\": 48.591591591591595}, {\"pdf_fitted\": 0.0, \"x\": 48.631631631631635}, {\"pdf_fitted\": 0.0, \"x\": 48.671671671671675}, {\"pdf_fitted\": 0.0, \"x\": 48.711711711711715}, {\"pdf_fitted\": 0.0, \"x\": 48.751751751751755}, {\"pdf_fitted\": 0.0, \"x\": 48.791791791791795}, {\"pdf_fitted\": 0.0, \"x\": 48.831831831831835}, {\"pdf_fitted\": 0.0, \"x\": 48.871871871871875}, {\"pdf_fitted\": 0.0, \"x\": 48.911911911911915}, {\"pdf_fitted\": 0.0, \"x\": 48.951951951951955}, {\"pdf_fitted\": 0.0, \"x\": 48.991991991991995}, {\"pdf_fitted\": 0.0, \"x\": 49.032032032032035}, {\"pdf_fitted\": 0.0, \"x\": 49.072072072072075}, {\"pdf_fitted\": 0.0, \"x\": 49.112112112112115}, {\"pdf_fitted\": 0.0, \"x\": 49.152152152152155}, {\"pdf_fitted\": 0.0, \"x\": 49.192192192192195}, {\"pdf_fitted\": 0.0, \"x\": 49.232232232232235}, {\"pdf_fitted\": 0.0, \"x\": 49.272272272272275}, {\"pdf_fitted\": 0.0, \"x\": 49.312312312312315}, {\"pdf_fitted\": 0.0, \"x\": 49.352352352352355}, {\"pdf_fitted\": 0.0, \"x\": 49.392392392392395}, {\"pdf_fitted\": 0.0, \"x\": 49.432432432432435}, {\"pdf_fitted\": 0.0, \"x\": 49.472472472472475}, {\"pdf_fitted\": 0.0, \"x\": 49.512512512512515}, {\"pdf_fitted\": 0.0, \"x\": 49.552552552552555}, {\"pdf_fitted\": 0.0, \"x\": 49.592592592592595}, {\"pdf_fitted\": 0.0, \"x\": 49.632632632632635}, {\"pdf_fitted\": 0.0, \"x\": 49.672672672672675}, {\"pdf_fitted\": 0.0, \"x\": 49.712712712712715}, {\"pdf_fitted\": 0.0, \"x\": 49.752752752752755}, {\"pdf_fitted\": 0.0, \"x\": 49.792792792792795}, {\"pdf_fitted\": 0.0, \"x\": 49.832832832832835}, {\"pdf_fitted\": 0.0, \"x\": 49.872872872872875}, {\"pdf_fitted\": 0.0, \"x\": 49.912912912912915}, {\"pdf_fitted\": 0.0, \"x\": 49.952952952952955}, {\"pdf_fitted\": 0.0, \"x\": 49.992992992992995}, {\"pdf_fitted\": 0.0, \"x\": 50.033033033033036}, {\"pdf_fitted\": 0.0, \"x\": 50.073073073073076}, {\"pdf_fitted\": 0.0, \"x\": 50.113113113113116}, {\"pdf_fitted\": 0.0, \"x\": 50.153153153153156}, {\"pdf_fitted\": 0.0, \"x\": 50.193193193193196}, {\"pdf_fitted\": 0.0, \"x\": 50.233233233233236}, {\"pdf_fitted\": 0.0, \"x\": 50.273273273273276}, {\"pdf_fitted\": 0.0, \"x\": 50.313313313313316}, {\"pdf_fitted\": 0.0, \"x\": 50.353353353353356}, {\"pdf_fitted\": 0.0, \"x\": 50.393393393393396}, {\"pdf_fitted\": 0.0, \"x\": 50.433433433433436}, {\"pdf_fitted\": 0.0, \"x\": 50.473473473473476}, {\"pdf_fitted\": 0.0, \"x\": 50.513513513513516}, {\"pdf_fitted\": 0.0, \"x\": 50.553553553553556}, {\"pdf_fitted\": 0.0, \"x\": 50.593593593593596}, {\"pdf_fitted\": 0.0, \"x\": 50.633633633633636}, {\"pdf_fitted\": 0.0, \"x\": 50.673673673673676}, {\"pdf_fitted\": 0.0, \"x\": 50.713713713713716}, {\"pdf_fitted\": 0.0, \"x\": 50.753753753753756}, {\"pdf_fitted\": 0.0, \"x\": 50.793793793793796}, {\"pdf_fitted\": 0.0, \"x\": 50.833833833833836}, {\"pdf_fitted\": 0.0, \"x\": 50.873873873873876}, {\"pdf_fitted\": 0.0, \"x\": 50.913913913913916}, {\"pdf_fitted\": 0.0, \"x\": 50.953953953953956}, {\"pdf_fitted\": 0.0, \"x\": 50.993993993993996}, {\"pdf_fitted\": 0.0, \"x\": 51.034034034034036}, {\"pdf_fitted\": 0.0, \"x\": 51.074074074074076}, {\"pdf_fitted\": 0.0, \"x\": 51.114114114114116}, {\"pdf_fitted\": 0.0, \"x\": 51.154154154154156}, {\"pdf_fitted\": 0.0, \"x\": 51.194194194194196}, {\"pdf_fitted\": 0.0, \"x\": 51.234234234234236}, {\"pdf_fitted\": 0.0, \"x\": 51.274274274274276}, {\"pdf_fitted\": 0.0, \"x\": 51.314314314314316}, {\"pdf_fitted\": 0.0, \"x\": 51.354354354354356}, {\"pdf_fitted\": 0.0, \"x\": 51.394394394394396}, {\"pdf_fitted\": 0.0, \"x\": 51.434434434434436}, {\"pdf_fitted\": 0.0, \"x\": 51.474474474474476}, {\"pdf_fitted\": 0.0, \"x\": 51.51451451451452}, {\"pdf_fitted\": 0.0, \"x\": 51.55455455455456}, {\"pdf_fitted\": 0.0, \"x\": 51.5945945945946}, {\"pdf_fitted\": 0.0, \"x\": 51.63463463463464}, {\"pdf_fitted\": 0.0, \"x\": 51.67467467467468}, {\"pdf_fitted\": 0.0, \"x\": 51.71471471471472}, {\"pdf_fitted\": 0.0, \"x\": 51.75475475475476}, {\"pdf_fitted\": 0.0, \"x\": 51.7947947947948}, {\"pdf_fitted\": 0.0, \"x\": 51.83483483483484}, {\"pdf_fitted\": 0.0, \"x\": 51.87487487487488}, {\"pdf_fitted\": 0.0, \"x\": 51.91491491491492}, {\"pdf_fitted\": 0.0, \"x\": 51.95495495495496}, {\"pdf_fitted\": 0.0, \"x\": 51.994994994995}, {\"pdf_fitted\": 0.0, \"x\": 52.03503503503504}, {\"pdf_fitted\": 0.0, \"x\": 52.07507507507508}, {\"pdf_fitted\": 0.0, \"x\": 52.11511511511512}, {\"pdf_fitted\": 0.0, \"x\": 52.15515515515516}, {\"pdf_fitted\": 0.0, \"x\": 52.1951951951952}, {\"pdf_fitted\": 0.0, \"x\": 52.23523523523524}, {\"pdf_fitted\": 0.0, \"x\": 52.27527527527528}, {\"pdf_fitted\": 0.0, \"x\": 52.31531531531532}, {\"pdf_fitted\": 0.0, \"x\": 52.35535535535536}, {\"pdf_fitted\": 0.0, \"x\": 52.3953953953954}, {\"pdf_fitted\": 0.0, \"x\": 52.43543543543544}, {\"pdf_fitted\": 0.0, \"x\": 52.47547547547548}, {\"pdf_fitted\": 0.0, \"x\": 52.51551551551552}, {\"pdf_fitted\": 0.0, \"x\": 52.55555555555556}, {\"pdf_fitted\": 0.0, \"x\": 52.5955955955956}, {\"pdf_fitted\": 0.0, \"x\": 52.63563563563564}, {\"pdf_fitted\": 0.0, \"x\": 52.67567567567568}, {\"pdf_fitted\": 0.0, \"x\": 52.71571571571572}, {\"pdf_fitted\": 0.0, \"x\": 52.75575575575576}, {\"pdf_fitted\": 0.0, \"x\": 52.7957957957958}, {\"pdf_fitted\": 0.0, \"x\": 52.83583583583584}, {\"pdf_fitted\": 0.0, \"x\": 52.87587587587588}, {\"pdf_fitted\": 0.0, \"x\": 52.91591591591592}, {\"pdf_fitted\": 0.0, \"x\": 52.95595595595596}, {\"pdf_fitted\": 0.0, \"x\": 52.995995995996}, {\"pdf_fitted\": 0.0, \"x\": 53.03603603603604}, {\"pdf_fitted\": 0.0, \"x\": 53.07607607607608}, {\"pdf_fitted\": 0.0, \"x\": 53.11611611611612}, {\"pdf_fitted\": 0.0, \"x\": 53.15615615615616}, {\"pdf_fitted\": 0.0, \"x\": 53.1961961961962}, {\"pdf_fitted\": 0.0, \"x\": 53.23623623623624}, {\"pdf_fitted\": 0.0, \"x\": 53.27627627627628}, {\"pdf_fitted\": 0.0, \"x\": 53.31631631631632}, {\"pdf_fitted\": 0.0, \"x\": 53.35635635635636}, {\"pdf_fitted\": 0.0, \"x\": 53.3963963963964}, {\"pdf_fitted\": 0.0, \"x\": 53.43643643643644}, {\"pdf_fitted\": 0.0, \"x\": 53.47647647647648}, {\"pdf_fitted\": 0.0, \"x\": 53.51651651651652}, {\"pdf_fitted\": 0.0, \"x\": 53.55655655655656}, {\"pdf_fitted\": 0.0, \"x\": 53.5965965965966}, {\"pdf_fitted\": 0.0, \"x\": 53.63663663663664}, {\"pdf_fitted\": 0.0, \"x\": 53.67667667667668}, {\"pdf_fitted\": 0.0, \"x\": 53.71671671671672}, {\"pdf_fitted\": 0.0, \"x\": 53.75675675675676}, {\"pdf_fitted\": 0.0, \"x\": 53.7967967967968}, {\"pdf_fitted\": 0.0, \"x\": 53.83683683683684}, {\"pdf_fitted\": 0.0, \"x\": 53.87687687687688}, {\"pdf_fitted\": 0.0, \"x\": 53.91691691691692}, {\"pdf_fitted\": 0.0, \"x\": 53.95695695695696}, {\"pdf_fitted\": 0.0, \"x\": 53.996996996997}, {\"pdf_fitted\": 0.0, \"x\": 54.03703703703704}, {\"pdf_fitted\": 0.0, \"x\": 54.07707707707708}, {\"pdf_fitted\": 0.0, \"x\": 54.11711711711712}, {\"pdf_fitted\": 0.0, \"x\": 54.15715715715716}, {\"pdf_fitted\": 0.0, \"x\": 54.1971971971972}, {\"pdf_fitted\": 0.0, \"x\": 54.23723723723724}, {\"pdf_fitted\": 0.0, \"x\": 54.27727727727728}, {\"pdf_fitted\": 0.0, \"x\": 54.31731731731732}, {\"pdf_fitted\": 0.0, \"x\": 54.35735735735736}, {\"pdf_fitted\": 0.0, \"x\": 54.3973973973974}, {\"pdf_fitted\": 0.0, \"x\": 54.43743743743744}, {\"pdf_fitted\": 0.0, \"x\": 54.47747747747748}, {\"pdf_fitted\": 0.0, \"x\": 54.51751751751752}, {\"pdf_fitted\": 0.0, \"x\": 54.55755755755756}, {\"pdf_fitted\": 0.0, \"x\": 54.5975975975976}, {\"pdf_fitted\": 0.0, \"x\": 54.63763763763764}, {\"pdf_fitted\": 0.0, \"x\": 54.67767767767768}, {\"pdf_fitted\": 0.0, \"x\": 54.71771771771772}, {\"pdf_fitted\": 0.0, \"x\": 54.75775775775776}, {\"pdf_fitted\": 0.0, \"x\": 54.7977977977978}, {\"pdf_fitted\": 0.0, \"x\": 54.83783783783784}, {\"pdf_fitted\": 0.0, \"x\": 54.87787787787788}, {\"pdf_fitted\": 0.0, \"x\": 54.91791791791792}, {\"pdf_fitted\": 0.0, \"x\": 54.95795795795796}, {\"pdf_fitted\": 0.0, \"x\": 54.997997997998}, {\"pdf_fitted\": 0.0, \"x\": 55.03803803803804}, {\"pdf_fitted\": 0.0, \"x\": 55.07807807807808}, {\"pdf_fitted\": 0.0, \"x\": 55.11811811811812}, {\"pdf_fitted\": 0.0, \"x\": 55.15815815815816}, {\"pdf_fitted\": 0.0, \"x\": 55.1981981981982}, {\"pdf_fitted\": 0.0, \"x\": 55.23823823823824}, {\"pdf_fitted\": 0.0, \"x\": 55.27827827827828}, {\"pdf_fitted\": 0.0, \"x\": 55.31831831831832}, {\"pdf_fitted\": 0.0, \"x\": 55.35835835835836}, {\"pdf_fitted\": 0.0, \"x\": 55.3983983983984}, {\"pdf_fitted\": 0.0, \"x\": 55.43843843843844}, {\"pdf_fitted\": 0.0, \"x\": 55.47847847847848}, {\"pdf_fitted\": 0.0, \"x\": 55.51851851851852}, {\"pdf_fitted\": 0.0, \"x\": 55.55855855855856}, {\"pdf_fitted\": 0.0, \"x\": 55.5985985985986}, {\"pdf_fitted\": 0.0, \"x\": 55.63863863863864}, {\"pdf_fitted\": 0.0, \"x\": 55.67867867867868}, {\"pdf_fitted\": 0.0, \"x\": 55.71871871871872}, {\"pdf_fitted\": 0.0, \"x\": 55.75875875875876}, {\"pdf_fitted\": 0.0, \"x\": 55.7987987987988}, {\"pdf_fitted\": 0.0, \"x\": 55.83883883883884}, {\"pdf_fitted\": 0.0, \"x\": 55.87887887887888}, {\"pdf_fitted\": 0.0, \"x\": 55.91891891891892}, {\"pdf_fitted\": 0.0, \"x\": 55.95895895895896}, {\"pdf_fitted\": 0.0, \"x\": 55.998998998999}, {\"pdf_fitted\": 0.0, \"x\": 56.03903903903904}, {\"pdf_fitted\": 0.0, \"x\": 56.07907907907908}, {\"pdf_fitted\": 0.0, \"x\": 56.11911911911912}, {\"pdf_fitted\": 0.0, \"x\": 56.15915915915916}, {\"pdf_fitted\": 0.0, \"x\": 56.1991991991992}, {\"pdf_fitted\": 0.0, \"x\": 56.23923923923924}, {\"pdf_fitted\": 0.0, \"x\": 56.27927927927928}, {\"pdf_fitted\": 0.0, \"x\": 56.31931931931932}, {\"pdf_fitted\": 0.0, \"x\": 56.35935935935936}, {\"pdf_fitted\": 0.0, \"x\": 56.3993993993994}, {\"pdf_fitted\": 0.0, \"x\": 56.43943943943944}, {\"pdf_fitted\": 0.0, \"x\": 56.47947947947948}, {\"pdf_fitted\": 0.0, \"x\": 56.51951951951952}, {\"pdf_fitted\": 0.0, \"x\": 56.55955955955956}, {\"pdf_fitted\": 0.0, \"x\": 56.5995995995996}, {\"pdf_fitted\": 0.0, \"x\": 56.63963963963964}, {\"pdf_fitted\": 0.0, \"x\": 56.67967967967968}, {\"pdf_fitted\": 0.0, \"x\": 56.71971971971972}, {\"pdf_fitted\": 0.0, \"x\": 56.75975975975976}, {\"pdf_fitted\": 0.0, \"x\": 56.7997997997998}, {\"pdf_fitted\": 0.0, \"x\": 56.83983983983984}, {\"pdf_fitted\": 0.0, \"x\": 56.87987987987988}, {\"pdf_fitted\": 0.0, \"x\": 56.91991991991992}, {\"pdf_fitted\": 0.0, \"x\": 56.95995995995996}, {\"pdf_fitted\": 0.0023221715741944754, \"x\": 57.0}]}, {\"name\": \"source_0\", \"values\": [{\"Percentage\": 0.0775, \"Percentage_end\": 0.0775, \"Percentage_start\": 0.0, \"hsize\": 34}, {\"Percentage\": 0.07166666666666667, \"Percentage_end\": 0.07166666666666667, \"Percentage_start\": 0.0, \"hsize\": 32}, {\"Percentage\": 0.065, \"Percentage_end\": 0.065, \"Percentage_start\": 0.0, \"hsize\": 33}, {\"Percentage\": 0.06333333333333334, \"Percentage_end\": 0.06333333333333334, \"Percentage_start\": 0.0, \"hsize\": 30}, {\"Percentage\": 0.0625, \"Percentage_end\": 0.0625, \"Percentage_start\": 0.0, \"hsize\": 35}, {\"Percentage\": 0.0625, \"Percentage_end\": 0.0625, \"Percentage_start\": 0.0, \"hsize\": 31}, {\"Percentage\": 0.056666666666666664, \"Percentage_end\": 0.056666666666666664, \"Percentage_start\": 0.0, \"hsize\": 36}, {\"Percentage\": 0.05583333333333333, \"Percentage_end\": 0.05583333333333333, \"Percentage_start\": 0.0, \"hsize\": 37}, {\"Percentage\": 0.050833333333333335, \"Percentage_end\": 0.050833333333333335, \"Percentage_start\": 0.0, \"hsize\": 38}, {\"Percentage\": 0.04833333333333333, \"Percentage_end\": 0.04833333333333333, \"Percentage_start\": 0.0, \"hsize\": 29}, {\"Percentage\": 0.04416666666666667, \"Percentage_end\": 0.04416666666666667, \"Percentage_start\": 0.0, \"hsize\": 27}, {\"Percentage\": 0.04083333333333333, \"Percentage_end\": 0.04083333333333333, \"Percentage_start\": 0.0, \"hsize\": 39}, {\"Percentage\": 0.03833333333333333, \"Percentage_end\": 0.03833333333333333, \"Percentage_start\": 0.0, \"hsize\": 28}, {\"Percentage\": 0.035, \"Percentage_end\": 0.035, \"Percentage_start\": 0.0, \"hsize\": 41}, {\"Percentage\": 0.02666666666666667, \"Percentage_end\": 0.02666666666666667, \"Percentage_start\": 0.0, \"hsize\": 40}, {\"Percentage\": 0.025, \"Percentage_end\": 0.025, \"Percentage_start\": 0.0, \"hsize\": 42}, {\"Percentage\": 0.0225, \"Percentage_end\": 0.0225, \"Percentage_start\": 0.0, \"hsize\": 26}, {\"Percentage\": 0.020833333333333332, \"Percentage_end\": 0.020833333333333332, \"Percentage_start\": 0.0, \"hsize\": 25}, {\"Percentage\": 0.020833333333333332, \"Percentage_end\": 0.020833333333333332, \"Percentage_start\": 0.0, \"hsize\": 24}, {\"Percentage\": 0.018333333333333333, \"Percentage_end\": 0.018333333333333333, \"Percentage_start\": 0.0, \"hsize\": 44}, {\"Percentage\": 0.0175, \"Percentage_end\": 0.0175, \"Percentage_start\": 0.0, \"hsize\": 43}, {\"Percentage\": 0.01, \"Percentage_end\": 0.01, \"Percentage_start\": 0.0, \"hsize\": 45}, {\"Percentage\": 0.01, \"Percentage_end\": 0.01, \"Percentage_start\": 0.0, \"hsize\": 23}, {\"Percentage\": 0.009166666666666667, \"Percentage_end\": 0.009166666666666667, \"Percentage_start\": 0.0, \"hsize\": 46}, {\"Percentage\": 0.008333333333333333, \"Percentage_end\": 0.008333333333333333, \"Percentage_start\": 0.0, \"hsize\": 22}, {\"Percentage\": 0.0075, \"Percentage_end\": 0.0075, \"Percentage_start\": 0.0, \"hsize\": 21}, {\"Percentage\": 0.006666666666666667, \"Percentage_end\": 0.006666666666666667, \"Percentage_start\": 0.0, \"hsize\": 47}, {\"Percentage\": 0.005833333333333334, \"Percentage_end\": 0.005833333333333334, \"Percentage_start\": 0.0, \"hsize\": 48}, {\"Percentage\": 0.004166666666666667, \"Percentage_end\": 0.004166666666666667, \"Percentage_start\": 0.0, \"hsize\": 20}, {\"Percentage\": 0.0033333333333333335, \"Percentage_end\": 0.0033333333333333335, \"Percentage_start\": 0.0, \"hsize\": 49}, {\"Percentage\": 0.0025, \"Percentage_end\": 0.0025, \"Percentage_start\": 0.0, \"hsize\": 19}, {\"Percentage\": 0.0025, \"Percentage_end\": 0.0025, \"Percentage_start\": 0.0, \"hsize\": 50}, {\"Percentage\": 0.0016666666666666668, \"Percentage_end\": 0.0016666666666666668, \"Percentage_start\": 0.0, \"hsize\": 17}, {\"Percentage\": 0.0016666666666666668, \"Percentage_end\": 0.0016666666666666668, \"Percentage_start\": 0.0, \"hsize\": 53}, {\"Percentage\": 0.0008333333333333334, \"Percentage_end\": 0.0008333333333333334, \"Percentage_start\": 0.0, \"hsize\": 18}, {\"Percentage\": 0.0008333333333333334, \"Percentage_end\": 0.0008333333333333334, \"Percentage_start\": 0.0, \"hsize\": 52}, {\"Percentage\": 0.0008333333333333334, \"Percentage_end\": 0.0008333333333333334, \"Percentage_start\": 0.0, \"hsize\": 57}]}], \"marks\": [{\"type\": \"rect\", \"name\": \"layer_0_marks\", \"from\": {\"data\": \"source_0\"}, \"encode\": {\"update\": {\"ariaRoleDescription\": {\"value\": \"bar\"}, \"description\": {\"signal\": \"\\\"m: \\\" + (format(datum[\\\"hsize\\\"], \\\"\\\")) + \\\"; Percentage: \\\" + (format(datum[\\\"Percentage\\\"], \\\"\\\"))\"}, \"fill\": {\"value\": \"#4c78a8\"}, \"y2\": {\"field\": \"Percentage_start\", \"scale\": \"y\"}, \"xc\": {\"field\": \"hsize\", \"scale\": \"x\"}, \"width\": {\"value\": 5}, \"y\": {\"field\": \"Percentage_end\", \"scale\": \"y\"}}}, \"style\": [\"bar\"]}, {\"type\": \"line\", \"name\": \"layer_1_marks\", \"from\": {\"data\": \"source_1\"}, \"sort\": {\"field\": \"datum[\\\"x\\\"]\"}, \"encode\": {\"update\": {\"defined\": {\"signal\": \"isValid(datum[\\\"x\\\"]) && isFinite(+datum[\\\"x\\\"]) && isValid(datum[\\\"pdf_fitted\\\"]) && isFinite(+datum[\\\"pdf_fitted\\\"])\"}, \"x\": {\"field\": \"x\", \"scale\": \"x\"}, \"y\": {\"field\": \"pdf_fitted\", \"scale\": \"y\"}, \"description\": {\"signal\": \"\\\"x: \\\" + (format(datum[\\\"x\\\"], \\\"\\\")) + \\\"; pdf_fitted: \\\" + (format(datum[\\\"pdf_fitted\\\"], \\\"\\\"))\"}, \"stroke\": {\"value\": \"red\"}}}, \"style\": [\"line\"]}], \"scales\": [{\"name\": \"x\", \"type\": \"linear\", \"domain\": {\"fields\": [{\"data\": \"source_0\", \"field\": \"hsize\"}, {\"data\": \"source_1\", \"field\": \"x\"}]}, \"range\": [0, {\"signal\": \"width\"}], \"zero\": false, \"nice\": true, \"padding\": 5}, {\"name\": \"y\", \"type\": \"linear\", \"domain\": {\"fields\": [{\"data\": \"source_0\", \"field\": \"Percentage_start\"}, {\"data\": \"source_0\", \"field\": \"Percentage_end\"}, {\"data\": \"source_1\", \"field\": \"pdf_fitted\"}]}, \"range\": [{\"signal\": \"height\"}, 0], \"zero\": true, \"nice\": true}], \"axes\": [{\"scale\": \"x\", \"aria\": false, \"ticks\": false, \"maxExtent\": 0, \"zindex\": 0, \"domain\": false, \"gridScale\": \"y\", \"orient\": \"bottom\", \"grid\": true, \"tickCount\": {\"signal\": \"ceil(width/40)\"}, \"minExtent\": 0, \"labels\": false}, {\"scale\": \"y\", \"orient\": \"left\", \"tickCount\": {\"signal\": \"ceil(height/40)\"}, \"gridScale\": \"x\", \"maxExtent\": 0, \"ticks\": false, \"zindex\": 0, \"grid\": true, \"aria\": false, \"minExtent\": 0, \"labels\": false, \"domain\": false}, {\"scale\": \"x\", \"tickCount\": {\"signal\": \"ceil(width/40)\"}, \"grid\": false, \"labelOverlap\": true, \"zindex\": 0, \"orient\": \"bottom\", \"title\": \"m\", \"labelFlush\": true}, {\"scale\": \"y\", \"tickCount\": {\"signal\": \"ceil(height/40)\"}, \"labelOverlap\": true, \"zindex\": 0, \"title\": \"Percentage, pdf_fitted\", \"grid\": false, \"orient\": \"left\"}], \"style\": \"cell\", \"width\": 300, \"height\": 300, \"background\": \"white\", \"padding\": 5}, {\"mode\": \"vega\"});\n",
       "</script>"
      ],
      "text/plain": [
       "alt.LayerChart(...)"
      ]
     },
     "execution_count": 435,
     "metadata": {},
     "output_type": "execute_result"
    }
   ],
   "source": [
    "distrib + fit"
   ]
  },
  {
   "cell_type": "code",
   "execution_count": null,
   "id": "5bec6ca8-8276-4a60-98dc-b551f129420a",
   "metadata": {},
   "outputs": [],
   "source": []
  }
 ],
 "metadata": {
  "kernelspec": {
   "display_name": "Python 3 (ipykernel)",
   "language": "python",
   "name": "python3"
  },
  "language_info": {
   "codemirror_mode": {
    "name": "ipython",
    "version": 3
   },
   "file_extension": ".py",
   "mimetype": "text/x-python",
   "name": "python",
   "nbconvert_exporter": "python",
   "pygments_lexer": "ipython3",
   "version": "3.11.5"
  }
 },
 "nbformat": 4,
 "nbformat_minor": 5
}
