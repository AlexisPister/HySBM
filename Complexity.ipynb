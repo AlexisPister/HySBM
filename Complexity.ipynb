{
 "cells": [
  {
   "cell_type": "code",
   "execution_count": 12,
   "id": "0d620e9b-2bad-4d9c-89cd-042d42796e08",
   "metadata": {},
   "outputs": [
    {
     "data": {
      "text/plain": [
       "DataTransformerRegistry.enable('vegafusion')"
      ]
     },
     "execution_count": 12,
     "metadata": {},
     "output_type": "execute_result"
    }
   ],
   "source": [
    "import json\n",
    "import math\n",
    "import networkx as nx\n",
    "import pandas as pd\n",
    "import altair as alt\n",
    "import numpy as np\n",
    "from scipy import stats\n",
    "from scipy.optimize import curve_fit\n",
    "import distfit\n",
    "import os\n",
    "import timeit\n",
    "\n",
    "\n",
    "from generator_v2 import Generator\n",
    "\n",
    "alt.data_transformers.enable(\"vegafusion\")"
   ]
  },
  {
   "cell_type": "code",
   "execution_count": 121,
   "id": "d43b7b90-858a-415a-87d1-ee686a61d4bd",
   "metadata": {},
   "outputs": [
    {
     "data": {
      "text/plain": [
       "ThemeRegistry.enable('theme')"
      ]
     },
     "execution_count": 121,
     "metadata": {},
     "output_type": "execute_result"
    }
   ],
   "source": [
    "# define the theme by returning the dictionary of configurations\n",
    "\n",
    "font = \"monospace\"\n",
    "# Axes\n",
    "axisColor = \"#000000\"\n",
    "gridColor = \"#DEDDDD\"\n",
    "# Colors\n",
    "main_palette = [\"#1696d2\", \n",
    "                \"#d2d2d2\",\n",
    "                \"#000000\", \n",
    "                \"#fdbf11\", \n",
    "                \"#ec008b\", \n",
    "                \"#55b748\", \n",
    "                \"#5c5859\", \n",
    "                \"#db2b27\", \n",
    "               ]\n",
    "sequential_palette = [\"black\", \n",
    "                      \"#a2d4ec\", \n",
    "                      \"#73bfe2\", \n",
    "                      \"#46abdb\", \n",
    "                      \"#1696d2\", \n",
    "                      \"#12719e\", \n",
    "                     ]\n",
    "\n",
    "\n",
    "# markColor = \"#8856a7\"\n",
    "# markColor = \"#6a51a3\"\n",
    "markColor = \"#9ebcda\"\n",
    "\n",
    "# Define custom color schemes for ordinal and categorical data\n",
    "categorical_color_scheme = ['red', 'green', 'blue', 'purple', 'orange']\n",
    "ordinal_color_scheme = [\"#fcfbfd\",\n",
    "\"#efedf5\",\n",
    "\"#dadaeb\",\n",
    "\"#bcbddc\",\n",
    "\"#9e9ac8\",\n",
    "\"#807dba\",\n",
    "\"#6a51a3\",\n",
    "\"#4a1486\"]\n",
    "\n",
    "\n",
    "def simple_theme():\n",
    "    return {\n",
    "        'config': {\n",
    "            'view': {\n",
    "                'height': 300,\n",
    "                'width': 300,\n",
    "            },\n",
    "            \"title\": {\n",
    "                    \"fontSize\": 18,\n",
    "                    \"font\": font,\n",
    "                    \"anchor\": \"start\", # equivalent of left-aligned.\n",
    "                    \"fontColor\": \"#000000\"\n",
    "                },\n",
    "            \"facet\": {\n",
    "                \"labelFontSize\": 16,\n",
    "                \"titleFontSize\": 20  # Adjust the fontsize as needed\n",
    "            },\n",
    "            \"axisX\": {\n",
    "                    \"labelFont\": font,\n",
    "                    \"labelFontSize\": 16,\n",
    "                    \"titleFontSize\": 20,\n",
    "                    \"grid\": False,\n",
    "                },\n",
    "                \"axisY\": {\n",
    "                    \"domain\": False,\n",
    "                    \"grid\": False,\n",
    "                    \"labelFont\": font,\n",
    "                    \"labelFontSize\": 16,\n",
    "                    \"titleFontSize\": 20,\n",
    "                },\n",
    "            'mark': {\n",
    "                'color': markColor,\n",
    "                'fill': markColor\n",
    "            },\n",
    "            \"line\": {\n",
    "                \"fill\": None,\n",
    "               \"stroke\": \"black\",\n",
    "           },\n",
    "            \"scale\": {\"color\": {\"scheme\": \"blue\"}},\n",
    "            \"legend\": {\n",
    "\n",
    "                \"titleFontSize\": 20,\n",
    "                \"labelFontSize\": 16\n",
    "            }            \n",
    "        }\n",
    "    }\n",
    "\n",
    "# alt.themes.register(\"theme\", theme)\n",
    "alt.themes.register(\"theme\", simple_theme)\n",
    "alt.themes.enable(\"theme\")\n",
    "#alt.themes.enable(\"ggplot2\")"
   ]
  },
  {
   "cell_type": "markdown",
   "id": "fd5003d4-41e4-4a0d-bcf5-d47ab0bbd15d",
   "metadata": {},
   "source": [
    "## N Fixed"
   ]
  },
  {
   "cell_type": "code",
   "execution_count": 140,
   "id": "89b8e60f-0571-4f1b-882d-f8089b3bc9ca",
   "metadata": {},
   "outputs": [],
   "source": [
    "N = 5000\n",
    "N_coms = 4\n",
    "p = 100 / N\n",
    "q = 0.1 * p\n",
    "\n",
    "Es = [10, 100, 500, 1000, 2000, 5000]\n",
    "\n",
    "community_array = []\n",
    "for i in range(N_coms):\n",
    "    community_array += [i for x in range(N // N_coms)]"
   ]
  },
  {
   "cell_type": "code",
   "execution_count": 141,
   "id": "9e950b80-134e-4080-91ed-a177d8cce956",
   "metadata": {},
   "outputs": [
    {
     "data": {
      "text/plain": [
       "0.02"
      ]
     },
     "execution_count": 141,
     "metadata": {},
     "output_type": "execute_result"
    }
   ],
   "source": [
    "p"
   ]
  },
  {
   "cell_type": "code",
   "execution_count": 60,
   "id": "6211e2a3-83be-4a5a-bf78-5f56abeb173b",
   "metadata": {},
   "outputs": [
    {
     "name": "stdout",
     "output_type": "stream",
     "text": [
      "10\n",
      "1.3446321619994706\n",
      "100\n",
      "1.8332682329928502\n",
      "500\n",
      "4.023058003993356\n",
      "1000\n",
      "6.842099884990603\n",
      "2000\n",
      "12.573685010007466\n",
      "5000\n",
      "30.315783561993157\n"
     ]
    }
   ],
   "source": [
    "times = []\n",
    "for E in Es:\n",
    "    print(E)\n",
    "\n",
    "    start = timeit.default_timer()\n",
    "    gen = Generator(N, E, N_coms, p, q, community_array, \"weighted\")\n",
    "    gen.run()\n",
    "    stop = timeit.default_timer()\n",
    "\n",
    "    time = stop - start\n",
    "    times.append(time)\n",
    "    print(time)\n",
    "\n"
   ]
  },
  {
   "cell_type": "code",
   "execution_count": 63,
   "id": "15e32efc-675b-49e7-8af3-a933a1d6386d",
   "metadata": {},
   "outputs": [],
   "source": [
    "df_N_fixed = pd.DataFrame({\"E\": Es, \"time\": times}) "
   ]
  },
  {
   "cell_type": "code",
   "execution_count": 64,
   "id": "e858a2b9-8015-49ca-89b8-6f0e4a1bf216",
   "metadata": {},
   "outputs": [
    {
     "data": {
      "text/html": [
       "<div>\n",
       "<style scoped>\n",
       "    .dataframe tbody tr th:only-of-type {\n",
       "        vertical-align: middle;\n",
       "    }\n",
       "\n",
       "    .dataframe tbody tr th {\n",
       "        vertical-align: top;\n",
       "    }\n",
       "\n",
       "    .dataframe thead th {\n",
       "        text-align: right;\n",
       "    }\n",
       "</style>\n",
       "<table border=\"1\" class=\"dataframe\">\n",
       "  <thead>\n",
       "    <tr style=\"text-align: right;\">\n",
       "      <th></th>\n",
       "      <th>E</th>\n",
       "      <th>time</th>\n",
       "    </tr>\n",
       "  </thead>\n",
       "  <tbody>\n",
       "    <tr>\n",
       "      <th>0</th>\n",
       "      <td>10</td>\n",
       "      <td>1.344632</td>\n",
       "    </tr>\n",
       "    <tr>\n",
       "      <th>1</th>\n",
       "      <td>100</td>\n",
       "      <td>1.833268</td>\n",
       "    </tr>\n",
       "    <tr>\n",
       "      <th>2</th>\n",
       "      <td>500</td>\n",
       "      <td>4.023058</td>\n",
       "    </tr>\n",
       "    <tr>\n",
       "      <th>3</th>\n",
       "      <td>1000</td>\n",
       "      <td>6.842100</td>\n",
       "    </tr>\n",
       "    <tr>\n",
       "      <th>4</th>\n",
       "      <td>2000</td>\n",
       "      <td>12.573685</td>\n",
       "    </tr>\n",
       "  </tbody>\n",
       "</table>\n",
       "</div>"
      ],
      "text/plain": [
       "      E       time\n",
       "0    10   1.344632\n",
       "1   100   1.833268\n",
       "2   500   4.023058\n",
       "3  1000   6.842100\n",
       "4  2000  12.573685"
      ]
     },
     "execution_count": 64,
     "metadata": {},
     "output_type": "execute_result"
    }
   ],
   "source": [
    "df_N_fixed.head()"
   ]
  },
  {
   "cell_type": "code",
   "execution_count": 123,
   "id": "9192916d-dd86-4288-aa47-0dadf500ff55",
   "metadata": {},
   "outputs": [
    {
     "data": {
      "text/html": [
       "\n",
       "<style>\n",
       "  #altair-viz-22f296c33de64075a6fa14d1d2f68546.vega-embed {\n",
       "    width: 100%;\n",
       "    display: flex;\n",
       "  }\n",
       "\n",
       "  #altair-viz-22f296c33de64075a6fa14d1d2f68546.vega-embed details,\n",
       "  #altair-viz-22f296c33de64075a6fa14d1d2f68546.vega-embed details summary {\n",
       "    position: relative;\n",
       "  }\n",
       "</style>\n",
       "<div id=\"altair-viz-22f296c33de64075a6fa14d1d2f68546\"></div>\n",
       "<script type=\"text/javascript\">\n",
       "  var VEGA_DEBUG = (typeof VEGA_DEBUG == \"undefined\") ? {} : VEGA_DEBUG;\n",
       "  (function(spec, embedOpt){\n",
       "    let outputDiv = document.currentScript.previousElementSibling;\n",
       "    if (outputDiv.id !== \"altair-viz-22f296c33de64075a6fa14d1d2f68546\") {\n",
       "      outputDiv = document.getElementById(\"altair-viz-22f296c33de64075a6fa14d1d2f68546\");\n",
       "    }\n",
       "    const paths = {\n",
       "      \"vega\": \"https://cdn.jsdelivr.net/npm/vega@5?noext\",\n",
       "      \"vega-lib\": \"https://cdn.jsdelivr.net/npm/vega-lib?noext\",\n",
       "      \"vega-lite\": \"https://cdn.jsdelivr.net/npm/vega-lite@5.15.1?noext\",\n",
       "      \"vega-embed\": \"https://cdn.jsdelivr.net/npm/vega-embed@6?noext\",\n",
       "    };\n",
       "\n",
       "    function maybeLoadScript(lib, version) {\n",
       "      var key = `${lib.replace(\"-\", \"\")}_version`;\n",
       "      return (VEGA_DEBUG[key] == version) ?\n",
       "        Promise.resolve(paths[lib]) :\n",
       "        new Promise(function(resolve, reject) {\n",
       "          var s = document.createElement('script');\n",
       "          document.getElementsByTagName(\"head\")[0].appendChild(s);\n",
       "          s.async = true;\n",
       "          s.onload = () => {\n",
       "            VEGA_DEBUG[key] = version;\n",
       "            return resolve(paths[lib]);\n",
       "          };\n",
       "          s.onerror = () => reject(`Error loading script: ${paths[lib]}`);\n",
       "          s.src = paths[lib];\n",
       "        });\n",
       "    }\n",
       "\n",
       "    function showError(err) {\n",
       "      outputDiv.innerHTML = `<div class=\"error\" style=\"color:red;\">${err}</div>`;\n",
       "      throw err;\n",
       "    }\n",
       "\n",
       "    function displayChart(vegaEmbed) {\n",
       "      vegaEmbed(outputDiv, spec, embedOpt)\n",
       "        .catch(err => showError(`Javascript Error: ${err.message}<br>This usually means there's a typo in your chart specification. See the javascript console for the full traceback.`));\n",
       "    }\n",
       "\n",
       "    if(typeof define === \"function\" && define.amd) {\n",
       "      requirejs.config({paths});\n",
       "      require([\"vega-embed\"], displayChart, err => showError(`Error loading script: ${err.message}`));\n",
       "    } else {\n",
       "      maybeLoadScript(\"vega\", \"5\")\n",
       "        .then(() => maybeLoadScript(\"vega-lite\", \"5.15.1\"))\n",
       "        .then(() => maybeLoadScript(\"vega-embed\", \"6\"))\n",
       "        .catch(showError)\n",
       "        .then(() => displayChart(vegaEmbed));\n",
       "    }\n",
       "  })({\"$schema\": \"https://vega.github.io/schema/vega/v5.json\", \"data\": [{\"name\": \"source_0\", \"values\": [{\"E\": 10, \"time\": 1.3446321619994706}, {\"E\": 100, \"time\": 1.8332682329928502}, {\"E\": 500, \"time\": 4.023058003993356}, {\"E\": 1000, \"time\": 6.842099884990603}, {\"E\": 2000, \"time\": 12.573685010007466}, {\"E\": 5000, \"time\": 30.315783561993157}]}, {\"name\": \"source_0_x_domain_E\", \"values\": [{\"min\": 10, \"max\": 5000}]}, {\"name\": \"source_0_y_domain_time\", \"values\": [{\"min\": 1.3446321619994706, \"max\": 30.315783561993157}]}], \"marks\": [{\"type\": \"line\", \"name\": \"marks\", \"from\": {\"data\": \"source_0\"}, \"sort\": {\"field\": \"datum[\\\"E\\\"]\"}, \"encode\": {\"update\": {\"x\": {\"field\": \"E\", \"scale\": \"x\"}, \"y\": {\"field\": \"time\", \"scale\": \"y\"}, \"description\": {\"signal\": \"\\\"E: \\\" + (format(datum[\\\"E\\\"], \\\"\\\")) + \\\"; time: \\\" + (format(datum[\\\"time\\\"], \\\"\\\"))\"}, \"defined\": {\"signal\": \"isValid(datum[\\\"E\\\"]) && isFinite(+datum[\\\"E\\\"]) && isValid(datum[\\\"time\\\"]) && isFinite(+datum[\\\"time\\\"])\"}, \"stroke\": {\"value\": \"black\"}}}, \"style\": [\"line\"]}], \"scales\": [{\"name\": \"x\", \"type\": \"linear\", \"domain\": [{\"signal\": \"(data(\\\"source_0_x_domain_E\\\")[0] || {}).min\"}, {\"signal\": \"(data(\\\"source_0_x_domain_E\\\")[0] || {}).max\"}], \"range\": [0, {\"signal\": \"width\"}], \"zero\": false, \"nice\": true}, {\"name\": \"y\", \"type\": \"linear\", \"domain\": [{\"signal\": \"(data(\\\"source_0_y_domain_time\\\")[0] || {}).min\"}, {\"signal\": \"(data(\\\"source_0_y_domain_time\\\")[0] || {}).max\"}], \"range\": [{\"signal\": \"height\"}, 0], \"nice\": true, \"zero\": true}], \"axes\": [{\"scale\": \"x\", \"title\": \"E\", \"labelFlush\": true, \"zindex\": 0, \"orient\": \"bottom\", \"grid\": false, \"labelOverlap\": true, \"tickCount\": {\"signal\": \"ceil(width/40)\"}}, {\"scale\": \"y\", \"zindex\": 0, \"orient\": \"left\", \"labelOverlap\": true, \"title\": \"time\", \"grid\": false, \"tickCount\": {\"signal\": \"ceil(height/40)\"}}], \"padding\": 5, \"width\": 300, \"height\": 300, \"style\": \"cell\", \"background\": \"white\", \"config\": {\"mark\": {\"fill\": \"#9ebcda\"}, \"axisX\": {\"labelFont\": \"monospace\", \"labelFontSize\": 16, \"titleFontSize\": 20, \"grid\": false}, \"axisY\": {\"domain\": false, \"grid\": false, \"labelFont\": \"monospace\", \"labelFontSize\": 16, \"titleFontSize\": 20}, \"legend\": {\"titleFontSize\": 20, \"labelFontSize\": 16}, \"style\": {\"cell\": {\"height\": 300, \"width\": 300}, \"line\": {\"fill\": null, \"stroke\": \"black\"}, \"group-title\": {\"fontSize\": 18, \"font\": \"monospace\", \"fontColor\": \"#000000\"}}}}, {\"mode\": \"vega\"});\n",
       "</script>"
      ],
      "text/plain": [
       "alt.Chart(...)"
      ]
     },
     "execution_count": 123,
     "metadata": {},
     "output_type": "execute_result"
    }
   ],
   "source": [
    "alt.Chart(df_N_fixed).mark_line().encode(\n",
    "    x=alt.X('E:Q'),\n",
    "    y=alt.Y('time:Q'),\n",
    ")"
   ]
  },
  {
   "cell_type": "markdown",
   "id": "3f324952-9044-464b-a928-07a6ce86d225",
   "metadata": {},
   "source": [
    "# Change N and E"
   ]
  },
  {
   "cell_type": "code",
   "execution_count": 72,
   "id": "32c8a379-a570-4176-bd2c-e90908dbbebe",
   "metadata": {},
   "outputs": [],
   "source": [
    "N_coms = 4\n",
    "p = 100 / N\n",
    "q = 0.1 * p\n",
    "\n",
    "Es = [200, 500, 1000, 2000, 3000, 4000, 5000]\n",
    "Ns = [200, 500, 1000, 2000, 3000, 4000, 5000]"
   ]
  },
  {
   "cell_type": "code",
   "execution_count": 73,
   "id": "7c7e2410-0b10-4034-83c1-d7c5f412bd6a",
   "metadata": {},
   "outputs": [
    {
     "name": "stdout",
     "output_type": "stream",
     "text": [
      "200 200\n",
      "0.02366244900622405\n",
      "500 500\n",
      "0.1685958199959714\n",
      "1000 1000\n",
      "0.5476375879952684\n",
      "2000 2000\n",
      "2.5114922559878323\n",
      "3000 3000\n",
      "6.43221969800652\n",
      "4000 4000\n",
      "12.797013485993375\n",
      "5000 5000\n",
      "21.035206211003242\n"
     ]
    }
   ],
   "source": [
    "times = []\n",
    "for N, E in zip(Ns, Es):\n",
    "    print(N, E)\n",
    "\n",
    "    community_array = []\n",
    "    for i in range(N_coms):\n",
    "        community_array += [i for x in range(N // N_coms)]\n",
    "\n",
    "    start = timeit.default_timer()\n",
    "    gen = Generator(N, E, N_coms, p, q, community_array, \"weighted\")\n",
    "    gen.run()\n",
    "    stop = timeit.default_timer()\n",
    "\n",
    "    time = stop - start\n",
    "    times.append(time)\n",
    "    print(time)"
   ]
  },
  {
   "cell_type": "code",
   "execution_count": 74,
   "id": "d2c477dd-fe36-4670-901e-d8f685b854e7",
   "metadata": {},
   "outputs": [],
   "source": [
    "df_NE = pd.DataFrame({\"E\": Es, \"N\": Ns, \"time\": times}) "
   ]
  },
  {
   "cell_type": "code",
   "execution_count": 126,
   "id": "ff525dd8-e85a-4a93-b0d2-40d9efb557d8",
   "metadata": {},
   "outputs": [
    {
     "data": {
      "text/html": [
       "\n",
       "<style>\n",
       "  #altair-viz-9864cc7e202a47b890892afb84179a7e.vega-embed {\n",
       "    width: 100%;\n",
       "    display: flex;\n",
       "  }\n",
       "\n",
       "  #altair-viz-9864cc7e202a47b890892afb84179a7e.vega-embed details,\n",
       "  #altair-viz-9864cc7e202a47b890892afb84179a7e.vega-embed details summary {\n",
       "    position: relative;\n",
       "  }\n",
       "</style>\n",
       "<div id=\"altair-viz-9864cc7e202a47b890892afb84179a7e\"></div>\n",
       "<script type=\"text/javascript\">\n",
       "  var VEGA_DEBUG = (typeof VEGA_DEBUG == \"undefined\") ? {} : VEGA_DEBUG;\n",
       "  (function(spec, embedOpt){\n",
       "    let outputDiv = document.currentScript.previousElementSibling;\n",
       "    if (outputDiv.id !== \"altair-viz-9864cc7e202a47b890892afb84179a7e\") {\n",
       "      outputDiv = document.getElementById(\"altair-viz-9864cc7e202a47b890892afb84179a7e\");\n",
       "    }\n",
       "    const paths = {\n",
       "      \"vega\": \"https://cdn.jsdelivr.net/npm/vega@5?noext\",\n",
       "      \"vega-lib\": \"https://cdn.jsdelivr.net/npm/vega-lib?noext\",\n",
       "      \"vega-lite\": \"https://cdn.jsdelivr.net/npm/vega-lite@5.15.1?noext\",\n",
       "      \"vega-embed\": \"https://cdn.jsdelivr.net/npm/vega-embed@6?noext\",\n",
       "    };\n",
       "\n",
       "    function maybeLoadScript(lib, version) {\n",
       "      var key = `${lib.replace(\"-\", \"\")}_version`;\n",
       "      return (VEGA_DEBUG[key] == version) ?\n",
       "        Promise.resolve(paths[lib]) :\n",
       "        new Promise(function(resolve, reject) {\n",
       "          var s = document.createElement('script');\n",
       "          document.getElementsByTagName(\"head\")[0].appendChild(s);\n",
       "          s.async = true;\n",
       "          s.onload = () => {\n",
       "            VEGA_DEBUG[key] = version;\n",
       "            return resolve(paths[lib]);\n",
       "          };\n",
       "          s.onerror = () => reject(`Error loading script: ${paths[lib]}`);\n",
       "          s.src = paths[lib];\n",
       "        });\n",
       "    }\n",
       "\n",
       "    function showError(err) {\n",
       "      outputDiv.innerHTML = `<div class=\"error\" style=\"color:red;\">${err}</div>`;\n",
       "      throw err;\n",
       "    }\n",
       "\n",
       "    function displayChart(vegaEmbed) {\n",
       "      vegaEmbed(outputDiv, spec, embedOpt)\n",
       "        .catch(err => showError(`Javascript Error: ${err.message}<br>This usually means there's a typo in your chart specification. See the javascript console for the full traceback.`));\n",
       "    }\n",
       "\n",
       "    if(typeof define === \"function\" && define.amd) {\n",
       "      requirejs.config({paths});\n",
       "      require([\"vega-embed\"], displayChart, err => showError(`Error loading script: ${err.message}`));\n",
       "    } else {\n",
       "      maybeLoadScript(\"vega\", \"5\")\n",
       "        .then(() => maybeLoadScript(\"vega-lite\", \"5.15.1\"))\n",
       "        .then(() => maybeLoadScript(\"vega-embed\", \"6\"))\n",
       "        .catch(showError)\n",
       "        .then(() => displayChart(vegaEmbed));\n",
       "    }\n",
       "  })({\"$schema\": \"https://vega.github.io/schema/vega/v5.json\", \"data\": [{\"name\": \"source_0\", \"values\": [{\"N\": 200, \"time\": 0.02366244900622405}, {\"N\": 500, \"time\": 0.1685958199959714}, {\"N\": 1000, \"time\": 0.5476375879952684}, {\"N\": 2000, \"time\": 2.5114922559878323}, {\"N\": 3000, \"time\": 6.43221969800652}, {\"N\": 4000, \"time\": 12.797013485993375}, {\"N\": 5000, \"time\": 21.035206211003242}]}, {\"name\": \"source_0_x_domain_N\", \"values\": [{\"min\": 200, \"max\": 5000}]}, {\"name\": \"source_0_y_domain_time\", \"values\": [{\"min\": 0.02366244900622405, \"max\": 21.035206211003242}]}], \"marks\": [{\"type\": \"line\", \"name\": \"marks\", \"from\": {\"data\": \"source_0\"}, \"sort\": {\"field\": \"datum[\\\"N\\\"]\"}, \"encode\": {\"update\": {\"opacity\": {\"value\": 1}, \"stroke\": {\"value\": \"#9ebcda\"}, \"strokeWidth\": {\"value\": 3}, \"description\": {\"signal\": \"\\\"N: \\\" + (format(datum[\\\"N\\\"], \\\"\\\")) + \\\"; Time (s): \\\" + (format(datum[\\\"time\\\"], \\\"\\\"))\"}, \"y\": {\"field\": \"time\", \"scale\": \"y\"}, \"x\": {\"field\": \"N\", \"scale\": \"x\"}, \"defined\": {\"signal\": \"isValid(datum[\\\"N\\\"]) && isFinite(+datum[\\\"N\\\"]) && isValid(datum[\\\"time\\\"]) && isFinite(+datum[\\\"time\\\"])\"}}}, \"style\": [\"line\"]}], \"scales\": [{\"name\": \"x\", \"type\": \"linear\", \"domain\": [{\"signal\": \"(data(\\\"source_0_x_domain_N\\\")[0] || {}).min\"}, {\"signal\": \"(data(\\\"source_0_x_domain_N\\\")[0] || {}).max\"}], \"range\": [0, {\"signal\": \"width\"}], \"nice\": true, \"zero\": false}, {\"name\": \"y\", \"type\": \"linear\", \"domain\": [{\"signal\": \"(data(\\\"source_0_y_domain_time\\\")[0] || {}).min\"}, {\"signal\": \"(data(\\\"source_0_y_domain_time\\\")[0] || {}).max\"}], \"range\": [{\"signal\": \"height\"}, 0], \"zero\": true, \"nice\": true}], \"axes\": [{\"scale\": \"x\", \"grid\": false, \"orient\": \"bottom\", \"labelFlush\": true, \"labelOverlap\": true, \"title\": \"N\", \"tickCount\": {\"signal\": \"ceil(width/40)\"}, \"zindex\": 0}, {\"scale\": \"y\", \"labelOverlap\": true, \"zindex\": 0, \"title\": \"Time (s)\", \"tickCount\": {\"signal\": \"ceil(height/40)\"}, \"grid\": false, \"orient\": \"left\"}], \"height\": 300, \"background\": \"white\", \"style\": \"cell\", \"config\": {\"mark\": {\"fill\": \"#9ebcda\"}, \"axisX\": {\"labelFont\": \"monospace\", \"labelFontSize\": 16, \"titleFontSize\": 20, \"grid\": false}, \"axisY\": {\"domain\": false, \"grid\": false, \"labelFont\": \"monospace\", \"labelFontSize\": 16, \"titleFontSize\": 20}, \"legend\": {\"titleFontSize\": 20, \"labelFontSize\": 16}, \"style\": {\"cell\": {\"height\": 300, \"width\": 300}, \"line\": {\"fill\": null, \"stroke\": \"black\"}, \"group-title\": {\"fontSize\": 18, \"font\": \"monospace\", \"fontColor\": \"#000000\"}}}, \"width\": 300, \"padding\": 5}, {\"mode\": \"vega\"});\n",
       "</script>"
      ],
      "text/plain": [
       "alt.Chart(...)"
      ]
     },
     "execution_count": 126,
     "metadata": {},
     "output_type": "execute_result"
    }
   ],
   "source": [
    "chart = alt.Chart(df_NE).mark_line(color=markColor, opacity=1, size=3).encode(\n",
    "    x=alt.X('N:Q'),\n",
    "    y=alt.Y('time:Q', title=\"Time (s)\"),\n",
    ")\n",
    "chart"
   ]
  },
  {
   "cell_type": "code",
   "execution_count": 89,
   "id": "b26bdd6c-4b2b-4d2e-81c1-769e017b0735",
   "metadata": {},
   "outputs": [
    {
     "data": {
      "text/html": [
       "\n",
       "<style>\n",
       "  #altair-viz-b1f8a040d51a4ac9bf30b6876f24f754.vega-embed {\n",
       "    width: 100%;\n",
       "    display: flex;\n",
       "  }\n",
       "\n",
       "  #altair-viz-b1f8a040d51a4ac9bf30b6876f24f754.vega-embed details,\n",
       "  #altair-viz-b1f8a040d51a4ac9bf30b6876f24f754.vega-embed details summary {\n",
       "    position: relative;\n",
       "  }\n",
       "</style>\n",
       "<div id=\"altair-viz-b1f8a040d51a4ac9bf30b6876f24f754\"></div>\n",
       "<script type=\"text/javascript\">\n",
       "  var VEGA_DEBUG = (typeof VEGA_DEBUG == \"undefined\") ? {} : VEGA_DEBUG;\n",
       "  (function(spec, embedOpt){\n",
       "    let outputDiv = document.currentScript.previousElementSibling;\n",
       "    if (outputDiv.id !== \"altair-viz-b1f8a040d51a4ac9bf30b6876f24f754\") {\n",
       "      outputDiv = document.getElementById(\"altair-viz-b1f8a040d51a4ac9bf30b6876f24f754\");\n",
       "    }\n",
       "    const paths = {\n",
       "      \"vega\": \"https://cdn.jsdelivr.net/npm/vega@5?noext\",\n",
       "      \"vega-lib\": \"https://cdn.jsdelivr.net/npm/vega-lib?noext\",\n",
       "      \"vega-lite\": \"https://cdn.jsdelivr.net/npm/vega-lite@5.15.1?noext\",\n",
       "      \"vega-embed\": \"https://cdn.jsdelivr.net/npm/vega-embed@6?noext\",\n",
       "    };\n",
       "\n",
       "    function maybeLoadScript(lib, version) {\n",
       "      var key = `${lib.replace(\"-\", \"\")}_version`;\n",
       "      return (VEGA_DEBUG[key] == version) ?\n",
       "        Promise.resolve(paths[lib]) :\n",
       "        new Promise(function(resolve, reject) {\n",
       "          var s = document.createElement('script');\n",
       "          document.getElementsByTagName(\"head\")[0].appendChild(s);\n",
       "          s.async = true;\n",
       "          s.onload = () => {\n",
       "            VEGA_DEBUG[key] = version;\n",
       "            return resolve(paths[lib]);\n",
       "          };\n",
       "          s.onerror = () => reject(`Error loading script: ${paths[lib]}`);\n",
       "          s.src = paths[lib];\n",
       "        });\n",
       "    }\n",
       "\n",
       "    function showError(err) {\n",
       "      outputDiv.innerHTML = `<div class=\"error\" style=\"color:red;\">${err}</div>`;\n",
       "      throw err;\n",
       "    }\n",
       "\n",
       "    function displayChart(vegaEmbed) {\n",
       "      vegaEmbed(outputDiv, spec, embedOpt)\n",
       "        .catch(err => showError(`Javascript Error: ${err.message}<br>This usually means there's a typo in your chart specification. See the javascript console for the full traceback.`));\n",
       "    }\n",
       "\n",
       "    if(typeof define === \"function\" && define.amd) {\n",
       "      requirejs.config({paths});\n",
       "      require([\"vega-embed\"], displayChart, err => showError(`Error loading script: ${err.message}`));\n",
       "    } else {\n",
       "      maybeLoadScript(\"vega\", \"5\")\n",
       "        .then(() => maybeLoadScript(\"vega-lite\", \"5.15.1\"))\n",
       "        .then(() => maybeLoadScript(\"vega-embed\", \"6\"))\n",
       "        .catch(showError)\n",
       "        .then(() => displayChart(vegaEmbed));\n",
       "    }\n",
       "  })({\"$schema\": \"https://vega.github.io/schema/vega/v5.json\", \"data\": [{\"name\": \"source_0\", \"values\": [{\"E\": 200, \"N\": 200, \"time\": 0.02366244900622405}, {\"E\": 500, \"N\": 500, \"time\": 0.1685958199959714}, {\"E\": 1000, \"N\": 1000, \"time\": 0.5476375879952684}, {\"E\": 2000, \"N\": 2000, \"time\": 2.5114922559878323}, {\"E\": 3000, \"N\": 3000, \"time\": 6.43221969800652}, {\"E\": 4000, \"N\": 4000, \"time\": 12.797013485993375}, {\"E\": 5000, \"N\": 5000, \"time\": 21.035206211003242}]}, {\"name\": \"data_0\", \"source\": \"source_0\", \"transform\": [{\"type\": \"regression\", \"y\": \"time\", \"x\": \"N\", \"as\": [\"N\", \"time\"], \"method\": \"quad\"}, {\"type\": \"project\", \"fields\": [\"N\", \"time\"]}]}], \"marks\": [{\"type\": \"line\", \"name\": \"layer_0_marks\", \"from\": {\"data\": \"source_0\"}, \"sort\": {\"field\": \"datum[\\\"N\\\"]\"}, \"encode\": {\"update\": {\"description\": {\"signal\": \"\\\"N: \\\" + (format(datum[\\\"N\\\"], \\\"\\\")) + \\\"; time: \\\" + (format(datum[\\\"time\\\"], \\\"\\\"))\"}, \"y\": {\"field\": \"time\", \"scale\": \"y\"}, \"x\": {\"field\": \"N\", \"scale\": \"x\"}, \"stroke\": {\"value\": \"#4c78a8\"}, \"defined\": {\"signal\": \"isValid(datum[\\\"N\\\"]) && isFinite(+datum[\\\"N\\\"]) && isValid(datum[\\\"time\\\"]) && isFinite(+datum[\\\"time\\\"])\"}}}, \"style\": [\"line\"]}, {\"type\": \"line\", \"name\": \"layer_1_marks\", \"from\": {\"data\": \"data_0\"}, \"sort\": {\"field\": \"datum[\\\"N\\\"]\"}, \"encode\": {\"update\": {\"x\": {\"field\": \"N\", \"scale\": \"x\"}, \"stroke\": {\"value\": \"#4c78a8\"}, \"y\": {\"field\": \"time\", \"scale\": \"y\"}, \"description\": {\"signal\": \"\\\"N: \\\" + (format(datum[\\\"N\\\"], \\\"\\\")) + \\\"; time: \\\" + (format(datum[\\\"time\\\"], \\\"\\\"))\"}, \"defined\": {\"signal\": \"isValid(datum[\\\"N\\\"]) && isFinite(+datum[\\\"N\\\"]) && isValid(datum[\\\"time\\\"]) && isFinite(+datum[\\\"time\\\"])\"}}}, \"style\": [\"line\"]}], \"scales\": [{\"name\": \"x\", \"type\": \"linear\", \"domain\": {\"fields\": [{\"data\": \"source_0\", \"field\": \"N\"}, {\"data\": \"data_0\", \"field\": \"N\"}]}, \"range\": [0, {\"signal\": \"width\"}], \"zero\": false, \"nice\": true}, {\"name\": \"y\", \"type\": \"linear\", \"domain\": {\"fields\": [{\"data\": \"source_0\", \"field\": \"time\"}, {\"data\": \"data_0\", \"field\": \"time\"}]}, \"range\": [{\"signal\": \"height\"}, 0], \"nice\": true, \"zero\": true}], \"axes\": [{\"scale\": \"x\", \"domain\": false, \"labels\": false, \"ticks\": false, \"gridScale\": \"y\", \"grid\": true, \"zindex\": 0, \"orient\": \"bottom\", \"aria\": false, \"tickCount\": {\"signal\": \"ceil(width/40)\"}, \"maxExtent\": 0, \"minExtent\": 0}, {\"scale\": \"y\", \"grid\": true, \"tickCount\": {\"signal\": \"ceil(height/40)\"}, \"domain\": false, \"orient\": \"left\", \"labels\": false, \"gridScale\": \"x\", \"minExtent\": 0, \"ticks\": false, \"zindex\": 0, \"maxExtent\": 0, \"aria\": false}, {\"scale\": \"x\", \"orient\": \"bottom\", \"zindex\": 0, \"tickCount\": {\"signal\": \"ceil(width/40)\"}, \"grid\": false, \"labelOverlap\": true, \"labelFlush\": true, \"title\": \"N\"}, {\"scale\": \"y\", \"orient\": \"left\", \"tickCount\": {\"signal\": \"ceil(height/40)\"}, \"labelOverlap\": true, \"zindex\": 0, \"grid\": false, \"title\": \"time\"}], \"height\": 300, \"padding\": 5, \"style\": \"cell\", \"width\": 300, \"background\": \"white\"}, {\"mode\": \"vega\"});\n",
       "</script>"
      ],
      "text/plain": [
       "alt.LayerChart(...)"
      ]
     },
     "execution_count": 89,
     "metadata": {},
     "output_type": "execute_result"
    }
   ],
   "source": [
    "chart + chart.transform_regression('N', 'time', method=\"quad\").mark_line()"
   ]
  },
  {
   "cell_type": "code",
   "execution_count": 127,
   "id": "51b6afd3-63bf-498b-9ae5-4c4b0e055fc4",
   "metadata": {},
   "outputs": [],
   "source": [
    "# degree 2 polynomial fit or quadratic fit \n",
    "model = np.poly1d(np.polyfit(df_NE['N'], \n",
    "                             df_NE['time'], 2)) "
   ]
  },
  {
   "cell_type": "code",
   "execution_count": 128,
   "id": "89d6bdf2-bce2-4de0-91e4-f197be70c444",
   "metadata": {},
   "outputs": [
    {
     "data": {
      "text/plain": [
       "array([ 1.02301370e-06, -9.82813467e-04,  3.40510243e-01])"
      ]
     },
     "execution_count": 128,
     "metadata": {},
     "output_type": "execute_result"
    }
   ],
   "source": [
    "model.coefficients"
   ]
  },
  {
   "cell_type": "code",
   "execution_count": 129,
   "id": "14d20ebb-c68f-4ee5-90da-3a4a770068d4",
   "metadata": {},
   "outputs": [],
   "source": [
    "def apply_fit(x):\n",
    "    return model.coefficients[0] * x**2 + model.coefficients[1] * x + model.coefficients[2]\n",
    "\n",
    "df_NE[\"fit\"] = df_NE[\"N\"].apply(apply_fit)"
   ]
  },
  {
   "cell_type": "code",
   "execution_count": 138,
   "id": "c81b8681-2239-4e26-8f24-3b4cdffabf02",
   "metadata": {},
   "outputs": [],
   "source": [
    "line = alt.Chart(df_NE).mark_line(opacity=1, size=3, color=markColor).encode(\n",
    "    x=alt.X('fit:Q'),\n",
    "    y=alt.Y('time:Q'),\n",
    ")\n",
    "\n",
    "point = alt.Chart(df_NE).mark_point(\n",
    "    size=80, opacity=0.8, stroke=\"black\", shape=\"triangle\").encode(\n",
    "    x=alt.X(\"fit\", title=\"1.01E-6N^2 - 9.82E-4N + 3.40E-1\"),\n",
    "    y=alt.Y(\n",
    "        \"time\",\n",
    "        title=\"Time (s)\",\n",
    "    )\n",
    ")"
   ]
  },
  {
   "cell_type": "code",
   "execution_count": 139,
   "id": "554e2ca8-a7ee-4b2c-a174-e1bfdc70381b",
   "metadata": {},
   "outputs": [
    {
     "data": {
      "text/html": [
       "\n",
       "<style>\n",
       "  #altair-viz-e0f7d4a06c74413294a32db8dc757273.vega-embed {\n",
       "    width: 100%;\n",
       "    display: flex;\n",
       "  }\n",
       "\n",
       "  #altair-viz-e0f7d4a06c74413294a32db8dc757273.vega-embed details,\n",
       "  #altair-viz-e0f7d4a06c74413294a32db8dc757273.vega-embed details summary {\n",
       "    position: relative;\n",
       "  }\n",
       "</style>\n",
       "<div id=\"altair-viz-e0f7d4a06c74413294a32db8dc757273\"></div>\n",
       "<script type=\"text/javascript\">\n",
       "  var VEGA_DEBUG = (typeof VEGA_DEBUG == \"undefined\") ? {} : VEGA_DEBUG;\n",
       "  (function(spec, embedOpt){\n",
       "    let outputDiv = document.currentScript.previousElementSibling;\n",
       "    if (outputDiv.id !== \"altair-viz-e0f7d4a06c74413294a32db8dc757273\") {\n",
       "      outputDiv = document.getElementById(\"altair-viz-e0f7d4a06c74413294a32db8dc757273\");\n",
       "    }\n",
       "    const paths = {\n",
       "      \"vega\": \"https://cdn.jsdelivr.net/npm/vega@5?noext\",\n",
       "      \"vega-lib\": \"https://cdn.jsdelivr.net/npm/vega-lib?noext\",\n",
       "      \"vega-lite\": \"https://cdn.jsdelivr.net/npm/vega-lite@5.15.1?noext\",\n",
       "      \"vega-embed\": \"https://cdn.jsdelivr.net/npm/vega-embed@6?noext\",\n",
       "    };\n",
       "\n",
       "    function maybeLoadScript(lib, version) {\n",
       "      var key = `${lib.replace(\"-\", \"\")}_version`;\n",
       "      return (VEGA_DEBUG[key] == version) ?\n",
       "        Promise.resolve(paths[lib]) :\n",
       "        new Promise(function(resolve, reject) {\n",
       "          var s = document.createElement('script');\n",
       "          document.getElementsByTagName(\"head\")[0].appendChild(s);\n",
       "          s.async = true;\n",
       "          s.onload = () => {\n",
       "            VEGA_DEBUG[key] = version;\n",
       "            return resolve(paths[lib]);\n",
       "          };\n",
       "          s.onerror = () => reject(`Error loading script: ${paths[lib]}`);\n",
       "          s.src = paths[lib];\n",
       "        });\n",
       "    }\n",
       "\n",
       "    function showError(err) {\n",
       "      outputDiv.innerHTML = `<div class=\"error\" style=\"color:red;\">${err}</div>`;\n",
       "      throw err;\n",
       "    }\n",
       "\n",
       "    function displayChart(vegaEmbed) {\n",
       "      vegaEmbed(outputDiv, spec, embedOpt)\n",
       "        .catch(err => showError(`Javascript Error: ${err.message}<br>This usually means there's a typo in your chart specification. See the javascript console for the full traceback.`));\n",
       "    }\n",
       "\n",
       "    if(typeof define === \"function\" && define.amd) {\n",
       "      requirejs.config({paths});\n",
       "      require([\"vega-embed\"], displayChart, err => showError(`Error loading script: ${err.message}`));\n",
       "    } else {\n",
       "      maybeLoadScript(\"vega\", \"5\")\n",
       "        .then(() => maybeLoadScript(\"vega-lite\", \"5.15.1\"))\n",
       "        .then(() => maybeLoadScript(\"vega-embed\", \"6\"))\n",
       "        .catch(showError)\n",
       "        .then(() => displayChart(vegaEmbed));\n",
       "    }\n",
       "  })({\"$schema\": \"https://vega.github.io/schema/vega/v5.json\", \"data\": [{\"name\": \"source_0\", \"values\": [{\"fit\": 0.1848680974779351, \"time\": 0.02366244900622405}, {\"fit\": 0.10485693349193981, \"time\": 0.1685958199959714}, {\"fit\": 0.38071047181728396, \"time\": 0.5476375879952684}, {\"fit\": 2.466938092100483, \"time\": 2.5114922559878323}, {\"fit\": 6.599193103893696, \"time\": 6.43221969800652}, {\"fit\": 12.777475507196925, \"time\": 12.797013485993375}, {\"fit\": 21.00178530201017, \"time\": 21.035206211003242}]}, {\"name\": \"data_0\", \"values\": [{\"fit\": 0.1848680974779351, \"time\": 0.02366244900622405}, {\"fit\": 0.10485693349193981, \"time\": 0.1685958199959714}, {\"fit\": 0.38071047181728396, \"time\": 0.5476375879952684}, {\"fit\": 2.466938092100483, \"time\": 2.5114922559878323}, {\"fit\": 6.599193103893696, \"time\": 6.43221969800652}, {\"fit\": 12.777475507196925, \"time\": 12.797013485993375}, {\"fit\": 21.00178530201017, \"time\": 21.035206211003242}]}], \"marks\": [{\"type\": \"line\", \"name\": \"layer_0_marks\", \"from\": {\"data\": \"source_0\"}, \"sort\": {\"field\": \"datum[\\\"fit\\\"]\"}, \"encode\": {\"update\": {\"y\": {\"field\": \"time\", \"scale\": \"y\"}, \"strokeWidth\": {\"value\": 3}, \"x\": {\"field\": \"fit\", \"scale\": \"x\"}, \"defined\": {\"signal\": \"isValid(datum[\\\"fit\\\"]) && isFinite(+datum[\\\"fit\\\"]) && isValid(datum[\\\"time\\\"]) && isFinite(+datum[\\\"time\\\"])\"}, \"opacity\": {\"value\": 1}, \"description\": {\"signal\": \"\\\"fit: \\\" + (format(datum[\\\"fit\\\"], \\\"\\\")) + \\\"; time: \\\" + (format(datum[\\\"time\\\"], \\\"\\\"))\"}, \"stroke\": {\"value\": \"#9ebcda\"}}}, \"style\": [\"line\"]}, {\"type\": \"symbol\", \"name\": \"layer_1_marks\", \"from\": {\"data\": \"data_0\"}, \"encode\": {\"update\": {\"size\": {\"value\": 80}, \"description\": {\"signal\": \"\\\"1.01E-6N^2 - 9.82E-4N + 3.40E-1: \\\" + (format(datum[\\\"fit\\\"], \\\"\\\")) + \\\"; Time (s): \\\" + (format(datum[\\\"time\\\"], \\\"\\\"))\"}, \"opacity\": {\"value\": 0.8}, \"stroke\": {\"value\": \"black\"}, \"shape\": {\"value\": \"triangle\"}, \"y\": {\"field\": \"time\", \"scale\": \"y\"}, \"fill\": {\"value\": \"#9ebcda\"}, \"ariaRoleDescription\": {\"value\": \"point\"}, \"x\": {\"field\": \"fit\", \"scale\": \"x\"}}}, \"style\": [\"point\"]}], \"scales\": [{\"name\": \"x\", \"type\": \"linear\", \"domain\": {\"fields\": [{\"data\": \"source_0\", \"field\": \"fit\"}, {\"data\": \"data_0\", \"field\": \"fit\"}]}, \"range\": [0, {\"signal\": \"width\"}], \"nice\": true, \"zero\": false}, {\"name\": \"y\", \"type\": \"linear\", \"domain\": {\"fields\": [{\"data\": \"source_0\", \"field\": \"time\"}, {\"data\": \"data_0\", \"field\": \"time\"}]}, \"range\": [{\"signal\": \"height\"}, 0], \"zero\": true, \"nice\": true}], \"axes\": [{\"scale\": \"x\", \"grid\": false, \"title\": \"1.01E-6N^2 - 9.82E-4N + 3.40E-1\", \"labelFlush\": true, \"tickCount\": {\"signal\": \"ceil(width/40)\"}, \"zindex\": 0, \"orient\": \"bottom\", \"labelOverlap\": true}, {\"scale\": \"y\", \"zindex\": 0, \"labelOverlap\": true, \"title\": \"Time (s)\", \"orient\": \"left\", \"grid\": false, \"tickCount\": {\"signal\": \"ceil(height/40)\"}}], \"width\": 300, \"config\": {\"mark\": {\"fill\": \"#9ebcda\"}, \"axisX\": {\"labelFont\": \"monospace\", \"labelFontSize\": 16, \"titleFontSize\": 20, \"grid\": false}, \"axisY\": {\"domain\": false, \"grid\": false, \"labelFont\": \"monospace\", \"labelFontSize\": 16, \"titleFontSize\": 20}, \"legend\": {\"titleFontSize\": 20, \"labelFontSize\": 16}, \"style\": {\"cell\": {\"height\": 300, \"width\": 300}, \"line\": {\"fill\": null, \"stroke\": \"black\"}, \"group-title\": {\"fontSize\": 18, \"font\": \"monospace\", \"fontColor\": \"#000000\"}}}, \"height\": 300, \"padding\": 5, \"background\": \"white\", \"style\": \"cell\"}, {\"mode\": \"vega\"});\n",
       "</script>"
      ],
      "text/plain": [
       "alt.LayerChart(...)"
      ]
     },
     "execution_count": 139,
     "metadata": {},
     "output_type": "execute_result"
    }
   ],
   "source": [
    "line + point"
   ]
  },
  {
   "cell_type": "code",
   "execution_count": 84,
   "id": "7415c689-09c3-4eda-bdc2-2dbff1125aa3",
   "metadata": {},
   "outputs": [
    {
     "data": {
      "text/plain": [
       "array([480.35205739+319.54973377j, 480.35205739-319.54973377j])"
      ]
     },
     "execution_count": 84,
     "metadata": {},
     "output_type": "execute_result"
    }
   ],
   "source": [
    "model.r"
   ]
  },
  {
   "cell_type": "code",
   "execution_count": null,
   "id": "0765e1dd-6234-4559-a9ff-eeedae78f1f6",
   "metadata": {},
   "outputs": [],
   "source": [
    "model = np.poly1d(np.polyfit(hours, happ, 2))"
   ]
  },
  {
   "cell_type": "code",
   "execution_count": null,
   "id": "d9eaa521-69ba-4506-bdfb-64a6aa0829f3",
   "metadata": {},
   "outputs": [],
   "source": [
    "alt.Chart(df_NE).mark_line().encode(\n",
    "    x=alt.X('N:Q'),\n",
    "    y=alt.Y('time:Q'),\n",
    ")"
   ]
  }
 ],
 "metadata": {
  "kernelspec": {
   "display_name": "Python 3 (ipykernel)",
   "language": "python",
   "name": "python3"
  },
  "language_info": {
   "codemirror_mode": {
    "name": "ipython",
    "version": 3
   },
   "file_extension": ".py",
   "mimetype": "text/x-python",
   "name": "python",
   "nbconvert_exporter": "python",
   "pygments_lexer": "ipython3",
   "version": "3.11.5"
  }
 },
 "nbformat": 4,
 "nbformat_minor": 5
}
